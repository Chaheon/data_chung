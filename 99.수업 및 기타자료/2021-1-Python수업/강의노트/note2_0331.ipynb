{
 "cells": [
  {
   "cell_type": "markdown",
   "id": "cubic-nebraska",
   "metadata": {
    "id": "olympic-reality"
   },
   "source": [
    "# 2. `1차원`자료형 "
   ]
  },
  {
   "cell_type": "markdown",
   "id": "turkish-russia",
   "metadata": {
    "id": "digital-kuwait"
   },
   "source": [
    "### (1) `str`"
   ]
  },
  {
   "cell_type": "markdown",
   "id": "liberal-breathing",
   "metadata": {
    "id": "preceding-purple"
   },
   "source": [
    "### (2) `list`"
   ]
  },
  {
   "cell_type": "markdown",
   "id": "quiet-noise",
   "metadata": {
    "id": "noble-estate",
    "tags": []
   },
   "source": [
    "### (3) `tuple`"
   ]
  },
  {
   "cell_type": "markdown",
   "id": "bright-genius",
   "metadata": {
    "id": "neutral-school"
   },
   "source": [
    "### (4) `set`"
   ]
  },
  {
   "cell_type": "code",
   "execution_count": 1,
   "id": "placed-field",
   "metadata": {
    "id": "chronic-newspaper"
   },
   "outputs": [],
   "source": [
    "A={'a','b','c','d'}"
   ]
  },
  {
   "cell_type": "code",
   "execution_count": 2,
   "id": "defined-dietary",
   "metadata": {
    "colab": {
     "base_uri": "https://localhost:8080/"
    },
    "id": "answering-ministry",
    "outputId": "c2cc1cab-1977-4e83-d0b2-6915e3251e4c"
   },
   "outputs": [
    {
     "data": {
      "text/plain": [
       "{'a', 'b', 'c', 'd'}"
      ]
     },
     "execution_count": 2,
     "metadata": {},
     "output_type": "execute_result"
    }
   ],
   "source": [
    "A"
   ]
  },
  {
   "cell_type": "code",
   "execution_count": 3,
   "id": "postal-member",
   "metadata": {
    "id": "affiliated-vegetable"
   },
   "outputs": [],
   "source": [
    "B={'c','d','e','f'}"
   ]
  },
  {
   "cell_type": "code",
   "execution_count": 4,
   "id": "twelve-fault",
   "metadata": {
    "colab": {
     "base_uri": "https://localhost:8080/"
    },
    "id": "caring-assist",
    "outputId": "f84dbf53-62b2-46ff-bcdf-f5c7b3e87e85"
   },
   "outputs": [
    {
     "data": {
      "text/plain": [
       "{'a', 'b', 'c', 'd', 'e', 'f'}"
      ]
     },
     "execution_count": 4,
     "metadata": {},
     "output_type": "execute_result"
    }
   ],
   "source": [
    "A.union(B)"
   ]
  },
  {
   "cell_type": "code",
   "execution_count": 5,
   "id": "divine-ratio",
   "metadata": {
    "colab": {
     "base_uri": "https://localhost:8080/"
    },
    "id": "labeled-allocation",
    "outputId": "491f7092-1250-40a5-bac3-23fa1a9ebb9f"
   },
   "outputs": [
    {
     "data": {
      "text/plain": [
       "{'a', 'b', 'c', 'd', 'e', 'f'}"
      ]
     },
     "execution_count": 5,
     "metadata": {},
     "output_type": "execute_result"
    }
   ],
   "source": [
    "A|B"
   ]
  },
  {
   "cell_type": "code",
   "execution_count": 6,
   "id": "allied-velvet",
   "metadata": {
    "colab": {
     "base_uri": "https://localhost:8080/",
     "height": 164
    },
    "id": "talented-usage",
    "outputId": "b359f2fd-35f7-41d9-d4bd-77076e5392bd"
   },
   "outputs": [
    {
     "ename": "TypeError",
     "evalue": "unsupported operand type(s) for +: 'set' and 'set'",
     "output_type": "error",
     "traceback": [
      "\u001b[0;31m---------------------------------------------------------------------------\u001b[0m",
      "\u001b[0;31mTypeError\u001b[0m                                 Traceback (most recent call last)",
      "\u001b[0;32m<ipython-input-6-17a53b3d2418>\u001b[0m in \u001b[0;36m<module>\u001b[0;34m\u001b[0m\n\u001b[0;32m----> 1\u001b[0;31m \u001b[0mA\u001b[0m\u001b[0;34m+\u001b[0m\u001b[0mB\u001b[0m\u001b[0;34m\u001b[0m\u001b[0;34m\u001b[0m\u001b[0m\n\u001b[0m",
      "\u001b[0;31mTypeError\u001b[0m: unsupported operand type(s) for +: 'set' and 'set'"
     ]
    }
   ],
   "source": [
    "A+B"
   ]
  },
  {
   "cell_type": "code",
   "execution_count": 7,
   "id": "nutritional-journal",
   "metadata": {
    "colab": {
     "base_uri": "https://localhost:8080/"
    },
    "id": "thorough-france",
    "outputId": "13f575e2-0479-433d-9a59-150e640975de"
   },
   "outputs": [
    {
     "data": {
      "text/plain": [
       "{'c', 'd'}"
      ]
     },
     "execution_count": 7,
     "metadata": {},
     "output_type": "execute_result"
    }
   ],
   "source": [
    "A.intersection(B)"
   ]
  },
  {
   "cell_type": "code",
   "execution_count": 8,
   "id": "abandoned-burden",
   "metadata": {
    "colab": {
     "base_uri": "https://localhost:8080/",
     "height": 164
    },
    "id": "widespread-direction",
    "outputId": "73490b55-bfc2-4bd5-d4f2-5970f433064e"
   },
   "outputs": [
    {
     "ename": "TypeError",
     "evalue": "unsupported operand type(s) for *: 'set' and 'set'",
     "output_type": "error",
     "traceback": [
      "\u001b[0;31m---------------------------------------------------------------------------\u001b[0m",
      "\u001b[0;31mTypeError\u001b[0m                                 Traceback (most recent call last)",
      "\u001b[0;32m<ipython-input-8-47896efed660>\u001b[0m in \u001b[0;36m<module>\u001b[0;34m\u001b[0m\n\u001b[0;32m----> 1\u001b[0;31m \u001b[0mA\u001b[0m\u001b[0;34m*\u001b[0m\u001b[0mB\u001b[0m\u001b[0;34m\u001b[0m\u001b[0;34m\u001b[0m\u001b[0m\n\u001b[0m",
      "\u001b[0;31mTypeError\u001b[0m: unsupported operand type(s) for *: 'set' and 'set'"
     ]
    }
   ],
   "source": [
    "A*B"
   ]
  },
  {
   "cell_type": "code",
   "execution_count": 9,
   "id": "commercial-victoria",
   "metadata": {
    "colab": {
     "base_uri": "https://localhost:8080/"
    },
    "id": "latter-specialist",
    "outputId": "8028e8fb-0494-4d0a-96ee-9bec60e2f5a9"
   },
   "outputs": [
    {
     "data": {
      "text/plain": [
       "{'c', 'd'}"
      ]
     },
     "execution_count": 9,
     "metadata": {},
     "output_type": "execute_result"
    }
   ],
   "source": [
    "A & B"
   ]
  },
  {
   "cell_type": "code",
   "execution_count": 10,
   "id": "classified-fence",
   "metadata": {
    "colab": {
     "base_uri": "https://localhost:8080/"
    },
    "id": "working-concrete",
    "outputId": "76e06b66-3d97-41ea-cb89-94a97520e31b"
   },
   "outputs": [
    {
     "data": {
      "text/plain": [
       "{'a', 'b'}"
      ]
     },
     "execution_count": 10,
     "metadata": {},
     "output_type": "execute_result"
    }
   ],
   "source": [
    "A.difference(B)"
   ]
  },
  {
   "cell_type": "code",
   "execution_count": 11,
   "id": "filled-whole",
   "metadata": {
    "colab": {
     "base_uri": "https://localhost:8080/"
    },
    "id": "aerial-hardwood",
    "outputId": "68d029b6-9fd6-4de8-ac92-ad4dfcd6c198"
   },
   "outputs": [
    {
     "data": {
      "text/plain": [
       "{'a', 'b'}"
      ]
     },
     "execution_count": 11,
     "metadata": {},
     "output_type": "execute_result"
    }
   ],
   "source": [
    "A-B"
   ]
  },
  {
   "cell_type": "code",
   "execution_count": 3,
   "id": "religious-professional",
   "metadata": {
    "id": "noble-kennedy"
   },
   "outputs": [],
   "source": [
    "a=set('hello')"
   ]
  },
  {
   "cell_type": "code",
   "execution_count": 4,
   "id": "sought-research",
   "metadata": {
    "colab": {
     "base_uri": "https://localhost:8080/"
    },
    "id": "governing-supervision",
    "outputId": "db883c44-55d5-4ae7-99ad-338f64b3ccc2"
   },
   "outputs": [
    {
     "data": {
      "text/plain": [
       "{'e', 'h', 'l', 'o'}"
      ]
     },
     "execution_count": 4,
     "metadata": {},
     "output_type": "execute_result"
    }
   ],
   "source": [
    "a"
   ]
  },
  {
   "cell_type": "code",
   "execution_count": 14,
   "id": "standard-steps",
   "metadata": {
    "colab": {
     "base_uri": "https://localhost:8080/"
    },
    "id": "tired-african",
    "outputId": "89821089-187d-4d9f-88ef-02a99677894a"
   },
   "outputs": [
    {
     "name": "stdout",
     "output_type": "stream",
     "text": [
      "e\n",
      "o\n",
      "h\n",
      "l\n"
     ]
    }
   ],
   "source": [
    "for i in a:\n",
    "    print(i)"
   ]
  },
  {
   "cell_type": "markdown",
   "id": "excellent-investment",
   "metadata": {
    "id": "failing-albuquerque"
   },
   "source": [
    "순서가 좀 이상하다 $\\to$ 집합은 원래 순서가 없다. $\\to$ 인덱싱이 불가능하다. $\\to$ 슬라이싱도 불가능 "
   ]
  },
  {
   "cell_type": "code",
   "execution_count": 15,
   "id": "activated-theta",
   "metadata": {
    "colab": {
     "base_uri": "https://localhost:8080/",
     "height": 164
    },
    "id": "ambient-reservoir",
    "outputId": "16faab3c-2c61-4f96-f5be-51a83acb75af"
   },
   "outputs": [
    {
     "ename": "TypeError",
     "evalue": "'set' object is not subscriptable",
     "output_type": "error",
     "traceback": [
      "\u001b[0;31m---------------------------------------------------------------------------\u001b[0m",
      "\u001b[0;31mTypeError\u001b[0m                                 Traceback (most recent call last)",
      "\u001b[0;32m<ipython-input-15-6a1284577a36>\u001b[0m in \u001b[0;36m<module>\u001b[0;34m\u001b[0m\n\u001b[0;32m----> 1\u001b[0;31m \u001b[0ma\u001b[0m\u001b[0;34m[\u001b[0m\u001b[0;36m0\u001b[0m\u001b[0;34m]\u001b[0m\u001b[0;34m\u001b[0m\u001b[0;34m\u001b[0m\u001b[0m\n\u001b[0m",
      "\u001b[0;31mTypeError\u001b[0m: 'set' object is not subscriptable"
     ]
    }
   ],
   "source": [
    "a[0]"
   ]
  },
  {
   "cell_type": "markdown",
   "id": "biblical-storm",
   "metadata": {
    "id": "raising-cream"
   },
   "source": [
    "집합 컴프리헨션"
   ]
  },
  {
   "cell_type": "code",
   "execution_count": 1,
   "id": "applied-significance",
   "metadata": {
    "id": "broke-nudist"
   },
   "outputs": [],
   "source": [
    "C={2**x for x in [1,2,3,4]}"
   ]
  },
  {
   "cell_type": "code",
   "execution_count": 2,
   "id": "activated-sullivan",
   "metadata": {
    "colab": {
     "base_uri": "https://localhost:8080/"
    },
    "id": "canadian-swiss",
    "outputId": "07c0cae3-07ba-4307-8a92-ce4d6a8f2938",
    "tags": []
   },
   "outputs": [
    {
     "data": {
      "text/plain": [
       "{2, 4, 8, 16}"
      ]
     },
     "execution_count": 2,
     "metadata": {},
     "output_type": "execute_result"
    }
   ],
   "source": [
    "C"
   ]
  },
  {
   "cell_type": "markdown",
   "id": "geographic-briefs",
   "metadata": {
    "id": "internal-video"
   },
   "source": [
    "### (5) `dict` "
   ]
  },
  {
   "cell_type": "markdown",
   "id": "rural-discipline",
   "metadata": {
    "id": "planned-aaron"
   },
   "source": [
    "사전 \n",
    "- boy: 소년\n",
    "- girl: 소녀 "
   ]
  },
  {
   "cell_type": "markdown",
   "id": "cutting-solid",
   "metadata": {
    "id": "guided-abraham"
   },
   "source": [
    "girl 을 찾음 $\\to$ 소녀 "
   ]
  },
  {
   "cell_type": "code",
   "execution_count": 8,
   "id": "academic-equipment",
   "metadata": {
    "id": "stuck-triple"
   },
   "outputs": [],
   "source": [
    "mydict={'a':[1,2,3],'b':[3,4,5]}"
   ]
  },
  {
   "cell_type": "code",
   "execution_count": 9,
   "id": "printable-federation",
   "metadata": {
    "colab": {
     "base_uri": "https://localhost:8080/"
    },
    "id": "tight-arctic",
    "outputId": "1a8a4392-1bf3-487a-c801-f3743233ec70"
   },
   "outputs": [
    {
     "data": {
      "text/plain": [
       "[1, 2, 3]"
      ]
     },
     "execution_count": 9,
     "metadata": {},
     "output_type": "execute_result"
    }
   ],
   "source": [
    "mydict['a']"
   ]
  },
  {
   "cell_type": "code",
   "execution_count": 10,
   "id": "pleased-story",
   "metadata": {
    "id": "equipped-motor"
   },
   "outputs": [],
   "source": [
    "mylist=[[1,2,3],[3,4,5]]"
   ]
  },
  {
   "cell_type": "code",
   "execution_count": 11,
   "id": "exceptional-approval",
   "metadata": {
    "colab": {
     "base_uri": "https://localhost:8080/"
    },
    "id": "statutory-blowing",
    "outputId": "846d1460-a6c1-40b1-c4dd-0fc04ed07791"
   },
   "outputs": [
    {
     "data": {
      "text/plain": [
       "[1, 2, 3]"
      ]
     },
     "execution_count": 11,
     "metadata": {},
     "output_type": "execute_result"
    }
   ],
   "source": [
    "mylist[0]"
   ]
  },
  {
   "cell_type": "code",
   "execution_count": 12,
   "id": "engaged-importance",
   "metadata": {
    "colab": {
     "base_uri": "https://localhost:8080/"
    },
    "id": "meaningful-porter",
    "outputId": "2212bf4d-3e92-427c-fcca-fca0646339fe"
   },
   "outputs": [
    {
     "data": {
      "text/plain": [
       "[3, 4, 5]"
      ]
     },
     "execution_count": 12,
     "metadata": {},
     "output_type": "execute_result"
    }
   ],
   "source": [
    "mylist[1]"
   ]
  },
  {
   "cell_type": "code",
   "execution_count": 13,
   "id": "twelve-measurement",
   "metadata": {
    "colab": {
     "base_uri": "https://localhost:8080/"
    },
    "id": "adverse-syndication",
    "outputId": "5b60f3c8-bbb6-4fa2-da8c-7acda71f74e8"
   },
   "outputs": [
    {
     "data": {
      "text/plain": [
       "[1, 2, 3]"
      ]
     },
     "execution_count": 13,
     "metadata": {},
     "output_type": "execute_result"
    }
   ],
   "source": [
    "mydict['a']"
   ]
  },
  {
   "cell_type": "code",
   "execution_count": 14,
   "id": "charitable-directory",
   "metadata": {
    "colab": {
     "base_uri": "https://localhost:8080/"
    },
    "id": "focal-island",
    "outputId": "f8691548-a46e-4ec3-c439-69d842147411"
   },
   "outputs": [
    {
     "data": {
      "text/plain": [
       "[3, 4, 5]"
      ]
     },
     "execution_count": 14,
     "metadata": {},
     "output_type": "execute_result"
    }
   ],
   "source": [
    "mydict['b']"
   ]
  },
  {
   "cell_type": "code",
   "execution_count": 15,
   "id": "micro-tobacco",
   "metadata": {
    "colab": {
     "base_uri": "https://localhost:8080/"
    },
    "id": "engaged-japan",
    "outputId": "464ad1ba-351d-461e-f94b-548516fbb535"
   },
   "outputs": [
    {
     "data": {
      "text/plain": [
       "[1, 2, 3, 3, 4, 5]"
      ]
     },
     "execution_count": 15,
     "metadata": {},
     "output_type": "execute_result"
    }
   ],
   "source": [
    "mylist[0]+mylist[1]"
   ]
  },
  {
   "cell_type": "code",
   "execution_count": 18,
   "id": "decimal-divorce",
   "metadata": {
    "colab": {
     "base_uri": "https://localhost:8080/"
    },
    "id": "elder-citizen",
    "outputId": "00681a18-8b0a-4cb8-fda7-4d2847a50510"
   },
   "outputs": [],
   "source": [
    "a = mydict['a']+mydict['b']"
   ]
  },
  {
   "cell_type": "code",
   "execution_count": 17,
   "id": "elementary-organizer",
   "metadata": {
    "colab": {
     "base_uri": "https://localhost:8080/"
    },
    "id": "native-purchase",
    "outputId": "63b6da50-7268-41b3-fd37-b1e532155077"
   },
   "outputs": [
    {
     "data": {
      "text/plain": [
       "{'a': [1, 2, 3], 'b': [3, 4, 5]}"
      ]
     },
     "execution_count": 17,
     "metadata": {},
     "output_type": "execute_result"
    }
   ],
   "source": [
    "mydict"
   ]
  },
  {
   "cell_type": "code",
   "execution_count": 21,
   "id": "focused-column",
   "metadata": {
    "colab": {
     "base_uri": "https://localhost:8080/",
     "height": 164
    },
    "id": "numerical-trail",
    "outputId": "0d302483-67f3-4d6b-a597-0ae2fe1f57d4"
   },
   "outputs": [
    {
     "ename": "KeyError",
     "evalue": "0",
     "output_type": "error",
     "traceback": [
      "\u001b[1;31m---------------------------------------------------------------------------\u001b[0m",
      "\u001b[1;31mKeyError\u001b[0m                                  Traceback (most recent call last)",
      "\u001b[1;32m<ipython-input-21-1529edbf7ad5>\u001b[0m in \u001b[0;36m<module>\u001b[1;34m\u001b[0m\n\u001b[1;32m----> 1\u001b[1;33m \u001b[0mmydict\u001b[0m\u001b[1;33m[\u001b[0m\u001b[1;36m0\u001b[0m\u001b[1;33m]\u001b[0m\u001b[1;33m\u001b[0m\u001b[1;33m\u001b[0m\u001b[0m\n\u001b[0m",
      "\u001b[1;31mKeyError\u001b[0m: 0"
     ]
    }
   ],
   "source": [
    "mydict[0]"
   ]
  },
  {
   "cell_type": "code",
   "execution_count": 22,
   "id": "distributed-converter",
   "metadata": {
    "colab": {
     "base_uri": "https://localhost:8080/",
     "height": 164
    },
    "id": "italic-maple",
    "outputId": "ec2f017f-6e3f-46fd-a265-8fd337c58512"
   },
   "outputs": [
    {
     "ename": "TypeError",
     "evalue": "unhashable type: 'slice'",
     "output_type": "error",
     "traceback": [
      "\u001b[1;31m---------------------------------------------------------------------------\u001b[0m",
      "\u001b[1;31mTypeError\u001b[0m                                 Traceback (most recent call last)",
      "\u001b[1;32m<ipython-input-22-0cfefbf5c1da>\u001b[0m in \u001b[0;36m<module>\u001b[1;34m\u001b[0m\n\u001b[1;32m----> 1\u001b[1;33m \u001b[0mmydict\u001b[0m\u001b[1;33m[\u001b[0m\u001b[1;34m'a'\u001b[0m\u001b[1;33m:\u001b[0m\u001b[1;34m'b'\u001b[0m\u001b[1;33m]\u001b[0m\u001b[1;33m\u001b[0m\u001b[1;33m\u001b[0m\u001b[0m\n\u001b[0m",
      "\u001b[1;31mTypeError\u001b[0m: unhashable type: 'slice'"
     ]
    }
   ],
   "source": [
    "mydict['a':'b']"
   ]
  },
  {
   "cell_type": "code",
   "execution_count": 30,
   "id": "realistic-stomach",
   "metadata": {
    "colab": {
     "base_uri": "https://localhost:8080/"
    },
    "id": "demonstrated-vegetation",
    "outputId": "8c6c0c39-4bfd-4763-9337-2f71a4868611"
   },
   "outputs": [
    {
     "data": {
      "text/plain": [
       "{'a': (1, 2, 3), 'b': (3, 4, 5)}"
      ]
     },
     "execution_count": 30,
     "metadata": {},
     "output_type": "execute_result"
    }
   ],
   "source": [
    "{'a':(1,2,3),'b':(3,4,5)}"
   ]
  },
  {
   "cell_type": "code",
   "execution_count": 31,
   "id": "happy-transport",
   "metadata": {
    "colab": {
     "base_uri": "https://localhost:8080/"
    },
    "id": "adolescent-consent",
    "outputId": "0ab8172c-9635-4b04-f16a-f1a88e4fcdd3"
   },
   "outputs": [
    {
     "data": {
      "text/plain": [
       "{'a': [1, 2, 3], 'b': [3, 4, 5]}"
      ]
     },
     "execution_count": 31,
     "metadata": {},
     "output_type": "execute_result"
    }
   ],
   "source": [
    "dict((['a',[1,2,3]],['b',[3,4,5]]))"
   ]
  },
  {
   "cell_type": "markdown",
   "id": "choice-majority",
   "metadata": {
    "id": "capital-reverse"
   },
   "source": [
    "딕셔너리 컴프리핸션"
   ]
  },
  {
   "cell_type": "code",
   "execution_count": 23,
   "id": "chubby-manufacturer",
   "metadata": {
    "id": "young-screening"
   },
   "outputs": [],
   "source": [
    "X={x:x**2 for x in (1,2,3,4)}"
   ]
  },
  {
   "cell_type": "code",
   "execution_count": 24,
   "id": "excessive-deadline",
   "metadata": {
    "colab": {
     "base_uri": "https://localhost:8080/"
    },
    "id": "muslim-tooth",
    "outputId": "1cce4c82-f96f-4cd0-bc9c-abf195b579df"
   },
   "outputs": [
    {
     "data": {
      "text/plain": [
       "{1: 1, 2: 4, 3: 9, 4: 16}"
      ]
     },
     "execution_count": 24,
     "metadata": {},
     "output_type": "execute_result"
    }
   ],
   "source": [
    "X"
   ]
  },
  {
   "cell_type": "code",
   "execution_count": 34,
   "id": "unlimited-whale",
   "metadata": {
    "colab": {
     "base_uri": "https://localhost:8080/"
    },
    "id": "neither-optimization",
    "outputId": "2b52d806-4c2e-4375-914e-60a6bf2f9f72"
   },
   "outputs": [
    {
     "data": {
      "text/plain": [
       "16"
      ]
     },
     "execution_count": 34,
     "metadata": {},
     "output_type": "execute_result"
    }
   ],
   "source": [
    "X[4]"
   ]
  },
  {
   "cell_type": "markdown",
   "id": "residential-compiler",
   "metadata": {
    "id": "entire-profession"
   },
   "source": [
    "***이거 인덱싱아니야?***\n",
    "\n",
    "인덱싱은 아님 (하지만 마치 인덱싱처럼 보이기는 함) "
   ]
  },
  {
   "cell_type": "code",
   "execution_count": 35,
   "id": "understanding-sharp",
   "metadata": {
    "colab": {
     "base_uri": "https://localhost:8080/",
     "height": 164
    },
    "id": "checked-direction",
    "outputId": "33b998e2-c391-43ea-9621-872fec4157b0"
   },
   "outputs": [
    {
     "ename": "KeyError",
     "evalue": "-1",
     "output_type": "error",
     "traceback": [
      "\u001b[0;31m---------------------------------------------------------------------------\u001b[0m",
      "\u001b[0;31mKeyError\u001b[0m                                  Traceback (most recent call last)",
      "\u001b[0;32m<ipython-input-35-5864bf9e7d00>\u001b[0m in \u001b[0;36m<module>\u001b[0;34m\u001b[0m\n\u001b[0;32m----> 1\u001b[0;31m \u001b[0mX\u001b[0m\u001b[0;34m[\u001b[0m\u001b[0;34m-\u001b[0m\u001b[0;36m1\u001b[0m\u001b[0;34m]\u001b[0m\u001b[0;34m\u001b[0m\u001b[0;34m\u001b[0m\u001b[0m\n\u001b[0m",
      "\u001b[0;31mKeyError\u001b[0m: -1"
     ]
    }
   ],
   "source": [
    "X[-1]"
   ]
  },
  {
   "cell_type": "code",
   "execution_count": 36,
   "id": "legislative-beach",
   "metadata": {
    "colab": {
     "base_uri": "https://localhost:8080/",
     "height": 164
    },
    "id": "divided-reunion",
    "outputId": "916b4260-fca3-4f85-8561-bc7beb5a5ec3"
   },
   "outputs": [
    {
     "ename": "TypeError",
     "evalue": "unhashable type: 'slice'",
     "output_type": "error",
     "traceback": [
      "\u001b[0;31m---------------------------------------------------------------------------\u001b[0m",
      "\u001b[0;31mTypeError\u001b[0m                                 Traceback (most recent call last)",
      "\u001b[0;32m<ipython-input-36-14e849fefbc5>\u001b[0m in \u001b[0;36m<module>\u001b[0;34m\u001b[0m\n\u001b[0;32m----> 1\u001b[0;31m \u001b[0mX\u001b[0m\u001b[0;34m[\u001b[0m\u001b[0;36m2\u001b[0m\u001b[0;34m:\u001b[0m\u001b[0;36m5\u001b[0m\u001b[0;34m]\u001b[0m\u001b[0;34m\u001b[0m\u001b[0;34m\u001b[0m\u001b[0m\n\u001b[0m",
      "\u001b[0;31mTypeError\u001b[0m: unhashable type: 'slice'"
     ]
    }
   ],
   "source": [
    "X[2:5]"
   ]
  },
  {
   "cell_type": "code",
   "execution_count": 25,
   "id": "dried-charity",
   "metadata": {
    "colab": {
     "base_uri": "https://localhost:8080/"
    },
    "id": "lovely-hearing",
    "outputId": "b37c050e-9f48-4f72-d1c6-5e78a3068832"
   },
   "outputs": [
    {
     "data": {
      "text/plain": [
       "[[1, 2, 3], [3, 4, 5]]"
      ]
     },
     "execution_count": 25,
     "metadata": {},
     "output_type": "execute_result"
    }
   ],
   "source": [
    "mylist"
   ]
  },
  {
   "cell_type": "code",
   "execution_count": 26,
   "id": "fresh-foster",
   "metadata": {
    "id": "equipped-roman"
   },
   "outputs": [],
   "source": [
    "mylist=[1,2,3,4,5]"
   ]
  },
  {
   "cell_type": "code",
   "execution_count": 27,
   "id": "permanent-timeline",
   "metadata": {
    "colab": {
     "base_uri": "https://localhost:8080/"
    },
    "id": "analyzed-exposure",
    "outputId": "6594039d-e663-495d-8517-505f4e5d7d72"
   },
   "outputs": [
    {
     "data": {
      "text/plain": [
       "4"
      ]
     },
     "execution_count": 27,
     "metadata": {},
     "output_type": "execute_result"
    }
   ],
   "source": [
    "mylist[-2]"
   ]
  },
  {
   "cell_type": "code",
   "execution_count": 28,
   "id": "pharmaceutical-original",
   "metadata": {
    "colab": {
     "base_uri": "https://localhost:8080/",
     "height": 164
    },
    "id": "sufficient-defense",
    "outputId": "5baeb2ff-0d2a-4a72-9896-3d59d75bae80"
   },
   "outputs": [
    {
     "ename": "KeyError",
     "evalue": "-1",
     "output_type": "error",
     "traceback": [
      "\u001b[1;31m---------------------------------------------------------------------------\u001b[0m",
      "\u001b[1;31mKeyError\u001b[0m                                  Traceback (most recent call last)",
      "\u001b[1;32m<ipython-input-28-5864bf9e7d00>\u001b[0m in \u001b[0;36m<module>\u001b[1;34m\u001b[0m\n\u001b[1;32m----> 1\u001b[1;33m \u001b[0mX\u001b[0m\u001b[1;33m[\u001b[0m\u001b[1;33m-\u001b[0m\u001b[1;36m1\u001b[0m\u001b[1;33m]\u001b[0m\u001b[1;33m\u001b[0m\u001b[1;33m\u001b[0m\u001b[0m\n\u001b[0m",
      "\u001b[1;31mKeyError\u001b[0m: -1"
     ]
    }
   ],
   "source": [
    "X[-1]"
   ]
  }
 ],
 "metadata": {
  "colab": {
   "name": "note2_0322.ipynb",
   "provenance": []
  },
  "kernelspec": {
   "display_name": "Python 3",
   "language": "python",
   "name": "python3"
  },
  "language_info": {
   "codemirror_mode": {
    "name": "ipython",
    "version": 3
   },
   "file_extension": ".py",
   "mimetype": "text/x-python",
   "name": "python",
   "nbconvert_exporter": "python",
   "pygments_lexer": "ipython3",
   "version": "3.8.8"
  }
 },
 "nbformat": 4,
 "nbformat_minor": 5
}
