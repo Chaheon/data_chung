{
 "cells": [
  {
   "cell_type": "markdown",
   "id": "greenhouse-korean",
   "metadata": {},
   "source": [
    "# 5. module and package"
   ]
  },
  {
   "cell_type": "markdown",
   "id": "regulation-affair",
   "metadata": {},
   "source": [
    "길이가 2인 벡터"
   ]
  },
  {
   "cell_type": "code",
   "execution_count": null,
   "id": "lyric-discrimination",
   "metadata": {},
   "outputs": [],
   "source": [
    "def vecadd2(a,b):\n",
    "    if len(a)!=2 or len(b)!=2: \n",
    "        print(\"각 원소의 길이는 모두 2이 이어야 함!!\")\n",
    "    else: \n",
    "        print(str(a)+'+'+str(b)+'='+str([a[0]+b[0],a[1]+b[1]]))"
   ]
  },
  {
   "cell_type": "code",
   "execution_count": null,
   "id": "printable-honduras",
   "metadata": {},
   "outputs": [],
   "source": [
    "a=[1,3]\n",
    "b=[4,5]\n",
    "vecadd2(a,b) "
   ]
  },
  {
   "cell_type": "markdown",
   "id": "efficient-ideal",
   "metadata": {},
   "source": [
    "그런데 매번 노드마다 함수를 만들어 사용하기 싫으니 아싸리 폴더에 함수를 저장하는 방법을 사용함"
   ]
  },
  {
   "cell_type": "markdown",
   "id": "distributed-fields",
   "metadata": {},
   "source": [
    "`myfun.py`라는 파일을 만들어서 내용에\n",
    "```\n",
    "def vecadd2(a,b):\n",
    "    if len(a)!=2 or len(b)!=2: \n",
    "        print(\"각 원소의 길이는 모두 2이 이어야 함!!\")\n",
    "    else: \n",
    "        print(str(a)+'+'+str(b)+'='+str([a[0]+b[0],a[1]+b[1]]))\n",
    "```\n",
    "을 친다. \n",
    "\n",
    "그리고 커널을 재시작하고 (`Kernel -> restart kernel and clear all outputs')\n",
    "\n",
    "아래를 실행한다."
   ]
  },
  {
   "cell_type": "code",
   "execution_count": 1,
   "id": "micro-upgrade",
   "metadata": {},
   "outputs": [
    {
     "ename": "ModuleNotFoundError",
     "evalue": "No module named 'myfun'",
     "output_type": "error",
     "traceback": [
      "\u001b[1;31m---------------------------------------------------------------------------\u001b[0m",
      "\u001b[1;31mModuleNotFoundError\u001b[0m                       Traceback (most recent call last)",
      "\u001b[1;32m<ipython-input-1-229aff3483dd>\u001b[0m in \u001b[0;36m<module>\u001b[1;34m\u001b[0m\n\u001b[1;32m----> 1\u001b[1;33m \u001b[1;32mimport\u001b[0m \u001b[0mmyfun\u001b[0m\u001b[1;33m\u001b[0m\u001b[1;33m\u001b[0m\u001b[0m\n\u001b[0m",
      "\u001b[1;31mModuleNotFoundError\u001b[0m: No module named 'myfun'"
     ]
    }
   ],
   "source": [
    "import myfun"
   ]
  },
  {
   "cell_type": "code",
   "execution_count": null,
   "id": "dramatic-devices",
   "metadata": {},
   "outputs": [],
   "source": [
    "a=[1,3]\n",
    "b=[4,5]\n",
    "myfun.vecadd2(a,b)"
   ]
  },
  {
   "cell_type": "markdown",
   "id": "colonial-manufacturer",
   "metadata": {},
   "source": [
    "`myfun.vecadd2`의 의미: `myfun.py`의 파일안에 정의된 `vecadd2`함수 "
   ]
  },
  {
   "cell_type": "markdown",
   "id": "acceptable-launch",
   "metadata": {},
   "source": [
    "`.`의 의미: `상위`.`하위`의 느낌이다. ($\\star$)"
   ]
  },
  {
   "cell_type": "markdown",
   "id": "sticky-print",
   "metadata": {},
   "source": [
    "---"
   ]
  },
  {
   "cell_type": "markdown",
   "id": "authorized-plane",
   "metadata": {},
   "source": [
    "`myfun.`이 거추장스럽게 느껴진다면? 커널을 재시작하고 아래를 실행하면 된다. "
   ]
  },
  {
   "cell_type": "code",
   "execution_count": null,
   "id": "local-monroe",
   "metadata": {},
   "outputs": [],
   "source": [
    "from myfun import vecadd2"
   ]
  },
  {
   "cell_type": "code",
   "execution_count": null,
   "id": "widespread-flower",
   "metadata": {},
   "outputs": [],
   "source": [
    "a=[1,3]\n",
    "b=[4,5]\n",
    "vecadd2(a,b)"
   ]
  },
  {
   "cell_type": "markdown",
   "id": "convenient-receipt",
   "metadata": {},
   "source": [
    "---"
   ]
  },
  {
   "cell_type": "markdown",
   "id": "domestic-wallace",
   "metadata": {},
   "source": [
    "이제 빼기, 곱하기, 나누기 와 같은 함수들도 만들어 보자. "
   ]
  },
  {
   "cell_type": "code",
   "execution_count": null,
   "id": "exposed-practice",
   "metadata": {},
   "outputs": [],
   "source": [
    "def vecsub2(a,b):\n",
    "    if len(a)!=2 or len(b)!=2: \n",
    "        print(\"각 원소의 길이는 모두 2이 이어야 함!!\")\n",
    "    else: \n",
    "        print(str(a)+'-'+str(b)+'='+str([a[0]-b[0],a[1]-b[1]]))\n",
    "\n",
    "def vecmul2(a,b):\n",
    "    if len(a)!=2 or len(b)!=2: \n",
    "        print(\"각 원소의 길이는 모두 2이 이어야 함!!\")\n",
    "    else: \n",
    "        print(str(a)+'*'+str(b)+'='+str([a[0]*b[0],a[1]*b[1]]))\n",
    "        \n",
    "        \n",
    "def vecdiv2(a,b):\n",
    "    if len(a)!=2 or len(b)!=2: \n",
    "        print(\"각 원소의 길이는 모두 2이 이어야 함!!\")\n",
    "    else: \n",
    "        print(str(a)+'/'+str(b)+'='+str([a[0]/b[0],a[1]/b[1]]))"
   ]
  },
  {
   "cell_type": "code",
   "execution_count": null,
   "id": "joint-secondary",
   "metadata": {},
   "outputs": [],
   "source": [
    "vecdiv2([1,2],[2,3])"
   ]
  },
  {
   "cell_type": "markdown",
   "id": "trying-cheat",
   "metadata": {},
   "source": [
    "--- "
   ]
  },
  {
   "cell_type": "markdown",
   "id": "genetic-religion",
   "metadata": {},
   "source": [
    "`myfun.py`에 모두 넣고 `import myfun` 를 하면 정의한 함수들을 모두 사용할 수 있다. "
   ]
  },
  {
   "cell_type": "code",
   "execution_count": null,
   "id": "thorough-battery",
   "metadata": {
    "tags": []
   },
   "outputs": [],
   "source": [
    "import myfun"
   ]
  },
  {
   "cell_type": "code",
   "execution_count": null,
   "id": "electrical-initial",
   "metadata": {},
   "outputs": [],
   "source": [
    "a=[1,2]\n",
    "b=[33,22]"
   ]
  },
  {
   "cell_type": "code",
   "execution_count": null,
   "id": "thirty-configuration",
   "metadata": {},
   "outputs": [],
   "source": [
    "myfun.vecsub2(a,b)"
   ]
  },
  {
   "cell_type": "markdown",
   "id": "serial-writing",
   "metadata": {},
   "source": [
    "??? 방금정의했는데? "
   ]
  },
  {
   "cell_type": "markdown",
   "id": "controversial-potter",
   "metadata": {},
   "source": [
    "$\\to$ import는 최초한번만 수행된다. "
   ]
  },
  {
   "cell_type": "markdown",
   "id": "decreased-intake",
   "metadata": {},
   "source": [
    "---"
   ]
  },
  {
   "cell_type": "markdown",
   "id": "mature-portable",
   "metadata": {},
   "source": [
    "커널을 껏다가 키면 잘 된다.  "
   ]
  },
  {
   "cell_type": "code",
   "execution_count": null,
   "id": "cathedral-yahoo",
   "metadata": {
    "tags": []
   },
   "outputs": [],
   "source": [
    "import myfun"
   ]
  },
  {
   "cell_type": "code",
   "execution_count": null,
   "id": "prime-friend",
   "metadata": {},
   "outputs": [],
   "source": [
    "a=[1,2]\n",
    "b=[33,22]"
   ]
  },
  {
   "cell_type": "code",
   "execution_count": null,
   "id": "preliminary-quarter",
   "metadata": {},
   "outputs": [],
   "source": [
    "myfun.vecsub2(a,b)"
   ]
  },
  {
   "cell_type": "markdown",
   "id": "authentic-papua",
   "metadata": {},
   "source": [
    "---"
   ]
  },
  {
   "cell_type": "markdown",
   "id": "final-sponsorship",
   "metadata": {},
   "source": [
    "좀더 간단하게 함수를 사용하고 싶다면? "
   ]
  },
  {
   "cell_type": "code",
   "execution_count": null,
   "id": "unsigned-fairy",
   "metadata": {},
   "outputs": [],
   "source": [
    "from myfun import vecadd2 \n",
    "from myfun import vecsub2 \n",
    "from myfun import vecmul2 \n",
    "from myfun import vecdiv2 "
   ]
  },
  {
   "cell_type": "code",
   "execution_count": null,
   "id": "accepted-restriction",
   "metadata": {},
   "outputs": [],
   "source": [
    "vecdiv2([1,2],[3,4])"
   ]
  },
  {
   "cell_type": "markdown",
   "id": "consistent-terminology",
   "metadata": {},
   "source": [
    "---"
   ]
  },
  {
   "cell_type": "code",
   "execution_count": null,
   "id": "powered-assault",
   "metadata": {},
   "outputs": [],
   "source": [
    "from myfun import * # myfun안에 있는 모든 함수를 불러와라 *이게 모든이란 뜻"
   ]
  },
  {
   "cell_type": "code",
   "execution_count": null,
   "id": "accredited-karen",
   "metadata": {},
   "outputs": [],
   "source": [
    "vecadd2([1,2],[3,4])"
   ]
  },
  {
   "cell_type": "code",
   "execution_count": null,
   "id": "received-holmes",
   "metadata": {},
   "outputs": [],
   "source": [
    "vecsub2([1,2],[3,4])"
   ]
  },
  {
   "cell_type": "code",
   "execution_count": null,
   "id": "hidden-fundamental",
   "metadata": {},
   "outputs": [],
   "source": [
    "vecdiv2([1,2],[3,4])"
   ]
  },
  {
   "cell_type": "markdown",
   "id": "possible-technology",
   "metadata": {
    "tags": []
   },
   "source": [
    "---"
   ]
  },
  {
   "cell_type": "markdown",
   "id": "mounted-discharge",
   "metadata": {},
   "source": [
    "파일이름과 함수이름을 정리함. \n",
    "\n",
    "파일이름은 `vec2.py`라는 파일을 새로 만들고 파일내용은 \n",
    "```\n",
    "def add(a,b):\n",
    "    if len(a)!=2 or len(b)!=2: \n",
    "        print(\"각 원소의 길이는 모두 2이 이어야 함!!\")\n",
    "    else: \n",
    "        print(str(a)+'+'+str(b)+'='+str([a[0]+b[0],a[1]+b[1]]))\n",
    "        \n",
    "def sub(a,b):\n",
    "    if len(a)!=2 or len(b)!=2: \n",
    "        print(\"각 원소의 길이는 모두 2이 이어야 함!!\")\n",
    "    else: \n",
    "        print(str(a)+'-'+str(b)+'='+str([a[0]-b[0],a[1]-b[1]]))\n",
    "\n",
    "def mul(a,b):\n",
    "    if len(a)!=2 or len(b)!=2: \n",
    "        print(\"각 원소의 길이는 모두 2이 이어야 함!!\")\n",
    "    else: \n",
    "        print(str(a)+'*'+str(b)+'='+str([a[0]*b[0],a[1]*b[1]]))\n",
    "        \n",
    "        \n",
    "def div(a,b):\n",
    "    if len(a)!=2 or len(b)!=2: \n",
    "        print(\"각 원소의 길이는 모두 2이 이어야 함!!\")\n",
    "    else: \n",
    "        print(str(a)+'/'+str(b)+'='+str([a[0]/b[0],a[1]/b[1]]))\n",
    "```"
   ]
  },
  {
   "cell_type": "code",
   "execution_count": null,
   "id": "fifth-driving",
   "metadata": {
    "tags": []
   },
   "outputs": [],
   "source": [
    "import vec2"
   ]
  },
  {
   "cell_type": "code",
   "execution_count": null,
   "id": "organic-homeless",
   "metadata": {},
   "outputs": [],
   "source": [
    "vec2.add([1,2],[22,0])"
   ]
  },
  {
   "cell_type": "markdown",
   "id": "smaller-ecuador",
   "metadata": {},
   "source": [
    "---"
   ]
  },
  {
   "cell_type": "markdown",
   "id": "interim-sleep",
   "metadata": {},
   "source": [
    "`vec3.py`를 구현해보자. (길이가 3인 원소를 연산하는 함수들을 모아놓은 파일)"
   ]
  },
  {
   "cell_type": "code",
   "execution_count": null,
   "id": "directed-presentation",
   "metadata": {},
   "outputs": [],
   "source": [
    "import vec3"
   ]
  },
  {
   "cell_type": "code",
   "execution_count": null,
   "id": "little-flavor",
   "metadata": {},
   "outputs": [],
   "source": [
    "vec3.add([1,2,3],[22,0,-3])"
   ]
  },
  {
   "cell_type": "markdown",
   "id": "homeless-holiday",
   "metadata": {},
   "source": [
    "---"
   ]
  },
  {
   "cell_type": "markdown",
   "id": "acceptable-donna",
   "metadata": {},
   "source": [
    "요구사항:"
   ]
  },
  {
   "cell_type": "markdown",
   "id": "answering-tongue",
   "metadata": {},
   "source": [
    "(1) 길이가 2인지 3인지 체크하고 \n",
    "\n",
    "(2-1) 길이가 2이면 `import vec2`를 사용하여 덧셈을 수행 \n",
    "\n",
    "(2-2) 길이가 3이면 `import vec3`를 사용해서 덧셈을 수행"
   ]
  },
  {
   "cell_type": "code",
   "execution_count": null,
   "id": "mysterious-longitude",
   "metadata": {},
   "outputs": [],
   "source": [
    "def vecadd(a,b):\n",
    "    if len(a)==2 and len(b)==2: \n",
    "        import vec2 \n",
    "        rtn=vec2.add(a,b)\n",
    "    elif len(a)==3 and len(b)==3:\n",
    "        import vec3\n",
    "        rtn=vec3.add(a,b)\n",
    "    else: \n",
    "        rtn='err'\n",
    "    return rtn "
   ]
  },
  {
   "cell_type": "markdown",
   "id": "derived-georgia",
   "metadata": {},
   "source": [
    "[$\\ast$] `if ~ elif ~ else`구문 사용법 체크"
   ]
  },
  {
   "cell_type": "code",
   "execution_count": null,
   "id": "adverse-haiti",
   "metadata": {},
   "outputs": [],
   "source": [
    "vecadd([1,2],[2,3,4])"
   ]
  },
  {
   "cell_type": "markdown",
   "id": "painful-playlist",
   "metadata": {},
   "source": [
    "---"
   ]
  },
  {
   "cell_type": "code",
   "execution_count": null,
   "id": "color-cleaners",
   "metadata": {},
   "outputs": [],
   "source": [
    "import vec "
   ]
  },
  {
   "cell_type": "code",
   "execution_count": null,
   "id": "geological-suspect",
   "metadata": {},
   "outputs": [],
   "source": [
    "a=[1,2]\n",
    "b=[2,3]\n",
    "vec.add(a,b)"
   ]
  },
  {
   "cell_type": "code",
   "execution_count": null,
   "id": "impressed-software",
   "metadata": {},
   "outputs": [],
   "source": [
    "a=[1,2,-4]\n",
    "b=[2,3,7]\n",
    "vec.add(a,b)"
   ]
  },
  {
   "cell_type": "code",
   "execution_count": null,
   "id": "ongoing-coordinate",
   "metadata": {},
   "outputs": [],
   "source": [
    "a=[1,2]\n",
    "b=[2,3,4]\n",
    "vec.add(a,b)"
   ]
  },
  {
   "cell_type": "markdown",
   "id": "sticky-better",
   "metadata": {},
   "source": [
    "---"
   ]
  },
  {
   "cell_type": "markdown",
   "id": "federal-function",
   "metadata": {},
   "source": [
    "파일이 조금 난잡하다. "
   ]
  },
  {
   "cell_type": "markdown",
   "id": "passive-oxide",
   "metadata": {},
   "source": [
    "`vecfold`라는 폴더를 만들어서 관리하면 어떨까? "
   ]
  },
  {
   "cell_type": "markdown",
   "id": "agreed-cache",
   "metadata": {},
   "source": [
    "$\\to$ 실제로 `vecfold`를 만들고 모든 파일(`vec.py`, `vec2.py`, `vec3.py`)을 `vecfold`로 옮겼음."
   ]
  },
  {
   "cell_type": "markdown",
   "id": "responsible-original",
   "metadata": {},
   "source": [
    "`vecfold`라는 폴더안에 `vec2.py`라는 파일을 불러오고 싶다. "
   ]
  },
  {
   "cell_type": "code",
   "execution_count": null,
   "id": "dominican-module",
   "metadata": {},
   "outputs": [],
   "source": [
    "import vecfold.vec2 "
   ]
  },
  {
   "cell_type": "code",
   "execution_count": null,
   "id": "hindu-system",
   "metadata": {},
   "outputs": [],
   "source": [
    "vecfold.vec2.add([1,2],[2,3])"
   ]
  },
  {
   "cell_type": "markdown",
   "id": "ecological-privacy",
   "metadata": {},
   "source": [
    "`vecfold`라는 폴더안에 `vec2.py`라는 파일이 있는데 그 파일에 있는 `add`를 사용하라는 의미"
   ]
  },
  {
   "cell_type": "markdown",
   "id": "close-enterprise",
   "metadata": {},
   "source": [
    "---"
   ]
  },
  {
   "cell_type": "markdown",
   "id": "prospective-hunter",
   "metadata": {},
   "source": [
    "`from`과 함께 아래와 같이 선언하는 것도 가능함. "
   ]
  },
  {
   "cell_type": "code",
   "execution_count": null,
   "id": "cooked-floor",
   "metadata": {},
   "outputs": [],
   "source": [
    "from vecfold import vec2\n",
    "vec2.add([1,2],[2,3])"
   ]
  },
  {
   "cell_type": "markdown",
   "id": "special-correlation",
   "metadata": {},
   "source": [
    "---"
   ]
  },
  {
   "cell_type": "code",
   "execution_count": null,
   "id": "suburban-fraud",
   "metadata": {},
   "outputs": [],
   "source": [
    "from vecfold.vec2 import add\n",
    "add([1,2],[2,3])"
   ]
  },
  {
   "cell_type": "markdown",
   "id": "inclusive-paragraph",
   "metadata": {},
   "source": [
    "---"
   ]
  },
  {
   "cell_type": "markdown",
   "id": "exposed-british",
   "metadata": {},
   "source": [
    "그냥 `import vecfold`만 해도 `vecfold`안에 포함된 파일, 함수들이 모두 import되면 좋겠다. "
   ]
  },
  {
   "cell_type": "markdown",
   "id": "vulnerable-philippines",
   "metadata": {},
   "source": [
    "커널을 재시작하고 아래를 실행해보자. "
   ]
  },
  {
   "cell_type": "code",
   "execution_count": null,
   "id": "cleared-great",
   "metadata": {
    "tags": []
   },
   "outputs": [],
   "source": [
    "import vecfold"
   ]
  },
  {
   "cell_type": "code",
   "execution_count": null,
   "id": "massive-aruba",
   "metadata": {},
   "outputs": [],
   "source": [
    "vecfold.vec2.add([1,2],[3,4])"
   ]
  },
  {
   "cell_type": "markdown",
   "id": "classified-speaker",
   "metadata": {},
   "source": [
    "안된다..!"
   ]
  },
  {
   "cell_type": "markdown",
   "id": "seventh-uniform",
   "metadata": {},
   "source": [
    "우리가 원하는것: `import vecfold`만 해도 `vecfold`하위의 모든 파일을 불러오게 하고 싶다. "
   ]
  },
  {
   "cell_type": "markdown",
   "id": "federal-timeline",
   "metadata": {},
   "source": [
    "---"
   ]
  },
  {
   "cell_type": "markdown",
   "id": "official-operations",
   "metadata": {},
   "source": [
    "해법: "
   ]
  },
  {
   "cell_type": "markdown",
   "id": "educational-musical",
   "metadata": {
    "tags": []
   },
   "source": [
    "`__init__.py`라는 파일을 만들고, \n",
    "\n",
    "`from . import ???` # 중간에 있는 .은 현재위치라고 생각하면 된다. "
   ]
  },
  {
   "cell_type": "markdown",
   "id": "mobile-tobacco",
   "metadata": {},
   "source": [
    "불러오기를 원하는 파일이름을 `???`자리에 넣으면 된다. "
   ]
  },
  {
   "cell_type": "markdown",
   "id": "vietnamese-exercise",
   "metadata": {},
   "source": [
    "__init__.py 라는 파일은 폴더 안에서 제일 먼저 실행된다. "
   ]
  },
  {
   "cell_type": "code",
   "execution_count": null,
   "id": "soviet-protocol",
   "metadata": {
    "tags": []
   },
   "outputs": [],
   "source": [
    "import vecfold\n",
    "vecfold.vec2.add([1,2],[3,4])"
   ]
  },
  {
   "cell_type": "code",
   "execution_count": null,
   "id": "continental-interim",
   "metadata": {},
   "outputs": [],
   "source": [
    "vecfold.vec3.add([1,2,3],[3,3,4])"
   ]
  },
  {
   "cell_type": "markdown",
   "id": "continent-interference",
   "metadata": {},
   "source": [
    "---"
   ]
  },
  {
   "cell_type": "code",
   "execution_count": null,
   "id": "stainless-polls",
   "metadata": {},
   "outputs": [],
   "source": [
    "import vecfold\n",
    "vecfold.vec2.add([1,2],[3,4])\n",
    "vecfold.vec3.add([1,2,3],[3,3,4])"
   ]
  },
  {
   "cell_type": "code",
   "execution_count": null,
   "id": "european-accounting",
   "metadata": {},
   "outputs": [],
   "source": [
    "vecfold.vec.add([1,2,3],[3,3,4])"
   ]
  },
  {
   "cell_type": "markdown",
   "id": "faced-mentor",
   "metadata": {},
   "source": [
    "---"
   ]
  },
  {
   "cell_type": "markdown",
   "id": "concrete-arrangement",
   "metadata": {},
   "source": [
    "코드를 좀더 깔끔히 정리할 수 있을것 같다. "
   ]
  },
  {
   "cell_type": "markdown",
   "id": "preliminary-value",
   "metadata": {},
   "source": [
    "`vec.py`의 모든내용을 `__init__.py`에 넣는다면? # 폴더 자체가 일종의 모듈 함수가 되어서 __init__.py 안에 있는 내용이 자동으로 출력되는거임.\n",
    "\n",
    "`import vecfold`를 하는순간 `vec.py`에서 정의되었던 모든함수들이 선언되는 셈 "
   ]
  },
  {
   "cell_type": "code",
   "execution_count": null,
   "id": "tested-beads",
   "metadata": {},
   "outputs": [],
   "source": [
    "import vecfold"
   ]
  },
  {
   "cell_type": "code",
   "execution_count": null,
   "id": "neither-orchestra",
   "metadata": {},
   "outputs": [],
   "source": [
    "vecfold.add([1,2,3,4],[3,4,5])"
   ]
  },
  {
   "cell_type": "markdown",
   "id": "baking-persian",
   "metadata": {},
   "source": [
    "---"
   ]
  },
  {
   "cell_type": "markdown",
   "id": "special-consortium",
   "metadata": {},
   "source": [
    "`vecfold`안에 있는 `vec.py`는 삭제. \n",
    "\n",
    "`vecfold`의 이름을 `vec`으로 바꾸고 \n"
   ]
  },
  {
   "cell_type": "markdown",
   "id": "surprising-soundtrack",
   "metadata": {},
   "source": [
    "그리고 커널을 재시작한뒤 아래를 실행하면 "
   ]
  },
  {
   "cell_type": "code",
   "execution_count": 1,
   "id": "split-flood",
   "metadata": {},
   "outputs": [],
   "source": [
    "import vec"
   ]
  },
  {
   "cell_type": "code",
   "execution_count": null,
   "id": "arranged-methodology",
   "metadata": {},
   "outputs": [],
   "source": [
    "vec.mul([1,3,3],[3,5,5])"
   ]
  },
  {
   "cell_type": "markdown",
   "id": "legendary-characteristic",
   "metadata": {},
   "source": [
    "---"
   ]
  },
  {
   "cell_type": "markdown",
   "id": "robust-click",
   "metadata": {},
   "source": [
    "도움말을 작성해보자. "
   ]
  },
  {
   "cell_type": "markdown",
   "id": "mathematical-outdoors",
   "metadata": {},
   "source": [
    "`__init__.py` 의 맨앞에 아래를 삽입하자.\n",
    "```\n",
    "print(\"이 패키지는 현재 길이가 2,3인 벡터의 연산만 지원하지만 추후 업데이트하여 더욱 발전할 예정\")\n",
    "```"
   ]
  },
  {
   "cell_type": "code",
   "execution_count": null,
   "id": "provincial-brake",
   "metadata": {},
   "outputs": [],
   "source": [
    "import vec"
   ]
  },
  {
   "cell_type": "code",
   "execution_count": null,
   "id": "laden-gallery",
   "metadata": {},
   "outputs": [],
   "source": [
    "vec.add([1,2],[3,4])"
   ]
  },
  {
   "cell_type": "markdown",
   "id": "caroline-delight",
   "metadata": {},
   "source": [
    "아래와 같이하면 정말 도움말기능을 만들 수 있다. "
   ]
  },
  {
   "cell_type": "markdown",
   "id": "destroyed-science",
   "metadata": {},
   "source": [
    "`__init__.py` 의 맨앞에 아래를 삽입하자.\n",
    "```\n",
    "'''\n",
    "이 패키지는 현재 길이가 2,3인 벡터의 연산만 지원하지만 추후 업데이트하여 더욱 발전할 예정\n",
    "'''\n",
    "```"
   ]
  },
  {
   "cell_type": "code",
   "execution_count": 2,
   "id": "multiple-court",
   "metadata": {
    "tags": []
   },
   "outputs": [],
   "source": [
    "import vec"
   ]
  },
  {
   "cell_type": "code",
   "execution_count": 3,
   "id": "wrapped-patio",
   "metadata": {},
   "outputs": [
    {
     "data": {
      "text/plain": [
       "\u001b[1;31mType:\u001b[0m        module\n",
       "\u001b[1;31mString form:\u001b[0m <module 'vec' from 'C:\\\\Users\\\\Oldcar\\\\Documents\\\\21.1 수업\\\\PYTHON\\\\vec\\\\__init__.py'>\n",
       "\u001b[1;31mFile:\u001b[0m        c:\\users\\oldcar\\documents\\21.1 수업\\python\\vec\\__init__.py\n",
       "\u001b[1;31mDocstring:\u001b[0m   이 패키지는 현재 길이가 2,3인 벡터의 연산만 지원하지만 추후 업데이트하여 더욱 발전할 예정 (김차헌 / 201616659)\n"
      ]
     },
     "metadata": {},
     "output_type": "display_data"
    }
   ],
   "source": [
    "vec?"
   ]
  },
  {
   "cell_type": "code",
   "execution_count": null,
   "id": "honey-fantasy",
   "metadata": {},
   "outputs": [],
   "source": [
    "import numpy as np"
   ]
  },
  {
   "cell_type": "code",
   "execution_count": null,
   "id": "stuck-configuration",
   "metadata": {},
   "outputs": [],
   "source": [
    "import vec as vc "
   ]
  },
  {
   "cell_type": "code",
   "execution_count": null,
   "id": "informational-pressure",
   "metadata": {},
   "outputs": [],
   "source": [
    "vc.add([1,2],[2,3])"
   ]
  },
  {
   "cell_type": "code",
   "execution_count": null,
   "id": "jewish-residence",
   "metadata": {},
   "outputs": [],
   "source": [
    "vc"
   ]
  },
  {
   "cell_type": "code",
   "execution_count": null,
   "id": "comprehensive-democracy",
   "metadata": {},
   "outputs": [],
   "source": []
  }
 ],
 "metadata": {
  "kernelspec": {
   "display_name": "Python 3 (ipykernel)",
   "language": "python",
   "name": "python3"
  },
  "language_info": {
   "codemirror_mode": {
    "name": "ipython",
    "version": 3
   },
   "file_extension": ".py",
   "mimetype": "text/x-python",
   "name": "python",
   "nbconvert_exporter": "python",
   "pygments_lexer": "ipython3",
   "version": "3.9.7"
  }
 },
 "nbformat": 4,
 "nbformat_minor": 5
}
