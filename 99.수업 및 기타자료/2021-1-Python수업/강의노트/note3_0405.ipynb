{
 "cells": [
  {
   "cell_type": "markdown",
   "id": "dedicated-editing",
   "metadata": {
    "id": "egyptian-passion"
   },
   "source": [
    "# 3. Numpy"
   ]
  },
  {
   "cell_type": "markdown",
   "id": "polish-slovak",
   "metadata": {},
   "source": [
    "### (1) 넘파이를 쓰면 무엇이 좋은가? \n",
    "\n",
    "**[예1]** Numpy를 활용한 벡터연산"
   ]
  },
  {
   "cell_type": "markdown",
   "id": "indie-punch",
   "metadata": {},
   "source": [
    "`욕심`: `(1,2,3)+(2,3,4)=(3,5,7)`를 계산하고 싶다. "
   ]
  },
  {
   "cell_type": "markdown",
   "id": "occasional-blood",
   "metadata": {
    "id": "alleged-heather"
   },
   "source": [
    "(실패)"
   ]
  },
  {
   "cell_type": "markdown",
   "id": "cooked-venezuela",
   "metadata": {},
   "source": [
    "일반 리스트 경우"
   ]
  },
  {
   "cell_type": "code",
   "execution_count": 5,
   "id": "hourly-worthy",
   "metadata": {
    "colab": {
     "base_uri": "https://localhost:8080/"
    },
    "id": "automotive-monitoring",
    "outputId": "1552846e-c182-4536-d2be-368e9a165066",
    "tags": []
   },
   "outputs": [
    {
     "data": {
      "text/plain": [
       "[1, 2, 3, 2, 3, 4]"
      ]
     },
     "execution_count": 5,
     "metadata": {},
     "output_type": "execute_result"
    }
   ],
   "source": [
    "a=[1,2,3]\n",
    "b=[2,3,4]\n",
    "a+b"
   ]
  },
  {
   "cell_type": "markdown",
   "id": "economic-absence",
   "metadata": {
    "id": "clinical-consequence"
   },
   "source": [
    "(성공)"
   ]
  },
  {
   "cell_type": "code",
   "execution_count": 6,
   "id": "relevant-ground",
   "metadata": {
    "colab": {
     "base_uri": "https://localhost:8080/"
    },
    "id": "literary-editor",
    "outputId": "d9348cdf-ad99-4323-ae74-8111550b4443"
   },
   "outputs": [
    {
     "data": {
      "text/plain": [
       "[3, 5, 7]"
      ]
     },
     "execution_count": 6,
     "metadata": {},
     "output_type": "execute_result"
    }
   ],
   "source": [
    "[a[0]+b[0],a[1]+b[1],a[2]+b[2]]"
   ]
  },
  {
   "cell_type": "markdown",
   "id": "superb-symposium",
   "metadata": {
    "id": "divine-imperial"
   },
   "source": [
    "(성공2)"
   ]
  },
  {
   "cell_type": "code",
   "execution_count": 7,
   "id": "contrary-quebec",
   "metadata": {
    "colab": {
     "base_uri": "https://localhost:8080/"
    },
    "id": "identified-allocation",
    "outputId": "81d3caf7-3e17-462e-fe9b-3cd74648eaf3"
   },
   "outputs": [
    {
     "data": {
      "text/plain": [
       "(3, 5, 7)"
      ]
     },
     "execution_count": 7,
     "metadata": {},
     "output_type": "execute_result"
    }
   ],
   "source": [
    "a[0]+b[0],a[1]+b[1],a[2]+b[2]"
   ]
  },
  {
   "cell_type": "code",
   "execution_count": 8,
   "id": "narrow-mainstream",
   "metadata": {
    "id": "charming-singles"
   },
   "outputs": [],
   "source": [
    "temp_ = a[0]+b[0],a[1]+b[1],a[2]+b[2]"
   ]
  },
  {
   "cell_type": "code",
   "execution_count": 9,
   "id": "developmental-light",
   "metadata": {
    "colab": {
     "base_uri": "https://localhost:8080/"
    },
    "id": "dirty-uruguay",
    "outputId": "f19082a9-4467-4837-9aff-3d6800780f88"
   },
   "outputs": [
    {
     "data": {
      "text/plain": [
       "(3, 5, 7)"
      ]
     },
     "execution_count": 9,
     "metadata": {},
     "output_type": "execute_result"
    }
   ],
   "source": [
    "temp_"
   ]
  },
  {
   "cell_type": "code",
   "execution_count": 10,
   "id": "flying-sculpture",
   "metadata": {
    "colab": {
     "base_uri": "https://localhost:8080/"
    },
    "id": "formed-think",
    "outputId": "d9bc7492-aea1-40f2-c663-4e0592ac4dd1"
   },
   "outputs": [
    {
     "data": {
      "text/plain": [
       "[3, 5, 7]"
      ]
     },
     "execution_count": 10,
     "metadata": {},
     "output_type": "execute_result"
    }
   ],
   "source": [
    "list(temp_)"
   ]
  },
  {
   "cell_type": "markdown",
   "id": "further-applicant",
   "metadata": {
    "id": "funky-wallpaper"
   },
   "source": [
    "(원소가 많을경우를 대비- 실패)"
   ]
  },
  {
   "cell_type": "code",
   "execution_count": 25,
   "id": "revolutionary-headline",
   "metadata": {
    "colab": {
     "base_uri": "https://localhost:8080/",
     "height": 198
    },
    "id": "superb-slave",
    "outputId": "e766c386-e800-4ebc-dee1-ee5780ab2386"
   },
   "outputs": [
    {
     "ename": "IndexError",
     "evalue": "list assignment index out of range",
     "output_type": "error",
     "traceback": [
      "\u001b[1;31m---------------------------------------------------------------------------\u001b[0m",
      "\u001b[1;31mIndexError\u001b[0m                                Traceback (most recent call last)",
      "\u001b[1;32m<ipython-input-25-4af7fca0a837>\u001b[0m in \u001b[0;36m<module>\u001b[1;34m\u001b[0m\n\u001b[0;32m      1\u001b[0m \u001b[0mc\u001b[0m\u001b[1;33m=\u001b[0m\u001b[1;33m[\u001b[0m\u001b[1;33m]\u001b[0m\u001b[1;33m\u001b[0m\u001b[1;33m\u001b[0m\u001b[0m\n\u001b[0;32m      2\u001b[0m \u001b[1;32mfor\u001b[0m \u001b[0mi\u001b[0m \u001b[1;32min\u001b[0m \u001b[1;33m[\u001b[0m\u001b[1;36m0\u001b[0m\u001b[1;33m,\u001b[0m\u001b[1;36m1\u001b[0m\u001b[1;33m,\u001b[0m\u001b[1;36m2\u001b[0m\u001b[1;33m]\u001b[0m\u001b[1;33m:\u001b[0m\u001b[1;33m\u001b[0m\u001b[1;33m\u001b[0m\u001b[0m\n\u001b[1;32m----> 3\u001b[1;33m     \u001b[0mc\u001b[0m\u001b[1;33m[\u001b[0m\u001b[0mi\u001b[0m\u001b[1;33m]\u001b[0m\u001b[1;33m=\u001b[0m\u001b[0ma\u001b[0m\u001b[1;33m[\u001b[0m\u001b[0mi\u001b[0m\u001b[1;33m]\u001b[0m\u001b[1;33m+\u001b[0m\u001b[0mb\u001b[0m\u001b[1;33m[\u001b[0m\u001b[0mi\u001b[0m\u001b[1;33m]\u001b[0m\u001b[1;33m\u001b[0m\u001b[1;33m\u001b[0m\u001b[0m\n\u001b[0m",
      "\u001b[1;31mIndexError\u001b[0m: list assignment index out of range"
     ]
    }
   ],
   "source": [
    "c=[]\n",
    "for i in [0,1,2]:\n",
    "    c[i]=a[i]+b[i]"
   ]
  },
  {
   "cell_type": "code",
   "execution_count": 12,
   "id": "musical-norway",
   "metadata": {
    "colab": {
     "base_uri": "https://localhost:8080/",
     "height": 181
    },
    "id": "desirable-rabbit",
    "outputId": "78b6163f-68da-4a7b-cc0e-42d3e9e47e48"
   },
   "outputs": [
    {
     "ename": "IndexError",
     "evalue": "list assignment index out of range",
     "output_type": "error",
     "traceback": [
      "\u001b[1;31m---------------------------------------------------------------------------\u001b[0m",
      "\u001b[1;31mIndexError\u001b[0m                                Traceback (most recent call last)",
      "\u001b[1;32m<ipython-input-12-7a51dc8f9a26>\u001b[0m in \u001b[0;36m<module>\u001b[1;34m\u001b[0m\n\u001b[0;32m      1\u001b[0m \u001b[0mc\u001b[0m\u001b[1;33m=\u001b[0m\u001b[1;33m[\u001b[0m\u001b[1;33m]\u001b[0m\u001b[1;33m\u001b[0m\u001b[1;33m\u001b[0m\u001b[0m\n\u001b[1;32m----> 2\u001b[1;33m \u001b[0mc\u001b[0m\u001b[1;33m[\u001b[0m\u001b[1;36m0\u001b[0m\u001b[1;33m]\u001b[0m\u001b[1;33m=\u001b[0m\u001b[1;36m1\u001b[0m\u001b[1;33m\u001b[0m\u001b[1;33m\u001b[0m\u001b[0m\n\u001b[0m",
      "\u001b[1;31mIndexError\u001b[0m: list assignment index out of range"
     ]
    }
   ],
   "source": [
    "c=[]\n",
    "c[0]=1"
   ]
  },
  {
   "cell_type": "code",
   "execution_count": 20,
   "id": "assigned-lender",
   "metadata": {
    "id": "solved-format"
   },
   "outputs": [],
   "source": [
    "c=[]\n",
    "c=c+[1]"
   ]
  },
  {
   "cell_type": "code",
   "execution_count": 19,
   "id": "valid-safety",
   "metadata": {
    "colab": {
     "base_uri": "https://localhost:8080/"
    },
    "id": "fluid-banking",
    "outputId": "a5a1e085-6a58-4366-a17e-70bbf344469f"
   },
   "outputs": [
    {
     "data": {
      "text/plain": [
       "[1, 2]"
      ]
     },
     "execution_count": 19,
     "metadata": {},
     "output_type": "execute_result"
    }
   ],
   "source": [
    "c"
   ]
  },
  {
   "cell_type": "markdown",
   "id": "useful-thanks",
   "metadata": {
    "id": "married-ozone"
   },
   "source": [
    "(성공)"
   ]
  },
  {
   "cell_type": "code",
   "execution_count": 27,
   "id": "favorite-printer",
   "metadata": {
    "id": "ongoing-martial"
   },
   "outputs": [],
   "source": [
    "c=[]\n",
    "for i in [0,1,2]:\n",
    "    c=c+[a[i]+b[i]]"
   ]
  },
  {
   "cell_type": "code",
   "execution_count": 34,
   "id": "opposite-edinburgh",
   "metadata": {
    "colab": {
     "base_uri": "https://localhost:8080/"
    },
    "id": "dress-interaction",
    "outputId": "0a6b0b3b-9658-4178-ee63-011e13643d6e"
   },
   "outputs": [
    {
     "data": {
      "text/plain": [
       "[3, 5, 7]"
      ]
     },
     "execution_count": 34,
     "metadata": {},
     "output_type": "execute_result"
    }
   ],
   "source": [
    "c"
   ]
  },
  {
   "cell_type": "markdown",
   "id": "motivated-native",
   "metadata": {
    "id": "looking-definition"
   },
   "source": [
    "(성공)"
   ]
  },
  {
   "cell_type": "code",
   "execution_count": 28,
   "id": "plain-camera",
   "metadata": {
    "id": "surprised-saying",
    "tags": []
   },
   "outputs": [],
   "source": [
    "a=[1,2,3]\n",
    "b=[2,3,4]\n",
    "c=[a[i]+b[i] for i in [0,1,2]]"
   ]
  },
  {
   "cell_type": "code",
   "execution_count": 29,
   "id": "amateur-diagnosis",
   "metadata": {
    "colab": {
     "base_uri": "https://localhost:8080/"
    },
    "id": "accompanied-contamination",
    "outputId": "92287ce7-c052-4047-bd72-a14e58623c70"
   },
   "outputs": [
    {
     "data": {
      "text/plain": [
       "[3, 5, 7]"
      ]
     },
     "execution_count": 29,
     "metadata": {},
     "output_type": "execute_result"
    }
   ],
   "source": [
    "c"
   ]
  },
  {
   "cell_type": "markdown",
   "id": "technological-syracuse",
   "metadata": {},
   "source": [
    "(넘파이) - 제일 편한 코드"
   ]
  },
  {
   "cell_type": "code",
   "execution_count": 31,
   "id": "informative-drunk",
   "metadata": {
    "id": "musical-perry"
   },
   "outputs": [],
   "source": [
    "import numpy as np "
   ]
  },
  {
   "cell_type": "code",
   "execution_count": 38,
   "id": "unusual-colleague",
   "metadata": {
    "id": "beautiful-delhi"
   },
   "outputs": [],
   "source": [
    "a=np.array((1,2,3))\n",
    "b=np.array([2,3,4])"
   ]
  },
  {
   "cell_type": "code",
   "execution_count": 39,
   "id": "welsh-behavior",
   "metadata": {
    "colab": {
     "base_uri": "https://localhost:8080/"
    },
    "id": "solar-small",
    "outputId": "7decc3b0-ee89-4b61-fc16-37c23c3c75db"
   },
   "outputs": [
    {
     "data": {
      "text/plain": [
       "array([3, 5, 7])"
      ]
     },
     "execution_count": 39,
     "metadata": {},
     "output_type": "execute_result"
    }
   ],
   "source": [
    "a+b"
   ]
  },
  {
   "cell_type": "markdown",
   "id": "acting-indication",
   "metadata": {},
   "source": [
    "#### [$\\ast$] 넘파이의 호환성"
   ]
  },
  {
   "cell_type": "markdown",
   "id": "theoretical-grant",
   "metadata": {
    "id": "after-bailey"
   },
   "source": [
    "`list` - `tuple` - `np.array`사이에는 호환성이 좋음 "
   ]
  },
  {
   "cell_type": "code",
   "execution_count": 40,
   "id": "amended-robert",
   "metadata": {
    "id": "black-chapter"
   },
   "outputs": [],
   "source": [
    "a=[1,2,3]"
   ]
  },
  {
   "cell_type": "code",
   "execution_count": 41,
   "id": "narrow-organization",
   "metadata": {
    "colab": {
     "base_uri": "https://localhost:8080/"
    },
    "id": "aerial-investigator",
    "outputId": "f29f807e-95a1-4a05-ebe3-78e821e5cc9c"
   },
   "outputs": [
    {
     "data": {
      "text/plain": [
       "[1, 2, 3]"
      ]
     },
     "execution_count": 41,
     "metadata": {},
     "output_type": "execute_result"
    }
   ],
   "source": [
    "list(np.array(tuple(a)))"
   ]
  },
  {
   "cell_type": "markdown",
   "id": "moderate-worthy",
   "metadata": {},
   "source": [
    "#### [$\\ast$] 넘파이의 정체"
   ]
  },
  {
   "cell_type": "markdown",
   "id": "particular-personality",
   "metadata": {
    "id": "southeast-century"
   },
   "source": [
    "`numpy`의 정체는 뭔가 특별한것이 아니었고, 그냥 폴더이름이었음. "
   ]
  },
  {
   "cell_type": "code",
   "execution_count": 42,
   "id": "conditional-outdoors",
   "metadata": {
    "id": "aboriginal-letter"
   },
   "outputs": [],
   "source": [
    "import math"
   ]
  },
  {
   "cell_type": "markdown",
   "id": "metric-arbor",
   "metadata": {
    "id": "democratic-suspect"
   },
   "source": [
    "`math`의 정체는 파일 \n",
    "\n",
    "`/home/cgb2/anaconda3/envs/py38r40/lib/python3.8/lib-dynload` 에 있는 파일\n",
    "\n"
   ]
  },
  {
   "cell_type": "markdown",
   "id": "international-consistency",
   "metadata": {
    "id": "w0-tbxDXOq7h"
   },
   "source": [
    "\n",
    "---\n",
    "\n",
    "**[예2]** 넘파이(numpy)를 왜 써야하는가? (2) \n",
    "\n",
    "넘파이를 사용하면 벡터연산과 행렬연산을 쉽게 할 수 있다. "
   ]
  },
  {
   "cell_type": "markdown",
   "id": "comprehensive-edwards",
   "metadata": {
    "id": "zsjvKylnO3Pt"
   },
   "source": [
    "예를들어 아래와 같은 문제가 있다고 하자. \n",
    "\n",
    "$\\begin{cases}\n",
    "w+2x+3y+4z=1 \\\\\n",
    "2w+2x+y=9 \\\\\n",
    "x-y=4 \\\\\n",
    "3w+x-y+3y=7\n",
    "\\end{cases}$"
   ]
  },
  {
   "cell_type": "markdown",
   "id": "pregnant-kitty",
   "metadata": {
    "id": "E0hvkAFrPra9"
   },
   "source": [
    "매트릭스 형태로 위의 식을 표현하면 아래와 같다. \n",
    "\n",
    "$\\begin{bmatrix}\n",
    "1 & 2 & 3 & 4 \\\\ \n",
    "2 & 2 & 1 & 0 \\\\\n",
    "0 & 1 &-1 & 0 \\\\\n",
    "3 & 1 &-1 & 3 \n",
    "\\end{bmatrix}\n",
    "\\begin{bmatrix}\n",
    "w \\\\ x \\\\ y \\\\z \n",
    "\\end{bmatrix}=\\begin{bmatrix}\n",
    "1 \\\\ 9 \\\\ 4 \\\\7 \n",
    "\\end{bmatrix}$\n"
   ]
  },
  {
   "cell_type": "markdown",
   "id": "recent-module",
   "metadata": {
    "id": "WwCBH6eeQXfx"
   },
   "source": [
    "양변에 $\\begin{bmatrix}\n",
    "1 & 2 & 3 & 4 \\\\ \n",
    "2 & 2 & 1 & 0 \\\\\n",
    "0 & 1 &-1 & 0 \\\\\n",
    "3 & 1 &-1 & 3 \n",
    "\\end{bmatrix}$의 역행렬을 취하면 \n",
    "\n"
   ]
  },
  {
   "cell_type": "markdown",
   "id": "oriented-implementation",
   "metadata": {
    "id": "jSrfqRQQQjpJ"
   },
   "source": [
    "$\\begin{bmatrix}\n",
    "w \\\\ x \\\\ y \\\\z \n",
    "\\end{bmatrix}=\\begin{bmatrix}\n",
    "1 & 2 & 3 & 4 \\\\ \n",
    "2 & 2 & 1 & 0 \\\\\n",
    "0 & 1 &-1 & 0 \\\\\n",
    "3 & 1 &-1 & 3 \n",
    "\\end{bmatrix}^{-1}\\begin{bmatrix}\n",
    "1 \\\\ 9 \\\\ 4 \\\\7 \n",
    "\\end{bmatrix}$"
   ]
  },
  {
   "cell_type": "code",
   "execution_count": 1,
   "id": "statutory-river",
   "metadata": {
    "id": "ng-cA3dGQiUX"
   },
   "outputs": [],
   "source": [
    "A=[[1,2,3,4],[2,2,1,0],[0,1,-1,0],[3,1,-1,3]]"
   ]
  },
  {
   "cell_type": "code",
   "execution_count": 44,
   "id": "lesser-forest",
   "metadata": {
    "colab": {
     "base_uri": "https://localhost:8080/"
    },
    "id": "EHI8gEwHRsdH",
    "outputId": "d90c5f71-b58c-4d47-a28b-51e87f396ae4"
   },
   "outputs": [
    {
     "data": {
      "text/plain": [
       "[[1, 2, 3, 4], [2, 2, 1, 0], [0, 1, -1, 0], [3, 1, -1, 3]]"
      ]
     },
     "execution_count": 44,
     "metadata": {},
     "output_type": "execute_result"
    }
   ],
   "source": [
    "A"
   ]
  },
  {
   "cell_type": "markdown",
   "id": "protected-topic",
   "metadata": {
    "id": "Wrdg5lQwSG5i"
   },
   "source": [
    "list로 선언된 A를 np.matrix로 변환"
   ]
  },
  {
   "cell_type": "code",
   "execution_count": 45,
   "id": "sophisticated-special",
   "metadata": {
    "id": "3BAzDQ6bPVpe"
   },
   "outputs": [],
   "source": [
    "Amat=np.matrix(A)"
   ]
  },
  {
   "cell_type": "code",
   "execution_count": 46,
   "id": "local-myanmar",
   "metadata": {
    "colab": {
     "base_uri": "https://localhost:8080/"
    },
    "id": "fNd1VLJCQ7Ah",
    "outputId": "87483410-b8d3-414d-9231-8cad35cb2214"
   },
   "outputs": [
    {
     "data": {
      "text/plain": [
       "matrix([[ 1,  2,  3,  4],\n",
       "        [ 2,  2,  1,  0],\n",
       "        [ 0,  1, -1,  0],\n",
       "        [ 3,  1, -1,  3]])"
      ]
     },
     "execution_count": 46,
     "metadata": {},
     "output_type": "execute_result"
    }
   ],
   "source": [
    "Amat"
   ]
  },
  {
   "cell_type": "markdown",
   "id": "illegal-america",
   "metadata": {
    "id": "l1Y0emcMSOFA"
   },
   "source": [
    "변환된 매트릭스의 역행렬을 구함."
   ]
  },
  {
   "cell_type": "code",
   "execution_count": 47,
   "id": "controlled-classic",
   "metadata": {
    "colab": {
     "base_uri": "https://localhost:8080/"
    },
    "id": "N8MXLqZcR02p",
    "outputId": "baf08789-60aa-4caf-9ee6-c3c8eac1d865"
   },
   "outputs": [
    {
     "data": {
      "text/plain": [
       "matrix([[-0.15789474,  0.26315789, -0.42105263,  0.21052632],\n",
       "        [ 0.10526316,  0.15789474,  0.61403509, -0.14035088],\n",
       "        [ 0.10526316,  0.15789474, -0.38596491, -0.14035088],\n",
       "        [ 0.15789474, -0.26315789,  0.0877193 ,  0.12280702]])"
      ]
     },
     "execution_count": 47,
     "metadata": {},
     "output_type": "execute_result"
    }
   ],
   "source": [
    "Amat.I"
   ]
  },
  {
   "cell_type": "code",
   "execution_count": 48,
   "id": "transsexual-omaha",
   "metadata": {
    "id": "AwJt_DuYSASk"
   },
   "outputs": [],
   "source": [
    "b=[1,9,4,7]"
   ]
  },
  {
   "cell_type": "code",
   "execution_count": 49,
   "id": "third-intensity",
   "metadata": {
    "id": "mnH9yC8tSWbj"
   },
   "outputs": [],
   "source": [
    "bvec=np.matrix(b)"
   ]
  },
  {
   "cell_type": "code",
   "execution_count": 50,
   "id": "concrete-deployment",
   "metadata": {
    "colab": {
     "base_uri": "https://localhost:8080/"
    },
    "id": "umlFZJ-sSXDE",
    "outputId": "f59501e6-e59e-48ba-f2bd-45e8e3d7efed"
   },
   "outputs": [
    {
     "data": {
      "text/plain": [
       "matrix([[1, 9, 4, 7]])"
      ]
     },
     "execution_count": 50,
     "metadata": {},
     "output_type": "execute_result"
    }
   ],
   "source": [
    "bvec"
   ]
  },
  {
   "cell_type": "markdown",
   "id": "significant-christmas",
   "metadata": {
    "id": "IOB4OFshSq0y"
   },
   "source": [
    "`bvec`은 $1\\times 4$ 매트릭스가 된 셈. \n",
    "\n",
    "그런데 우리가 원한것은 $4\\times 1$ 매트릭스였음. "
   ]
  },
  {
   "cell_type": "code",
   "execution_count": 51,
   "id": "derived-victor",
   "metadata": {
    "colab": {
     "base_uri": "https://localhost:8080/"
    },
    "id": "kIsckLfXScJy",
    "outputId": "df9a4433-3c93-4091-fda6-9b9e2b23cbbf"
   },
   "outputs": [
    {
     "data": {
      "text/plain": [
       "matrix([[1],\n",
       "        [9],\n",
       "        [4],\n",
       "        [7]])"
      ]
     },
     "execution_count": 51,
     "metadata": {},
     "output_type": "execute_result"
    }
   ],
   "source": [
    "bvec=bvec.T\n",
    "bvec"
   ]
  },
  {
   "cell_type": "code",
   "execution_count": 52,
   "id": "reduced-desert",
   "metadata": {
    "colab": {
     "base_uri": "https://localhost:8080/"
    },
    "id": "SJhgmWIDS3y6",
    "outputId": "4d084e9a-dedf-4a72-d132-0ad7ef9dd81a"
   },
   "outputs": [
    {
     "data": {
      "text/plain": [
       "matrix([[ 2.],\n",
       "        [ 3.],\n",
       "        [-1.],\n",
       "        [-1.]])"
      ]
     },
     "execution_count": 52,
     "metadata": {},
     "output_type": "execute_result"
    }
   ],
   "source": [
    "Amat.I*bvec"
   ]
  },
  {
   "cell_type": "markdown",
   "id": "suffering-garage",
   "metadata": {
    "id": "9T1wQYUVUq3i"
   },
   "source": [
    "$\\begin{bmatrix}\n",
    "w \\\\ x \\\\ y \\\\z \n",
    "\\end{bmatrix}=\\begin{bmatrix}\n",
    "1 & 2 & 3 & 4 \\\\ \n",
    "2 & 2 & 1 & 0 \\\\\n",
    "0 & 1 &-1 & 0 \\\\\n",
    "3 & 1 &-1 & 3 \n",
    "\\end{bmatrix}^{-1}\\begin{bmatrix}\n",
    "1 \\\\ 9 \\\\ 4 \\\\7 \n",
    "\\end{bmatrix}=\\begin{bmatrix}\n",
    "2 \\\\ 3 \\\\ -1 \\\\-1 \n",
    "\\end{bmatrix}$"
   ]
  },
  {
   "cell_type": "markdown",
   "id": "guided-recognition",
   "metadata": {
    "id": "6rsfiV2QT5Ac"
   },
   "source": [
    "따라서 $w=2, x=3, y=-1,z=-1$가 된다. "
   ]
  },
  {
   "cell_type": "markdown",
   "id": "moving-beijing",
   "metadata": {
    "id": "XaglHE1sU1S1"
   },
   "source": [
    "(확인)\n",
    "\n",
    "$\\begin{cases}\n",
    "w+2x+3y+4z=1 \\\\\n",
    "2w+2x+y=9 \\\\\n",
    "x-y=4 \\\\\n",
    "3w+x-y+3y=7\n",
    "\\end{cases}$\n",
    "\n",
    "에 넣어보자. "
   ]
  },
  {
   "cell_type": "markdown",
   "id": "norman-adelaide",
   "metadata": {},
   "source": [
    "---"
   ]
  },
  {
   "cell_type": "markdown",
   "id": "italian-algeria",
   "metadata": {
    "id": "5akecHf2VPSh"
   },
   "source": [
    "(숙제) \n",
    "\n",
    "$\\begin{cases}\n",
    "x+y=2 \\\\\n",
    "y+z=2 \\\\\n",
    "z+x=2\n",
    "\\end{cases}$\n",
    "\n",
    "를 파이썬을 활용하여 풀어라."
   ]
  },
  {
   "cell_type": "code",
   "execution_count": 53,
   "id": "portable-luxembourg",
   "metadata": {
    "id": "ugJqDCWOVS94"
   },
   "outputs": [],
   "source": [
    "A=[[1,1,0],[0,1,1],[1,0,1]]"
   ]
  },
  {
   "cell_type": "code",
   "execution_count": 54,
   "id": "incorporate-activation",
   "metadata": {
    "colab": {
     "base_uri": "https://localhost:8080/"
    },
    "id": "fm99rlFsVvii",
    "outputId": "90f8f80b-b201-4778-d5e5-af2e075d3ecd"
   },
   "outputs": [
    {
     "data": {
      "text/plain": [
       "matrix([[1, 1, 0],\n",
       "        [0, 1, 1],\n",
       "        [1, 0, 1]])"
      ]
     },
     "execution_count": 54,
     "metadata": {},
     "output_type": "execute_result"
    }
   ],
   "source": [
    "Amat=np.matrix(A)\n",
    "Amat"
   ]
  },
  {
   "cell_type": "code",
   "execution_count": 55,
   "id": "strong-parallel",
   "metadata": {
    "colab": {
     "base_uri": "https://localhost:8080/"
    },
    "id": "pvidxDADVw4h",
    "outputId": "5a0fad58-c360-4d9f-83b3-d5fee1679d88"
   },
   "outputs": [
    {
     "data": {
      "text/plain": [
       "matrix([[2],\n",
       "        [2],\n",
       "        [2]])"
      ]
     },
     "execution_count": 55,
     "metadata": {},
     "output_type": "execute_result"
    }
   ],
   "source": [
    "bvec=np.matrix([2,2,2]).T\n",
    "bvec"
   ]
  },
  {
   "cell_type": "markdown",
   "id": "genuine-compilation",
   "metadata": {},
   "source": [
    "---"
   ]
  },
  {
   "cell_type": "markdown",
   "id": "gross-response",
   "metadata": {},
   "source": [
    "### (2) 배열 vs 행렬 (`np.array` vs `np.matrix`)"
   ]
  },
  {
   "cell_type": "markdown",
   "id": "figured-rough",
   "metadata": {},
   "source": [
    "아래의 문제를 다시 살펴보자. "
   ]
  },
  {
   "cell_type": "markdown",
   "id": "obvious-request",
   "metadata": {
    "id": "E0hvkAFrPra9"
   },
   "source": [
    "$\\begin{bmatrix}\n",
    "1 & 2 & 3 & 4 \\\\ \n",
    "2 & 2 & 1 & 0 \\\\\n",
    "0 & 1 &-1 & 0 \\\\\n",
    "3 & 1 &-1 & 3 \n",
    "\\end{bmatrix}\n",
    "\\begin{bmatrix}\n",
    "w \\\\ x \\\\ y \\\\z \n",
    "\\end{bmatrix}=\\begin{bmatrix}\n",
    "1 \\\\ 9 \\\\ 4 \\\\7 \n",
    "\\end{bmatrix}$\n"
   ]
  },
  {
   "cell_type": "markdown",
   "id": "inside-serbia",
   "metadata": {},
   "source": [
    "$(w,x,y,z)$를 풀기위해서는 "
   ]
  },
  {
   "cell_type": "code",
   "execution_count": 67,
   "id": "nearby-detector",
   "metadata": {},
   "outputs": [
    {
     "data": {
      "text/plain": [
       "matrix([[ 2.],\n",
       "        [ 3.],\n",
       "        [-1.],\n",
       "        [-1.]])"
      ]
     },
     "execution_count": 67,
     "metadata": {},
     "output_type": "execute_result"
    }
   ],
   "source": [
    "A=[[1,2,3,4],[2,2,1,0],[0,1,-1,0],[3,1,-1,3]]\n",
    "b=[1,9,4,7]\n",
    "Amat=np.matrix(A)\n",
    "bvec=np.matrix(b).T\n",
    "Amat.I * bvec"
   ]
  },
  {
   "cell_type": "markdown",
   "id": "quiet-theme",
   "metadata": {},
   "source": [
    "그런데 아래처럼 구해도 괜찮다. "
   ]
  },
  {
   "cell_type": "markdown",
   "id": "billion-banks",
   "metadata": {},
   "source": [
    "@는 array의 *는 그저 곱셈이 되니 행렬의 곱을 할 수 있게 만든 기호\n",
    "\n",
    "matrix 자료형에서는 *이 곧 행렬의 곱이 된다. "
   ]
  },
  {
   "cell_type": "code",
   "execution_count": 32,
   "id": "tired-letters",
   "metadata": {},
   "outputs": [
    {
     "data": {
      "text/plain": [
       "array([ 2.,  3., -1., -1.])"
      ]
     },
     "execution_count": 32,
     "metadata": {},
     "output_type": "execute_result"
    }
   ],
   "source": [
    "A=[[1,2,3,4],[2,2,1,0],[0,1,-1,0],[3,1,-1,3]]\n",
    "b=[1,9,4,7]\n",
    "Aarr=np.array(A)\n",
    "barr=np.array(b)\n",
    "np.linalg.inv(Aarr) @barr "
   ]
  },
  {
   "cell_type": "markdown",
   "id": "blind-exception",
   "metadata": {},
   "source": [
    "`np.linalg.inv()`가 통째로 역행렬을 구하는 함수다."
   ]
  },
  {
   "cell_type": "code",
   "execution_count": 69,
   "id": "agreed-jesus",
   "metadata": {},
   "outputs": [
    {
     "data": {
      "text/plain": [
       "array([ 2.,  3., -1., -1.])"
      ]
     },
     "execution_count": 69,
     "metadata": {},
     "output_type": "execute_result"
    }
   ],
   "source": [
    "from numpy.linalg import inv\n",
    "A=[[1,2,3,4],[2,2,1,0],[0,1,-1,0],[3,1,-1,3]]\n",
    "b=[1,9,4,7]\n",
    "Aarr=np.array(A)\n",
    "barr=np.array(b)\n",
    "inv(Aarr) @ barr "
   ]
  },
  {
   "cell_type": "markdown",
   "id": "latin-transmission",
   "metadata": {},
   "source": [
    "왜 `np.matrix`를 썼는가? \n",
    "- 행렬곱 \n",
    "- 역행렬계산"
   ]
  },
  {
   "cell_type": "markdown",
   "id": "accessory-stewart",
   "metadata": {},
   "source": [
    "`np.matrix`가 진짜 편한가? (저는 편해요..)"
   ]
  },
  {
   "cell_type": "markdown",
   "id": "residential-wrong",
   "metadata": {},
   "source": [
    "**[불만1]** 1차원자료형에 `np.matrix`를 쓰는게 이상하다. "
   ]
  },
  {
   "cell_type": "markdown",
   "id": "adaptive-jacksonville",
   "metadata": {},
   "source": [
    "- `np.array`: 1차원 자료에 특화된 느낌\n",
    "- `np.matrix`: 2차원 자료에 특화된 느낌"
   ]
  },
  {
   "cell_type": "code",
   "execution_count": 70,
   "id": "voluntary-object",
   "metadata": {},
   "outputs": [
    {
     "data": {
      "text/plain": [
       "(4,)"
      ]
     },
     "execution_count": 70,
     "metadata": {},
     "output_type": "execute_result"
    }
   ],
   "source": [
    "barr.shape"
   ]
  },
  {
   "cell_type": "code",
   "execution_count": 71,
   "id": "otherwise-session",
   "metadata": {},
   "outputs": [
    {
     "data": {
      "text/plain": [
       "(4, 1)"
      ]
     },
     "execution_count": 71,
     "metadata": {},
     "output_type": "execute_result"
    }
   ],
   "source": [
    "bvec.shape"
   ]
  },
  {
   "cell_type": "markdown",
   "id": "wanted-loading",
   "metadata": {},
   "source": [
    "이럴꺼면 굳이 1차원 자료형인 `np.array`를 왜 만드는지? "
   ]
  },
  {
   "cell_type": "code",
   "execution_count": 38,
   "id": "faced-engagement",
   "metadata": {},
   "outputs": [
    {
     "data": {
      "text/plain": [
       "matrix([[5, 7, 9]])"
      ]
     },
     "execution_count": 38,
     "metadata": {},
     "output_type": "execute_result"
    }
   ],
   "source": [
    "np.matrix([1,2,3])+np.matrix([4,5,6])"
   ]
  },
  {
   "cell_type": "markdown",
   "id": "fifty-authority",
   "metadata": {},
   "source": [
    "**[불만2]** 3차원 자료가 있다면 어떻게 표현할래?"
   ]
  },
  {
   "cell_type": "code",
   "execution_count": 40,
   "id": "successful-disclaimer",
   "metadata": {},
   "outputs": [],
   "source": [
    "B=[[[1,2],[2,3],[3,4]],[[3,2],[2,2],[4,1]]]"
   ]
  },
  {
   "cell_type": "code",
   "execution_count": 41,
   "id": "spare-juvenile",
   "metadata": {},
   "outputs": [
    {
     "data": {
      "text/plain": [
       "[[1, 2], [2, 3], [3, 4]]"
      ]
     },
     "execution_count": 41,
     "metadata": {},
     "output_type": "execute_result"
    }
   ],
   "source": [
    "B[0]"
   ]
  },
  {
   "cell_type": "code",
   "execution_count": 42,
   "id": "racial-broadway",
   "metadata": {},
   "outputs": [
    {
     "data": {
      "text/plain": [
       "[2, 3]"
      ]
     },
     "execution_count": 42,
     "metadata": {},
     "output_type": "execute_result"
    }
   ],
   "source": [
    "B[0][1]"
   ]
  },
  {
   "cell_type": "code",
   "execution_count": 43,
   "id": "southwest-newman",
   "metadata": {},
   "outputs": [
    {
     "data": {
      "text/plain": [
       "2"
      ]
     },
     "execution_count": 43,
     "metadata": {},
     "output_type": "execute_result"
    }
   ],
   "source": [
    "B[0][1][0]"
   ]
  },
  {
   "cell_type": "code",
   "execution_count": 44,
   "id": "later-satisfaction",
   "metadata": {},
   "outputs": [
    {
     "data": {
      "text/plain": [
       "array([[[101, 102],\n",
       "        [102, 103],\n",
       "        [103, 104]],\n",
       "\n",
       "       [[103, 102],\n",
       "        [102, 102],\n",
       "        [104, 101]]])"
      ]
     },
     "execution_count": 44,
     "metadata": {},
     "output_type": "execute_result"
    }
   ],
   "source": [
    "np.array(B)+100"
   ]
  },
  {
   "cell_type": "code",
   "execution_count": 45,
   "id": "driving-terrorist",
   "metadata": {},
   "outputs": [
    {
     "ename": "ValueError",
     "evalue": "matrix must be 2-dimensional",
     "output_type": "error",
     "traceback": [
      "\u001b[1;31m---------------------------------------------------------------------------\u001b[0m",
      "\u001b[1;31mValueError\u001b[0m                                Traceback (most recent call last)",
      "\u001b[1;32m<ipython-input-45-aba2a78d4646>\u001b[0m in \u001b[0;36m<module>\u001b[1;34m\u001b[0m\n\u001b[1;32m----> 1\u001b[1;33m \u001b[0mnp\u001b[0m\u001b[1;33m.\u001b[0m\u001b[0mmatrix\u001b[0m\u001b[1;33m(\u001b[0m\u001b[0mB\u001b[0m\u001b[1;33m)\u001b[0m\u001b[1;33m+\u001b[0m\u001b[1;36m100\u001b[0m\u001b[1;33m\u001b[0m\u001b[1;33m\u001b[0m\u001b[0m\n\u001b[0m",
      "\u001b[1;32m~\\anaconda3\\envs\\py38r40\\lib\\site-packages\\numpy\\matrixlib\\defmatrix.py\u001b[0m in \u001b[0;36m__new__\u001b[1;34m(subtype, data, dtype, copy)\u001b[0m\n\u001b[0;32m    147\u001b[0m         \u001b[0mshape\u001b[0m \u001b[1;33m=\u001b[0m \u001b[0marr\u001b[0m\u001b[1;33m.\u001b[0m\u001b[0mshape\u001b[0m\u001b[1;33m\u001b[0m\u001b[1;33m\u001b[0m\u001b[0m\n\u001b[0;32m    148\u001b[0m         \u001b[1;32mif\u001b[0m \u001b[1;33m(\u001b[0m\u001b[0mndim\u001b[0m \u001b[1;33m>\u001b[0m \u001b[1;36m2\u001b[0m\u001b[1;33m)\u001b[0m\u001b[1;33m:\u001b[0m\u001b[1;33m\u001b[0m\u001b[1;33m\u001b[0m\u001b[0m\n\u001b[1;32m--> 149\u001b[1;33m             \u001b[1;32mraise\u001b[0m \u001b[0mValueError\u001b[0m\u001b[1;33m(\u001b[0m\u001b[1;34m\"matrix must be 2-dimensional\"\u001b[0m\u001b[1;33m)\u001b[0m\u001b[1;33m\u001b[0m\u001b[1;33m\u001b[0m\u001b[0m\n\u001b[0m\u001b[0;32m    150\u001b[0m         \u001b[1;32melif\u001b[0m \u001b[0mndim\u001b[0m \u001b[1;33m==\u001b[0m \u001b[1;36m0\u001b[0m\u001b[1;33m:\u001b[0m\u001b[1;33m\u001b[0m\u001b[1;33m\u001b[0m\u001b[0m\n\u001b[0;32m    151\u001b[0m             \u001b[0mshape\u001b[0m \u001b[1;33m=\u001b[0m \u001b[1;33m(\u001b[0m\u001b[1;36m1\u001b[0m\u001b[1;33m,\u001b[0m \u001b[1;36m1\u001b[0m\u001b[1;33m)\u001b[0m\u001b[1;33m\u001b[0m\u001b[1;33m\u001b[0m\u001b[0m\n",
      "\u001b[1;31mValueError\u001b[0m: matrix must be 2-dimensional"
     ]
    }
   ],
   "source": [
    "np.matrix(B)+100"
   ]
  },
  {
   "cell_type": "markdown",
   "id": "polished-place",
   "metadata": {},
   "source": [
    "**[불만3]** `np.array`, `np.matrix`가 같이 있으면 혼란이 생긴다. col-vector, row-vector를 굳이 구분하고 싶지 않다.   "
   ]
  },
  {
   "cell_type": "markdown",
   "id": "widespread-memorial",
   "metadata": {},
   "source": [
    "내적: $b=\\begin{bmatrix} 1 \\\\ 2 \\\\ 3 \\end{bmatrix}$라는 벡터가 있다고 하자."
   ]
  },
  {
   "cell_type": "markdown",
   "id": "dramatic-microwave",
   "metadata": {},
   "source": [
    "벡터의 크기의 제곱: $1^2+2^2+3^2$"
   ]
  },
  {
   "cell_type": "markdown",
   "id": "virtual-currency",
   "metadata": {},
   "source": [
    "벡터의 크기: $\\sqrt{1^2+2^2+3^2}$"
   ]
  },
  {
   "cell_type": "code",
   "execution_count": 79,
   "id": "wanted-large",
   "metadata": {},
   "outputs": [
    {
     "data": {
      "text/plain": [
       "147"
      ]
     },
     "execution_count": 79,
     "metadata": {},
     "output_type": "execute_result"
    }
   ],
   "source": [
    "np.array(b)@np.array(b)"
   ]
  },
  {
   "cell_type": "markdown",
   "id": "earlier-enlargement",
   "metadata": {},
   "source": [
    "$b=\\begin{bmatrix} 1 \\\\ 2 \\\\ 3 \\end{bmatrix}$, $b^T=[1,2,3]$"
   ]
  },
  {
   "cell_type": "markdown",
   "id": "numeric-cemetery",
   "metadata": {},
   "source": [
    "$b^T b=[1,2,3]\\begin{bmatrix} 1 \\\\ 2 \\\\ 3 \\end{bmatrix}=1^2+2^2+3^2=14$\n",
    "\n",
    "$b b^T=\\begin{bmatrix} 1 \\\\ 2 \\\\ 3 \\end{bmatrix}[1,2,3]=\\begin{bmatrix}1 & 2 & 3 \\\\\n",
    "2 & 4 & 6 \\\\ \n",
    "3 & 6 & 9\n",
    "\\end{bmatrix}$"
   ]
  },
  {
   "cell_type": "code",
   "execution_count": 48,
   "id": "streaming-savannah",
   "metadata": {},
   "outputs": [
    {
     "data": {
      "text/plain": [
       "[1, 9, 4, 7]"
      ]
     },
     "execution_count": 48,
     "metadata": {},
     "output_type": "execute_result"
    }
   ],
   "source": [
    "b"
   ]
  },
  {
   "cell_type": "code",
   "execution_count": 49,
   "id": "ranging-premium",
   "metadata": {},
   "outputs": [],
   "source": [
    "b1=np.array(b)\n",
    "b2=np.matrix(b).T"
   ]
  },
  {
   "cell_type": "code",
   "execution_count": 50,
   "id": "forced-decade",
   "metadata": {},
   "outputs": [
    {
     "name": "stdout",
     "output_type": "stream",
     "text": [
      "[[147]]\n",
      "[[ 1  9  4  7]\n",
      " [ 9 81 36 63]\n",
      " [ 4 36 16 28]\n",
      " [ 7 63 28 49]]\n"
     ]
    }
   ],
   "source": [
    "print(b2.T*b2) #... (1)\n",
    "print(b2*b2.T) #... (2)\n",
    "#print(b2*b2) ... (3)\n",
    "#print(b2.T*b2.T) ... (4)"
   ]
  },
  {
   "cell_type": "markdown",
   "id": "extensive-polls",
   "metadata": {},
   "source": [
    "(1)~(4) 중에 무엇이 맞는 수식인지 따지고 싶지 않다. / 구분 안해도 된다!"
   ]
  },
  {
   "cell_type": "code",
   "execution_count": 51,
   "id": "italic-bundle",
   "metadata": {
    "tags": []
   },
   "outputs": [
    {
     "data": {
      "text/plain": [
       "147"
      ]
     },
     "execution_count": 51,
     "metadata": {},
     "output_type": "execute_result"
    }
   ],
   "source": [
    "b1@b1 #...(1)\n",
    "b1@b1.T #...(2)\n",
    "b1.T@b1 #...(3)\n",
    "b1.T@b1.T #...(4)"
   ]
  },
  {
   "cell_type": "code",
   "execution_count": 54,
   "id": "sunset-springer",
   "metadata": {},
   "outputs": [],
   "source": [
    "A=np.array([[1,0],[0,1]])"
   ]
  },
  {
   "cell_type": "code",
   "execution_count": 55,
   "id": "exceptional-california",
   "metadata": {},
   "outputs": [
    {
     "data": {
      "text/plain": [
       "array([[1, 0],\n",
       "       [0, 1]])"
      ]
     },
     "execution_count": 55,
     "metadata": {},
     "output_type": "execute_result"
    }
   ],
   "source": [
    "A"
   ]
  },
  {
   "cell_type": "code",
   "execution_count": 56,
   "id": "equipped-investing",
   "metadata": {
    "tags": []
   },
   "outputs": [],
   "source": [
    "b=np.matrix([200,300]).T"
   ]
  },
  {
   "cell_type": "markdown",
   "id": "acknowledged-jumping",
   "metadata": {},
   "source": [
    "### (3) 인덱싱 (슬라이싱 포함)"
   ]
  },
  {
   "cell_type": "code",
   "execution_count": 57,
   "id": "opponent-amsterdam",
   "metadata": {},
   "outputs": [],
   "source": [
    "A=np.array([[11,12,13,14,15],[21,22,23,24,25],[31,32,33,34,35]])"
   ]
  },
  {
   "cell_type": "code",
   "execution_count": 58,
   "id": "surprising-repair",
   "metadata": {},
   "outputs": [
    {
     "data": {
      "text/plain": [
       "array([[11, 12, 13, 14, 15],\n",
       "       [21, 22, 23, 24, 25],\n",
       "       [31, 32, 33, 34, 35]])"
      ]
     },
     "execution_count": 58,
     "metadata": {},
     "output_type": "execute_result"
    }
   ],
   "source": [
    "A"
   ]
  },
  {
   "cell_type": "markdown",
   "id": "cardiovascular-civilization",
   "metadata": {},
   "source": [
    "**[예제1]** (3,1)에 접근하여 보자!"
   ]
  },
  {
   "cell_type": "markdown",
   "id": "desirable-central",
   "metadata": {},
   "source": [
    "(방법1)"
   ]
  },
  {
   "cell_type": "code",
   "execution_count": 88,
   "id": "hungry-burner",
   "metadata": {},
   "outputs": [
    {
     "data": {
      "text/plain": [
       "array([31, 32, 33, 34, 35])"
      ]
     },
     "execution_count": 88,
     "metadata": {},
     "output_type": "execute_result"
    }
   ],
   "source": [
    "A[2]"
   ]
  },
  {
   "cell_type": "code",
   "execution_count": 89,
   "id": "fluid-weight",
   "metadata": {},
   "outputs": [
    {
     "data": {
      "text/plain": [
       "31"
      ]
     },
     "execution_count": 89,
     "metadata": {},
     "output_type": "execute_result"
    }
   ],
   "source": [
    "A[2][0]"
   ]
  },
  {
   "cell_type": "markdown",
   "id": "labeled-sierra",
   "metadata": {},
   "source": [
    "(방법2)"
   ]
  },
  {
   "cell_type": "code",
   "execution_count": 94,
   "id": "living-limit",
   "metadata": {},
   "outputs": [
    {
     "data": {
      "text/plain": [
       "31"
      ]
     },
     "execution_count": 94,
     "metadata": {},
     "output_type": "execute_result"
    }
   ],
   "source": [
    "A[2,0] # list와의 차이점"
   ]
  },
  {
   "cell_type": "markdown",
   "id": "sought-shannon",
   "metadata": {},
   "source": [
    "**[예제2]** 3행에 접근해보자."
   ]
  },
  {
   "cell_type": "markdown",
   "id": "partial-geneva",
   "metadata": {},
   "source": [
    "(방법1)"
   ]
  },
  {
   "cell_type": "code",
   "execution_count": 58,
   "id": "sacred-entity",
   "metadata": {},
   "outputs": [
    {
     "data": {
      "text/plain": [
       "array([31, 32, 33, 34, 35])"
      ]
     },
     "execution_count": 58,
     "metadata": {},
     "output_type": "execute_result"
    }
   ],
   "source": [
    "A[2]"
   ]
  },
  {
   "cell_type": "markdown",
   "id": "inner-connectivity",
   "metadata": {},
   "source": [
    "(방법2)"
   ]
  },
  {
   "cell_type": "code",
   "execution_count": 59,
   "id": "hydraulic-campus",
   "metadata": {},
   "outputs": [
    {
     "data": {
      "text/plain": [
       "array([31, 32, 33, 34, 35])"
      ]
     },
     "execution_count": 59,
     "metadata": {},
     "output_type": "execute_result"
    }
   ],
   "source": [
    "A[2,0:5]"
   ]
  },
  {
   "cell_type": "markdown",
   "id": "celtic-killing",
   "metadata": {},
   "source": [
    "(방법3)"
   ]
  },
  {
   "cell_type": "code",
   "execution_count": 60,
   "id": "broke-orientation",
   "metadata": {},
   "outputs": [
    {
     "data": {
      "text/plain": [
       "array([31, 32, 33, 34, 35])"
      ]
     },
     "execution_count": 60,
     "metadata": {},
     "output_type": "execute_result"
    }
   ],
   "source": [
    "A[2,:]"
   ]
  },
  {
   "cell_type": "markdown",
   "id": "horizontal-despite",
   "metadata": {},
   "source": [
    "**[예제3]** 2열에 접근하여 보자. "
   ]
  },
  {
   "cell_type": "markdown",
   "id": "missing-palace",
   "metadata": {},
   "source": [
    "(방법1)"
   ]
  },
  {
   "cell_type": "code",
   "execution_count": 95,
   "id": "oriental-franklin",
   "metadata": {},
   "outputs": [
    {
     "data": {
      "text/plain": [
       "array([12, 22, 32])"
      ]
     },
     "execution_count": 95,
     "metadata": {},
     "output_type": "execute_result"
    }
   ],
   "source": [
    "A[:,1]"
   ]
  },
  {
   "cell_type": "markdown",
   "id": "cooked-inside",
   "metadata": {},
   "source": [
    "아래가 더 읽기 편하지 않나? "
   ]
  },
  {
   "cell_type": "code",
   "execution_count": 96,
   "id": "recovered-treasury",
   "metadata": {},
   "outputs": [
    {
     "data": {
      "text/plain": [
       "matrix([[12],\n",
       "        [22],\n",
       "        [32]])"
      ]
     },
     "execution_count": 96,
     "metadata": {},
     "output_type": "execute_result"
    }
   ],
   "source": [
    "Amat=np.matrix(A)\n",
    "Amat[:,1]"
   ]
  },
  {
   "cell_type": "markdown",
   "id": "identical-celebration",
   "metadata": {},
   "source": [
    "(방법2)"
   ]
  },
  {
   "cell_type": "markdown",
   "id": "flexible-condition",
   "metadata": {
    "tags": []
   },
   "source": [
    "T는 변환이니 기존[]이 행 인덱싱이면 .T[]는 열 인덱싱이다. "
   ]
  },
  {
   "cell_type": "code",
   "execution_count": 59,
   "id": "taken-security",
   "metadata": {},
   "outputs": [
    {
     "data": {
      "text/plain": [
       "array([[11, 12, 13, 14, 15],\n",
       "       [21, 22, 23, 24, 25],\n",
       "       [31, 32, 33, 34, 35]])"
      ]
     },
     "execution_count": 59,
     "metadata": {},
     "output_type": "execute_result"
    }
   ],
   "source": [
    "A"
   ]
  },
  {
   "cell_type": "code",
   "execution_count": 98,
   "id": "incredible-effect",
   "metadata": {},
   "outputs": [
    {
     "data": {
      "text/plain": [
       "array([13, 23, 33])"
      ]
     },
     "execution_count": 98,
     "metadata": {},
     "output_type": "execute_result"
    }
   ],
   "source": [
    "A.T[2]"
   ]
  },
  {
   "cell_type": "markdown",
   "id": "ready-castle",
   "metadata": {},
   "source": [
    "**[예제4]** 1행중에서 1,3,5열에 접근해보자. "
   ]
  },
  {
   "cell_type": "markdown",
   "id": "confused-january",
   "metadata": {},
   "source": [
    "(방법1)"
   ]
  },
  {
   "cell_type": "code",
   "execution_count": 60,
   "id": "permanent-burner",
   "metadata": {},
   "outputs": [
    {
     "data": {
      "text/plain": [
       "array([11, 13, 15])"
      ]
     },
     "execution_count": 60,
     "metadata": {},
     "output_type": "execute_result"
    }
   ],
   "source": [
    "A[0,[0,2,4]]"
   ]
  },
  {
   "cell_type": "markdown",
   "id": "silver-suffering",
   "metadata": {},
   "source": [
    "(방법2)"
   ]
  },
  {
   "cell_type": "code",
   "execution_count": 61,
   "id": "european-passport",
   "metadata": {},
   "outputs": [
    {
     "data": {
      "text/plain": [
       "array([11, 13, 15])"
      ]
     },
     "execution_count": 61,
     "metadata": {},
     "output_type": "execute_result"
    }
   ],
   "source": [
    "A[0][[0,2,4]] #가로 안에 [][[]]인 이유는 [][1,2,3]은 여러 수치가 들어가 버린거이기 때문 "
   ]
  },
  {
   "cell_type": "markdown",
   "id": "finite-representation",
   "metadata": {},
   "source": [
    "(방법3)"
   ]
  },
  {
   "cell_type": "code",
   "execution_count": 62,
   "id": "distinguished-proxy",
   "metadata": {},
   "outputs": [],
   "source": [
    "b=(0,2,4)"
   ]
  },
  {
   "cell_type": "code",
   "execution_count": 63,
   "id": "stable-chorus",
   "metadata": {},
   "outputs": [
    {
     "ename": "IndexError",
     "evalue": "too many indices for array: array is 1-dimensional, but 3 were indexed",
     "output_type": "error",
     "traceback": [
      "\u001b[1;31m---------------------------------------------------------------------------\u001b[0m",
      "\u001b[1;31mIndexError\u001b[0m                                Traceback (most recent call last)",
      "\u001b[1;32m<ipython-input-63-a8fe49ff30d5>\u001b[0m in \u001b[0;36m<module>\u001b[1;34m\u001b[0m\n\u001b[1;32m----> 1\u001b[1;33m \u001b[0mA\u001b[0m\u001b[1;33m[\u001b[0m\u001b[1;36m0\u001b[0m\u001b[1;33m]\u001b[0m\u001b[1;33m[\u001b[0m\u001b[0mb\u001b[0m\u001b[1;33m]\u001b[0m\u001b[1;33m\u001b[0m\u001b[1;33m\u001b[0m\u001b[0m\n\u001b[0m",
      "\u001b[1;31mIndexError\u001b[0m: too many indices for array: array is 1-dimensional, but 3 were indexed"
     ]
    }
   ],
   "source": [
    "A[0][b]"
   ]
  },
  {
   "cell_type": "markdown",
   "id": "stretch-joining",
   "metadata": {},
   "source": [
    "(방법4)"
   ]
  },
  {
   "cell_type": "code",
   "execution_count": 64,
   "id": "authentic-france",
   "metadata": {},
   "outputs": [
    {
     "data": {
      "text/plain": [
       "array([11, 13, 15])"
      ]
     },
     "execution_count": 64,
     "metadata": {},
     "output_type": "execute_result"
    }
   ],
   "source": [
    "A[0,b]"
   ]
  },
  {
   "cell_type": "markdown",
   "id": "waiting-identity",
   "metadata": {},
   "source": [
    "**[예제5]** (1,1),(1,2), (2,1),(2,2) 에 접근하자."
   ]
  },
  {
   "cell_type": "markdown",
   "id": "later-record",
   "metadata": {},
   "source": [
    "(방법1)"
   ]
  },
  {
   "cell_type": "code",
   "execution_count": 103,
   "id": "shared-junction",
   "metadata": {},
   "outputs": [
    {
     "data": {
      "text/plain": [
       "array([[11, 12, 13, 14, 15],\n",
       "       [21, 22, 23, 24, 25],\n",
       "       [31, 32, 33, 34, 35]])"
      ]
     },
     "execution_count": 103,
     "metadata": {},
     "output_type": "execute_result"
    }
   ],
   "source": [
    "A"
   ]
  },
  {
   "cell_type": "code",
   "execution_count": 70,
   "id": "controlling-athletics",
   "metadata": {},
   "outputs": [
    {
     "data": {
      "text/plain": [
       "array([[11, 12],\n",
       "       [21, 22]])"
      ]
     },
     "execution_count": 70,
     "metadata": {},
     "output_type": "execute_result"
    }
   ],
   "source": [
    "A[0:2,0:2]"
   ]
  },
  {
   "cell_type": "markdown",
   "id": "blond-linux",
   "metadata": {},
   "source": [
    "(방법2)"
   ]
  },
  {
   "cell_type": "code",
   "execution_count": 109,
   "id": "silent-rebel",
   "metadata": {},
   "outputs": [
    {
     "data": {
      "text/plain": [
       "array([11, 22])"
      ]
     },
     "execution_count": 109,
     "metadata": {},
     "output_type": "execute_result"
    }
   ],
   "source": [
    "a=[0,1]\n",
    "b=[0,1]\n",
    "A[a,b]"
   ]
  },
  {
   "cell_type": "markdown",
   "id": "integrated-preservation",
   "metadata": {},
   "source": [
    "둘다 벡터가 들어갔기 때문에 \n",
    "A[a[0],b[0]]\n",
    "A[a[1],b[1]]\n",
    "가 나와버렸다. \n",
    "\n",
    "우리가 원한건\n",
    "A[0,0], A[0,1]\n",
    "A[1,0], A[1,1]\n",
    "이거였는데 "
   ]
  },
  {
   "cell_type": "code",
   "execution_count": 72,
   "id": "korean-segment",
   "metadata": {},
   "outputs": [
    {
     "data": {
      "text/plain": [
       "array([11, 22])"
      ]
     },
     "execution_count": 72,
     "metadata": {},
     "output_type": "execute_result"
    }
   ],
   "source": [
    "A[a,b]"
   ]
  },
  {
   "cell_type": "markdown",
   "id": "caroline-sugar",
   "metadata": {},
   "source": [
    "깨달음! "
   ]
  },
  {
   "cell_type": "code",
   "execution_count": 110,
   "id": "actual-croatia",
   "metadata": {},
   "outputs": [
    {
     "data": {
      "text/plain": [
       "array([11, 12, 21, 22])"
      ]
     },
     "execution_count": 110,
     "metadata": {},
     "output_type": "execute_result"
    }
   ],
   "source": [
    "# A[0,0]\n",
    "# A[0,1]\n",
    "# A[1,0]\n",
    "# A[1,1] \n",
    "# * mac : cmd + / \n",
    "# * win : ctrl + / \n",
    "a=[0,0,1,1]\n",
    "b=[0,1,0,1]\n",
    "A[a,b]"
   ]
  },
  {
   "cell_type": "markdown",
   "id": "rubber-facing",
   "metadata": {},
   "source": [
    "(방법3)"
   ]
  },
  {
   "cell_type": "code",
   "execution_count": 111,
   "id": "supposed-wings",
   "metadata": {},
   "outputs": [
    {
     "data": {
      "text/plain": [
       "array([[11, 12],\n",
       "       [21, 22]])"
      ]
     },
     "execution_count": 111,
     "metadata": {},
     "output_type": "execute_result"
    }
   ],
   "source": [
    "a=[0,1]\n",
    "b=[0,1]\n",
    "A[np.ix_(a,b)]"
   ]
  },
  {
   "cell_type": "code",
   "execution_count": 112,
   "id": "adapted-morrison",
   "metadata": {},
   "outputs": [
    {
     "data": {
      "text/plain": [
       "(array([[0],\n",
       "        [1]]),\n",
       " array([[0, 1]]))"
      ]
     },
     "execution_count": 112,
     "metadata": {},
     "output_type": "execute_result"
    }
   ],
   "source": [
    "np.ix_(a,b)"
   ]
  },
  {
   "cell_type": "markdown",
   "id": "adjustable-terrorist",
   "metadata": {},
   "source": [
    "**[예제6]**"
   ]
  },
  {
   "cell_type": "markdown",
   "id": "intellectual-verification",
   "metadata": {},
   "source": [
    "홀수행, 짝수열을 뽑아보자. "
   ]
  },
  {
   "cell_type": "markdown",
   "id": "preceding-episode",
   "metadata": {},
   "source": [
    "즉 12,32,14,34 가 뽑혀야함"
   ]
  },
  {
   "cell_type": "markdown",
   "id": "hawaiian-handling",
   "metadata": {},
   "source": [
    "(방법1)"
   ]
  },
  {
   "cell_type": "code",
   "execution_count": 76,
   "id": "pending-inclusion",
   "metadata": {},
   "outputs": [],
   "source": [
    "# A[0,1]\n",
    "# A[2,1]\n",
    "# A[0,3]\n",
    "# A[2,3]"
   ]
  },
  {
   "cell_type": "code",
   "execution_count": 77,
   "id": "matched-exploration",
   "metadata": {},
   "outputs": [
    {
     "data": {
      "text/plain": [
       "array([12, 32, 14, 34])"
      ]
     },
     "execution_count": 77,
     "metadata": {},
     "output_type": "execute_result"
    }
   ],
   "source": [
    "a=[0,2,0,2]\n",
    "b=[1,1,3,3]\n",
    "A[a,b]"
   ]
  },
  {
   "cell_type": "markdown",
   "id": "driving-harris",
   "metadata": {},
   "source": [
    "(방법2)"
   ]
  },
  {
   "cell_type": "code",
   "execution_count": 78,
   "id": "broken-tourist",
   "metadata": {},
   "outputs": [
    {
     "data": {
      "text/plain": [
       "array([[12, 14],\n",
       "       [32, 34]])"
      ]
     },
     "execution_count": 78,
     "metadata": {},
     "output_type": "execute_result"
    }
   ],
   "source": [
    "a=[0,2] # 1,3 행 ==> 홀수행\n",
    "b=[1,3] # 2,4 열 ==> 짝수열 \n",
    "A[np.ix_(a,b)]"
   ]
  },
  {
   "cell_type": "markdown",
   "id": "consistent-wrestling",
   "metadata": {},
   "source": [
    "**[예제7]**"
   ]
  },
  {
   "cell_type": "markdown",
   "id": "hydraulic-server",
   "metadata": {},
   "source": [
    "2행의 원소중 23보다 작은 원소만? "
   ]
  },
  {
   "cell_type": "markdown",
   "id": "likely-background",
   "metadata": {},
   "source": [
    "(방법1)"
   ]
  },
  {
   "cell_type": "code",
   "execution_count": 116,
   "id": "iraqi-legend",
   "metadata": {},
   "outputs": [
    {
     "data": {
      "text/plain": [
       "array([21, 22])"
      ]
     },
     "execution_count": 116,
     "metadata": {},
     "output_type": "execute_result"
    }
   ],
   "source": [
    "#A[1,0] A[1,1]\n",
    "b=[0,1]\n",
    "A[1,b]"
   ]
  },
  {
   "cell_type": "code",
   "execution_count": 117,
   "id": "bored-photographer",
   "metadata": {},
   "outputs": [
    {
     "data": {
      "text/plain": [
       "array([[11, 12, 13, 14, 15],\n",
       "       [21, 22, 23, 24, 25],\n",
       "       [31, 32, 33, 34, 35]])"
      ]
     },
     "execution_count": 117,
     "metadata": {},
     "output_type": "execute_result"
    }
   ],
   "source": [
    "A"
   ]
  },
  {
   "cell_type": "markdown",
   "id": "fewer-condition",
   "metadata": {},
   "source": [
    "(방법2)"
   ]
  },
  {
   "cell_type": "markdown",
   "id": "lucky-alaska",
   "metadata": {},
   "source": [
    "아래를 관찰해보자."
   ]
  },
  {
   "cell_type": "code",
   "execution_count": 118,
   "id": "determined-subdivision",
   "metadata": {},
   "outputs": [],
   "source": [
    "c=np.random.normal(size=100)\n",
    "# np.random.normal(size=100)는 표준정규분포에서 100개의 난수를 생성하는 함수"
   ]
  },
  {
   "cell_type": "code",
   "execution_count": 119,
   "id": "horizontal-studio",
   "metadata": {},
   "outputs": [
    {
     "data": {
      "text/plain": [
       "array([1.39636172, 0.21759459, 2.20842297, 0.69054294, 1.48841495,\n",
       "       0.37350807, 0.52640008, 1.45483298, 0.38632596, 0.01374408,\n",
       "       0.6576619 , 0.31130872, 0.07133159, 2.56040194, 1.53486264,\n",
       "       1.2461994 , 0.40849045, 0.41111438, 0.29771423, 1.27376457,\n",
       "       0.46588624, 0.03946472, 0.91351687, 0.57605497, 0.08190782,\n",
       "       0.57229183, 0.13729923, 1.2940632 , 0.02680989, 0.134452  ,\n",
       "       0.41848333, 0.30913859, 0.79297293, 2.48555845, 0.21021628,\n",
       "       0.64461624, 0.58458465, 2.82719024, 1.05804052, 0.93083556,\n",
       "       1.45590051, 0.20098402, 1.3651123 , 0.46191744])"
      ]
     },
     "execution_count": 119,
     "metadata": {},
     "output_type": "execute_result"
    }
   ],
   "source": [
    "c[c>0]"
   ]
  },
  {
   "cell_type": "markdown",
   "id": "incident-enclosure",
   "metadata": {},
   "source": [
    "이제 응용해보자. "
   ]
  },
  {
   "cell_type": "code",
   "execution_count": 120,
   "id": "hungarian-agenda",
   "metadata": {},
   "outputs": [
    {
     "data": {
      "text/plain": [
       "array([-1.96216422e-01, -1.63969075e+00, -5.57200617e-01, -5.98140596e-01,\n",
       "       -9.56191689e-01, -1.58517796e+00, -1.29201728e+00, -7.37077086e-01,\n",
       "       -2.33123186e-01, -1.07177286e+00, -6.79196712e-01, -8.83515413e-01,\n",
       "       -4.48204259e-01, -1.40873362e+00, -5.93696131e-01, -2.53701866e+00,\n",
       "       -3.93436853e-03, -7.33995166e-01, -6.42540255e-01, -1.15707970e+00,\n",
       "       -4.91534194e-01, -2.21558913e+00, -1.40718929e+00, -3.39383411e-02,\n",
       "       -1.44271103e+00, -1.74689013e+00, -1.07726532e-01, -1.56507810e+00,\n",
       "       -3.46305856e-01, -4.74484242e-05, -3.41926843e-01, -1.61676942e-01,\n",
       "       -1.08415563e-01, -1.10311326e+00, -7.74295482e-01, -1.38483182e+00,\n",
       "       -8.66506643e-03, -1.62970462e+00, -1.28422308e+00, -1.25530928e+00,\n",
       "       -9.20065182e-01, -1.57288428e-01, -9.59275454e-02, -2.90031677e+00])"
      ]
     },
     "execution_count": 120,
     "metadata": {},
     "output_type": "execute_result"
    }
   ],
   "source": [
    "a = np.random.normal(size=100)\n",
    "a[a<0]"
   ]
  },
  {
   "cell_type": "code",
   "execution_count": 66,
   "id": "arranged-finance",
   "metadata": {},
   "outputs": [
    {
     "data": {
      "text/plain": [
       "array([21, 22])"
      ]
     },
     "execution_count": 66,
     "metadata": {},
     "output_type": "execute_result"
    }
   ],
   "source": [
    "# c -- A[1]\n",
    "# c>0 -- A[1]<23 \n",
    "# c[c>0]\n",
    "A[1][A[1]<23]"
   ]
  },
  {
   "cell_type": "markdown",
   "id": "plain-teacher",
   "metadata": {},
   "source": [
    "(방법3)"
   ]
  },
  {
   "cell_type": "code",
   "execution_count": 83,
   "id": "tough-property",
   "metadata": {},
   "outputs": [
    {
     "data": {
      "text/plain": [
       "array([21, 22])"
      ]
     },
     "execution_count": 83,
     "metadata": {},
     "output_type": "execute_result"
    }
   ],
   "source": [
    "A[1,:][A[1,:]<23]"
   ]
  },
  {
   "cell_type": "markdown",
   "id": "million-finding",
   "metadata": {},
   "source": [
    "#### [$\\ast$] 인덱싱의 종류 ($\\star\\star\\star$)"
   ]
  },
  {
   "cell_type": "markdown",
   "id": "excess-style",
   "metadata": {},
   "source": [
    "1. 기본인덱싱: 인덱스, 슬라이싱을 활용 \n",
    "   - 예1: `A[1,1]` \n",
    "   - 예2: `A[1,0:2]` \n",
    "2. 팬시인덱싱(응용인덱싱): 인덱스를 정수배열로 전달, `np.ix_`함수를 활용한 인덱싱, 부울값 인덱싱\n",
    "    - 예1: `A[0,[0,2,4]]` , 정수배열 인덱싱\n",
    "    - 예2: `A[np.ix_(a,b)]` , np.ix함수를 활용한 인덱싱 / 각 자리 지정 가능 + 행렬 형식으로 출력 가능\n",
    "    - 예3: `c[c>0]` , 부울값인덱싱"
   ]
  },
  {
   "cell_type": "code",
   "execution_count": 122,
   "id": "unlimited-venice",
   "metadata": {},
   "outputs": [
    {
     "data": {
      "text/plain": [
       "array([[11, 12, 13, 14, 15],\n",
       "       [21, 22, 23, 24, 25],\n",
       "       [31, 32, 33, 34, 35]])"
      ]
     },
     "execution_count": 122,
     "metadata": {},
     "output_type": "execute_result"
    }
   ],
   "source": [
    "A"
   ]
  },
  {
   "cell_type": "markdown",
   "id": "empirical-physics",
   "metadata": {},
   "source": [
    "### (4) `numpy`를 배우는 방법"
   ]
  },
  {
   "cell_type": "markdown",
   "id": "verbal-lottery",
   "metadata": {},
   "source": [
    "인터넷+자동완성+contextual help "
   ]
  },
  {
   "cell_type": "markdown",
   "id": "adaptive-filling",
   "metadata": {},
   "source": [
    "[$\\ast$] 자동완성이 안되면 콘다환경에서 아래를 실행해볼것. \n",
    "```\n",
    "pip install \"jedi==0.17.2\"\n",
    "```"
   ]
  },
  {
   "cell_type": "code",
   "execution_count": 140,
   "id": "muslim-harris",
   "metadata": {},
   "outputs": [],
   "source": [
    "a=np.array([1,2,3,2])"
   ]
  },
  {
   "cell_type": "code",
   "execution_count": 141,
   "id": "disciplinary-victor",
   "metadata": {},
   "outputs": [
    {
     "data": {
      "text/plain": [
       "<function ndarray.reshape>"
      ]
     },
     "execution_count": 141,
     "metadata": {},
     "output_type": "execute_result"
    }
   ],
   "source": [
    "a.reshape"
   ]
  },
  {
   "cell_type": "code",
   "execution_count": 86,
   "id": "imposed-nothing",
   "metadata": {},
   "outputs": [
    {
     "data": {
      "text/plain": [
       "array([[1, 2, 3],\n",
       "       [4, 5, 6]])"
      ]
     },
     "execution_count": 86,
     "metadata": {},
     "output_type": "execute_result"
    }
   ],
   "source": [
    "a=np.array([[1,2,3], [4,5,6]])\n",
    "a"
   ]
  },
  {
   "cell_type": "code",
   "execution_count": 87,
   "id": "fantastic-brook",
   "metadata": {},
   "outputs": [
    {
     "data": {
      "text/plain": [
       "array([[1, 2],\n",
       "       [3, 4],\n",
       "       [5, 6]])"
      ]
     },
     "execution_count": 87,
     "metadata": {},
     "output_type": "execute_result"
    }
   ],
   "source": [
    "np.reshape(a, (3,2))"
   ]
  }
 ],
 "metadata": {
  "colab": {
   "name": "note2_0322.ipynb",
   "provenance": []
  },
  "kernelspec": {
   "display_name": "Python 3",
   "language": "python",
   "name": "python3"
  },
  "language_info": {
   "codemirror_mode": {
    "name": "ipython",
    "version": 3
   },
   "file_extension": ".py",
   "mimetype": "text/x-python",
   "name": "python",
   "nbconvert_exporter": "python",
   "pygments_lexer": "ipython3",
   "version": "3.8.8"
  }
 },
 "nbformat": 4,
 "nbformat_minor": 5
}
