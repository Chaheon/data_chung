{
 "cells": [
  {
   "cell_type": "markdown",
   "id": "controlled-decimal",
   "metadata": {},
   "source": [
    "## 문자열 "
   ]
  },
  {
   "cell_type": "markdown",
   "id": "every-flower",
   "metadata": {},
   "source": [
    "### 문자열 `\\`옵션 "
   ]
  },
  {
   "cell_type": "markdown",
   "id": "emotional-server",
   "metadata": {},
   "source": [
    "`-` 예제1: 한줄 띄우기 "
   ]
  },
  {
   "cell_type": "code",
   "execution_count": 6,
   "id": "bigger-harvard",
   "metadata": {},
   "outputs": [],
   "source": [
    "f = 1.5"
   ]
  },
  {
   "cell_type": "code",
   "execution_count": 7,
   "id": "inside-bulletin",
   "metadata": {},
   "outputs": [
    {
     "name": "stdout",
     "output_type": "stream",
     "text": [
      "1.5\n",
      "1.5\n",
      "1.5\n"
     ]
    }
   ],
   "source": [
    "print(f,f,f, sep = '\\n') # 변수 줄바꿈 "
   ]
  },
  {
   "cell_type": "code",
   "execution_count": 13,
   "id": "elder-terry",
   "metadata": {},
   "outputs": [
    {
     "data": {
      "text/plain": [
       "'나는\\n최규빈'"
      ]
     },
     "execution_count": 13,
     "metadata": {},
     "output_type": "execute_result"
    }
   ],
   "source": [
    "'나는\\n최규빈'"
   ]
  },
  {
   "cell_type": "code",
   "execution_count": 14,
   "id": "rational-albany",
   "metadata": {},
   "outputs": [
    {
     "name": "stdout",
     "output_type": "stream",
     "text": [
      "나는\n",
      "최규빈\n"
     ]
    }
   ],
   "source": [
    "print('나는\\n최규빈')"
   ]
  },
  {
   "cell_type": "markdown",
   "id": "conditional-committee",
   "metadata": {},
   "source": [
    "`–` 예제2: 탭 "
   ]
  },
  {
   "cell_type": "code",
   "execution_count": 15,
   "id": "million-portsmouth",
   "metadata": {},
   "outputs": [
    {
     "name": "stdout",
     "output_type": "stream",
     "text": [
      "나는\t최규빈\n"
     ]
    }
   ],
   "source": [
    "print('나는\\t최규빈')"
   ]
  },
  {
   "cell_type": "markdown",
   "id": "traditional-photograph",
   "metadata": {},
   "source": [
    "`-` 예제3: 이스케이프"
   ]
  },
  {
   "cell_type": "code",
   "execution_count": 16,
   "id": "dramatic-necklace",
   "metadata": {},
   "outputs": [
    {
     "name": "stdout",
     "output_type": "stream",
     "text": [
      "나는\\n최규빈\n"
     ]
    }
   ],
   "source": [
    "print('나는\\\\n최규빈')"
   ]
  },
  {
   "cell_type": "code",
   "execution_count": 17,
   "id": "affecting-immunology",
   "metadata": {},
   "outputs": [
    {
     "name": "stdout",
     "output_type": "stream",
     "text": [
      "\\\n"
     ]
    }
   ],
   "source": [
    "print('\\\\')"
   ]
  },
  {
   "cell_type": "code",
   "execution_count": 18,
   "id": "secure-advertising",
   "metadata": {},
   "outputs": [
    {
     "name": "stdout",
     "output_type": "stream",
     "text": [
      "나는'최규빈'\n"
     ]
    }
   ],
   "source": [
    "print('나는\\'최규빈\\'')"
   ]
  },
  {
   "cell_type": "code",
   "execution_count": 19,
   "id": "medical-leadership",
   "metadata": {},
   "outputs": [
    {
     "name": "stdout",
     "output_type": "stream",
     "text": [
      "나는'최규빈'\n"
     ]
    }
   ],
   "source": [
    "print(\"나는'최규빈'\")"
   ]
  },
  {
   "cell_type": "markdown",
   "id": "better-population",
   "metadata": {},
   "source": [
    "### 문자열 메소드 "
   ]
  },
  {
   "cell_type": "markdown",
   "id": "commercial-session",
   "metadata": {},
   "source": [
    "#### .replace()"
   ]
  },
  {
   "cell_type": "markdown",
   "id": "recent-fundamentals",
   "metadata": {},
   "source": [
    "`-` 예제1"
   ]
  },
  {
   "cell_type": "code",
   "execution_count": 20,
   "id": "sticky-wound",
   "metadata": {},
   "outputs": [
    {
     "data": {
      "text/plain": [
       "'spaxxy'"
      ]
     },
     "execution_count": 20,
     "metadata": {},
     "output_type": "execute_result"
    }
   ],
   "source": [
    "S = 'spammy'\n",
    "S.replace('mm','xx')"
   ]
  },
  {
   "cell_type": "markdown",
   "id": "chinese-cycling",
   "metadata": {},
   "source": [
    "`–` 예제2"
   ]
  },
  {
   "cell_type": "code",
   "execution_count": 21,
   "id": "aggregate-smile",
   "metadata": {},
   "outputs": [],
   "source": [
    "S = 'xxxxSPAMxxxxSPAMxxxx'"
   ]
  },
  {
   "cell_type": "code",
   "execution_count": 22,
   "id": "recreational-devon",
   "metadata": {},
   "outputs": [
    {
     "data": {
      "text/plain": [
       "'xxxxEGGSxxxxEGGSxxxx'"
      ]
     },
     "execution_count": 22,
     "metadata": {},
     "output_type": "execute_result"
    }
   ],
   "source": [
    "S.replace('SPAM','EGGS')"
   ]
  },
  {
   "cell_type": "code",
   "execution_count": 23,
   "id": "single-distributor",
   "metadata": {},
   "outputs": [
    {
     "data": {
      "text/plain": [
       "'xxxxEGGSxxxxSPAMxxxx'"
      ]
     },
     "execution_count": 23,
     "metadata": {},
     "output_type": "execute_result"
    }
   ],
   "source": [
    "S.replace('SPAM','EGGS',1)"
   ]
  },
  {
   "cell_type": "code",
   "execution_count": 24,
   "id": "married-hungarian",
   "metadata": {},
   "outputs": [
    {
     "data": {
      "text/plain": [
       "\u001b[0;31mSignature:\u001b[0m \u001b[0mS\u001b[0m\u001b[0;34m.\u001b[0m\u001b[0mreplace\u001b[0m\u001b[0;34m(\u001b[0m\u001b[0mold\u001b[0m\u001b[0;34m,\u001b[0m \u001b[0mnew\u001b[0m\u001b[0;34m,\u001b[0m \u001b[0mcount\u001b[0m\u001b[0;34m=\u001b[0m\u001b[0;34m-\u001b[0m\u001b[0;36m1\u001b[0m\u001b[0;34m,\u001b[0m \u001b[0;34m/\u001b[0m\u001b[0;34m)\u001b[0m\u001b[0;34m\u001b[0m\u001b[0;34m\u001b[0m\u001b[0m\n",
       "\u001b[0;31mDocstring:\u001b[0m\n",
       "Return a copy with all occurrences of substring old replaced by new.\n",
       "\n",
       "  count\n",
       "    Maximum number of occurrences to replace.\n",
       "    -1 (the default value) means replace all occurrences.\n",
       "\n",
       "If the optional argument count is given, only the first count occurrences are\n",
       "replaced.\n",
       "\u001b[0;31mType:\u001b[0m      builtin_function_or_method\n"
      ]
     },
     "metadata": {},
     "output_type": "display_data"
    }
   ],
   "source": [
    "?S.replace"
   ]
  },
  {
   "cell_type": "markdown",
   "id": "broadband-impact",
   "metadata": {},
   "source": [
    "#### .find()"
   ]
  },
  {
   "cell_type": "markdown",
   "id": "modified-stereo",
   "metadata": {},
   "source": [
    "`–` 예제1"
   ]
  },
  {
   "cell_type": "code",
   "execution_count": 25,
   "id": "amazing-colonial",
   "metadata": {},
   "outputs": [],
   "source": [
    "S = 'xxxxSPAMxxxxSPAMxxxx'"
   ]
  },
  {
   "cell_type": "code",
   "execution_count": 26,
   "id": "greenhouse-pickup",
   "metadata": {},
   "outputs": [],
   "source": [
    "where=S.find('SPAM')"
   ]
  },
  {
   "cell_type": "code",
   "execution_count": 27,
   "id": "functional-maple",
   "metadata": {},
   "outputs": [
    {
     "data": {
      "text/plain": [
       "'S'"
      ]
     },
     "execution_count": 27,
     "metadata": {},
     "output_type": "execute_result"
    }
   ],
   "source": [
    "S[where]"
   ]
  },
  {
   "cell_type": "code",
   "execution_count": 28,
   "id": "vital-cliff",
   "metadata": {},
   "outputs": [
    {
     "data": {
      "text/plain": [
       "'xxxxEGGSxxxxSPAMxxxx'"
      ]
     },
     "execution_count": 28,
     "metadata": {},
     "output_type": "execute_result"
    }
   ],
   "source": [
    "S[:where]+'EGGS'+S[(where+4):]"
   ]
  },
  {
   "cell_type": "markdown",
   "id": "exempt-money",
   "metadata": {},
   "source": [
    "#### .join()"
   ]
  },
  {
   "cell_type": "markdown",
   "id": "first-dairy",
   "metadata": {},
   "source": [
    "`–` 예제1"
   ]
  },
  {
   "cell_type": "code",
   "execution_count": 29,
   "id": "infectious-cardiff",
   "metadata": {},
   "outputs": [
    {
     "data": {
      "text/plain": [
       "'a-b-c'"
      ]
     },
     "execution_count": 29,
     "metadata": {},
     "output_type": "execute_result"
    }
   ],
   "source": [
    "'-'.join(['a','b','c'])"
   ]
  },
  {
   "cell_type": "code",
   "execution_count": 30,
   "id": "cardiac-violence",
   "metadata": {},
   "outputs": [
    {
     "data": {
      "text/plain": [
       "'a-b-c'"
      ]
     },
     "execution_count": 30,
     "metadata": {},
     "output_type": "execute_result"
    }
   ],
   "source": [
    "s='-'\n",
    "s.join(['a','b','c'])"
   ]
  },
  {
   "cell_type": "markdown",
   "id": "caring-slide",
   "metadata": {},
   "source": [
    "`–` 예제2"
   ]
  },
  {
   "cell_type": "code",
   "execution_count": 31,
   "id": "fifty-familiar",
   "metadata": {},
   "outputs": [],
   "source": [
    "S='spammy'"
   ]
  },
  {
   "cell_type": "code",
   "execution_count": 32,
   "id": "expressed-drama",
   "metadata": {},
   "outputs": [
    {
     "data": {
      "text/plain": [
       "'spammy'"
      ]
     },
     "execution_count": 32,
     "metadata": {},
     "output_type": "execute_result"
    }
   ],
   "source": [
    "S"
   ]
  },
  {
   "cell_type": "code",
   "execution_count": 33,
   "id": "expired-unknown",
   "metadata": {},
   "outputs": [
    {
     "data": {
      "text/plain": [
       "'mm'"
      ]
     },
     "execution_count": 33,
     "metadata": {},
     "output_type": "execute_result"
    }
   ],
   "source": [
    "S[3:5]"
   ]
  },
  {
   "cell_type": "code",
   "execution_count": 34,
   "id": "attached-camel",
   "metadata": {},
   "outputs": [
    {
     "ename": "TypeError",
     "evalue": "'str' object does not support item assignment",
     "output_type": "error",
     "traceback": [
      "\u001b[0;31m---------------------------------------------------------------------------\u001b[0m",
      "\u001b[0;31mTypeError\u001b[0m                                 Traceback (most recent call last)",
      "\u001b[0;32m<ipython-input-34-84bfa6854842>\u001b[0m in \u001b[0;36m<module>\u001b[0;34m\u001b[0m\n\u001b[0;32m----> 1\u001b[0;31m \u001b[0mS\u001b[0m\u001b[0;34m[\u001b[0m\u001b[0;36m3\u001b[0m\u001b[0;34m:\u001b[0m\u001b[0;36m5\u001b[0m\u001b[0;34m]\u001b[0m\u001b[0;34m=\u001b[0m\u001b[0;34m'xx'\u001b[0m\u001b[0;34m\u001b[0m\u001b[0;34m\u001b[0m\u001b[0m\n\u001b[0m",
      "\u001b[0;31mTypeError\u001b[0m: 'str' object does not support item assignment"
     ]
    }
   ],
   "source": [
    "S[3:5]='xx'"
   ]
  },
  {
   "cell_type": "markdown",
   "id": "catholic-hindu",
   "metadata": {},
   "source": [
    "mm을 xx로 바꾸고 싶은데 문자열은 불변리스트라서 바꿀 수 없다. "
   ]
  },
  {
   "cell_type": "markdown",
   "id": "desperate-testament",
   "metadata": {},
   "source": [
    "전략: 문자열을 잠시 가변객체인 리스트로 바꾼뒤 리스트에서 자유롭게 편집하고 그 다음에 다시 문자열로 만들자. "
   ]
  },
  {
   "cell_type": "code",
   "execution_count": 35,
   "id": "compatible-quantity",
   "metadata": {},
   "outputs": [],
   "source": [
    "L=list(S)"
   ]
  },
  {
   "cell_type": "code",
   "execution_count": 36,
   "id": "simplified-insulation",
   "metadata": {},
   "outputs": [
    {
     "data": {
      "text/plain": [
       "['s', 'p', 'a', 'm', 'm', 'y']"
      ]
     },
     "execution_count": 36,
     "metadata": {},
     "output_type": "execute_result"
    }
   ],
   "source": [
    "L"
   ]
  },
  {
   "cell_type": "code",
   "execution_count": 37,
   "id": "disturbed-hardwood",
   "metadata": {},
   "outputs": [
    {
     "data": {
      "text/plain": [
       "['m', 'm']"
      ]
     },
     "execution_count": 37,
     "metadata": {},
     "output_type": "execute_result"
    }
   ],
   "source": [
    "L[3:5]"
   ]
  },
  {
   "cell_type": "code",
   "execution_count": 38,
   "id": "satisfactory-estate",
   "metadata": {},
   "outputs": [],
   "source": [
    "L[3:5]=['x','x']"
   ]
  },
  {
   "cell_type": "code",
   "execution_count": 39,
   "id": "enhanced-humidity",
   "metadata": {},
   "outputs": [
    {
     "data": {
      "text/plain": [
       "['s', 'p', 'a', 'x', 'x', 'y']"
      ]
     },
     "execution_count": 39,
     "metadata": {},
     "output_type": "execute_result"
    }
   ],
   "source": [
    "L"
   ]
  },
  {
   "cell_type": "code",
   "execution_count": 40,
   "id": "comic-projector",
   "metadata": {},
   "outputs": [],
   "source": [
    "S=''.join(L)"
   ]
  },
  {
   "cell_type": "code",
   "execution_count": 41,
   "id": "destroyed-turkey",
   "metadata": {},
   "outputs": [
    {
     "data": {
      "text/plain": [
       "'spaxxy'"
      ]
     },
     "execution_count": 41,
     "metadata": {},
     "output_type": "execute_result"
    }
   ],
   "source": [
    "S"
   ]
  },
  {
   "cell_type": "markdown",
   "id": "square-grade",
   "metadata": {},
   "source": [
    "#### .split(',')"
   ]
  },
  {
   "cell_type": "markdown",
   "id": "urban-prevention",
   "metadata": {},
   "source": [
    "`–` 예제1"
   ]
  },
  {
   "cell_type": "code",
   "execution_count": 42,
   "id": "european-childhood",
   "metadata": {},
   "outputs": [],
   "source": [
    "s='bob,hacker,40'"
   ]
  },
  {
   "cell_type": "code",
   "execution_count": 43,
   "id": "offshore-processing",
   "metadata": {},
   "outputs": [
    {
     "data": {
      "text/plain": [
       "['bob', 'hacker', '40']"
      ]
     },
     "execution_count": 43,
     "metadata": {},
     "output_type": "execute_result"
    }
   ],
   "source": [
    "s.split(',')"
   ]
  },
  {
   "cell_type": "markdown",
   "id": "literary-jacket",
   "metadata": {},
   "source": [
    "`–` 예제2"
   ]
  },
  {
   "cell_type": "code",
   "execution_count": 44,
   "id": "needed-brain",
   "metadata": {},
   "outputs": [],
   "source": [
    "s= 'aaa bbb ccc'"
   ]
  },
  {
   "cell_type": "code",
   "execution_count": 45,
   "id": "frozen-remedy",
   "metadata": {},
   "outputs": [
    {
     "data": {
      "text/plain": [
       "['aaa', 'bbb', 'ccc']"
      ]
     },
     "execution_count": 45,
     "metadata": {},
     "output_type": "execute_result"
    }
   ],
   "source": [
    "s.split(' ')"
   ]
  },
  {
   "cell_type": "code",
   "execution_count": 46,
   "id": "suited-conditions",
   "metadata": {},
   "outputs": [
    {
     "data": {
      "text/plain": [
       "['aaa', 'bbb', 'ccc']"
      ]
     },
     "execution_count": 46,
     "metadata": {},
     "output_type": "execute_result"
    }
   ],
   "source": [
    "s.split()"
   ]
  },
  {
   "cell_type": "code",
   "execution_count": 47,
   "id": "considerable-circus",
   "metadata": {},
   "outputs": [
    {
     "data": {
      "text/plain": [
       "\u001b[0;31mSignature:\u001b[0m \u001b[0ms\u001b[0m\u001b[0;34m.\u001b[0m\u001b[0msplit\u001b[0m\u001b[0;34m(\u001b[0m\u001b[0msep\u001b[0m\u001b[0;34m=\u001b[0m\u001b[0;32mNone\u001b[0m\u001b[0;34m,\u001b[0m \u001b[0mmaxsplit\u001b[0m\u001b[0;34m=\u001b[0m\u001b[0;34m-\u001b[0m\u001b[0;36m1\u001b[0m\u001b[0;34m)\u001b[0m\u001b[0;34m\u001b[0m\u001b[0;34m\u001b[0m\u001b[0m\n",
       "\u001b[0;31mDocstring:\u001b[0m\n",
       "Return a list of the words in the string, using sep as the delimiter string.\n",
       "\n",
       "sep\n",
       "  The delimiter according which to split the string.\n",
       "  None (the default value) means split according to any whitespace,\n",
       "  and discard empty strings from the result.\n",
       "maxsplit\n",
       "  Maximum number of splits to do.\n",
       "  -1 (the default value) means no limit.\n",
       "\u001b[0;31mType:\u001b[0m      builtin_function_or_method\n"
      ]
     },
     "metadata": {},
     "output_type": "display_data"
    }
   ],
   "source": [
    "s.split?"
   ]
  },
  {
   "cell_type": "markdown",
   "id": "hydraulic-publication",
   "metadata": {},
   "source": [
    "### 문자열 포매팅"
   ]
  },
  {
   "cell_type": "markdown",
   "id": "previous-sodium",
   "metadata": {},
   "source": [
    "#### 표현식 (문자열에서 `%`연산자 사용) "
   ]
  },
  {
   "cell_type": "markdown",
   "id": "respiratory-classics",
   "metadata": {},
   "source": [
    "`-` 예제1"
   ]
  },
  {
   "cell_type": "code",
   "execution_count": 56,
   "id": "chronic-commerce",
   "metadata": {},
   "outputs": [
    {
     "data": {
      "text/plain": [
       "'age: 39.234234'"
      ]
     },
     "execution_count": 56,
     "metadata": {},
     "output_type": "execute_result"
    }
   ],
   "source": [
    "'age: %s' % 39"
   ]
  },
  {
   "cell_type": "code",
   "execution_count": 55,
   "id": "systematic-image",
   "metadata": {},
   "outputs": [
    {
     "data": {
      "text/plain": [
       "'age: 39'"
      ]
     },
     "execution_count": 55,
     "metadata": {},
     "output_type": "execute_result"
    }
   ],
   "source": [
    "'age: %d' % 39"
   ]
  },
  {
   "cell_type": "code",
   "execution_count": 54,
   "id": "presidential-fleet",
   "metadata": {},
   "outputs": [
    {
     "data": {
      "text/plain": [
       "'age: 39.000000'"
      ]
     },
     "execution_count": 54,
     "metadata": {},
     "output_type": "execute_result"
    }
   ],
   "source": [
    "'age: %f' % 39"
   ]
  },
  {
   "cell_type": "markdown",
   "id": "interesting-action",
   "metadata": {},
   "source": [
    "`-` 예제2"
   ]
  },
  {
   "cell_type": "code",
   "execution_count": 58,
   "id": "conventional-forth",
   "metadata": {},
   "outputs": [
    {
     "data": {
      "text/plain": [
       "'addr: seoul to jeonju'"
      ]
     },
     "execution_count": 58,
     "metadata": {},
     "output_type": "execute_result"
    }
   ],
   "source": [
    "'addr: %s to %s' % ('seoul','jeonju')"
   ]
  },
  {
   "cell_type": "markdown",
   "id": "soviet-swimming",
   "metadata": {},
   "source": [
    "잘못된 사용예시1"
   ]
  },
  {
   "cell_type": "code",
   "execution_count": 59,
   "id": "portuguese-perspective",
   "metadata": {},
   "outputs": [
    {
     "ename": "TypeError",
     "evalue": "not enough arguments for format string",
     "output_type": "error",
     "traceback": [
      "\u001b[0;31m---------------------------------------------------------------------------\u001b[0m",
      "\u001b[0;31mTypeError\u001b[0m                                 Traceback (most recent call last)",
      "\u001b[0;32m<ipython-input-59-8a70b358fe3b>\u001b[0m in \u001b[0;36m<module>\u001b[0;34m\u001b[0m\n\u001b[0;32m----> 1\u001b[0;31m \u001b[0;34m'addr: %s to %s'\u001b[0m \u001b[0;34m%\u001b[0m \u001b[0;34m[\u001b[0m\u001b[0;34m'seoul'\u001b[0m\u001b[0;34m,\u001b[0m\u001b[0;34m'jeonju'\u001b[0m\u001b[0;34m]\u001b[0m\u001b[0;34m\u001b[0m\u001b[0;34m\u001b[0m\u001b[0m\n\u001b[0m",
      "\u001b[0;31mTypeError\u001b[0m: not enough arguments for format string"
     ]
    }
   ],
   "source": [
    "'addr: %s to %s' % ['seoul','jeonju']"
   ]
  },
  {
   "cell_type": "markdown",
   "id": "signal-curtis",
   "metadata": {},
   "source": [
    "잘못된 사용예시2"
   ]
  },
  {
   "cell_type": "code",
   "execution_count": 60,
   "id": "activated-pleasure",
   "metadata": {},
   "outputs": [
    {
     "ename": "TypeError",
     "evalue": "not enough arguments for format string",
     "output_type": "error",
     "traceback": [
      "\u001b[0;31m---------------------------------------------------------------------------\u001b[0m",
      "\u001b[0;31mTypeError\u001b[0m                                 Traceback (most recent call last)",
      "\u001b[0;32m<ipython-input-60-0c8ecede52e2>\u001b[0m in \u001b[0;36m<module>\u001b[0;34m\u001b[0m\n\u001b[0;32m----> 1\u001b[0;31m \u001b[0;34m'addr: %s to %s'\u001b[0m \u001b[0;34m%\u001b[0m \u001b[0;34m'seoul'\u001b[0m\u001b[0;34m,\u001b[0m\u001b[0;34m'jeonju'\u001b[0m\u001b[0;34m\u001b[0m\u001b[0;34m\u001b[0m\u001b[0m\n\u001b[0m",
      "\u001b[0;31mTypeError\u001b[0m: not enough arguments for format string"
     ]
    }
   ],
   "source": [
    "'addr: %s to %s' % 'seoul','jeonju'"
   ]
  },
  {
   "cell_type": "code",
   "execution_count": 63,
   "id": "minor-joint",
   "metadata": {},
   "outputs": [
    {
     "data": {
      "text/plain": [
       "str"
      ]
     },
     "execution_count": 63,
     "metadata": {},
     "output_type": "execute_result"
    }
   ],
   "source": [
    "'addr: %s to %s'"
   ]
  },
  {
   "cell_type": "markdown",
   "id": "single-curtis",
   "metadata": {},
   "source": [
    "% `연산자`는 왼쪽에 문자열 오브젝트, 그리고 오른쪽에는 명시적인 튜플이 있어야 연산이 진행된다. "
   ]
  },
  {
   "cell_type": "markdown",
   "id": "disciplinary-notification",
   "metadata": {},
   "source": [
    "연산자라는 포인트를 이해하면 아래와 같은 문법도 가능함을 알 수 있다. "
   ]
  },
  {
   "cell_type": "code",
   "execution_count": 64,
   "id": "similar-conflict",
   "metadata": {},
   "outputs": [
    {
     "data": {
      "text/plain": [
       "'addr: seoul to jeonju'"
      ]
     },
     "execution_count": 64,
     "metadata": {},
     "output_type": "execute_result"
    }
   ],
   "source": [
    "s = 'addr: %s to %s' \n",
    "s % ('seoul','jeonju')"
   ]
  },
  {
   "cell_type": "markdown",
   "id": "demographic-mayor",
   "metadata": {},
   "source": [
    "#### 딕셔너리 기반 포매팅 "
   ]
  },
  {
   "cell_type": "markdown",
   "id": "polished-workshop",
   "metadata": {},
   "source": [
    "`-` 예제1 "
   ]
  },
  {
   "cell_type": "code",
   "execution_count": 66,
   "id": "nervous-providence",
   "metadata": {},
   "outputs": [
    {
     "data": {
      "text/plain": [
       "'여기 짜장면 1개, 짬뽕 1개 주문이요'"
      ]
     },
     "execution_count": 66,
     "metadata": {},
     "output_type": "execute_result"
    }
   ],
   "source": [
    "'여기 %(food1)s 1개, %(food2)s 1개 주문이요' % {'food1':'짜장면','food2':'짬뽕'}"
   ]
  },
  {
   "cell_type": "code",
   "execution_count": 70,
   "id": "yellow-limitation",
   "metadata": {},
   "outputs": [
    {
     "data": {
      "text/plain": [
       "'여기 짜장면 1개, 짬뽕 1개 주문이요, 아.. 아니다. 짜장면은 취소하고 그냥 짬뽕 두개 주세요'"
      ]
     },
     "execution_count": 70,
     "metadata": {},
     "output_type": "execute_result"
    }
   ],
   "source": [
    "'여기 %(food1)s 1개, %(food2)s 1개 주문이요, 아.. 아니다. %(food1)s은 취소하고 그냥 %(food2)s 두개 주세요' % {'food1':'짜장면','food2':'짬뽕'}"
   ]
  },
  {
   "cell_type": "markdown",
   "id": "reflected-benchmark",
   "metadata": {},
   "source": [
    "`-` 예제2"
   ]
  },
  {
   "cell_type": "code",
   "execution_count": 83,
   "id": "atomic-quick",
   "metadata": {},
   "outputs": [],
   "source": [
    "mail='%(studentname)s 학생 안녕하세요\\n저는 통계학과 최규빈 교수 입니다.\\n전공설계과목 지침에 따라 %(studentname)s학생과 2회 상담을 실시해야 합니다.\\n저는 %(day)s에 시간이 괜찮은데 %(studentname)s 학생도 그날 시간이 괜찮을까요?\\n' "
   ]
  },
  {
   "cell_type": "code",
   "execution_count": 84,
   "id": "numerous-moderator",
   "metadata": {},
   "outputs": [
    {
     "name": "stdout",
     "output_type": "stream",
     "text": [
      "박혜원 학생 안녕하세요\n",
      "저는 통계학과 최규빈 교수 입니다.\n",
      "전공설계과목 지침에 따라 박혜원학생과 2회 상담을 실시해야 합니다.\n",
      "저는 5월31일에 시간이 괜찮은데 박혜원 학생도 그날 시간이 괜찮을까요?\n",
      "\n"
     ]
    }
   ],
   "source": [
    "print(mail % {'studentname':'박혜원', 'day':'5월31일'})"
   ]
  },
  {
   "cell_type": "code",
   "execution_count": 85,
   "id": "static-final",
   "metadata": {},
   "outputs": [
    {
     "name": "stdout",
     "output_type": "stream",
     "text": [
      "강호동 학생 안녕하세요\n",
      "저는 통계학과 최규빈 교수 입니다.\n",
      "전공설계과목 지침에 따라 강호동학생과 2회 상담을 실시해야 합니다.\n",
      "저는 6월3일에 시간이 괜찮은데 강호동 학생도 그날 시간이 괜찮을까요?\n",
      "\n"
     ]
    }
   ],
   "source": [
    "print(mail % {'studentname':'강호동', 'day':'6월3일'})"
   ]
  },
  {
   "cell_type": "markdown",
   "id": "outdoor-gnome",
   "metadata": {},
   "source": [
    "`-` 예제3"
   ]
  },
  {
   "cell_type": "code",
   "execution_count": 86,
   "id": "noble-breakfast",
   "metadata": {},
   "outputs": [
    {
     "data": {
      "text/html": [
       "<div>\n",
       "<style scoped>\n",
       "    .dataframe tbody tr th:only-of-type {\n",
       "        vertical-align: middle;\n",
       "    }\n",
       "\n",
       "    .dataframe tbody tr th {\n",
       "        vertical-align: top;\n",
       "    }\n",
       "\n",
       "    .dataframe thead th {\n",
       "        text-align: right;\n",
       "    }\n",
       "</style>\n",
       "<table border=\"1\" class=\"dataframe\">\n",
       "  <thead>\n",
       "    <tr style=\"text-align: right;\">\n",
       "      <th></th>\n",
       "      <th>studentname</th>\n",
       "      <th>day</th>\n",
       "    </tr>\n",
       "  </thead>\n",
       "  <tbody>\n",
       "    <tr>\n",
       "      <th>0</th>\n",
       "      <td>박혜원</td>\n",
       "      <td>5월31일</td>\n",
       "    </tr>\n",
       "    <tr>\n",
       "      <th>1</th>\n",
       "      <td>강호동</td>\n",
       "      <td>6월3일</td>\n",
       "    </tr>\n",
       "  </tbody>\n",
       "</table>\n",
       "</div>"
      ],
      "text/plain": [
       "  studentname    day\n",
       "0         박혜원  5월31일\n",
       "1         강호동   6월3일"
      ]
     },
     "execution_count": 86,
     "metadata": {},
     "output_type": "execute_result"
    }
   ],
   "source": [
    "import pandas as pd\n",
    "df=pd.DataFrame({'studentname':['박혜원','강호동'],'day':['5월31일','6월3일']})\n",
    "df"
   ]
  },
  {
   "cell_type": "code",
   "execution_count": 87,
   "id": "geological-corpus",
   "metadata": {},
   "outputs": [
    {
     "name": "stdout",
     "output_type": "stream",
     "text": [
      "박혜원 학생 안녕하세요\n",
      "저는 통계학과 최규빈 교수 입니다.\n",
      "전공설계과목 지침에 따라 박혜원학생과 2회 상담을 실시해야 합니다.\n",
      "저는 5월31일에 시간이 괜찮은데 박혜원 학생도 그날 시간이 괜찮을까요?\n",
      "\n",
      "강호동 학생 안녕하세요\n",
      "저는 통계학과 최규빈 교수 입니다.\n",
      "전공설계과목 지침에 따라 강호동학생과 2회 상담을 실시해야 합니다.\n",
      "저는 6월3일에 시간이 괜찮은데 강호동 학생도 그날 시간이 괜찮을까요?\n",
      "\n"
     ]
    }
   ],
   "source": [
    "for i in [0,1]:\n",
    "    print(mail % dict(df.iloc[i]))"
   ]
  },
  {
   "cell_type": "markdown",
   "id": "brilliant-lecture",
   "metadata": {},
   "source": [
    "#### 메서드"
   ]
  },
  {
   "cell_type": "markdown",
   "id": "destroyed-ontario",
   "metadata": {},
   "source": [
    "`-` 예제1"
   ]
  },
  {
   "cell_type": "code",
   "execution_count": 90,
   "id": "fifteen-fields",
   "metadata": {},
   "outputs": [],
   "source": [
    "mail='{studentname} 학생 안녕하세요\\n저는 통계학과 최규빈 교수 입니다.\\n전공설계과목 지침에 따라 {studentname}학생과 2회 상담을 실시해야 합니다.\\n저는 {day}에 시간이 괜찮은데 {studentname} 학생도 그날 시간이 괜찮을까요?\\n' "
   ]
  },
  {
   "cell_type": "code",
   "execution_count": 92,
   "id": "distant-ceremony",
   "metadata": {},
   "outputs": [
    {
     "data": {
      "text/plain": [
       "'박혜원 학생 안녕하세요\\n저는 통계학과 최규빈 교수 입니다.\\n전공설계과목 지침에 따라 박혜원학생과 2회 상담을 실시해야 합니다.\\n저는 6월2일에 시간이 괜찮은데 박혜원 학생도 그날 시간이 괜찮을까요?\\n'"
      ]
     },
     "execution_count": 92,
     "metadata": {},
     "output_type": "execute_result"
    }
   ],
   "source": [
    "mail.format(studentname='박혜원',day='6월2일')"
   ]
  },
  {
   "cell_type": "code",
   "execution_count": 93,
   "id": "adjusted-woman",
   "metadata": {},
   "outputs": [
    {
     "name": "stdout",
     "output_type": "stream",
     "text": [
      "박혜원 학생 안녕하세요\n",
      "저는 통계학과 최규빈 교수 입니다.\n",
      "전공설계과목 지침에 따라 박혜원학생과 2회 상담을 실시해야 합니다.\n",
      "저는 6월2일에 시간이 괜찮은데 박혜원 학생도 그날 시간이 괜찮을까요?\n",
      "\n"
     ]
    }
   ],
   "source": [
    "print(mail.format(studentname='박혜원',day='6월2일'))"
   ]
  },
  {
   "cell_type": "markdown",
   "id": "metallic-pulse",
   "metadata": {},
   "source": [
    "`–` 예제2"
   ]
  },
  {
   "cell_type": "code",
   "execution_count": 94,
   "id": "corresponding-bibliography",
   "metadata": {},
   "outputs": [
    {
     "data": {
      "text/plain": [
       "'이름:최규빈,나이:39,성병:남'"
      ]
     },
     "execution_count": 94,
     "metadata": {},
     "output_type": "execute_result"
    }
   ],
   "source": [
    "'이름:{},나이:{},성별:{}'.format('최규빈','39','남')"
   ]
  },
  {
   "cell_type": "markdown",
   "id": "wound-diploma",
   "metadata": {},
   "source": [
    "숙제: '이름:{},나이:{},성별:{}'.format('최규빈','39','남') 를 자기정보로 바꾸어 제출"
   ]
  }
 ],
 "metadata": {
  "kernelspec": {
   "display_name": "Python 3",
   "language": "python",
   "name": "python3"
  },
  "language_info": {
   "codemirror_mode": {
    "name": "ipython",
    "version": 3
   },
   "file_extension": ".py",
   "mimetype": "text/x-python",
   "name": "python",
   "nbconvert_exporter": "python",
   "pygments_lexer": "ipython3",
   "version": "3.8.8"
  }
 },
 "nbformat": 4,
 "nbformat_minor": 5
}
