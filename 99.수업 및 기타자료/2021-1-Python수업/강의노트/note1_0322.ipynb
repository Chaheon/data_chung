{
 "cells": [
  {
   "cell_type": "markdown",
   "id": "cloudy-north",
   "metadata": {
    "id": "limiting-attitude"
   },
   "source": [
    "# 파이썬 교재"
   ]
  },
  {
   "cell_type": "markdown",
   "id": "coordinated-access",
   "metadata": {
    "id": "personalized-inspiration"
   },
   "source": [
    "- https://docs.python.org/3.8/tutorial/index.html\n",
    "- https://wikidocs.net/book/1\n",
    "- https://jakevdp.github.io/PythonDataScienceHandbook/"
   ]
  },
  {
   "cell_type": "markdown",
   "id": "running-disability",
   "metadata": {
    "id": "white-russia"
   },
   "source": [
    "# 파이썬 객체소개"
   ]
  },
  {
   "cell_type": "markdown",
   "id": "official-window",
   "metadata": {
    "id": "centered-prior"
   },
   "source": [
    "객체? "
   ]
  },
  {
   "cell_type": "markdown",
   "id": "together-nicholas",
   "metadata": {
    "id": "distant-serial"
   },
   "source": [
    "- 아직은 설명하기 어렵다. \n",
    "- 본질적으로는 객체는 메모리 조각이다. \n",
    "- 파이썬에서는 모든것이 객체이다. (값, 연산, 함수, 클래스, 컴파일된 코드) \n",
    "    - 예를들면 숫자(99)도 객체이며, 파이썬이 제공하는 연산들(더하기, 빼기)도 객체이다. \n",
    "- 내장객체의 타입을 알아보자. "
   ]
  },
  {
   "cell_type": "markdown",
   "id": "subtle-volunteer",
   "metadata": {
    "id": "stock-liechtenstein"
   },
   "source": [
    "# 1. `0차원` 자료형  "
   ]
  },
  {
   "cell_type": "markdown",
   "id": "operational-public",
   "metadata": {
    "id": "exact-validity"
   },
   "source": [
    "### (1) `int`형 "
   ]
  },
  {
   "cell_type": "code",
   "execution_count": 1,
   "id": "yellow-income",
   "metadata": {
    "id": "extraordinary-steering"
   },
   "outputs": [],
   "source": [
    "a=100"
   ]
  },
  {
   "cell_type": "markdown",
   "id": "developmental-variance",
   "metadata": {
    "id": "prescribed-temple"
   },
   "source": [
    "### (2) `float`형"
   ]
  },
  {
   "cell_type": "code",
   "execution_count": 2,
   "id": "liquid-arctic",
   "metadata": {
    "colab": {
     "base_uri": "https://localhost:8080/"
    },
    "id": "threatened-cemetery",
    "outputId": "813ade98-3232-4ab6-8ab4-0c10ce5cc8e8"
   },
   "outputs": [
    {
     "data": {
      "text/plain": [
       "3.5999999999999996"
      ]
     },
     "execution_count": 2,
     "metadata": {},
     "output_type": "execute_result"
    }
   ],
   "source": [
    "a=1.2*3\n",
    "a"
   ]
  },
  {
   "cell_type": "markdown",
   "id": "behavioral-export",
   "metadata": {
    "id": "beautiful-attempt"
   },
   "source": [
    "### (3) `complex`형 "
   ]
  },
  {
   "cell_type": "code",
   "execution_count": 20,
   "id": "european-trainer",
   "metadata": {
    "id": "tired-hawaiian"
   },
   "outputs": [],
   "source": [
    "a=1+2j\n",
    "b=2-2j\n",
    "c=a+b"
   ]
  },
  {
   "cell_type": "markdown",
   "id": "toxic-wallace",
   "metadata": {
    "id": "faced-hurricane"
   },
   "source": [
    "### (4) `bool`형 "
   ]
  },
  {
   "cell_type": "code",
   "execution_count": 4,
   "id": "prime-sense",
   "metadata": {
    "id": "applied-airline"
   },
   "outputs": [],
   "source": [
    "a=True ## a=1로 생각해도 .. \n",
    "b=False ## b=0으로 생각해도 .. "
   ]
  },
  {
   "cell_type": "markdown",
   "id": "proof-sheriff",
   "metadata": {
    "id": "renewable-windsor"
   },
   "source": [
    "#### [$\\ast$] 형태변환 "
   ]
  },
  {
   "cell_type": "code",
   "execution_count": 5,
   "id": "popular-darwin",
   "metadata": {
    "id": "ahead-regulation"
   },
   "outputs": [],
   "source": [
    "a=3.6234"
   ]
  },
  {
   "cell_type": "code",
   "execution_count": 6,
   "id": "center-eugene",
   "metadata": {
    "id": "spoken-interview"
   },
   "outputs": [],
   "source": [
    "b=int(a)"
   ]
  },
  {
   "cell_type": "code",
   "execution_count": 7,
   "id": "beneficial-lying",
   "metadata": {
    "id": "measured-amateur"
   },
   "outputs": [],
   "source": [
    "a=3"
   ]
  },
  {
   "cell_type": "code",
   "execution_count": 8,
   "id": "rental-villa",
   "metadata": {
    "colab": {
     "base_uri": "https://localhost:8080/"
    },
    "id": "colored-valuation",
    "outputId": "71d88b31-3e21-4f71-e571-9cda1d1ea7fd"
   },
   "outputs": [
    {
     "data": {
      "text/plain": [
       "3"
      ]
     },
     "execution_count": 8,
     "metadata": {},
     "output_type": "execute_result"
    }
   ],
   "source": [
    "a"
   ]
  },
  {
   "cell_type": "code",
   "execution_count": 9,
   "id": "crazy-right",
   "metadata": {
    "colab": {
     "base_uri": "https://localhost:8080/"
    },
    "id": "mobile-bacteria",
    "outputId": "b2de4242-88c2-4925-c544-b3a91dc228ce"
   },
   "outputs": [
    {
     "data": {
      "text/plain": [
       "3.0"
      ]
     },
     "execution_count": 9,
     "metadata": {},
     "output_type": "execute_result"
    }
   ],
   "source": [
    "float(a)"
   ]
  },
  {
   "cell_type": "code",
   "execution_count": 10,
   "id": "wrapped-christopher",
   "metadata": {
    "id": "median-boost",
    "outputId": "396a9812-9887-46e7-e595-1745d4bd5e4c"
   },
   "outputs": [
    {
     "data": {
      "text/plain": [
       "1"
      ]
     },
     "execution_count": 10,
     "metadata": {},
     "output_type": "execute_result"
    }
   ],
   "source": [
    "int(True)"
   ]
  },
  {
   "cell_type": "code",
   "execution_count": 11,
   "id": "timely-aberdeen",
   "metadata": {
    "id": "intended-forestry",
    "outputId": "a19bf158-d808-48d3-e645-2c9eff0a25c1"
   },
   "outputs": [
    {
     "data": {
      "text/plain": [
       "0.0"
      ]
     },
     "execution_count": 11,
     "metadata": {},
     "output_type": "execute_result"
    }
   ],
   "source": [
    "float(False)"
   ]
  },
  {
   "cell_type": "code",
   "execution_count": 12,
   "id": "sapphire-devices",
   "metadata": {
    "id": "oriented-maple",
    "outputId": "c5a3c09d-a0db-4097-ddaa-36540602838f"
   },
   "outputs": [
    {
     "ename": "TypeError",
     "evalue": "can't convert complex to float",
     "output_type": "error",
     "traceback": [
      "\u001b[1;31m---------------------------------------------------------------------------\u001b[0m",
      "\u001b[1;31mTypeError\u001b[0m                                 Traceback (most recent call last)",
      "\u001b[1;32m<ipython-input-12-804a051fe87a>\u001b[0m in \u001b[0;36m<module>\u001b[1;34m\u001b[0m\n\u001b[1;32m----> 1\u001b[1;33m \u001b[0mfloat\u001b[0m\u001b[1;33m(\u001b[0m\u001b[1;36m3\u001b[0m\u001b[1;33m+\u001b[0m\u001b[1;36m0j\u001b[0m\u001b[1;33m)\u001b[0m\u001b[1;33m\u001b[0m\u001b[1;33m\u001b[0m\u001b[0m\n\u001b[0m",
      "\u001b[1;31mTypeError\u001b[0m: can't convert complex to float"
     ]
    }
   ],
   "source": [
    "float(3+0j)"
   ]
  },
  {
   "cell_type": "markdown",
   "id": "filled-manual",
   "metadata": {
    "id": "fossil-theater"
   },
   "source": [
    "#### [$\\ast$] `math`"
   ]
  },
  {
   "cell_type": "code",
   "execution_count": 13,
   "id": "separate-commonwealth",
   "metadata": {
    "id": "mechanical-theorem",
    "outputId": "ec9733a8-ad6f-4f08-b9b8-97b836b652c9"
   },
   "outputs": [
    {
     "data": {
      "text/plain": [
       "3.141592653589793"
      ]
     },
     "execution_count": 13,
     "metadata": {},
     "output_type": "execute_result"
    }
   ],
   "source": [
    "import math\n",
    "math.pi"
   ]
  },
  {
   "cell_type": "code",
   "execution_count": 14,
   "id": "federal-toner",
   "metadata": {
    "id": "adequate-department",
    "outputId": "a6afcf3b-fbf2-462a-b54e-47e67ca5a502"
   },
   "outputs": [
    {
     "data": {
      "text/plain": [
       "4.141592653589793"
      ]
     },
     "execution_count": 14,
     "metadata": {},
     "output_type": "execute_result"
    }
   ],
   "source": [
    "math.pi+1"
   ]
  },
  {
   "cell_type": "code",
   "execution_count": 15,
   "id": "genetic-precipitation",
   "metadata": {
    "id": "robust-myanmar",
    "outputId": "f7859cf8-a728-40bd-f1bf-175f0f9c15d3"
   },
   "outputs": [
    {
     "data": {
      "text/plain": [
       "2.718281828459045"
      ]
     },
     "execution_count": 15,
     "metadata": {},
     "output_type": "execute_result"
    }
   ],
   "source": [
    "math.e"
   ]
  },
  {
   "cell_type": "code",
   "execution_count": 16,
   "id": "shaped-circumstances",
   "metadata": {
    "id": "final-capability",
    "outputId": "198ce2d4-e669-44db-fdd2-4e7db0a050a6"
   },
   "outputs": [
    {
     "data": {
      "text/plain": [
       "4.718281828459045"
      ]
     },
     "execution_count": 16,
     "metadata": {},
     "output_type": "execute_result"
    }
   ],
   "source": [
    "math.e+2"
   ]
  },
  {
   "cell_type": "code",
   "execution_count": 17,
   "id": "valued-religious",
   "metadata": {
    "id": "promotional-conditioning",
    "outputId": "9cd08025-8158-40e1-d1fa-c03effb5090a"
   },
   "outputs": [
    {
     "data": {
      "text/plain": [
       "1.0"
      ]
     },
     "execution_count": 17,
     "metadata": {},
     "output_type": "execute_result"
    }
   ],
   "source": [
    "math.sin(math.pi/2)"
   ]
  },
  {
   "cell_type": "code",
   "execution_count": 18,
   "id": "recorded-crawford",
   "metadata": {
    "id": "norwegian-natural",
    "outputId": "380207cf-247c-4e25-af62-e9281708b7a3"
   },
   "outputs": [
    {
     "data": {
      "text/plain": [
       "1.4142135623730951"
      ]
     },
     "execution_count": 18,
     "metadata": {},
     "output_type": "execute_result"
    }
   ],
   "source": [
    "math.sqrt(2)"
   ]
  },
  {
   "cell_type": "code",
   "execution_count": 21,
   "id": "piano-holiday",
   "metadata": {
    "id": "dedicated-intro",
    "outputId": "02a7173d-154f-4f50-c6f2-1b225e184a19"
   },
   "outputs": [
    {
     "data": {
      "text/plain": [
       "['__doc__',\n",
       " '__loader__',\n",
       " '__name__',\n",
       " '__package__',\n",
       " '__spec__',\n",
       " 'acos',\n",
       " 'acosh',\n",
       " 'asin',\n",
       " 'asinh',\n",
       " 'atan',\n",
       " 'atan2',\n",
       " 'atanh',\n",
       " 'ceil',\n",
       " 'comb',\n",
       " 'copysign',\n",
       " 'cos',\n",
       " 'cosh',\n",
       " 'degrees',\n",
       " 'dist',\n",
       " 'e',\n",
       " 'erf',\n",
       " 'erfc',\n",
       " 'exp',\n",
       " 'expm1',\n",
       " 'fabs',\n",
       " 'factorial',\n",
       " 'floor',\n",
       " 'fmod',\n",
       " 'frexp',\n",
       " 'fsum',\n",
       " 'gamma',\n",
       " 'gcd',\n",
       " 'hypot',\n",
       " 'inf',\n",
       " 'isclose',\n",
       " 'isfinite',\n",
       " 'isinf',\n",
       " 'isnan',\n",
       " 'isqrt',\n",
       " 'ldexp',\n",
       " 'lgamma',\n",
       " 'log',\n",
       " 'log10',\n",
       " 'log1p',\n",
       " 'log2',\n",
       " 'modf',\n",
       " 'nan',\n",
       " 'perm',\n",
       " 'pi',\n",
       " 'pow',\n",
       " 'prod',\n",
       " 'radians',\n",
       " 'remainder',\n",
       " 'sin',\n",
       " 'sinh',\n",
       " 'sqrt',\n",
       " 'tan',\n",
       " 'tanh',\n",
       " 'tau',\n",
       " 'trunc']"
      ]
     },
     "execution_count": 21,
     "metadata": {},
     "output_type": "execute_result"
    }
   ],
   "source": [
    "dir(math)"
   ]
  },
  {
   "cell_type": "markdown",
   "id": "negative-physiology",
   "metadata": {
    "id": "applied-motor"
   },
   "source": [
    "- `math.??`의 사용법을 아는 방법? "
   ]
  },
  {
   "cell_type": "code",
   "execution_count": 54,
   "id": "acute-challenge",
   "metadata": {
    "id": "august-secondary",
    "outputId": "b1d4de74-6eb3-42e2-9638-23c17c13fdef"
   },
   "outputs": [
    {
     "data": {
      "text/plain": [
       "<function math.sqrt(x, /)>"
      ]
     },
     "execution_count": 54,
     "metadata": {},
     "output_type": "execute_result"
    }
   ],
   "source": [
    "math.sqrt"
   ]
  },
  {
   "cell_type": "markdown",
   "id": "signed-indonesia",
   "metadata": {
    "id": "republican-pollution"
   },
   "source": [
    "(의문) `math.`에서 `.`을 왜 항상 붙이는가?"
   ]
  },
  {
   "cell_type": "markdown",
   "id": "ideal-chocolate",
   "metadata": {
    "id": "former-deployment"
   },
   "source": [
    "(요구) `.` 을 안붙이는 방법은 없을까? "
   ]
  },
  {
   "cell_type": "code",
   "execution_count": 55,
   "id": "figured-fever",
   "metadata": {
    "id": "adjusted-belly"
   },
   "outputs": [],
   "source": [
    "from math import pi "
   ]
  },
  {
   "cell_type": "code",
   "execution_count": 56,
   "id": "martial-relationship",
   "metadata": {
    "id": "satisfied-mention",
    "outputId": "2168ebdc-1567-41e1-f6d9-394c1b861e7a"
   },
   "outputs": [
    {
     "data": {
      "text/plain": [
       "3.141592653589793"
      ]
     },
     "execution_count": 56,
     "metadata": {},
     "output_type": "execute_result"
    }
   ],
   "source": [
    "pi"
   ]
  },
  {
   "cell_type": "code",
   "execution_count": 57,
   "id": "neutral-green",
   "metadata": {
    "id": "published-athletics",
    "outputId": "72fe4ec0-9d6a-4180-a273-022eacb1ea87"
   },
   "outputs": [
    {
     "data": {
      "text/plain": [
       "6.283185307179586"
      ]
     },
     "execution_count": 57,
     "metadata": {},
     "output_type": "execute_result"
    }
   ],
   "source": [
    "2*pi"
   ]
  },
  {
   "cell_type": "code",
   "execution_count": 58,
   "id": "worst-landing",
   "metadata": {
    "id": "classical-member",
    "outputId": "5f06c880-0342-4a53-e451-b275ea0c39eb"
   },
   "outputs": [
    {
     "data": {
      "text/plain": [
       "9.42477796076938"
      ]
     },
     "execution_count": 58,
     "metadata": {},
     "output_type": "execute_result"
    }
   ],
   "source": [
    "3*pi"
   ]
  },
  {
   "cell_type": "code",
   "execution_count": 59,
   "id": "legitimate-security",
   "metadata": {
    "id": "common-lawyer",
    "outputId": "9b90e41c-4bcc-4913-ffd9-098954e07b1a"
   },
   "outputs": [
    {
     "data": {
      "text/plain": [
       "1.0"
      ]
     },
     "execution_count": 59,
     "metadata": {},
     "output_type": "execute_result"
    }
   ],
   "source": [
    "math.sin(pi/2)"
   ]
  },
  {
   "cell_type": "code",
   "execution_count": 60,
   "id": "handed-notification",
   "metadata": {
    "id": "outer-ukraine"
   },
   "outputs": [],
   "source": [
    "from math import sin "
   ]
  },
  {
   "cell_type": "code",
   "execution_count": 61,
   "id": "increased-cycling",
   "metadata": {
    "id": "active-portal",
    "outputId": "67c4a0b2-7b7f-42fe-ad0f-607a1b43268e"
   },
   "outputs": [
    {
     "data": {
      "text/plain": [
       "1.0"
      ]
     },
     "execution_count": 61,
     "metadata": {},
     "output_type": "execute_result"
    }
   ],
   "source": [
    "sin(pi/2)"
   ]
  },
  {
   "cell_type": "code",
   "execution_count": 62,
   "id": "dominant-classics",
   "metadata": {
    "id": "listed-weapon",
    "outputId": "1d7ae95a-be20-460d-fd7d-fb4c43ba663f"
   },
   "outputs": [
    {
     "data": {
      "text/plain": [
       "1.4142135623730951"
      ]
     },
     "execution_count": 62,
     "metadata": {},
     "output_type": "execute_result"
    }
   ],
   "source": [
    "abs(1+1j)"
   ]
  },
  {
   "cell_type": "code",
   "execution_count": 24,
   "id": "every-border",
   "metadata": {
    "id": "universal-graduation",
    "outputId": "13fdf335-f678-44b4-ee47-bd8c5f3e02b5"
   },
   "outputs": [
    {
     "data": {
      "text/plain": [
       "1.4142135623730951"
      ]
     },
     "execution_count": 24,
     "metadata": {},
     "output_type": "execute_result"
    }
   ],
   "source": [
    "math.sqrt(2)"
   ]
  },
  {
   "cell_type": "markdown",
   "id": "sudden-optimum",
   "metadata": {
    "id": "special-fusion"
   },
   "source": [
    "#### [$\\ast$] 파이썬 빌트인함수"
   ]
  },
  {
   "cell_type": "markdown",
   "id": "surprising-convention",
   "metadata": {
    "id": "furnished-milton"
   },
   "source": [
    "빌트인함수의 종류에 어떤것이 있는지 확인하는 방법? "
   ]
  },
  {
   "cell_type": "markdown",
   "id": "cooked-beatles",
   "metadata": {
    "id": "unsigned-letter"
   },
   "source": [
    "- https://docs.python.org/3.8/library/functions.html"
   ]
  },
  {
   "cell_type": "code",
   "execution_count": 64,
   "id": "stuck-homework",
   "metadata": {
    "id": "global-dispute"
   },
   "outputs": [],
   "source": [
    "import builtins "
   ]
  },
  {
   "cell_type": "code",
   "execution_count": 65,
   "id": "contained-heather",
   "metadata": {
    "id": "horizontal-suspect",
    "outputId": "5e9cb9c8-5df8-467c-916a-a9da8fd77f11"
   },
   "outputs": [
    {
     "data": {
      "text/plain": [
       "['ArithmeticError',\n",
       " 'AssertionError',\n",
       " 'AttributeError',\n",
       " 'BaseException',\n",
       " 'BlockingIOError',\n",
       " 'BrokenPipeError',\n",
       " 'BufferError',\n",
       " 'BytesWarning',\n",
       " 'ChildProcessError',\n",
       " 'ConnectionAbortedError',\n",
       " 'ConnectionError',\n",
       " 'ConnectionRefusedError',\n",
       " 'ConnectionResetError',\n",
       " 'DeprecationWarning',\n",
       " 'EOFError',\n",
       " 'Ellipsis',\n",
       " 'EnvironmentError',\n",
       " 'Exception',\n",
       " 'False',\n",
       " 'FileExistsError',\n",
       " 'FileNotFoundError',\n",
       " 'FloatingPointError',\n",
       " 'FutureWarning',\n",
       " 'GeneratorExit',\n",
       " 'IOError',\n",
       " 'ImportError',\n",
       " 'ImportWarning',\n",
       " 'IndentationError',\n",
       " 'IndexError',\n",
       " 'InterruptedError',\n",
       " 'IsADirectoryError',\n",
       " 'KeyError',\n",
       " 'KeyboardInterrupt',\n",
       " 'LookupError',\n",
       " 'MemoryError',\n",
       " 'ModuleNotFoundError',\n",
       " 'NameError',\n",
       " 'None',\n",
       " 'NotADirectoryError',\n",
       " 'NotImplemented',\n",
       " 'NotImplementedError',\n",
       " 'OSError',\n",
       " 'OverflowError',\n",
       " 'PendingDeprecationWarning',\n",
       " 'PermissionError',\n",
       " 'ProcessLookupError',\n",
       " 'RecursionError',\n",
       " 'ReferenceError',\n",
       " 'ResourceWarning',\n",
       " 'RuntimeError',\n",
       " 'RuntimeWarning',\n",
       " 'StopAsyncIteration',\n",
       " 'StopIteration',\n",
       " 'SyntaxError',\n",
       " 'SyntaxWarning',\n",
       " 'SystemError',\n",
       " 'SystemExit',\n",
       " 'TabError',\n",
       " 'TimeoutError',\n",
       " 'True',\n",
       " 'TypeError',\n",
       " 'UnboundLocalError',\n",
       " 'UnicodeDecodeError',\n",
       " 'UnicodeEncodeError',\n",
       " 'UnicodeError',\n",
       " 'UnicodeTranslateError',\n",
       " 'UnicodeWarning',\n",
       " 'UserWarning',\n",
       " 'ValueError',\n",
       " 'Warning',\n",
       " 'ZeroDivisionError',\n",
       " '__IPYTHON__',\n",
       " '__build_class__',\n",
       " '__debug__',\n",
       " '__doc__',\n",
       " '__import__',\n",
       " '__loader__',\n",
       " '__name__',\n",
       " '__package__',\n",
       " '__spec__',\n",
       " 'abs',\n",
       " 'all',\n",
       " 'any',\n",
       " 'ascii',\n",
       " 'bin',\n",
       " 'bool',\n",
       " 'breakpoint',\n",
       " 'bytearray',\n",
       " 'bytes',\n",
       " 'callable',\n",
       " 'chr',\n",
       " 'classmethod',\n",
       " 'compile',\n",
       " 'complex',\n",
       " 'copyright',\n",
       " 'credits',\n",
       " 'delattr',\n",
       " 'dict',\n",
       " 'dir',\n",
       " 'display',\n",
       " 'divmod',\n",
       " 'enumerate',\n",
       " 'eval',\n",
       " 'exec',\n",
       " 'filter',\n",
       " 'float',\n",
       " 'format',\n",
       " 'frozenset',\n",
       " 'get_ipython',\n",
       " 'getattr',\n",
       " 'globals',\n",
       " 'hasattr',\n",
       " 'hash',\n",
       " 'help',\n",
       " 'hex',\n",
       " 'id',\n",
       " 'input',\n",
       " 'int',\n",
       " 'isinstance',\n",
       " 'issubclass',\n",
       " 'iter',\n",
       " 'len',\n",
       " 'license',\n",
       " 'list',\n",
       " 'locals',\n",
       " 'map',\n",
       " 'max',\n",
       " 'memoryview',\n",
       " 'min',\n",
       " 'next',\n",
       " 'object',\n",
       " 'oct',\n",
       " 'open',\n",
       " 'ord',\n",
       " 'pow',\n",
       " 'print',\n",
       " 'property',\n",
       " 'range',\n",
       " 'repr',\n",
       " 'reversed',\n",
       " 'round',\n",
       " 'set',\n",
       " 'setattr',\n",
       " 'slice',\n",
       " 'sorted',\n",
       " 'staticmethod',\n",
       " 'str',\n",
       " 'sum',\n",
       " 'super',\n",
       " 'tuple',\n",
       " 'type',\n",
       " 'vars',\n",
       " 'zip']"
      ]
     },
     "execution_count": 65,
     "metadata": {},
     "output_type": "execute_result"
    }
   ],
   "source": [
    "dir(builtins)"
   ]
  },
  {
   "cell_type": "markdown",
   "id": "worthy-peeing",
   "metadata": {
    "id": "successful-grade"
   },
   "source": [
    "# 2. `1차원`자료형 "
   ]
  },
  {
   "cell_type": "markdown",
   "id": "configured-camera",
   "metadata": {
    "id": "promotional-relief"
   },
   "source": [
    "### (1) `str`"
   ]
  },
  {
   "cell_type": "code",
   "execution_count": 66,
   "id": "superior-wesley",
   "metadata": {
    "id": "reflected-textbook"
   },
   "outputs": [],
   "source": [
    "a='guebin'"
   ]
  },
  {
   "cell_type": "code",
   "execution_count": 67,
   "id": "partial-utility",
   "metadata": {
    "id": "compressed-turkey",
    "outputId": "496a71f5-b95f-45ac-c778-7d9909565daa"
   },
   "outputs": [
    {
     "data": {
      "text/plain": [
       "'guebin'"
      ]
     },
     "execution_count": 67,
     "metadata": {},
     "output_type": "execute_result"
    }
   ],
   "source": [
    "a"
   ]
  },
  {
   "cell_type": "code",
   "execution_count": 68,
   "id": "outer-forward",
   "metadata": {
    "id": "indian-concentration"
   },
   "outputs": [],
   "source": [
    "a='X'\n",
    "b='2'"
   ]
  },
  {
   "cell_type": "code",
   "execution_count": 69,
   "id": "postal-flour",
   "metadata": {
    "id": "legal-whale",
    "outputId": "aace100d-acf6-4607-c53c-e6f3b2cad6a0"
   },
   "outputs": [
    {
     "data": {
      "text/plain": [
       "'X2'"
      ]
     },
     "execution_count": 69,
     "metadata": {},
     "output_type": "execute_result"
    }
   ],
   "source": [
    "a+b"
   ]
  },
  {
   "cell_type": "code",
   "execution_count": 70,
   "id": "associate-river",
   "metadata": {
    "id": "alike-vermont",
    "outputId": "e412e0ad-ce5d-4df9-bb32-9e35108aa962"
   },
   "outputs": [
    {
     "ename": "TypeError",
     "evalue": "unsupported operand type(s) for -: 'str' and 'str'",
     "output_type": "error",
     "traceback": [
      "\u001b[0;31m---------------------------------------------------------------------------\u001b[0m",
      "\u001b[0;31mTypeError\u001b[0m                                 Traceback (most recent call last)",
      "\u001b[0;32m<ipython-input-70-5ae0619f8fe1>\u001b[0m in \u001b[0;36m<module>\u001b[0;34m\u001b[0m\n\u001b[0;32m----> 1\u001b[0;31m \u001b[0ma\u001b[0m\u001b[0;34m-\u001b[0m\u001b[0mb\u001b[0m\u001b[0;34m\u001b[0m\u001b[0;34m\u001b[0m\u001b[0m\n\u001b[0m",
      "\u001b[0;31mTypeError\u001b[0m: unsupported operand type(s) for -: 'str' and 'str'"
     ]
    }
   ],
   "source": [
    "a-b"
   ]
  },
  {
   "cell_type": "code",
   "execution_count": 71,
   "id": "color-senior",
   "metadata": {
    "id": "completed-serve",
    "outputId": "52a646f6-968b-41a9-ddb3-baf12783caac"
   },
   "outputs": [
    {
     "ename": "TypeError",
     "evalue": "can't multiply sequence by non-int of type 'str'",
     "output_type": "error",
     "traceback": [
      "\u001b[0;31m---------------------------------------------------------------------------\u001b[0m",
      "\u001b[0;31mTypeError\u001b[0m                                 Traceback (most recent call last)",
      "\u001b[0;32m<ipython-input-71-2cc0ff00cff2>\u001b[0m in \u001b[0;36m<module>\u001b[0;34m\u001b[0m\n\u001b[0;32m----> 1\u001b[0;31m \u001b[0ma\u001b[0m\u001b[0;34m*\u001b[0m\u001b[0mb\u001b[0m \u001b[0;31m# a랑 b랑 곱해볼까?\u001b[0m\u001b[0;34m\u001b[0m\u001b[0;34m\u001b[0m\u001b[0m\n\u001b[0m",
      "\u001b[0;31mTypeError\u001b[0m: can't multiply sequence by non-int of type 'str'"
     ]
    }
   ],
   "source": [
    "a*b # a랑 b랑 곱해볼까? "
   ]
  },
  {
   "cell_type": "code",
   "execution_count": 72,
   "id": "different-tobago",
   "metadata": {
    "id": "stretch-dryer",
    "outputId": "17a40487-9732-41b6-ceae-e044436f43de"
   },
   "outputs": [
    {
     "data": {
      "text/plain": [
       "'XXX'"
      ]
     },
     "execution_count": 72,
     "metadata": {},
     "output_type": "execute_result"
    }
   ],
   "source": [
    "a*3 # a*3=a+a+a 이니까? "
   ]
  },
  {
   "cell_type": "code",
   "execution_count": 73,
   "id": "nominated-cheat",
   "metadata": {
    "id": "extraordinary-coaching"
   },
   "outputs": [],
   "source": [
    "a='guebin'"
   ]
  },
  {
   "cell_type": "code",
   "execution_count": 74,
   "id": "duplicate-vacation",
   "metadata": {
    "id": "czech-velvet",
    "outputId": "8480e7b3-bcf6-41f7-efba-140dab18e158"
   },
   "outputs": [
    {
     "data": {
      "text/plain": [
       "'guebin'"
      ]
     },
     "execution_count": 74,
     "metadata": {},
     "output_type": "execute_result"
    }
   ],
   "source": [
    "a"
   ]
  },
  {
   "cell_type": "markdown",
   "id": "clinical-delhi",
   "metadata": {
    "id": "absolute-trance"
   },
   "source": [
    "|g|u|e|b|i|n|\n",
    "|-|-|-|-|-|-|\n",
    "|0|1|2|3|4|5|\n",
    "|0|-5|-4|-3|-2|-1|"
   ]
  },
  {
   "cell_type": "code",
   "execution_count": 75,
   "id": "clear-registration",
   "metadata": {
    "id": "encouraging-ending",
    "outputId": "f2df1854-eb60-45c2-ae1f-5cc3a7d04645"
   },
   "outputs": [
    {
     "data": {
      "text/plain": [
       "'g'"
      ]
     },
     "execution_count": 75,
     "metadata": {},
     "output_type": "execute_result"
    }
   ],
   "source": [
    "a[0]"
   ]
  },
  {
   "cell_type": "code",
   "execution_count": 76,
   "id": "quantitative-webmaster",
   "metadata": {
    "id": "handmade-spanish",
    "outputId": "4b5fef7e-0200-4f93-c5f4-5e4113a3674c"
   },
   "outputs": [
    {
     "data": {
      "text/plain": [
       "'u'"
      ]
     },
     "execution_count": 76,
     "metadata": {},
     "output_type": "execute_result"
    }
   ],
   "source": [
    "a[1]"
   ]
  },
  {
   "cell_type": "code",
   "execution_count": 77,
   "id": "fallen-beach",
   "metadata": {
    "id": "union-dynamics",
    "outputId": "3ddaf420-77e4-40ff-afb3-075f84e63042"
   },
   "outputs": [
    {
     "data": {
      "text/plain": [
       "'b'"
      ]
     },
     "execution_count": 77,
     "metadata": {},
     "output_type": "execute_result"
    }
   ],
   "source": [
    "a[3]"
   ]
  },
  {
   "cell_type": "code",
   "execution_count": 78,
   "id": "persistent-welsh",
   "metadata": {
    "id": "awful-moisture",
    "outputId": "760f8b81-0248-4f6f-c9f0-850afea9757a"
   },
   "outputs": [
    {
     "data": {
      "text/plain": [
       "'e'"
      ]
     },
     "execution_count": 78,
     "metadata": {},
     "output_type": "execute_result"
    }
   ],
   "source": [
    "a[-4]"
   ]
  },
  {
   "cell_type": "code",
   "execution_count": 79,
   "id": "reasonable-client",
   "metadata": {
    "id": "outside-essex",
    "outputId": "d1095849-ef91-44a3-bb6e-2192db8c7b08"
   },
   "outputs": [
    {
     "data": {
      "text/plain": [
       "'gue'"
      ]
     },
     "execution_count": 79,
     "metadata": {},
     "output_type": "execute_result"
    }
   ],
   "source": [
    "a[0:3] # 0,1,2,3 의 인덱스가 아니라 0,1,2 "
   ]
  },
  {
   "cell_type": "code",
   "execution_count": 80,
   "id": "similar-parks",
   "metadata": {
    "id": "american-authorization",
    "outputId": "e5d356cb-5253-4ce2-ef3d-4e89bf08222d"
   },
   "outputs": [
    {
     "data": {
      "text/plain": [
       "'ue'"
      ]
     },
     "execution_count": 80,
     "metadata": {},
     "output_type": "execute_result"
    }
   ],
   "source": [
    "a[1:3] # index 1부터시작해서 (3-1)개만큼 반환 "
   ]
  },
  {
   "cell_type": "code",
   "execution_count": 81,
   "id": "changing-bobby",
   "metadata": {
    "id": "straight-gallery",
    "outputId": "71123d22-07dc-4406-b7f2-359db8add771"
   },
   "outputs": [
    {
     "data": {
      "text/plain": [
       "'gue'"
      ]
     },
     "execution_count": 81,
     "metadata": {},
     "output_type": "execute_result"
    }
   ],
   "source": [
    "a[:3] # =a[0:3]"
   ]
  },
  {
   "cell_type": "code",
   "execution_count": 82,
   "id": "private-volleyball",
   "metadata": {
    "id": "intended-strap",
    "outputId": "00e0db5e-4ba5-4334-948f-ef54acd67091"
   },
   "outputs": [
    {
     "data": {
      "text/plain": [
       "'bin'"
      ]
     },
     "execution_count": 82,
     "metadata": {},
     "output_type": "execute_result"
    }
   ],
   "source": [
    "a[3:6] # =a[3:]"
   ]
  },
  {
   "cell_type": "code",
   "execution_count": 83,
   "id": "similar-recipe",
   "metadata": {
    "id": "disciplinary-authorization",
    "outputId": "57e95a87-c535-45b8-f1ae-77fcdbc77caa"
   },
   "outputs": [
    {
     "data": {
      "text/plain": [
       "'bin'"
      ]
     },
     "execution_count": 83,
     "metadata": {},
     "output_type": "execute_result"
    }
   ],
   "source": [
    "a[3:]"
   ]
  },
  {
   "cell_type": "code",
   "execution_count": 84,
   "id": "prime-tumor",
   "metadata": {
    "id": "norman-national",
    "outputId": "1906a612-de7d-4107-eaae-983f0e19838c"
   },
   "outputs": [
    {
     "data": {
      "text/plain": [
       "'u'"
      ]
     },
     "execution_count": 84,
     "metadata": {},
     "output_type": "execute_result"
    }
   ],
   "source": [
    "a[1:-4] "
   ]
  },
  {
   "cell_type": "markdown",
   "id": "written-jenny",
   "metadata": {
    "id": "atlantic-exemption"
   },
   "source": [
    "#### [$\\ast$] `0차원` vs `1차원`"
   ]
  },
  {
   "cell_type": "code",
   "execution_count": 85,
   "id": "occupational-attitude",
   "metadata": {
    "id": "electric-modeling"
   },
   "outputs": [],
   "source": [
    "a=3.144"
   ]
  },
  {
   "cell_type": "code",
   "execution_count": 86,
   "id": "nuclear-groove",
   "metadata": {
    "id": "satisfactory-elements",
    "outputId": "02880e1f-2ec9-447c-c3e8-f0bdf7ac9714"
   },
   "outputs": [
    {
     "ename": "TypeError",
     "evalue": "object of type 'float' has no len()",
     "output_type": "error",
     "traceback": [
      "\u001b[0;31m---------------------------------------------------------------------------\u001b[0m",
      "\u001b[0;31mTypeError\u001b[0m                                 Traceback (most recent call last)",
      "\u001b[0;32m<ipython-input-86-1a2e6ec5f1e3>\u001b[0m in \u001b[0;36m<module>\u001b[0;34m\u001b[0m\n\u001b[0;32m----> 1\u001b[0;31m \u001b[0mlen\u001b[0m\u001b[0;34m(\u001b[0m\u001b[0ma\u001b[0m\u001b[0;34m)\u001b[0m\u001b[0;34m\u001b[0m\u001b[0;34m\u001b[0m\u001b[0m\n\u001b[0m",
      "\u001b[0;31mTypeError\u001b[0m: object of type 'float' has no len()"
     ]
    }
   ],
   "source": [
    "len(a)"
   ]
  },
  {
   "cell_type": "code",
   "execution_count": 87,
   "id": "directed-session",
   "metadata": {
    "id": "multiple-international"
   },
   "outputs": [],
   "source": [
    "a='3.144'"
   ]
  },
  {
   "cell_type": "code",
   "execution_count": 88,
   "id": "skilled-vaccine",
   "metadata": {
    "id": "british-header",
    "outputId": "012f6578-5f7d-42a2-933f-fb2f782c00a6"
   },
   "outputs": [
    {
     "data": {
      "text/plain": [
       "5"
      ]
     },
     "execution_count": 88,
     "metadata": {},
     "output_type": "execute_result"
    }
   ],
   "source": [
    "len(a)"
   ]
  },
  {
   "cell_type": "code",
   "execution_count": 89,
   "id": "conceptual-numbers",
   "metadata": {
    "id": "perceived-vehicle"
   },
   "outputs": [],
   "source": [
    "a='1'"
   ]
  },
  {
   "cell_type": "code",
   "execution_count": 90,
   "id": "aggressive-acoustic",
   "metadata": {
    "id": "collaborative-mixer",
    "outputId": "e75609fc-1d7d-472e-8fad-070256fa1e98"
   },
   "outputs": [
    {
     "data": {
      "text/plain": [
       "1"
      ]
     },
     "execution_count": 90,
     "metadata": {},
     "output_type": "execute_result"
    }
   ],
   "source": [
    "len(a)"
   ]
  },
  {
   "cell_type": "code",
   "execution_count": 91,
   "id": "split-psychology",
   "metadata": {
    "id": "beneficial-grant"
   },
   "outputs": [],
   "source": [
    "a=1"
   ]
  },
  {
   "cell_type": "code",
   "execution_count": 92,
   "id": "million-regard",
   "metadata": {
    "id": "hollywood-czech",
    "outputId": "4d374cdc-f4bf-4774-f6f3-79cd192f4c8a"
   },
   "outputs": [
    {
     "ename": "TypeError",
     "evalue": "object of type 'int' has no len()",
     "output_type": "error",
     "traceback": [
      "\u001b[0;31m---------------------------------------------------------------------------\u001b[0m",
      "\u001b[0;31mTypeError\u001b[0m                                 Traceback (most recent call last)",
      "\u001b[0;32m<ipython-input-92-1a2e6ec5f1e3>\u001b[0m in \u001b[0;36m<module>\u001b[0;34m\u001b[0m\n\u001b[0;32m----> 1\u001b[0;31m \u001b[0mlen\u001b[0m\u001b[0;34m(\u001b[0m\u001b[0ma\u001b[0m\u001b[0;34m)\u001b[0m\u001b[0;34m\u001b[0m\u001b[0;34m\u001b[0m\u001b[0m\n\u001b[0m",
      "\u001b[0;31mTypeError\u001b[0m: object of type 'int' has no len()"
     ]
    }
   ],
   "source": [
    "len(a)"
   ]
  },
  {
   "cell_type": "code",
   "execution_count": 93,
   "id": "complete-details",
   "metadata": {
    "id": "identified-copying"
   },
   "outputs": [],
   "source": [
    "a='guebin'"
   ]
  },
  {
   "cell_type": "code",
   "execution_count": 94,
   "id": "speaking-henry",
   "metadata": {
    "id": "crucial-growth",
    "outputId": "5c7ec8d8-a85f-4b2e-b7f2-964d2a9b9719"
   },
   "outputs": [
    {
     "data": {
      "text/plain": [
       "6"
      ]
     },
     "execution_count": 94,
     "metadata": {},
     "output_type": "execute_result"
    }
   ],
   "source": [
    "len(a)"
   ]
  },
  {
   "cell_type": "markdown",
   "id": "retained-allergy",
   "metadata": {
    "id": "lightweight-colonial"
   },
   "source": [
    "### (2) `list` "
   ]
  },
  {
   "cell_type": "code",
   "execution_count": 32,
   "id": "gothic-bailey",
   "metadata": {
    "id": "gorgeous-recipient"
   },
   "outputs": [],
   "source": [
    "a=[11,22]"
   ]
  },
  {
   "cell_type": "code",
   "execution_count": 33,
   "id": "promising-speaker",
   "metadata": {
    "id": "excited-denmark",
    "outputId": "da9850b9-bd97-423f-d84c-380c3821258e"
   },
   "outputs": [
    {
     "data": {
      "text/plain": [
       "[11, 22]"
      ]
     },
     "execution_count": 33,
     "metadata": {},
     "output_type": "execute_result"
    }
   ],
   "source": [
    "a"
   ]
  },
  {
   "cell_type": "code",
   "execution_count": 34,
   "id": "standard-arena",
   "metadata": {
    "id": "hungarian-slovakia"
   },
   "outputs": [],
   "source": [
    "b=[12,13]"
   ]
  },
  {
   "cell_type": "markdown",
   "id": "blond-amateur",
   "metadata": {
    "id": "alien-tennessee"
   },
   "source": [
    "$a=(11,12)$\n",
    "\n",
    "$b=(12,13)$\n",
    "\n",
    "$a+b=(23,25)$"
   ]
  },
  {
   "cell_type": "code",
   "execution_count": 98,
   "id": "selective-voice",
   "metadata": {
    "id": "ceramic-stability",
    "outputId": "1873ffa1-8ea6-490d-f4d1-9fc37232b3be"
   },
   "outputs": [
    {
     "data": {
      "text/plain": [
       "[11, 22, 12, 13]"
      ]
     },
     "execution_count": 98,
     "metadata": {},
     "output_type": "execute_result"
    }
   ],
   "source": [
    "a+b"
   ]
  },
  {
   "cell_type": "code",
   "execution_count": 99,
   "id": "sacred-clothing",
   "metadata": {
    "id": "confused-missile",
    "outputId": "9064f20a-8b8e-4d42-bfaf-198bea920b4d"
   },
   "outputs": [
    {
     "ename": "TypeError",
     "evalue": "unsupported operand type(s) for -: 'list' and 'list'",
     "output_type": "error",
     "traceback": [
      "\u001b[0;31m---------------------------------------------------------------------------\u001b[0m",
      "\u001b[0;31mTypeError\u001b[0m                                 Traceback (most recent call last)",
      "\u001b[0;32m<ipython-input-99-5ae0619f8fe1>\u001b[0m in \u001b[0;36m<module>\u001b[0;34m\u001b[0m\n\u001b[0;32m----> 1\u001b[0;31m \u001b[0ma\u001b[0m\u001b[0;34m-\u001b[0m\u001b[0mb\u001b[0m\u001b[0;34m\u001b[0m\u001b[0;34m\u001b[0m\u001b[0m\n\u001b[0m",
      "\u001b[0;31mTypeError\u001b[0m: unsupported operand type(s) for -: 'list' and 'list'"
     ]
    }
   ],
   "source": [
    "a-b"
   ]
  },
  {
   "cell_type": "code",
   "execution_count": 100,
   "id": "animated-occasion",
   "metadata": {
    "id": "suited-script",
    "outputId": "2f0d7f9d-6553-4035-dcf1-674f5739109d"
   },
   "outputs": [
    {
     "data": {
      "text/plain": [
       "[11, 22, 11, 22]"
      ]
     },
     "execution_count": 100,
     "metadata": {},
     "output_type": "execute_result"
    }
   ],
   "source": [
    "2*a # a+a "
   ]
  },
  {
   "cell_type": "code",
   "execution_count": 101,
   "id": "threatened-teacher",
   "metadata": {
    "id": "interstate-classics",
    "outputId": "57706431-e71c-435f-9964-217f8eabfe1c"
   },
   "outputs": [
    {
     "data": {
      "text/plain": [
       "[12, 13, 12, 13, 12, 13]"
      ]
     },
     "execution_count": 101,
     "metadata": {},
     "output_type": "execute_result"
    }
   ],
   "source": [
    "3*b"
   ]
  },
  {
   "cell_type": "code",
   "execution_count": 102,
   "id": "fiscal-cleveland",
   "metadata": {
    "id": "expensive-prophet",
    "outputId": "d5a1c075-4a53-4989-fc88-40d1abb141ff"
   },
   "outputs": [
    {
     "data": {
      "text/plain": [
       "[11, 22, 11, 22, 12, 13, 12, 13, 12, 13]"
      ]
     },
     "execution_count": 102,
     "metadata": {},
     "output_type": "execute_result"
    }
   ],
   "source": [
    "2*a+3*b"
   ]
  },
  {
   "cell_type": "code",
   "execution_count": 103,
   "id": "defined-break",
   "metadata": {
    "id": "frozen-walnut",
    "outputId": "d1bcb42b-bd29-4b58-fa90-a4f9a287dbfc"
   },
   "outputs": [
    {
     "data": {
      "text/plain": [
       "[11, 22, 33, 345]"
      ]
     },
     "execution_count": 103,
     "metadata": {},
     "output_type": "execute_result"
    }
   ],
   "source": [
    "a+[33]+[345]"
   ]
  },
  {
   "cell_type": "code",
   "execution_count": 104,
   "id": "alpine-illness",
   "metadata": {
    "id": "surprised-minneapolis"
   },
   "outputs": [],
   "source": [
    "c=[11,222,333]"
   ]
  },
  {
   "cell_type": "code",
   "execution_count": 105,
   "id": "diverse-garbage",
   "metadata": {
    "id": "increased-shelf",
    "outputId": "b375df20-cdbc-4d88-e01d-4524890ed34f"
   },
   "outputs": [
    {
     "data": {
      "text/plain": [
       "233"
      ]
     },
     "execution_count": 105,
     "metadata": {},
     "output_type": "execute_result"
    }
   ],
   "source": [
    "c[0]+c[1]"
   ]
  },
  {
   "cell_type": "markdown",
   "id": "distinguished-transition",
   "metadata": {
    "id": "moving-philip"
   },
   "source": [
    "`list`끼리는 수치적연산이 되지 않지만 `list의 원소끼리는` 수치연산이 가능할수도있음. "
   ]
  },
  {
   "cell_type": "code",
   "execution_count": 106,
   "id": "elementary-reality",
   "metadata": {
    "id": "solar-reality"
   },
   "outputs": [],
   "source": [
    "c1=11\n",
    "c2=222\n",
    "c3=333"
   ]
  },
  {
   "cell_type": "code",
   "execution_count": 107,
   "id": "comprehensive-examination",
   "metadata": {
    "id": "naval-yesterday"
   },
   "outputs": [],
   "source": [
    "c=[c1,c2,c3]"
   ]
  },
  {
   "cell_type": "code",
   "execution_count": 108,
   "id": "global-variable",
   "metadata": {
    "id": "another-smooth",
    "outputId": "51f94b0b-8134-48e5-f730-d07bc108fa54"
   },
   "outputs": [
    {
     "data": {
      "text/plain": [
       "233"
      ]
     },
     "execution_count": 108,
     "metadata": {},
     "output_type": "execute_result"
    }
   ],
   "source": [
    "c1+c2 # c[0]+c[1]"
   ]
  },
  {
   "cell_type": "markdown",
   "id": "brave-isolation",
   "metadata": {
    "id": "charming-influence"
   },
   "source": [
    "#### [$\\ast$] `list`의 원소는 꼭 숫자형만 가능한 것이 아니다. "
   ]
  },
  {
   "cell_type": "code",
   "execution_count": 109,
   "id": "exposed-bridges",
   "metadata": {
    "id": "controlled-occurrence"
   },
   "outputs": [],
   "source": [
    "list1=[1,3.14,True,'a',[1,2],(1,2),\n",
    "      {'name':'guebin','age':38},{1,2,3}]"
   ]
  },
  {
   "cell_type": "code",
   "execution_count": 110,
   "id": "later-sphere",
   "metadata": {
    "id": "fourth-engineering"
   },
   "outputs": [],
   "source": [
    "l0=list1[0]\n",
    "l1=list1[1]\n",
    "l2=list1[2]\n",
    "l3=list1[3]\n",
    "l4=list1[4]\n",
    "l5=list1[5]\n",
    "l6=list1[6]\n",
    "l7=list1[7]"
   ]
  },
  {
   "cell_type": "code",
   "execution_count": 111,
   "id": "handy-helicopter",
   "metadata": {
    "id": "neither-rolling"
   },
   "outputs": [],
   "source": [
    "list2=[list1,3.14]"
   ]
  },
  {
   "cell_type": "code",
   "execution_count": 112,
   "id": "suspected-currency",
   "metadata": {
    "colab": {
     "base_uri": "https://localhost:8080/"
    },
    "id": "communist-wrong",
    "outputId": "889e3d59-0153-45a7-9a62-e4d17a1907aa"
   },
   "outputs": [
    {
     "data": {
      "text/plain": [
       "3.14"
      ]
     },
     "execution_count": 112,
     "metadata": {},
     "output_type": "execute_result"
    }
   ],
   "source": [
    "list2[1]"
   ]
  },
  {
   "cell_type": "markdown",
   "id": "aquatic-harbor",
   "metadata": {
    "id": "wYbFthLFGySb"
   },
   "source": [
    "#### [$\\ast$] 리스트 원소 수정"
   ]
  },
  {
   "cell_type": "markdown",
   "id": "linear-aircraft",
   "metadata": {
    "id": "gSAJf-3VHCeQ"
   },
   "source": [
    "스트링에서는 원소수정이 잘 되지 않음. "
   ]
  },
  {
   "cell_type": "code",
   "execution_count": 1,
   "id": "classified-consumer",
   "metadata": {
    "id": "2LPzjPI6G2O4"
   },
   "outputs": [],
   "source": [
    "a='guebin'"
   ]
  },
  {
   "cell_type": "code",
   "execution_count": 2,
   "id": "crude-lesbian",
   "metadata": {
    "colab": {
     "base_uri": "https://localhost:8080/",
     "height": 164
    },
    "id": "EO1SEQqyHHH6",
    "outputId": "279babff-f5d0-4bae-ee25-58193d239bd5"
   },
   "outputs": [
    {
     "ename": "TypeError",
     "evalue": "'str' object does not support item assignment",
     "output_type": "error",
     "traceback": [
      "\u001b[1;31m---------------------------------------------------------------------------\u001b[0m",
      "\u001b[1;31mTypeError\u001b[0m                                 Traceback (most recent call last)",
      "\u001b[1;32m<ipython-input-2-82066f6e0399>\u001b[0m in \u001b[0;36m<module>\u001b[1;34m\u001b[0m\n\u001b[1;32m----> 1\u001b[1;33m \u001b[0ma\u001b[0m\u001b[1;33m[\u001b[0m\u001b[1;36m0\u001b[0m\u001b[1;33m]\u001b[0m\u001b[1;33m=\u001b[0m\u001b[1;34m'G'\u001b[0m\u001b[1;33m\u001b[0m\u001b[1;33m\u001b[0m\u001b[0m\n\u001b[0m",
      "\u001b[1;31mTypeError\u001b[0m: 'str' object does not support item assignment"
     ]
    }
   ],
   "source": [
    "a[0]='G'"
   ]
  },
  {
   "cell_type": "markdown",
   "id": "embedded-doctrine",
   "metadata": {
    "id": "R_4pKEDXHhGd"
   },
   "source": [
    "리스트형은 바꿀 수 있다. "
   ]
  },
  {
   "cell_type": "code",
   "execution_count": 3,
   "id": "integral-samuel",
   "metadata": {
    "id": "pEZelwoiHHuA"
   },
   "outputs": [],
   "source": [
    "alist=list(a) #list()함수는 변수를 list로 바꿔준다. "
   ]
  },
  {
   "cell_type": "code",
   "execution_count": 4,
   "id": "civil-cambridge",
   "metadata": {
    "colab": {
     "base_uri": "https://localhost:8080/"
    },
    "id": "g8mU5IQBHO9l",
    "outputId": "9739a345-7ec2-4fdd-8003-d5775559fe01"
   },
   "outputs": [
    {
     "data": {
      "text/plain": [
       "['g', 'u', 'e', 'b', 'i', 'n']"
      ]
     },
     "execution_count": 4,
     "metadata": {},
     "output_type": "execute_result"
    }
   ],
   "source": [
    "alist"
   ]
  },
  {
   "cell_type": "code",
   "execution_count": 5,
   "id": "precise-saying",
   "metadata": {
    "colab": {
     "base_uri": "https://localhost:8080/",
     "height": 35
    },
    "id": "bk55he4xHURk",
    "outputId": "c70ca9ca-1e16-4894-9adc-dea8ccd38a94"
   },
   "outputs": [
    {
     "data": {
      "text/plain": [
       "'g'"
      ]
     },
     "execution_count": 5,
     "metadata": {},
     "output_type": "execute_result"
    }
   ],
   "source": [
    "alist[0]"
   ]
  },
  {
   "cell_type": "code",
   "execution_count": 6,
   "id": "superior-remark",
   "metadata": {
    "id": "1jE-be0CHVgN"
   },
   "outputs": [],
   "source": [
    "alist[0]='G' #이렇게 리스트 안의 원소는 자유롭게 변형 가능함"
   ]
  },
  {
   "cell_type": "code",
   "execution_count": 8,
   "id": "bizarre-paste",
   "metadata": {
    "colab": {
     "base_uri": "https://localhost:8080/"
    },
    "id": "FKXq1D9PHYRz",
    "outputId": "f0cca2ec-c371-443c-e8db-9bd1963213aa"
   },
   "outputs": [
    {
     "data": {
      "text/plain": [
       "['G', 'u', 'e', 'b', 'i', 'n']"
      ]
     },
     "execution_count": 8,
     "metadata": {},
     "output_type": "execute_result"
    }
   ],
   "source": [
    "alist"
   ]
  },
  {
   "cell_type": "markdown",
   "id": "ordered-discovery",
   "metadata": {
    "id": "N3FdCWnsHraw"
   },
   "source": [
    "#### [$\\ast$] 리스트 원소 삭제"
   ]
  },
  {
   "cell_type": "code",
   "execution_count": 9,
   "id": "missing-delhi",
   "metadata": {
    "colab": {
     "base_uri": "https://localhost:8080/"
    },
    "id": "1R1VJ1N9HwKE",
    "outputId": "3b14401f-7133-4158-b038-034d64ecba71"
   },
   "outputs": [
    {
     "data": {
      "text/plain": [
       "['G', 'u', 'e', 'b', 'i', 'n']"
      ]
     },
     "execution_count": 9,
     "metadata": {},
     "output_type": "execute_result"
    }
   ],
   "source": [
    "alist"
   ]
  },
  {
   "cell_type": "code",
   "execution_count": 10,
   "id": "floppy-velvet",
   "metadata": {
    "id": "EPLZ82oEHyuX"
   },
   "outputs": [],
   "source": [
    "del(alist[0])"
   ]
  },
  {
   "cell_type": "code",
   "execution_count": 11,
   "id": "normal-animal",
   "metadata": {
    "colab": {
     "base_uri": "https://localhost:8080/"
    },
    "id": "NSEXd4MNH3G4",
    "outputId": "c215dbd5-9890-43f2-f97f-38f830f2dcad"
   },
   "outputs": [
    {
     "data": {
      "text/plain": [
       "['u', 'e', 'b', 'i', 'n']"
      ]
     },
     "execution_count": 11,
     "metadata": {},
     "output_type": "execute_result"
    }
   ],
   "source": [
    "alist"
   ]
  },
  {
   "cell_type": "code",
   "execution_count": 12,
   "id": "impressed-breathing",
   "metadata": {},
   "outputs": [],
   "source": [
    "del(alist[2])"
   ]
  },
  {
   "cell_type": "code",
   "execution_count": 13,
   "id": "sublime-prefix",
   "metadata": {},
   "outputs": [
    {
     "data": {
      "text/plain": [
       "['u', 'e', 'i', 'n']"
      ]
     },
     "execution_count": 13,
     "metadata": {},
     "output_type": "execute_result"
    }
   ],
   "source": [
    "alist"
   ]
  },
  {
   "cell_type": "code",
   "execution_count": 14,
   "id": "environmental-month",
   "metadata": {
    "id": "bZdN90-SIEIT"
   },
   "outputs": [],
   "source": [
    "alist2=list(a)"
   ]
  },
  {
   "cell_type": "code",
   "execution_count": 15,
   "id": "lovely-conditioning",
   "metadata": {
    "colab": {
     "base_uri": "https://localhost:8080/"
    },
    "id": "kF9uK-l6IKw_",
    "outputId": "77f7d715-7f0d-47bc-cd1f-2370a0b44323"
   },
   "outputs": [
    {
     "data": {
      "text/plain": [
       "['g', 'u', 'e', 'b', 'i', 'n']"
      ]
     },
     "execution_count": 15,
     "metadata": {},
     "output_type": "execute_result"
    }
   ],
   "source": [
    "alist2"
   ]
  },
  {
   "cell_type": "code",
   "execution_count": 16,
   "id": "solid-cardiff",
   "metadata": {
    "id": "zD1zgdKeIWpR"
   },
   "outputs": [],
   "source": [
    "alist2=alist2[1:6]"
   ]
  },
  {
   "cell_type": "code",
   "execution_count": 17,
   "id": "reduced-spelling",
   "metadata": {
    "colab": {
     "base_uri": "https://localhost:8080/"
    },
    "id": "ALdgEy1nIbiw",
    "outputId": "69d8252c-5a56-4a5f-c61a-5a22b3a2c7a5"
   },
   "outputs": [
    {
     "data": {
      "text/plain": [
       "['u', 'e', 'b', 'i', 'n']"
      ]
     },
     "execution_count": 17,
     "metadata": {},
     "output_type": "execute_result"
    }
   ],
   "source": [
    "alist2"
   ]
  },
  {
   "cell_type": "markdown",
   "id": "southwest-variation",
   "metadata": {
    "id": "NXu01yk3H8uX"
   },
   "source": [
    "#### [$\\ast$] 리스트 원소 추가"
   ]
  },
  {
   "cell_type": "code",
   "execution_count": 18,
   "id": "civil-easter",
   "metadata": {
    "id": "Tt8o9PZlIBGu"
   },
   "outputs": [],
   "source": [
    "a=[1,2,3]"
   ]
  },
  {
   "cell_type": "code",
   "execution_count": 19,
   "id": "turkish-faculty",
   "metadata": {
    "id": "0A68ac8qIfXs"
   },
   "outputs": [],
   "source": [
    "a.append(4)"
   ]
  },
  {
   "cell_type": "code",
   "execution_count": 20,
   "id": "gross-hydrogen",
   "metadata": {
    "colab": {
     "base_uri": "https://localhost:8080/"
    },
    "id": "-9PXUKuGIh6h",
    "outputId": "6af32b88-cb2f-44c2-8ccd-c4347f0b82c7"
   },
   "outputs": [
    {
     "data": {
      "text/plain": [
       "[1, 2, 3, 4]"
      ]
     },
     "execution_count": 20,
     "metadata": {},
     "output_type": "execute_result"
    }
   ],
   "source": [
    "a"
   ]
  },
  {
   "cell_type": "code",
   "execution_count": 21,
   "id": "prime-statement",
   "metadata": {
    "id": "CN6L9_r7Iifp"
   },
   "outputs": [],
   "source": [
    "a.append([4,5])"
   ]
  },
  {
   "cell_type": "code",
   "execution_count": 22,
   "id": "unnecessary-conclusion",
   "metadata": {
    "colab": {
     "base_uri": "https://localhost:8080/"
    },
    "id": "K8snggEfImmg",
    "outputId": "a9f2397b-263d-4a3f-fdfd-40e69d3203d4"
   },
   "outputs": [
    {
     "data": {
      "text/plain": [
       "[1, 2, 3, 4, [4, 5]]"
      ]
     },
     "execution_count": 22,
     "metadata": {},
     "output_type": "execute_result"
    }
   ],
   "source": [
    "a"
   ]
  },
  {
   "cell_type": "code",
   "execution_count": 23,
   "id": "personalized-tribune",
   "metadata": {
    "colab": {
     "base_uri": "https://localhost:8080/"
    },
    "id": "7BQCabHdIm8r",
    "outputId": "d7753aea-81a0-4aa2-a8f6-4edc35bf06ee"
   },
   "outputs": [
    {
     "data": {
      "text/plain": [
       "[1, 2, 3, 4, [4, 5], 4, 5]"
      ]
     },
     "execution_count": 23,
     "metadata": {},
     "output_type": "execute_result"
    }
   ],
   "source": [
    "a+[4,5]"
   ]
  },
  {
   "cell_type": "markdown",
   "id": "confident-destiny",
   "metadata": {
    "id": "7IqB3lR4IvlU"
   },
   "source": [
    "+연산자로 추가하는것과 .append 메소드로 추가하는 것이 무엇이 다른지? "
   ]
  },
  {
   "cell_type": "code",
   "execution_count": 24,
   "id": "suspected-navigation",
   "metadata": {
    "id": "Q_XO_PAmI27y"
   },
   "outputs": [],
   "source": [
    "a=[1,2,3]"
   ]
  },
  {
   "cell_type": "code",
   "execution_count": 25,
   "id": "committed-realtor",
   "metadata": {
    "id": "GsbZ9Y3RI78w"
   },
   "outputs": [],
   "source": [
    "a.append(4)"
   ]
  },
  {
   "cell_type": "code",
   "execution_count": 26,
   "id": "private-identifier",
   "metadata": {
    "colab": {
     "base_uri": "https://localhost:8080/"
    },
    "id": "kJ-0g8KgI9nV",
    "outputId": "bc102f02-2eec-4a81-ee37-c78f6cb23c42"
   },
   "outputs": [
    {
     "data": {
      "text/plain": [
       "[1, 2, 3, 4]"
      ]
     },
     "execution_count": 26,
     "metadata": {},
     "output_type": "execute_result"
    }
   ],
   "source": [
    "a"
   ]
  },
  {
   "cell_type": "code",
   "execution_count": 27,
   "id": "operational-exhaust",
   "metadata": {
    "id": "7cl_ZKLJI-Lo"
   },
   "outputs": [],
   "source": [
    "a1=[1,2,3]"
   ]
  },
  {
   "cell_type": "code",
   "execution_count": 28,
   "id": "intense-guidance",
   "metadata": {
    "colab": {
     "base_uri": "https://localhost:8080/"
    },
    "id": "xGBXyBpsJAlS",
    "outputId": "0518a34a-08e7-4ea8-b103-6d9c3a8ace49",
    "tags": []
   },
   "outputs": [
    {
     "data": {
      "text/plain": [
       "[1, 2, 3, 4]"
      ]
     },
     "execution_count": 28,
     "metadata": {},
     "output_type": "execute_result"
    }
   ],
   "source": [
    "a1+[4] #그 순간 들어가는 것 뿐 a1은 변하지 않아"
   ]
  },
  {
   "cell_type": "code",
   "execution_count": 138,
   "id": "limited-shannon",
   "metadata": {
    "colab": {
     "base_uri": "https://localhost:8080/"
    },
    "id": "s3PKG5VvJBW3",
    "outputId": "2a4d4a4b-be2f-4592-ac48-cb030e20236d"
   },
   "outputs": [
    {
     "data": {
      "text/plain": [
       "[1, 2, 3]"
      ]
     },
     "execution_count": 138,
     "metadata": {},
     "output_type": "execute_result"
    }
   ],
   "source": [
    "a1"
   ]
  },
  {
   "cell_type": "markdown",
   "id": "present-allen",
   "metadata": {
    "id": "3wLUvMkoJJOh"
   },
   "source": [
    "`a.append(4)`: `a`를 append하라. $\\rightarrow$ `a`가 변함. \n",
    "\n",
    "`a+[4]': `a`와 `[4]`를 add하라. "
   ]
  },
  {
   "cell_type": "markdown",
   "id": "extensive-company",
   "metadata": {
    "id": "_qSLs-aZJy3U"
   },
   "source": [
    "주의: 모든 `list`의 메서드가 `a`를 변화화시키는 것은 아님. "
   ]
  },
  {
   "cell_type": "code",
   "execution_count": 139,
   "id": "analyzed-blank",
   "metadata": {
    "id": "8OiaMj5tJxgS"
   },
   "outputs": [],
   "source": [
    "a=['a','p','p','l','e']"
   ]
  },
  {
   "cell_type": "code",
   "execution_count": 140,
   "id": "homeless-latin",
   "metadata": {
    "colab": {
     "base_uri": "https://localhost:8080/"
    },
    "id": "xJK6BEE2JX_s",
    "outputId": "210f1ffa-4add-4a71-8848-5073e0c4999e"
   },
   "outputs": [
    {
     "data": {
      "text/plain": [
       "0"
      ]
     },
     "execution_count": 140,
     "metadata": {},
     "output_type": "execute_result"
    }
   ],
   "source": [
    "a.index('a')"
   ]
  },
  {
   "cell_type": "code",
   "execution_count": 141,
   "id": "backed-drove",
   "metadata": {
    "colab": {
     "base_uri": "https://localhost:8080/"
    },
    "id": "IHbi6JMxJ-lP",
    "outputId": "c3a210bc-b607-4f84-ea53-28371bf10f87"
   },
   "outputs": [
    {
     "data": {
      "text/plain": [
       "3"
      ]
     },
     "execution_count": 141,
     "metadata": {},
     "output_type": "execute_result"
    }
   ],
   "source": [
    "a.index('l')"
   ]
  },
  {
   "cell_type": "code",
   "execution_count": 142,
   "id": "religious-depth",
   "metadata": {
    "colab": {
     "base_uri": "https://localhost:8080/"
    },
    "id": "mZDk6oXEKG6r",
    "outputId": "1e44d43b-9572-4caf-d8cb-5ee3410e32df"
   },
   "outputs": [
    {
     "data": {
      "text/plain": [
       "['a', 'p', 'p', 'l', 'e']"
      ]
     },
     "execution_count": 142,
     "metadata": {},
     "output_type": "execute_result"
    }
   ],
   "source": [
    "a"
   ]
  },
  {
   "cell_type": "markdown",
   "id": "binding-investment",
   "metadata": {
    "id": "ZwGkv-LuKQDb"
   },
   "source": [
    "`a`라는 객체에서 `index`라는 메서드를 썼지만, `a`는 변하지 않음. "
   ]
  },
  {
   "cell_type": "markdown",
   "id": "chicken-brisbane",
   "metadata": {
    "id": "he_XenZgKhg5"
   },
   "source": [
    "#### [$\\ast$] 리스트컴프리헨션 ($\\star\\star\\star$)"
   ]
  },
  {
   "cell_type": "markdown",
   "id": "lined-hacker",
   "metadata": {
    "id": "szSEaqNNLEJQ"
   },
   "source": [
    "***[예비학습]`for`문 벼락치기***"
   ]
  },
  {
   "cell_type": "markdown",
   "id": "biological-premium",
   "metadata": {
    "id": "isvtLWvtLvMK"
   },
   "source": [
    "프로그램 안에서 반복해서 무엇인가를 하고싶다? $\\rightarrow$ `for`"
   ]
  },
  {
   "cell_type": "code",
   "execution_count": 77,
   "id": "raised-threat",
   "metadata": {
    "colab": {
     "base_uri": "https://localhost:8080/"
    },
    "id": "RQm9DZd-KLnz",
    "outputId": "142db4ed-097b-4988-9de4-39b26b381865"
   },
   "outputs": [
    {
     "name": "stdout",
     "output_type": "stream",
     "text": [
      "0\n",
      "1\n",
      "2\n",
      "3\n"
     ]
    }
   ],
   "source": [
    "for i in [0,1,2,3]: ## 반복실행계획\n",
    "  print(i) ## 반복실행내용"
   ]
  },
  {
   "cell_type": "code",
   "execution_count": 78,
   "id": "progressive-upgrade",
   "metadata": {
    "colab": {
     "base_uri": "https://localhost:8080/"
    },
    "id": "Dfc39VcSMALV",
    "outputId": "a603f8a7-026f-419a-b47f-37512eef070f"
   },
   "outputs": [
    {
     "name": "stdout",
     "output_type": "stream",
     "text": [
      "0\n",
      "1\n",
      "2\n",
      "4\n"
     ]
    }
   ],
   "source": [
    "for i in [0,1,2,4]: \n",
    "  print(i)"
   ]
  },
  {
   "cell_type": "code",
   "execution_count": 79,
   "id": "identical-tobacco",
   "metadata": {
    "colab": {
     "base_uri": "https://localhost:8080/"
    },
    "id": "1AIa4tleNSvW",
    "outputId": "9f2e125f-2f49-4462-c63c-0c52b879b934"
   },
   "outputs": [
    {
     "name": "stdout",
     "output_type": "stream",
     "text": [
      "0\n",
      "1\n",
      "2\n",
      "4\n"
     ]
    }
   ],
   "source": [
    "i=0\n",
    "print(i)\n",
    "i=1\n",
    "print(i)\n",
    "i=2\n",
    "print(i)\n",
    "i=4\n",
    "print(i)"
   ]
  },
  {
   "cell_type": "code",
   "execution_count": 146,
   "id": "absolute-constraint",
   "metadata": {
    "id": "TBHPg18AMh1b"
   },
   "outputs": [],
   "source": [
    "sumi=0\n",
    "for i in [0,1,2,4]: ## 반복실행계획\n",
    "  sumi=sumi+i "
   ]
  },
  {
   "cell_type": "code",
   "execution_count": 147,
   "id": "electric-portsmouth",
   "metadata": {
    "colab": {
     "base_uri": "https://localhost:8080/"
    },
    "id": "rQIzlgByMmzP",
    "outputId": "3886b481-b09a-4d7c-8d29-f1fbc681a299"
   },
   "outputs": [
    {
     "data": {
      "text/plain": [
       "7"
      ]
     },
     "execution_count": 147,
     "metadata": {},
     "output_type": "execute_result"
    }
   ],
   "source": [
    "sumi"
   ]
  },
  {
   "cell_type": "code",
   "execution_count": 148,
   "id": "proved-label",
   "metadata": {
    "id": "iE2MndGPMviz"
   },
   "outputs": [],
   "source": [
    "sumi=0\n",
    "i=0\n",
    "sumi=sumi+i\n",
    "i=1\n",
    "sumi=sumi+i\n",
    "i=2\n",
    "sumi=sumi+i\n",
    "i=4\n",
    "sumi=sumi+i"
   ]
  },
  {
   "cell_type": "code",
   "execution_count": 149,
   "id": "spatial-ideal",
   "metadata": {
    "colab": {
     "base_uri": "https://localhost:8080/"
    },
    "id": "GtGiTuXLNNZx",
    "outputId": "b7014c7a-db74-4849-beeb-45cbd7d70da3"
   },
   "outputs": [
    {
     "data": {
      "text/plain": [
       "7"
      ]
     },
     "execution_count": 149,
     "metadata": {},
     "output_type": "execute_result"
    }
   ],
   "source": [
    "sumi"
   ]
  },
  {
   "cell_type": "markdown",
   "id": "amateur-former",
   "metadata": {
    "id": "hmXQY9gzNe6C"
   },
   "source": [
    "예비학습 끝! "
   ]
  },
  {
   "cell_type": "markdown",
   "id": "personal-damage",
   "metadata": {
    "id": "5NppP1KGNmR9"
   },
   "source": [
    "[예제] $2^0,2^1,2^2,2^3,2^4,2^5$를 계산해보자. "
   ]
  },
  {
   "cell_type": "markdown",
   "id": "unique-senior",
   "metadata": {
    "id": "Wm32TdGVNzGp"
   },
   "source": [
    "(풀이1) - 진짜 나쁜코드; $2^0,\\dots,2^{100}$까지 계산하라고 하면? "
   ]
  },
  {
   "cell_type": "code",
   "execution_count": 2,
   "id": "advance-thanksgiving",
   "metadata": {
    "id": "txZSN9aiNk48"
   },
   "outputs": [],
   "source": [
    "x=[2**0,2**1,2**2,2**3,2**4,2**5]"
   ]
  },
  {
   "cell_type": "code",
   "execution_count": 151,
   "id": "center-material",
   "metadata": {
    "colab": {
     "base_uri": "https://localhost:8080/"
    },
    "id": "8Xkrnt0UNOqn",
    "outputId": "a63ae0f7-5268-460e-a725-a91226040dfa"
   },
   "outputs": [
    {
     "data": {
      "text/plain": [
       "[1, 2, 4, 8, 16, 32]"
      ]
     },
     "execution_count": 151,
     "metadata": {},
     "output_type": "execute_result"
    }
   ],
   "source": [
    "x"
   ]
  },
  {
   "cell_type": "markdown",
   "id": "random-kenya",
   "metadata": {
    "id": "sM1ZG4seORQW"
   },
   "source": [
    "(풀이2) - 그럭저럭 괜찮은 코드; `for`문을 이용했음. (버전1)"
   ]
  },
  {
   "cell_type": "code",
   "execution_count": 1,
   "id": "irish-forge",
   "metadata": {
    "id": "wZCq32q_N7C2"
   },
   "outputs": [],
   "source": [
    "x=[]\n",
    "for i in [0,1,2,3,4,5]:\n",
    "  x.append(2**i)"
   ]
  },
  {
   "cell_type": "code",
   "execution_count": 2,
   "id": "geological-contemporary",
   "metadata": {
    "colab": {
     "base_uri": "https://localhost:8080/"
    },
    "id": "D21IFE6-PU5A",
    "outputId": "77794d26-45d6-4f6e-82fb-5d04a5f89c32"
   },
   "outputs": [
    {
     "data": {
      "text/plain": [
       "[1, 2, 4, 8, 16, 32]"
      ]
     },
     "execution_count": 2,
     "metadata": {},
     "output_type": "execute_result"
    }
   ],
   "source": [
    "x"
   ]
  },
  {
   "cell_type": "markdown",
   "id": "moderate-huntington",
   "metadata": {
    "id": "wqjKs09lPM_H"
   },
   "source": [
    "(풀이2) - 그럭저럭 괜찮은 코드; `for`문을 이용했음. (버전2) "
   ]
  },
  {
   "cell_type": "code",
   "execution_count": 29,
   "id": "immune-power",
   "metadata": {
    "id": "kJP4r0L3OVIl"
   },
   "outputs": [],
   "source": [
    "x=[]\n",
    "for i in range(101):\n",
    "  x=x+[2**i]"
   ]
  },
  {
   "cell_type": "code",
   "execution_count": 30,
   "id": "discrete-studio",
   "metadata": {
    "colab": {
     "base_uri": "https://localhost:8080/"
    },
    "id": "KjyNQ04fPZNL",
    "outputId": "b7513073-4bc4-4f67-e489-cd7449f1f197",
    "tags": []
   },
   "outputs": [
    {
     "data": {
      "text/plain": [
       "[1,\n",
       " 2,\n",
       " 4,\n",
       " 8,\n",
       " 16,\n",
       " 32,\n",
       " 64,\n",
       " 128,\n",
       " 256,\n",
       " 512,\n",
       " 1024,\n",
       " 2048,\n",
       " 4096,\n",
       " 8192,\n",
       " 16384,\n",
       " 32768,\n",
       " 65536,\n",
       " 131072,\n",
       " 262144,\n",
       " 524288,\n",
       " 1048576,\n",
       " 2097152,\n",
       " 4194304,\n",
       " 8388608,\n",
       " 16777216,\n",
       " 33554432,\n",
       " 67108864,\n",
       " 134217728,\n",
       " 268435456,\n",
       " 536870912,\n",
       " 1073741824,\n",
       " 2147483648,\n",
       " 4294967296,\n",
       " 8589934592,\n",
       " 17179869184,\n",
       " 34359738368,\n",
       " 68719476736,\n",
       " 137438953472,\n",
       " 274877906944,\n",
       " 549755813888,\n",
       " 1099511627776,\n",
       " 2199023255552,\n",
       " 4398046511104,\n",
       " 8796093022208,\n",
       " 17592186044416,\n",
       " 35184372088832,\n",
       " 70368744177664,\n",
       " 140737488355328,\n",
       " 281474976710656,\n",
       " 562949953421312,\n",
       " 1125899906842624,\n",
       " 2251799813685248,\n",
       " 4503599627370496,\n",
       " 9007199254740992,\n",
       " 18014398509481984,\n",
       " 36028797018963968,\n",
       " 72057594037927936,\n",
       " 144115188075855872,\n",
       " 288230376151711744,\n",
       " 576460752303423488,\n",
       " 1152921504606846976,\n",
       " 2305843009213693952,\n",
       " 4611686018427387904,\n",
       " 9223372036854775808,\n",
       " 18446744073709551616,\n",
       " 36893488147419103232,\n",
       " 73786976294838206464,\n",
       " 147573952589676412928,\n",
       " 295147905179352825856,\n",
       " 590295810358705651712,\n",
       " 1180591620717411303424,\n",
       " 2361183241434822606848,\n",
       " 4722366482869645213696,\n",
       " 9444732965739290427392,\n",
       " 18889465931478580854784,\n",
       " 37778931862957161709568,\n",
       " 75557863725914323419136,\n",
       " 151115727451828646838272,\n",
       " 302231454903657293676544,\n",
       " 604462909807314587353088,\n",
       " 1208925819614629174706176,\n",
       " 2417851639229258349412352,\n",
       " 4835703278458516698824704,\n",
       " 9671406556917033397649408,\n",
       " 19342813113834066795298816,\n",
       " 38685626227668133590597632,\n",
       " 77371252455336267181195264,\n",
       " 154742504910672534362390528,\n",
       " 309485009821345068724781056,\n",
       " 618970019642690137449562112,\n",
       " 1237940039285380274899124224,\n",
       " 2475880078570760549798248448,\n",
       " 4951760157141521099596496896,\n",
       " 9903520314283042199192993792,\n",
       " 19807040628566084398385987584,\n",
       " 39614081257132168796771975168,\n",
       " 79228162514264337593543950336,\n",
       " 158456325028528675187087900672,\n",
       " 316912650057057350374175801344,\n",
       " 633825300114114700748351602688,\n",
       " 1267650600228229401496703205376]"
      ]
     },
     "execution_count": 30,
     "metadata": {},
     "output_type": "execute_result"
    }
   ],
   "source": [
    "x"
   ]
  },
  {
   "cell_type": "markdown",
   "id": "prompt-leadership",
   "metadata": {
    "id": "mOPizLQpP2uH"
   },
   "source": [
    "(풀이2) - 그럭저럭 괜찮은 코드; `for`문을 이용했음. (버전3) "
   ]
  },
  {
   "cell_type": "code",
   "execution_count": 156,
   "id": "collaborative-medication",
   "metadata": {
    "id": "F-SFeHHaP40x"
   },
   "outputs": [],
   "source": [
    "x=[]\n",
    "for i in [0,1,2,3,4,5]:\n",
    "  x+=[2**i] ### 암기법: x=x+[2**i] 에서 중복되는것을 제거하고 순서를 바꾼다... "
   ]
  },
  {
   "cell_type": "code",
   "execution_count": 157,
   "id": "relevant-judgment",
   "metadata": {
    "colab": {
     "base_uri": "https://localhost:8080/"
    },
    "id": "EJhSVDRTQZqp",
    "outputId": "98aada1a-6c23-4bea-9d7e-a3ae14d70da5"
   },
   "outputs": [
    {
     "data": {
      "text/plain": [
       "[1, 2, 4, 8, 16, 32]"
      ]
     },
     "execution_count": 157,
     "metadata": {},
     "output_type": "execute_result"
    }
   ],
   "source": [
    "x"
   ]
  },
  {
   "cell_type": "markdown",
   "id": "broad-trunk",
   "metadata": {
    "id": "IFD-c9TAQ3xS"
   },
   "source": [
    "(풀이3) - 좋은 풀이; `리스트컴프리헨션`을 이용"
   ]
  },
  {
   "cell_type": "code",
   "execution_count": 10,
   "id": "behavioral-crawford",
   "metadata": {
    "id": "TpX9kkOnQb3w"
   },
   "outputs": [],
   "source": [
    "x=[2**i for i in [0,1,2,3,4,5]]"
   ]
  },
  {
   "cell_type": "code",
   "execution_count": 11,
   "id": "residential-devices",
   "metadata": {},
   "outputs": [],
   "source": [
    "# x=[조건문 for i in 반복 인자]"
   ]
  },
  {
   "cell_type": "code",
   "execution_count": 12,
   "id": "finished-shepherd",
   "metadata": {
    "colab": {
     "base_uri": "https://localhost:8080/"
    },
    "id": "SJVQHnk_RB-M",
    "outputId": "19eda3b0-47ba-43d2-e9a7-aeb844c3481e"
   },
   "outputs": [
    {
     "data": {
      "text/plain": [
       "[1, 2, 4, 8, 16, 32]"
      ]
     },
     "execution_count": 12,
     "metadata": {},
     "output_type": "execute_result"
    }
   ],
   "source": [
    "x"
   ]
  },
  {
   "cell_type": "markdown",
   "id": "joined-cabin",
   "metadata": {
    "id": "1Sb10gMtaOBD"
   },
   "source": [
    "문법을 암기하는 방법 \n",
    "- 조건제시법을 연상하라. \n",
    "- $\\big\\{2^0,2^1,2^2,2^3,2^4,2^5\\big\\}=\\big\\{2^i: i=0,1,\\dots, 5 \\big\\}$"
   ]
  },
  {
   "cell_type": "markdown",
   "id": "adolescent-instrument",
   "metadata": {
    "id": "EjbyIvnebBS3"
   },
   "source": [
    "리스트 컴프리헨션\n",
    "- 리스트를 매우 효율적으로 만드는 테크닉 \n",
    "- `for`문에 비하여 가지고 있는 장점: (1) 코드가 간단하다. (2) 빠르다. "
   ]
  },
  {
   "cell_type": "markdown",
   "id": "seventh-percentage",
   "metadata": {
    "id": "AoE1D9O-b-dM"
   },
   "source": [
    "[예제] 리스트 컴프리핸션을 이용하여 아래와 같은 리스트를 만들어라. "
   ]
  },
  {
   "cell_type": "code",
   "execution_count": 13,
   "id": "crucial-samuel",
   "metadata": {
    "colab": {
     "base_uri": "https://localhost:8080/"
    },
    "id": "MP5OjFNjcCmf",
    "outputId": "694588f4-c602-4885-a503-1209feb0c389"
   },
   "outputs": [
    {
     "data": {
      "text/plain": [
       "['SSSS', 'PPPP', 'AAAA', 'MMMM']"
      ]
     },
     "execution_count": 13,
     "metadata": {},
     "output_type": "execute_result"
    }
   ],
   "source": [
    "['SSSS','PPPP','AAAA','MMMM']"
   ]
  },
  {
   "cell_type": "markdown",
   "id": "abstract-algeria",
   "metadata": {
    "id": "3KBEzh8zcKEb"
   },
   "source": [
    "(풀이)"
   ]
  },
  {
   "cell_type": "code",
   "execution_count": 31,
   "id": "attached-ordinary",
   "metadata": {
    "colab": {
     "base_uri": "https://localhost:8080/"
    },
    "id": "vTDahXLvcGB0",
    "outputId": "1aff718e-e25a-4350-adbd-9546c1753f40"
   },
   "outputs": [
    {
     "data": {
      "text/plain": [
       "['SSSS', 'PPPP', 'AAAA', 'MMMM']"
      ]
     },
     "execution_count": 31,
     "metadata": {},
     "output_type": "execute_result"
    }
   ],
   "source": [
    "[i*4 for i in 'SPAM']"
   ]
  },
  {
   "cell_type": "markdown",
   "id": "worthy-venue",
   "metadata": {
    "id": "LS9LUC1gc5Q1"
   },
   "source": [
    "[예제] 리스트 컴프리헨션을 이용하여 아래와 같은 리스트를 만들어라. "
   ]
  },
  {
   "cell_type": "code",
   "execution_count": 162,
   "id": "flexible-black",
   "metadata": {
    "colab": {
     "base_uri": "https://localhost:8080/"
    },
    "id": "mg84RqYscgCT",
    "outputId": "711384a8-6a86-44f2-d393-bb1cff8e3e40"
   },
   "outputs": [
    {
     "data": {
      "text/plain": [
       "['X1', 'X2', 'X3', 'Y1', 'Y2', 'Y3']"
      ]
     },
     "execution_count": 162,
     "metadata": {},
     "output_type": "execute_result"
    }
   ],
   "source": [
    "['X1','X2','X3','Y1','Y2','Y3']"
   ]
  },
  {
   "cell_type": "markdown",
   "id": "vertical-antibody",
   "metadata": {
    "id": "9PLOPRMcdG4A"
   },
   "source": [
    "(풀이)"
   ]
  },
  {
   "cell_type": "code",
   "execution_count": 15,
   "id": "happy-ultimate",
   "metadata": {
    "colab": {
     "base_uri": "https://localhost:8080/"
    },
    "id": "ziDfm6rMdFFR",
    "outputId": "bdc1beab-d256-4d5f-8e24-95f055309153"
   },
   "outputs": [
    {
     "data": {
      "text/plain": [
       "['X1', 'X2', 'X3', 'Y1', 'Y2', 'Y3']"
      ]
     },
     "execution_count": 15,
     "metadata": {},
     "output_type": "execute_result"
    }
   ],
   "source": [
    "[i+j for i in 'XY' for j in '123']"
   ]
  },
  {
   "cell_type": "code",
   "execution_count": 164,
   "id": "pacific-germany",
   "metadata": {
    "colab": {
     "base_uri": "https://localhost:8080/"
    },
    "id": "1yYXn9SpdNo1",
    "outputId": "31100cdf-b2a7-45a6-ee71-2be8805ea935"
   },
   "outputs": [
    {
     "data": {
      "text/plain": [
       "['stat1',\n",
       " 'stat2',\n",
       " 'stat3',\n",
       " 'stat4',\n",
       " 'stat5',\n",
       " 'math1',\n",
       " 'math2',\n",
       " 'math3',\n",
       " 'math4',\n",
       " 'math5']"
      ]
     },
     "execution_count": 164,
     "metadata": {},
     "output_type": "execute_result"
    }
   ],
   "source": [
    "[i+j for i in ['stat','math'] for j in '12345']"
   ]
  },
  {
   "cell_type": "markdown",
   "id": "nearby-footage",
   "metadata": {
    "id": "ube47aa0fSSP"
   },
   "source": [
    "$\\big\\{\"xy\": x \\in \\{stat,math\\}, y \\in \\{1,2,3,4,5\\} \\big\\}$"
   ]
  },
  {
   "cell_type": "code",
   "execution_count": 165,
   "id": "numerous-purchase",
   "metadata": {
    "colab": {
     "base_uri": "https://localhost:8080/"
    },
    "id": "FihLtPz0de2r",
    "outputId": "5bb9be9d-3c82-45b7-a2a1-090c365602f9"
   },
   "outputs": [
    {
     "name": "stdout",
     "output_type": "stream",
     "text": [
      "stat1\n",
      "stat2\n",
      "stat3\n",
      "stat4\n",
      "stat5\n",
      "math1\n",
      "math2\n",
      "math3\n",
      "math4\n",
      "math5\n"
     ]
    }
   ],
   "source": [
    "for i in ['stat','math']:\n",
    "  for j in '12345':\n",
    "    print(i+j)"
   ]
  },
  {
   "cell_type": "code",
   "execution_count": 166,
   "id": "fifteen-bible",
   "metadata": {
    "colab": {
     "base_uri": "https://localhost:8080/"
    },
    "id": "g49fiLICd1Ge",
    "outputId": "e37e7a6f-836d-4ff2-8dd8-20533115f44e"
   },
   "outputs": [
    {
     "name": "stdout",
     "output_type": "stream",
     "text": [
      "stat1\n"
     ]
    }
   ],
   "source": [
    "i='stat'\n",
    "j='1'\n",
    "print(i+j)"
   ]
  },
  {
   "cell_type": "markdown",
   "id": "editorial-party",
   "metadata": {
    "id": "0X_CPu_4f8_N"
   },
   "source": [
    "#### [$\\ast$] 리스트의 중첩 ($\\star\\star\\star$)"
   ]
  },
  {
   "cell_type": "code",
   "execution_count": 167,
   "id": "sexual-parliament",
   "metadata": {
    "id": "nU1dFURGd48-"
   },
   "outputs": [],
   "source": [
    "a=[[11,12,13], \n",
    "   [21,22,23], \n",
    "   [31,32,33]]"
   ]
  },
  {
   "cell_type": "code",
   "execution_count": 168,
   "id": "expired-sandwich",
   "metadata": {
    "colab": {
     "base_uri": "https://localhost:8080/"
    },
    "id": "53dJzQ8XgOsu",
    "outputId": "bf4a420f-1a92-4b76-8e41-44b6cf935306"
   },
   "outputs": [
    {
     "data": {
      "text/plain": [
       "[[11, 12, 13], [21, 22, 23], [31, 32, 33]]"
      ]
     },
     "execution_count": 168,
     "metadata": {},
     "output_type": "execute_result"
    }
   ],
   "source": [
    "a"
   ]
  },
  {
   "cell_type": "code",
   "execution_count": 169,
   "id": "likely-blank",
   "metadata": {
    "colab": {
     "base_uri": "https://localhost:8080/"
    },
    "id": "cExbz8idgPPj",
    "outputId": "8c39e6e8-b4b5-49d1-c926-a6ce26c981c6"
   },
   "outputs": [
    {
     "data": {
      "text/plain": [
       "11"
      ]
     },
     "execution_count": 169,
     "metadata": {},
     "output_type": "execute_result"
    }
   ],
   "source": [
    "a[0][0]"
   ]
  },
  {
   "cell_type": "code",
   "execution_count": 170,
   "id": "identical-pursuit",
   "metadata": {
    "colab": {
     "base_uri": "https://localhost:8080/"
    },
    "id": "7q9KCtyWgSyO",
    "outputId": "a33421c9-dd9d-40f0-a5a6-6df130e72f2a"
   },
   "outputs": [
    {
     "data": {
      "text/plain": [
       "12"
      ]
     },
     "execution_count": 170,
     "metadata": {},
     "output_type": "execute_result"
    }
   ],
   "source": [
    "a[0][1]"
   ]
  },
  {
   "cell_type": "markdown",
   "id": "bored-reporter",
   "metadata": {
    "id": "mApQKubZgkt-"
   },
   "source": [
    "| |0|1|2|\n",
    "|-|-|-|-|\n",
    "|0|11|12|13|\n",
    "|1|21|22|23|\n",
    "|2|31|32|33|"
   ]
  },
  {
   "cell_type": "code",
   "execution_count": 171,
   "id": "artistic-antenna",
   "metadata": {
    "colab": {
     "base_uri": "https://localhost:8080/"
    },
    "id": "B4b5uahhggVm",
    "outputId": "887938a4-7252-4dae-9a5b-948cfc1a9fba"
   },
   "outputs": [
    {
     "data": {
      "text/plain": [
       "32"
      ]
     },
     "execution_count": 171,
     "metadata": {},
     "output_type": "execute_result"
    }
   ],
   "source": [
    "a[2][1]"
   ]
  },
  {
   "cell_type": "markdown",
   "id": "juvenile-agreement",
   "metadata": {
    "id": "aH4G2oachetZ"
   },
   "source": [
    "$\\bf A$라는 매트릭스에서 (2,1)의 원소를 뽑아온것같은 느낌을 준다. "
   ]
  },
  {
   "cell_type": "markdown",
   "id": "excess-coating",
   "metadata": {
    "id": "QvjfdoNLhvil"
   },
   "source": [
    "#### 2차원 배열의 느낌!!!\n",
    "\n",
    "1차원 배열을 사실상 다차원배열로 확장할 수 있는 아이디어를 제공 "
   ]
  },
  {
   "cell_type": "markdown",
   "id": "strategic-dublin",
   "metadata": {
    "id": "fLKo7O-lhWgQ"
   },
   "source": [
    "### (3) `tuple`"
   ]
  },
  {
   "cell_type": "markdown",
   "id": "novel-archive",
   "metadata": {},
   "source": [
    "리스트와 비슷하다."
   ]
  },
  {
   "cell_type": "markdown",
   "id": "protective-observer",
   "metadata": {},
   "source": [
    "차이점1: [ ] 대신에 ( )를 사용한다. "
   ]
  },
  {
   "cell_type": "markdown",
   "id": "usual-dance",
   "metadata": {},
   "source": [
    "차이점2: 불변형이다. (값을 바꿀 수 없음)"
   ]
  },
  {
   "cell_type": "code",
   "execution_count": 172,
   "id": "opponent-burke",
   "metadata": {},
   "outputs": [],
   "source": [
    "a=(4,6,\"pencil\",3.2+4.6j,[3,4])"
   ]
  },
  {
   "cell_type": "code",
   "execution_count": 173,
   "id": "balanced-species",
   "metadata": {},
   "outputs": [
    {
     "data": {
      "text/plain": [
       "'pencil'"
      ]
     },
     "execution_count": 173,
     "metadata": {},
     "output_type": "execute_result"
    }
   ],
   "source": [
    "a[2]"
   ]
  },
  {
   "cell_type": "code",
   "execution_count": 174,
   "id": "parental-square",
   "metadata": {},
   "outputs": [
    {
     "data": {
      "text/plain": [
       "(4, 6, 'pencil')"
      ]
     },
     "execution_count": 174,
     "metadata": {},
     "output_type": "execute_result"
    }
   ],
   "source": [
    "a[0:3]"
   ]
  },
  {
   "cell_type": "code",
   "execution_count": 175,
   "id": "greenhouse-lafayette",
   "metadata": {},
   "outputs": [
    {
     "ename": "TypeError",
     "evalue": "'tuple' object does not support item assignment",
     "output_type": "error",
     "traceback": [
      "\u001b[0;31m---------------------------------------------------------------------------\u001b[0m",
      "\u001b[0;31mTypeError\u001b[0m                                 Traceback (most recent call last)",
      "\u001b[0;32m<ipython-input-175-5ea264dc9819>\u001b[0m in \u001b[0;36m<module>\u001b[0;34m\u001b[0m\n\u001b[0;32m----> 1\u001b[0;31m \u001b[0ma\u001b[0m\u001b[0;34m[\u001b[0m\u001b[0;36m2\u001b[0m\u001b[0;34m]\u001b[0m\u001b[0;34m=\u001b[0m\u001b[0;34m\"Pencil\"\u001b[0m\u001b[0;34m\u001b[0m\u001b[0;34m\u001b[0m\u001b[0m\n\u001b[0m",
      "\u001b[0;31mTypeError\u001b[0m: 'tuple' object does not support item assignment"
     ]
    }
   ],
   "source": [
    "a[2]=\"Pencil\""
   ]
  },
  {
   "cell_type": "markdown",
   "id": "fuzzy-productivity",
   "metadata": {},
   "source": [
    "참고로 리스트는 값이 잘 바뀜"
   ]
  },
  {
   "cell_type": "code",
   "execution_count": 176,
   "id": "adjacent-queens",
   "metadata": {},
   "outputs": [],
   "source": [
    "a=[4,6,\"pencil\",3.2+4.6j,[3,4]]"
   ]
  },
  {
   "cell_type": "code",
   "execution_count": 177,
   "id": "direct-plaintiff",
   "metadata": {},
   "outputs": [
    {
     "data": {
      "text/plain": [
       "[4, 6, 'pencil', (3.2+4.6j), [3, 4]]"
      ]
     },
     "execution_count": 177,
     "metadata": {},
     "output_type": "execute_result"
    }
   ],
   "source": [
    "a"
   ]
  },
  {
   "cell_type": "code",
   "execution_count": 178,
   "id": "finnish-massage",
   "metadata": {},
   "outputs": [],
   "source": [
    "a[2]=\"PENCIL\""
   ]
  },
  {
   "cell_type": "code",
   "execution_count": 179,
   "id": "casual-sender",
   "metadata": {},
   "outputs": [
    {
     "data": {
      "text/plain": [
       "[4, 6, 'PENCIL', (3.2+4.6j), [3, 4]]"
      ]
     },
     "execution_count": 179,
     "metadata": {},
     "output_type": "execute_result"
    }
   ],
   "source": [
    "a"
   ]
  },
  {
   "cell_type": "markdown",
   "id": "inside-nylon",
   "metadata": {},
   "source": [
    "차이점3: 하나의 원소로 이루어진 튜플을 만들때는 쉼표를 붙여야 함. "
   ]
  },
  {
   "cell_type": "code",
   "execution_count": 180,
   "id": "distant-mobile",
   "metadata": {},
   "outputs": [],
   "source": [
    "a=[1]"
   ]
  },
  {
   "cell_type": "code",
   "execution_count": 181,
   "id": "conventional-router",
   "metadata": {},
   "outputs": [
    {
     "data": {
      "text/plain": [
       "[1, 2]"
      ]
     },
     "execution_count": 181,
     "metadata": {},
     "output_type": "execute_result"
    }
   ],
   "source": [
    "a+[2]"
   ]
  },
  {
   "cell_type": "code",
   "execution_count": 182,
   "id": "cross-kenya",
   "metadata": {},
   "outputs": [],
   "source": [
    "a=(1,)"
   ]
  },
  {
   "cell_type": "code",
   "execution_count": 183,
   "id": "confidential-caribbean",
   "metadata": {},
   "outputs": [
    {
     "data": {
      "text/plain": [
       "(1, 2)"
      ]
     },
     "execution_count": 183,
     "metadata": {},
     "output_type": "execute_result"
    }
   ],
   "source": [
    "a+(2,)"
   ]
  },
  {
   "cell_type": "markdown",
   "id": "conditional-revolution",
   "metadata": {},
   "source": [
    "차이점4: (의미가 명확할때) 튜플의 괄호는 생략가능하다. "
   ]
  },
  {
   "cell_type": "code",
   "execution_count": 6,
   "id": "experienced-observer",
   "metadata": {},
   "outputs": [],
   "source": [
    "a=1,2"
   ]
  },
  {
   "cell_type": "code",
   "execution_count": 7,
   "id": "human-channels",
   "metadata": {},
   "outputs": [
    {
     "data": {
      "text/plain": [
       "(1, 2)"
      ]
     },
     "execution_count": 7,
     "metadata": {},
     "output_type": "execute_result"
    }
   ],
   "source": [
    "a"
   ]
  },
  {
   "cell_type": "markdown",
   "id": "stylish-purchase",
   "metadata": {},
   "source": [
    "의미가 명확할때 생략해야함 "
   ]
  },
  {
   "cell_type": "code",
   "execution_count": 4,
   "id": "crucial-badge",
   "metadata": {},
   "outputs": [
    {
     "data": {
      "text/plain": [
       "(1, 5, 4, 5)"
      ]
     },
     "execution_count": 4,
     "metadata": {},
     "output_type": "execute_result"
    }
   ],
   "source": [
    "1,2 + 3,4,5 "
   ]
  },
  {
   "cell_type": "code",
   "execution_count": 5,
   "id": "extensive-fighter",
   "metadata": {},
   "outputs": [
    {
     "data": {
      "text/plain": [
       "(1, 2, 3, 4, 5)"
      ]
     },
     "execution_count": 5,
     "metadata": {},
     "output_type": "execute_result"
    }
   ],
   "source": [
    "(1,2) + (3,4,5)"
   ]
  },
  {
   "cell_type": "markdown",
   "id": "vietnamese-deputy",
   "metadata": {},
   "source": [
    "(의문) 튜플은 왜 쓰는가? "
   ]
  },
  {
   "cell_type": "markdown",
   "id": "short-field",
   "metadata": {},
   "source": [
    "튜플의 특징: 불변성 "
   ]
  },
  {
   "cell_type": "markdown",
   "id": "broke-confusion",
   "metadata": {},
   "source": [
    "실수로 값을 변경하지 않도록 방지할 수 있다?"
   ]
  },
  {
   "cell_type": "markdown",
   "id": "nonprofit-calculator",
   "metadata": {},
   "source": [
    "솔직히 쓸모없음. "
   ]
  },
  {
   "cell_type": "markdown",
   "id": "altered-planet",
   "metadata": {},
   "source": [
    "#### [$\\ast$] 튜플은 단순히 불변리스트가 아니다. ($\\star\\star\\star$)"
   ]
  },
  {
   "cell_type": "markdown",
   "id": "unexpected-helping",
   "metadata": {},
   "source": [
    "**[예제1]**: 튜플언패킹"
   ]
  },
  {
   "cell_type": "markdown",
   "id": "arctic-victim",
   "metadata": {},
   "source": [
    "튜플언패킹 = 의미가 분명하다면 괄호를 생략하는 것 \n",
    "\n",
    "단순히 불변 리스트가 아닌 의미가 명확했을때 괄호를 생략할 수 있는 매우 큰 장점을 갖고 있다. "
   ]
  },
  {
   "cell_type": "code",
   "execution_count": 35,
   "id": "binding-publicity",
   "metadata": {},
   "outputs": [],
   "source": [
    "name,age,sex,height,weight = 'Tom',20,'M',180,70 #모든 자료형들이 자유롭고 편하게 다중 할당(변수선언) 된다. "
   ]
  },
  {
   "cell_type": "code",
   "execution_count": 36,
   "id": "biblical-morris",
   "metadata": {},
   "outputs": [
    {
     "data": {
      "text/plain": [
       "'Tom'"
      ]
     },
     "execution_count": 36,
     "metadata": {},
     "output_type": "execute_result"
    }
   ],
   "source": [
    "name"
   ]
  },
  {
   "cell_type": "code",
   "execution_count": 37,
   "id": "eight-richmond",
   "metadata": {},
   "outputs": [
    {
     "data": {
      "text/plain": [
       "70"
      ]
     },
     "execution_count": 37,
     "metadata": {},
     "output_type": "execute_result"
    }
   ],
   "source": [
    "weight"
   ]
  },
  {
   "cell_type": "markdown",
   "id": "extreme-danish",
   "metadata": {},
   "source": [
    "**[예제2]**: "
   ]
  },
  {
   "cell_type": "code",
   "execution_count": 12,
   "id": "obvious-arrest",
   "metadata": {},
   "outputs": [],
   "source": [
    "coor=(33.9425,-118.408056)"
   ]
  },
  {
   "cell_type": "code",
   "execution_count": 13,
   "id": "large-sending",
   "metadata": {},
   "outputs": [
    {
     "data": {
      "text/plain": [
       "(33.9425, -118.408056)"
      ]
     },
     "execution_count": 13,
     "metadata": {},
     "output_type": "execute_result"
    }
   ],
   "source": [
    "coor"
   ]
  },
  {
   "cell_type": "code",
   "execution_count": 193,
   "id": "suspended-honey",
   "metadata": {},
   "outputs": [],
   "source": [
    "lat, long = coor"
   ]
  },
  {
   "cell_type": "code",
   "execution_count": 194,
   "id": "objective-angel",
   "metadata": {},
   "outputs": [
    {
     "data": {
      "text/plain": [
       "33.9425"
      ]
     },
     "execution_count": 194,
     "metadata": {},
     "output_type": "execute_result"
    }
   ],
   "source": [
    "lat"
   ]
  },
  {
   "cell_type": "code",
   "execution_count": 195,
   "id": "intimate-indication",
   "metadata": {},
   "outputs": [
    {
     "data": {
      "text/plain": [
       "-118.408056"
      ]
     },
     "execution_count": 195,
     "metadata": {},
     "output_type": "execute_result"
    }
   ],
   "source": [
    "long"
   ]
  },
  {
   "cell_type": "markdown",
   "id": "ethical-medicine",
   "metadata": {},
   "source": [
    "**[예제3]**: 임시변수 사용없이 두 변수의 값을 교환 "
   ]
  },
  {
   "cell_type": "code",
   "execution_count": 38,
   "id": "cooperative-responsibility",
   "metadata": {},
   "outputs": [],
   "source": [
    "a=10\n",
    "b=20"
   ]
  },
  {
   "cell_type": "code",
   "execution_count": 39,
   "id": "subtle-grave",
   "metadata": {},
   "outputs": [],
   "source": [
    "a,b=b,a"
   ]
  },
  {
   "cell_type": "code",
   "execution_count": 40,
   "id": "treated-faith",
   "metadata": {},
   "outputs": [
    {
     "data": {
      "text/plain": [
       "20"
      ]
     },
     "execution_count": 40,
     "metadata": {},
     "output_type": "execute_result"
    }
   ],
   "source": [
    "a"
   ]
  },
  {
   "cell_type": "code",
   "execution_count": 41,
   "id": "elect-speaker",
   "metadata": {},
   "outputs": [
    {
     "data": {
      "text/plain": [
       "10"
      ]
     },
     "execution_count": 41,
     "metadata": {},
     "output_type": "execute_result"
    }
   ],
   "source": [
    "b"
   ]
  },
  {
   "cell_type": "markdown",
   "id": "satisfactory-promotion",
   "metadata": {},
   "source": [
    "**[예제4]**: 함수의 입력으로 튜플을 넣을때 "
   ]
  },
  {
   "cell_type": "markdown",
   "id": "color-recycling",
   "metadata": {},
   "source": [
    "*[예제4의 예비학습]* 함수 벼락치기 "
   ]
  },
  {
   "cell_type": "code",
   "execution_count": 2,
   "id": "heard-kansas",
   "metadata": {},
   "outputs": [],
   "source": [
    "def cal(a,b):\n",
    "    print(str(a) + '+' + str(b) + '=' + str(a+b))\n",
    "    print(str(a) + '-' + str(b) + '=' + str(a-b))\n",
    "    print(str(a) + '*' + str(b) + '=' + str(a*b))\n",
    "    print(str(a) + '/' + str(b) + '=' + str(a/b))"
   ]
  },
  {
   "cell_type": "code",
   "execution_count": 3,
   "id": "medical-eagle",
   "metadata": {},
   "outputs": [
    {
     "name": "stdout",
     "output_type": "stream",
     "text": [
      "2+33=35\n",
      "2-33=-31\n",
      "2*33=66\n",
      "2/33=0.06060606060606061\n"
     ]
    }
   ],
   "source": [
    "cal(2,33)"
   ]
  },
  {
   "cell_type": "markdown",
   "id": "multiple-alaska",
   "metadata": {},
   "source": [
    "벼락치기 끝 "
   ]
  },
  {
   "cell_type": "code",
   "execution_count": 4,
   "id": "found-forestry",
   "metadata": {},
   "outputs": [
    {
     "ename": "TypeError",
     "evalue": "cal() missing 1 required positional argument: 'b'",
     "output_type": "error",
     "traceback": [
      "\u001b[1;31m---------------------------------------------------------------------------\u001b[0m",
      "\u001b[1;31mTypeError\u001b[0m                                 Traceback (most recent call last)",
      "\u001b[1;32m<ipython-input-4-7ab1bad31cf0>\u001b[0m in \u001b[0;36m<module>\u001b[1;34m\u001b[0m\n\u001b[0;32m      1\u001b[0m \u001b[1;31m### 우리가 원하는 형태\u001b[0m\u001b[1;33m\u001b[0m\u001b[1;33m\u001b[0m\u001b[1;33m\u001b[0m\u001b[0m\n\u001b[0;32m      2\u001b[0m \u001b[0minput\u001b[0m\u001b[1;33m=\u001b[0m\u001b[1;33m[\u001b[0m\u001b[1;36m3\u001b[0m\u001b[1;33m,\u001b[0m\u001b[1;36m4\u001b[0m\u001b[1;33m]\u001b[0m\u001b[1;33m\u001b[0m\u001b[1;33m\u001b[0m\u001b[0m\n\u001b[1;32m----> 3\u001b[1;33m \u001b[0mcal\u001b[0m\u001b[1;33m(\u001b[0m\u001b[0minput\u001b[0m\u001b[1;33m)\u001b[0m\u001b[1;33m\u001b[0m\u001b[1;33m\u001b[0m\u001b[0m\n\u001b[0m",
      "\u001b[1;31mTypeError\u001b[0m: cal() missing 1 required positional argument: 'b'"
     ]
    }
   ],
   "source": [
    "### 우리가 원하는 형태 \n",
    "input=[3,4]\n",
    "cal(input)"
   ]
  },
  {
   "cell_type": "code",
   "execution_count": 5,
   "id": "encouraging-robin",
   "metadata": {},
   "outputs": [
    {
     "name": "stdout",
     "output_type": "stream",
     "text": [
      "3+4=7\n",
      "3-4=-1\n",
      "3*4=12\n",
      "3/4=0.75\n"
     ]
    }
   ],
   "source": [
    "### 실제 \n",
    "cal(input[0],input[1])"
   ]
  },
  {
   "cell_type": "code",
   "execution_count": 6,
   "id": "involved-advice",
   "metadata": {},
   "outputs": [],
   "source": [
    "input=(3,4)"
   ]
  },
  {
   "cell_type": "code",
   "execution_count": 7,
   "id": "military-citation",
   "metadata": {},
   "outputs": [
    {
     "name": "stdout",
     "output_type": "stream",
     "text": [
      "3+4=7\n",
      "3-4=-1\n",
      "3*4=12\n",
      "3/4=0.75\n"
     ]
    }
   ],
   "source": [
    "cal(*input) #함수 안에 튜플 언페킹을 사용하려면 *변수 이렇게 넣어야함"
   ]
  },
  {
   "cell_type": "markdown",
   "id": "coupled-oasis",
   "metadata": {},
   "source": [
    "**[예제5]** 함수의 입력을 튜플로 넣을때 (2) "
   ]
  },
  {
   "cell_type": "markdown",
   "id": "unavailable-round",
   "metadata": {},
   "source": [
    "두점 사이의 거리를 구하는 함수를 만들어 보자. \n",
    "\n",
    "$x=(x_1,x_2,x_3)$\n",
    "\n",
    "$y=(y_1,y_2,y_3)$\n",
    "\n",
    "의 거리를 구하려면 \n",
    "\n",
    "$\\sqrt{(x_1-y_1)^2+(x_2-y_2)^2+(x_3-y_3)^2}$"
   ]
  },
  {
   "cell_type": "code",
   "execution_count": 50,
   "id": "devoted-georgia",
   "metadata": {},
   "outputs": [],
   "source": [
    "def distance(x1,x2,x3,y1,y2,y3):\n",
    "    import math \n",
    "    d=(x1-y1)**2+(x2-y2)**2+(x3-y3)**2\n",
    "    print(math.sqrt(d))"
   ]
  },
  {
   "cell_type": "code",
   "execution_count": 40,
   "id": "pacific-funds",
   "metadata": {},
   "outputs": [
    {
     "name": "stdout",
     "output_type": "stream",
     "text": [
      "1.4142135623730951\n"
     ]
    }
   ],
   "source": [
    "x=(0,0,0)\n",
    "y=(0,1,1)\n",
    "distance(*x,*y)"
   ]
  },
  {
   "cell_type": "code",
   "execution_count": 12,
   "id": "advisory-mathematics",
   "metadata": {},
   "outputs": [],
   "source": [
    "def distance(x,y):\n",
    "    import math \n",
    "    x1,x2,x3=x \n",
    "    y1,y2,y3=y\n",
    "    d=(x1-y1)**2+(x2-y2)**2+(x3-y3)**2\n",
    "    print(math.sqrt(d))"
   ]
  },
  {
   "cell_type": "code",
   "execution_count": 13,
   "id": "future-philadelphia",
   "metadata": {},
   "outputs": [
    {
     "name": "stdout",
     "output_type": "stream",
     "text": [
      "1.4142135623730951\n"
     ]
    }
   ],
   "source": [
    "x=(0,0,0)\n",
    "y=(0,1,1)\n",
    "distance(x,y)"
   ]
  },
  {
   "cell_type": "markdown",
   "id": "illegal-westminster",
   "metadata": {},
   "source": [
    "### !!! 함수를 호출할때 인수앞에 *를 붙여 튜플을 언패킹할 수 있다. "
   ]
  },
  {
   "cell_type": "markdown",
   "id": "adapted-shanghai",
   "metadata": {},
   "source": [
    "**[예제6]**: 플레이스홀더 "
   ]
  },
  {
   "cell_type": "markdown",
   "id": "distinguished-tractor",
   "metadata": {},
   "source": [
    "(예비학습) `for`문 "
   ]
  },
  {
   "cell_type": "code",
   "execution_count": 51,
   "id": "exceptional-jacob",
   "metadata": {},
   "outputs": [
    {
     "name": "stdout",
     "output_type": "stream",
     "text": [
      "1\n",
      "2\n",
      "3\n",
      "4\n"
     ]
    }
   ],
   "source": [
    "for i in [1,2,3,4]:\n",
    "    print(i)"
   ]
  },
  {
   "cell_type": "code",
   "execution_count": 52,
   "id": "cellular-prefix",
   "metadata": {},
   "outputs": [
    {
     "name": "stdout",
     "output_type": "stream",
     "text": [
      "1\n",
      "2\n",
      "3\n",
      "4\n"
     ]
    }
   ],
   "source": [
    "i=[1,2,3,4][0]\n",
    "print(i)\n",
    "i=[1,2,3,4][1]\n",
    "print(i)\n",
    "i=[1,2,3,4][2]\n",
    "print(i)\n",
    "i=[1,2,3,4][3]\n",
    "print(i)"
   ]
  },
  {
   "cell_type": "code",
   "execution_count": 53,
   "id": "smooth-complex",
   "metadata": {},
   "outputs": [
    {
     "name": "stdout",
     "output_type": "stream",
     "text": [
      "1\n",
      "2\n",
      "3\n",
      "[1, 2, 3]\n"
     ]
    }
   ],
   "source": [
    "for i in [1,2,3,[1,2,3]]:\n",
    "    print(i)"
   ]
  },
  {
   "cell_type": "code",
   "execution_count": 8,
   "id": "happy-rings",
   "metadata": {},
   "outputs": [
    {
     "name": "stdout",
     "output_type": "stream",
     "text": [
      "1\n",
      "2\n",
      "3\n",
      "[1, 2, 3]\n"
     ]
    }
   ],
   "source": [
    "i=[1,2,3,[1,2,3]][0]\n",
    "print(i)\n",
    "i=[1,2,3,[1,2,3]][1]\n",
    "print(i)\n",
    "i=[1,2,3,[1,2,3]][2]\n",
    "print(i)\n",
    "i=[1,2,3,[1,2,3]][3]\n",
    "print(i)"
   ]
  },
  {
   "cell_type": "markdown",
   "id": "beautiful-window",
   "metadata": {},
   "source": [
    "예제시작 "
   ]
  },
  {
   "cell_type": "code",
   "execution_count": 58,
   "id": "macro-isaac",
   "metadata": {},
   "outputs": [],
   "source": [
    "idlist=[('guebin', '202112345','M','Korea'), \n",
    "        ('iu', '202154321','F','Korea'), \n",
    "        ('hodong', '201812321','M','Korea')]"
   ]
  },
  {
   "cell_type": "code",
   "execution_count": 59,
   "id": "brown-gothic",
   "metadata": {},
   "outputs": [
    {
     "name": "stdout",
     "output_type": "stream",
     "text": [
      "('guebin', '202112345', 'M', 'Korea')\n",
      "('iu', '202154321', 'F', 'Korea')\n",
      "('hodong', '201812321', 'M', 'Korea')\n"
     ]
    }
   ],
   "source": [
    "for i in idlist: \n",
    "    print(i)"
   ]
  },
  {
   "cell_type": "code",
   "execution_count": 60,
   "id": "considered-visit",
   "metadata": {},
   "outputs": [
    {
     "name": "stdout",
     "output_type": "stream",
     "text": [
      "guebin\n",
      "iu\n",
      "hodong\n"
     ]
    }
   ],
   "source": [
    "for name,studentid,sex,nat in idlist: \n",
    "    print(name)"
   ]
  },
  {
   "cell_type": "code",
   "execution_count": 61,
   "id": "affiliated-power",
   "metadata": {},
   "outputs": [
    {
     "name": "stdout",
     "output_type": "stream",
     "text": [
      "guebin\n",
      "iu\n",
      "hodong\n"
     ]
    }
   ],
   "source": [
    "for name, _, _, _ in idlist: \n",
    "    print(name)"
   ]
  },
  {
   "cell_type": "markdown",
   "id": "anonymous-estonia",
   "metadata": {},
   "source": [
    "### \\# 요약 "
   ]
  },
  {
   "cell_type": "markdown",
   "id": "fleet-organization",
   "metadata": {},
   "source": [
    "(1) 스트링, 튜플, 리스트는 모두 시퀀스형이라고 부른다. \n",
    "\n",
    "(2) 시컨스형의 카테고리 \n",
    "- 컨테이너 시퀀스: list, tuple. \n",
    "- 균일(flat) 시퀀스: str \n",
    "- 가변 시퀀스: list \n",
    "- 불면 시퀀스: tuple, str"
   ]
  },
  {
   "cell_type": "markdown",
   "id": "tracked-pharmacology",
   "metadata": {},
   "source": [
    "| | 컨테이너 시퀀스 | flat 시퀀스|\n",
    "|:-:|:-:|:-:|\n",
    "|가변 시퀀스|list|-|\n",
    "|불변 시퀀스|tuple|str|"
   ]
  },
  {
   "cell_type": "markdown",
   "id": "beginning-reasoning",
   "metadata": {},
   "source": [
    "(3) 시퀀스형은 모두 인덱싱과 슬라이싱이 가능함. "
   ]
  }
 ],
 "metadata": {
  "colab": {
   "name": "note1_0308.ipynb",
   "provenance": []
  },
  "kernelspec": {
   "display_name": "Python 3",
   "language": "python",
   "name": "python3"
  },
  "language_info": {
   "codemirror_mode": {
    "name": "ipython",
    "version": 3
   },
   "file_extension": ".py",
   "mimetype": "text/x-python",
   "name": "python",
   "nbconvert_exporter": "python",
   "pygments_lexer": "ipython3",
   "version": "3.8.8"
  }
 },
 "nbformat": 4,
 "nbformat_minor": 5
}
