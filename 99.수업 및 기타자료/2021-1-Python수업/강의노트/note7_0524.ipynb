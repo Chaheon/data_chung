{
 "cells": [
  {
   "cell_type": "markdown",
   "id": "expressed-solid",
   "metadata": {},
   "source": [
    "# 7. Class 고급"
   ]
  },
  {
   "cell_type": "markdown",
   "id": "tamil-procedure",
   "metadata": {},
   "source": [
    "## 클래스, 인스턴스, 오브젝트 "
   ]
  },
  {
   "cell_type": "markdown",
   "id": "experienced-science",
   "metadata": {},
   "source": [
    "`-` 오브젝트\n",
    "- 클래스 오브젝트\n",
    "- 인스턴스 오브젝트 "
   ]
  },
  {
   "cell_type": "markdown",
   "id": "legitimate-change",
   "metadata": {},
   "source": [
    "`-` 클래스 (=클래스 오브젝트)"
   ]
  },
  {
   "cell_type": "markdown",
   "id": "sought-mailman",
   "metadata": {},
   "source": [
    "`-` 인스턴스 (=인스턴스 오브젝트)"
   ]
  },
  {
   "cell_type": "markdown",
   "id": "frank-retailer",
   "metadata": {},
   "source": [
    "## 클래스 속성 vs 인스턴스 속성\n",
    "\n",
    "* 클래스.변수이름 vs 인스턴스(self).변수이름  #이게 속성이다. "
   ]
  },
  {
   "cell_type": "markdown",
   "id": "arabic-commerce",
   "metadata": {},
   "source": [
    "### 예제1"
   ]
  },
  {
   "cell_type": "code",
   "execution_count": 1,
   "id": "collective-background",
   "metadata": {},
   "outputs": [],
   "source": [
    "class Testclass1: \n",
    "    x=0 \n",
    "    y=0\n",
    "    def my_print(self):\n",
    "        self.x += 1 \n",
    "        Testclass1.y +=1 \n",
    "        print(\"현재 인스턴스에서 %s 회 출력\" % self.x)\n",
    "        print(\"전체 인스턴스에서 총 %s 회 출력\" % self.y)"
   ]
  },
  {
   "cell_type": "code",
   "execution_count": 3,
   "id": "pointed-rebate",
   "metadata": {},
   "outputs": [],
   "source": [
    "f=Testclass1"
   ]
  },
  {
   "cell_type": "code",
   "execution_count": 4,
   "id": "adverse-table",
   "metadata": {},
   "outputs": [],
   "source": [
    "a=Testclass1()"
   ]
  },
  {
   "cell_type": "code",
   "execution_count": 5,
   "id": "centered-stock",
   "metadata": {},
   "outputs": [],
   "source": [
    "b=f()"
   ]
  },
  {
   "cell_type": "code",
   "execution_count": 6,
   "id": "indoor-tomato",
   "metadata": {},
   "outputs": [
    {
     "name": "stdout",
     "output_type": "stream",
     "text": [
      "현재 인스턴스에서 1 회 출력\n",
      "전체 인스턴스에서 총 1 회 출력\n"
     ]
    }
   ],
   "source": [
    "a.my_print()"
   ]
  },
  {
   "cell_type": "code",
   "execution_count": 7,
   "id": "tender-component",
   "metadata": {},
   "outputs": [
    {
     "name": "stdout",
     "output_type": "stream",
     "text": [
      "현재 인스턴스에서 1 회 출력\n",
      "전체 인스턴스에서 총 2 회 출력\n"
     ]
    }
   ],
   "source": [
    "b.my_print()"
   ]
  },
  {
   "cell_type": "code",
   "execution_count": 8,
   "id": "fiscal-failing",
   "metadata": {},
   "outputs": [
    {
     "name": "stdout",
     "output_type": "stream",
     "text": [
      "현재 인스턴스에서 2 회 출력\n",
      "전체 인스턴스에서 총 3 회 출력\n"
     ]
    }
   ],
   "source": [
    "b.my_print()"
   ]
  },
  {
   "cell_type": "code",
   "execution_count": 9,
   "id": "monetary-glenn",
   "metadata": {},
   "outputs": [
    {
     "name": "stdout",
     "output_type": "stream",
     "text": [
      "현재 인스턴스에서 2 회 출력\n",
      "전체 인스턴스에서 총 4 회 출력\n"
     ]
    }
   ],
   "source": [
    "a.my_print()"
   ]
  },
  {
   "cell_type": "code",
   "execution_count": 10,
   "id": "approximate-locator",
   "metadata": {},
   "outputs": [
    {
     "name": "stdout",
     "output_type": "stream",
     "text": [
      "현재 인스턴스에서 3 회 출력\n",
      "전체 인스턴스에서 총 5 회 출력\n"
     ]
    }
   ],
   "source": [
    "a.my_print()"
   ]
  },
  {
   "cell_type": "markdown",
   "id": "extended-essay",
   "metadata": {},
   "source": [
    "`-` 신기한점: 각 인스턴스에서 instance.my_print()를 실행한 횟수를 서로 공유하는 듯 하다. "
   ]
  },
  {
   "cell_type": "markdown",
   "id": "conservative-center",
   "metadata": {},
   "source": [
    "#### 분석"
   ]
  },
  {
   "cell_type": "markdown",
   "id": "collected-lover",
   "metadata": {},
   "source": [
    "`-` 코드를 시점별로 분석해보자. "
   ]
  },
  {
   "cell_type": "markdown",
   "id": "logical-explosion",
   "metadata": {},
   "source": [
    "`-` 분석을 위해서 커널을 재시작한다. "
   ]
  },
  {
   "cell_type": "markdown",
   "id": "capital-corrections",
   "metadata": {},
   "source": [
    "[시점1]: Testclass1를 선언하는 시점"
   ]
  },
  {
   "cell_type": "code",
   "execution_count": 5,
   "id": "plain-beatles",
   "metadata": {},
   "outputs": [],
   "source": [
    "class Testclass1: \n",
    "    x=0 \n",
    "    y=0\n",
    "    def my_print(self):\n",
    "        self.x += 1 \n",
    "        Testclass1.y +=1 \n",
    "        print(\"현재 인스턴스에서 %s 회 출력\" % self.x)\n",
    "        print(\"전체 인스턴스에서 총 %s 회 출력\" % self.y)"
   ]
  },
  {
   "cell_type": "code",
   "execution_count": 7,
   "id": "removed-simple",
   "metadata": {},
   "outputs": [
    {
     "data": {
      "text/plain": [
       "['__class__',\n",
       " '__delattr__',\n",
       " '__dict__',\n",
       " '__dir__',\n",
       " '__doc__',\n",
       " '__eq__',\n",
       " '__format__',\n",
       " '__ge__',\n",
       " '__getattribute__',\n",
       " '__gt__',\n",
       " '__hash__',\n",
       " '__init__',\n",
       " '__init_subclass__',\n",
       " '__le__',\n",
       " '__lt__',\n",
       " '__module__',\n",
       " '__ne__',\n",
       " '__new__',\n",
       " '__reduce__',\n",
       " '__reduce_ex__',\n",
       " '__repr__',\n",
       " '__setattr__',\n",
       " '__sizeof__',\n",
       " '__str__',\n",
       " '__subclasshook__',\n",
       " '__weakref__',\n",
       " 'my_print',\n",
       " 'x',\n",
       " 'y']"
      ]
     },
     "execution_count": 7,
     "metadata": {},
     "output_type": "execute_result"
    }
   ],
   "source": [
    "dir(Testclass1)"
   ]
  },
  {
   "cell_type": "code",
   "execution_count": 8,
   "id": "educated-dryer",
   "metadata": {},
   "outputs": [
    {
     "ename": "NameError",
     "evalue": "name 'a' is not defined",
     "output_type": "error",
     "traceback": [
      "\u001b[0;31m---------------------------------------------------------------------------\u001b[0m",
      "\u001b[0;31mNameError\u001b[0m                                 Traceback (most recent call last)",
      "\u001b[0;32m<ipython-input-8-3af1c875b71a>\u001b[0m in \u001b[0;36m<module>\u001b[0;34m\u001b[0m\n\u001b[0;32m----> 1\u001b[0;31m \u001b[0mdir\u001b[0m\u001b[0;34m(\u001b[0m\u001b[0ma\u001b[0m\u001b[0;34m)\u001b[0m\u001b[0;34m\u001b[0m\u001b[0;34m\u001b[0m\u001b[0m\n\u001b[0m",
      "\u001b[0;31mNameError\u001b[0m: name 'a' is not defined"
     ]
    }
   ],
   "source": [
    "dir(a)"
   ]
  },
  {
   "cell_type": "code",
   "execution_count": 9,
   "id": "accepting-respondent",
   "metadata": {},
   "outputs": [
    {
     "ename": "NameError",
     "evalue": "name 'b' is not defined",
     "output_type": "error",
     "traceback": [
      "\u001b[0;31m---------------------------------------------------------------------------\u001b[0m",
      "\u001b[0;31mNameError\u001b[0m                                 Traceback (most recent call last)",
      "\u001b[0;32m<ipython-input-9-35660f044d44>\u001b[0m in \u001b[0;36m<module>\u001b[0;34m\u001b[0m\n\u001b[0;32m----> 1\u001b[0;31m \u001b[0mdir\u001b[0m\u001b[0;34m(\u001b[0m\u001b[0mb\u001b[0m\u001b[0;34m)\u001b[0m\u001b[0;34m\u001b[0m\u001b[0;34m\u001b[0m\u001b[0m\n\u001b[0m",
      "\u001b[0;31mNameError\u001b[0m: name 'b' is not defined"
     ]
    }
   ],
   "source": [
    "dir(b)"
   ]
  },
  {
   "cell_type": "markdown",
   "id": "engaged-wedding",
   "metadata": {},
   "source": [
    "`–` 이 시점에는 Testclass1만이 존재한다. Testclass1를 바로 클래스 오브젝트라고 부름. "
   ]
  },
  {
   "cell_type": "code",
   "execution_count": 11,
   "id": "varying-baltimore",
   "metadata": {},
   "outputs": [
    {
     "data": {
      "text/plain": [
       "0"
      ]
     },
     "execution_count": 11,
     "metadata": {},
     "output_type": "execute_result"
    }
   ],
   "source": [
    "Testclass1.x"
   ]
  },
  {
   "cell_type": "code",
   "execution_count": 12,
   "id": "southeast-leeds",
   "metadata": {},
   "outputs": [
    {
     "data": {
      "text/plain": [
       "0"
      ]
     },
     "execution_count": 12,
     "metadata": {},
     "output_type": "execute_result"
    }
   ],
   "source": [
    "Testclass1.y"
   ]
  },
  {
   "cell_type": "markdown",
   "id": "generous-spirit",
   "metadata": {},
   "source": [
    "`–` 현재시점에서는 클래스 오브젝트의 수 1개, 인스턴스 오브젝트의 수 0개, 따라서 총 오브젝트 수는 1개임. "
   ]
  },
  {
   "cell_type": "markdown",
   "id": "opposed-intent",
   "metadata": {},
   "source": [
    "[시점2] 클래스에 별칭을 지정하는 시점 "
   ]
  },
  {
   "cell_type": "code",
   "execution_count": 13,
   "id": "damaged-stomach",
   "metadata": {},
   "outputs": [],
   "source": [
    "f=Testclass1"
   ]
  },
  {
   "cell_type": "code",
   "execution_count": 14,
   "id": "structured-yeast",
   "metadata": {},
   "outputs": [
    {
     "data": {
      "text/plain": [
       "0"
      ]
     },
     "execution_count": 14,
     "metadata": {},
     "output_type": "execute_result"
    }
   ],
   "source": [
    "f.x"
   ]
  },
  {
   "cell_type": "code",
   "execution_count": 15,
   "id": "virgin-absolute",
   "metadata": {},
   "outputs": [
    {
     "data": {
      "text/plain": [
       "0"
      ]
     },
     "execution_count": 15,
     "metadata": {},
     "output_type": "execute_result"
    }
   ],
   "source": [
    "f.y"
   ]
  },
  {
   "cell_type": "code",
   "execution_count": 16,
   "id": "embedded-matter",
   "metadata": {},
   "outputs": [
    {
     "data": {
      "text/plain": [
       "0"
      ]
     },
     "execution_count": 16,
     "metadata": {},
     "output_type": "execute_result"
    }
   ],
   "source": [
    "Testclass1.x"
   ]
  },
  {
   "cell_type": "code",
   "execution_count": 17,
   "id": "published-playback",
   "metadata": {},
   "outputs": [
    {
     "data": {
      "text/plain": [
       "0"
      ]
     },
     "execution_count": 17,
     "metadata": {},
     "output_type": "execute_result"
    }
   ],
   "source": [
    "Testclass1.y"
   ]
  },
  {
   "cell_type": "markdown",
   "id": "elder-salvation",
   "metadata": {},
   "source": [
    "`–` 이 시점에서 클래스 오브젝트는 2개가 있는 것 처럼 보인다. "
   ]
  },
  {
   "cell_type": "markdown",
   "id": "informed-butterfly",
   "metadata": {},
   "source": [
    "`-` 그렇다면 이 2개의 클래스 오브젝트는 컴퓨터의 어딘가에 저장이 되어 있을 것이다. "
   ]
  },
  {
   "cell_type": "markdown",
   "id": "ahead-animation",
   "metadata": {},
   "source": [
    "`-` 구체적으로는 메모리에 저장되어있을것. "
   ]
  },
  {
   "cell_type": "markdown",
   "id": "surrounded-virus",
   "metadata": {},
   "source": [
    "`-` 2개의 클래스오브젝트는 서로 다른 메모리 공간에 저장되어 있을것이다."
   ]
  },
  {
   "cell_type": "markdown",
   "id": "tired-small",
   "metadata": {},
   "source": [
    "`-` 진짜인가? 확인해보자. `id()`는 오브젝트(클래스 오브젝트, 인스턴스 오브젝트)가 저장된 메모리 주소를 확인하는 명령어이다. "
   ]
  },
  {
   "cell_type": "code",
   "execution_count": 18,
   "id": "exterior-culture",
   "metadata": {},
   "outputs": [
    {
     "data": {
      "text/plain": [
       "93967322676384"
      ]
     },
     "execution_count": 18,
     "metadata": {},
     "output_type": "execute_result"
    }
   ],
   "source": [
    "id(f)"
   ]
  },
  {
   "cell_type": "markdown",
   "id": "confident-candidate",
   "metadata": {},
   "source": [
    "`–` f라는 오브젝트는 93967322676384 메모리에 저장되어 있다. "
   ]
  },
  {
   "cell_type": "code",
   "execution_count": 19,
   "id": "answering-arbitration",
   "metadata": {},
   "outputs": [
    {
     "data": {
      "text/plain": [
       "93967322676384"
      ]
     },
     "execution_count": 19,
     "metadata": {},
     "output_type": "execute_result"
    }
   ],
   "source": [
    "id(Testclass1)"
   ]
  },
  {
   "cell_type": "markdown",
   "id": "extreme-ballot",
   "metadata": {},
   "source": [
    "`-` 어? 그런데 Testclass1의 오브젝트 역시 93967322676384 메모리에 저장되어 있다. "
   ]
  },
  {
   "cell_type": "markdown",
   "id": "associate-bridges",
   "metadata": {},
   "source": [
    "`-` 추론: 사실 93967322676384라는 메모리공간에 저장된 어떠한 것은 동일한데, 그것을 어떤사람은 `Testclass1` 이라고 부르고 어떤사람은 `f`라고 부른다. "
   ]
  },
  {
   "cell_type": "markdown",
   "id": "fossil-atlas",
   "metadata": {},
   "source": [
    "`-` 이는 마치 별명이랑 비슷하다. 나라는 오브젝트를 어떤사람은 `최규빈`이라고 부르고, 어떤사람은 `팬더`라고 부른다. 부르는 이름이 2개라고 해서 나라는 오브젝트가 2개가 있는것은 아니다. "
   ]
  },
  {
   "cell_type": "markdown",
   "id": "welsh-ireland",
   "metadata": {},
   "source": [
    "`-` 결국 이 시점에서 클래스 오브젝트의 수는 여전히 1개라고 볼 수 있다. (인스턴스 오브젝트의 수는 0개)"
   ]
  },
  {
   "cell_type": "markdown",
   "id": "shaped-margin",
   "metadata": {},
   "source": [
    "[시점3]: 클래스 오브젝트로부터 인스턴스 오브젝트를 만드는 시점"
   ]
  },
  {
   "cell_type": "code",
   "execution_count": 20,
   "id": "temporal-pixel",
   "metadata": {},
   "outputs": [],
   "source": [
    "a=Testclass1()\n",
    "b=f()"
   ]
  },
  {
   "cell_type": "code",
   "execution_count": 24,
   "id": "electronic-thunder",
   "metadata": {},
   "outputs": [
    {
     "data": {
      "text/plain": [
       "(93967322676384, 93967322676384, 139694857660688, 139694848860656)"
      ]
     },
     "execution_count": 24,
     "metadata": {},
     "output_type": "execute_result"
    }
   ],
   "source": [
    "id(Testclass1),id(f),id(a),id(b)"
   ]
  },
  {
   "cell_type": "markdown",
   "id": "adult-ottawa",
   "metadata": {},
   "source": [
    "`–` 이 순간에는 클래스 오브젝트 1개, 인스턴스 오브젝트 2개 존재한다. 즉 총 3개의 오브젝트가 존재한다. "
   ]
  },
  {
   "cell_type": "markdown",
   "id": "printable-pastor",
   "metadata": {},
   "source": [
    "`-` 메모리주소 93967322676384 에 존재하는 오브젝트는 클래스 오브젝트이며 Testclass1 또는 f 라고 불린다. "
   ]
  },
  {
   "cell_type": "markdown",
   "id": "individual-desire",
   "metadata": {},
   "source": [
    "`-` 메모리주소 139694857660688 에 존재하는 오브젝트는 인스턴스 오브젝트이며 a라고 불린다. "
   ]
  },
  {
   "cell_type": "markdown",
   "id": "material-seeking",
   "metadata": {},
   "source": [
    "`-` 메모리주소 139694848860656 에 존재하는 오브젝트는 인스턴스 오브젝트이며 b라고 불린다. "
   ]
  },
  {
   "cell_type": "code",
   "execution_count": 26,
   "id": "iraqi-force",
   "metadata": {},
   "outputs": [
    {
     "data": {
      "text/plain": [
       "(0, 0)"
      ]
     },
     "execution_count": 26,
     "metadata": {},
     "output_type": "execute_result"
    }
   ],
   "source": [
    "Testclass1.x, Testclass1.y"
   ]
  },
  {
   "cell_type": "code",
   "execution_count": 29,
   "id": "proved-garbage",
   "metadata": {},
   "outputs": [
    {
     "data": {
      "text/plain": [
       "(0, 0)"
      ]
     },
     "execution_count": 29,
     "metadata": {},
     "output_type": "execute_result"
    }
   ],
   "source": [
    "f.x,f.y"
   ]
  },
  {
   "cell_type": "code",
   "execution_count": 27,
   "id": "stuffed-north",
   "metadata": {},
   "outputs": [
    {
     "data": {
      "text/plain": [
       "(0, 0)"
      ]
     },
     "execution_count": 27,
     "metadata": {},
     "output_type": "execute_result"
    }
   ],
   "source": [
    "a.x,a.y"
   ]
  },
  {
   "cell_type": "code",
   "execution_count": 28,
   "id": "complete-class",
   "metadata": {},
   "outputs": [
    {
     "data": {
      "text/plain": [
       "(0, 0)"
      ]
     },
     "execution_count": 28,
     "metadata": {},
     "output_type": "execute_result"
    }
   ],
   "source": [
    "b.x,b.y"
   ]
  },
  {
   "cell_type": "markdown",
   "id": "agricultural-newsletter",
   "metadata": {},
   "source": [
    "[시점4]"
   ]
  },
  {
   "cell_type": "code",
   "execution_count": 30,
   "id": "smart-packing",
   "metadata": {},
   "outputs": [
    {
     "name": "stdout",
     "output_type": "stream",
     "text": [
      "현재 인스턴스에서 1 회 출력\n",
      "전체 인스턴스에서 총 1 회 출력\n"
     ]
    }
   ],
   "source": [
    "a.my_print()"
   ]
  },
  {
   "cell_type": "code",
   "execution_count": 31,
   "id": "remarkable-nelson",
   "metadata": {},
   "outputs": [
    {
     "data": {
      "text/plain": [
       "((0, 1), (1, 1), (0, 1))"
      ]
     },
     "execution_count": 31,
     "metadata": {},
     "output_type": "execute_result"
    }
   ],
   "source": [
    "(f.x,f.y),(a.x,a.y),(b.x,b.y)"
   ]
  },
  {
   "cell_type": "markdown",
   "id": "handled-beatles",
   "metadata": {},
   "source": [
    "`-` 특징 \n",
    " - a.my_print()를 실행하면 a.x 의 값이 1이 증가한다. \n",
    " - a.my_print()를 실행하면 f.y, a.y, b.y 의 값이 동시에 1이 증가한다. (공유가 되는 느낌)"
   ]
  },
  {
   "cell_type": "markdown",
   "id": "narrow-effects",
   "metadata": {},
   "source": [
    "[시점5]"
   ]
  },
  {
   "cell_type": "code",
   "execution_count": 34,
   "id": "difficult-variance",
   "metadata": {},
   "outputs": [
    {
     "name": "stdout",
     "output_type": "stream",
     "text": [
      "현재 인스턴스에서 1 회 출력\n",
      "전체 인스턴스에서 총 2 회 출력\n"
     ]
    }
   ],
   "source": [
    "b.my_print()"
   ]
  },
  {
   "cell_type": "code",
   "execution_count": 35,
   "id": "caring-joining",
   "metadata": {},
   "outputs": [
    {
     "data": {
      "text/plain": [
       "((0, 2), (1, 2), (1, 2))"
      ]
     },
     "execution_count": 35,
     "metadata": {},
     "output_type": "execute_result"
    }
   ],
   "source": [
    "(f.x,f.y),(a.x,a.y),(b.x,b.y)"
   ]
  },
  {
   "cell_type": "markdown",
   "id": "prostate-ceremony",
   "metadata": {},
   "source": [
    "[시점6]"
   ]
  },
  {
   "cell_type": "code",
   "execution_count": 36,
   "id": "historical-oliver",
   "metadata": {},
   "outputs": [
    {
     "name": "stdout",
     "output_type": "stream",
     "text": [
      "현재 인스턴스에서 2 회 출력\n",
      "전체 인스턴스에서 총 3 회 출력\n"
     ]
    }
   ],
   "source": [
    "b.my_print()"
   ]
  },
  {
   "cell_type": "code",
   "execution_count": 37,
   "id": "medieval-aruba",
   "metadata": {},
   "outputs": [
    {
     "data": {
      "text/plain": [
       "((0, 3), (1, 3), (2, 3))"
      ]
     },
     "execution_count": 37,
     "metadata": {},
     "output_type": "execute_result"
    }
   ],
   "source": [
    "(f.x,f.y),(a.x,a.y),(b.x,b.y)"
   ]
  },
  {
   "cell_type": "markdown",
   "id": "meaningful-conference",
   "metadata": {},
   "source": [
    "[시점7]"
   ]
  },
  {
   "cell_type": "code",
   "execution_count": 38,
   "id": "optional-poultry",
   "metadata": {},
   "outputs": [
    {
     "name": "stdout",
     "output_type": "stream",
     "text": [
      "현재 인스턴스에서 2 회 출력\n",
      "전체 인스턴스에서 총 4 회 출력\n"
     ]
    }
   ],
   "source": [
    "a.my_print()"
   ]
  },
  {
   "cell_type": "code",
   "execution_count": 39,
   "id": "enabling-bicycle",
   "metadata": {},
   "outputs": [
    {
     "data": {
      "text/plain": [
       "((0, 4), (2, 4), (2, 4))"
      ]
     },
     "execution_count": 39,
     "metadata": {},
     "output_type": "execute_result"
    }
   ],
   "source": [
    "(f.x,f.y),(a.x,a.y),(b.x,b.y)"
   ]
  },
  {
   "cell_type": "markdown",
   "id": "handled-afghanistan",
   "metadata": {},
   "source": [
    "[시점8]"
   ]
  },
  {
   "cell_type": "code",
   "execution_count": 40,
   "id": "statutory-costs",
   "metadata": {},
   "outputs": [
    {
     "name": "stdout",
     "output_type": "stream",
     "text": [
      "현재 인스턴스에서 3 회 출력\n",
      "전체 인스턴스에서 총 5 회 출력\n"
     ]
    }
   ],
   "source": [
    "a.my_print()"
   ]
  },
  {
   "cell_type": "code",
   "execution_count": 41,
   "id": "ranking-shark",
   "metadata": {},
   "outputs": [
    {
     "data": {
      "text/plain": [
       "((0, 5), (3, 5), (2, 5))"
      ]
     },
     "execution_count": 41,
     "metadata": {},
     "output_type": "execute_result"
    }
   ],
   "source": [
    "(f.x,f.y),(a.x,a.y),(b.x,b.y)"
   ]
  },
  {
   "cell_type": "markdown",
   "id": "respective-peter",
   "metadata": {},
   "source": [
    "### 예제2"
   ]
  },
  {
   "cell_type": "markdown",
   "id": "gentle-slope",
   "metadata": {},
   "source": [
    "`-` 아래처럼 코드를 바꿔도 잘 동작할것 같다. "
   ]
  },
  {
   "cell_type": "code",
   "execution_count": 46,
   "id": "ongoing-diary",
   "metadata": {},
   "outputs": [],
   "source": [
    "class Testclass2: \n",
    "    def __init__(self):\n",
    "        self.x=0\n",
    "        self.y=0\n",
    "    def my_print(self):\n",
    "        self.x += 1 \n",
    "        Testclass2.y +=1 \n",
    "        print(\"현재 인스턴스에서 %s 회 출력\" % self.x)\n",
    "        print(\"전체 인스턴스에서 총 %s 회 출력\" % self.y)"
   ]
  },
  {
   "cell_type": "code",
   "execution_count": 47,
   "id": "induced-addiction",
   "metadata": {},
   "outputs": [],
   "source": [
    "c=Testclass2()"
   ]
  },
  {
   "cell_type": "code",
   "execution_count": 51,
   "id": "lovely-grounds",
   "metadata": {},
   "outputs": [
    {
     "ename": "AttributeError",
     "evalue": "type object 'Testclass2' has no attribute 'y'",
     "output_type": "error",
     "traceback": [
      "\u001b[0;31m---------------------------------------------------------------------------\u001b[0m",
      "\u001b[0;31mAttributeError\u001b[0m                            Traceback (most recent call last)",
      "\u001b[0;32m<ipython-input-51-5500abb1215d>\u001b[0m in \u001b[0;36m<module>\u001b[0;34m\u001b[0m\n\u001b[0;32m----> 1\u001b[0;31m \u001b[0mc\u001b[0m\u001b[0;34m.\u001b[0m\u001b[0mmy_print\u001b[0m\u001b[0;34m(\u001b[0m\u001b[0;34m)\u001b[0m\u001b[0;34m\u001b[0m\u001b[0;34m\u001b[0m\u001b[0m\n\u001b[0m",
      "\u001b[0;32m<ipython-input-46-72dbe3bd77f6>\u001b[0m in \u001b[0;36mmy_print\u001b[0;34m(self)\u001b[0m\n\u001b[1;32m      5\u001b[0m     \u001b[0;32mdef\u001b[0m \u001b[0mmy_print\u001b[0m\u001b[0;34m(\u001b[0m\u001b[0mself\u001b[0m\u001b[0;34m)\u001b[0m\u001b[0;34m:\u001b[0m\u001b[0;34m\u001b[0m\u001b[0;34m\u001b[0m\u001b[0m\n\u001b[1;32m      6\u001b[0m         \u001b[0mself\u001b[0m\u001b[0;34m.\u001b[0m\u001b[0mx\u001b[0m \u001b[0;34m+=\u001b[0m \u001b[0;36m1\u001b[0m\u001b[0;34m\u001b[0m\u001b[0;34m\u001b[0m\u001b[0m\n\u001b[0;32m----> 7\u001b[0;31m         \u001b[0mTestclass2\u001b[0m\u001b[0;34m.\u001b[0m\u001b[0my\u001b[0m \u001b[0;34m+=\u001b[0m\u001b[0;36m1\u001b[0m\u001b[0;34m\u001b[0m\u001b[0;34m\u001b[0m\u001b[0m\n\u001b[0m\u001b[1;32m      8\u001b[0m         \u001b[0mprint\u001b[0m\u001b[0;34m(\u001b[0m\u001b[0;34m\"현재 인스턴스에서 %s 회 출력\"\u001b[0m \u001b[0;34m%\u001b[0m \u001b[0mself\u001b[0m\u001b[0;34m.\u001b[0m\u001b[0mx\u001b[0m\u001b[0;34m)\u001b[0m\u001b[0;34m\u001b[0m\u001b[0;34m\u001b[0m\u001b[0m\n\u001b[1;32m      9\u001b[0m         \u001b[0mprint\u001b[0m\u001b[0;34m(\u001b[0m\u001b[0;34m\"전체 인스턴스에서 총 %s 회 출력\"\u001b[0m \u001b[0;34m%\u001b[0m \u001b[0mself\u001b[0m\u001b[0;34m.\u001b[0m\u001b[0my\u001b[0m\u001b[0;34m)\u001b[0m\u001b[0;34m\u001b[0m\u001b[0;34m\u001b[0m\u001b[0m\n",
      "\u001b[0;31mAttributeError\u001b[0m: type object 'Testclass2' has no attribute 'y'"
     ]
    }
   ],
   "source": [
    "c.my_print()"
   ]
  },
  {
   "cell_type": "markdown",
   "id": "overall-linux",
   "metadata": {},
   "source": [
    "`–` 왜 에러가 나는가? "
   ]
  },
  {
   "cell_type": "code",
   "execution_count": 52,
   "id": "hindu-reality",
   "metadata": {},
   "outputs": [
    {
     "data": {
      "text/plain": [
       "['__class__',\n",
       " '__delattr__',\n",
       " '__dict__',\n",
       " '__dir__',\n",
       " '__doc__',\n",
       " '__eq__',\n",
       " '__format__',\n",
       " '__ge__',\n",
       " '__getattribute__',\n",
       " '__gt__',\n",
       " '__hash__',\n",
       " '__init__',\n",
       " '__init_subclass__',\n",
       " '__le__',\n",
       " '__lt__',\n",
       " '__module__',\n",
       " '__ne__',\n",
       " '__new__',\n",
       " '__reduce__',\n",
       " '__reduce_ex__',\n",
       " '__repr__',\n",
       " '__setattr__',\n",
       " '__sizeof__',\n",
       " '__str__',\n",
       " '__subclasshook__',\n",
       " '__weakref__',\n",
       " 'my_print']"
      ]
     },
     "execution_count": 52,
     "metadata": {},
     "output_type": "execute_result"
    }
   ],
   "source": [
    "dir(Testclass2)"
   ]
  },
  {
   "cell_type": "code",
   "execution_count": 53,
   "id": "acute-italy",
   "metadata": {},
   "outputs": [
    {
     "data": {
      "text/plain": [
       "['__class__',\n",
       " '__delattr__',\n",
       " '__dict__',\n",
       " '__dir__',\n",
       " '__doc__',\n",
       " '__eq__',\n",
       " '__format__',\n",
       " '__ge__',\n",
       " '__getattribute__',\n",
       " '__gt__',\n",
       " '__hash__',\n",
       " '__init__',\n",
       " '__init_subclass__',\n",
       " '__le__',\n",
       " '__lt__',\n",
       " '__module__',\n",
       " '__ne__',\n",
       " '__new__',\n",
       " '__reduce__',\n",
       " '__reduce_ex__',\n",
       " '__repr__',\n",
       " '__setattr__',\n",
       " '__sizeof__',\n",
       " '__str__',\n",
       " '__subclasshook__',\n",
       " '__weakref__',\n",
       " 'my_print',\n",
       " 'x',\n",
       " 'y']"
      ]
     },
     "execution_count": 53,
     "metadata": {},
     "output_type": "execute_result"
    }
   ],
   "source": [
    "dir(Testclass1)"
   ]
  },
  {
   "cell_type": "markdown",
   "id": "fossil-absolute",
   "metadata": {},
   "source": [
    "`-` 관찰1: Testclass2에서는 Testclass1과는 다르게 x,y가 없다. "
   ]
  },
  {
   "cell_type": "code",
   "execution_count": 54,
   "id": "german-nebraska",
   "metadata": {},
   "outputs": [
    {
     "data": {
      "text/plain": [
       "['__class__',\n",
       " '__delattr__',\n",
       " '__dict__',\n",
       " '__dir__',\n",
       " '__doc__',\n",
       " '__eq__',\n",
       " '__format__',\n",
       " '__ge__',\n",
       " '__getattribute__',\n",
       " '__gt__',\n",
       " '__hash__',\n",
       " '__init__',\n",
       " '__init_subclass__',\n",
       " '__le__',\n",
       " '__lt__',\n",
       " '__module__',\n",
       " '__ne__',\n",
       " '__new__',\n",
       " '__reduce__',\n",
       " '__reduce_ex__',\n",
       " '__repr__',\n",
       " '__setattr__',\n",
       " '__sizeof__',\n",
       " '__str__',\n",
       " '__subclasshook__',\n",
       " '__weakref__',\n",
       " 'my_print',\n",
       " 'x',\n",
       " 'y']"
      ]
     },
     "execution_count": 54,
     "metadata": {},
     "output_type": "execute_result"
    }
   ],
   "source": [
    "dir(c)"
   ]
  },
  {
   "cell_type": "markdown",
   "id": "educational-examination",
   "metadata": {},
   "source": [
    "`–` 관찰2: 그런데 `c`라는 인스턴스 오브젝트에서는 x,y가 있다. "
   ]
  },
  {
   "cell_type": "markdown",
   "id": "domestic-congo",
   "metadata": {},
   "source": [
    "`-` 추론: `__init__`함수는 클래스 오브젝트가 만들어지는 시점에서는 실행되지 않고, 인스텐스 오브젝트가 만들어지는 시점에 실행된다."
   ]
  },
  {
   "cell_type": "markdown",
   "id": "minimal-zealand",
   "metadata": {},
   "source": [
    "`-` 결국 `__init__`함수의 역할은 클래스 오브젝트에서 인스턴스 오브젝트를 만든후에 초기화를 위해서 실행하는 어떠한 일련의 명령들을 묶어놓은 것에 불과하다. "
   ]
  },
  {
   "cell_type": "markdown",
   "id": "interested-facility",
   "metadata": {},
   "source": [
    "`–` 즉 위의 코드는 굳이 따지면 아래를 실행한 것과 동일하다. "
   ]
  },
  {
   "cell_type": "code",
   "execution_count": 55,
   "id": "painful-college",
   "metadata": {},
   "outputs": [],
   "source": [
    "class Testclass2: \n",
    "#     def __init__(self):\n",
    "#         self.x=0\n",
    "#         self.y=0\n",
    "    def my_print(self):\n",
    "        self.x += 1 \n",
    "        Testclass2.y +=1 \n",
    "        print(\"현재 인스턴스에서 %s 회 출력\" % self.x)\n",
    "        print(\"전체 인스턴스에서 총 %s 회 출력\" % self.y)"
   ]
  },
  {
   "cell_type": "code",
   "execution_count": 56,
   "id": "vietnamese-insured",
   "metadata": {},
   "outputs": [],
   "source": [
    "c=Testclass2()"
   ]
  },
  {
   "cell_type": "code",
   "execution_count": 58,
   "id": "preceding-barcelona",
   "metadata": {},
   "outputs": [],
   "source": [
    "c.x=0\n",
    "c.y=0"
   ]
  },
  {
   "cell_type": "markdown",
   "id": "mature-reduction",
   "metadata": {},
   "source": [
    "`-` 이 상황에서 \n",
    "```python\n",
    "c.my_print()\n",
    "```\n",
    "를 실행하면\n",
    "```python\n",
    "c.x += 1 \n",
    "Testclass2.y +=1 \n",
    "print(\"현재 인스턴스에서 %s 회 출력\" % c.x)\n",
    "print(\"전체 인스턴스에서 총 %s 회 출력\" % c.y)\n",
    "```\n",
    "이 실행되는데, 이때 Testclass2.y 이 정의되어 있지 않으므로 \n",
    "```python\n",
    "Testclass2.y +=1 \n",
    "```\n",
    "에서 에러가 난다. "
   ]
  },
  {
   "cell_type": "code",
   "execution_count": 63,
   "id": "prepared-campbell",
   "metadata": {},
   "outputs": [
    {
     "ename": "AttributeError",
     "evalue": "type object 'Testclass2' has no attribute 'y'",
     "output_type": "error",
     "traceback": [
      "\u001b[0;31m---------------------------------------------------------------------------\u001b[0m",
      "\u001b[0;31mAttributeError\u001b[0m                            Traceback (most recent call last)",
      "\u001b[0;32m<ipython-input-63-5500abb1215d>\u001b[0m in \u001b[0;36m<module>\u001b[0;34m\u001b[0m\n\u001b[0;32m----> 1\u001b[0;31m \u001b[0mc\u001b[0m\u001b[0;34m.\u001b[0m\u001b[0mmy_print\u001b[0m\u001b[0;34m(\u001b[0m\u001b[0;34m)\u001b[0m\u001b[0;34m\u001b[0m\u001b[0;34m\u001b[0m\u001b[0m\n\u001b[0m",
      "\u001b[0;32m<ipython-input-55-66666a70bf33>\u001b[0m in \u001b[0;36mmy_print\u001b[0;34m(self)\u001b[0m\n\u001b[1;32m      5\u001b[0m     \u001b[0;32mdef\u001b[0m \u001b[0mmy_print\u001b[0m\u001b[0;34m(\u001b[0m\u001b[0mself\u001b[0m\u001b[0;34m)\u001b[0m\u001b[0;34m:\u001b[0m\u001b[0;34m\u001b[0m\u001b[0;34m\u001b[0m\u001b[0m\n\u001b[1;32m      6\u001b[0m         \u001b[0mself\u001b[0m\u001b[0;34m.\u001b[0m\u001b[0mx\u001b[0m \u001b[0;34m+=\u001b[0m \u001b[0;36m1\u001b[0m\u001b[0;34m\u001b[0m\u001b[0;34m\u001b[0m\u001b[0m\n\u001b[0;32m----> 7\u001b[0;31m         \u001b[0mTestclass2\u001b[0m\u001b[0;34m.\u001b[0m\u001b[0my\u001b[0m \u001b[0;34m+=\u001b[0m\u001b[0;36m1\u001b[0m\u001b[0;34m\u001b[0m\u001b[0;34m\u001b[0m\u001b[0m\n\u001b[0m\u001b[1;32m      8\u001b[0m         \u001b[0mprint\u001b[0m\u001b[0;34m(\u001b[0m\u001b[0;34m\"현재 인스턴스에서 %s 회 출력\"\u001b[0m \u001b[0;34m%\u001b[0m \u001b[0mself\u001b[0m\u001b[0;34m.\u001b[0m\u001b[0mx\u001b[0m\u001b[0;34m)\u001b[0m\u001b[0;34m\u001b[0m\u001b[0;34m\u001b[0m\u001b[0m\n\u001b[1;32m      9\u001b[0m         \u001b[0mprint\u001b[0m\u001b[0;34m(\u001b[0m\u001b[0;34m\"전체 인스턴스에서 총 %s 회 출력\"\u001b[0m \u001b[0;34m%\u001b[0m \u001b[0mself\u001b[0m\u001b[0;34m.\u001b[0m\u001b[0my\u001b[0m\u001b[0;34m)\u001b[0m\u001b[0;34m\u001b[0m\u001b[0;34m\u001b[0m\u001b[0m\n",
      "\u001b[0;31mAttributeError\u001b[0m: type object 'Testclass2' has no attribute 'y'"
     ]
    }
   ],
   "source": [
    "c.my_print()"
   ]
  },
  {
   "cell_type": "markdown",
   "id": "geological-importance",
   "metadata": {},
   "source": [
    "### 예제 3"
   ]
  },
  {
   "cell_type": "markdown",
   "id": "portuguese-stability",
   "metadata": {},
   "source": [
    "`-` 그렇다면 아래와 같이 수정하면 어떨까? "
   ]
  },
  {
   "cell_type": "code",
   "execution_count": 65,
   "id": "straight-standing",
   "metadata": {},
   "outputs": [],
   "source": [
    "class Testclass3: \n",
    "    def __init__(self):\n",
    "        self.x=0\n",
    "        Testclass3.y=0\n",
    "    def my_print(self):\n",
    "        self.x += 1 \n",
    "        Testclass3.y +=1 \n",
    "        print(\"현재 인스턴스에서 %s 회 출력\" % self.x)\n",
    "        print(\"전체 인스턴스에서 총 %s 회 출력\" % self.y)"
   ]
  },
  {
   "cell_type": "code",
   "execution_count": 67,
   "id": "chemical-citizen",
   "metadata": {},
   "outputs": [],
   "source": [
    "a=Testclass3()\n",
    "b=Testclass3()"
   ]
  },
  {
   "cell_type": "code",
   "execution_count": 68,
   "id": "classified-myanmar",
   "metadata": {},
   "outputs": [
    {
     "name": "stdout",
     "output_type": "stream",
     "text": [
      "현재 인스턴스에서 1 회 출력\n",
      "전체 인스턴스에서 총 1 회 출력\n"
     ]
    }
   ],
   "source": [
    "a.my_print()"
   ]
  },
  {
   "cell_type": "code",
   "execution_count": 69,
   "id": "interstate-junction",
   "metadata": {},
   "outputs": [
    {
     "name": "stdout",
     "output_type": "stream",
     "text": [
      "현재 인스턴스에서 1 회 출력\n",
      "전체 인스턴스에서 총 2 회 출력\n"
     ]
    }
   ],
   "source": [
    "b.my_print()"
   ]
  },
  {
   "cell_type": "code",
   "execution_count": 70,
   "id": "inclusive-stranger",
   "metadata": {},
   "outputs": [
    {
     "name": "stdout",
     "output_type": "stream",
     "text": [
      "현재 인스턴스에서 2 회 출력\n",
      "전체 인스턴스에서 총 3 회 출력\n"
     ]
    }
   ],
   "source": [
    "a.my_print()"
   ]
  },
  {
   "cell_type": "code",
   "execution_count": 71,
   "id": "revised-poverty",
   "metadata": {},
   "outputs": [
    {
     "name": "stdout",
     "output_type": "stream",
     "text": [
      "현재 인스턴스에서 3 회 출력\n",
      "전체 인스턴스에서 총 4 회 출력\n"
     ]
    }
   ],
   "source": [
    "a.my_print()"
   ]
  },
  {
   "cell_type": "code",
   "execution_count": 72,
   "id": "active-advertiser",
   "metadata": {},
   "outputs": [
    {
     "name": "stdout",
     "output_type": "stream",
     "text": [
      "현재 인스턴스에서 2 회 출력\n",
      "전체 인스턴스에서 총 5 회 출력\n"
     ]
    }
   ],
   "source": [
    "b.my_print()"
   ]
  },
  {
   "cell_type": "code",
   "execution_count": 73,
   "id": "parental-junction",
   "metadata": {},
   "outputs": [
    {
     "name": "stdout",
     "output_type": "stream",
     "text": [
      "현재 인스턴스에서 3 회 출력\n",
      "전체 인스턴스에서 총 6 회 출력\n"
     ]
    }
   ],
   "source": [
    "b.my_print()"
   ]
  },
  {
   "cell_type": "markdown",
   "id": "martial-remainder",
   "metadata": {},
   "source": [
    "`–` Testclass1과 동일한 기능이 수행되는것 같다. "
   ]
  },
  {
   "cell_type": "markdown",
   "id": "awful-beijing",
   "metadata": {},
   "source": [
    "`-` 그런데 조금만 생각해보면 엉터리라는 것을 알 수 있다. 아래의 코드를 관찰하여보자. "
   ]
  },
  {
   "cell_type": "code",
   "execution_count": 74,
   "id": "imposed-maker",
   "metadata": {},
   "outputs": [
    {
     "name": "stdout",
     "output_type": "stream",
     "text": [
      "현재 인스턴스에서 1 회 출력\n",
      "전체 인스턴스에서 총 1 회 출력\n",
      "현재 인스턴스에서 2 회 출력\n",
      "전체 인스턴스에서 총 2 회 출력\n",
      "현재 인스턴스에서 1 회 출력\n",
      "전체 인스턴스에서 총 1 회 출력\n"
     ]
    }
   ],
   "source": [
    "class Testclass3: \n",
    "    def __init__(self):\n",
    "        self.x=0\n",
    "        Testclass3.y=0\n",
    "    def my_print(self):\n",
    "        self.x += 1 \n",
    "        Testclass3.y +=1 \n",
    "        print(\"현재 인스턴스에서 %s 회 출력\" % self.x)\n",
    "        print(\"전체 인스턴스에서 총 %s 회 출력\" % self.y)\n",
    "        \n",
    "a=Testclass3()\n",
    "a.my_print()\n",
    "a.my_print()\n",
    "b=Testclass3()\n",
    "b.my_print()"
   ]
  },
  {
   "cell_type": "markdown",
   "id": "published-highland",
   "metadata": {},
   "source": [
    "`-` Testclass3는 인스턴스를 생성할때마다 `y=0`이 설정된다. 그래서 \n",
    "```python\n",
    "b=Testclass3()\n",
    "```\n",
    "이 시점에서 의도하지 않게 '전체 인스턴스에서 출력된 횟수'를 의미하는 `y`가 초기화되었다. "
   ]
  },
  {
   "cell_type": "markdown",
   "id": "molecular-black",
   "metadata": {},
   "source": [
    "`-` 코드는 엉터리이지만, Testclass3은 의외로 분석할만한 가치가 있다. 특히 위의 실행결과를 시점별로 Testclass1과 비교해보면 재미있다. "
   ]
  },
  {
   "cell_type": "markdown",
   "id": "civilian-enhancement",
   "metadata": {},
   "source": [
    "`-` Testclass1"
   ]
  },
  {
   "cell_type": "markdown",
   "id": "black-permission",
   "metadata": {},
   "source": [
    "```python\n",
    "### Testclass1 \n",
    "## 시점1: 클래스 오브젝트 생성 \n",
    "class Testclass1: \n",
    "    x=0 \n",
    "    y=0\n",
    "    def my_print(self):\n",
    "        self.x += 1 \n",
    "        Testclass1.y +=1 \n",
    "        print(\"현재 인스턴스에서 %s 회 출력\" % self.x)\n",
    "        print(\"전체 인스턴스에서 총 %s 회 출력\" % self.y)\n",
    "## 시점2: 인스턴스 오브젝트 a를 생성 \n",
    "a=Testclass1()\n",
    "## 시점3: a에서 메소드 실행 \n",
    "a.my_print()\n",
    "## 시점4: a에서 메소드를 한번 더 실행 \n",
    "a.my_print()\n",
    "## 시점5: 인스턴스 오브젝트 b를 생성\n",
    "b=Testclass1()\n",
    "## 시점6: b에서 메소드를 실행\n",
    "b.my_print()\n",
    "```"
   ]
  },
  {
   "cell_type": "markdown",
   "id": "anonymous-material",
   "metadata": {},
   "source": [
    "```\n",
    "현재 인스턴스에서 1 회 출력\n",
    "전체 인스턴스에서 총 1 회 출력\n",
    "현재 인스턴스에서 2 회 출력\n",
    "전체 인스턴스에서 총 2 회 출력\n",
    "현재 인스턴스에서 1 회 출력\n",
    "전체 인스턴스에서 총 3 회 출력\n",
    "```"
   ]
  },
  {
   "cell_type": "markdown",
   "id": "excessive-grocery",
   "metadata": {},
   "source": [
    "| |시점1 |시점2 |시점3 | 시점4 | 시점5| 시점6|\n",
    "|:-:|:-:|:-:|:-:|:-:|:-:|:-:|\n",
    "|Testclass1.x|0| 0| 0| 0| 0| 0|\n",
    "|Testclass1.y|0| 0| 1| 2| 2 | 3|\n",
    "|a.x| 값없음     | 0| 1| 2| 2| 2|\n",
    "|a.y| 값없음     | 0| 1| 2| 2| 3|\n",
    "|b.x| 값없음|     값없음| 값없음| 값없음| 0| 1|\n",
    "|b.y| 값없음|     값없음| 값없음| 값없음| 2| 3|"
   ]
  },
  {
   "cell_type": "markdown",
   "id": "limited-employment",
   "metadata": {},
   "source": [
    "`–` Testclass3"
   ]
  },
  {
   "cell_type": "markdown",
   "id": "neural-stuart",
   "metadata": {},
   "source": [
    "```python\n",
    "#### Testclass3\n",
    "## 시점1: 클래스 오브젝트 생성 \n",
    "class Testclass3: \n",
    "    def __init__(self):\n",
    "        self.x=0\n",
    "        Testclass3.y=0\n",
    "    def my_print(self):\n",
    "        self.x += 1 \n",
    "        Testclass3.y +=1 \n",
    "        print(\"현재 인스턴스에서 %s 회 출력\" % self.x)\n",
    "        print(\"전체 인스턴스에서 총 %s 회 출력\" % self.y)\n",
    "## 시점2: 인스턴스 오브젝트 a를 생성 \n",
    "a=Testclass3()\n",
    "## 시점3: a에서 메소드 실행 \n",
    "a.my_print()\n",
    "## 시점4: a에서 메소드를 한번 더 실행 \n",
    "a.my_print()\n",
    "## 시점5: 인스턴스 오브젝트 b를 생성\n",
    "b=Testclass3()\n",
    "## 시점6: b에서 메소드를 실행\n",
    "b.my_print()\n",
    "```"
   ]
  },
  {
   "cell_type": "markdown",
   "id": "available-elder",
   "metadata": {},
   "source": [
    "```\n",
    "현재 인스턴스에서 1 회 출력\n",
    "전체 인스턴스에서 총 1 회 출력\n",
    "현재 인스턴스에서 2 회 출력\n",
    "전체 인스턴스에서 총 2 회 출력\n",
    "현재 인스턴스에서 1 회 출력\n",
    "전체 인스턴스에서 총 1 회 출력\n",
    "```"
   ]
  },
  {
   "cell_type": "markdown",
   "id": "bottom-girlfriend",
   "metadata": {},
   "source": [
    "| |시점1 |시점2 |시점3 | 시점4 | 시점5| 시점6|\n",
    "|:-:|:-:|:-:|:-:|:-:|:-:|:-:|\n",
    "|Testclass3.x|값없음| 값없음| 값없음| 값없음| 값없음| 값없음|\n",
    "|Testclass3.y|값없음| 0| 1| 2| 0 | 1|\n",
    "|a.x| 값없음     | 0| 1| 2| 2| 2|\n",
    "|a.y| 값없음     | 0| 1| 2| 0| 1|\n",
    "|b.x| 값없음|     값없음| 값없음| 값없음| 0| 1|\n",
    "|b.y| 값없음|     값없음| 값없음| 값없음| 0| 1|"
   ]
  },
  {
   "cell_type": "markdown",
   "id": "effective-error",
   "metadata": {},
   "source": [
    "`–` Testclass3.y가 업데이트 되면 a.y, b.y도 자동으로 업데이트 된다. "
   ]
  },
  {
   "cell_type": "markdown",
   "id": "abandoned-priest",
   "metadata": {},
   "source": [
    "숙제: "
   ]
  },
  {
   "cell_type": "markdown",
   "id": "opponent-hours",
   "metadata": {},
   "source": [
    "```python\n",
    "#### Testclass3\n",
    "## 시점1: 클래스 오브젝트 생성 \n",
    "class Testclass3: \n",
    "        y=0\n",
    "    def __init__(self):\n",
    "        self.x=0\n",
    "    def my_print(self):\n",
    "        self.x += 1 \n",
    "        Testclass3.y +=1 \n",
    "        print(\"현재 인스턴스에서 %s 회 출력\" % self.x)\n",
    "        print(\"전체 인스턴스에서 총 %s 회 출력\" % self.y)\n",
    "## 시점2: 인스턴스 오브젝트 a를 생성 \n",
    "a=Testclass3()\n",
    "## 시점3: a에서 메소드 실행 \n",
    "a.my_print()\n",
    "## 시점4: a에서 메소드를 한번 더 실행 \n",
    "a.my_print()\n",
    "## 시점5: 인스턴스 오브젝트 b를 생성\n",
    "b=Testclass3()\n",
    "## 시점6: b에서 메소드를 실행\n",
    "b.my_print()\n",
    "```"
   ]
  },
  {
   "cell_type": "markdown",
   "id": "affected-toilet",
   "metadata": {},
   "source": [
    "| |시점1 |시점2 |시점3 | 시점4 | 시점5| 시점6|\n",
    "|:-:|:-:|:-:|:-:|:-:|:-:|:-:|\n",
    "|Testclass3.x| | | | | | |\n",
    "|Testclass3.y|| | | | | |\n",
    "|a.x| | | | | | |\n",
    "|a.y| | | | | | |\n",
    "|b.x| | | | | | |\n",
    "|b.y| | | | | | |"
   ]
  },
  {
   "cell_type": "code",
   "execution_count": 6,
   "id": "commercial-radius",
   "metadata": {},
   "outputs": [
    {
     "name": "stdout",
     "output_type": "stream",
     "text": [
      "현재 인스턴스에서 1 회 출력\n",
      "전체 인스턴스에서 총 1 회 출력\n",
      "현재 인스턴스에서 2 회 출력\n",
      "전체 인스턴스에서 총 2 회 출력\n",
      "현재 인스턴스에서 1 회 출력\n",
      "전체 인스턴스에서 총 3 회 출력\n"
     ]
    }
   ],
   "source": [
    "class Testclass3:\n",
    "        y=0\n",
    "        def __init__(self):\n",
    "            self.x=0\n",
    "        def my_print(self):\n",
    "            self.x += 1 \n",
    "            Testclass3.y +=1 \n",
    "            print(\"현재 인스턴스에서 %s 회 출력\" % self.x)\n",
    "            print(\"전체 인스턴스에서 총 %s 회 출력\" % self.y)\n",
    "## 시점2: 인스턴스 오브젝트 a를 생성 \n",
    "a=Testclass3()\n",
    "## 시점3: a에서 메소드 실행 \n",
    "a.my_print()\n",
    "## 시점4: a에서 메소드를 한번 더 실행 \n",
    "a.my_print()\n",
    "## 시점5: 인스턴스 오브젝트 b를 생성\n",
    "b=Testclass3()\n",
    "## 시점6: b에서 메소드를 실행\n",
    "b.my_print()"
   ]
  },
  {
   "cell_type": "markdown",
   "id": "nearby-control",
   "metadata": {},
   "source": [
    "## 네임스페이스"
   ]
  },
  {
   "cell_type": "markdown",
   "id": "compound-coach",
   "metadata": {},
   "source": [
    "### 예제1"
   ]
  },
  {
   "cell_type": "markdown",
   "id": "postal-overhead",
   "metadata": {},
   "source": [
    "`-` 아래의 코드를 관찰하라. "
   ]
  },
  {
   "cell_type": "code",
   "execution_count": 1,
   "id": "close-woman",
   "metadata": {},
   "outputs": [],
   "source": [
    "class Testclass1: \n",
    "    x=0"
   ]
  },
  {
   "cell_type": "code",
   "execution_count": 2,
   "id": "incident-tours",
   "metadata": {},
   "outputs": [
    {
     "data": {
      "text/plain": [
       "0"
      ]
     },
     "execution_count": 2,
     "metadata": {},
     "output_type": "execute_result"
    }
   ],
   "source": [
    "Testclass1.x"
   ]
  },
  {
   "cell_type": "code",
   "execution_count": 3,
   "id": "meaning-maintenance",
   "metadata": {},
   "outputs": [],
   "source": [
    "a=Testclass1()"
   ]
  },
  {
   "cell_type": "code",
   "execution_count": 4,
   "id": "applicable-distance",
   "metadata": {},
   "outputs": [
    {
     "data": {
      "text/plain": [
       "0"
      ]
     },
     "execution_count": 4,
     "metadata": {},
     "output_type": "execute_result"
    }
   ],
   "source": [
    "a.x"
   ]
  },
  {
   "cell_type": "markdown",
   "id": "functional-arlington",
   "metadata": {},
   "source": [
    "`–` Testclass1.x를 수정하면 a.x가 강제로 수정된다. "
   ]
  },
  {
   "cell_type": "code",
   "execution_count": 5,
   "id": "elect-improvement",
   "metadata": {},
   "outputs": [],
   "source": [
    "Testclass1.x=100"
   ]
  },
  {
   "cell_type": "code",
   "execution_count": 6,
   "id": "intensive-socket",
   "metadata": {},
   "outputs": [
    {
     "data": {
      "text/plain": [
       "100"
      ]
     },
     "execution_count": 6,
     "metadata": {},
     "output_type": "execute_result"
    }
   ],
   "source": [
    "a.x"
   ]
  },
  {
   "cell_type": "markdown",
   "id": "powered-attitude",
   "metadata": {},
   "source": [
    "`-` a.x를 수정한다고 하여 Testclass1.x가 강제로 수정되는 것은 아님"
   ]
  },
  {
   "cell_type": "code",
   "execution_count": 7,
   "id": "answering-bernard",
   "metadata": {},
   "outputs": [],
   "source": [
    "a.x=200"
   ]
  },
  {
   "cell_type": "code",
   "execution_count": 8,
   "id": "premier-heart",
   "metadata": {},
   "outputs": [
    {
     "data": {
      "text/plain": [
       "100"
      ]
     },
     "execution_count": 8,
     "metadata": {},
     "output_type": "execute_result"
    }
   ],
   "source": [
    "Testclass1.x"
   ]
  },
  {
   "cell_type": "code",
   "execution_count": 9,
   "id": "color-double",
   "metadata": {},
   "outputs": [
    {
     "data": {
      "text/plain": [
       "200"
      ]
     },
     "execution_count": 9,
     "metadata": {},
     "output_type": "execute_result"
    }
   ],
   "source": [
    "a.x"
   ]
  },
  {
   "cell_type": "markdown",
   "id": "subjective-treasury",
   "metadata": {},
   "source": [
    "`-` 이건 왜이러지?"
   ]
  },
  {
   "cell_type": "code",
   "execution_count": 10,
   "id": "affecting-facility",
   "metadata": {},
   "outputs": [],
   "source": [
    "Testclass1.x=300"
   ]
  },
  {
   "cell_type": "code",
   "execution_count": 11,
   "id": "valued-start",
   "metadata": {
    "tags": []
   },
   "outputs": [
    {
     "data": {
      "text/plain": [
       "200"
      ]
     },
     "execution_count": 11,
     "metadata": {},
     "output_type": "execute_result"
    }
   ],
   "source": [
    "a.x"
   ]
  },
  {
   "cell_type": "markdown",
   "id": "dense-original",
   "metadata": {},
   "source": [
    "`-` 아래의 상황과 비슷하다. "
   ]
  },
  {
   "cell_type": "code",
   "execution_count": 32,
   "id": "dense-repair",
   "metadata": {},
   "outputs": [
    {
     "name": "stdout",
     "output_type": "stream",
     "text": [
      "39 40\n"
     ]
    }
   ],
   "source": [
    "## [code1]\n",
    "x=39\n",
    "def nextyear():\n",
    "    y=x+1\n",
    "    print(x,y)\n",
    "nextyear()"
   ]
  },
  {
   "cell_type": "code",
   "execution_count": 29,
   "id": "indirect-richards",
   "metadata": {},
   "outputs": [
    {
     "ename": "UnboundLocalError",
     "evalue": "local variable 'x' referenced before assignment",
     "output_type": "error",
     "traceback": [
      "\u001b[0;31m---------------------------------------------------------------------------\u001b[0m",
      "\u001b[0;31mUnboundLocalError\u001b[0m                         Traceback (most recent call last)",
      "\u001b[0;32m<ipython-input-29-9c5d2bc270db>\u001b[0m in \u001b[0;36m<module>\u001b[0;34m\u001b[0m\n\u001b[1;32m      5\u001b[0m     \u001b[0mprint\u001b[0m\u001b[0;34m(\u001b[0m\u001b[0mx\u001b[0m\u001b[0;34m,\u001b[0m\u001b[0my\u001b[0m\u001b[0;34m)\u001b[0m\u001b[0;34m\u001b[0m\u001b[0;34m\u001b[0m\u001b[0m\n\u001b[1;32m      6\u001b[0m     \u001b[0mx\u001b[0m\u001b[0;34m=\u001b[0m\u001b[0;36m0\u001b[0m\u001b[0;34m\u001b[0m\u001b[0;34m\u001b[0m\u001b[0m\n\u001b[0;32m----> 7\u001b[0;31m \u001b[0mnextyear\u001b[0m\u001b[0;34m(\u001b[0m\u001b[0;34m)\u001b[0m\u001b[0;34m\u001b[0m\u001b[0;34m\u001b[0m\u001b[0m\n\u001b[0m",
      "\u001b[0;32m<ipython-input-29-9c5d2bc270db>\u001b[0m in \u001b[0;36mnextyear\u001b[0;34m()\u001b[0m\n\u001b[1;32m      2\u001b[0m \u001b[0mx\u001b[0m\u001b[0;34m=\u001b[0m\u001b[0;36m39\u001b[0m\u001b[0;34m\u001b[0m\u001b[0;34m\u001b[0m\u001b[0m\n\u001b[1;32m      3\u001b[0m \u001b[0;32mdef\u001b[0m \u001b[0mnextyear\u001b[0m\u001b[0;34m(\u001b[0m\u001b[0;34m)\u001b[0m\u001b[0;34m:\u001b[0m\u001b[0;34m\u001b[0m\u001b[0;34m\u001b[0m\u001b[0m\n\u001b[0;32m----> 4\u001b[0;31m     \u001b[0my\u001b[0m\u001b[0;34m=\u001b[0m\u001b[0mx\u001b[0m\u001b[0;34m+\u001b[0m\u001b[0;36m1\u001b[0m\u001b[0;34m\u001b[0m\u001b[0;34m\u001b[0m\u001b[0m\n\u001b[0m\u001b[1;32m      5\u001b[0m     \u001b[0mprint\u001b[0m\u001b[0;34m(\u001b[0m\u001b[0mx\u001b[0m\u001b[0;34m,\u001b[0m\u001b[0my\u001b[0m\u001b[0;34m)\u001b[0m\u001b[0;34m\u001b[0m\u001b[0;34m\u001b[0m\u001b[0m\n\u001b[1;32m      6\u001b[0m     \u001b[0mx\u001b[0m\u001b[0;34m=\u001b[0m\u001b[0;36m0\u001b[0m\u001b[0;34m\u001b[0m\u001b[0;34m\u001b[0m\u001b[0m\n",
      "\u001b[0;31mUnboundLocalError\u001b[0m: local variable 'x' referenced before assignment"
     ]
    }
   ],
   "source": [
    "## [code2]\n",
    "x=39\n",
    "def nextyear():\n",
    "    y=x+1\n",
    "    print(x,y)\n",
    "    x=0\n",
    "nextyear()"
   ]
  },
  {
   "cell_type": "markdown",
   "id": "external-player",
   "metadata": {},
   "source": [
    "`–` [code1]은 잘 실행되던 코드다."
   ]
  },
  {
   "cell_type": "markdown",
   "id": "competitive-newspaper",
   "metadata": {},
   "source": [
    "`-` [code2]는 실행안되는 코드다."
   ]
  },
  {
   "cell_type": "markdown",
   "id": "activated-lesson",
   "metadata": {},
   "source": [
    "`-` [code2]와 [code1]의 차이점은 x=0이라는 코드가 추가로 포함되었는지 유무다. "
   ]
  },
  {
   "cell_type": "markdown",
   "id": "satisfied-prescription",
   "metadata": {},
   "source": [
    "`–` (헛소리) x=0 이 잘못된 코드다!! 이걸 실행하는 과정에서 문제가 생겼다!! "
   ]
  },
  {
   "cell_type": "markdown",
   "id": "competitive-appliance",
   "metadata": {},
   "source": [
    "`-` (올바른소리) code1에서는 x는 global variable, code2에서는 x가 local variable 이라서 생기는 문제점이다. "
   ]
  },
  {
   "cell_type": "code",
   "execution_count": 37,
   "id": "infinite-barrel",
   "metadata": {},
   "outputs": [
    {
     "name": "stdout",
     "output_type": "stream",
     "text": [
      "0 1\n"
     ]
    }
   ],
   "source": [
    "## [code2]\n",
    "x=39\n",
    "def nextyear():\n",
    "    x=0\n",
    "    y=x+1\n",
    "    print(x,y)\n",
    "nextyear()"
   ]
  },
  {
   "cell_type": "code",
   "execution_count": 38,
   "id": "bright-organization",
   "metadata": {},
   "outputs": [
    {
     "data": {
      "text/plain": [
       "39"
      ]
     },
     "execution_count": 38,
     "metadata": {},
     "output_type": "execute_result"
    }
   ],
   "source": [
    "x"
   ]
  },
  {
   "cell_type": "markdown",
   "id": "finite-bidder",
   "metadata": {},
   "source": [
    "`–` 다시 우리의 예제로 돌아오자.\n",
    "```python\n",
    "### 시점1\n",
    "class Testclass1: \n",
    "    x=0\n",
    "### 시점2\n",
    "a=Testclass1()\n",
    "### 시점3\n",
    "Testclass1.x=100\n",
    "### 시점4\n",
    "a.x=200\n",
    "### 시점5\n",
    "Testclass1.x=300\n",
    "```"
   ]
  },
  {
   "cell_type": "markdown",
   "id": "interesting-beast",
   "metadata": {},
   "source": [
    "| |시점1 |시점2 |시점3 | 시점4 | 시점5|\n",
    "|:-:|:-:|:-:|:-:|:-:|:-:|\n",
    "|Testclass1.x|0| 0| 100| 100| 300|\n",
    "|a.x| 값없음     | 0| 100| 200| 200|\n",
    "|a.x의 속성| -     | class| class| instance | instance|"
   ]
  },
  {
   "cell_type": "markdown",
   "id": "literary-integer",
   "metadata": {},
   "source": [
    "`–` a.x가 클래스로부터 물려받은 속성인지 (그래서 클래스와 연결되어있는지) 아니면 instance가 독자적으로 가지고 있는 속성인지 어떻게 알 수 있을까? "
   ]
  },
  {
   "cell_type": "code",
   "execution_count": 11,
   "id": "beginning-housing",
   "metadata": {},
   "outputs": [
    {
     "name": "stdout",
     "output_type": "stream",
     "text": [
      "시점1 0\n",
      "시점2 0 0 {}\n",
      "시점3 100 100 {}\n",
      "시점4 100 200 {'x': 200}\n",
      "시점5 300 200 {'x': 200}\n"
     ]
    }
   ],
   "source": [
    "### 시점1\n",
    "class Testclass1: \n",
    "    x=0\n",
    "print('시점1',Testclass1.x)\n",
    "### 시점2\n",
    "a=Testclass1()\n",
    "print('시점2',Testclass1.x,a.x,a.__dict__)\n",
    "### 시점3\n",
    "Testclass1.x=100\n",
    "print('시점3',Testclass1.x,a.x,a.__dict__)\n",
    "### 시점4\n",
    "a.x=200\n",
    "print('시점4',Testclass1.x,a.x,a.__dict__)\n",
    "### 시점5\n",
    "Testclass1.x=300\n",
    "print('시점5',Testclass1.x,a.x,a.__dict__)"
   ]
  },
  {
   "cell_type": "markdown",
   "id": "referenced-holmes",
   "metadata": {},
   "source": [
    "### 예제2"
   ]
  },
  {
   "cell_type": "code",
   "execution_count": 53,
   "id": "liberal-grass",
   "metadata": {},
   "outputs": [],
   "source": [
    "x=11 ## 전역변수 ... A\n",
    "\n",
    "def f():\n",
    "    x=22 ## 함수 f안에 설정된 지역변수 \n",
    "    print(x) ## 전역에 x=11 있지만 함수안에 x=22가 있으므로 x=22를 사용. --> 22출력됨 \n",
    "\n",
    "def g():\n",
    "    print(x) ## 함수 g안에 x를 찾아봤는데 없음 --> 전역에서 x를 찾음 --> x=11 --> 11출력함. \n",
    "\n",
    "class Testclass2: \n",
    "    x=33 ## 클래스 변수 ... B\n",
    "    def m1(self):\n",
    "        x=44 ## 메소드 변수 ... C\n",
    "    def m2(self):\n",
    "        self.x=44 ## 인스턴스 변수 ... D "
   ]
  },
  {
   "cell_type": "markdown",
   "id": "technical-regular",
   "metadata": {},
   "source": [
    "`-` 결과를 관찰하고 해석해보자. "
   ]
  },
  {
   "cell_type": "code",
   "execution_count": 54,
   "id": "comic-zimbabwe",
   "metadata": {},
   "outputs": [
    {
     "name": "stdout",
     "output_type": "stream",
     "text": [
      "11\n"
     ]
    }
   ],
   "source": [
    "print(x)"
   ]
  },
  {
   "cell_type": "markdown",
   "id": "mexican-prospect",
   "metadata": {},
   "source": [
    "> Note: 전역변수 출력"
   ]
  },
  {
   "cell_type": "code",
   "execution_count": 55,
   "id": "wound-offer",
   "metadata": {},
   "outputs": [
    {
     "name": "stdout",
     "output_type": "stream",
     "text": [
      "22\n"
     ]
    }
   ],
   "source": [
    "f()"
   ]
  },
  {
   "cell_type": "markdown",
   "id": "proved-aircraft",
   "metadata": {},
   "source": [
    "> Note: f에서 설정된 지역변수 22가 출력됨"
   ]
  },
  {
   "cell_type": "code",
   "execution_count": 56,
   "id": "necessary-terrace",
   "metadata": {},
   "outputs": [
    {
     "data": {
      "text/plain": [
       "11"
      ]
     },
     "execution_count": 56,
     "metadata": {},
     "output_type": "execute_result"
    }
   ],
   "source": [
    "x"
   ]
  },
  {
   "cell_type": "markdown",
   "id": "original-patrol",
   "metadata": {},
   "source": [
    "> Note: f내의 지역변수를 사용하여도 전역변수는 변하지 않음. (함수내부에서 선언된 x=22는 함수외부에 영향을 주지못함)"
   ]
  },
  {
   "cell_type": "code",
   "execution_count": 57,
   "id": "orange-seafood",
   "metadata": {},
   "outputs": [
    {
     "name": "stdout",
     "output_type": "stream",
     "text": [
      "11\n"
     ]
    }
   ],
   "source": [
    "g()"
   ]
  },
  {
   "cell_type": "markdown",
   "id": "addressed-journal",
   "metadata": {},
   "source": [
    "> Note: g에서 설정된 지역변수가 따로 없으므로 전역변수 출력"
   ]
  },
  {
   "cell_type": "code",
   "execution_count": 58,
   "id": "powered-equality",
   "metadata": {},
   "outputs": [
    {
     "data": {
      "text/plain": [
       "(11, 33)"
      ]
     },
     "execution_count": 58,
     "metadata": {},
     "output_type": "execute_result"
    }
   ],
   "source": [
    "x,Testclass2.x"
   ]
  },
  {
   "cell_type": "markdown",
   "id": "combined-fellow",
   "metadata": {},
   "source": [
    "> Note: 전역변수 x와 클래스오브젝트에 설정된 변수 x "
   ]
  },
  {
   "cell_type": "code",
   "execution_count": 59,
   "id": "third-lying",
   "metadata": {},
   "outputs": [
    {
     "data": {
      "text/plain": [
       "((11, 33, 33), {})"
      ]
     },
     "execution_count": 59,
     "metadata": {},
     "output_type": "execute_result"
    }
   ],
   "source": [
    "a=Testclass2()\n",
    "(x,Testclass2.x,a.x),a.__dict__"
   ]
  },
  {
   "cell_type": "markdown",
   "id": "willing-clause",
   "metadata": {},
   "source": [
    "> Note: 전역변수, 클래스 오브젝트내의 변수, 인스턴스내의 변수. `a.__dict__`의 결과로 보아 인스턴스내의 변수는 클래스 오브젝트내의 변수를 빌려쓰고 있다. "
   ]
  },
  {
   "cell_type": "code",
   "execution_count": 60,
   "id": "killing-allowance",
   "metadata": {},
   "outputs": [
    {
     "data": {
      "text/plain": [
       "((11, 200, 200), {})"
      ]
     },
     "execution_count": 60,
     "metadata": {},
     "output_type": "execute_result"
    }
   ],
   "source": [
    "Testclass2.x=200\n",
    "(x,Testclass2.x,a.x),a.__dict__"
   ]
  },
  {
   "cell_type": "markdown",
   "id": "living-architect",
   "metadata": {},
   "source": [
    "> Note: 클래스오브젝트에서 변수를 고치면 인스턴스에 영향을 미침"
   ]
  },
  {
   "cell_type": "code",
   "execution_count": 61,
   "id": "accomplished-detroit",
   "metadata": {},
   "outputs": [
    {
     "data": {
      "text/plain": [
       "((11, 200, 200), {})"
      ]
     },
     "execution_count": 61,
     "metadata": {},
     "output_type": "execute_result"
    }
   ],
   "source": [
    "a.m1()\n",
    "(x,Testclass2.x,a.x),a.__dict__"
   ]
  },
  {
   "cell_type": "markdown",
   "id": "blessed-strip",
   "metadata": {},
   "source": [
    "> Note: 메소드 `m1`내에서 선언된 x=44라는 선언은 아무것도 변화시킬수 없음. "
   ]
  },
  {
   "cell_type": "code",
   "execution_count": 62,
   "id": "incomplete-packing",
   "metadata": {},
   "outputs": [
    {
     "data": {
      "text/plain": [
       "((11, 200, 44), {'x': 44})"
      ]
     },
     "execution_count": 62,
     "metadata": {},
     "output_type": "execute_result"
    }
   ],
   "source": [
    "a.m2()\n",
    "(x,Testclass2.x,a.x),a.__dict__"
   ]
  },
  {
   "cell_type": "markdown",
   "id": "skilled-science",
   "metadata": {},
   "source": [
    "> Note: 메소드 `m2`에 있는 self.x는 결국 a.x라는 의미이고, 이 선언은 클래스오브젝트 내의 변수와 독립적으로 인스턴스오브젝트 내에서 통용되는 변수를 선언하는 것임. 이 선언의 결과는 `a.__dict__`의 출력결과에서도 확인가능."
   ]
  },
  {
   "cell_type": "code",
   "execution_count": 63,
   "id": "classified-grain",
   "metadata": {},
   "outputs": [
    {
     "data": {
      "text/plain": [
       "((11, 300, 44), {'x': 44})"
      ]
     },
     "execution_count": 63,
     "metadata": {},
     "output_type": "execute_result"
    }
   ],
   "source": [
    "Testclass2.x=300\n",
    "(x,Testclass2.x,a.x),a.__dict__"
   ]
  },
  {
   "cell_type": "markdown",
   "id": "particular-token",
   "metadata": {},
   "source": [
    "> Note: 이제는 a.x와 Testclass2.x 는 분리된 상태이므로, Testclass2.x의 값을 바꾸어도 a.x에는 값의 변화가 없음. "
   ]
  },
  {
   "cell_type": "markdown",
   "id": "speaking-customs",
   "metadata": {},
   "source": [
    "`-` 뭐 어쩌라는 것임?"
   ]
  },
  {
   "cell_type": "markdown",
   "id": "proof-depth",
   "metadata": {},
   "source": [
    "`-` 그냥 그렇다는것.. 내용을 모르고 사용한다면 예상하지 못한 오류가 발생할 수 있으므로 조심해서 사용하자. "
   ]
  },
  {
   "cell_type": "markdown",
   "id": "favorite-disorder",
   "metadata": {},
   "source": [
    "숙제: 전역변수(A), 클래스 변수(B), 메소드 변수(C), 인스턴스 변수(D)\n",
    "    \n",
    "답: A>B>C>D"
   ]
  },
  {
   "cell_type": "markdown",
   "id": "amino-sector",
   "metadata": {},
   "source": [
    "## 연산자 오버로딩 "
   ]
  },
  {
   "cell_type": "markdown",
   "id": "excess-suspect",
   "metadata": {},
   "source": [
    "`-` 아래의 코드를 관찰하자. "
   ]
  },
  {
   "cell_type": "code",
   "execution_count": 2,
   "id": "abroad-pasta",
   "metadata": {},
   "outputs": [
    {
     "data": {
      "text/plain": [
       "2"
      ]
     },
     "execution_count": 2,
     "metadata": {},
     "output_type": "execute_result"
    }
   ],
   "source": [
    "1+1"
   ]
  },
  {
   "cell_type": "markdown",
   "id": "welcome-donna",
   "metadata": {},
   "source": [
    "`-` 생각해보니까 `1`은 int class 에서 생성된 인스턴스이다. \n",
    "\n",
    "`-` 코드를 관찰하니 instance와 instance를 `+`라는 연산이 연결하는 형태임. "
   ]
  },
  {
   "cell_type": "code",
   "execution_count": 23,
   "id": "mediterranean-dealer",
   "metadata": {},
   "outputs": [],
   "source": [
    "class Student: \n",
    "    def __init__(self,age=20.0,semester=1):\n",
    "        self.age=age\n",
    "        self.semester=semester\n",
    "    def __add__(self,val):\n",
    "        # val==0: 휴학 \n",
    "        # val==1: 등록\n",
    "        if val==0: \n",
    "            self.age=self.age +0.5 \n",
    "        elif val==1: \n",
    "            self.age=self.age+0.5\n",
    "            self.semester=self.semester+1\n",
    "        return self\n",
    "    def __repr__(self):\n",
    "        return '나이: %s \\n학기: %s' % (self.age,self.semester)"
   ]
  },
  {
   "cell_type": "code",
   "execution_count": 24,
   "id": "polyphonic-petite",
   "metadata": {},
   "outputs": [],
   "source": [
    "guebin=Student()"
   ]
  },
  {
   "cell_type": "code",
   "execution_count": 25,
   "id": "tested-archives",
   "metadata": {},
   "outputs": [
    {
     "data": {
      "text/plain": [
       "20.0"
      ]
     },
     "execution_count": 25,
     "metadata": {},
     "output_type": "execute_result"
    }
   ],
   "source": [
    "guebin.age"
   ]
  },
  {
   "cell_type": "code",
   "execution_count": 26,
   "id": "plain-million",
   "metadata": {},
   "outputs": [
    {
     "data": {
      "text/plain": [
       "1"
      ]
     },
     "execution_count": 26,
     "metadata": {},
     "output_type": "execute_result"
    }
   ],
   "source": [
    "guebin.semester"
   ]
  },
  {
   "cell_type": "code",
   "execution_count": 27,
   "id": "related-devices",
   "metadata": {},
   "outputs": [
    {
     "data": {
      "text/plain": [
       "나이: 20.0 \n",
       "학기: 1"
      ]
     },
     "execution_count": 27,
     "metadata": {},
     "output_type": "execute_result"
    }
   ],
   "source": [
    "guebin"
   ]
  },
  {
   "cell_type": "code",
   "execution_count": 28,
   "id": "verified-graduation",
   "metadata": {},
   "outputs": [
    {
     "data": {
      "text/plain": [
       "나이: 20.5 \n",
       "학기: 2"
      ]
     },
     "execution_count": 28,
     "metadata": {},
     "output_type": "execute_result"
    }
   ],
   "source": [
    "guebin+1"
   ]
  },
  {
   "cell_type": "code",
   "execution_count": 29,
   "id": "stretch-executive",
   "metadata": {},
   "outputs": [
    {
     "data": {
      "text/plain": [
       "나이: 21.0 \n",
       "학기: 2"
      ]
     },
     "execution_count": 29,
     "metadata": {},
     "output_type": "execute_result"
    }
   ],
   "source": [
    "guebin+0"
   ]
  },
  {
   "cell_type": "code",
   "execution_count": 30,
   "id": "continued-balloon",
   "metadata": {},
   "outputs": [
    {
     "data": {
      "text/plain": [
       "나이: 24.5 \n",
       "학기: 4"
      ]
     },
     "execution_count": 30,
     "metadata": {},
     "output_type": "execute_result"
    }
   ],
   "source": [
    "guebin+0+0+0+0+1+0+1"
   ]
  },
  {
   "cell_type": "markdown",
   "id": "increasing-shift",
   "metadata": {},
   "source": [
    "`-` 연산자 오버로드 핵심아이디어 \n",
    "- 클래스가 일반 파이썬 연산을 재정의하는 것  # 연산자는 일종의 메소드라 생각하면 된다. \n",
    "- 여기에서 연산은 단순히 더하기 빼기를 의미하는게 아니라, `print()`, `+`, `[0]` 와 같은 파이썬 내장문법을 모두 포괄하는 개념이라 이해하는 것이 옳다. "
   ]
  },
  {
   "cell_type": "code",
   "execution_count": 31,
   "id": "equipped-interim",
   "metadata": {},
   "outputs": [
    {
     "ename": "TypeError",
     "evalue": "'Student' object is not subscriptable",
     "output_type": "error",
     "traceback": [
      "\u001b[1;31m---------------------------------------------------------------------------\u001b[0m",
      "\u001b[1;31mTypeError\u001b[0m                                 Traceback (most recent call last)",
      "\u001b[1;32m<ipython-input-31-961de20e3474>\u001b[0m in \u001b[0;36m<module>\u001b[1;34m\u001b[0m\n\u001b[1;32m----> 1\u001b[1;33m \u001b[0mguebin\u001b[0m\u001b[1;33m[\u001b[0m\u001b[1;36m0\u001b[0m\u001b[1;33m]\u001b[0m\u001b[1;33m\u001b[0m\u001b[1;33m\u001b[0m\u001b[0m\n\u001b[0m",
      "\u001b[1;31mTypeError\u001b[0m: 'Student' object is not subscriptable"
     ]
    }
   ],
   "source": [
    "guebin[0]"
   ]
  },
  {
   "cell_type": "code",
   "execution_count": 33,
   "id": "several-activation",
   "metadata": {},
   "outputs": [],
   "source": [
    "class Student2(Student):\n",
    "    def __getitem__(self,index):\n",
    "        return [self.age,self.semester][index]"
   ]
  },
  {
   "cell_type": "code",
   "execution_count": 34,
   "id": "functioning-contractor",
   "metadata": {},
   "outputs": [],
   "source": [
    "hynn=Student2()"
   ]
  },
  {
   "cell_type": "code",
   "execution_count": 35,
   "id": "limited-company",
   "metadata": {},
   "outputs": [
    {
     "data": {
      "text/plain": [
       "나이: 22.0 \n",
       "학기: 3"
      ]
     },
     "execution_count": 35,
     "metadata": {},
     "output_type": "execute_result"
    }
   ],
   "source": [
    "hynn+1+1+0+0"
   ]
  },
  {
   "cell_type": "code",
   "execution_count": 36,
   "id": "right-voluntary",
   "metadata": {},
   "outputs": [
    {
     "data": {
      "text/plain": [
       "22.0"
      ]
     },
     "execution_count": 36,
     "metadata": {},
     "output_type": "execute_result"
    }
   ],
   "source": [
    "hynn[0]"
   ]
  },
  {
   "cell_type": "code",
   "execution_count": 37,
   "id": "latin-honduras",
   "metadata": {},
   "outputs": [
    {
     "data": {
      "text/plain": [
       "3"
      ]
     },
     "execution_count": 37,
     "metadata": {},
     "output_type": "execute_result"
    }
   ],
   "source": [
    "hynn[1]"
   ]
  },
  {
   "cell_type": "code",
   "execution_count": 38,
   "id": "australian-crack",
   "metadata": {},
   "outputs": [
    {
     "data": {
      "text/plain": [
       "[22.0, 3]"
      ]
     },
     "execution_count": 38,
     "metadata": {},
     "output_type": "execute_result"
    }
   ],
   "source": [
    "hynn[:]"
   ]
  },
  {
   "cell_type": "markdown",
   "id": "attractive-uganda",
   "metadata": {},
   "source": [
    "`-` 연산자 오버로딩을 이해하면 파이썬 전반에 대한 이해폭이 넓어진다. "
   ]
  },
  {
   "cell_type": "code",
   "execution_count": 39,
   "id": "direct-cedar",
   "metadata": {},
   "outputs": [],
   "source": [
    "import pandas as pd "
   ]
  },
  {
   "cell_type": "code",
   "execution_count": 40,
   "id": "assumed-tournament",
   "metadata": {},
   "outputs": [],
   "source": [
    "df=pd.DataFrame({'age':[20,21.5],'semester':[1,2]})"
   ]
  },
  {
   "cell_type": "code",
   "execution_count": 41,
   "id": "blank-respondent",
   "metadata": {},
   "outputs": [
    {
     "data": {
      "text/plain": [
       "0    20.0\n",
       "1    21.5\n",
       "Name: age, dtype: float64"
      ]
     },
     "execution_count": 41,
     "metadata": {},
     "output_type": "execute_result"
    }
   ],
   "source": [
    "df.iloc[:,0]"
   ]
  },
  {
   "cell_type": "markdown",
   "id": "extensive-productivity",
   "metadata": {},
   "source": [
    "## 도움말 작성방법 "
   ]
  },
  {
   "cell_type": "markdown",
   "id": "communist-level",
   "metadata": {},
   "source": [
    "`-` 넘파이의 경우 아래와 같이 도움말이 잘 작성되어 있다. "
   ]
  },
  {
   "cell_type": "code",
   "execution_count": 42,
   "id": "outstanding-receiver",
   "metadata": {},
   "outputs": [
    {
     "data": {
      "text/plain": [
       "\u001b[1;31mType:\u001b[0m            ndarray\n",
       "\u001b[1;31mString form:\u001b[0m     [1 2 3]\n",
       "\u001b[1;31mLength:\u001b[0m          3\n",
       "\u001b[1;31mFile:\u001b[0m            c:\\users\\oldcar\\anaconda3\\envs\\py38r40\\lib\\site-packages\\numpy\\__init__.py\n",
       "\u001b[1;31mDocstring:\u001b[0m       <no docstring>\n",
       "\u001b[1;31mClass docstring:\u001b[0m\n",
       "ndarray(shape, dtype=float, buffer=None, offset=0,\n",
       "        strides=None, order=None)\n",
       "\n",
       "An array object represents a multidimensional, homogeneous array\n",
       "of fixed-size items.  An associated data-type object describes the\n",
       "format of each element in the array (its byte-order, how many bytes it\n",
       "occupies in memory, whether it is an integer, a floating point number,\n",
       "or something else, etc.)\n",
       "\n",
       "Arrays should be constructed using `array`, `zeros` or `empty` (refer\n",
       "to the See Also section below).  The parameters given here refer to\n",
       "a low-level method (`ndarray(...)`) for instantiating an array.\n",
       "\n",
       "For more information, refer to the `numpy` module and examine the\n",
       "methods and attributes of an array.\n",
       "\n",
       "Parameters\n",
       "----------\n",
       "(for the __new__ method; see Notes below)\n",
       "\n",
       "shape : tuple of ints\n",
       "    Shape of created array.\n",
       "dtype : data-type, optional\n",
       "    Any object that can be interpreted as a numpy data type.\n",
       "buffer : object exposing buffer interface, optional\n",
       "    Used to fill the array with data.\n",
       "offset : int, optional\n",
       "    Offset of array data in buffer.\n",
       "strides : tuple of ints, optional\n",
       "    Strides of data in memory.\n",
       "order : {'C', 'F'}, optional\n",
       "    Row-major (C-style) or column-major (Fortran-style) order.\n",
       "\n",
       "Attributes\n",
       "----------\n",
       "T : ndarray\n",
       "    Transpose of the array.\n",
       "data : buffer\n",
       "    The array's elements, in memory.\n",
       "dtype : dtype object\n",
       "    Describes the format of the elements in the array.\n",
       "flags : dict\n",
       "    Dictionary containing information related to memory use, e.g.,\n",
       "    'C_CONTIGUOUS', 'OWNDATA', 'WRITEABLE', etc.\n",
       "flat : numpy.flatiter object\n",
       "    Flattened version of the array as an iterator.  The iterator\n",
       "    allows assignments, e.g., ``x.flat = 3`` (See `ndarray.flat` for\n",
       "    assignment examples; TODO).\n",
       "imag : ndarray\n",
       "    Imaginary part of the array.\n",
       "real : ndarray\n",
       "    Real part of the array.\n",
       "size : int\n",
       "    Number of elements in the array.\n",
       "itemsize : int\n",
       "    The memory use of each array element in bytes.\n",
       "nbytes : int\n",
       "    The total number of bytes required to store the array data,\n",
       "    i.e., ``itemsize * size``.\n",
       "ndim : int\n",
       "    The array's number of dimensions.\n",
       "shape : tuple of ints\n",
       "    Shape of the array.\n",
       "strides : tuple of ints\n",
       "    The step-size required to move from one element to the next in\n",
       "    memory. For example, a contiguous ``(3, 4)`` array of type\n",
       "    ``int16`` in C-order has strides ``(8, 2)``.  This implies that\n",
       "    to move from element to element in memory requires jumps of 2 bytes.\n",
       "    To move from row-to-row, one needs to jump 8 bytes at a time\n",
       "    (``2 * 4``).\n",
       "ctypes : ctypes object\n",
       "    Class containing properties of the array needed for interaction\n",
       "    with ctypes.\n",
       "base : ndarray\n",
       "    If the array is a view into another array, that array is its `base`\n",
       "    (unless that array is also a view).  The `base` array is where the\n",
       "    array data is actually stored.\n",
       "\n",
       "See Also\n",
       "--------\n",
       "array : Construct an array.\n",
       "zeros : Create an array, each element of which is zero.\n",
       "empty : Create an array, but leave its allocated memory unchanged (i.e.,\n",
       "        it contains \"garbage\").\n",
       "dtype : Create a data-type.\n",
       "\n",
       "Notes\n",
       "-----\n",
       "There are two modes of creating an array using ``__new__``:\n",
       "\n",
       "1. If `buffer` is None, then only `shape`, `dtype`, and `order`\n",
       "   are used.\n",
       "2. If `buffer` is an object exposing the buffer interface, then\n",
       "   all keywords are interpreted.\n",
       "\n",
       "No ``__init__`` method is needed because the array is fully initialized\n",
       "after the ``__new__`` method.\n",
       "\n",
       "Examples\n",
       "--------\n",
       "These examples illustrate the low-level `ndarray` constructor.  Refer\n",
       "to the `See Also` section above for easier ways of constructing an\n",
       "ndarray.\n",
       "\n",
       "First mode, `buffer` is None:\n",
       "\n",
       ">>> np.ndarray(shape=(2,2), dtype=float, order='F')\n",
       "array([[0.0e+000, 0.0e+000], # random\n",
       "       [     nan, 2.5e-323]])\n",
       "\n",
       "Second mode:\n",
       "\n",
       ">>> np.ndarray((2,), buffer=np.array([1,2,3]),\n",
       "...            offset=np.int_().itemsize,\n",
       "...            dtype=int) # offset = 1*itemsize, i.e. skip first element\n",
       "array([2, 3])\n"
      ]
     },
     "metadata": {},
     "output_type": "display_data"
    }
   ],
   "source": [
    "import numpy as np\n",
    "a=np.array([1,2,3])\n",
    "a?"
   ]
  },
  {
   "cell_type": "markdown",
   "id": "coral-silicon",
   "metadata": {},
   "source": [
    "`-` 하지만 우리는? "
   ]
  },
  {
   "cell_type": "code",
   "execution_count": 43,
   "id": "extreme-smell",
   "metadata": {},
   "outputs": [
    {
     "data": {
      "text/plain": [
       "\u001b[1;31mType:\u001b[0m        Student2\n",
       "\u001b[1;31mString form:\u001b[0m\n",
       "나이: 22.0 \n",
       "학기: 3\n",
       "\u001b[1;31mDocstring:\u001b[0m   <no docstring>\n"
      ]
     },
     "metadata": {},
     "output_type": "display_data"
    }
   ],
   "source": [
    "hynn?"
   ]
  },
  {
   "cell_type": "markdown",
   "id": "miniature-miniature",
   "metadata": {},
   "source": [
    "`-` 우리도 도움말을 작성하고 싶다. "
   ]
  },
  {
   "cell_type": "code",
   "execution_count": 44,
   "id": "available-namibia",
   "metadata": {},
   "outputs": [],
   "source": [
    "class Student2(Student):\n",
    "    '''\n",
    "    Student2는 Student의 개선 \n",
    "    \n",
    "    # Student 클래스의 기능 \n",
    "    1. 출력기능 (__repr__)\n",
    "    2. 연산기능 (__add__): 학기와 나이를 카운트 \n",
    "    Examples\n",
    "    --------\n",
    "    >>> hynn=Student2()\n",
    "    >>> hynn+1\n",
    "    나이: 20.5 \n",
    "    학기: 2\n",
    "    \n",
    "    # Student2에서 추가된 기능 \n",
    "    1. 인덱싱\n",
    "    '''\n",
    "    def __getitem__(self,index):\n",
    "        return [self.age,self.semester][index]"
   ]
  },
  {
   "cell_type": "code",
   "execution_count": 45,
   "id": "rotary-yahoo",
   "metadata": {},
   "outputs": [],
   "source": [
    "hynn=Student2()"
   ]
  },
  {
   "cell_type": "code",
   "execution_count": 46,
   "id": "public-advantage",
   "metadata": {},
   "outputs": [
    {
     "data": {
      "text/plain": [
       "\u001b[1;31mType:\u001b[0m        Student2\n",
       "\u001b[1;31mString form:\u001b[0m\n",
       "나이: 20.0 \n",
       "학기: 1\n",
       "\u001b[1;31mDocstring:\u001b[0m  \n",
       "Student2는 Student의 개선 \n",
       "\n",
       "# Student 클래스의 기능 \n",
       "1. 출력기능 (__repr__)\n",
       "2. 연산기능 (__add__): 학기와 나이를 카운트 \n",
       "Examples\n",
       "--------\n",
       ">>> hynn=Student2()\n",
       ">>> hynn+1\n",
       "나이: 20.5 \n",
       "학기: 2\n",
       "\n",
       "# Student2에서 추가된 기능 \n",
       "1. 인덱싱\n"
      ]
     },
     "metadata": {},
     "output_type": "display_data"
    }
   ],
   "source": [
    "hynn?"
   ]
  },
  {
   "cell_type": "code",
   "execution_count": 206,
   "id": "civic-peninsula",
   "metadata": {},
   "outputs": [],
   "source": [
    "hynn=Student2(21,1)"
   ]
  },
  {
   "cell_type": "code",
   "execution_count": 207,
   "id": "handled-conclusion",
   "metadata": {},
   "outputs": [
    {
     "data": {
      "text/plain": [
       "나이: 21 \n",
       "학기: 1"
      ]
     },
     "execution_count": 207,
     "metadata": {},
     "output_type": "execute_result"
    }
   ],
   "source": [
    "hynn"
   ]
  },
  {
   "cell_type": "code",
   "execution_count": 208,
   "id": "equipped-literacy",
   "metadata": {},
   "outputs": [
    {
     "data": {
      "text/plain": [
       "\u001b[0;31mType:\u001b[0m        Student2\n",
       "\u001b[0;31mString form:\u001b[0m\n",
       "나이: 21 \n",
       "학기: 1\n",
       "\u001b[0;31mDocstring:\u001b[0m  \n",
       "Student2는 Student의 개선 \n",
       "\n",
       "# Student 클래스의 기능 \n",
       "1. 출력기능 (__repr__)\n",
       "2. 연산기능 (__add__): 학기와 나이를 카운트 \n",
       "Examples\n",
       "--------\n",
       ">>> hynn=Student2()\n",
       ">>> hynn+1\n",
       "나이: 20.5 \n",
       "학기: 2\n",
       "\n",
       "# Student2에서 추가된 기능 \n",
       "1. 인덱싱\n"
      ]
     },
     "metadata": {},
     "output_type": "display_data"
    }
   ],
   "source": [
    "hynn?"
   ]
  },
  {
   "cell_type": "markdown",
   "id": "threatened-optimization",
   "metadata": {},
   "source": [
    "## self에 대한 진실"
   ]
  },
  {
   "cell_type": "markdown",
   "id": "decreased-pollution",
   "metadata": {},
   "source": [
    "`–` 사실 이름이 self가 아니어도 된다. "
   ]
  },
  {
   "cell_type": "code",
   "execution_count": 58,
   "id": "accomplished-routine",
   "metadata": {},
   "outputs": [],
   "source": [
    "class MooYaHo: \n",
    "    def __init__(a):\n",
    "        a.text='mooyaho'"
   ]
  },
  {
   "cell_type": "code",
   "execution_count": 62,
   "id": "seeing-dialogue",
   "metadata": {},
   "outputs": [],
   "source": [
    "class MooYaHo: \n",
    "    '''\n",
    "    201616659 김차헌\n",
    "    '''\n",
    "    def __init__(a):\n",
    "        a.text='mooyaho'"
   ]
  },
  {
   "cell_type": "code",
   "execution_count": 63,
   "id": "young-chemical",
   "metadata": {},
   "outputs": [],
   "source": [
    "moo1=MooYaHo()"
   ]
  },
  {
   "cell_type": "code",
   "execution_count": 64,
   "id": "administrative-bolivia",
   "metadata": {},
   "outputs": [
    {
     "data": {
      "text/plain": [
       "\u001b[1;31mType:\u001b[0m        MooYaHo\n",
       "\u001b[1;31mString form:\u001b[0m <__main__.MooYaHo object at 0x0000023B9AE6D940>\n",
       "\u001b[1;31mDocstring:\u001b[0m   201616659 김차헌\n"
      ]
     },
     "metadata": {},
     "output_type": "display_data"
    }
   ],
   "source": [
    "moo1?"
   ]
  },
  {
   "cell_type": "code",
   "execution_count": 214,
   "id": "understood-period",
   "metadata": {},
   "outputs": [
    {
     "data": {
      "text/plain": [
       "'mooyaho'"
      ]
     },
     "execution_count": 214,
     "metadata": {},
     "output_type": "execute_result"
    }
   ],
   "source": [
    "moo1.text"
   ]
  },
  {
   "cell_type": "markdown",
   "id": "continuing-difficulty",
   "metadata": {},
   "source": [
    "`–` 그런데 self를 많이 쓴다. "
   ]
  },
  {
   "cell_type": "markdown",
   "id": "varied-louis",
   "metadata": {},
   "source": [
    "숙제: MooYaHo class의 도움말에 학번을 넣고 출력 "
   ]
  }
 ],
 "metadata": {
  "kernelspec": {
   "display_name": "Python 3",
   "language": "python",
   "name": "python3"
  },
  "language_info": {
   "codemirror_mode": {
    "name": "ipython",
    "version": 3
   },
   "file_extension": ".py",
   "mimetype": "text/x-python",
   "name": "python",
   "nbconvert_exporter": "python",
   "pygments_lexer": "ipython3",
   "version": "3.8.8"
  }
 },
 "nbformat": 4,
 "nbformat_minor": 5
}
