{
 "cells": [
  {
   "cell_type": "markdown",
   "id": "c217c234-90a9-465d-ae85-dd00751b174c",
   "metadata": {},
   "source": [
    "### if 문 "
   ]
  },
  {
   "cell_type": "markdown",
   "id": "c33385fb-4952-480e-a30d-15c7e4f52590",
   "metadata": {},
   "source": [
    "`-` 예제1"
   ]
  },
  {
   "cell_type": "code",
   "execution_count": 6,
   "id": "f2c48ce9-897f-409f-9684-a857013e2be6",
   "metadata": {},
   "outputs": [
    {
     "name": "stdout",
     "output_type": "stream",
     "text": [
      "a=11,12,13,....\n"
     ]
    }
   ],
   "source": [
    "a=11\n",
    "if a<5: \n",
    "    print('a=....1,2,3,4')\n",
    "elif a>10: \n",
    "    print('a=11,12,13,....')\n",
    "else: \n",
    "    print('a=5,6,7,...,10')"
   ]
  },
  {
   "cell_type": "markdown",
   "id": "5c290dc0-be11-45c4-b83e-bfbf601348d3",
   "metadata": {},
   "source": [
    "`-` 예제2"
   ]
  },
  {
   "cell_type": "code",
   "execution_count": 9,
   "id": "96fa805a-fce8-4ce6-ad4f-90bc53f44448",
   "metadata": {},
   "outputs": [
    {
     "name": "stdout",
     "output_type": "stream",
     "text": [
      "a<b\n"
     ]
    }
   ],
   "source": [
    "a,b=2,3 \n",
    "if a==b:\n",
    "    print('a=b')\n",
    "else: \n",
    "    if a<b: \n",
    "        print('a<b')\n",
    "    else:\n",
    "        print('a>b')"
   ]
  },
  {
   "cell_type": "markdown",
   "id": "1bd95044-61f1-4a3a-a3d6-8d5e8f94a56d",
   "metadata": {},
   "source": [
    "`-` 예제3"
   ]
  },
  {
   "cell_type": "code",
   "execution_count": 21,
   "id": "a35a037f-8a4e-4399-9c29-f2568fb150ae",
   "metadata": {},
   "outputs": [],
   "source": [
    "a=2\n",
    "if a==1: \n",
    "    print('a=1')"
   ]
  },
  {
   "cell_type": "markdown",
   "id": "2de140b5-2425-4760-bb76-0cf2f6dad807",
   "metadata": {},
   "source": [
    "### for 문 "
   ]
  },
  {
   "cell_type": "markdown",
   "id": "82aafe23-e83e-423c-97ae-1bed2855c7a5",
   "metadata": {},
   "source": [
    "`-` 예제1"
   ]
  },
  {
   "cell_type": "code",
   "execution_count": 22,
   "id": "e48650ec-d2cd-40c3-8452-75e93aa395f9",
   "metadata": {},
   "outputs": [
    {
     "name": "stdout",
     "output_type": "stream",
     "text": [
      "1\n",
      "2\n",
      "3\n",
      "4\n"
     ]
    }
   ],
   "source": [
    "for i in [1,2,3,4]:\n",
    "    print(i)"
   ]
  },
  {
   "cell_type": "markdown",
   "id": "626a4a90-2a6c-47a8-9fbf-54ea7b61b62f",
   "metadata": {},
   "source": [
    "`-` 예제2"
   ]
  },
  {
   "cell_type": "code",
   "execution_count": 23,
   "id": "c4a6c8e9-4ddb-4ce5-aec4-87985a1467a3",
   "metadata": {},
   "outputs": [
    {
     "name": "stdout",
     "output_type": "stream",
     "text": [
      "1\n",
      "2\n",
      "3\n",
      "4\n"
     ]
    }
   ],
   "source": [
    "for i in (1,2,3,4):\n",
    "    print(i)"
   ]
  },
  {
   "cell_type": "markdown",
   "id": "c2aa61ac-bc2d-4453-91ce-cd36454a908e",
   "metadata": {},
   "source": [
    "`-` 예제3"
   ]
  },
  {
   "cell_type": "code",
   "execution_count": 24,
   "id": "12a0524f-960a-4a3e-b649-799142db0a0a",
   "metadata": {},
   "outputs": [
    {
     "name": "stdout",
     "output_type": "stream",
     "text": [
      "1\n",
      "2\n",
      "3\n",
      "4\n"
     ]
    }
   ],
   "source": [
    "for i in '1234':\n",
    "    print(i)"
   ]
  },
  {
   "cell_type": "markdown",
   "id": "dc786439-3e3f-4dd0-8afd-d76cc8a7ac32",
   "metadata": {},
   "source": [
    "`-` 의문 \n",
    "```python\n",
    "for i in ???: \n",
    "    print(i)\n",
    "```\n",
    "에서 물음표 자리에 올 수 있는 것이 무엇일까? "
   ]
  },
  {
   "cell_type": "markdown",
   "id": "4088e152-6f45-45e5-8d3b-4a7b1691ffa5",
   "metadata": {},
   "source": [
    "`-` 예제4 "
   ]
  },
  {
   "cell_type": "code",
   "execution_count": 25,
   "id": "38fe1d15-c86f-4372-89e5-e8088d05c30e",
   "metadata": {},
   "outputs": [
    {
     "ename": "TypeError",
     "evalue": "'int' object is not iterable",
     "output_type": "error",
     "traceback": [
      "\u001b[0;31m---------------------------------------------------------------------------\u001b[0m",
      "\u001b[0;31mTypeError\u001b[0m                                 Traceback (most recent call last)",
      "\u001b[0;32m<ipython-input-25-0141710f97f4>\u001b[0m in \u001b[0;36m<module>\u001b[0;34m\u001b[0m\n\u001b[1;32m      1\u001b[0m \u001b[0ma\u001b[0m\u001b[0;34m=\u001b[0m\u001b[0;36m5\u001b[0m\u001b[0;34m\u001b[0m\u001b[0;34m\u001b[0m\u001b[0m\n\u001b[0;32m----> 2\u001b[0;31m \u001b[0;32mfor\u001b[0m \u001b[0mi\u001b[0m \u001b[0;32min\u001b[0m \u001b[0ma\u001b[0m\u001b[0;34m:\u001b[0m\u001b[0;34m\u001b[0m\u001b[0;34m\u001b[0m\u001b[0m\n\u001b[0m\u001b[1;32m      3\u001b[0m     \u001b[0mprint\u001b[0m\u001b[0;34m(\u001b[0m\u001b[0mi\u001b[0m\u001b[0;34m)\u001b[0m\u001b[0;34m\u001b[0m\u001b[0;34m\u001b[0m\u001b[0m\n",
      "\u001b[0;31mTypeError\u001b[0m: 'int' object is not iterable"
     ]
    }
   ],
   "source": [
    "a=5 \n",
    "for i in a:\n",
    "    print(i)"
   ]
  },
  {
   "cell_type": "markdown",
   "id": "8c319e4e-b1c9-4806-bc4a-b4f25c8577e1",
   "metadata": {},
   "source": [
    "`5`라고 출력될 줄 알았는데 아니었다. "
   ]
  },
  {
   "cell_type": "markdown",
   "id": "b374372d-a587-494d-9795-6a16f41ae630",
   "metadata": {},
   "source": [
    "무슨 차이인가? "
   ]
  },
  {
   "cell_type": "markdown",
   "id": "8f003980-4055-4da5-8bdf-5ada4de2bce9",
   "metadata": {},
   "source": [
    "아래를 살펴보자. "
   ]
  },
  {
   "cell_type": "markdown",
   "id": "fa868faf-8f3f-4b4e-8d7b-89f5a80b3d7c",
   "metadata": {},
   "source": [
    "`-` 예제5"
   ]
  },
  {
   "cell_type": "code",
   "execution_count": 26,
   "id": "9169dee3-12d0-47bd-85cd-68610bad3343",
   "metadata": {},
   "outputs": [],
   "source": [
    "L=[[1,2,3],[3,4,5]]"
   ]
  },
  {
   "cell_type": "code",
   "execution_count": 27,
   "id": "fde1852b-6105-49ab-bc0b-d1f7465709fe",
   "metadata": {},
   "outputs": [
    {
     "name": "stdout",
     "output_type": "stream",
     "text": [
      "[1, 2, 3]\n",
      "[3, 4, 5]\n"
     ]
    }
   ],
   "source": [
    "for i in L:\n",
    "    print(i)"
   ]
  },
  {
   "cell_type": "code",
   "execution_count": 30,
   "id": "593cc6af-356e-4b19-accc-cd460580c6c8",
   "metadata": {},
   "outputs": [],
   "source": [
    "import pandas as pd\n",
    "df=pd.DataFrame(L)"
   ]
  },
  {
   "cell_type": "code",
   "execution_count": 31,
   "id": "b679d38c-1c75-4b7c-9e6d-c5fec4ad603e",
   "metadata": {},
   "outputs": [
    {
     "name": "stdout",
     "output_type": "stream",
     "text": [
      "0\n",
      "1\n",
      "2\n"
     ]
    }
   ],
   "source": [
    "for i in df:\n",
    "    print(i)"
   ]
  },
  {
   "cell_type": "code",
   "execution_count": 32,
   "id": "00599b1f-c34c-4085-9434-1cc7d0908015",
   "metadata": {},
   "outputs": [],
   "source": [
    "import numpy as np \n",
    "ndr=np.array(L)"
   ]
  },
  {
   "cell_type": "code",
   "execution_count": 33,
   "id": "6d4ff0be-5f48-4769-b4b3-3f7ceba1d29e",
   "metadata": {},
   "outputs": [
    {
     "name": "stdout",
     "output_type": "stream",
     "text": [
      "[1 2 3]\n",
      "[3 4 5]\n"
     ]
    }
   ],
   "source": [
    "for i in ndr: \n",
    "    print(i)"
   ]
  },
  {
   "cell_type": "markdown",
   "id": "5a98126e-40b4-481d-90db-ba2b66f85b48",
   "metadata": {},
   "source": [
    "결과를 어떻게 예상할 수 있을까? "
   ]
  },
  {
   "cell_type": "markdown",
   "id": "562ed06e-4a1a-45a3-8fd1-89f1a062cd7d",
   "metadata": {},
   "source": [
    "### for문의 동작원리 "
   ]
  },
  {
   "cell_type": "markdown",
   "id": "1c42552f-6faf-4006-aab1-f60166b47329",
   "metadata": {},
   "source": [
    "??? 자리에 올 수 있는 것은 dir()하여 `__iter__()`라는 메서드가 있는 object이다. "
   ]
  },
  {
   "cell_type": "markdown",
   "id": "cf0dcc69-67ba-40d3-b25e-fbffe3e77ca9",
   "metadata": {},
   "source": [
    "이러한 오브젝트를 iterable한 오브젝트다. "
   ]
  },
  {
   "cell_type": "code",
   "execution_count": 34,
   "id": "dda858fa-decc-4ff2-a656-6cc37438fe66",
   "metadata": {},
   "outputs": [],
   "source": [
    "a=1"
   ]
  },
  {
   "cell_type": "code",
   "execution_count": 35,
   "id": "ef8e9285-90cd-46d5-a525-5266e73e4e3e",
   "metadata": {},
   "outputs": [
    {
     "data": {
      "text/plain": [
       "['__abs__',\n",
       " '__add__',\n",
       " '__and__',\n",
       " '__bool__',\n",
       " '__ceil__',\n",
       " '__class__',\n",
       " '__delattr__',\n",
       " '__dir__',\n",
       " '__divmod__',\n",
       " '__doc__',\n",
       " '__eq__',\n",
       " '__float__',\n",
       " '__floor__',\n",
       " '__floordiv__',\n",
       " '__format__',\n",
       " '__ge__',\n",
       " '__getattribute__',\n",
       " '__getnewargs__',\n",
       " '__gt__',\n",
       " '__hash__',\n",
       " '__index__',\n",
       " '__init__',\n",
       " '__init_subclass__',\n",
       " '__int__',\n",
       " '__invert__',\n",
       " '__le__',\n",
       " '__lshift__',\n",
       " '__lt__',\n",
       " '__mod__',\n",
       " '__mul__',\n",
       " '__ne__',\n",
       " '__neg__',\n",
       " '__new__',\n",
       " '__or__',\n",
       " '__pos__',\n",
       " '__pow__',\n",
       " '__radd__',\n",
       " '__rand__',\n",
       " '__rdivmod__',\n",
       " '__reduce__',\n",
       " '__reduce_ex__',\n",
       " '__repr__',\n",
       " '__rfloordiv__',\n",
       " '__rlshift__',\n",
       " '__rmod__',\n",
       " '__rmul__',\n",
       " '__ror__',\n",
       " '__round__',\n",
       " '__rpow__',\n",
       " '__rrshift__',\n",
       " '__rshift__',\n",
       " '__rsub__',\n",
       " '__rtruediv__',\n",
       " '__rxor__',\n",
       " '__setattr__',\n",
       " '__sizeof__',\n",
       " '__str__',\n",
       " '__sub__',\n",
       " '__subclasshook__',\n",
       " '__truediv__',\n",
       " '__trunc__',\n",
       " '__xor__',\n",
       " 'as_integer_ratio',\n",
       " 'bit_length',\n",
       " 'conjugate',\n",
       " 'denominator',\n",
       " 'from_bytes',\n",
       " 'imag',\n",
       " 'numerator',\n",
       " 'real',\n",
       " 'to_bytes']"
      ]
     },
     "execution_count": 35,
     "metadata": {},
     "output_type": "execute_result"
    }
   ],
   "source": [
    "dir(a)"
   ]
  },
  {
   "cell_type": "markdown",
   "id": "4894933c-4ec1-49ea-a93d-8f867dbf9ad6",
   "metadata": {},
   "source": [
    "예상대로 int클래스의 인스턴스는 `__iter__()`가 없다. "
   ]
  },
  {
   "cell_type": "markdown",
   "id": "6ee2e79d-4d23-491a-84be-c6642f7356cb",
   "metadata": {},
   "source": [
    "`-` 위에서 정의한 L, df, ndr 는 모두 `__iter__()` 함수가 있다. 따라서 iterable한 오브젝트이다. "
   ]
  },
  {
   "cell_type": "markdown",
   "id": "2af25d68-a170-4049-b0bc-d8f9a630850e",
   "metadata": {},
   "source": [
    "iterable한 오브젝트는 iterator로 만들 수 있는 특징이 있다. "
   ]
  },
  {
   "cell_type": "markdown",
   "id": "ef32c621-4b34-45ee-981c-078efdd8914e",
   "metadata": {},
   "source": [
    "iterable한 오브젝트를 어떻게 iterator로 만드는가? "
   ]
  },
  {
   "cell_type": "code",
   "execution_count": 50,
   "id": "e9586898-bfa6-452a-9491-57ff2ee04c80",
   "metadata": {},
   "outputs": [],
   "source": [
    "### 방법1\n",
    "dfiter1=df.__iter__()"
   ]
  },
  {
   "cell_type": "code",
   "execution_count": 53,
   "id": "39405572-d4e0-48e5-aba1-4452ebd680dc",
   "metadata": {},
   "outputs": [],
   "source": [
    "### 방법2\n",
    "dfiter2=iter(df)"
   ]
  },
  {
   "cell_type": "code",
   "execution_count": 55,
   "id": "504987fd-0e21-4d82-9db8-be6d9f5b1bd8",
   "metadata": {},
   "outputs": [
    {
     "data": {
      "text/plain": [
       "\u001b[0;31mType:\u001b[0m        generator\n",
       "\u001b[0;31mString form:\u001b[0m <generator object RangeIndex.__iter__ at 0x7f5a202c5890>\n",
       "\u001b[0;31mDocstring:\u001b[0m   <no docstring>\n"
      ]
     },
     "metadata": {},
     "output_type": "display_data"
    }
   ],
   "source": [
    "dfiter1?"
   ]
  },
  {
   "cell_type": "markdown",
   "id": "a11fcb07-6b09-45ea-a1bf-86a64d3df2d2",
   "metadata": {},
   "source": [
    "`-` dfiter1은 generator라는 클래스에서 만들어진 인스턴스 오브젝트이다. "
   ]
  },
  {
   "cell_type": "code",
   "execution_count": null,
   "id": "50d42673-1f1c-4fd9-a04a-1c7e46661c8e",
   "metadata": {},
   "outputs": [],
   "source": [
    "`-` dfiter1"
   ]
  },
  {
   "cell_type": "code",
   "execution_count": 44,
   "id": "d7177ba4-4f35-4229-bc30-b7198ded5729",
   "metadata": {},
   "outputs": [
    {
     "data": {
      "text/plain": [
       "['__class__',\n",
       " '__del__',\n",
       " '__delattr__',\n",
       " '__dir__',\n",
       " '__doc__',\n",
       " '__eq__',\n",
       " '__format__',\n",
       " '__ge__',\n",
       " '__getattribute__',\n",
       " '__gt__',\n",
       " '__hash__',\n",
       " '__init__',\n",
       " '__init_subclass__',\n",
       " '__iter__',\n",
       " '__le__',\n",
       " '__lt__',\n",
       " '__name__',\n",
       " '__ne__',\n",
       " '__new__',\n",
       " '__next__',\n",
       " '__qualname__',\n",
       " '__reduce__',\n",
       " '__reduce_ex__',\n",
       " '__repr__',\n",
       " '__setattr__',\n",
       " '__sizeof__',\n",
       " '__str__',\n",
       " '__subclasshook__',\n",
       " 'close',\n",
       " 'gi_code',\n",
       " 'gi_frame',\n",
       " 'gi_running',\n",
       " 'gi_yieldfrom',\n",
       " 'send',\n",
       " 'throw']"
      ]
     },
     "execution_count": 44,
     "metadata": {},
     "output_type": "execute_result"
    }
   ],
   "source": [
    "dir(dfiter1)"
   ]
  },
  {
   "cell_type": "code",
   "execution_count": 59,
   "id": "53400e52-3c92-4476-a67e-710062674f9c",
   "metadata": {},
   "outputs": [
    {
     "ename": "StopIteration",
     "evalue": "",
     "output_type": "error",
     "traceback": [
      "\u001b[0;31m---------------------------------------------------------------------------\u001b[0m",
      "\u001b[0;31mStopIteration\u001b[0m                             Traceback (most recent call last)",
      "\u001b[0;32m<ipython-input-59-970089dedea5>\u001b[0m in \u001b[0;36m<module>\u001b[0;34m\u001b[0m\n\u001b[0;32m----> 1\u001b[0;31m \u001b[0mdfiter1\u001b[0m\u001b[0;34m.\u001b[0m\u001b[0m__next__\u001b[0m\u001b[0;34m(\u001b[0m\u001b[0;34m)\u001b[0m\u001b[0;34m\u001b[0m\u001b[0;34m\u001b[0m\u001b[0m\n\u001b[0m",
      "\u001b[0;31mStopIteration\u001b[0m: "
     ]
    }
   ],
   "source": [
    "dfiter1.__next__()"
   ]
  },
  {
   "cell_type": "markdown",
   "id": "1dae7f34-4d26-457a-9bd1-13c85d2ad129",
   "metadata": {},
   "source": [
    "`–` for 문의 작동원리 \n",
    "\n",
    "```python\n",
    "for i in L:\n",
    "    print(i)\n",
    "```\n",
    "\n",
    "(1) iter함수를 사용해서 L을 iterator로 만든다. \n",
    "\n",
    "(2) iterator에서 `.__next__()`함수를 호출하고 결과를 i에 저장한뒤에 for문 블락안에 있는 내용(들여쓰기 된 내용)을 실행한다. \n",
    "\n",
    "(3) StopIteration 에러가 발생하면 for 문을 멈춘다. "
   ]
  },
  {
   "cell_type": "code",
   "execution_count": 62,
   "id": "c5dcfdf2-101d-4343-8ddd-b390baa524a0",
   "metadata": {},
   "outputs": [],
   "source": [
    "Liter=iter(L)"
   ]
  },
  {
   "cell_type": "code",
   "execution_count": 69,
   "id": "bea12350-9732-4745-b3aa-6b5568faf62f",
   "metadata": {},
   "outputs": [
    {
     "ename": "StopIteration",
     "evalue": "",
     "output_type": "error",
     "traceback": [
      "\u001b[0;31m---------------------------------------------------------------------------\u001b[0m",
      "\u001b[0;31mStopIteration\u001b[0m                             Traceback (most recent call last)",
      "\u001b[0;32m<ipython-input-69-6220b29182a4>\u001b[0m in \u001b[0;36m<module>\u001b[0;34m\u001b[0m\n\u001b[0;32m----> 1\u001b[0;31m \u001b[0mLiter\u001b[0m\u001b[0;34m.\u001b[0m\u001b[0m__next__\u001b[0m\u001b[0;34m(\u001b[0m\u001b[0;34m)\u001b[0m\u001b[0;34m\u001b[0m\u001b[0;34m\u001b[0m\u001b[0m\n\u001b[0m",
      "\u001b[0;31mStopIteration\u001b[0m: "
     ]
    }
   ],
   "source": [
    "Liter.__next__()"
   ]
  },
  {
   "cell_type": "code",
   "execution_count": 80,
   "id": "1fcab667-f7ee-4338-aac6-064592b639f7",
   "metadata": {},
   "outputs": [],
   "source": [
    "ndriter=iter(ndr)"
   ]
  },
  {
   "cell_type": "code",
   "execution_count": 82,
   "id": "746505aa-5358-47eb-b25c-280971ee6681",
   "metadata": {},
   "outputs": [
    {
     "name": "stdout",
     "output_type": "stream",
     "text": [
      "[3 4 5]\n"
     ]
    }
   ],
   "source": [
    "print(ndriter.__next__())"
   ]
  },
  {
   "cell_type": "markdown",
   "id": "2492eeda-6492-4d0b-b02a-5d62de47bb30",
   "metadata": {},
   "source": [
    "#### range()"
   ]
  },
  {
   "cell_type": "markdown",
   "id": "983a0aff-84e6-41ad-8ea9-07dd73d4684d",
   "metadata": {},
   "source": [
    "`-` for문의 정석은 아래와 같이 range()를 사용하는 것이다. "
   ]
  },
  {
   "cell_type": "code",
   "execution_count": 83,
   "id": "de3d5233-76dc-40b7-a8b3-b988d48c8f50",
   "metadata": {},
   "outputs": [
    {
     "name": "stdout",
     "output_type": "stream",
     "text": [
      "0\n",
      "1\n",
      "2\n",
      "3\n",
      "4\n"
     ]
    }
   ],
   "source": [
    "for i in range(5):\n",
    "    print(i)"
   ]
  },
  {
   "cell_type": "markdown",
   "id": "3e559a08-ed43-47cb-a4b4-9e90ba0ae6c4",
   "metadata": {},
   "source": [
    "`-` `range(5)`의 정체는 그냥 iterable object이다. "
   ]
  },
  {
   "cell_type": "code",
   "execution_count": 85,
   "id": "af68b71c-0890-4b64-a7ea-2d7c01bd039b",
   "metadata": {},
   "outputs": [],
   "source": [
    "a=range(5)"
   ]
  },
  {
   "cell_type": "markdown",
   "id": "4c75849f-4cc6-4d03-892e-a894d6dea200",
   "metadata": {},
   "source": [
    "`-` 그래서 언제든지 iterator로 바꿀 수 있다. "
   ]
  },
  {
   "cell_type": "code",
   "execution_count": 88,
   "id": "576c9764-b722-44af-9f05-541e26ba583d",
   "metadata": {},
   "outputs": [],
   "source": [
    "aiter=iter(a)"
   ]
  },
  {
   "cell_type": "code",
   "execution_count": 96,
   "id": "863cd076-9288-422c-8461-d283ef6a4f1a",
   "metadata": {},
   "outputs": [
    {
     "ename": "StopIteration",
     "evalue": "",
     "output_type": "error",
     "traceback": [
      "\u001b[0;31m---------------------------------------------------------------------------\u001b[0m",
      "\u001b[0;31mStopIteration\u001b[0m                             Traceback (most recent call last)",
      "\u001b[0;32m<ipython-input-96-b0a1ab28475b>\u001b[0m in \u001b[0;36m<module>\u001b[0;34m\u001b[0m\n\u001b[0;32m----> 1\u001b[0;31m \u001b[0maiter\u001b[0m\u001b[0;34m.\u001b[0m\u001b[0m__next__\u001b[0m\u001b[0;34m(\u001b[0m\u001b[0;34m)\u001b[0m\u001b[0;34m\u001b[0m\u001b[0;34m\u001b[0m\u001b[0m\n\u001b[0m",
      "\u001b[0;31mStopIteration\u001b[0m: "
     ]
    }
   ],
   "source": [
    "aiter.__next__()"
   ]
  },
  {
   "cell_type": "markdown",
   "id": "5bc50c18-76fa-44ae-9879-bdb3197bb9c3",
   "metadata": {},
   "source": [
    "#### 이터레이터의 개념은 디버깅에 응용가능 "
   ]
  },
  {
   "cell_type": "code",
   "execution_count": 97,
   "id": "e10fff00-e0df-46f2-8a51-290d6b611d3b",
   "metadata": {},
   "outputs": [
    {
     "name": "stdout",
     "output_type": "stream",
     "text": [
      "(1, 'a')\n",
      "(2, 'b')\n",
      "(3, 'c')\n"
     ]
    }
   ],
   "source": [
    "for i in zip([1,2,3],'abc'):\n",
    "    print(i)"
   ]
  },
  {
   "cell_type": "code",
   "execution_count": 98,
   "id": "5d4d9566-9d4c-4aad-8951-9b298834f765",
   "metadata": {},
   "outputs": [
    {
     "data": {
      "text/plain": [
       "<zip at 0x7f5a2027ab40>"
      ]
     },
     "execution_count": 98,
     "metadata": {},
     "output_type": "execute_result"
    }
   ],
   "source": [
    "zip([1,2,3],'abc')"
   ]
  },
  {
   "cell_type": "markdown",
   "id": "c66e357f-62b6-4e1b-b7db-5233c9c511b4",
   "metadata": {},
   "source": [
    "어차피 `for i in ????:` ????의 자리는 iterable object 자리이다. "
   ]
  },
  {
   "cell_type": "code",
   "execution_count": 99,
   "id": "971d4dbb-1197-44df-94b2-066e67ac4436",
   "metadata": {},
   "outputs": [],
   "source": [
    "z=zip([1,2,3],'abc')"
   ]
  },
  {
   "cell_type": "code",
   "execution_count": 100,
   "id": "f412bc55-fbc6-47e2-a50c-f63b283f1517",
   "metadata": {},
   "outputs": [
    {
     "data": {
      "text/plain": [
       "['__class__',\n",
       " '__delattr__',\n",
       " '__dir__',\n",
       " '__doc__',\n",
       " '__eq__',\n",
       " '__format__',\n",
       " '__ge__',\n",
       " '__getattribute__',\n",
       " '__gt__',\n",
       " '__hash__',\n",
       " '__init__',\n",
       " '__init_subclass__',\n",
       " '__iter__',\n",
       " '__le__',\n",
       " '__lt__',\n",
       " '__ne__',\n",
       " '__new__',\n",
       " '__next__',\n",
       " '__reduce__',\n",
       " '__reduce_ex__',\n",
       " '__repr__',\n",
       " '__setattr__',\n",
       " '__sizeof__',\n",
       " '__str__',\n",
       " '__subclasshook__']"
      ]
     },
     "execution_count": 100,
     "metadata": {},
     "output_type": "execute_result"
    }
   ],
   "source": [
    "dir(z)"
   ]
  },
  {
   "cell_type": "markdown",
   "id": "46b1e4c5-de26-4a74-9d1a-0b2152804912",
   "metadata": {},
   "source": [
    "`-` `__next__()`함수가 있음 $\\to$ z자체가 iterator였다. (iterable object 이면서)"
   ]
  },
  {
   "cell_type": "code",
   "execution_count": 108,
   "id": "8dbc2d39-a2ea-4e61-8d88-7ea163f7231f",
   "metadata": {},
   "outputs": [
    {
     "ename": "StopIteration",
     "evalue": "",
     "output_type": "error",
     "traceback": [
      "\u001b[0;31m---------------------------------------------------------------------------\u001b[0m",
      "\u001b[0;31mStopIteration\u001b[0m                             Traceback (most recent call last)",
      "\u001b[0;32m<ipython-input-108-4fa93f463859>\u001b[0m in \u001b[0;36m<module>\u001b[0;34m\u001b[0m\n\u001b[0;32m----> 1\u001b[0;31m \u001b[0mz\u001b[0m\u001b[0;34m.\u001b[0m\u001b[0m__next__\u001b[0m\u001b[0;34m(\u001b[0m\u001b[0;34m)\u001b[0m\u001b[0;34m\u001b[0m\u001b[0;34m\u001b[0m\u001b[0m\n\u001b[0m",
      "\u001b[0;31mStopIteration\u001b[0m: "
     ]
    }
   ],
   "source": [
    "z.__next__()"
   ]
  },
  {
   "cell_type": "markdown",
   "id": "7bbffe67-1e28-4ec4-9dcd-407ee31d8440",
   "metadata": {},
   "source": [
    "`-` ???? 자리에 iterator 자체가와도 무방할것 같다. "
   ]
  },
  {
   "cell_type": "markdown",
   "id": "9e177a9a-26d3-4679-9e03-921a0214cfbb",
   "metadata": {},
   "source": [
    "`-` 확인"
   ]
  },
  {
   "cell_type": "code",
   "execution_count": 107,
   "id": "727faf66-fdf7-4e48-a5b0-57e992f0a7b4",
   "metadata": {},
   "outputs": [
    {
     "name": "stdout",
     "output_type": "stream",
     "text": [
      "1\n",
      "2\n",
      "3\n",
      "4\n"
     ]
    }
   ],
   "source": [
    "L=iter([1,2,3,4])\n",
    "for i in L:\n",
    "    print(i)"
   ]
  },
  {
   "cell_type": "markdown",
   "id": "bafd1107-9138-410c-99fe-0f51461a0d78",
   "metadata": {},
   "source": [
    "역시 가능했다.. "
   ]
  }
 ],
 "metadata": {
  "kernelspec": {
   "display_name": "Python 3",
   "language": "python",
   "name": "python3"
  },
  "language_info": {
   "codemirror_mode": {
    "name": "ipython",
    "version": 3
   },
   "file_extension": ".py",
   "mimetype": "text/x-python",
   "name": "python",
   "nbconvert_exporter": "python",
   "pygments_lexer": "ipython3",
   "version": "3.8.8"
  }
 },
 "nbformat": 4,
 "nbformat_minor": 5
}
