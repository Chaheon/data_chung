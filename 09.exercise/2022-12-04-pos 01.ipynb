{
 "cells": [
  {
   "cell_type": "markdown",
   "id": "unable-disclaimer",
   "metadata": {},
   "source": [
    "## 0629 실습 문제 ## "
   ]
  },
  {
   "cell_type": "markdown",
   "id": "coastal-variance",
   "metadata": {},
   "source": [
    "`-` 올리는 예시 \n",
    "\n",
    "풀이1 김차헌 \n",
    "\n",
    "알고리즘 "
   ]
  },
  {
   "cell_type": "markdown",
   "id": "handed-divide",
   "metadata": {},
   "source": [
    "## 무인 POS기 개발"
   ]
  },
  {
   "cell_type": "code",
   "execution_count": null,
   "id": "systematic-tuner",
   "metadata": {},
   "outputs": [],
   "source": [
    "class non_people_pos() :\n",
    "    def __init__(self) : #기본 설정\n",
    "        self.manu_dic = {\"자장면\":5000, \"짬뽕\":6000, \"볶음밥\":6000, \"탕수육\":10000}\n",
    "        self.table_dic = {}\n",
    "        self.pas = '0000'\n",
    "        \n",
    "    def run(self) : # 실행\n",
    "        mode = input()\n",
    "        if mode == \"관리자 모드\" :\n",
    "            self.manu_dic = self.admin_mod(self.pas, self.manu_dic)\n",
    "            print(self.manu_dic)\n",
    "        elif mode == \"주문 모드\" :\n",
    "            self.table_dic = self.order_mod(self.manu_dic)\n",
    "        elif mode == '결제 모드' :\n",
    "            self.pay_mod(self.total_dic, self.table_dic)\n",
    "    \n",
    "    def admin_mod(self, pas, dic) : # 관리자 모드\n",
    "        passwd = input(\"비밀번호를 입력하세요 : \")\n",
    "        if passwd == pas :\n",
    "            mod = input('삭제 모드와 추가 모드를 입력하세요. : ')\n",
    "            if mod == '삭제' :\n",
    "                manu = input('삭제 메뉴를 작성해주세요. : ')\n",
    "                del dic[manu]\n",
    "            else :\n",
    "                manu, fee = input(\"메뉴과 가격을 입력해주세요. : \").split(' ')\n",
    "                dic[manu] = fee\n",
    "            return dic\n",
    "        else :\n",
    "            print(\"비밀번호가 틀렸습니다.\")\n",
    "            return\n",
    "    \n",
    "    def order_mod(self, dic) : # 주문 모드\n",
    "        order_dic = {}\n",
    "        table_dic = {}\n",
    "        total = 0\n",
    "\n",
    "        for i in dic.keys() :\n",
    "            order_dic[i] = 0\n",
    "\n",
    "        table_num = int(input('테이블 번호를 입력하세요. : '))\n",
    "\n",
    "        while(1) :\n",
    "            try : #메뉴과 수량 입력\n",
    "                print('메뉴', list(dic.keys()))\n",
    "                manu, num = input('메뉴와 수량 또는 결제를 작성해 주세요.').split(' ')            \n",
    "                order_dic[manu] = num\n",
    "            except : #그렇지 않으면 종료(오류 처리로)\n",
    "                for i in order_dic.keys() :\n",
    "                    if int(order_dic[i]) > 0 :\n",
    "                        total += int(order_dic[i]) * int(dic[i])\n",
    "\n",
    "                table_dic[table_num] = total\n",
    "\n",
    "                with open('order.txt', 'a') as f :\n",
    "                    f.write(str(table_num)+'\\n')\n",
    "\n",
    "                    for i in order_dic :\n",
    "                        f.write(i+' '+str(order_dic[i])+'\\n') \n",
    "                    f.write('금액 : '+ str(total) +'\\n')\n",
    "\n",
    "                return table_dic\n",
    "            \n",
    "    def pay_mod(self, manu_dic, table_dic) : # 결제 모드\n",
    "        with open('order.txt', 'r') as f :\n",
    "            lines = f.readlines()\n",
    "        num = int(input('테이블 번호를 입력해주세요. : '))\n",
    "        total = lines[lines.index(str(num)+'\\n')+len(manu_dic.keys())+1].split(' ')[-1]\n",
    "        lines = lines[:lines.index(str(num)+'\\n')] + lines[lines.index(str(num)+'\\n')+len(manu_dic.keys())+2:]\n",
    "        with open('order.txt', 'w') as f :\n",
    "            for i in lines :\n",
    "                f.write(i)\n",
    "        cash = 0\n",
    "        pay_way = input('현금 또는 카드를 입력하세요. : ')\n",
    "        if pay_way == '현금' :\n",
    "            cash = int(input('지불 금액을 입력하세요. : '))\n",
    "            print('차액은 ', cash - int(total))\n",
    "        else :\n",
    "            print('결제가 완료 됬습니다.')"
   ]
  },
  {
   "cell_type": "code",
   "execution_count": null,
   "id": "welsh-financing",
   "metadata": {},
   "outputs": [],
   "source": [
    "pos = non_people_pos()\n",
    "pos.run()"
   ]
  }
 ],
 "metadata": {
  "kernelspec": {
   "display_name": "Python 3",
   "language": "python",
   "name": "python3"
  },
  "language_info": {
   "codemirror_mode": {
    "name": "ipython",
    "version": 3
   },
   "file_extension": ".py",
   "mimetype": "text/x-python",
   "name": "python",
   "nbconvert_exporter": "python",
   "pygments_lexer": "ipython3",
   "version": "3.8.8"
  }
 },
 "nbformat": 4,
 "nbformat_minor": 5
}
