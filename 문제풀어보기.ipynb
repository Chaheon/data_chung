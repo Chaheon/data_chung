{
 "cells": [
  {
   "cell_type": "code",
   "execution_count": 1,
   "id": "funded-saturday",
   "metadata": {},
   "outputs": [],
   "source": [
    "def order():\n",
    "    a = int(input('책상번호를 입력하세요 : '))\n",
    "    b = int(input('짜장면 개수를 입력하세요 : '))\n",
    "    c = int(input('짬뽕 개수를 입력하세요 : '))\n",
    "    d = int(input('탕수육 개수를 입력하세요 : '))\n",
    "    total = 5000*b + 6000*c + 10000*d\n",
    "    print(f'{a}번 테이블이 자장면 {b}개, 짬뽕 {b}개, 탕수육{d}개를 주문하여 총 {total}원 입니다. ')\n",
    "    return a, b, c, d, total"
   ]
  },
  {
   "cell_type": "code",
   "execution_count": 2,
   "id": "convinced-target",
   "metadata": {},
   "outputs": [
    {
     "name": "stdout",
     "output_type": "stream",
     "text": [
      "책상번호를 입력하세요 : 4\n",
      "짜장면 개수를 입력하세요 : 1\n",
      "짬뽕 개수를 입력하세요 : 1\n",
      "탕수육 개수를 입력하세요 : 1\n",
      "4번 테이블이 자장면 1개, 짬뽕 1개, 탕수육1개를 주문하여 총 21000원 입니다. \n"
     ]
    },
    {
     "data": {
      "text/plain": [
       "(4, 1, 1, 1, 21000)"
      ]
     },
     "execution_count": 2,
     "metadata": {},
     "output_type": "execute_result"
    }
   ],
   "source": [
    "order()"
   ]
  },
  {
   "cell_type": "code",
   "execution_count": null,
   "id": "robust-respondent",
   "metadata": {
    "tags": []
   },
   "outputs": [],
   "source": [
    "cash = int(input('지불할 금액을 입력하세요.'))\n",
    "way = input('지불수단을 입력하세요 : ')\n",
    "if way == '카드':\n",
    "    print('계산이 완료되었습니다.')\n",
    "else:\n",
    "    print(f'거스름돈은 {cash - total}원 입니다.')"
   ]
  }
 ],
 "metadata": {
  "kernelspec": {
   "display_name": "Python 3",
   "language": "python",
   "name": "python3"
  },
  "language_info": {
   "codemirror_mode": {
    "name": "ipython",
    "version": 3
   },
   "file_extension": ".py",
   "mimetype": "text/x-python",
   "name": "python",
   "nbconvert_exporter": "python",
   "pygments_lexer": "ipython3",
   "version": "3.8.8"
  }
 },
 "nbformat": 4,
 "nbformat_minor": 5
}
