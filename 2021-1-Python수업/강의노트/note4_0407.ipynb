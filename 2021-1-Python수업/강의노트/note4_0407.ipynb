{
 "cells": [
  {
   "cell_type": "markdown",
   "id": "aggressive-parent",
   "metadata": {},
   "source": [
    "# 4. pandas"
   ]
  },
  {
   "cell_type": "markdown",
   "id": "through-depth",
   "metadata": {},
   "source": [
    "### (1) `dict`의 복습"
   ]
  },
  {
   "cell_type": "markdown",
   "id": "plain-circuit",
   "metadata": {},
   "source": [
    "`dict`를 선언하는 방법: "
   ]
  },
  {
   "cell_type": "code",
   "execution_count": 1,
   "id": "retained-vacuum",
   "metadata": {},
   "outputs": [
    {
     "data": {
      "text/plain": [
       "{'a': [1, 2, 3], 'b': [2, 3, 4], 'c': [3, 4, 5]}"
      ]
     },
     "execution_count": 1,
     "metadata": {},
     "output_type": "execute_result"
    }
   ],
   "source": [
    "dict({'a':[1,2,3],\n",
    "      'b':[2,3,4],\n",
    "      'c':[3,4,5]})"
   ]
  },
  {
   "cell_type": "markdown",
   "id": "monthly-option",
   "metadata": {},
   "source": [
    "`dict`는 왜 `key:value`의 집합으로 선언해야 하는가? "
   ]
  },
  {
   "cell_type": "markdown",
   "id": "after-poison",
   "metadata": {},
   "source": [
    "`교과서`: key로 접근하면 일일이 위치를 기억하지 않아도 원하는 정보를 얻을 수 있다. "
   ]
  },
  {
   "cell_type": "markdown",
   "id": "natural-building",
   "metadata": {},
   "source": [
    "(예제)"
   ]
  },
  {
   "cell_type": "code",
   "execution_count": 2,
   "id": "floral-remainder",
   "metadata": {},
   "outputs": [],
   "source": [
    "d={'새로이':[30,600,4.0],\n",
    "   \"이서\":[20,950,4.2],\n",
    "   \"일권\":[28,950,2.3],\n",
    "   \"현이\":[28,650,3.8]}"
   ]
  },
  {
   "cell_type": "code",
   "execution_count": 3,
   "id": "funky-desperate",
   "metadata": {},
   "outputs": [
    {
     "data": {
      "text/plain": [
       "[20, 950, 4.2]"
      ]
     },
     "execution_count": 3,
     "metadata": {},
     "output_type": "execute_result"
    }
   ],
   "source": [
    "d['이서']"
   ]
  },
  {
   "cell_type": "markdown",
   "id": "serious-assets",
   "metadata": {},
   "source": [
    "\"이서\"로 검색을 하면 나이, 토익, 학점이 나온다. "
   ]
  },
  {
   "cell_type": "markdown",
   "id": "friendly-cheat",
   "metadata": {},
   "source": [
    "편하다."
   ]
  },
  {
   "cell_type": "markdown",
   "id": "cellular-agency",
   "metadata": {},
   "source": [
    "### (2) 논쟁1"
   ]
  },
  {
   "cell_type": "markdown",
   "id": "moved-baptist",
   "metadata": {},
   "source": [
    "편한가..?"
   ]
  },
  {
   "cell_type": "markdown",
   "id": "harmful-movie",
   "metadata": {},
   "source": [
    "`까칠이`: list로 해도 충분히 가능하지 않나? "
   ]
  },
  {
   "cell_type": "code",
   "execution_count": 4,
   "id": "wired-scout",
   "metadata": {},
   "outputs": [],
   "source": [
    "l=[['새로이',30,600,4.0],\n",
    "   [\"이서\",20,950,4.2],\n",
    "   [\"일권\",28,950,2.3],\n",
    "   [\"현이\",28,650,3.8]]"
   ]
  },
  {
   "cell_type": "code",
   "execution_count": 5,
   "id": "animal-distinction",
   "metadata": {},
   "outputs": [
    {
     "data": {
      "text/plain": [
       "['이서', 20, 950, 4.2]"
      ]
     },
     "execution_count": 5,
     "metadata": {},
     "output_type": "execute_result"
    }
   ],
   "source": [
    "l[1]"
   ]
  },
  {
   "cell_type": "markdown",
   "id": "czech-overview",
   "metadata": {},
   "source": [
    "`교과서`: `list`는 \"이서\"의 위치를 알고 있어야 한다. `dict`는 \"이서\"의 위치를 몰라도, \"이서\"라는 키워드만 알면 정보를 얻을 수 있다. "
   ]
  },
  {
   "cell_type": "markdown",
   "id": "alleged-railway",
   "metadata": {},
   "source": [
    "`까칠이(넘파이,불인덱싱마스터)`: 아래처럼 하면 되는것 아닌가? "
   ]
  },
  {
   "cell_type": "code",
   "execution_count": 6,
   "id": "together-cancer",
   "metadata": {},
   "outputs": [],
   "source": [
    "import numpy as np"
   ]
  },
  {
   "cell_type": "code",
   "execution_count": 7,
   "id": "opened-aurora",
   "metadata": {},
   "outputs": [],
   "source": [
    "l1=np.array(l)"
   ]
  },
  {
   "cell_type": "code",
   "execution_count": 8,
   "id": "measured-baptist",
   "metadata": {},
   "outputs": [
    {
     "data": {
      "text/plain": [
       "array([['새로이', '30', '600', '4.0'],\n",
       "       ['이서', '20', '950', '4.2'],\n",
       "       ['일권', '28', '950', '2.3'],\n",
       "       ['현이', '28', '650', '3.8']], dtype='<U32')"
      ]
     },
     "execution_count": 8,
     "metadata": {},
     "output_type": "execute_result"
    }
   ],
   "source": [
    "l1"
   ]
  },
  {
   "cell_type": "code",
   "execution_count": 9,
   "id": "bibliographic-consultation",
   "metadata": {},
   "outputs": [
    {
     "data": {
      "text/plain": [
       "array([['새로이', '이서', '일권', '현이'],\n",
       "       ['30', '20', '28', '28'],\n",
       "       ['600', '950', '950', '650'],\n",
       "       ['4.0', '4.2', '2.3', '3.8']], dtype='<U32')"
      ]
     },
     "execution_count": 9,
     "metadata": {},
     "output_type": "execute_result"
    }
   ],
   "source": [
    "l1.T"
   ]
  },
  {
   "cell_type": "code",
   "execution_count": 10,
   "id": "automated-above",
   "metadata": {},
   "outputs": [
    {
     "data": {
      "text/plain": [
       "array(['새로이', '이서', '일권', '현이'], dtype='<U32')"
      ]
     },
     "execution_count": 10,
     "metadata": {},
     "output_type": "execute_result"
    }
   ],
   "source": [
    "l1.T[0]"
   ]
  },
  {
   "cell_type": "code",
   "execution_count": 11,
   "id": "confidential-request",
   "metadata": {},
   "outputs": [
    {
     "data": {
      "text/plain": [
       "array([False,  True, False, False])"
      ]
     },
     "execution_count": 11,
     "metadata": {},
     "output_type": "execute_result"
    }
   ],
   "source": [
    "l1.T[0]=='이서'"
   ]
  },
  {
   "cell_type": "code",
   "execution_count": 12,
   "id": "metric-barrier",
   "metadata": {},
   "outputs": [
    {
     "data": {
      "text/plain": [
       "array([['이서', '20', '950', '4.2']], dtype='<U32')"
      ]
     },
     "execution_count": 12,
     "metadata": {},
     "output_type": "execute_result"
    }
   ],
   "source": [
    "l1[l1.T[0]=='이서']"
   ]
  },
  {
   "cell_type": "markdown",
   "id": "healthy-practitioner",
   "metadata": {},
   "source": [
    "`교과서`: 복잡하다.. `dict`는 이름만 알면 쉽게 정보검색 가능."
   ]
  },
  {
   "cell_type": "markdown",
   "id": "coupled-minutes",
   "metadata": {},
   "source": [
    "`까칠이`: 나이가 28인 사람이 누군지 모두 알고 싶을 경우는? `dict`로 어떻게 하는지?"
   ]
  },
  {
   "cell_type": "markdown",
   "id": "optical-breakfast",
   "metadata": {},
   "source": [
    "`교과서`: ... "
   ]
  },
  {
   "cell_type": "markdown",
   "id": "broadband-shoulder",
   "metadata": {},
   "source": [
    "`까칠이(넘파이,불인덱싱마스터)`: 나는 할수 있다. "
   ]
  },
  {
   "cell_type": "code",
   "execution_count": 13,
   "id": "dying-computer",
   "metadata": {},
   "outputs": [
    {
     "data": {
      "text/plain": [
       "array([['새로이', '이서', '일권', '현이'],\n",
       "       ['30', '20', '28', '28'],\n",
       "       ['600', '950', '950', '650'],\n",
       "       ['4.0', '4.2', '2.3', '3.8']], dtype='<U32')"
      ]
     },
     "execution_count": 13,
     "metadata": {},
     "output_type": "execute_result"
    }
   ],
   "source": [
    "l1.T"
   ]
  },
  {
   "cell_type": "code",
   "execution_count": 14,
   "id": "certified-invitation",
   "metadata": {},
   "outputs": [
    {
     "data": {
      "text/plain": [
       "array(['30', '20', '28', '28'], dtype='<U32')"
      ]
     },
     "execution_count": 14,
     "metadata": {},
     "output_type": "execute_result"
    }
   ],
   "source": [
    "l1.T[1]"
   ]
  },
  {
   "cell_type": "code",
   "execution_count": 15,
   "id": "behavioral-forestry",
   "metadata": {},
   "outputs": [
    {
     "data": {
      "text/plain": [
       "array([False, False,  True,  True])"
      ]
     },
     "execution_count": 15,
     "metadata": {},
     "output_type": "execute_result"
    }
   ],
   "source": [
    "l1.T[1]=='28'"
   ]
  },
  {
   "cell_type": "code",
   "execution_count": 16,
   "id": "removed-department",
   "metadata": {},
   "outputs": [
    {
     "data": {
      "text/plain": [
       "array([['일권', '28', '950', '2.3'],\n",
       "       ['현이', '28', '650', '3.8']], dtype='<U32')"
      ]
     },
     "execution_count": 16,
     "metadata": {},
     "output_type": "execute_result"
    }
   ],
   "source": [
    "l1[l1.T[1]=='28']"
   ]
  },
  {
   "cell_type": "markdown",
   "id": "structural-interference",
   "metadata": {},
   "source": [
    "`교과서`: ... "
   ]
  },
  {
   "cell_type": "markdown",
   "id": "precise-munich",
   "metadata": {},
   "source": [
    "`까칠이`: key를 사용하는 것이 왜 정보검색에 유리한것인지? "
   ]
  },
  {
   "cell_type": "markdown",
   "id": "constant-samba",
   "metadata": {},
   "source": [
    "### (3) 논쟁2"
   ]
  },
  {
   "cell_type": "markdown",
   "id": "infectious-limit",
   "metadata": {},
   "source": [
    "사실 논쟁1에서 까칠이가 언급한 내용은 `list`의 장점이라기 보다 `list`와 호환성이 좋은 `numpy`의 장점이다. "
   ]
  },
  {
   "cell_type": "markdown",
   "id": "geological-partition",
   "metadata": {},
   "source": [
    "`dict`도 `dict`와 호환성이 좋은 새로운 자료형이 있는데, 그것이 바로 `pandas`이다. "
   ]
  },
  {
   "cell_type": "markdown",
   "id": "minimal-invitation",
   "metadata": {},
   "source": [
    "근본적인 차이: `list`는 번호로, `dict`는 keyword로 접근한다. "
   ]
  },
  {
   "cell_type": "markdown",
   "id": "intensive-power",
   "metadata": {},
   "source": [
    "- 인덱싱, 슬라이싱  vs 맵핑 "
   ]
  },
  {
   "cell_type": "markdown",
   "id": "roman-fundamental",
   "metadata": {},
   "source": [
    "***note:*** 리스트는 키워드로 정보검색이 불가능하다."
   ]
  },
  {
   "cell_type": "markdown",
   "id": "incorporated-composer",
   "metadata": {},
   "source": [
    "***note:*** 딕셔너리는 인덱스로 정보검색이 불가능하다."
   ]
  },
  {
   "cell_type": "markdown",
   "id": "scientific-portfolio",
   "metadata": {},
   "source": [
    "### (4) `pandas`"
   ]
  },
  {
   "cell_type": "code",
   "execution_count": 17,
   "id": "suspected-narrative",
   "metadata": {},
   "outputs": [],
   "source": [
    "import pandas as pd"
   ]
  },
  {
   "cell_type": "code",
   "execution_count": 18,
   "id": "green-headset",
   "metadata": {},
   "outputs": [
    {
     "data": {
      "text/plain": [
       "{'새로이': [30, 600, 4.0],\n",
       " '이서': [20, 950, 4.2],\n",
       " '일권': [28, 950, 2.3],\n",
       " '현이': [28, 650, 3.8]}"
      ]
     },
     "execution_count": 18,
     "metadata": {},
     "output_type": "execute_result"
    }
   ],
   "source": [
    "d"
   ]
  },
  {
   "cell_type": "code",
   "execution_count": 19,
   "id": "medieval-original",
   "metadata": {},
   "outputs": [
    {
     "data": {
      "text/html": [
       "<div>\n",
       "<style scoped>\n",
       "    .dataframe tbody tr th:only-of-type {\n",
       "        vertical-align: middle;\n",
       "    }\n",
       "\n",
       "    .dataframe tbody tr th {\n",
       "        vertical-align: top;\n",
       "    }\n",
       "\n",
       "    .dataframe thead th {\n",
       "        text-align: right;\n",
       "    }\n",
       "</style>\n",
       "<table border=\"1\" class=\"dataframe\">\n",
       "  <thead>\n",
       "    <tr style=\"text-align: right;\">\n",
       "      <th></th>\n",
       "      <th>새로이</th>\n",
       "      <th>이서</th>\n",
       "      <th>일권</th>\n",
       "      <th>현이</th>\n",
       "    </tr>\n",
       "  </thead>\n",
       "  <tbody>\n",
       "    <tr>\n",
       "      <th>0</th>\n",
       "      <td>30.0</td>\n",
       "      <td>20.0</td>\n",
       "      <td>28.0</td>\n",
       "      <td>28.0</td>\n",
       "    </tr>\n",
       "    <tr>\n",
       "      <th>1</th>\n",
       "      <td>600.0</td>\n",
       "      <td>950.0</td>\n",
       "      <td>950.0</td>\n",
       "      <td>650.0</td>\n",
       "    </tr>\n",
       "    <tr>\n",
       "      <th>2</th>\n",
       "      <td>4.0</td>\n",
       "      <td>4.2</td>\n",
       "      <td>2.3</td>\n",
       "      <td>3.8</td>\n",
       "    </tr>\n",
       "  </tbody>\n",
       "</table>\n",
       "</div>"
      ],
      "text/plain": [
       "     새로이     이서     일권     현이\n",
       "0   30.0   20.0   28.0   28.0\n",
       "1  600.0  950.0  950.0  650.0\n",
       "2    4.0    4.2    2.3    3.8"
      ]
     },
     "execution_count": 19,
     "metadata": {},
     "output_type": "execute_result"
    }
   ],
   "source": [
    "pd.DataFrame(d) ## 판다스자료형 = 데이터프레임을 선언하는 방법"
   ]
  },
  {
   "cell_type": "code",
   "execution_count": 20,
   "id": "unexpected-clarity",
   "metadata": {},
   "outputs": [],
   "source": [
    "df=pd.DataFrame(d).T"
   ]
  },
  {
   "cell_type": "code",
   "execution_count": 21,
   "id": "familiar-honolulu",
   "metadata": {},
   "outputs": [
    {
     "data": {
      "text/html": [
       "<div>\n",
       "<style scoped>\n",
       "    .dataframe tbody tr th:only-of-type {\n",
       "        vertical-align: middle;\n",
       "    }\n",
       "\n",
       "    .dataframe tbody tr th {\n",
       "        vertical-align: top;\n",
       "    }\n",
       "\n",
       "    .dataframe thead th {\n",
       "        text-align: right;\n",
       "    }\n",
       "</style>\n",
       "<table border=\"1\" class=\"dataframe\">\n",
       "  <thead>\n",
       "    <tr style=\"text-align: right;\">\n",
       "      <th></th>\n",
       "      <th>0</th>\n",
       "      <th>1</th>\n",
       "      <th>2</th>\n",
       "    </tr>\n",
       "  </thead>\n",
       "  <tbody>\n",
       "    <tr>\n",
       "      <th>새로이</th>\n",
       "      <td>30.0</td>\n",
       "      <td>600.0</td>\n",
       "      <td>4.0</td>\n",
       "    </tr>\n",
       "    <tr>\n",
       "      <th>이서</th>\n",
       "      <td>20.0</td>\n",
       "      <td>950.0</td>\n",
       "      <td>4.2</td>\n",
       "    </tr>\n",
       "    <tr>\n",
       "      <th>일권</th>\n",
       "      <td>28.0</td>\n",
       "      <td>950.0</td>\n",
       "      <td>2.3</td>\n",
       "    </tr>\n",
       "    <tr>\n",
       "      <th>현이</th>\n",
       "      <td>28.0</td>\n",
       "      <td>650.0</td>\n",
       "      <td>3.8</td>\n",
       "    </tr>\n",
       "  </tbody>\n",
       "</table>\n",
       "</div>"
      ],
      "text/plain": [
       "        0      1    2\n",
       "새로이  30.0  600.0  4.0\n",
       "이서   20.0  950.0  4.2\n",
       "일권   28.0  950.0  2.3\n",
       "현이   28.0  650.0  3.8"
      ]
     },
     "execution_count": 21,
     "metadata": {},
     "output_type": "execute_result"
    }
   ],
   "source": [
    "df"
   ]
  },
  {
   "cell_type": "markdown",
   "id": "encouraging-fever",
   "metadata": {},
   "source": [
    "***note:*** 이서의 정보를 알고 싶다면? (딕셔너리 느낌)"
   ]
  },
  {
   "cell_type": "code",
   "execution_count": 22,
   "id": "spiritual-boston",
   "metadata": {},
   "outputs": [
    {
     "data": {
      "text/plain": [
       "0     20.0\n",
       "1    950.0\n",
       "2      4.2\n",
       "Name: 이서, dtype: float64"
      ]
     },
     "execution_count": 22,
     "metadata": {},
     "output_type": "execute_result"
    }
   ],
   "source": [
    "df.loc['이서']"
   ]
  },
  {
   "cell_type": "markdown",
   "id": "domestic-third",
   "metadata": {},
   "source": [
    "***note:*** 칼럼이름을 정하고 싶다면? "
   ]
  },
  {
   "cell_type": "code",
   "execution_count": 23,
   "id": "piano-habitat",
   "metadata": {},
   "outputs": [],
   "source": [
    "df.columns=['age','toeic','gpa']"
   ]
  },
  {
   "cell_type": "code",
   "execution_count": 24,
   "id": "russian-still",
   "metadata": {},
   "outputs": [
    {
     "data": {
      "text/html": [
       "<div>\n",
       "<style scoped>\n",
       "    .dataframe tbody tr th:only-of-type {\n",
       "        vertical-align: middle;\n",
       "    }\n",
       "\n",
       "    .dataframe tbody tr th {\n",
       "        vertical-align: top;\n",
       "    }\n",
       "\n",
       "    .dataframe thead th {\n",
       "        text-align: right;\n",
       "    }\n",
       "</style>\n",
       "<table border=\"1\" class=\"dataframe\">\n",
       "  <thead>\n",
       "    <tr style=\"text-align: right;\">\n",
       "      <th></th>\n",
       "      <th>age</th>\n",
       "      <th>toeic</th>\n",
       "      <th>gpa</th>\n",
       "    </tr>\n",
       "  </thead>\n",
       "  <tbody>\n",
       "    <tr>\n",
       "      <th>새로이</th>\n",
       "      <td>30.0</td>\n",
       "      <td>600.0</td>\n",
       "      <td>4.0</td>\n",
       "    </tr>\n",
       "    <tr>\n",
       "      <th>이서</th>\n",
       "      <td>20.0</td>\n",
       "      <td>950.0</td>\n",
       "      <td>4.2</td>\n",
       "    </tr>\n",
       "    <tr>\n",
       "      <th>일권</th>\n",
       "      <td>28.0</td>\n",
       "      <td>950.0</td>\n",
       "      <td>2.3</td>\n",
       "    </tr>\n",
       "    <tr>\n",
       "      <th>현이</th>\n",
       "      <td>28.0</td>\n",
       "      <td>650.0</td>\n",
       "      <td>3.8</td>\n",
       "    </tr>\n",
       "  </tbody>\n",
       "</table>\n",
       "</div>"
      ],
      "text/plain": [
       "      age  toeic  gpa\n",
       "새로이  30.0  600.0  4.0\n",
       "이서   20.0  950.0  4.2\n",
       "일권   28.0  950.0  2.3\n",
       "현이   28.0  650.0  3.8"
      ]
     },
     "execution_count": 24,
     "metadata": {},
     "output_type": "execute_result"
    }
   ],
   "source": [
    "df"
   ]
  },
  {
   "cell_type": "markdown",
   "id": "gothic-wireless",
   "metadata": {},
   "source": [
    "***note:*** 2번째 칼럼을 불러오자! (넘파이느낌)"
   ]
  },
  {
   "cell_type": "code",
   "execution_count": 25,
   "id": "exposed-manufacturer",
   "metadata": {},
   "outputs": [
    {
     "data": {
      "text/plain": [
       "새로이    600.0\n",
       "이서     950.0\n",
       "일권     950.0\n",
       "현이     650.0\n",
       "Name: toeic, dtype: float64"
      ]
     },
     "execution_count": 25,
     "metadata": {},
     "output_type": "execute_result"
    }
   ],
   "source": [
    "df.iloc[:,1]"
   ]
  },
  {
   "cell_type": "markdown",
   "id": "impossible-population",
   "metadata": {},
   "source": [
    "***note:*** 2-3번째 칼럼을 불러오자! (넘파이느낌)"
   ]
  },
  {
   "cell_type": "code",
   "execution_count": 26,
   "id": "limited-conjunction",
   "metadata": {},
   "outputs": [
    {
     "data": {
      "text/html": [
       "<div>\n",
       "<style scoped>\n",
       "    .dataframe tbody tr th:only-of-type {\n",
       "        vertical-align: middle;\n",
       "    }\n",
       "\n",
       "    .dataframe tbody tr th {\n",
       "        vertical-align: top;\n",
       "    }\n",
       "\n",
       "    .dataframe thead th {\n",
       "        text-align: right;\n",
       "    }\n",
       "</style>\n",
       "<table border=\"1\" class=\"dataframe\">\n",
       "  <thead>\n",
       "    <tr style=\"text-align: right;\">\n",
       "      <th></th>\n",
       "      <th>toeic</th>\n",
       "      <th>gpa</th>\n",
       "    </tr>\n",
       "  </thead>\n",
       "  <tbody>\n",
       "    <tr>\n",
       "      <th>새로이</th>\n",
       "      <td>600.0</td>\n",
       "      <td>4.0</td>\n",
       "    </tr>\n",
       "    <tr>\n",
       "      <th>이서</th>\n",
       "      <td>950.0</td>\n",
       "      <td>4.2</td>\n",
       "    </tr>\n",
       "    <tr>\n",
       "      <th>일권</th>\n",
       "      <td>950.0</td>\n",
       "      <td>2.3</td>\n",
       "    </tr>\n",
       "    <tr>\n",
       "      <th>현이</th>\n",
       "      <td>650.0</td>\n",
       "      <td>3.8</td>\n",
       "    </tr>\n",
       "  </tbody>\n",
       "</table>\n",
       "</div>"
      ],
      "text/plain": [
       "     toeic  gpa\n",
       "새로이  600.0  4.0\n",
       "이서   950.0  4.2\n",
       "일권   950.0  2.3\n",
       "현이   650.0  3.8"
      ]
     },
     "execution_count": 26,
     "metadata": {},
     "output_type": "execute_result"
    }
   ],
   "source": [
    "df.iloc[:,1:3]"
   ]
  },
  {
   "cell_type": "markdown",
   "id": "reported-boards",
   "metadata": {},
   "source": [
    "***note:*** 토익점수를 불러오고 싶다면? "
   ]
  },
  {
   "cell_type": "code",
   "execution_count": 27,
   "id": "viral-traffic",
   "metadata": {},
   "outputs": [
    {
     "data": {
      "text/plain": [
       "새로이    600.0\n",
       "이서     950.0\n",
       "일권     950.0\n",
       "현이     650.0\n",
       "Name: toeic, dtype: float64"
      ]
     },
     "execution_count": 27,
     "metadata": {},
     "output_type": "execute_result"
    }
   ],
   "source": [
    "df.loc[:,'toeic']"
   ]
  },
  {
   "cell_type": "markdown",
   "id": "educated-supervisor",
   "metadata": {},
   "source": [
    "***note:*** age~toeic까지의 정보를 얻고 싶다면? "
   ]
  },
  {
   "cell_type": "code",
   "execution_count": 28,
   "id": "fatty-signature",
   "metadata": {},
   "outputs": [
    {
     "data": {
      "text/html": [
       "<div>\n",
       "<style scoped>\n",
       "    .dataframe tbody tr th:only-of-type {\n",
       "        vertical-align: middle;\n",
       "    }\n",
       "\n",
       "    .dataframe tbody tr th {\n",
       "        vertical-align: top;\n",
       "    }\n",
       "\n",
       "    .dataframe thead th {\n",
       "        text-align: right;\n",
       "    }\n",
       "</style>\n",
       "<table border=\"1\" class=\"dataframe\">\n",
       "  <thead>\n",
       "    <tr style=\"text-align: right;\">\n",
       "      <th></th>\n",
       "      <th>age</th>\n",
       "      <th>toeic</th>\n",
       "    </tr>\n",
       "  </thead>\n",
       "  <tbody>\n",
       "    <tr>\n",
       "      <th>새로이</th>\n",
       "      <td>30.0</td>\n",
       "      <td>600.0</td>\n",
       "    </tr>\n",
       "    <tr>\n",
       "      <th>이서</th>\n",
       "      <td>20.0</td>\n",
       "      <td>950.0</td>\n",
       "    </tr>\n",
       "    <tr>\n",
       "      <th>일권</th>\n",
       "      <td>28.0</td>\n",
       "      <td>950.0</td>\n",
       "    </tr>\n",
       "    <tr>\n",
       "      <th>현이</th>\n",
       "      <td>28.0</td>\n",
       "      <td>650.0</td>\n",
       "    </tr>\n",
       "  </tbody>\n",
       "</table>\n",
       "</div>"
      ],
      "text/plain": [
       "      age  toeic\n",
       "새로이  30.0  600.0\n",
       "이서   20.0  950.0\n",
       "일권   28.0  950.0\n",
       "현이   28.0  650.0"
      ]
     },
     "execution_count": 28,
     "metadata": {},
     "output_type": "execute_result"
    }
   ],
   "source": [
    "df.loc[:,'age':'toeic']"
   ]
  },
  {
   "cell_type": "markdown",
   "id": "documented-plaza",
   "metadata": {},
   "source": [
    "***note:*** 새로이~일권까지의 정보를 얻고 싶다면? "
   ]
  },
  {
   "cell_type": "code",
   "execution_count": 29,
   "id": "smoking-tolerance",
   "metadata": {},
   "outputs": [
    {
     "data": {
      "text/html": [
       "<div>\n",
       "<style scoped>\n",
       "    .dataframe tbody tr th:only-of-type {\n",
       "        vertical-align: middle;\n",
       "    }\n",
       "\n",
       "    .dataframe tbody tr th {\n",
       "        vertical-align: top;\n",
       "    }\n",
       "\n",
       "    .dataframe thead th {\n",
       "        text-align: right;\n",
       "    }\n",
       "</style>\n",
       "<table border=\"1\" class=\"dataframe\">\n",
       "  <thead>\n",
       "    <tr style=\"text-align: right;\">\n",
       "      <th></th>\n",
       "      <th>age</th>\n",
       "      <th>toeic</th>\n",
       "      <th>gpa</th>\n",
       "    </tr>\n",
       "  </thead>\n",
       "  <tbody>\n",
       "    <tr>\n",
       "      <th>새로이</th>\n",
       "      <td>30.0</td>\n",
       "      <td>600.0</td>\n",
       "      <td>4.0</td>\n",
       "    </tr>\n",
       "    <tr>\n",
       "      <th>이서</th>\n",
       "      <td>20.0</td>\n",
       "      <td>950.0</td>\n",
       "      <td>4.2</td>\n",
       "    </tr>\n",
       "    <tr>\n",
       "      <th>일권</th>\n",
       "      <td>28.0</td>\n",
       "      <td>950.0</td>\n",
       "      <td>2.3</td>\n",
       "    </tr>\n",
       "  </tbody>\n",
       "</table>\n",
       "</div>"
      ],
      "text/plain": [
       "      age  toeic  gpa\n",
       "새로이  30.0  600.0  4.0\n",
       "이서   20.0  950.0  4.2\n",
       "일권   28.0  950.0  2.3"
      ]
     },
     "execution_count": 29,
     "metadata": {},
     "output_type": "execute_result"
    }
   ],
   "source": [
    "df.loc['새로이':'일권',:]"
   ]
  },
  {
   "cell_type": "markdown",
   "id": "square-setup",
   "metadata": {},
   "source": [
    "***note:*** 토익점수가 800보다 높은사람을 부르고 싶다면? "
   ]
  },
  {
   "cell_type": "code",
   "execution_count": 30,
   "id": "statutory-champagne",
   "metadata": {},
   "outputs": [
    {
     "data": {
      "text/html": [
       "<div>\n",
       "<style scoped>\n",
       "    .dataframe tbody tr th:only-of-type {\n",
       "        vertical-align: middle;\n",
       "    }\n",
       "\n",
       "    .dataframe tbody tr th {\n",
       "        vertical-align: top;\n",
       "    }\n",
       "\n",
       "    .dataframe thead th {\n",
       "        text-align: right;\n",
       "    }\n",
       "</style>\n",
       "<table border=\"1\" class=\"dataframe\">\n",
       "  <thead>\n",
       "    <tr style=\"text-align: right;\">\n",
       "      <th></th>\n",
       "      <th>age</th>\n",
       "      <th>toeic</th>\n",
       "      <th>gpa</th>\n",
       "    </tr>\n",
       "  </thead>\n",
       "  <tbody>\n",
       "    <tr>\n",
       "      <th>새로이</th>\n",
       "      <td>30.0</td>\n",
       "      <td>600.0</td>\n",
       "      <td>4.0</td>\n",
       "    </tr>\n",
       "    <tr>\n",
       "      <th>이서</th>\n",
       "      <td>20.0</td>\n",
       "      <td>950.0</td>\n",
       "      <td>4.2</td>\n",
       "    </tr>\n",
       "    <tr>\n",
       "      <th>일권</th>\n",
       "      <td>28.0</td>\n",
       "      <td>950.0</td>\n",
       "      <td>2.3</td>\n",
       "    </tr>\n",
       "    <tr>\n",
       "      <th>현이</th>\n",
       "      <td>28.0</td>\n",
       "      <td>650.0</td>\n",
       "      <td>3.8</td>\n",
       "    </tr>\n",
       "  </tbody>\n",
       "</table>\n",
       "</div>"
      ],
      "text/plain": [
       "      age  toeic  gpa\n",
       "새로이  30.0  600.0  4.0\n",
       "이서   20.0  950.0  4.2\n",
       "일권   28.0  950.0  2.3\n",
       "현이   28.0  650.0  3.8"
      ]
     },
     "execution_count": 30,
     "metadata": {},
     "output_type": "execute_result"
    }
   ],
   "source": [
    "df"
   ]
  },
  {
   "cell_type": "code",
   "execution_count": 31,
   "id": "acceptable-revelation",
   "metadata": {},
   "outputs": [
    {
     "data": {
      "text/html": [
       "<div>\n",
       "<style scoped>\n",
       "    .dataframe tbody tr th:only-of-type {\n",
       "        vertical-align: middle;\n",
       "    }\n",
       "\n",
       "    .dataframe tbody tr th {\n",
       "        vertical-align: top;\n",
       "    }\n",
       "\n",
       "    .dataframe thead th {\n",
       "        text-align: right;\n",
       "    }\n",
       "</style>\n",
       "<table border=\"1\" class=\"dataframe\">\n",
       "  <thead>\n",
       "    <tr style=\"text-align: right;\">\n",
       "      <th></th>\n",
       "      <th>age</th>\n",
       "      <th>toeic</th>\n",
       "      <th>gpa</th>\n",
       "    </tr>\n",
       "  </thead>\n",
       "  <tbody>\n",
       "    <tr>\n",
       "      <th>이서</th>\n",
       "      <td>20.0</td>\n",
       "      <td>950.0</td>\n",
       "      <td>4.2</td>\n",
       "    </tr>\n",
       "    <tr>\n",
       "      <th>일권</th>\n",
       "      <td>28.0</td>\n",
       "      <td>950.0</td>\n",
       "      <td>2.3</td>\n",
       "    </tr>\n",
       "  </tbody>\n",
       "</table>\n",
       "</div>"
      ],
      "text/plain": [
       "     age  toeic  gpa\n",
       "이서  20.0  950.0  4.2\n",
       "일권  28.0  950.0  2.3"
      ]
     },
     "execution_count": 31,
     "metadata": {},
     "output_type": "execute_result"
    }
   ],
   "source": [
    "df.query('toeic>800')"
   ]
  },
  {
   "cell_type": "markdown",
   "id": "designed-birth",
   "metadata": {},
   "source": [
    "***note:*** 나이가 23보다 큰 사람을 부르고 싶다면? "
   ]
  },
  {
   "cell_type": "code",
   "execution_count": 32,
   "id": "valued-compromise",
   "metadata": {},
   "outputs": [
    {
     "data": {
      "text/html": [
       "<div>\n",
       "<style scoped>\n",
       "    .dataframe tbody tr th:only-of-type {\n",
       "        vertical-align: middle;\n",
       "    }\n",
       "\n",
       "    .dataframe tbody tr th {\n",
       "        vertical-align: top;\n",
       "    }\n",
       "\n",
       "    .dataframe thead th {\n",
       "        text-align: right;\n",
       "    }\n",
       "</style>\n",
       "<table border=\"1\" class=\"dataframe\">\n",
       "  <thead>\n",
       "    <tr style=\"text-align: right;\">\n",
       "      <th></th>\n",
       "      <th>age</th>\n",
       "      <th>toeic</th>\n",
       "      <th>gpa</th>\n",
       "    </tr>\n",
       "  </thead>\n",
       "  <tbody>\n",
       "    <tr>\n",
       "      <th>새로이</th>\n",
       "      <td>30.0</td>\n",
       "      <td>600.0</td>\n",
       "      <td>4.0</td>\n",
       "    </tr>\n",
       "    <tr>\n",
       "      <th>일권</th>\n",
       "      <td>28.0</td>\n",
       "      <td>950.0</td>\n",
       "      <td>2.3</td>\n",
       "    </tr>\n",
       "    <tr>\n",
       "      <th>현이</th>\n",
       "      <td>28.0</td>\n",
       "      <td>650.0</td>\n",
       "      <td>3.8</td>\n",
       "    </tr>\n",
       "  </tbody>\n",
       "</table>\n",
       "</div>"
      ],
      "text/plain": [
       "      age  toeic  gpa\n",
       "새로이  30.0  600.0  4.0\n",
       "일권   28.0  950.0  2.3\n",
       "현이   28.0  650.0  3.8"
      ]
     },
     "execution_count": 32,
     "metadata": {},
     "output_type": "execute_result"
    }
   ],
   "source": [
    "df.query('age>23')"
   ]
  },
  {
   "cell_type": "markdown",
   "id": "advance-movie",
   "metadata": {},
   "source": [
    "***note:*** 나이가 23보다 많고 토익점수가 800보다 높은 사람을 부르고 싶다면? "
   ]
  },
  {
   "cell_type": "code",
   "execution_count": 33,
   "id": "ancient-seven",
   "metadata": {},
   "outputs": [
    {
     "data": {
      "text/html": [
       "<div>\n",
       "<style scoped>\n",
       "    .dataframe tbody tr th:only-of-type {\n",
       "        vertical-align: middle;\n",
       "    }\n",
       "\n",
       "    .dataframe tbody tr th {\n",
       "        vertical-align: top;\n",
       "    }\n",
       "\n",
       "    .dataframe thead th {\n",
       "        text-align: right;\n",
       "    }\n",
       "</style>\n",
       "<table border=\"1\" class=\"dataframe\">\n",
       "  <thead>\n",
       "    <tr style=\"text-align: right;\">\n",
       "      <th></th>\n",
       "      <th>age</th>\n",
       "      <th>toeic</th>\n",
       "      <th>gpa</th>\n",
       "    </tr>\n",
       "  </thead>\n",
       "  <tbody>\n",
       "    <tr>\n",
       "      <th>일권</th>\n",
       "      <td>28.0</td>\n",
       "      <td>950.0</td>\n",
       "      <td>2.3</td>\n",
       "    </tr>\n",
       "  </tbody>\n",
       "</table>\n",
       "</div>"
      ],
      "text/plain": [
       "     age  toeic  gpa\n",
       "일권  28.0  950.0  2.3"
      ]
     },
     "execution_count": 33,
     "metadata": {},
     "output_type": "execute_result"
    }
   ],
   "source": [
    "df.query('age>23 & toeic>800')"
   ]
  },
  {
   "cell_type": "markdown",
   "id": "genetic-holly",
   "metadata": {},
   "source": [
    "***hw*** gpa가 3.5이상인 사람을 검색해보고 스샷찍어서 제출"
   ]
  },
  {
   "cell_type": "code",
   "execution_count": 34,
   "id": "honest-sword",
   "metadata": {},
   "outputs": [
    {
     "data": {
      "text/html": [
       "<div>\n",
       "<style scoped>\n",
       "    .dataframe tbody tr th:only-of-type {\n",
       "        vertical-align: middle;\n",
       "    }\n",
       "\n",
       "    .dataframe tbody tr th {\n",
       "        vertical-align: top;\n",
       "    }\n",
       "\n",
       "    .dataframe thead th {\n",
       "        text-align: right;\n",
       "    }\n",
       "</style>\n",
       "<table border=\"1\" class=\"dataframe\">\n",
       "  <thead>\n",
       "    <tr style=\"text-align: right;\">\n",
       "      <th></th>\n",
       "      <th>age</th>\n",
       "      <th>toeic</th>\n",
       "      <th>gpa</th>\n",
       "    </tr>\n",
       "  </thead>\n",
       "  <tbody>\n",
       "    <tr>\n",
       "      <th>새로이</th>\n",
       "      <td>30.0</td>\n",
       "      <td>600.0</td>\n",
       "      <td>4.0</td>\n",
       "    </tr>\n",
       "    <tr>\n",
       "      <th>이서</th>\n",
       "      <td>20.0</td>\n",
       "      <td>950.0</td>\n",
       "      <td>4.2</td>\n",
       "    </tr>\n",
       "    <tr>\n",
       "      <th>현이</th>\n",
       "      <td>28.0</td>\n",
       "      <td>650.0</td>\n",
       "      <td>3.8</td>\n",
       "    </tr>\n",
       "  </tbody>\n",
       "</table>\n",
       "</div>"
      ],
      "text/plain": [
       "      age  toeic  gpa\n",
       "새로이  30.0  600.0  4.0\n",
       "이서   20.0  950.0  4.2\n",
       "현이   28.0  650.0  3.8"
      ]
     },
     "execution_count": 34,
     "metadata": {},
     "output_type": "execute_result"
    }
   ],
   "source": [
    "df.query('gpa > 3.5')"
   ]
  },
  {
   "cell_type": "code",
   "execution_count": null,
   "id": "suspended-train",
   "metadata": {},
   "outputs": [],
   "source": []
  }
 ],
 "metadata": {
  "kernelspec": {
   "display_name": "Python 3 (ipykernel)",
   "language": "python",
   "name": "python3"
  },
  "language_info": {
   "codemirror_mode": {
    "name": "ipython",
    "version": 3
   },
   "file_extension": ".py",
   "mimetype": "text/x-python",
   "name": "python",
   "nbconvert_exporter": "python",
   "pygments_lexer": "ipython3",
   "version": "3.9.7"
  }
 },
 "nbformat": 4,
 "nbformat_minor": 5
}
