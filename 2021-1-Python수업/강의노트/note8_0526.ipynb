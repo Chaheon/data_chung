{
 "cells": [
  {
   "cell_type": "markdown",
   "id": "future-minnesota",
   "metadata": {},
   "source": [
    "### 파이썬을 실행하는 방법 "
   ]
  },
  {
   "cell_type": "markdown",
   "id": "changed-column",
   "metadata": {},
   "source": [
    "#### 방법1: 시스템 명령라인 \n",
    "\n",
    "(1) 실행할 내용을 메모장에 적는다. 예를들어서 \n",
    "```\n",
    "a=[1,2,3]\n",
    "a=a+[4,5]\n",
    "print(a)\n",
    "```\n",
    "와 같은 내용을 적는다. \n",
    "\n",
    "(2) 파일이름을 `test.py`로 만든다. \n"
   ]
  },
  {
   "cell_type": "markdown",
   "id": "painted-contribution",
   "metadata": {},
   "source": [
    "(3) 커맨드에서 아래를 입력한다. "
   ]
  },
  {
   "cell_type": "markdown",
   "id": "reasonable-romania",
   "metadata": {},
   "source": [
    "```\n",
    "(py38r40) cgb@cgb-All-Series:~/Desktop$ python test.py\n",
    "[1, 2, 3, 4, 5]\n",
    "```"
   ]
  },
  {
   "cell_type": "markdown",
   "id": "satisfactory-separation",
   "metadata": {},
   "source": [
    "#### 방법2: 대화형 프롬프트 (python, ipython) 활용 "
   ]
  },
  {
   "cell_type": "markdown",
   "id": "occupational-denver",
   "metadata": {},
   "source": [
    "`-` 시스템 명령라인에서 python을 입력한뒤에 파이썬콘솔이 나오면 그곳에서 코드를 입력하고 실행"
   ]
  },
  {
   "cell_type": "markdown",
   "id": "homeless-shoulder",
   "metadata": {},
   "source": [
    "```\n",
    "(py38r40) cgb@cgb-All-Series:~/Desktop$ python \n",
    "Python 3.8.5 (default, Sep  4 2020, 07:30:14) \n",
    "[GCC 7.3.0] :: Anaconda, Inc. on linux\n",
    "Type \"help\", \"copyright\", \"credits\" or \"license\" for more information.\n",
    "```\n",
    "```python\n",
    ">>> a=[1,2,3]\n",
    ">>> a\n",
    "[1, 2, 3]\n",
    ">>> a+[1,2]\n",
    "[1, 2, 3, 1, 2]\n",
    ">>> 'spam'*4\n",
    "'spamspamspamspam'\n",
    "```"
   ]
  },
  {
   "cell_type": "markdown",
   "id": "smooth-awareness",
   "metadata": {},
   "source": [
    "`-` 장점? \n",
    "- print를 하지 않아도 결과를 바로바로 확인가능 (디버깅, 테스트에 극도로 유리함)\n",
    "- 남의 코드를 빠르게 배울 수 있다. "
   ]
  },
  {
   "cell_type": "markdown",
   "id": "voluntary-astronomy",
   "metadata": {},
   "source": [
    "`-` 단점? \n",
    "- 코드를 실행하는 순간 사라진다. $\\to$ 그냥 test.py 쓰는것이 좋은것 같기도하다. "
   ]
  },
  {
   "cell_type": "markdown",
   "id": "measured-theta",
   "metadata": {},
   "source": [
    "#### 방법3: 모듈활용  "
   ]
  },
  {
   "cell_type": "markdown",
   "id": "marked-glance",
   "metadata": {},
   "source": [
    "`-` 대화형 프롬프트 (파이썬 콘솔)에서 \n",
    "```python\n",
    "import test\n",
    "```"
   ]
  },
  {
   "cell_type": "markdown",
   "id": "sacred-queue",
   "metadata": {},
   "source": [
    "를 치면 해결된다. "
   ]
  },
  {
   "cell_type": "markdown",
   "id": "retained-currency",
   "metadata": {},
   "source": [
    "#### 방법4: exec "
   ]
  },
  {
   "cell_type": "markdown",
   "id": "compressed-release",
   "metadata": {},
   "source": [
    "`-` test.py의 코드를 조금 수정하고 실행하고 싶다. "
   ]
  },
  {
   "cell_type": "markdown",
   "id": "polyphonic-landscape",
   "metadata": {},
   "source": [
    "`-` 방법3으로는 한계점이 있음. (import는 한번만 수행되므로)"
   ]
  },
  {
   "cell_type": "markdown",
   "id": "polyphonic-apache",
   "metadata": {},
   "source": [
    "`-` 그냥 복사해서 붙여넣는 정도의 기능이 있으면 좋겠다. $\\to$ open, read, exec 조합으로 해결가능 "
   ]
  },
  {
   "cell_type": "markdown",
   "id": "detailed-oliver",
   "metadata": {},
   "source": [
    "```python\n",
    ">>> exec(open('test.py').read())\n",
    "[1, 2, 3, 4, 5, 6, 7, 8, 9, 10, 11, 12]\n",
    "```"
   ]
  },
  {
   "cell_type": "markdown",
   "id": "stylish-permit",
   "metadata": {},
   "source": [
    "`-` 심지어 그냥 test.txt로 저장한뒤 실행해도 가능함. "
   ]
  },
  {
   "cell_type": "markdown",
   "id": "sapphire-humidity",
   "metadata": {},
   "source": [
    "```python\n",
    ">>> exec(open('test.txt').read())\n",
    "[1, 2, 3, 4, 5, 6, 7, 8, 9, 10, 11, 12, 13, 14]\n",
    "```"
   ]
  },
  {
   "cell_type": "markdown",
   "id": "opposite-strain",
   "metadata": {},
   "source": [
    "### IDE "
   ]
  },
  {
   "cell_type": "markdown",
   "id": "baking-pastor",
   "metadata": {},
   "source": [
    "`–` 통합개발환경 (IDE)\n",
    "- 주피터노트북\n",
    "- 주피터랩\n",
    "- 파이참\n",
    "- 스파이더\n",
    "- 비주얼스튜디오\n",
    "- IDLE"
   ]
  },
  {
   "cell_type": "markdown",
   "id": "acknowledged-showcase",
   "metadata": {},
   "source": [
    "***어떻게 파이썬을 쓰는지에 대한 정답은 없습니다.***"
   ]
  }
 ],
 "metadata": {
  "kernelspec": {
   "display_name": "Python 3",
   "language": "python",
   "name": "python3"
  },
  "language_info": {
   "codemirror_mode": {
    "name": "ipython",
    "version": 3
   },
   "file_extension": ".py",
   "mimetype": "text/x-python",
   "name": "python",
   "nbconvert_exporter": "python",
   "pygments_lexer": "ipython3",
   "version": "3.8.8"
  }
 },
 "nbformat": 4,
 "nbformat_minor": 5
}
