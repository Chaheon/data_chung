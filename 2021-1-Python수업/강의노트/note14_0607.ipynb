{
 "cells": [
  {
   "cell_type": "markdown",
   "id": "fourth-dressing",
   "metadata": {},
   "source": [
    "### 함수도 객체다."
   ]
  },
  {
   "cell_type": "markdown",
   "id": "arabic-bikini",
   "metadata": {},
   "source": [
    "`-` 아래를 살펴보자. "
   ]
  },
  {
   "cell_type": "code",
   "execution_count": 1,
   "id": "designing-transition",
   "metadata": {},
   "outputs": [],
   "source": [
    "def myadd(a,b):\n",
    "    return a+b "
   ]
  },
  {
   "cell_type": "code",
   "execution_count": 2,
   "id": "boxed-jacket",
   "metadata": {},
   "outputs": [
    {
     "data": {
      "text/plain": [
       "3"
      ]
     },
     "execution_count": 2,
     "metadata": {},
     "output_type": "execute_result"
    }
   ],
   "source": [
    "myadd(1,2)"
   ]
  },
  {
   "cell_type": "code",
   "execution_count": 3,
   "id": "worldwide-outdoors",
   "metadata": {},
   "outputs": [
    {
     "data": {
      "text/plain": [
       "\u001b[0;31mSignature:\u001b[0m \u001b[0mmyadd\u001b[0m\u001b[0;34m(\u001b[0m\u001b[0ma\u001b[0m\u001b[0;34m,\u001b[0m \u001b[0mb\u001b[0m\u001b[0;34m)\u001b[0m\u001b[0;34m\u001b[0m\u001b[0;34m\u001b[0m\u001b[0m\n",
       "\u001b[0;31mDocstring:\u001b[0m <no docstring>\n",
       "\u001b[0;31mFile:\u001b[0m      ~/Dropbox/07_lectures/2021_1학기_파이썬입문/note/<ipython-input-1-e383cb6c2c80>\n",
       "\u001b[0;31mType:\u001b[0m      function\n"
      ]
     },
     "metadata": {},
     "output_type": "display_data"
    }
   ],
   "source": [
    "?myadd"
   ]
  },
  {
   "cell_type": "markdown",
   "id": "automated-membrane",
   "metadata": {},
   "source": [
    "`-` Type이 function이다? "
   ]
  },
  {
   "cell_type": "markdown",
   "id": "smoking-parliament",
   "metadata": {},
   "source": [
    "`-` myadd 는 function class의 instance이다. "
   ]
  },
  {
   "cell_type": "markdown",
   "id": "structural-position",
   "metadata": {},
   "source": [
    "`-` 결국 myadd 역시 하나의 오브젝트에 불과하다. "
   ]
  },
  {
   "cell_type": "markdown",
   "id": "blocked-debut",
   "metadata": {},
   "source": [
    "### higher-order function "
   ]
  },
  {
   "cell_type": "code",
   "execution_count": 9,
   "id": "foreign-sunday",
   "metadata": {},
   "outputs": [
    {
     "data": {
      "text/plain": [
       "3"
      ]
     },
     "execution_count": 9,
     "metadata": {},
     "output_type": "execute_result"
    }
   ],
   "source": [
    "myadd(1,2)"
   ]
  },
  {
   "cell_type": "markdown",
   "id": "recent-planning",
   "metadata": {},
   "source": [
    "myadd의 입력 1,2는 int class의 인스턴스 오브젝트였음. "
   ]
  },
  {
   "cell_type": "markdown",
   "id": "descending-johns",
   "metadata": {},
   "source": [
    "즉 문법의 논리로 보면 함수의 입력에 들어갈 수 있는것은 오브젝트이면 된다. "
   ]
  },
  {
   "cell_type": "markdown",
   "id": "infrared-metadata",
   "metadata": {},
   "source": [
    "그런데 함수 자체도 오브젝트이다 $\\to$ 함수도 함수의 입력으로 쓸 수 있다? "
   ]
  },
  {
   "cell_type": "markdown",
   "id": "instructional-acting",
   "metadata": {},
   "source": [
    "`-` 예제1"
   ]
  },
  {
   "cell_type": "code",
   "execution_count": 6,
   "id": "photographic-finger",
   "metadata": {},
   "outputs": [],
   "source": [
    "def calc(fun,a,b):\n",
    "    return fun(a,b)"
   ]
  },
  {
   "cell_type": "code",
   "execution_count": 8,
   "id": "arabic-subsection",
   "metadata": {},
   "outputs": [
    {
     "data": {
      "text/plain": [
       "0"
      ]
     },
     "execution_count": 8,
     "metadata": {},
     "output_type": "execute_result"
    }
   ],
   "source": [
    "calc(myadd,-3,3)"
   ]
  },
  {
   "cell_type": "markdown",
   "id": "front-valentine",
   "metadata": {},
   "source": [
    "이처럼 함수자체를 입력으로 받거나 출력으로 보내는 함수를 higher-order function이라고 한다. "
   ]
  },
  {
   "cell_type": "markdown",
   "id": "medium-viewer",
   "metadata": {},
   "source": [
    "`-` 예제2"
   ]
  },
  {
   "cell_type": "markdown",
   "id": "under-surge",
   "metadata": {},
   "source": [
    "미분: 아래의 함수 \n",
    "    \n",
    "$$f(x)=3x^2-2x+5$$ \n",
    "\n",
    "에서 $x=2$에의 접선의 기울기는 아래와 같이 대략적으로 구할 수 있다. \n",
    "\n",
    "$$\\frac{f(2+h)-f(2)}{h}, \\quad h=0.0000001$$"
   ]
  },
  {
   "cell_type": "markdown",
   "id": "coordinate-trace",
   "metadata": {},
   "source": [
    "$h$의 값을 더 0에 가깝게 만든다면 접선의 기울기의 정확도는 올라간다. "
   ]
  },
  {
   "cell_type": "markdown",
   "id": "certified-gilbert",
   "metadata": {},
   "source": [
    "미분에 익숙하다면 이론적으로 아래와 같이 $x=2$일때 접선의 기울기를 구할 수 있다. "
   ]
  },
  {
   "cell_type": "markdown",
   "id": "classical-details",
   "metadata": {},
   "source": [
    "- $f'(x)=6x-2$\n",
    "- $f'(2)=12-2=10$"
   ]
  },
  {
   "cell_type": "markdown",
   "id": "corrected-kidney",
   "metadata": {},
   "source": [
    "즉 $x=2$일때 이론적으로 구한 접선의 기울기값은 10이다. "
   ]
  },
  {
   "cell_type": "markdown",
   "id": "experienced-usage",
   "metadata": {},
   "source": [
    "미분을 계산해주는 코드를 구현하자. "
   ]
  },
  {
   "cell_type": "code",
   "execution_count": 15,
   "id": "disciplinary-criterion",
   "metadata": {},
   "outputs": [],
   "source": [
    "def f(x):\n",
    "    return 3*x**2-2*x+5"
   ]
  },
  {
   "cell_type": "code",
   "execution_count": 16,
   "id": "radical-luxury",
   "metadata": {},
   "outputs": [],
   "source": [
    "def derivative(fun,x):\n",
    "    h=0.00000001\n",
    "    return (fun(x+h)-fun(x))/h"
   ]
  },
  {
   "cell_type": "code",
   "execution_count": 17,
   "id": "recent-rehabilitation",
   "metadata": {},
   "outputs": [
    {
     "data": {
      "text/plain": [
       "9.99999993922529"
      ]
     },
     "execution_count": 17,
     "metadata": {},
     "output_type": "execute_result"
    }
   ],
   "source": [
    "derivative(f,2)"
   ]
  },
  {
   "cell_type": "markdown",
   "id": "false-sample",
   "metadata": {},
   "source": [
    "`-` $g(x)=x^2$와 같은 함수를 미분하고 싶다면? "
   ]
  },
  {
   "cell_type": "code",
   "execution_count": 18,
   "id": "educated-diabetes",
   "metadata": {},
   "outputs": [],
   "source": [
    "def g(x):\n",
    "    return x**2"
   ]
  },
  {
   "cell_type": "code",
   "execution_count": 1,
   "id": "interim-priest",
   "metadata": {},
   "outputs": [
    {
     "ename": "NameError",
     "evalue": "name 'derivative' is not defined",
     "output_type": "error",
     "traceback": [
      "\u001b[1;31m---------------------------------------------------------------------------\u001b[0m",
      "\u001b[1;31mNameError\u001b[0m                                 Traceback (most recent call last)",
      "\u001b[1;32m<ipython-input-1-d47eb8cc6a9e>\u001b[0m in \u001b[0;36m<module>\u001b[1;34m\u001b[0m\n\u001b[1;32m----> 1\u001b[1;33m \u001b[0mderivative\u001b[0m\u001b[1;33m(\u001b[0m\u001b[0mg\u001b[0m\u001b[1;33m,\u001b[0m\u001b[1;36m0\u001b[0m\u001b[1;33m)\u001b[0m\u001b[1;33m\u001b[0m\u001b[1;33m\u001b[0m\u001b[0m\n\u001b[0m",
      "\u001b[1;31mNameError\u001b[0m: name 'derivative' is not defined"
     ]
    }
   ],
   "source": [
    "derivative(g,0)"
   ]
  },
  {
   "cell_type": "code",
   "execution_count": 1,
   "id": "continent-above",
   "metadata": {},
   "outputs": [],
   "source": [
    "def f(x):\n",
    "    return x*3"
   ]
  },
  {
   "cell_type": "markdown",
   "id": "animated-supervisor",
   "metadata": {},
   "source": [
    "`-` END"
   ]
  }
 ],
 "metadata": {
  "kernelspec": {
   "display_name": "Python 3",
   "language": "python",
   "name": "python3"
  },
  "language_info": {
   "codemirror_mode": {
    "name": "ipython",
    "version": 3
   },
   "file_extension": ".py",
   "mimetype": "text/x-python",
   "name": "python",
   "nbconvert_exporter": "python",
   "pygments_lexer": "ipython3",
   "version": "3.8.8"
  }
 },
 "nbformat": 4,
 "nbformat_minor": 5
}
