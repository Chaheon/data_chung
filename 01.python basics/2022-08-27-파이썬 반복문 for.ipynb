{
 "cells": [
  {
   "cell_type": "markdown",
   "id": "d9875237-f202-4465-8690-2dcf04b28dd5",
   "metadata": {
    "tags": []
   },
   "source": [
    "## 파이썬 기초, 반복문 for"
   ]
  },
  {
   "cell_type": "markdown",
   "id": "74b40366-73b5-4a8c-9378-415762da8fc6",
   "metadata": {},
   "source": [
    "`-` if, while, for문 "
   ]
  },
  {
   "cell_type": "markdown",
   "id": "6c4e3fec-9da0-44f7-b701-0368def5060d",
   "metadata": {},
   "source": [
    "### for문"
   ]
  },
  {
   "cell_type": "markdown",
   "id": "8cf383c1-2e3c-4449-9081-38b54e909cab",
   "metadata": {},
   "source": [
    "while문과 비슷한 반복문인 for문은 직관적이기 때문에 매우 유용하고 문장 구조가 잘 보인다.  \n",
    "나도 사실 반복문을 사용하게 되면 while문보다 for문을 사용할 때가 많다.  "
   ]
  },
  {
   "cell_type": "markdown",
   "id": "cbab6892-7f2e-479f-aa39-6e13b01fd412",
   "metadata": {},
   "source": [
    "```python\n",
    "for 변수 in 리스트(or 토플, 문자열):\n",
    "    수행할 문장 1\n",
    "    수행할 문장 2 \n",
    "    ***\n",
    "```\n",
    "\n",
    "리스트나 튜플, 문자열의 첫 요소부터 마지막 요소까지 차례대로 변수에 대입되어 수행할 문자가 수행된다.  \n",
    "while은 조건이 참일 때 반복했다면 for문은 리스트(등)의 요소를 통해 제한적으로 반복한다. "
   ]
  },
  {
   "cell_type": "code",
   "execution_count": 1,
   "id": "2959866a-d24e-4394-9d0e-2d639a131796",
   "metadata": {},
   "outputs": [
    {
     "name": "stdout",
     "output_type": "stream",
     "text": [
      "one\n",
      "two\n",
      "three\n"
     ]
    }
   ],
   "source": [
    "lst = ['one','two','three']\n",
    "\n",
    "for i in lst :\n",
    "    print(i)"
   ]
  },
  {
   "cell_type": "code",
   "execution_count": 4,
   "id": "ca664604-c627-44f7-a81c-0f7856de0b88",
   "metadata": {},
   "outputs": [
    {
     "name": "stdout",
     "output_type": "stream",
     "text": [
      "1번째 학생은 합격입니다.\n",
      "2번째 학생은 불합격입니다.\n",
      "3번째 학생은 불합격입니다.\n",
      "4번째 학생은 불합격입니다.\n",
      "5번째 학생은 합격입니다.\n"
     ]
    }
   ],
   "source": [
    "score = [90,25,44,64,84]\n",
    "\n",
    "num = 0\n",
    "\n",
    "for i in score :\n",
    "    num += 1 \n",
    "    if i >= 70 :\n",
    "        print(f'{num}번째 학생은 합격입니다.')\n",
    "    else :\n",
    "        print(f'{num}번째 학생은 불합격입니다.')"
   ]
  },
  {
   "cell_type": "markdown",
   "id": "53871757-5ffa-40c7-bfd2-fee622df4f59",
   "metadata": {},
   "source": [
    "#### for문과 continue"
   ]
  },
  {
   "cell_type": "markdown",
   "id": "f0d8c0d2-96a8-4c48-b933-d1bb9ec74e5b",
   "metadata": {},
   "source": [
    "for문 또한 continue문을 사용할 수 있다. continue를 사용하면 for문의 처음으로 돌아간다. "
   ]
  },
  {
   "cell_type": "code",
   "execution_count": 5,
   "id": "e9dd5712-4687-4120-8b86-0132c349fe53",
   "metadata": {},
   "outputs": [
    {
     "name": "stdout",
     "output_type": "stream",
     "text": [
      "1번째 학생은 합격입니다.\n",
      "5번째 학생은 합격입니다.\n"
     ]
    }
   ],
   "source": [
    "score = [90,25,44,64,84]\n",
    "\n",
    "num = 0\n",
    "\n",
    "for i in score :\n",
    "    num += 1 \n",
    "    if i < 70 : continue\n",
    "    \n",
    "    print(f'{num}번째 학생은 합격입니다.')\n",
    "   "
   ]
  },
  {
   "cell_type": "markdown",
   "id": "4d3c5e52-b261-4c21-bf63-58759545bcbd",
   "metadata": {},
   "source": []
  },
  {
   "cell_type": "markdown",
   "id": "073b1414-cef2-449c-ae9b-c6bcebb8df52",
   "metadata": {},
   "source": [
    "#### for문과 range"
   ]
  },
  {
   "cell_type": "markdown",
   "id": "2395893b-87c2-4497-b0b8-eb7d618760f5",
   "metadata": {},
   "source": [
    "굳이 집고 넘어갈 필요는 없지만 range 매소드는 for문에 많이 사용한다.  \n",
    "반복문에서 반복할 요소를 리스트처럼 편하게 생성해주기 때문이다. "
   ]
  },
  {
   "cell_type": "code",
   "execution_count": 8,
   "id": "a702aac3-84d7-4a35-8914-d32d9a14bbda",
   "metadata": {},
   "outputs": [
    {
     "name": "stdout",
     "output_type": "stream",
     "text": [
      "1 2 3 4 5 6 7 8 9 10 "
     ]
    }
   ],
   "source": [
    "for i in range(1,11) :\n",
    "    print(i, end= \" \")\n",
    "\n",
    "# end= \" \"는 결과값 출력이 다음 줄로 넘어가지 않고 그 줄에 계속 출력하기 위한 매소드다. "
   ]
  },
  {
   "cell_type": "markdown",
   "id": "22065113-2099-4b6c-b0a3-89bed361006e",
   "metadata": {},
   "source": [
    "#### 리스트 컴프리헨션"
   ]
  },
  {
   "cell_type": "markdown",
   "id": "37979bac-81dd-4cbc-85a2-08704ae503e0",
   "metadata": {},
   "source": [
    "리스트 자료형을 공부할 때도 사용했지만 리스트를 편하게 생성하기 위해 사용된다. "
   ]
  },
  {
   "cell_type": "code",
   "execution_count": 10,
   "id": "4c6b8a3c-213b-4815-a364-8cb2cc82fd74",
   "metadata": {},
   "outputs": [
    {
     "data": {
      "text/plain": [
       "[4, 16, 36, 64, 100]"
      ]
     },
     "execution_count": 10,
     "metadata": {},
     "output_type": "execute_result"
    }
   ],
   "source": [
    "[i**2 for i in range(1,11) if i % 2 == 0]         "
   ]
  },
  {
   "cell_type": "code",
   "execution_count": 16,
   "id": "1b39c411-ac81-4360-8ee7-ed2a4beb5d2a",
   "metadata": {},
   "outputs": [
    {
     "name": "stdout",
     "output_type": "stream",
     "text": [
      "[1, 3, 5, 7, 9, 2, 6, 10, 14, 18, 3, 9, 15, 21, 27, 4, 12, 20, 28, 36, 5, 15, 25, 35, 45]\n"
     ]
    }
   ],
   "source": [
    "a = [i*j for i in range(1,6) \n",
    " for j in range(1,11,2) ] # 이런 변수를 사용할 수 있다.\n",
    "\n",
    "print(a)"
   ]
  },
  {
   "cell_type": "markdown",
   "id": "7d265543-f274-4c52-b791-4786435cc94a",
   "metadata": {},
   "source": [
    "`-` 리스트 컴프리헨션 고급\n",
    "\n",
    "```python\n",
    "\n",
    "[표현식1 for 요소1 in 반복가능객체1(리스트 등) if 조건문1\n",
    "         for 요소2 in 반복가능객체2(리스트 등) if 조건문2\n",
    "         for 요소3 in 반복가능객체3(리스트 등) if 조건문3\n",
    "         ***]\n",
    "```"
   ]
  }
 ],
 "metadata": {
  "kernelspec": {
   "display_name": "Python 3 (ipykernel)",
   "language": "python",
   "name": "python3"
  },
  "language_info": {
   "codemirror_mode": {
    "name": "ipython",
    "version": 3
   },
   "file_extension": ".py",
   "mimetype": "text/x-python",
   "name": "python",
   "nbconvert_exporter": "python",
   "pygments_lexer": "ipython3",
   "version": "3.9.0"
  }
 },
 "nbformat": 4,
 "nbformat_minor": 5
}
