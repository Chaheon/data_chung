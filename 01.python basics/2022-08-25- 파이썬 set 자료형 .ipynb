{
 "cells": [
  {
   "cell_type": "markdown",
   "id": "3291af05-3095-49d0-8fbf-5451f5df782f",
   "metadata": {},
   "source": [
    "## 파이썬 기초, Set 자료형 (1차원)"
   ]
  },
  {
   "cell_type": "markdown",
   "id": "1c2b92bf-e7dc-48eb-89f7-258f94cdacb9",
   "metadata": {},
   "source": [
    "`-` 파이썬의 기본자료형은 int, float, bool, str, list, tuple, dict, set 등이 있다.\n",
    "- 0차원 자료형: int, float, bool \n",
    "- 1차원 자료형: str, list, tuple, dict, set"
   ]
  },
  {
   "cell_type": "markdown",
   "id": "88ce95f6-12a7-470b-b555-12a37e1ba708",
   "metadata": {},
   "source": [
    "### 집합 "
   ]
  },
  {
   "cell_type": "markdown",
   "id": "7752e8da-3bd7-4b62-99ab-bcf045a6f05d",
   "metadata": {},
   "source": [
    "#### 선언 "
   ]
  },
  {
   "cell_type": "code",
   "execution_count": 1,
   "id": "056563a5-9803-4f04-96f6-431904be82e9",
   "metadata": {},
   "outputs": [],
   "source": [
    "a={'notebook','desktop'}"
   ]
  },
  {
   "cell_type": "markdown",
   "id": "b6d1b060-29b2-4a5c-b8b6-216937924018",
   "metadata": {},
   "source": [
    "#### 원소추출 "
   ]
  },
  {
   "cell_type": "markdown",
   "id": "088c23b6-0e6d-4fdc-b50c-626d456495c5",
   "metadata": {},
   "source": [
    "`-` 일단 인덱스로는 못합니다. "
   ]
  },
  {
   "cell_type": "code",
   "execution_count": 2,
   "id": "d32366a4-4a0b-4ba7-8516-366aa640733d",
   "metadata": {},
   "outputs": [
    {
     "ename": "TypeError",
     "evalue": "'set' object is not subscriptable",
     "output_type": "error",
     "traceback": [
      "\u001b[0;31m---------------------------------------------------------------------------\u001b[0m",
      "\u001b[0;31mTypeError\u001b[0m                                 Traceback (most recent call last)",
      "Input \u001b[0;32mIn [2]\u001b[0m, in \u001b[0;36m<cell line: 2>\u001b[0;34m()\u001b[0m\n\u001b[1;32m      1\u001b[0m a\u001b[38;5;241m=\u001b[39m{\u001b[38;5;124m'\u001b[39m\u001b[38;5;124mnotebook\u001b[39m\u001b[38;5;124m'\u001b[39m,\u001b[38;5;124m'\u001b[39m\u001b[38;5;124mdesktop\u001b[39m\u001b[38;5;124m'\u001b[39m}\n\u001b[0;32m----> 2\u001b[0m \u001b[43ma\u001b[49m\u001b[43m[\u001b[49m\u001b[38;5;241;43m0\u001b[39;49m\u001b[43m]\u001b[49m\n",
      "\u001b[0;31mTypeError\u001b[0m: 'set' object is not subscriptable"
     ]
    }
   ],
   "source": [
    "a={'notebook','desktop'}\n",
    "a[0]"
   ]
  },
  {
   "cell_type": "markdown",
   "id": "80875372-b3ff-4ec0-83cb-8d298bac757f",
   "metadata": {},
   "source": [
    "`-` 딱히 하는 방법이 없어요.. 그리고 이걸 하는 의미가 없어요.. (원소에 접근해서 뭐하려고??)\n",
    "\n",
    "- 집합을 관리하기 편하기 위해 만들어진 자료형이다. "
   ]
  },
  {
   "cell_type": "markdown",
   "id": "8e4faba2-0721-446f-b540-d24bee371441",
   "metadata": {},
   "source": [
    "#### 원소추가 "
   ]
  },
  {
   "cell_type": "markdown",
   "id": "1f50a0ca-c60d-4c3b-b82a-ef809a948f06",
   "metadata": {},
   "source": [
    "`-` 이건 의미가 있죠 "
   ]
  },
  {
   "cell_type": "code",
   "execution_count": 3,
   "id": "90ed0ff2-cd31-4adb-8052-35f6978895aa",
   "metadata": {},
   "outputs": [
    {
     "data": {
      "text/plain": [
       "{'desktop', 'notebook'}"
      ]
     },
     "execution_count": 3,
     "metadata": {},
     "output_type": "execute_result"
    }
   ],
   "source": [
    "a={'notebook','desktop'} \n",
    "a"
   ]
  },
  {
   "cell_type": "code",
   "execution_count": 4,
   "id": "9f1a2004-f66b-41ca-80c4-77cfa22498ff",
   "metadata": {},
   "outputs": [
    {
     "data": {
      "text/plain": [
       "{'desktop', 'ipad', 'notebook'}"
      ]
     },
     "execution_count": 4,
     "metadata": {},
     "output_type": "execute_result"
    }
   ],
   "source": [
    "a.add('ipad')\n",
    "a"
   ]
  },
  {
   "cell_type": "code",
   "execution_count": 5,
   "id": "8379d7c5-67b3-4778-b7ce-417f507509e2",
   "metadata": {},
   "outputs": [
    {
     "data": {
      "text/plain": [
       "{'desktop', 'ipad', 'notebook'}"
      ]
     },
     "execution_count": 5,
     "metadata": {},
     "output_type": "execute_result"
    }
   ],
   "source": [
    "a.add('notebook') # 이미 원소로 있는건 추가되지 않음. \n",
    "a"
   ]
  },
  {
   "cell_type": "markdown",
   "id": "c7345b43-2b6f-42ff-80fe-32ec70794e9d",
   "metadata": {},
   "source": [
    "#### 원소삭제 "
   ]
  },
  {
   "cell_type": "code",
   "execution_count": 7,
   "id": "d647c33b-b420-4025-9364-73df43e12448",
   "metadata": {},
   "outputs": [
    {
     "data": {
      "text/plain": [
       "{'desktop', 'ipad', 'notebook'}"
      ]
     },
     "execution_count": 7,
     "metadata": {},
     "output_type": "execute_result"
    }
   ],
   "source": [
    "a={'desktop', 'ipad', 'notebook'}\n",
    "a"
   ]
  },
  {
   "cell_type": "code",
   "execution_count": 8,
   "id": "7f711e33-a7ea-4168-b69e-aff044428594",
   "metadata": {},
   "outputs": [],
   "source": [
    "a.remove('notebook')"
   ]
  },
  {
   "cell_type": "code",
   "execution_count": 9,
   "id": "66ab2d89-91ea-4c41-8890-9f5ceee4d7fa",
   "metadata": {},
   "outputs": [
    {
     "data": {
      "text/plain": [
       "{'desktop', 'ipad'}"
      ]
     },
     "execution_count": 9,
     "metadata": {},
     "output_type": "execute_result"
    }
   ],
   "source": [
    "a"
   ]
  },
  {
   "cell_type": "markdown",
   "id": "4ca190a9-4aa6-413d-b7ad-da3e19f60157",
   "metadata": {},
   "source": [
    "#### 연산 "
   ]
  },
  {
   "cell_type": "markdown",
   "id": "113bea4d-c8b0-48ab-b4ae-9ba4d105b927",
   "metadata": {},
   "source": [
    "`-` in 연산자  "
   ]
  },
  {
   "cell_type": "code",
   "execution_count": 10,
   "id": "dde7e88b-71c9-4f87-892a-82963ea215da",
   "metadata": {},
   "outputs": [
    {
     "data": {
      "text/plain": [
       "{'desktop', 'ipad', 'notebook'}"
      ]
     },
     "execution_count": 10,
     "metadata": {},
     "output_type": "execute_result"
    }
   ],
   "source": [
    "a={'desktop', 'ipad', 'notebook'}\n",
    "a"
   ]
  },
  {
   "cell_type": "code",
   "execution_count": 11,
   "id": "75c3c1fb-9c37-43d7-88d5-f4b272b2bd03",
   "metadata": {},
   "outputs": [
    {
     "data": {
      "text/plain": [
       "True"
      ]
     },
     "execution_count": 11,
     "metadata": {},
     "output_type": "execute_result"
    }
   ],
   "source": [
    "'notebook' in a"
   ]
  },
  {
   "cell_type": "markdown",
   "id": "5ca247d1-5503-450b-9dc6-a4f3dd10a335",
   "metadata": {},
   "source": [
    "- 참고로 `in`연산자는 집합에서만 쓰는것은 아님 "
   ]
  },
  {
   "cell_type": "markdown",
   "id": "f513b20c-73f3-42b6-a475-9680fa55b822",
   "metadata": {},
   "source": [
    "`-` 합집합, 교집합, 차집합"
   ]
  },
  {
   "cell_type": "code",
   "execution_count": 12,
   "id": "d8ba950c-bf09-4a34-86a5-e7cfa4c01976",
   "metadata": {},
   "outputs": [],
   "source": [
    "day1 = {'notebook','desktop'}\n",
    "day2 = {'notebook','ipad'}"
   ]
  },
  {
   "cell_type": "code",
   "execution_count": 13,
   "id": "ce0b1eea-bd80-4587-823b-215b1cdde6f1",
   "metadata": {},
   "outputs": [
    {
     "data": {
      "text/plain": [
       "{'desktop', 'ipad', 'notebook'}"
      ]
     },
     "execution_count": 13,
     "metadata": {},
     "output_type": "execute_result"
    }
   ],
   "source": [
    "day1 | day2 # 합집합"
   ]
  },
  {
   "cell_type": "code",
   "execution_count": 14,
   "id": "53f7645c-0909-435a-a3ab-e9faf2acc266",
   "metadata": {},
   "outputs": [
    {
     "data": {
      "text/plain": [
       "{'notebook'}"
      ]
     },
     "execution_count": 14,
     "metadata": {},
     "output_type": "execute_result"
    }
   ],
   "source": [
    "day1 & day2 # 교집합"
   ]
  },
  {
   "cell_type": "code",
   "execution_count": 15,
   "id": "7cee798b-036e-4cbd-b83b-d81769a1afe9",
   "metadata": {},
   "outputs": [
    {
     "data": {
      "text/plain": [
       "{'desktop'}"
      ]
     },
     "execution_count": 15,
     "metadata": {},
     "output_type": "execute_result"
    }
   ],
   "source": [
    "day1 - day2 # 차집합 "
   ]
  },
  {
   "cell_type": "code",
   "execution_count": 16,
   "id": "486a0116-edc6-4efd-a527-a86f1d6aa309",
   "metadata": {},
   "outputs": [
    {
     "data": {
      "text/plain": [
       "{'ipad'}"
      ]
     },
     "execution_count": 16,
     "metadata": {},
     "output_type": "execute_result"
    }
   ],
   "source": [
    "day2 - day1 # 차집합"
   ]
  },
  {
   "cell_type": "markdown",
   "id": "d1d5e6e0-cf80-41af-a118-5a73081db90a",
   "metadata": {},
   "source": [
    "`-` 부분집합 "
   ]
  },
  {
   "cell_type": "code",
   "execution_count": 17,
   "id": "54fe2c1b-4a62-4277-9cff-a8b55be1d86a",
   "metadata": {},
   "outputs": [],
   "source": [
    "day1 = {'notebook', 'desktop'}\n",
    "day2 = day1 | {'ipad'} "
   ]
  },
  {
   "cell_type": "code",
   "execution_count": 18,
   "id": "40116edf-17cc-4664-866f-1963070c806c",
   "metadata": {},
   "outputs": [
    {
     "data": {
      "text/plain": [
       "True"
      ]
     },
     "execution_count": 18,
     "metadata": {},
     "output_type": "execute_result"
    }
   ],
   "source": [
    "day1 < day2  # day1는 day2의 부분집합인가? "
   ]
  },
  {
   "cell_type": "code",
   "execution_count": 19,
   "id": "aaffad6a-7fdf-4ea1-91e2-556c0bb87cce",
   "metadata": {},
   "outputs": [
    {
     "data": {
      "text/plain": [
       "False"
      ]
     },
     "execution_count": 19,
     "metadata": {},
     "output_type": "execute_result"
    }
   ],
   "source": [
    "day2 < day1"
   ]
  },
  {
   "cell_type": "markdown",
   "id": "730e3766-0330-4d06-a43d-7fd00d91cd40",
   "metadata": {},
   "source": [
    "#### 메소드 "
   ]
  },
  {
   "cell_type": "markdown",
   "id": "b7ed47a2-59ed-4a5c-9be8-172b3a0262a0",
   "metadata": {},
   "source": [
    "`-` 합집합 "
   ]
  },
  {
   "cell_type": "code",
   "execution_count": 20,
   "id": "3bd88634-0182-450d-ab03-fe1a37d18724",
   "metadata": {},
   "outputs": [],
   "source": [
    "day1 = {'notebook', 'desktop'}\n",
    "day2 = {'notebook','ipad'}"
   ]
  },
  {
   "cell_type": "code",
   "execution_count": 21,
   "id": "7c322179-dbfa-4463-9b3e-71340a6449b6",
   "metadata": {},
   "outputs": [
    {
     "data": {
      "text/plain": [
       "{'desktop', 'ipad', 'notebook'}"
      ]
     },
     "execution_count": 21,
     "metadata": {},
     "output_type": "execute_result"
    }
   ],
   "source": [
    "day1.union(day2)"
   ]
  },
  {
   "cell_type": "markdown",
   "id": "b227d26c-c3cd-4a5c-984e-1be4771bbe9e",
   "metadata": {},
   "source": [
    "`-` 나머지 메소드는 스스로 찾아보세요 "
   ]
  },
  {
   "cell_type": "markdown",
   "id": "1167912a-f984-4229-b67d-0056132ddc7f",
   "metadata": {},
   "source": [
    "#### for문 "
   ]
  },
  {
   "cell_type": "code",
   "execution_count": 22,
   "id": "471092a1-72d6-4a40-9d49-028c4025756d",
   "metadata": {},
   "outputs": [],
   "source": [
    "day1 = {'notebook', 'desktop'}\n",
    "day2 = {'notebook','ipad'}"
   ]
  },
  {
   "cell_type": "code",
   "execution_count": 23,
   "id": "20d8f1a8-df31-4781-9820-6e174cbddd61",
   "metadata": {},
   "outputs": [
    {
     "name": "stdout",
     "output_type": "stream",
     "text": [
      "ipad\n",
      "notebook\n",
      "desktop\n"
     ]
    }
   ],
   "source": [
    "for i in day1|day2: \n",
    "    print(i)"
   ]
  }
 ],
 "metadata": {
  "kernelspec": {
   "display_name": "Python 3 (ipykernel)",
   "language": "python",
   "name": "python3"
  },
  "language_info": {
   "codemirror_mode": {
    "name": "ipython",
    "version": 3
   },
   "file_extension": ".py",
   "mimetype": "text/x-python",
   "name": "python",
   "nbconvert_exporter": "python",
   "pygments_lexer": "ipython3",
   "version": "3.9.0"
  }
 },
 "nbformat": 4,
 "nbformat_minor": 5
}
