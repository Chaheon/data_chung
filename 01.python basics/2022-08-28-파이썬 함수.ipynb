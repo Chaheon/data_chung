{
 "cells": [
  {
   "cell_type": "markdown",
   "id": "2a20b6b9-2f32-45b5-b1ad-b230f6a245a8",
   "metadata": {
    "tags": []
   },
   "source": [
    "## 파이썬 기초, 입*출력 프로세스"
   ]
  },
  {
   "cell_type": "markdown",
   "id": "de860775-9768-4173-9f0a-8067a22a8ca0",
   "metadata": {},
   "source": [
    "`-` 함수, 사용자 입력과 출력, 파일 읽고 쓰기 "
   ]
  },
  {
   "cell_type": "markdown",
   "id": "b75467de-8b28-4e6f-b003-f44f405885f4",
   "metadata": {},
   "source": [
    "### 함수"
   ]
  },
  {
   "cell_type": "markdown",
   "id": "56c50632-ebcb-4cab-be53-2cb8e863f0cd",
   "metadata": {},
   "source": [
    "#### 함수란?"
   ]
  },
  {
   "cell_type": "markdown",
   "id": "b0642023-5a6a-4645-9960-3c92c66e7c77",
   "metadata": {},
   "source": [
    "`-` 개념\n",
    "\n",
    "중,고등학교 수학시간에 배운 함수와 거의 같은 개념이다. X라는 입력값을 넣으면 2X + 3과 같은 함수, 식을 통해 Y라는 출력값이 나오는 형식이라 생각하면 된다. 프로그래밍에서도 어떤 값을 입력(input)했을 때 개발자가 필요한 일련의 과정(알고리즘)을 통해 원하는 값(output)이 나오게 하는 것을 의미한다.\n",
    "\n",
    "`-` 사용하는 이유\n",
    "\n",
    "프로그래밍, 분석을 하면 같은 행위, 같은 내용을 인간이 반복하는 경우가 많다. 기계와 소프트웨어가 그렇듯 반복의 과정을 함수로 자동화하기 위해 사용된다. \n",
    "\n",
    "또한, 복잡하고 어려운 계산, 작업 흐름을 일목요연하게 볼 수 있기 때문에 작성하기도 한다. 각 단계별로 원하는 결과값이 출력되는 것을 정리하면 일의 효율이 더 높아지기 때문이다. \n",
    "\n",
    "*이러한 함수를 적재적소에 남발하지 않고 효율적으로 만들어야만 프로그래밍을 잘한다고 할 수 있다.*"
   ]
  },
  {
   "cell_type": "markdown",
   "id": "4c941f55-38b3-4948-a3c3-1ea876204a67",
   "metadata": {},
   "source": [
    "#### 기본구조"
   ]
  },
  {
   "cell_type": "markdown",
   "id": "7396d9c0-6e6d-48a5-842c-9f5634683423",
   "metadata": {},
   "source": [
    "```python\n",
    "def 함수명(매개변수) :\n",
    "    수행할 문장 1\n",
    "    수행할 문장 2\n",
    "    ***\n",
    "```\n",
    "\n",
    "함수명은 개발자가 편리하게 지정할 수 있다. 매개변수는 이 함수 내에 입력으로 전달되는 값을 받는 변수이다. (헷갈리지 않게 잘 작성해야한다.)  \n",
    "함수 내에 보통 if, while, for 등의 제어문이 들어간다. "
   ]
  },
  {
   "cell_type": "code",
   "execution_count": 1,
   "id": "c61eb2cb-7667-4f26-a0ca-ab41f346f850",
   "metadata": {},
   "outputs": [
    {
     "data": {
      "text/plain": [
       "4"
      ]
     },
     "execution_count": 1,
     "metadata": {},
     "output_type": "execute_result"
    }
   ],
   "source": [
    "def add(a,b) :\n",
    "    return a+b \n",
    "\n",
    "add(1,3)"
   ]
  },
  {
   "cell_type": "markdown",
   "id": "1288afdd-173d-49d0-b972-8d4a7d343700",
   "metadata": {},
   "source": [
    "#### 매개변수와 인수 "
   ]
  },
  {
   "cell_type": "markdown",
   "id": "0e2f6b76-9511-4ef8-8bf7-aad3c2232c04",
   "metadata": {},
   "source": [
    "매개변수(parameter)와 인수(arguments)를 혼용해서는 안된다.  \n",
    "매개변수는 함수에 입력으로 전달된 값을 받는 변수를 의미한다.  \n",
    "반면 인수는 함수를 호출할 때 전달되는 입력값을 의미한다. \n",
    "\n",
    "```python\n",
    "def add(a, b): # a, b는 매개변수\n",
    "    return a+b\n",
    "\n",
    "print(add(3,4)) # 3, 4는 인수 \n",
    "```\n",
    "\n",
    "매개 변수는 선언 시 사용된 변수들을 말한다. 인수는 함수를 사용할 때 들어간 값들 (입력값)을 생각하면 될 것 같다.  \n",
    "예를 들면 ,, 매개변수는 과일, 그리고 함수를 통해 사용된 인수는 사과, 배라고 생각하면 될 것 같다. "
   ]
  },
  {
   "cell_type": "markdown",
   "id": "51027f4d-860d-4bfe-9252-3c93d9a840c9",
   "metadata": {},
   "source": [
    "#### 함수의 형태 \n",
    "\n",
    "함수의 형태는 입력값과 결과값의 유무에 따라 4가지 유형으로 나뉜다. "
   ]
  },
  {
   "cell_type": "code",
   "execution_count": 2,
   "id": "2687f299-ba56-4819-a697-1c6f165adfde",
   "metadata": {},
   "outputs": [
    {
     "data": {
      "text/plain": [
       "7"
      ]
     },
     "execution_count": 2,
     "metadata": {},
     "output_type": "execute_result"
    }
   ],
   "source": [
    "# 일반적인 함수 \n",
    "\n",
    "def add(a,b) :\n",
    "    return a + b\n",
    "\n",
    "add(3,4)"
   ]
  },
  {
   "cell_type": "code",
   "execution_count": 3,
   "id": "7e19fa76-f8f9-4828-aa59-ec3a444ee25a",
   "metadata": {},
   "outputs": [
    {
     "data": {
      "text/plain": [
       "'Hi'"
      ]
     },
     "execution_count": 3,
     "metadata": {},
     "output_type": "execute_result"
    }
   ],
   "source": [
    "# 입력값이 없는 함수 \n",
    "\n",
    "def say():\n",
    "    return 'Hi'\n",
    "\n",
    "say()"
   ]
  },
  {
   "cell_type": "markdown",
   "id": "270a164a-03f5-4890-b367-4fb5b862eae9",
   "metadata": {},
   "source": [
    "매개변수가 없기 때문에 입력값이 없다. 이러한 함수는 괄호 안에 아무 값도 넣을 수 없다. 아무것도 넣지 않았지만 출력값은 나오게 된다. "
   ]
  },
  {
   "cell_type": "code",
   "execution_count": 8,
   "id": "2c968e21-268e-4c5c-848f-87a8bec3685e",
   "metadata": {},
   "outputs": [
    {
     "name": "stdout",
     "output_type": "stream",
     "text": [
      "None\n"
     ]
    }
   ],
   "source": [
    "# 결과값이 없는 함수\n",
    "\n",
    "def add(a,b) :\n",
    "    a + b\n",
    "    \n",
    "print(add(1,3))"
   ]
  },
  {
   "cell_type": "markdown",
   "id": "7505cb6e-013f-4890-ba71-5a3467ff7807",
   "metadata": {},
   "source": [
    "위 함수처럼 매개변수의 인수를 넣었지만 출력은 없다. 함수 안에서 계산은 되었지만 출력되는 값이 없다. "
   ]
  },
  {
   "cell_type": "code",
   "execution_count": 13,
   "id": "3537a3a5-29c1-4abf-84b5-5d38bda2dc12",
   "metadata": {},
   "outputs": [
    {
     "name": "stdout",
     "output_type": "stream",
     "text": [
      "출력값은 4\n",
      "None\n"
     ]
    }
   ],
   "source": [
    "def add(a,b) :\n",
    "    print('출력값은', a + b)\n",
    "    \n",
    "a = add(1,3)\n",
    "print(a)"
   ]
  },
  {
   "cell_type": "markdown",
   "id": "97aae36c-8111-48b6-897a-a54f8074a36c",
   "metadata": {},
   "source": [
    "이 경우는 마치 출력이 된 것같지만 print문의 함수 구성 요소 중 수행할 문장이 진행 된 것일 뿐 add함수의 출력값이 나온 것은 아니다. 따라서 변수 선언을 해도 값은 없다고 나온다. "
   ]
  },
  {
   "cell_type": "code",
   "execution_count": 14,
   "id": "7f1a2b71-7311-4c44-84ed-e52920d85e47",
   "metadata": {},
   "outputs": [
    {
     "name": "stdout",
     "output_type": "stream",
     "text": [
      "Hi\n"
     ]
    }
   ],
   "source": [
    "# 입력값도 결과값도 없는 함수\n",
    "\n",
    "def say() :\n",
    "    print('Hi')\n",
    "\n",
    "say()"
   ]
  },
  {
   "cell_type": "markdown",
   "id": "75fceb94-4b9c-496f-b4bd-d94849cffeee",
   "metadata": {},
   "source": [
    "이 경우도 위 2,3번째 형태를 이해하면 알 수 있다. \n",
    "\n",
    "즉 우리는 출력값을 얻기 위해서는 return문을 사용해야한다. "
   ]
  },
  {
   "cell_type": "markdown",
   "id": "d890bebc-847f-405d-b0fb-6bb96e9154d4",
   "metadata": {},
   "source": [
    "#### 매개변수 지정 호출"
   ]
  },
  {
   "cell_type": "code",
   "execution_count": 1,
   "id": "668efefd-6e35-4271-a808-949e3e4118d6",
   "metadata": {},
   "outputs": [
    {
     "name": "stdout",
     "output_type": "stream",
     "text": [
      "7\n",
      "9\n"
     ]
    }
   ],
   "source": [
    "def add(a,b) :\n",
    "    return a + b\n",
    "\n",
    "print(add(a=3, b=4))\n",
    "print(add(b=5, a=4))"
   ]
  },
  {
   "cell_type": "markdown",
   "id": "da2908a9-cdf2-4e79-a537-e9682cf25cab",
   "metadata": {},
   "source": [
    "매개변수를 지정하면 위와 같이 순서와 상관없이 사용할 수 있다. "
   ]
  },
  {
   "cell_type": "markdown",
   "id": "b4ca1c71-251d-4a70-9902-ec708d1281c9",
   "metadata": {
    "tags": []
   },
   "source": [
    "#### 입력값이 몇 개일지 모를 때 "
   ]
  },
  {
   "cell_type": "markdown",
   "id": "f4970f9d-4f36-46a1-8e14-6a18b7958ff2",
   "metadata": {},
   "source": [
    "입력값이 얼마나 많을 지 몰라 매개변수를 특정하기 어려울 때는 아래와 같은 방법을 사용하면 된다. \n",
    "\n",
    "```python\n",
    "def 함수명(*매개변수):\n",
    "    수행할 문장 \n",
    "```\n",
    "\n",
    "예를 들어 여러 개의 입력값을 모두 더하는 함수를 만들어보자.  "
   ]
  },
  {
   "cell_type": "code",
   "execution_count": 4,
   "id": "59996ac5-e2f1-495a-91e1-08226c24cc5f",
   "metadata": {},
   "outputs": [
    {
     "data": {
      "text/plain": [
       "10"
      ]
     },
     "execution_count": 4,
     "metadata": {},
     "output_type": "execute_result"
    }
   ],
   "source": [
    "def add_many(*args):\n",
    "    result = 0 \n",
    "    for i in args:\n",
    "        result += i \n",
    "    return result \n",
    "\n",
    "add_many(1,2,3,4)"
   ]
  },
  {
   "cell_type": "markdown",
   "id": "e6f295da-a730-483b-969d-73569d0c6110",
   "metadata": {},
   "source": [
    "add_many 함수는 입력값이 몇 개든 상관이 없다. 위와 같이 매개변수 앞에 `*`를 붙이면 전부 모아 `튜플`로 만들어주기 때문이다. (튜플 자료형에서 공부할 때 공부했었다. *를 붙이면 1차원 구조가 풀리고 인수들을 묶어준다고 생각하면 된다.) \n",
    "\n",
    "*args라는 매개변수명은 다른걸로 변경 가능하다. *python, *arg 등과 같이 "
   ]
  },
  {
   "cell_type": "code",
   "execution_count": 12,
   "id": "f6b7c112-19ff-49d1-bb37-376578d43b74",
   "metadata": {},
   "outputs": [
    {
     "name": "stdout",
     "output_type": "stream",
     "text": [
      "10\n",
      "24\n"
     ]
    }
   ],
   "source": [
    "# *매개변수 앞, 뒤로 다른 매개변수가 들어오면 반드시 그에 해당 되는 인수를 넣어야 한다. \n",
    "\n",
    "def add_mul(choice, *args):\n",
    "    if choice == \"add\":\n",
    "        result = 0 \n",
    "        for i in args:\n",
    "            result = result + i \n",
    "    elif choice == \"mul\": \n",
    "        result = 1 \n",
    "        for i in args: \n",
    "            result = result * i \n",
    "    return result \n",
    "\n",
    "print(add_mul('add', 1,2,3,4))\n",
    "print(add_mul('mul', 1,2,3,4))"
   ]
  },
  {
   "cell_type": "markdown",
   "id": "edd04ae7-52ae-4816-801e-81e471f4bfa1",
   "metadata": {},
   "source": [
    "#### 함수의 결괏값은 늘 하나다. "
   ]
  },
  {
   "cell_type": "code",
   "execution_count": 15,
   "id": "7d6ba8d0-5836-4102-8013-97478292768b",
   "metadata": {},
   "outputs": [
    {
     "name": "stdout",
     "output_type": "stream",
     "text": [
      "(6, 8)\n"
     ]
    },
    {
     "data": {
      "text/plain": [
       "tuple"
      ]
     },
     "execution_count": 15,
     "metadata": {},
     "output_type": "execute_result"
    }
   ],
   "source": [
    "def add_and_mul(a,b) :\n",
    "    return a+b, a*b\n",
    "\n",
    "a = add_and_mul(2,4)\n",
    "print(a)\n",
    "type(a)"
   ]
  },
  {
   "cell_type": "markdown",
   "id": "61ae4d2e-5bef-4c92-ab54-6067f2b31693",
   "metadata": {},
   "source": [
    "함수를 통해 2개의 출력값을 만든 것 같지만 하나의 튜플로 출력된다.  \n",
    "출력값을 각각 따로 받고 싶다면 튜플을 인수를 각자 선언하는 식으로 출력하면 된다. "
   ]
  },
  {
   "cell_type": "code",
   "execution_count": 16,
   "id": "64ede1c3-d02a-4ea1-90a2-0b6a479dd7e0",
   "metadata": {},
   "outputs": [
    {
     "name": "stdout",
     "output_type": "stream",
     "text": [
      "6\n",
      "8\n"
     ]
    }
   ],
   "source": [
    "result1, result2 = add_and_mul(2,4) \n",
    "print(result1)\n",
    "print(result2)"
   ]
  },
  {
   "cell_type": "markdown",
   "id": "d840bb5b-2fb6-44f2-ae9d-41b0e054e038",
   "metadata": {},
   "source": [
    "`-` return을 2번 사용하면 출력도 2개이지 않을까?"
   ]
  },
  {
   "cell_type": "code",
   "execution_count": 18,
   "id": "4dfacb27-62ea-4db7-a4b9-035b7046bcdb",
   "metadata": {},
   "outputs": [
    {
     "data": {
      "text/plain": [
       "6"
      ]
     },
     "execution_count": 18,
     "metadata": {},
     "output_type": "execute_result"
    }
   ],
   "source": [
    "def add_and_mul(a,b):\n",
    "    return a+b\n",
    "    return a*b\n",
    "\n",
    "add_and_mul(2,4)"
   ]
  },
  {
   "cell_type": "markdown",
   "id": "24d7f09a-9207-4bca-b555-237640d56b15",
   "metadata": {},
   "source": [
    "위 결과를 보면 값이 a+b, 첫번째 return 값만 나오는 것을 확인할 수 있다.  \n",
    "즉 함수는 첫 return문과 함께 종료된다고 생각하면된다. "
   ]
  },
  {
   "cell_type": "markdown",
   "id": "7025909a-c30c-408c-8a79-c5db005043aa",
   "metadata": {},
   "source": [
    "`-` return의 또 다른 쓰임새\n",
    "\n",
    "return문은 함수를 종료시킨다고 생각하면 된다. 이 개념을 통해 특별한 상황에 따라 출력값을 내지 않고 함수를 종료시키는 방법이 있다. "
   ]
  },
  {
   "cell_type": "code",
   "execution_count": 23,
   "id": "5cebac19-3e67-47b0-b8b6-448e057d09b2",
   "metadata": {},
   "outputs": [
    {
     "name": "stdout",
     "output_type": "stream",
     "text": [
      "뭐해?\n"
     ]
    }
   ],
   "source": [
    "def hey(what):\n",
    "    if what == '네?':\n",
    "        print(\"뭐해?\")\n",
    "    elif what == '뭐?':\n",
    "        return\n",
    "\n",
    "hey('네?')\n",
    "hey('뭐?')"
   ]
  },
  {
   "cell_type": "markdown",
   "id": "0b5275d8-ee63-4f51-97c9-73e249b9f64a",
   "metadata": {},
   "source": [
    "#### 매개변수 초기값 미리 설정하기"
   ]
  },
  {
   "cell_type": "code",
   "execution_count": 25,
   "id": "7ff216d2-1062-46f2-9d81-0c6f282fec2b",
   "metadata": {},
   "outputs": [
    {
     "name": "stdout",
     "output_type": "stream",
     "text": [
      "나의 이름은 oldcar입니다.\n",
      "나의 나의는 27 입니다.\n",
      "남자입니다.\n"
     ]
    }
   ],
   "source": [
    "def say_myself(name, old, man=True):\n",
    "    print(f'나의 이름은 {name}입니다.')\n",
    "    print(f'나의 나의는 {old} 입니다.')\n",
    "    if man :\n",
    "        print('남자입니다.')\n",
    "    else :\n",
    "        print('여자입니다.')\n",
    "        \n",
    "say_myself('oldcar', 27)"
   ]
  },
  {
   "cell_type": "markdown",
   "id": "dca0dee1-57be-40d4-b059-671a4d35f760",
   "metadata": {},
   "source": [
    "say_myself 함수는 3개의 매개변수를 받는다. 이때 마지막 매개변수는 man으로 초기값이 미리 설정되어있다. 때문에 따로 성별을 작성하지 않는한 man이 자동으로 출력된다. "
   ]
  },
  {
   "cell_type": "code",
   "execution_count": 27,
   "id": "b5ec0b1c-f875-4f81-aa12-24b9d3826727",
   "metadata": {},
   "outputs": [
    {
     "name": "stdout",
     "output_type": "stream",
     "text": [
      "나의 이름은 oldcar입니다.\n",
      "나의 나의는 27 입니다.\n",
      "남자입니다.\n",
      "----------\n",
      "나의 이름은 oldcar입니다.\n",
      "나의 나의는 27 입니다.\n",
      "여자입니다.\n"
     ]
    }
   ],
   "source": [
    "say_myself('oldcar',27,True)\n",
    "print('-'*10)\n",
    "say_myself('oldcar',27,False)"
   ]
  },
  {
   "cell_type": "markdown",
   "id": "0e27177c-c95a-45d3-b8ac-2334cb588286",
   "metadata": {},
   "source": [
    "man변수가 True 혹은 False에 따른 출력 결과들이다. "
   ]
  },
  {
   "cell_type": "markdown",
   "id": "681bb03a-617c-49ba-a9d5-8a58e8efefca",
   "metadata": {},
   "source": [
    "`-` 만일 초기값 설정을 중간에 넣는다면 어떻게 될까?"
   ]
  },
  {
   "cell_type": "code",
   "execution_count": 28,
   "id": "63b455a8-f5ba-43b5-8323-194bf153aed4",
   "metadata": {},
   "outputs": [
    {
     "ename": "SyntaxError",
     "evalue": "non-default argument follows default argument (1210673076.py, line 1)",
     "output_type": "error",
     "traceback": [
      "\u001b[0;36m  Input \u001b[0;32mIn [28]\u001b[0;36m\u001b[0m\n\u001b[0;31m    def say_myself(name, man=True, old):\u001b[0m\n\u001b[0m                                      ^\u001b[0m\n\u001b[0;31mSyntaxError\u001b[0m\u001b[0;31m:\u001b[0m non-default argument follows default argument\n"
     ]
    }
   ],
   "source": [
    "def say_myself(name, man=True, old):\n",
    "    print(f'나의 이름은 {name}입니다.')\n",
    "    print(f'나의 나의는 {old} 입니다.')\n",
    "    if man :\n",
    "        print('남자입니다.')\n",
    "    else :\n",
    "        print('여자입니다.')\n",
    "        \n",
    "say_myself('oldcar', 27)"
   ]
  },
  {
   "cell_type": "markdown",
   "id": "0da4cd7b-6698-461c-ba3a-73d9a4bae292",
   "metadata": {},
   "source": [
    "위와 같이 함수를 호출한다면 27이란 인수를 man변수와 old변수 중 어느 곳에 대입해야 할지 모르게 된다. 따라서 오류가 난다. \n",
    "\n",
    "**따라서 매개변수의 초기값을 설정해 두고 싶다면 반드시 뒤쪽에 놓자!**"
   ]
  },
  {
   "cell_type": "markdown",
   "id": "43adf21d-bffd-4d3c-b3c4-5fd0e4b9447d",
   "metadata": {},
   "source": [
    "#### 함수 안에서 선언한 변수(지역변수!)"
   ]
  },
  {
   "cell_type": "markdown",
   "id": "1e312b37-59e8-4178-98b4-1a62cdd1b5fb",
   "metadata": {},
   "source": [
    "함수 안에서 사용할 변수의 이름을 함수 밖에서도 동일하게 사용한다면?"
   ]
  },
  {
   "cell_type": "code",
   "execution_count": 35,
   "id": "e582c6c7-31d3-44b8-904a-66d31d3cc26a",
   "metadata": {},
   "outputs": [
    {
     "name": "stdout",
     "output_type": "stream",
     "text": [
      "1\n"
     ]
    }
   ],
   "source": [
    "a = 1\n",
    "\n",
    "def vartest(a) :\n",
    "    a = a + 1\n",
    "\n",
    "vartest(a)\n",
    "print(a)"
   ]
  },
  {
   "cell_type": "markdown",
   "id": "63eaffdc-a998-4088-ba64-abeab9193c3e",
   "metadata": {},
   "source": [
    "언뜻보면 vartest 함수를 통해 a변수는 1이 더해져 2가 되어 출력되어야 한다.  \n",
    "하지만 자세히 들여다보면 당연히 1이 출력 될 수 밖에 없다. \n",
    "\n",
    "a는 전역변수로 함수 밖에서 선언이 되었다. 해당 변수는 함수에 인수로 들어가 함수 안 a라는 같은 이름의 지역변수에 계산되어진다.  \n",
    "지역변수 a는 2가 되지만 return문의 부재로 출력되진 않는다. \n",
    "\n",
    "따라서 함수 밖에선 a라는 전역변수는 그대로 1로 남아져 있는 것이다. \n",
    "\n",
    "*이와 관련해서는 향후 변수 공부에 전역변수와 지역변수를 따로 공부하여 업로드 할까한다.*"
   ]
  },
  {
   "cell_type": "code",
   "execution_count": 36,
   "id": "71b3dd13-ffaf-4cb4-a060-fc0094751409",
   "metadata": {},
   "outputs": [
    {
     "name": "stdout",
     "output_type": "stream",
     "text": [
      "1\n"
     ]
    }
   ],
   "source": [
    "# 더확실하게!\n",
    "\n",
    "a=1\n",
    "\n",
    "def vartest(a) :\n",
    "    a = a + 1\n",
    "    \n",
    "vartest(3)\n",
    "print(a)"
   ]
  },
  {
   "cell_type": "markdown",
   "id": "e24987c3-43df-408e-aa48-c6c0df3195a0",
   "metadata": {},
   "source": [
    "#### 함수 안에서 함수 밖의 변수를 변경하는 법"
   ]
  },
  {
   "cell_type": "code",
   "execution_count": 39,
   "id": "80753a31-eac8-4a81-9fbe-2cfd1fe70f71",
   "metadata": {},
   "outputs": [
    {
     "data": {
      "text/plain": [
       "2"
      ]
     },
     "execution_count": 39,
     "metadata": {},
     "output_type": "execute_result"
    }
   ],
   "source": [
    "# return 사용하기 \n",
    "\n",
    "a=1\n",
    "\n",
    "def vartest(a) :\n",
    "    a = a + 1\n",
    "    return a \n",
    "    \n",
    "vartest(a)"
   ]
  },
  {
   "cell_type": "markdown",
   "id": "fb816052-3157-47a5-8251-f6dd42b11608",
   "metadata": {},
   "source": [
    "return문으로 함수 안 지역변수를 출력한다. 언뜻보면 전역변수 a가 변화한 것 같지만 사실은 함수를 통해 지역변수 a가 전역변수 a로 다시 선언된 것이다."
   ]
  },
  {
   "cell_type": "code",
   "execution_count": 43,
   "id": "920c19c7-08b7-44c7-9aca-2cb0f8401881",
   "metadata": {},
   "outputs": [
    {
     "data": {
      "text/plain": [
       "2"
      ]
     },
     "execution_count": 43,
     "metadata": {},
     "output_type": "execute_result"
    }
   ],
   "source": [
    "# global 명령어 사용\n",
    "\n",
    "a=1\n",
    "\n",
    "def vartest() :\n",
    "    global a\n",
    "    a = a + 1\n",
    "\n",
    "vartest()\n",
    "a"
   ]
  },
  {
   "cell_type": "markdown",
   "id": "6e8c6bf0-ed0c-42e3-8e4c-1f5c46af3753",
   "metadata": {},
   "source": [
    "global 명령어를 사용하여 전역변수 a를 함수내로 소환한다. 다만 이 경우 a는 매개변수 명으로 사용할 수 없다. \n",
    "\n",
    "또한, global 함수는 다소 자제하는 편이 좋다. 함수는 독립적으로 존재하는 것이 좋기 때문에 외부 변수에 종속되면 오류가 발생할 가능성이 높다. "
   ]
  },
  {
   "cell_type": "markdown",
   "id": "07510d3a-b5b6-482a-9b49-855c2bcff11a",
   "metadata": {},
   "source": [
    "#### lambda"
   ]
  },
  {
   "cell_type": "markdown",
   "id": "acd61a19-c0dd-4f8b-a256-699c59565187",
   "metadata": {},
   "source": [
    "lambda는 함수를 생성할 때 사용하는 예약어 def와 동일한 역할을 한다. 함수를 한줄로 간결하게 만들 때 사용한다. \n",
    "\n",
    "> 기본 구조\n",
    "\n",
    "```python \n",
    "함수명 = lambda 매개변수1, 매개변수2, ... : 표현식 \n",
    "```\n",
    "\n",
    "$\\star$lambda는 return 명령어가 없어도 결과값을 반환한다. "
   ]
  },
  {
   "cell_type": "code",
   "execution_count": 45,
   "id": "7ea39dd3-9717-4b03-a991-f7c60cf9f6aa",
   "metadata": {},
   "outputs": [
    {
     "data": {
      "text/plain": [
       "7"
      ]
     },
     "execution_count": 45,
     "metadata": {},
     "output_type": "execute_result"
    }
   ],
   "source": [
    "add = lambda a,b : a + b\n",
    "add(3,4)"
   ]
  }
 ],
 "metadata": {
  "kernelspec": {
   "display_name": "Python 3 (ipykernel)",
   "language": "python",
   "name": "python3"
  },
  "language_info": {
   "codemirror_mode": {
    "name": "ipython",
    "version": 3
   },
   "file_extension": ".py",
   "mimetype": "text/x-python",
   "name": "python",
   "nbconvert_exporter": "python",
   "pygments_lexer": "ipython3",
   "version": "3.9.0"
  }
 },
 "nbformat": 4,
 "nbformat_minor": 5
}
