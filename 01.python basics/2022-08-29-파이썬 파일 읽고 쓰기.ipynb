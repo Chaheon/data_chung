{
 "cells": [
  {
   "cell_type": "markdown",
   "id": "24b7b693-7b7c-4899-90db-d37975bf8413",
   "metadata": {
    "tags": []
   },
   "source": [
    "## 파이썬 기초, 입*출력 프로세스"
   ]
  },
  {
   "cell_type": "markdown",
   "id": "aff6ead8-b510-4e50-9c2f-00bbfc329a11",
   "metadata": {},
   "source": [
    "`-` 함수, 사용자 입력과 출력, 파일 읽고 쓰기 "
   ]
  },
  {
   "cell_type": "markdown",
   "id": "95497430-25b9-411a-97f0-1d6d08605ea0",
   "metadata": {},
   "source": [
    "### 파일 읽고 쓰기 "
   ]
  },
  {
   "cell_type": "markdown",
   "id": "d0e32535-4a4e-4e61-b39a-468a77b9354b",
   "metadata": {},
   "source": [
    "단편적으로 공부를 하거나 ,, 작업을 수행하다보면 해당 프로그램 내에서만 데이터가 운영이되거나 사용자에게 직접 입력받은 값으로만 작업을 하지만 실제 작업에서는 여러군데(웹, 서버, 개인 자료 등) 수 많은 형식에 파일들을 통해 입출력을 하게 된다.  \n",
    "\n",
    "개인적으로 개념은 제일 간단하지만, 어떻게 보면 가장 중요한 것 중 하나라는 생각이 드는 기능이다. "
   ]
  },
  {
   "cell_type": "markdown",
   "id": "34fddd67-453b-4dd5-af84-2beb872342ee",
   "metadata": {},
   "source": [
    "#### 파일 생성하기"
   ]
  },
  {
   "cell_type": "code",
   "execution_count": 1,
   "id": "e948d13a-7087-48e8-a687-8cd0e3ebab8d",
   "metadata": {},
   "outputs": [],
   "source": [
    "f = open('newfile.txt', 'w')\n",
    "f.close()"
   ]
  },
  {
   "cell_type": "markdown",
   "id": "3d0bc246-b4d0-40be-9eda-2d12f99eb619",
   "metadata": {},
   "source": [
    "파일을 생성하기 위해 파일을 여는 파이썬 내장함수 `open`을 사용했다. \n",
    "\n",
    "open 함수는 '파일 이름'과 '파일 열기 모드'를 입력값으로 받고 결과값으로 파일 객체를 돌려준다. \n",
    "\n",
    "> 기본구조  \n",
    "파일 객체 = open(파일명, 파일 열기 모드)\n",
    "\n",
    "| 파일 열기 모드 | 설명 |\n",
    "| ------ | -----------------|\n",
    "|r| 읽기모드 - 파일을 읽기만 함|\n",
    "|w| 쓰기모드 - 파일에 내용을 쓸 때 사용 |\n",
    "|a| 추가모드 - 파일의 마지막에 새로운 내용 추가 |\n",
    "\n",
    "파일을 쓰기모드(W)로 열면 해당 파일이 존재할 경우 원래 있던 내용 모두 삭제, 해당 파일이 존재하지 않을 시 새로운 파일이 생성된다. 고치려면 추가모드(a)를 사용하도록\n",
    "\n",
    "`close`는 열려 있는 파일 객체를 닫아 주는 역할을 한다. 파이썬 프로그램을 닫으면 자동으로 닫히긴 하지만 파일을 다시 사용하려고 할 때 오류가 날 수 있으니 close를 해주는 것이 좋다. "
   ]
  },
  {
   "cell_type": "code",
   "execution_count": 7,
   "id": "4af68016-39ea-4b8f-b174-2f1199f878ef",
   "metadata": {},
   "outputs": [],
   "source": [
    "# 현재 디렉토리 외 다른 경로 파일 쓰고 닫기 \n",
    "\n",
    "f = open('/Users/oldcar/Documents/GitHub/Python/newfile.txt', 'w')\n",
    "f.close()"
   ]
  },
  {
   "cell_type": "markdown",
   "id": "86edf561-2539-4ccb-ba0f-5149f964b405",
   "metadata": {},
   "source": [
    "`-` 경로와 슬레시 \n",
    "\n",
    "파이썬 코드에서 파일 경로 표시 할 때 `'/Users/oldcar/Documents/GitHub/Python/newfile.txt'`처럼 슬레시(/)를 사용할 수 있다. 만일 역슬래시(\\)를 사용한다면 `'\\\\Users||oldcar ~'`처럼 2개를 사용하거나 `r'\\Users\\oldcar\\'`와 같이 문자열 앞에 r을 붙인다. 이는 이스케이프 문자 (\\n 등)로 인해 경로가 왜곡될 수도 있기 때문이다. "
   ]
  },
  {
   "cell_type": "markdown",
   "id": "e91e5b64-d445-46c7-9f2c-685bca2e5a97",
   "metadata": {},
   "source": [
    "#### 파일 쓰기 모드, 출력값 적기!"
   ]
  },
  {
   "cell_type": "markdown",
   "id": "23875a5e-ad8c-4b3a-a9d5-5898f86661c2",
   "metadata": {},
   "source": [
    "파일 열어봤으니 파일 안에 내용을 적어보자!"
   ]
  },
  {
   "cell_type": "code",
   "execution_count": 11,
   "id": "9f2cf8ff-1eda-41a9-932a-9acc1db12a4b",
   "metadata": {},
   "outputs": [],
   "source": [
    "f = open('newfile.txt', 'w')\n",
    "for i in range(1,11):\n",
    "    data = f'{i}번째 줄입니다. \\n'\n",
    "    f.write(data)\n",
    "f.close()"
   ]
  },
  {
   "cell_type": "code",
   "execution_count": 15,
   "id": "c18a277a-d93a-4db4-ba3d-7ea297d6ac3c",
   "metadata": {},
   "outputs": [
    {
     "name": "stdout",
     "output_type": "stream",
     "text": [
      "1번째 줄입니다. \n",
      " 2번째 줄입니다. \n",
      " 3번째 줄입니다. \n",
      " 4번째 줄입니다. \n",
      " 5번째 줄입니다. \n",
      " 6번째 줄입니다. \n",
      " 7번째 줄입니다. \n",
      " 8번째 줄입니다. \n",
      " 9번째 줄입니다. \n",
      " 10번째 줄입니다. \n",
      " "
     ]
    }
   ],
   "source": [
    "for i in range(1,11):\n",
    "    data = f'{i}번째 줄입니다. \\n'\n",
    "    print(data, end=' ')"
   ]
  },
  {
   "cell_type": "markdown",
   "id": "3f4c59d2-f065-4c18-ac2c-4fde08aba3fb",
   "metadata": {},
   "source": [
    "두 코드의 다른점은 data를 출력하는 방법이었다. print를 사용한 방법은 모니터 화면에 출력을 하는 것이고, write를 사용한 것은 파일에 결과값을 적는 방법이다. \n",
    "\n",
    "`write` 함수는 파일에 출력값을 적는 것이다!"
   ]
  },
  {
   "cell_type": "markdown",
   "id": "c06980a9-60e0-4929-ae4c-872b5c7c3c53",
   "metadata": {},
   "source": [
    "#### 파일 읽기"
   ]
  },
  {
   "cell_type": "markdown",
   "id": "d9ebf51c-1e1c-4e7e-b695-66fbc4c8beb4",
   "metadata": {},
   "source": [
    "파이썬에서 외부 파일을 읽는 방법은 여러가지가 있다. "
   ]
  },
  {
   "cell_type": "markdown",
   "id": "df278b88-907f-4b58-9ae3-2666ce13ccfc",
   "metadata": {},
   "source": [
    "##### readline 함수"
   ]
  },
  {
   "cell_type": "code",
   "execution_count": 17,
   "id": "ada3f70b-4b4a-4a76-8afe-ee305c9391b2",
   "metadata": {},
   "outputs": [
    {
     "name": "stdout",
     "output_type": "stream",
     "text": [
      "1번째 줄입니다. \n",
      "\n"
     ]
    }
   ],
   "source": [
    "f = open('newfile.txt', 'r')\n",
    "line = f.readline()\n",
    "print(line)\n",
    "f.close()"
   ]
  },
  {
   "cell_type": "markdown",
   "id": "cb44cc71-3d15-43a3-9aeb-0d18c3bae4cd",
   "metadata": {},
   "source": [
    "open 함수문으로 파일을 읽기 모드로 연 후 `readline()`을 사용하여 파일의 첫 줄을 읽어 출력하였다. "
   ]
  },
  {
   "cell_type": "code",
   "execution_count": 20,
   "id": "52786f4a-25d7-49c4-9e6a-0177cbca113f",
   "metadata": {
    "collapsed": true,
    "jupyter": {
     "outputs_hidden": true
    },
    "tags": []
   },
   "outputs": [
    {
     "name": "stdout",
     "output_type": "stream",
     "text": [
      "1번째 줄입니다. \n",
      "\n",
      "2번째 줄입니다. \n",
      "\n",
      "3번째 줄입니다. \n",
      "\n",
      "4번째 줄입니다. \n",
      "\n",
      "5번째 줄입니다. \n",
      "\n",
      "6번째 줄입니다. \n",
      "\n",
      "7번째 줄입니다. \n",
      "\n",
      "8번째 줄입니다. \n",
      "\n",
      "9번째 줄입니다. \n",
      "\n",
      "10번째 줄입니다. \n",
      "\n"
     ]
    }
   ],
   "source": [
    "# 모든 줄을 출력하는 방법 \n",
    "\n",
    "f = open('newfile.txt', 'r')\n",
    "\n",
    "while True:\n",
    "    line = f.readline()\n",
    "    if not line :  break\n",
    "    print(line)\n",
    "f.close()"
   ]
  },
  {
   "cell_type": "markdown",
   "id": "9a0c640d-d265-41ba-a4aa-a14c2de4b1f8",
   "metadata": {},
   "source": [
    "while True : 무한루프 안에서 f.readline()을 사용하여 파일을 계속 한 줄씩 읽어 들인다.   \n",
    "readline()은 더 이상 읽을 줄이 없다면 빈 문자열을 리턴한다.   \n",
    "따라서 break가 가능하다. "
   ]
  },
  {
   "cell_type": "markdown",
   "id": "fc0b81d2-1db0-4502-9825-0421090cf8b4",
   "metadata": {},
   "source": [
    "##### readlines 함수"
   ]
  },
  {
   "cell_type": "code",
   "execution_count": 2,
   "id": "b70bc9e8-8c5a-4aeb-a874-9a49a3ebf686",
   "metadata": {},
   "outputs": [
    {
     "name": "stdout",
     "output_type": "stream",
     "text": [
      "1번째 줄입니다.\n",
      "2번째 줄입니다.\n",
      "3번째 줄입니다.\n",
      "4번째 줄입니다.\n",
      "5번째 줄입니다.\n",
      "6번째 줄입니다.\n",
      "7번째 줄입니다.\n",
      "8번째 줄입니다.\n",
      "9번째 줄입니다.\n",
      "10번째 줄입니다.\n"
     ]
    }
   ],
   "source": [
    "f = open(\"newfile.txt\", 'r')\n",
    "lines = f.readlines()\n",
    "for line in lines:\n",
    "    line = line.strip()\n",
    "    print(line)\n",
    "f.close()"
   ]
  },
  {
   "cell_type": "markdown",
   "id": "61089149-e9fd-4331-92a0-5ed932295b31",
   "metadata": {},
   "source": [
    "readlines 함수는 파일의 모든 줄을 읽어 `각각의 줄`을 요소로 갖는 리스트로 반환한다.  \n",
    "따라서 lines의 리스트는 ['1번째 줄입니다.\\n', '2번째 줄입니다.\\n', ***]가 된다. \n",
    "\n",
    "만일 줄 바꿈`\\n`을 제거하고 싶다면! \n",
    "\n",
    "strip() 함수를 사용하자. 줄 바꿈 문자를 제거한다. "
   ]
  },
  {
   "cell_type": "markdown",
   "id": "6f3db079-6224-4c0b-b8f8-4b11b43fbc38",
   "metadata": {},
   "source": [
    "##### read함수 사용하기. "
   ]
  },
  {
   "cell_type": "code",
   "execution_count": 5,
   "id": "feec91c0-28d4-4294-bea0-486fd4d79825",
   "metadata": {},
   "outputs": [
    {
     "name": "stdout",
     "output_type": "stream",
     "text": [
      "1번째 줄입니다. \n",
      "2번째 줄입니다. \n",
      "3번째 줄입니다. \n",
      "4번째 줄입니다. \n",
      "5번째 줄입니다. \n",
      "6번째 줄입니다. \n",
      "7번째 줄입니다. \n",
      "8번째 줄입니다. \n",
      "9번째 줄입니다. \n",
      "10번째 줄입니다. \n",
      "\n"
     ]
    },
    {
     "data": {
      "text/plain": [
       "str"
      ]
     },
     "execution_count": 5,
     "metadata": {},
     "output_type": "execute_result"
    }
   ],
   "source": [
    "f = open('newfile.txt', 'r')\n",
    "data = f.read()\n",
    "print(data)\n",
    "f.close()\n",
    "\n",
    "type(data)"
   ]
  },
  {
   "cell_type": "markdown",
   "id": "86f808a9-bb39-4df6-b145-9f213843ee38",
   "metadata": {},
   "source": [
    "f.read() 함수는 파일의 내용 전체를 문자열로 돌려준다. "
   ]
  },
  {
   "cell_type": "markdown",
   "id": "be01e8e3-2a41-4978-9260-315283966921",
   "metadata": {},
   "source": [
    "#### 파일에 새로운 내용 추가하기. "
   ]
  },
  {
   "cell_type": "code",
   "execution_count": 9,
   "id": "5dfe5a70-b739-45ec-b8d2-eb50ad542a3b",
   "metadata": {},
   "outputs": [],
   "source": [
    "f = open('newfile.txt', 'a')\n",
    "\n",
    "for i in range(11,21):\n",
    "    data = '%d번째 줄입니다.\\n' % i\n",
    "    f.write(data)\n",
    "f.close()"
   ]
  },
  {
   "cell_type": "code",
   "execution_count": 12,
   "id": "a1f75d00-727b-4107-ae82-933ff986124c",
   "metadata": {
    "collapsed": true,
    "jupyter": {
     "outputs_hidden": true
    },
    "tags": []
   },
   "outputs": [
    {
     "name": "stdout",
     "output_type": "stream",
     "text": [
      "1번째 줄입니다.\n",
      "2번째 줄입니다.\n",
      "3번째 줄입니다.\n",
      "4번째 줄입니다.\n",
      "5번째 줄입니다.\n",
      "6번째 줄입니다.\n",
      "7번째 줄입니다.\n",
      "8번째 줄입니다.\n",
      "9번째 줄입니다.\n",
      "10번째 줄입니다.\n",
      "11번째 줄입니다.\n",
      "12번째 줄입니다.\n",
      "13번째 줄입니다.\n",
      "14번째 줄입니다.\n",
      "15번째 줄입니다.\n",
      "16번째 줄입니다.\n",
      "17번째 줄입니다.\n",
      "18번째 줄입니다.\n",
      "19번째 줄입니다.\n",
      "20번째 줄입니다.\n"
     ]
    }
   ],
   "source": [
    "f = open('newfile.txt', 'r')\n",
    "lines = f.readlines()\n",
    "\n",
    "for line in lines:\n",
    "    line = line.strip()\n",
    "    print(line)\n",
    "\n",
    "f.close()"
   ]
  },
  {
   "cell_type": "markdown",
   "id": "b1288f54-3c15-445e-b3e7-ab1631457857",
   "metadata": {},
   "source": [
    "open 함수의 'a' 내용추가모드로 기존에 있던 newfile 메모에 내용을 추가했다.  \n",
    "이때 `write` 함수를 사용했다. "
   ]
  },
  {
   "cell_type": "markdown",
   "id": "9de421e3-0401-4e48-91fe-88a204375c2b",
   "metadata": {},
   "source": [
    "#### with문 사용하기."
   ]
  },
  {
   "cell_type": "markdown",
   "id": "856ac4f6-a9da-436b-a691-d7ed7ed9fecc",
   "metadata": {},
   "source": [
    "지금까지 open과 close를 통해 파일을 읽고 닫았다. 이 점에 대해 다소 불편함을 느낀 개발자들이 있었는지  \n",
    "`with문`을 만들었다. "
   ]
  },
  {
   "cell_type": "code",
   "execution_count": 13,
   "id": "183a8dd4-62b2-4c9f-b757-2981ffe7e825",
   "metadata": {},
   "outputs": [],
   "source": [
    "f = open('foo.txt', 'w')\n",
    "f.write('oldcar is happy')\n",
    "f.close()"
   ]
  },
  {
   "cell_type": "code",
   "execution_count": 14,
   "id": "cf0a1447-7b35-4521-afdf-4aa05f6ecd68",
   "metadata": {},
   "outputs": [],
   "source": [
    "# with문\n",
    "\n",
    "with open('foo.txt', 'w') as f:\n",
    "    f.write('oldcar is happy')"
   ]
  },
  {
   "cell_type": "markdown",
   "id": "338d59a9-dc70-487a-aac0-c1024f81c78d",
   "metadata": {},
   "source": [
    "두 코드 모두 동일한 출력값을 만든다. with가 더 간단한 것 같다.  \n",
    "코드는 간단한게 최고라고 한다! "
   ]
  }
 ],
 "metadata": {
  "kernelspec": {
   "display_name": "Python 3 (ipykernel)",
   "language": "python",
   "name": "python3"
  },
  "language_info": {
   "codemirror_mode": {
    "name": "ipython",
    "version": 3
   },
   "file_extension": ".py",
   "mimetype": "text/x-python",
   "name": "python",
   "nbconvert_exporter": "python",
   "pygments_lexer": "ipython3",
   "version": "3.9.0"
  }
 },
 "nbformat": 4,
 "nbformat_minor": 5
}
