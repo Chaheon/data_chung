{
 "cells": [
  {
   "cell_type": "markdown",
   "id": "working-ebony",
   "metadata": {},
   "source": [
    ": 연속 / , 따로 / * 모든 "
   ]
  },
  {
   "cell_type": "code",
   "execution_count": 1,
   "id": "boolean-tenant",
   "metadata": {},
   "outputs": [
    {
     "name": "stdout",
     "output_type": "stream",
     "text": [
      "python is difficult\n"
     ]
    }
   ],
   "source": [
    "print(f'python is difficult')"
   ]
  },
  {
   "cell_type": "markdown",
   "id": "outdoor-likelihood",
   "metadata": {},
   "source": [
    "문자열을 출력할 때 변수를 넣어서 출력하고 싶을때 포매팅을 쓴다. "
   ]
  },
  {
   "cell_type": "code",
   "execution_count": 4,
   "id": "mediterranean-engineer",
   "metadata": {},
   "outputs": [
    {
     "name": "stdout",
     "output_type": "stream",
     "text": [
      "my name is hong age = 20\n",
      "age = 24\n"
     ]
    }
   ],
   "source": [
    "age = 20 \n",
    "name = 'hong'\n",
    "\n",
    "print(f'my name is {name} age = {age}')\n",
    "print(f'age = {age + 4}')"
   ]
  },
  {
   "cell_type": "code",
   "execution_count": 24,
   "id": "metropolitan-field",
   "metadata": {},
   "outputs": [
    {
     "name": "stdout",
     "output_type": "stream",
     "text": [
      "실수 3.14 정수 1\n"
     ]
    }
   ],
   "source": [
    "print('실수 {} 정수 {}' .format(3.14, 1))"
   ]
  },
  {
   "cell_type": "markdown",
   "id": "nuclear-return",
   "metadata": {},
   "source": [
    "`-` 문자열 함수 중요"
   ]
  },
  {
   "cell_type": "code",
   "execution_count": 12,
   "id": "passing-classification",
   "metadata": {},
   "outputs": [
    {
     "data": {
      "text/plain": [
       "True"
      ]
     },
     "execution_count": 12,
     "metadata": {},
     "output_type": "execute_result"
    }
   ],
   "source": [
    "bool('') # 문자가 없으면 거짓, 스페이스바라도 있으면 참 \n",
    "bool(-1) # 0이외엔 모두 참"
   ]
  },
  {
   "cell_type": "markdown",
   "id": "reduced-obligation",
   "metadata": {},
   "source": [
    "### 변수 선언 할때 지정된 메모리를 찾아 선언된다. \n",
    " - 메모리를 더 효율적으로 사용할 수 있다. "
   ]
  },
  {
   "cell_type": "code",
   "execution_count": 14,
   "id": "preceding-antarctica",
   "metadata": {},
   "outputs": [],
   "source": [
    "a=1\n",
    "b=a\n",
    "c=[1,2,3]\n",
    "d= a+1"
   ]
  },
  {
   "cell_type": "code",
   "execution_count": 20,
   "id": "specified-warrant",
   "metadata": {},
   "outputs": [
    {
     "name": "stdout",
     "output_type": "stream",
     "text": [
      "140735019038528\n",
      "140735019038528\n",
      "2053028278080\n",
      "140735019038560\n"
     ]
    }
   ],
   "source": [
    "print(id(a))\n",
    "print(id(b))\n",
    "print(id(c))\n",
    "print(id(d))"
   ]
  },
  {
   "cell_type": "markdown",
   "id": "illegal-celebration",
   "metadata": {},
   "source": [
    "### if, elif, else <조건문> \n",
    "\n",
    "not x  <= x가 거짓이면 참이다. \n",
    "in 리스트, 튜플, 문자열, 딕셔너리 <= 있느냐 없느냐?!\n",
    "\n",
    "elif는 위에 조건이 모두 거짓인 경우 실행되는것!"
   ]
  },
  {
   "cell_type": "code",
   "execution_count": 26,
   "id": "offensive-morocco",
   "metadata": {},
   "outputs": [
    {
     "name": "stdin",
     "output_type": "stream",
     "text": [
      "찾는 물건은:  paper\n"
     ]
    },
    {
     "name": "stdout",
     "output_type": "stream",
     "text": [
      "찾는 물건 있어요\n"
     ]
    }
   ],
   "source": [
    "ob = input('찾는 물건은: ')\n",
    "a = ['paper', 'coin', 'phone']\n",
    "\n",
    "if ob in a :\n",
    "    print('찾는 물건 있어요')\n",
    "else:\n",
    "    print('찾는 물건 없어요')\n"
   ]
  },
  {
   "cell_type": "markdown",
   "id": "successful-diana",
   "metadata": {},
   "source": [
    "실습문제 점수를 입력 받아서 90점 이상이면 a , 80점 이상이면 B "
   ]
  },
  {
   "cell_type": "code",
   "execution_count": 31,
   "id": "hawaiian-penetration",
   "metadata": {},
   "outputs": [
    {
     "name": "stdin",
     "output_type": "stream",
     "text": [
      " 45\n"
     ]
    },
    {
     "name": "stdout",
     "output_type": "stream",
     "text": [
      "F\n"
     ]
    }
   ],
   "source": [
    "score = int(input())\n",
    "\n",
    "if score >= 90:\n",
    "    print('A')\n",
    "elif score >= 80:\n",
    "    print('B')\n",
    "elif score >= 70:\n",
    "    print('C')\n",
    "else:\n",
    "    print('F')"
   ]
  },
  {
   "cell_type": "code",
   "execution_count": 2,
   "id": "married-spain",
   "metadata": {},
   "outputs": [
    {
     "name": "stdout",
     "output_type": "stream",
     "text": [
      "1 번 출력되었습니다.\n",
      "2 번 출력되었습니다.\n",
      "3 번 출력되었습니다.\n",
      "4 번 출력되었습니다.\n",
      "5 번 출력되었습니다.\n",
      "6 번 출력되었습니다.\n",
      "7 번 출력되었습니다.\n",
      "8 번 출력되었습니다.\n",
      "9 번 출력되었습니다.\n",
      "10 번 출력되었습니다.\n"
     ]
    }
   ],
   "source": [
    "i = 1\n",
    "while i <= 10:\n",
    "    print(i, '번 출력되었습니다.')\n",
    "    i = i + 1"
   ]
  },
  {
   "cell_type": "markdown",
   "id": "every-recorder",
   "metadata": {},
   "source": [
    "range(처음, 끝, 건너뛰기)"
   ]
  },
  {
   "cell_type": "code",
   "execution_count": 8,
   "id": "iraqi-telephone",
   "metadata": {},
   "outputs": [
    {
     "name": "stdout",
     "output_type": "stream",
     "text": [
      "0 1 2 3 4 5 6 7 8 9 "
     ]
    }
   ],
   "source": [
    "for i in range(10):\n",
    "    print(i, end = \" \") # 이런식으로 end= \" \" 줄바꿈을 안하게 출력됨"
   ]
  },
  {
   "cell_type": "code",
   "execution_count": 10,
   "id": "growing-commissioner",
   "metadata": {},
   "outputs": [
    {
     "data": {
      "text/plain": [
       "79.0"
      ]
     },
     "execution_count": 10,
     "metadata": {},
     "output_type": "execute_result"
    }
   ],
   "source": [
    "a = [70,60,55,75,95,90,80,80,85,100]\n",
    "\n",
    "sum = 0\n",
    "\n",
    "for i in a:\n",
    "       sum = sum + i\n",
    "\n",
    "sum / len(a)"
   ]
  },
  {
   "cell_type": "markdown",
   "id": "written-massage",
   "metadata": {},
   "source": [
    "### 입력값의 갯수를 모를때 *매개변수를 사용한다. "
   ]
  },
  {
   "cell_type": "code",
   "execution_count": 11,
   "id": "great-storage",
   "metadata": {},
   "outputs": [],
   "source": [
    "def add_many(*args): # *모든, args = arguments 꼭 args일 필요는 없음\n",
    "    result = 0 \n",
    "    for i in args:\n",
    "        result = result + i \n",
    "    return result"
   ]
  },
  {
   "cell_type": "code",
   "execution_count": 13,
   "id": "recent-arrest",
   "metadata": {},
   "outputs": [
    {
     "name": "stdout",
     "output_type": "stream",
     "text": [
      "15\n"
     ]
    }
   ],
   "source": [
    "sum = add_many(1,2,3,4,5)\n",
    "print(sum)"
   ]
  },
  {
   "cell_type": "markdown",
   "id": "reduced-arrival",
   "metadata": {},
   "source": [
    "args는 무엇일까?\n",
    "\n",
    "튜플!"
   ]
  },
  {
   "cell_type": "markdown",
   "id": "blessed-brush",
   "metadata": {},
   "source": [
    "함수에서 return 을 받을 때 값은 튜플로 나온다. "
   ]
  },
  {
   "cell_type": "markdown",
   "id": "abroad-profession",
   "metadata": {},
   "source": [
    "* 함수에서 매개변수를 선언할때 고정값을 넣어야 한다면 무조건 맨 끝에 입력해야한다. "
   ]
  },
  {
   "cell_type": "markdown",
   "id": "coastal-personal",
   "metadata": {},
   "source": [
    "### 파일 읽고 쓰기 "
   ]
  },
  {
   "cell_type": "code",
   "execution_count": 14,
   "id": "confident-papua",
   "metadata": {},
   "outputs": [],
   "source": [
    "f = open(\"0629.txt\",\"w\")\n",
    "f.close()"
   ]
  },
  {
   "cell_type": "markdown",
   "id": "joint-settle",
   "metadata": {},
   "source": [
    "파일 읽고 쓰기 문제 "
   ]
  },
  {
   "cell_type": "code",
   "execution_count": 33,
   "id": "white-healthcare",
   "metadata": {},
   "outputs": [],
   "source": [
    "score = open('score.txt', 'w')\n",
    "\n",
    "data = [70,60,55,75,95,90,80,80,85,100]\n",
    "\n",
    "for i in data:\n",
    "    a = '{} \\n' .format(i)\n",
    "    score.write(a)\n",
    "\n",
    "score.close()"
   ]
  },
  {
   "cell_type": "code",
   "execution_count": 3,
   "id": "familiar-tension",
   "metadata": {},
   "outputs": [
    {
     "data": {
      "text/plain": [
       "['70 \\n',\n",
       " '60 \\n',\n",
       " '55 \\n',\n",
       " '75 \\n',\n",
       " '95 \\n',\n",
       " '90 \\n',\n",
       " '80 \\n',\n",
       " '80 \\n',\n",
       " '85 \\n',\n",
       " '100 \\n']"
      ]
     },
     "execution_count": 3,
     "metadata": {},
     "output_type": "execute_result"
    }
   ],
   "source": [
    "score = open('score.txt','r')\n",
    "\n",
    "\n",
    "\n",
    "for i in range(10):\n",
    "    a = a + score.readlines()\n",
    "\n",
    "a"
   ]
  },
  {
   "cell_type": "code",
   "execution_count": 17,
   "id": "young-shark",
   "metadata": {},
   "outputs": [
    {
     "data": {
      "text/plain": [
       "'[70, 60, 55, 75, 95, 90, 80, 80, 85, 100]'"
      ]
     },
     "execution_count": 17,
     "metadata": {},
     "output_type": "execute_result"
    }
   ],
   "source": [
    "score.write(data)"
   ]
  },
  {
   "cell_type": "code",
   "execution_count": 1,
   "id": "leading-commitment",
   "metadata": {},
   "outputs": [
    {
     "data": {
      "text/plain": [
       "7"
      ]
     },
     "execution_count": 1,
     "metadata": {},
     "output_type": "execute_result"
    }
   ],
   "source": [
    "score=[70,60,55,75,95,90,80,80,85,100]\n",
    "with open(\"score.txt\", 'w') as f:  # with는 open과 close가 동시에 된다. \n",
    "    \n",
    "    for i in score:\n",
    "        a = '{} \\n' .format(i)\n",
    "        f.write(a)\n",
    "\n",
    "with open('score.txt','r') as f:\n",
    "    data = f.read()\n",
    "\n",
    "a = int(data[0:1])\n",
    "a\n",
    "#a = data[1,2,6,7,11,12,16,17,21,22,26,27,31,32,36,37,41,42,46,47].split(',')\n",
    "    \n",
    "#data = list(map(int, data[1,2,6,7,11,12,16,17,21,22,26,27,31,32,36,37,41,42,46,47].split(',')))\n",
    "\n",
    "#data = list(map(int,data[1:-1].split(\", \")))\n",
    "#print(data)\n",
    "\n",
    "#total = 0 \n",
    "\n",
    "#for i in data:\n",
    "#    total += i \n",
    "    \n",
    "#print(total/len(data))"
   ]
  },
  {
   "cell_type": "code",
   "execution_count": 5,
   "id": "romantic-works",
   "metadata": {},
   "outputs": [
    {
     "data": {
      "text/plain": [
       "'7'"
      ]
     },
     "execution_count": 5,
     "metadata": {},
     "output_type": "execute_result"
    }
   ],
   "source": [
    "score=[70,60,55,75,95,90,80,80,85,100] # 이걸 넣어놓고 출력하기 한 뒤 평균 구하기\n",
    "\n",
    "f = open('score.txt','w')\n",
    "f.write(str(score))\n",
    "f.close()\n",
    "\n",
    "f = open('score.txt','r')\n",
    "data = f.read()\n",
    "\n",
    "\n",
    "int(data[1:-1].split(',')\n"
   ]
  },
  {
   "cell_type": "code",
   "execution_count": null,
   "id": "medium-stack",
   "metadata": {},
   "outputs": [],
   "source": [
    "score=[70,60,55,75,95,90,80,80,85,100]\n",
    "with open(\"score.txt\", 'w') as f:\n",
    "    f.write(str(score))\n",
    "\n",
    "with open('score.txt','r') as f:\n",
    "    data = f.read()\n",
    "    \n",
    "\n",
    "data = list(map(int,data[1:-1].split(\", \")))\n",
    "print(data)\n",
    "\n",
    "total = 0 \n",
    "\n",
    "for i in data:\n",
    "    total += i \n",
    "    \n",
    "print(total/len(data))"
   ]
  }
 ],
 "metadata": {
  "kernelspec": {
   "display_name": "Python 3",
   "language": "python",
   "name": "python3"
  },
  "language_info": {
   "codemirror_mode": {
    "name": "ipython",
    "version": 3
   },
   "file_extension": ".py",
   "mimetype": "text/x-python",
   "name": "python",
   "nbconvert_exporter": "python",
   "pygments_lexer": "ipython3",
   "version": "3.8.8"
  }
 },
 "nbformat": 4,
 "nbformat_minor": 5
}
