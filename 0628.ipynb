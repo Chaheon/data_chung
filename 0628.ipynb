{
 "cells": [
  {
   "cell_type": "code",
   "execution_count": 12,
   "id": "acceptable-scale",
   "metadata": {},
   "outputs": [],
   "source": [
    "import numpy as np\n",
    "import pandas as pd"
   ]
  },
  {
   "cell_type": "markdown",
   "id": "thrown-fitting",
   "metadata": {},
   "source": [
    "#### 딕셔너리 기반 포매팅 (F포매팅 공부)"
   ]
  },
  {
   "cell_type": "markdown",
   "id": "acting-huntington",
   "metadata": {},
   "source": [
    "`-` 예제1 "
   ]
  },
  {
   "cell_type": "code",
   "execution_count": 66,
   "id": "built-borough",
   "metadata": {},
   "outputs": [
    {
     "data": {
      "text/plain": [
       "'여기 짜장면 1개, 짬뽕 1개 주문이요'"
      ]
     },
     "execution_count": 66,
     "metadata": {},
     "output_type": "execute_result"
    }
   ],
   "source": [
    "'여기 %(food1)s 1개, %(food2)s 1개 주문이요' % {'food1':'짜장면','food2':'짬뽕'}"
   ]
  },
  {
   "cell_type": "code",
   "execution_count": 70,
   "id": "tired-excess",
   "metadata": {},
   "outputs": [
    {
     "data": {
      "text/plain": [
       "'여기 짜장면 1개, 짬뽕 1개 주문이요, 아.. 아니다. 짜장면은 취소하고 그냥 짬뽕 두개 주세요'"
      ]
     },
     "execution_count": 70,
     "metadata": {},
     "output_type": "execute_result"
    }
   ],
   "source": [
    "'여기 %(food1)s 1개, %(food2)s 1개 주문이요, 아.. 아니다. %(food1)s은 취소하고 그냥 %(food2)s 두개 주세요' % {'food1':'짜장면','food2':'짬뽕'}"
   ]
  },
  {
   "cell_type": "markdown",
   "id": "flexible-standing",
   "metadata": {},
   "source": [
    "`-` 예제2"
   ]
  },
  {
   "cell_type": "code",
   "execution_count": 83,
   "id": "typical-commodity",
   "metadata": {},
   "outputs": [],
   "source": [
    "mail='%(studentname)s 학생 안녕하세요\\n저는 통계학과 최규빈 교수 입니다.\\n전공설계과목 지침에 따라 %(studentname)s학생과 2회 상담을 실시해야 합니다.\\n저는 %(day)s에 시간이 괜찮은데 %(studentname)s 학생도 그날 시간이 괜찮을까요?\\n' "
   ]
  },
  {
   "cell_type": "code",
   "execution_count": 84,
   "id": "generic-leeds",
   "metadata": {},
   "outputs": [
    {
     "name": "stdout",
     "output_type": "stream",
     "text": [
      "박혜원 학생 안녕하세요\n",
      "저는 통계학과 최규빈 교수 입니다.\n",
      "전공설계과목 지침에 따라 박혜원학생과 2회 상담을 실시해야 합니다.\n",
      "저는 5월31일에 시간이 괜찮은데 박혜원 학생도 그날 시간이 괜찮을까요?\n",
      "\n"
     ]
    }
   ],
   "source": [
    "print(mail % {'studentname':'박혜원', 'day':'5월31일'})"
   ]
  },
  {
   "cell_type": "code",
   "execution_count": 36,
   "id": "palestinian-procedure",
   "metadata": {},
   "outputs": [
    {
     "ename": "SyntaxError",
     "evalue": "invalid syntax (<ipython-input-36-c99f176e54d7>, line 1)",
     "output_type": "error",
     "traceback": [
      "\u001b[1;36m  File \u001b[1;32m\"<ipython-input-36-c99f176e54d7>\"\u001b[1;36m, line \u001b[1;32m1\u001b[0m\n\u001b[1;33m    print(f'나의 이름은 {studentname}입니다. 나이는 {age}입니다.' .format{'studentname':'박혜원', 'day':'5월31일'})\u001b[0m\n\u001b[1;37m                                                           ^\u001b[0m\n\u001b[1;31mSyntaxError\u001b[0m\u001b[1;31m:\u001b[0m invalid syntax\n"
     ]
    }
   ],
   "source": [
    "print(f'나의 이름은 {studentname}입니다. 나이는 {age}입니다.' .format{'studentname':'박혜원', 'day':'5월31일'})"
   ]
  },
  {
   "cell_type": "markdown",
   "id": "equivalent-companion",
   "metadata": {},
   "source": [
    "### java 객체 -> 매소드 / C -> 함수 "
   ]
  },
  {
   "cell_type": "code",
   "execution_count": 39,
   "id": "optimum-competition",
   "metadata": {},
   "outputs": [],
   "source": [
    "str1 = 'python is good language !!!'"
   ]
  },
  {
   "cell_type": "code",
   "execution_count": 44,
   "id": "governmental-championship",
   "metadata": {},
   "outputs": [
    {
     "data": {
      "text/plain": [
       "7"
      ]
     },
     "execution_count": 44,
     "metadata": {},
     "output_type": "execute_result"
    }
   ],
   "source": [
    "str1.find('is')"
   ]
  },
  {
   "cell_type": "code",
   "execution_count": 45,
   "id": "rising-climate",
   "metadata": {},
   "outputs": [
    {
     "data": {
      "text/plain": [
       "13"
      ]
     },
     "execution_count": 45,
     "metadata": {},
     "output_type": "execute_result"
    }
   ],
   "source": [
    "str1.find('d')"
   ]
  },
  {
   "cell_type": "code",
   "execution_count": 49,
   "id": "complex-prefix",
   "metadata": {},
   "outputs": [
    {
     "ename": "ValueError",
     "evalue": "substring not found",
     "output_type": "error",
     "traceback": [
      "\u001b[1;31m---------------------------------------------------------------------------\u001b[0m",
      "\u001b[1;31mValueError\u001b[0m                                Traceback (most recent call last)",
      "\u001b[1;32m<ipython-input-49-2eb05a13b68f>\u001b[0m in \u001b[0;36m<module>\u001b[1;34m\u001b[0m\n\u001b[1;32m----> 1\u001b[1;33m \u001b[0mstr1\u001b[0m\u001b[1;33m.\u001b[0m\u001b[0mindex\u001b[0m\u001b[1;33m(\u001b[0m\u001b[1;34m'f'\u001b[0m\u001b[1;33m)\u001b[0m \u001b[1;31m#에러가 뜨면 ,, 예외처리할 수도 있음 ,,\u001b[0m\u001b[1;33m\u001b[0m\u001b[1;33m\u001b[0m\u001b[0m\n\u001b[0m",
      "\u001b[1;31mValueError\u001b[0m: substring not found"
     ]
    }
   ],
   "source": [
    "str1.index('f') #에러가 뜨면 ,, 예외처리할 수도 있음 ,, "
   ]
  },
  {
   "cell_type": "markdown",
   "id": "matched-lancaster",
   "metadata": {},
   "source": [
    "replace() 함수와 // split() 함수는 중요하다. "
   ]
  },
  {
   "cell_type": "code",
   "execution_count": 56,
   "id": "valid-estonia",
   "metadata": {},
   "outputs": [
    {
     "name": "stdout",
     "output_type": "stream",
     "text": [
      "my name\n"
     ]
    }
   ],
   "source": [
    "print('my','name')"
   ]
  },
  {
   "cell_type": "code",
   "execution_count": 61,
   "id": "velvet-undergraduate",
   "metadata": {},
   "outputs": [
    {
     "name": "stdout",
     "output_type": "stream",
     "text": [
      "Hello \n",
      "World\n"
     ]
    }
   ],
   "source": [
    "print('Hello \\nWorld')"
   ]
  },
  {
   "cell_type": "code",
   "execution_count": 1,
   "id": "visible-pregnancy",
   "metadata": {},
   "outputs": [
    {
     "name": "stdin",
     "output_type": "stream",
     "text": [
      "이름과 나이입력: 김차헌 26\n"
     ]
    }
   ],
   "source": [
    "name, age = input('이름과 나이입력:').split()"
   ]
  },
  {
   "cell_type": "code",
   "execution_count": 6,
   "id": "ancient-nerve",
   "metadata": {},
   "outputs": [
    {
     "name": "stdin",
     "output_type": "stream",
     "text": [
      "나이, 학년 (정수입력하시오): 2 4\n"
     ]
    },
    {
     "ename": "ValueError",
     "evalue": "invalid literal for int() with base 10: ' '",
     "output_type": "error",
     "traceback": [
      "\u001b[1;31m---------------------------------------------------------------------------\u001b[0m",
      "\u001b[1;31mValueError\u001b[0m                                Traceback (most recent call last)",
      "\u001b[1;32m<ipython-input-6-938778d5ff03>\u001b[0m in \u001b[0;36m<module>\u001b[1;34m\u001b[0m\n\u001b[1;32m----> 1\u001b[1;33m \u001b[0mage\u001b[0m\u001b[1;33m,\u001b[0m \u001b[0mgrade\u001b[0m \u001b[1;33m=\u001b[0m \u001b[0mmap\u001b[0m\u001b[1;33m(\u001b[0m\u001b[0mint\u001b[0m\u001b[1;33m,\u001b[0m \u001b[0minput\u001b[0m\u001b[1;33m(\u001b[0m\u001b[1;34m'나이, 학년 (정수입력하시오):'\u001b[0m\u001b[1;33m)\u001b[0m\u001b[1;33m)\u001b[0m\u001b[1;33m\u001b[0m\u001b[1;33m\u001b[0m\u001b[0m\n\u001b[0m",
      "\u001b[1;31mValueError\u001b[0m: invalid literal for int() with base 10: ' '"
     ]
    }
   ],
   "source": [
    "age, grade = map(int, input('나이, 학년 (정수입력하시오):').split())"
   ]
  },
  {
   "cell_type": "code",
   "execution_count": 4,
   "id": "primary-analysis",
   "metadata": {},
   "outputs": [
    {
     "data": {
      "text/plain": [
       "2"
      ]
     },
     "execution_count": 4,
     "metadata": {},
     "output_type": "execute_result"
    }
   ],
   "source": [
    "age"
   ]
  },
  {
   "cell_type": "code",
   "execution_count": 5,
   "id": "internal-syracuse",
   "metadata": {},
   "outputs": [
    {
     "data": {
      "text/plain": [
       "int"
      ]
     },
     "execution_count": 5,
     "metadata": {},
     "output_type": "execute_result"
    }
   ],
   "source": [
    "type(age)"
   ]
  },
  {
   "cell_type": "code",
   "execution_count": 8,
   "id": "exciting-potential",
   "metadata": {},
   "outputs": [
    {
     "name": "stdin",
     "output_type": "stream",
     "text": [
      " dfd\n"
     ]
    },
    {
     "data": {
      "text/plain": [
       "<map at 0x154d96be520>"
      ]
     },
     "execution_count": 8,
     "metadata": {},
     "output_type": "execute_result"
    }
   ],
   "source": [
    "map(int, input())"
   ]
  },
  {
   "cell_type": "code",
   "execution_count": 9,
   "id": "painful-worship",
   "metadata": {},
   "outputs": [
    {
     "name": "stdout",
     "output_type": "stream",
     "text": [
      "\"!@#$%^&*()'\n"
     ]
    }
   ],
   "source": [
    "print(\"\\\"!@#$%^&*()'\")"
   ]
  },
  {
   "cell_type": "code",
   "execution_count": 11,
   "id": "selected-pepper",
   "metadata": {},
   "outputs": [
    {
     "name": "stdout",
     "output_type": "stream",
     "text": [
      "\"C:\\Download\\'hello'.py\"\n"
     ]
    }
   ],
   "source": [
    "print('\"C:\\\\Download\\\\\\'hello\\'.py\"')"
   ]
  },
  {
   "cell_type": "code",
   "execution_count": 12,
   "id": "dependent-chase",
   "metadata": {},
   "outputs": [
    {
     "name": "stdout",
     "output_type": "stream",
     "text": [
      "Hello\n",
      "World\n"
     ]
    }
   ],
   "source": [
    "print(\"Hello\\nWorld\")"
   ]
  },
  {
   "cell_type": "code",
   "execution_count": 14,
   "id": "sexual-clearing",
   "metadata": {},
   "outputs": [
    {
     "name": "stdout",
     "output_type": "stream",
     "text": [
      "print(\"Hello\\nWorld\")\n"
     ]
    }
   ],
   "source": [
    "print('print(\"Hello\\\\nWorld\")')"
   ]
  },
  {
   "cell_type": "code",
   "execution_count": 15,
   "id": "global-sitting",
   "metadata": {},
   "outputs": [
    {
     "name": "stdin",
     "output_type": "stream",
     "text": [
      " a\n"
     ]
    },
    {
     "name": "stdout",
     "output_type": "stream",
     "text": [
      "a\n"
     ]
    }
   ],
   "source": [
    "a = input()\n",
    "print(a)"
   ]
  },
  {
   "cell_type": "code",
   "execution_count": 17,
   "id": "freelance-mortality",
   "metadata": {},
   "outputs": [
    {
     "name": "stdin",
     "output_type": "stream",
     "text": [
      " 15\n"
     ]
    },
    {
     "name": "stdout",
     "output_type": "stream",
     "text": [
      "15\n"
     ]
    }
   ],
   "source": [
    "n = int(input())\n",
    "\n",
    "print(n)"
   ]
  },
  {
   "cell_type": "code",
   "execution_count": 28,
   "id": "applicable-pension",
   "metadata": {},
   "outputs": [
    {
     "name": "stdin",
     "output_type": "stream",
     "text": [
      " a\n",
      " b\n"
     ]
    },
    {
     "name": "stdout",
     "output_type": "stream",
     "text": [
      "b\n",
      "a\n"
     ]
    }
   ],
   "source": [
    "a = str(input())\n",
    "b = str(input())\n",
    "\n",
    "\n",
    "print(b)\n",
    "print(a)"
   ]
  },
  {
   "cell_type": "code",
   "execution_count": 25,
   "id": "qualified-element",
   "metadata": {},
   "outputs": [
    {
     "name": "stdout",
     "output_type": "stream",
     "text": [
      "1 1 2\n"
     ]
    }
   ],
   "source": [
    "print(b,a)"
   ]
  },
  {
   "cell_type": "code",
   "execution_count": 30,
   "id": "superior-anniversary",
   "metadata": {},
   "outputs": [
    {
     "name": "stdin",
     "output_type": "stream",
     "text": [
      " 1.5\n"
     ]
    },
    {
     "name": "stdout",
     "output_type": "stream",
     "text": [
      "1.5\n"
     ]
    }
   ],
   "source": [
    "f = float(input())\n",
    "\n",
    "print(f,f,f, sep = '\\n')"
   ]
  },
  {
   "cell_type": "code",
   "execution_count": 2,
   "id": "instructional-banana",
   "metadata": {},
   "outputs": [
    {
     "name": "stdin",
     "output_type": "stream",
     "text": [
      " a b\n"
     ]
    },
    {
     "name": "stdout",
     "output_type": "stream",
     "text": [
      "b\n",
      "a\n"
     ]
    }
   ],
   "source": [
    "a, b = map(str, input().split())\n",
    "\n",
    "print(b,a, sep = '\\n')"
   ]
  },
  {
   "cell_type": "code",
   "execution_count": 3,
   "id": "laughing-spider",
   "metadata": {},
   "outputs": [
    {
     "name": "stdin",
     "output_type": "stream",
     "text": [
      " 3 : 14\n"
     ]
    },
    {
     "name": "stdout",
     "output_type": "stream",
     "text": [
      "3:14\n"
     ]
    }
   ],
   "source": [
    "a , b = map(int, input().split(':'))\n",
    "\n",
    "print(a, b, sep = ':')"
   ]
  },
  {
   "cell_type": "code",
   "execution_count": 6,
   "id": "automated-insight",
   "metadata": {},
   "outputs": [
    {
     "name": "stdin",
     "output_type": "stream",
     "text": [
      "  \n"
     ]
    },
    {
     "ename": "ValueError",
     "evalue": "invalid literal for int() with base 10: ' '",
     "output_type": "error",
     "traceback": [
      "\u001b[1;31m---------------------------------------------------------------------------\u001b[0m",
      "\u001b[1;31mValueError\u001b[0m                                Traceback (most recent call last)",
      "\u001b[1;32m<ipython-input-6-4fb1d03dc909>\u001b[0m in \u001b[0;36m<module>\u001b[1;34m\u001b[0m\n\u001b[1;32m----> 1\u001b[1;33m \u001b[0my\u001b[0m\u001b[1;33m,\u001b[0m \u001b[0mm\u001b[0m\u001b[1;33m,\u001b[0m \u001b[0md\u001b[0m \u001b[1;33m=\u001b[0m \u001b[0mmap\u001b[0m\u001b[1;33m(\u001b[0m\u001b[0mint\u001b[0m\u001b[1;33m,\u001b[0m \u001b[0minput\u001b[0m\u001b[1;33m(\u001b[0m\u001b[1;33m)\u001b[0m\u001b[1;33m.\u001b[0m\u001b[0msplit\u001b[0m\u001b[1;33m(\u001b[0m\u001b[1;34m'.'\u001b[0m\u001b[1;33m)\u001b[0m\u001b[1;33m)\u001b[0m\u001b[1;33m\u001b[0m\u001b[1;33m\u001b[0m\u001b[0m\n\u001b[0m\u001b[0;32m      2\u001b[0m \u001b[1;33m\u001b[0m\u001b[0m\n\u001b[0;32m      3\u001b[0m \u001b[0mprint\u001b[0m\u001b[1;33m(\u001b[0m\u001b[0md\u001b[0m\u001b[1;33m,\u001b[0m\u001b[0mm\u001b[0m\u001b[1;33m,\u001b[0m\u001b[0my\u001b[0m\u001b[1;33m,\u001b[0m \u001b[0msep\u001b[0m \u001b[1;33m=\u001b[0m \u001b[1;34m'-'\u001b[0m\u001b[1;33m)\u001b[0m\u001b[1;33m\u001b[0m\u001b[1;33m\u001b[0m\u001b[0m\n",
      "\u001b[1;31mValueError\u001b[0m: invalid literal for int() with base 10: ' '"
     ]
    }
   ],
   "source": [
    "y, m, d = map(int, input().split('.'))\n",
    "\n",
    "print(d,m,y, sep = '-')"
   ]
  },
  {
   "cell_type": "code",
   "execution_count": 16,
   "id": "imposed-break",
   "metadata": {},
   "outputs": [
    {
     "name": "stdin",
     "output_type": "stream",
     "text": [
      " 110011-0101010\n"
     ]
    },
    {
     "name": "stdout",
     "output_type": "stream",
     "text": [
      "1100110101010\n"
     ]
    }
   ],
   "source": [
    "f,b = input().split('-')\n",
    "\n",
    "f,b = input().split('-')"
   ]
  },
  {
   "cell_type": "code",
   "execution_count": 29,
   "id": "tropical-wages",
   "metadata": {},
   "outputs": [
    {
     "name": "stdin",
     "output_type": "stream",
     "text": [
      " 000907-1122211\n"
     ]
    },
    {
     "name": "stdout",
     "output_type": "stream",
     "text": [
      "['0', '0', '0', '9', '0', '7']['1', '1', '2', '2', '2', '1', '1']\n"
     ]
    }
   ],
   "source": [
    "f,b = map(list, input().split('-'))\n",
    "\n",
    "if f[0] == 0:\n",
    "    print(''.join(f+b))    #join\n",
    "else :\n",
    "    print(f,b, sep = '')"
   ]
  },
  {
   "cell_type": "code",
   "execution_count": 28,
   "id": "valid-companion",
   "metadata": {},
   "outputs": [
    {
     "name": "stdout",
     "output_type": "stream",
     "text": [
      "000907['1', '1', '2', '1', '1', '1', '2']\n"
     ]
    }
   ],
   "source": [
    "print(''.join(f),b, sep = '')"
   ]
  },
  {
   "cell_type": "code",
   "execution_count": 25,
   "id": "double-durham",
   "metadata": {},
   "outputs": [
    {
     "data": {
      "text/plain": [
       "NoneType"
      ]
     },
     "execution_count": 25,
     "metadata": {},
     "output_type": "execute_result"
    }
   ],
   "source": [
    "000907-1121112\n",
    "\n",
    "\n",
    "같은 학교 하기 없이 \n",
    "골고루 섞기 \n",
    "5~6명\n",
    "\n",
    "크롤링, 백준 알고리즘. "
   ]
  },
  {
   "cell_type": "markdown",
   "id": "local-circulation",
   "metadata": {},
   "source": [
    "입출력은 ,,, \n",
    "\n",
    "앞자리가 ,, 0인것과 \n",
    "아닌것을 구별해내야함\n",
    "\n",
    "if "
   ]
  }
 ],
 "metadata": {
  "kernelspec": {
   "display_name": "Python 3",
   "language": "python",
   "name": "python3"
  },
  "language_info": {
   "codemirror_mode": {
    "name": "ipython",
    "version": 3
   },
   "file_extension": ".py",
   "mimetype": "text/x-python",
   "name": "python",
   "nbconvert_exporter": "python",
   "pygments_lexer": "ipython3",
   "version": "3.8.8"
  }
 },
 "nbformat": 4,
 "nbformat_minor": 5
}
