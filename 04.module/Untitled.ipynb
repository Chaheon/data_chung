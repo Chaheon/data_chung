{
 "cells": [
  {
   "cell_type": "code",
   "execution_count": 1,
   "id": "a608e308-be8e-4763-9e6b-52f40c2e61e5",
   "metadata": {
    "tags": []
   },
   "outputs": [
    {
     "ename": "SyntaxError",
     "evalue": "invalid syntax (72592390.py, line 1)",
     "output_type": "error",
     "traceback": [
      "\u001b[0;36m  Input \u001b[0;32mIn [1]\u001b[0;36m\u001b[0m\n\u001b[0;31m    https://hogni.tistory.com/6\u001b[0m\n\u001b[0m          ^\u001b[0m\n\u001b[0;31mSyntaxError\u001b[0m\u001b[0;31m:\u001b[0m invalid syntax\n"
     ]
    }
   ],
   "source": [
    "https://hogni.tistory.com/6"
   ]
  },
  {
   "cell_type": "markdown",
   "id": "de80e50c-037d-4976-92c4-0cf76b8b902a",
   "metadata": {},
   "source": [
    "sort_index - 인덱스를 기준으로 정렬"
   ]
  },
  {
   "cell_type": "markdown",
   "id": "5de3d90d-0581-4bae-93fa-8848872b4ab8",
   "metadata": {},
   "source": [
    "sort_values - columns를 기준으로 정렬"
   ]
  },
  {
   "cell_type": "code",
   "execution_count": null,
   "id": "a027aac3-1cab-4989-8143-2f91e3f581f5",
   "metadata": {},
   "outputs": [],
   "source": []
  }
 ],
 "metadata": {
  "kernelspec": {
   "display_name": "Python 3 (ipykernel)",
   "language": "python",
   "name": "python3"
  },
  "language_info": {
   "codemirror_mode": {
    "name": "ipython",
    "version": 3
   },
   "file_extension": ".py",
   "mimetype": "text/x-python",
   "name": "python",
   "nbconvert_exporter": "python",
   "pygments_lexer": "ipython3",
   "version": "3.9.0"
  }
 },
 "nbformat": 4,
 "nbformat_minor": 5
}
