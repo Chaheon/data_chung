{
 "cells": [
  {
   "cell_type": "markdown",
   "id": "972bf027-2f0d-4cd1-aff6-9d9f2fda40e3",
   "metadata": {},
   "source": [
    "### 자주 사용할 모듈 정리 "
   ]
  },
  {
   "cell_type": "markdown",
   "id": "7de8fc2e-4f2a-4d92-8429-c9607b4a694c",
   "metadata": {},
   "source": [
    "### apply\n",
    "\n",
    "데이터프레임 조작시 **내가 정의한 함수**에 따라 전체 DF 혹은 특정 Column의 값을 일괄적으로 변경하고 싶을 때가 있다. \n",
    "\n",
    "리스트의 경우 **map**함수를 사용했지만 DF에서는 **apply**함수를 사용하면 된다. \n",
    "\n",
    "```python\n",
    "# 칼럼 바꾸기\n",
    "\n",
    "데이터프레임['칼럼'] = 데이터프레임['칼럼'].apply(함수)\n",
    "```\n",
    "\n",
    "많은 경우 인수로 들어갈 함수는 **lambda**를 사용한다. \n",
    "def보다 더 간편하게 사용할 수 있기 때문이다. \n",
    "\n",
    "```python\n",
    "lambda 입력변수 : 리턴값 \n",
    "```"
   ]
  },
  {
   "cell_type": "code",
   "execution_count": 1,
   "id": "fe22660c-b07f-4c93-975d-406be903055b",
   "metadata": {},
   "outputs": [
    {
     "data": {
      "text/html": [
       "<div>\n",
       "<style scoped>\n",
       "    .dataframe tbody tr th:only-of-type {\n",
       "        vertical-align: middle;\n",
       "    }\n",
       "\n",
       "    .dataframe tbody tr th {\n",
       "        vertical-align: top;\n",
       "    }\n",
       "\n",
       "    .dataframe thead th {\n",
       "        text-align: right;\n",
       "    }\n",
       "</style>\n",
       "<table border=\"1\" class=\"dataframe\">\n",
       "  <thead>\n",
       "    <tr style=\"text-align: right;\">\n",
       "      <th></th>\n",
       "      <th>A</th>\n",
       "      <th>B</th>\n",
       "    </tr>\n",
       "  </thead>\n",
       "  <tbody>\n",
       "    <tr>\n",
       "      <th>0</th>\n",
       "      <td>1</td>\n",
       "      <td>2</td>\n",
       "    </tr>\n",
       "    <tr>\n",
       "      <th>1</th>\n",
       "      <td>2</td>\n",
       "      <td>3</td>\n",
       "    </tr>\n",
       "    <tr>\n",
       "      <th>2</th>\n",
       "      <td>5</td>\n",
       "      <td>6</td>\n",
       "    </tr>\n",
       "  </tbody>\n",
       "</table>\n",
       "</div>"
      ],
      "text/plain": [
       "   A  B\n",
       "0  1  2\n",
       "1  2  3\n",
       "2  5  6"
      ]
     },
     "execution_count": 1,
     "metadata": {},
     "output_type": "execute_result"
    }
   ],
   "source": [
    "# 예시 \n",
    "\n",
    "import pandas as pd\n",
    "\n",
    "df = pd.DataFrame([[1,2],\n",
    "                   [2,3],\n",
    "                   [5,6]],\n",
    "                   columns = ['A','B'])\n",
    "\n",
    "df"
   ]
  },
  {
   "cell_type": "code",
   "execution_count": 2,
   "id": "1d465d4a-4eec-48c4-ac17-19014c017a28",
   "metadata": {},
   "outputs": [
    {
     "data": {
      "text/html": [
       "<div>\n",
       "<style scoped>\n",
       "    .dataframe tbody tr th:only-of-type {\n",
       "        vertical-align: middle;\n",
       "    }\n",
       "\n",
       "    .dataframe tbody tr th {\n",
       "        vertical-align: top;\n",
       "    }\n",
       "\n",
       "    .dataframe thead th {\n",
       "        text-align: right;\n",
       "    }\n",
       "</style>\n",
       "<table border=\"1\" class=\"dataframe\">\n",
       "  <thead>\n",
       "    <tr style=\"text-align: right;\">\n",
       "      <th></th>\n",
       "      <th>A</th>\n",
       "      <th>B</th>\n",
       "    </tr>\n",
       "  </thead>\n",
       "  <tbody>\n",
       "    <tr>\n",
       "      <th>0</th>\n",
       "      <td>2</td>\n",
       "      <td>2</td>\n",
       "    </tr>\n",
       "    <tr>\n",
       "      <th>1</th>\n",
       "      <td>3</td>\n",
       "      <td>3</td>\n",
       "    </tr>\n",
       "    <tr>\n",
       "      <th>2</th>\n",
       "      <td>6</td>\n",
       "      <td>6</td>\n",
       "    </tr>\n",
       "  </tbody>\n",
       "</table>\n",
       "</div>"
      ],
      "text/plain": [
       "   A  B\n",
       "0  2  2\n",
       "1  3  3\n",
       "2  6  6"
      ]
     },
     "execution_count": 2,
     "metadata": {},
     "output_type": "execute_result"
    }
   ],
   "source": [
    "df['A'] = df['A'].apply(lambda x : x + 1)\n",
    "df"
   ]
  },
  {
   "cell_type": "markdown",
   "id": "03979699-0e0d-4280-b3ea-64625b936b3e",
   "metadata": {},
   "source": [
    "---"
   ]
  },
  {
   "cell_type": "markdown",
   "id": "8b7aca6c-a83a-4372-be61-fcd6397cd92f",
   "metadata": {},
   "source": [
    "### Map\n",
    "\n",
    "리스트를 원하는 함수를 일괄 적용할 수 있다. \n",
    "\n",
    "map(함수, 리스트명)\n",
    "\n",
    "이때 함수는 lambda를 사용하면 더 편함. "
   ]
  },
  {
   "cell_type": "markdown",
   "id": "e22f759f-33f3-4ba9-9d5c-1656ab4feae5",
   "metadata": {},
   "source": [
    "https://dojang.io/mod/page/view.php?id=2286"
   ]
  },
  {
   "cell_type": "code",
   "execution_count": null,
   "id": "ba1881bb-6420-48c4-a4d1-d4b289acd14f",
   "metadata": {},
   "outputs": [],
   "source": []
  }
 ],
 "metadata": {
  "kernelspec": {
   "display_name": "Python 3 (ipykernel)",
   "language": "python",
   "name": "python3"
  },
  "language_info": {
   "codemirror_mode": {
    "name": "ipython",
    "version": 3
   },
   "file_extension": ".py",
   "mimetype": "text/x-python",
   "name": "python",
   "nbconvert_exporter": "python",
   "pygments_lexer": "ipython3",
   "version": "3.9.0"
  }
 },
 "nbformat": 4,
 "nbformat_minor": 5
}
