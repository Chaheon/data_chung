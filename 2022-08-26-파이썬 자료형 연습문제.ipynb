{
 "cells": [
  {
   "cell_type": "code",
   "execution_count": 20,
   "id": "6ff0a5fb-a1b6-4ca3-ae10-755310aa4b06",
   "metadata": {},
   "outputs": [
    {
     "data": {
      "text/plain": [
       "70.0"
      ]
     },
     "execution_count": 20,
     "metadata": {},
     "output_type": "execute_result"
    }
   ],
   "source": [
    "# 1\n",
    "\n",
    "(80 + 75 + 55 ) / 3 "
   ]
  },
  {
   "cell_type": "code",
   "execution_count": 21,
   "id": "785cdc4d-8637-4c7f-9cee-6044a1f5670f",
   "metadata": {},
   "outputs": [
    {
     "data": {
      "text/plain": [
       "True"
      ]
     },
     "execution_count": 21,
     "metadata": {},
     "output_type": "execute_result"
    }
   ],
   "source": [
    "# 2\n",
    "\n",
    "13 % 2 == 1"
   ]
  },
  {
   "cell_type": "code",
   "execution_count": 22,
   "id": "8e0f07b0-a90a-43c4-953a-a143f4ba7221",
   "metadata": {},
   "outputs": [
    {
     "data": {
      "text/plain": [
       "('881120', '1068234')"
      ]
     },
     "execution_count": 22,
     "metadata": {},
     "output_type": "execute_result"
    }
   ],
   "source": [
    "# 3 \n",
    "\n",
    "id = '881120-1068234'\n",
    "id[:6], id[7:]"
   ]
  },
  {
   "cell_type": "code",
   "execution_count": 24,
   "id": "12dbee40-3753-44e2-a798-25c5d12622b5",
   "metadata": {},
   "outputs": [
    {
     "data": {
      "text/plain": [
       "'1'"
      ]
     },
     "execution_count": 24,
     "metadata": {},
     "output_type": "execute_result"
    }
   ],
   "source": [
    "# 4 \n",
    "\n",
    "id = '881120-1068234'\n",
    "id[7]"
   ]
  },
  {
   "cell_type": "code",
   "execution_count": 26,
   "id": "77aeca75-fdd6-4eb3-ab7a-6ee4f78560c0",
   "metadata": {},
   "outputs": [
    {
     "data": {
      "text/plain": [
       "'a#b#c#d'"
      ]
     },
     "execution_count": 26,
     "metadata": {},
     "output_type": "execute_result"
    }
   ],
   "source": [
    "# 5\n",
    "\n",
    "a= 'a:b:c:d'\n",
    "a.replace(':','#')"
   ]
  },
  {
   "cell_type": "code",
   "execution_count": 55,
   "id": "712d2728-72b4-466e-a69c-5e66915dee19",
   "metadata": {},
   "outputs": [
    {
     "data": {
      "text/plain": [
       "[6, 5, 3, 2, 1]"
      ]
     },
     "execution_count": 55,
     "metadata": {},
     "output_type": "execute_result"
    }
   ],
   "source": [
    "# 6\n",
    "\n",
    "a = [1,3,5,6,2]\n",
    "a.sort(reverse = 1) # 이게 원래 = 1이었나?\n",
    "a"
   ]
  },
  {
   "cell_type": "code",
   "execution_count": 57,
   "id": "6911882a-88db-428a-adb9-335ff32ffd24",
   "metadata": {},
   "outputs": [
    {
     "data": {
      "text/plain": [
       "'Life is too short'"
      ]
     },
     "execution_count": 57,
     "metadata": {},
     "output_type": "execute_result"
    }
   ],
   "source": [
    "# 7\n",
    "\n",
    "a = ['Life', 'is', 'too', 'short']\n",
    "result = \" \".join(a)\n",
    "result"
   ]
  },
  {
   "cell_type": "code",
   "execution_count": 58,
   "id": "39b82442-e9c2-4356-b09d-550bf47ca27c",
   "metadata": {},
   "outputs": [
    {
     "data": {
      "text/plain": [
       "(1, 2, 3, 4)"
      ]
     },
     "execution_count": 58,
     "metadata": {},
     "output_type": "execute_result"
    }
   ],
   "source": [
    "# 8 \n",
    "\n",
    "a = 1,2,3\n",
    "a + (4,)"
   ]
  },
  {
   "cell_type": "code",
   "execution_count": 59,
   "id": "f5a14483-4a56-47dc-974d-2bc8cbd9c5a3",
   "metadata": {},
   "outputs": [],
   "source": [
    "# 9 \n",
    "\n",
    "# 3번, 딕셔너리의 키에는 가변형 자료형이 들어올 수 없음. "
   ]
  },
  {
   "cell_type": "code",
   "execution_count": 60,
   "id": "1808b84f-8c5d-4fb6-9a9a-dc2e554f3994",
   "metadata": {},
   "outputs": [
    {
     "data": {
      "text/plain": [
       "80"
      ]
     },
     "execution_count": 60,
     "metadata": {},
     "output_type": "execute_result"
    }
   ],
   "source": [
    "# 10 \n",
    "\n",
    "a = {'A' : 90, 'B' : 80, 'C' : 70}\n",
    "a.pop('B')"
   ]
  },
  {
   "cell_type": "code",
   "execution_count": 52,
   "id": "19824594-cf0e-42fa-80d3-d10cc70b4ba4",
   "metadata": {},
   "outputs": [
    {
     "data": {
      "text/plain": [
       "[1, 2, 3, 4, 5]"
      ]
     },
     "execution_count": 52,
     "metadata": {},
     "output_type": "execute_result"
    }
   ],
   "source": [
    "a = [1,1,1,2,2,3,3,3,3,4,4,5]\n",
    "a = set(a)\n",
    "a = list(a)\n",
    "a"
   ]
  },
  {
   "cell_type": "code",
   "execution_count": 53,
   "id": "a7031771-575c-43c0-91b7-0eb52e238403",
   "metadata": {},
   "outputs": [],
   "source": [
    "# 12\n",
    "\n",
    "# a의 요소값을 변경할 경우 b의 2번째 요소값 또한 변경된다. 그 이유는 단순 복사로 하나의 리스트 메모리 값(주소)가 동일한 두 변수이기 때문이다. "
   ]
  }
 ],
 "metadata": {
  "kernelspec": {
   "display_name": "Python 3 (ipykernel)",
   "language": "python",
   "name": "python3"
  },
  "language_info": {
   "codemirror_mode": {
    "name": "ipython",
    "version": 3
   },
   "file_extension": ".py",
   "mimetype": "text/x-python",
   "name": "python",
   "nbconvert_exporter": "python",
   "pygments_lexer": "ipython3",
   "version": "3.9.0"
  }
 },
 "nbformat": 4,
 "nbformat_minor": 5
}
