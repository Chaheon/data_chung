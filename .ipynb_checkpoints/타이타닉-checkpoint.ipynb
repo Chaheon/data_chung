{
 "cells": [
  {
   "cell_type": "markdown",
   "id": "streaming-league",
   "metadata": {},
   "source": [
    "## 타이타닉 전처리 ##"
   ]
  },
  {
   "cell_type": "code",
   "execution_count": null,
   "id": "successful-washington",
   "metadata": {},
   "outputs": [],
   "source": [
    "# 패키지 \n",
    "\n",
    "import pandas as pd\n",
    "import "
   ]
  },
  {
   "cell_type": "markdown",
   "id": "dutch-express",
   "metadata": {},
   "source": [
    "`-` 데이터 불러오기 "
   ]
  },
  {
   "cell_type": "code",
   "execution_count": null,
   "id": "boring-switzerland",
   "metadata": {},
   "outputs": [],
   "source": [
    "df = "
   ]
  }
 ],
 "metadata": {
  "kernelspec": {
   "display_name": "Python 3",
   "language": "python",
   "name": "python3"
  },
  "language_info": {
   "codemirror_mode": {
    "name": "ipython",
    "version": 3
   },
   "file_extension": ".py",
   "mimetype": "text/x-python",
   "name": "python",
   "nbconvert_exporter": "python",
   "pygments_lexer": "ipython3",
   "version": "3.8.8"
  }
 },
 "nbformat": 4,
 "nbformat_minor": 5
}
