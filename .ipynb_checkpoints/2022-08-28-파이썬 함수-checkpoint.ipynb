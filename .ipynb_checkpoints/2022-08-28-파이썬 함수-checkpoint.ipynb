{
 "cells": [
  {
   "cell_type": "markdown",
   "id": "2a20b6b9-2f32-45b5-b1ad-b230f6a245a8",
   "metadata": {
    "tags": []
   },
   "source": [
    "## 파이썬 기초, 입*출력 프로세스"
   ]
  },
  {
   "cell_type": "markdown",
   "id": "de860775-9768-4173-9f0a-8067a22a8ca0",
   "metadata": {},
   "source": [
    "`-` 함수, 사용자 입력과 출력, 파일 읽고 쓰기 "
   ]
  },
  {
   "cell_type": "markdown",
   "id": "b75467de-8b28-4e6f-b003-f44f405885f4",
   "metadata": {},
   "source": [
    "### 함수"
   ]
  },
  {
   "cell_type": "markdown",
   "id": "56c50632-ebcb-4cab-be53-2cb8e863f0cd",
   "metadata": {},
   "source": [
    "#### 함수란?"
   ]
  },
  {
   "cell_type": "markdown",
   "id": "b0642023-5a6a-4645-9960-3c92c66e7c77",
   "metadata": {},
   "source": [
    "`-` 개념\n",
    "\n",
    "중,고등학교 수학시간에 배운 함수와 거의 같은 개념이다. X라는 입력값을 넣으면 2X + 3과 같은 함수, 식을 통해 Y라는 출력값이 나오는 형식이라 생각하면 된다. 프로그래밍에서도 어떤 값을 입력(input)했을 때 개발자가 필요한 일련의 과정(알고리즘)을 통해 원하는 값(output)이 나오게 하는 것을 의미한다.\n",
    "\n",
    "`-` 사용하는 이유\n",
    "\n",
    "프로그래밍, 분석을 하면 같은 행위, 같은 내용을 인간이 반복하는 경우가 많다. 기계와 소프트웨어가 그렇듯 반복의 과정을 함수로 자동화하기 위해 사용된다. \n",
    "\n",
    "또한, 복잡하고 어려운 계산, 작업 흐름을 일목요연하게 볼 수 있기 때문에 작성하기도 한다. 각 단계별로 원하는 결과값이 출력되는 것을 정리하면 일의 효율이 더 높아지기 때문이다. \n",
    "\n",
    "*이러한 함수를 적재적소에 남발하지 않고 효율적으로 만들어야만 프로그래밍을 잘한다고 할 수 있다.*"
   ]
  },
  {
   "cell_type": "markdown",
   "id": "4c941f55-38b3-4948-a3c3-1ea876204a67",
   "metadata": {},
   "source": [
    "#### 기본구조"
   ]
  },
  {
   "cell_type": "markdown",
   "id": "7396d9c0-6e6d-48a5-842c-9f5634683423",
   "metadata": {},
   "source": [
    "```python\n",
    "def 함수명(매개변수) :\n",
    "    수행할 문장 1\n",
    "    수행할 문장 2\n",
    "    ***\n",
    "```\n",
    "\n",
    "함수명은 개발자가 편리하게 지정할 수 있다. 매개변수는 이 함수 내에 입력으로 전달되는 값을 받는 변수이다. (헷갈리지 않게 잘 작성해야한다.)  \n",
    "함수 내에 보통 if, while, for 등의 제어문이 들어간다. "
   ]
  },
  {
   "cell_type": "code",
   "execution_count": 1,
   "id": "c61eb2cb-7667-4f26-a0ca-ab41f346f850",
   "metadata": {},
   "outputs": [
    {
     "data": {
      "text/plain": [
       "4"
      ]
     },
     "execution_count": 1,
     "metadata": {},
     "output_type": "execute_result"
    }
   ],
   "source": [
    "def add(a,b) :\n",
    "    return a+b \n",
    "\n",
    "add(1,3)"
   ]
  },
  {
   "cell_type": "markdown",
   "id": "1288afdd-173d-49d0-b972-8d4a7d343700",
   "metadata": {},
   "source": [
    "#### 매개변수와 인수 "
   ]
  },
  {
   "cell_type": "markdown",
   "id": "0e2f6b76-9511-4ef8-8bf7-aad3c2232c04",
   "metadata": {},
   "source": [
    "매개변수(parameter)와 인수(arguments)를 혼용해서는 안된다.  \n",
    "매개변수는 함수에 입력으로 전달된 값을 받는 변수를 의미한다.  \n",
    "반면 인수는 함수를 호출할 때 전달되는 입력값을 의미한다. \n",
    "\n",
    "```python\n",
    "def add(a, b): # a, b는 매개변수\n",
    "    return a+b\n",
    "\n",
    "print(add(3,4)) # 3, 4는 인수 \n",
    "```\n",
    "\n",
    "매개 변수는 선언 시 사용된 변수들을 말한다. 인수는 함수를 사용할 때 들어간 값들 (입력값)을 생각하면 될 것 같다.  \n",
    "예를 들면 ,, 매개변수는 과일, 그리고 함수를 통해 사용된 인수는 사과, 배라고 생각하면 될 것 같다. "
   ]
  },
  {
   "cell_type": "markdown",
   "id": "51027f4d-860d-4bfe-9252-3c93d9a840c9",
   "metadata": {},
   "source": [
    "#### 함수의 형태 \n",
    "\n",
    "함수의 형태는 입력값과 결과값의 유무에 따라 4가지 유형으로 나뉜다. "
   ]
  },
  {
   "cell_type": "code",
   "execution_count": 2,
   "id": "2687f299-ba56-4819-a697-1c6f165adfde",
   "metadata": {},
   "outputs": [
    {
     "data": {
      "text/plain": [
       "7"
      ]
     },
     "execution_count": 2,
     "metadata": {},
     "output_type": "execute_result"
    }
   ],
   "source": [
    "# 일반적인 함수 \n",
    "\n",
    "def add(a,b) :\n",
    "    return a + b\n",
    "\n",
    "add(3,4)"
   ]
  },
  {
   "cell_type": "code",
   "execution_count": 3,
   "id": "7e19fa76-f8f9-4828-aa59-ec3a444ee25a",
   "metadata": {},
   "outputs": [
    {
     "data": {
      "text/plain": [
       "'Hi'"
      ]
     },
     "execution_count": 3,
     "metadata": {},
     "output_type": "execute_result"
    }
   ],
   "source": [
    "# 입력값이 없는 함수 \n",
    "\n",
    "def say():\n",
    "    return 'Hi'\n",
    "\n",
    "say()"
   ]
  },
  {
   "cell_type": "markdown",
   "id": "270a164a-03f5-4890-b367-4fb5b862eae9",
   "metadata": {},
   "source": [
    "매개변수가 없기 때문에 입력값이 없다. 이러한 함수는 괄호 안에 아무 값도 넣을 수 없다. 아무것도 넣지 않았지만 출력값은 나오게 된다. "
   ]
  },
  {
   "cell_type": "code",
   "execution_count": 8,
   "id": "2c968e21-268e-4c5c-848f-87a8bec3685e",
   "metadata": {},
   "outputs": [
    {
     "name": "stdout",
     "output_type": "stream",
     "text": [
      "None\n"
     ]
    }
   ],
   "source": [
    "# 결과값이 없는 함수\n",
    "\n",
    "def add(a,b) :\n",
    "    a + b\n",
    "    \n",
    "print(add(1,3))"
   ]
  },
  {
   "cell_type": "markdown",
   "id": "7505cb6e-013f-4890-ba71-5a3467ff7807",
   "metadata": {},
   "source": [
    "위 함수처럼 매개변수의 인수를 넣었지만 출력은 없다. 함수 안에서 계산은 되었지만 출력되는 값이 없다. "
   ]
  },
  {
   "cell_type": "code",
   "execution_count": 13,
   "id": "3537a3a5-29c1-4abf-84b5-5d38bda2dc12",
   "metadata": {},
   "outputs": [
    {
     "name": "stdout",
     "output_type": "stream",
     "text": [
      "출력값은 4\n",
      "None\n"
     ]
    }
   ],
   "source": [
    "def add(a,b) :\n",
    "    print('출력값은', a + b)\n",
    "    \n",
    "a = add(1,3)\n",
    "print(a)"
   ]
  },
  {
   "cell_type": "markdown",
   "id": "97aae36c-8111-48b6-897a-a54f8074a36c",
   "metadata": {},
   "source": [
    "이 경우는 마치 출력이 된 것같지만 print문의 함수 구성 요소 중 수행할 문장이 진행 된 것일 뿐 add함수의 출력값이 나온 것은 아니다. 따라서 변수 선언을 해도 값은 없다고 나온다. "
   ]
  },
  {
   "cell_type": "code",
   "execution_count": 14,
   "id": "7f1a2b71-7311-4c44-84ed-e52920d85e47",
   "metadata": {},
   "outputs": [
    {
     "name": "stdout",
     "output_type": "stream",
     "text": [
      "Hi\n"
     ]
    }
   ],
   "source": [
    "# 입력값도 결과값도 없는 함수\n",
    "\n",
    "def say() :\n",
    "    print('Hi')\n",
    "\n",
    "say()"
   ]
  },
  {
   "cell_type": "markdown",
   "id": "75fceb94-4b9c-496f-b4bd-d94849cffeee",
   "metadata": {},
   "source": [
    "이 경우도 위 2,3번째 형태를 이해하면 알 수 있다. \n",
    "\n",
    "즉 우리는 출력값을 얻기 위해서는 return문을 사용해야한다. "
   ]
  },
  {
   "cell_type": "code",
   "execution_count": null,
   "id": "130d0410-f9cb-4a10-860a-d87f88c969b2",
   "metadata": {},
   "outputs": [],
   "source": []
  }
 ],
 "metadata": {
  "kernelspec": {
   "display_name": "Python 3 (ipykernel)",
   "language": "python",
   "name": "python3"
  },
  "language_info": {
   "codemirror_mode": {
    "name": "ipython",
    "version": 3
   },
   "file_extension": ".py",
   "mimetype": "text/x-python",
   "name": "python",
   "nbconvert_exporter": "python",
   "pygments_lexer": "ipython3",
   "version": "3.9.0"
  }
 },
 "nbformat": 4,
 "nbformat_minor": 5
}
