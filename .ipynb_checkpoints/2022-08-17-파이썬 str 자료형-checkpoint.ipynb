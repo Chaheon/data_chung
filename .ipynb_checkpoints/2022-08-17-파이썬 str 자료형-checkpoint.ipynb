{
 "cells": [
  {
   "cell_type": "markdown",
   "id": "d51b132c-3545-49df-b37c-c52ffae0f5c1",
   "metadata": {},
   "source": [
    "## 파이썬 기초, str 자료형 (1차원)"
   ]
  },
  {
   "cell_type": "markdown",
   "id": "6dc7e472-5af7-413e-8155-2c1e59f3596f",
   "metadata": {},
   "source": [
    "`-` 파이썬의 기본자료형은 int, float, bool, str, list, tuple, dict, set 등이 있다.\n",
    "- 0차원 자료형: int, float, bool \n",
    "- 1차원 자료형: str, list, tuple, dict, set"
   ]
  },
  {
   "cell_type": "markdown",
   "id": "df04e408-e53a-4eca-8329-570b7e165bbe",
   "metadata": {
    "tags": []
   },
   "source": [
    "### str"
   ]
  },
  {
   "cell_type": "markdown",
   "id": "1378087e-885e-4833-8204-c1ec403ae70a",
   "metadata": {
    "jp-MarkdownHeadingCollapsed": true,
    "tags": []
   },
   "source": [
    "#### str(문자열)이란?"
   ]
  },
  {
   "cell_type": "markdown",
   "id": "a25241d6-6aa1-4d9a-a9b8-eb91f5c69287",
   "metadata": {},
   "source": [
    "문자열은 문자, 단어 등으로 구성된 문자들의 집합이다.   \n",
    "문자열은 큰따옴표, 작은 따옴표 혹은 따옴표를 3개 연속으로 사용하여 양쪽을 둘러싸서 만들 수 있다.   \n",
    "4가지나 되는 방법이 있는 이유는 문자열 속에 큰, 작은 따옴표를 넣고 싶을때를 대비해서이다.   \n",
    "백슬래시(\\)를 사용하는 방법도 있다. \\' & \\\" 등을 사용하면 따옴표를 쉽게 넣을 수 있다.   \n",
    "\n"
   ]
  },
  {
   "cell_type": "code",
   "execution_count": null,
   "id": "848ba484-59a1-4a60-83f9-3d2e1ef60099",
   "metadata": {},
   "outputs": [
    {
     "data": {
      "text/plain": [
       "\"Hello oldcar's world\""
      ]
     },
     "execution_count": 23,
     "metadata": {},
     "output_type": "execute_result"
    }
   ],
   "source": [
    "\"Hello oldcar's world\"\n",
    "'Hello oldcar\\'s world'"
   ]
  },
  {
   "cell_type": "markdown",
   "id": "796b396e-311b-43dd-908a-8075cda03748",
   "metadata": {},
   "source": [
    "줄을 바꾸고 싶을 때는 `\\n`을 삽입하거나 따옴표 3개를 연속으로 사용한다. "
   ]
  },
  {
   "cell_type": "code",
   "execution_count": null,
   "id": "59ca278f-618a-4cf3-80a7-5bcaee6ae83b",
   "metadata": {},
   "outputs": [
    {
     "name": "stdout",
     "output_type": "stream",
     "text": [
      "Hello world! \n",
      "nice to meet!\n",
      "\n",
      "hello world\n",
      "nice to meet\n",
      "\n"
     ]
    }
   ],
   "source": [
    "a = \"Hello world! \\nnice to meet!\"\n",
    "b = '''\n",
    "hello world\n",
    "nice to meet\n",
    "''' \n",
    "print(a)\n",
    "print(b)"
   ]
  },
  {
   "cell_type": "markdown",
   "id": "1e0360b2-b609-45b5-8042-6cf6a4c6526a",
   "metadata": {},
   "source": [
    "> 이스케이프 코드란 \n",
    "\n",
    "프로그래밍할 때 사용할 수 있도록 미리 정의해 둔 \"문자 조합\"이다. \n",
    "주로 출력물을 보기 좋게 정렬하는 용도로 사용한다. \n",
    "\n",
    "\n",
    "| 코드 |\t설명 | \n",
    "| ----- | ----------------------- |\n",
    "| \\n | 문자열 안에서 줄을 바꿀 때 사용 |\n",
    "| \\t | 문자열 사이에 탭 간격을 줄 때 사용 |\n",
    "| \\\\ | 문자 \\를 그대로 표현할 때 사용 |\n",
    "| \\' | 작은따옴표(')를 그대로 표현할 때 사용 |\n",
    "| \\\" | 큰따옴표(\")를 그대로 표현할 때 사용 |\n",
    "\n",
    "등이 있다. "
   ]
  },
  {
   "cell_type": "markdown",
   "id": "57dcd201-3a4f-48f4-99e3-5119cfcae26d",
   "metadata": {
    "jp-MarkdownHeadingCollapsed": true,
    "tags": []
   },
   "source": [
    "#### ***문자열 연산*** "
   ]
  },
  {
   "cell_type": "markdown",
   "id": "6ed9276c-e1d7-40e0-90b5-b8bb2524be05",
   "metadata": {},
   "source": [
    "`-` 더하기(+)연산 (연결하기)"
   ]
  },
  {
   "cell_type": "code",
   "execution_count": null,
   "id": "06578181-2400-4a3b-9719-4cb7dbb39f04",
   "metadata": {},
   "outputs": [],
   "source": [
    "a='X'\n",
    "b='2'"
   ]
  },
  {
   "cell_type": "code",
   "execution_count": null,
   "id": "8d1f6a27-242b-497f-94be-cc09b01ee9fd",
   "metadata": {},
   "outputs": [
    {
     "data": {
      "text/plain": [
       "'X2'"
      ]
     },
     "execution_count": 17,
     "metadata": {},
     "output_type": "execute_result"
    }
   ],
   "source": [
    "c=a+b\n",
    "c"
   ]
  },
  {
   "cell_type": "markdown",
   "id": "f5e7d084-64fc-41b2-86ff-70913c506382",
   "metadata": {},
   "source": [
    "`-` 빼기(-)연산 "
   ]
  },
  {
   "cell_type": "code",
   "execution_count": null,
   "id": "eaaea4e5-47be-4450-9ebf-5a0eed94169f",
   "metadata": {},
   "outputs": [
    {
     "ename": "TypeError",
     "evalue": "unsupported operand type(s) for -: 'str' and 'str'",
     "output_type": "error",
     "traceback": [
      "\u001b[0;31m---------------------------------------------------------------------------\u001b[0m",
      "\u001b[0;31mTypeError\u001b[0m                                 Traceback (most recent call last)",
      "Input \u001b[0;32mIn [18]\u001b[0m, in \u001b[0;36m<cell line: 3>\u001b[0;34m()\u001b[0m\n\u001b[1;32m      1\u001b[0m a\u001b[38;5;241m=\u001b[39m\u001b[38;5;124m'\u001b[39m\u001b[38;5;124mX2\u001b[39m\u001b[38;5;124m'\u001b[39m\n\u001b[1;32m      2\u001b[0m b\u001b[38;5;241m=\u001b[39m\u001b[38;5;124m'\u001b[39m\u001b[38;5;124m2\u001b[39m\u001b[38;5;124m'\u001b[39m\n\u001b[0;32m----> 3\u001b[0m \u001b[43ma\u001b[49m\u001b[38;5;241;43m-\u001b[39;49m\u001b[43mb\u001b[49m\n",
      "\u001b[0;31mTypeError\u001b[0m: unsupported operand type(s) for -: 'str' and 'str'"
     ]
    }
   ],
   "source": [
    "a='X2'\n",
    "b='2'\n",
    "a-b"
   ]
  },
  {
   "cell_type": "markdown",
   "id": "4e4f452d-5a62-40f7-9723-14210c10fb75",
   "metadata": {},
   "source": [
    "- 이런건 없다. "
   ]
  },
  {
   "cell_type": "markdown",
   "id": "2811d0a3-8907-4f5e-834f-89c64ae917c7",
   "metadata": {},
   "source": [
    "`-` 곱하기(*)연산 (반복)"
   ]
  },
  {
   "cell_type": "code",
   "execution_count": null,
   "id": "9da92ae1-b396-4f54-b88f-6200bbdee604",
   "metadata": {},
   "outputs": [],
   "source": [
    "a='X'"
   ]
  },
  {
   "cell_type": "code",
   "execution_count": null,
   "id": "6044e695-a829-407d-a52d-22050e46cd45",
   "metadata": {},
   "outputs": [
    {
     "data": {
      "text/plain": [
       "'XXX'"
      ]
     },
     "execution_count": 20,
     "metadata": {},
     "output_type": "execute_result"
    }
   ],
   "source": [
    "a+a+a"
   ]
  },
  {
   "cell_type": "code",
   "execution_count": null,
   "id": "3c8ff61a-7b36-4235-b020-a42396f895fc",
   "metadata": {},
   "outputs": [
    {
     "data": {
      "text/plain": [
       "'XXX'"
      ]
     },
     "execution_count": 21,
     "metadata": {},
     "output_type": "execute_result"
    }
   ],
   "source": [
    "a*3 # a*3 = a+a+a = 'X'+'X+'X'"
   ]
  },
  {
   "cell_type": "markdown",
   "id": "672107b7-1958-46c8-9e63-962c9bb99e0b",
   "metadata": {},
   "source": [
    "아래도 가능하다. "
   ]
  },
  {
   "cell_type": "code",
   "execution_count": null,
   "id": "2047d3c8-14a3-4ecb-9196-0404e0a8b347",
   "metadata": {},
   "outputs": [
    {
     "data": {
      "text/plain": [
       "'XXX'"
      ]
     },
     "execution_count": 22,
     "metadata": {},
     "output_type": "execute_result"
    }
   ],
   "source": [
    "3*a"
   ]
  },
  {
   "cell_type": "markdown",
   "id": "b7f2fb7b-7f07-4fbf-8b04-349b7b6b47ba",
   "metadata": {},
   "source": [
    "그리고 아래도 가능하다. "
   ]
  },
  {
   "cell_type": "code",
   "execution_count": null,
   "id": "c1a724a0-d9ae-421f-ae81-15adfb21ae63",
   "metadata": {},
   "outputs": [
    {
     "data": {
      "text/plain": [
       "'XXX'"
      ]
     },
     "execution_count": 23,
     "metadata": {},
     "output_type": "execute_result"
    }
   ],
   "source": [
    "a='X'\n",
    "b=3 \n",
    "a*b"
   ]
  },
  {
   "cell_type": "markdown",
   "id": "6ff19a40-5382-4742-8401-b75cf9e1ef15",
   "metadata": {},
   "source": [
    "대신에 의미상 맞지 않는 것은 수행되지 않고 에러가 난다.  \n",
    "문자열에 숫자를 연산하는건 반복으로 의미가 상통하기 때문에 가능하다고 봄"
   ]
  },
  {
   "cell_type": "code",
   "execution_count": null,
   "id": "4bb0c178-e00a-409d-9d1e-acf1f89355c7",
   "metadata": {},
   "outputs": [
    {
     "data": {
      "text/plain": [
       "'XY'"
      ]
     },
     "execution_count": 24,
     "metadata": {},
     "output_type": "execute_result"
    }
   ],
   "source": [
    "a='X'\n",
    "b='Y'\n",
    "a+b"
   ]
  },
  {
   "cell_type": "code",
   "execution_count": null,
   "id": "ab3829b2-9b00-4eef-96e1-dbaedd4b69e9",
   "metadata": {},
   "outputs": [
    {
     "ename": "TypeError",
     "evalue": "can't multiply sequence by non-int of type 'str'",
     "output_type": "error",
     "traceback": [
      "\u001b[0;31m---------------------------------------------------------------------------\u001b[0m",
      "\u001b[0;31mTypeError\u001b[0m                                 Traceback (most recent call last)",
      "Input \u001b[0;32mIn [25]\u001b[0m, in \u001b[0;36m<cell line: 1>\u001b[0;34m()\u001b[0m\n\u001b[0;32m----> 1\u001b[0m \u001b[43ma\u001b[49m\u001b[38;5;241;43m*\u001b[39;49m\u001b[43mb\u001b[49m\n",
      "\u001b[0;31mTypeError\u001b[0m: can't multiply sequence by non-int of type 'str'"
     ]
    }
   ],
   "source": [
    "a*b"
   ]
  },
  {
   "cell_type": "markdown",
   "id": "d4c3c2d5-680f-41c0-8b19-da5802cff1b0",
   "metadata": {},
   "source": [
    "`-` 나눗셈(/)연산 "
   ]
  },
  {
   "cell_type": "code",
   "execution_count": null,
   "id": "37b34146-16eb-4526-b3ba-02ec4bc64b18",
   "metadata": {},
   "outputs": [],
   "source": [
    "a='XX'"
   ]
  },
  {
   "cell_type": "code",
   "execution_count": null,
   "id": "7d57de88-9ada-4686-bf23-ae62935ef9a4",
   "metadata": {},
   "outputs": [
    {
     "ename": "TypeError",
     "evalue": "unsupported operand type(s) for /: 'str' and 'int'",
     "output_type": "error",
     "traceback": [
      "\u001b[0;31m---------------------------------------------------------------------------\u001b[0m",
      "\u001b[0;31mTypeError\u001b[0m                                 Traceback (most recent call last)",
      "Input \u001b[0;32mIn [101]\u001b[0m, in \u001b[0;36m<module>\u001b[0;34m\u001b[0m\n\u001b[0;32m----> 1\u001b[0m \u001b[43ma\u001b[49m\u001b[38;5;241;43m/\u001b[39;49m\u001b[38;5;241;43m2\u001b[39;49m\n",
      "\u001b[0;31mTypeError\u001b[0m: unsupported operand type(s) for /: 'str' and 'int'"
     ]
    }
   ],
   "source": [
    "a/2"
   ]
  },
  {
   "cell_type": "markdown",
   "id": "59e1f452-527b-4dc5-87d3-6d80e7f99f4e",
   "metadata": {},
   "source": [
    "- 이런건 없다.. "
   ]
  },
  {
   "cell_type": "markdown",
   "id": "29bd56c3-3054-4c7a-b3db-c807b367e698",
   "metadata": {
    "jp-MarkdownHeadingCollapsed": true,
    "tags": []
   },
   "source": [
    "#### ***문자열 인덱싱 & 슬라이싱*** "
   ]
  },
  {
   "cell_type": "markdown",
   "id": "20045a62-7e74-4abb-9bd8-cd60e8e6b3e7",
   "metadata": {},
   "source": [
    "`-` 인덱싱이란, 무엇인가를 '가르키다'라는 뜻이다. 여기서는 특정 위치의 문자를 찾아낸다고 생각하면 된다.  \n",
    "`-` 슬라이싱이란, 무언가를 '잘라낸다'라는 뜻이다. 여기서는 특정 위취의 문자를 추출한다고 생각하면 된다.   \n",
    "`-` str은 하나의 벡터 문자가 여러개 있는 형태라고 생각하면 된다. "
   ]
  },
  {
   "cell_type": "code",
   "execution_count": null,
   "id": "da3e5bfa-7d86-4186-bdb7-0feb97ef25f0",
   "metadata": {},
   "outputs": [],
   "source": [
    "a='oldcar'"
   ]
  },
  {
   "cell_type": "code",
   "execution_count": null,
   "id": "6c83b47c-47a1-4470-8191-edf9fe0027a6",
   "metadata": {},
   "outputs": [
    {
     "data": {
      "text/plain": [
       "'oldcar'"
      ]
     },
     "execution_count": 27,
     "metadata": {},
     "output_type": "execute_result"
    }
   ],
   "source": [
    "a"
   ]
  },
  {
   "cell_type": "markdown",
   "id": "8e498531-a0b0-440a-b70f-f462cc488525",
   "metadata": {},
   "source": [
    "- 6개의 칸에 글씨가 하나씩 들어가 있음. "
   ]
  },
  {
   "cell_type": "markdown",
   "id": "5f4c8a84-2239-4c73-bf2c-a7c260d24218",
   "metadata": {},
   "source": [
    "`-` 대괄호 `[]`안에 숫자를 넣는 방식으로 벡터의 원소를 호출할 수 있다. (주의: **인덱스가 0부터 시작함**) "
   ]
  },
  {
   "cell_type": "code",
   "execution_count": null,
   "id": "a8c25ae4-a5bb-49b6-87d3-a8f9621129f7",
   "metadata": {},
   "outputs": [
    {
     "data": {
      "text/plain": [
       "'o'"
      ]
     },
     "execution_count": 28,
     "metadata": {},
     "output_type": "execute_result"
    }
   ],
   "source": [
    "a[0] #첫번째원소"
   ]
  },
  {
   "cell_type": "code",
   "execution_count": null,
   "id": "9d0163c9-74d4-46bf-a3ad-89380d9409a7",
   "metadata": {},
   "outputs": [
    {
     "data": {
      "text/plain": [
       "'l'"
      ]
     },
     "execution_count": 29,
     "metadata": {},
     "output_type": "execute_result"
    }
   ],
   "source": [
    "a[1] #두번째원소 "
   ]
  },
  {
   "cell_type": "markdown",
   "id": "7e91dc3f-e92a-4064-8e55-ff19b985bf02",
   "metadata": {},
   "source": [
    "마지막원소는 -1로 호출할 수도 있다. "
   ]
  },
  {
   "cell_type": "code",
   "execution_count": null,
   "id": "ab8cd082-9610-47e0-8edc-63ba70b02fba",
   "metadata": {},
   "outputs": [
    {
     "data": {
      "text/plain": [
       "'r'"
      ]
     },
     "execution_count": 30,
     "metadata": {},
     "output_type": "execute_result"
    }
   ],
   "source": [
    "a[-1]"
   ]
  },
  {
   "cell_type": "markdown",
   "id": "39346e8f-65c7-4ddc-b1b2-1dd5836b1fb8",
   "metadata": {},
   "source": [
    "마지막에서 2번째 원소는 -2로 호출가능하다. "
   ]
  },
  {
   "cell_type": "code",
   "execution_count": null,
   "id": "1a08918a-dd52-4cf9-9af3-40fa85286010",
   "metadata": {},
   "outputs": [
    {
     "data": {
      "text/plain": [
       "'a'"
      ]
     },
     "execution_count": 31,
     "metadata": {},
     "output_type": "execute_result"
    }
   ],
   "source": [
    "a[-2]"
   ]
  },
  {
   "cell_type": "markdown",
   "id": "5ba6a576-6aac-42cc-b353-0dea039386c8",
   "metadata": {},
   "source": [
    "`-` 요약하면 아래와 같은 방식으로 호출가능함. "
   ]
  },
  {
   "cell_type": "markdown",
   "id": "a7e4c001-1ab3-4e7d-b3db-8b5180b39109",
   "metadata": {},
   "source": [
    "|o|l|d|c|a|r|\n",
    "|:-:|:-:|:-:|:-:|:-:|:-:|\n",
    "|0|1|2|3|4|5|\n",
    "|0|-5|-4|-3|-2|-1|"
   ]
  },
  {
   "cell_type": "code",
   "execution_count": null,
   "id": "d222d0bc-437d-4299-8cfc-b0260d180785",
   "metadata": {},
   "outputs": [
    {
     "data": {
      "text/plain": [
       "'a'"
      ]
     },
     "execution_count": 32,
     "metadata": {},
     "output_type": "execute_result"
    }
   ],
   "source": [
    "a[4]"
   ]
  },
  {
   "cell_type": "code",
   "execution_count": null,
   "id": "56057a90-ba4c-4168-81a2-9c42affd7d0f",
   "metadata": {},
   "outputs": [
    {
     "data": {
      "text/plain": [
       "'a'"
      ]
     },
     "execution_count": 33,
     "metadata": {},
     "output_type": "execute_result"
    }
   ],
   "source": [
    "a[-2]"
   ]
  },
  {
   "cell_type": "code",
   "execution_count": null,
   "id": "b82ad618-bcab-49c5-ba4a-c92b36b3b57d",
   "metadata": {},
   "outputs": [
    {
     "data": {
      "text/plain": [
       "'d'"
      ]
     },
     "execution_count": 34,
     "metadata": {},
     "output_type": "execute_result"
    }
   ],
   "source": [
    "a[-4]"
   ]
  },
  {
   "cell_type": "markdown",
   "id": "7f531e43-9d6f-43e0-9a7b-3b08cc8c9e3a",
   "metadata": {},
   "source": [
    "`-` `:`을 이용하여 여러개의 원소를 호출할 수 있음. "
   ]
  },
  {
   "cell_type": "code",
   "execution_count": null,
   "id": "85eeea0d-ea58-42c7-ad9a-9e5937151342",
   "metadata": {},
   "outputs": [],
   "source": [
    "a='oldcar'"
   ]
  },
  {
   "cell_type": "code",
   "execution_count": null,
   "id": "8bd6804a-5252-4669-996d-214b7feb25c2",
   "metadata": {},
   "outputs": [
    {
     "data": {
      "text/plain": [
       "'old'"
      ]
     },
     "execution_count": 36,
     "metadata": {},
     "output_type": "execute_result"
    }
   ],
   "source": [
    "a[0:3] # a[0],a[1],a[2],a[3]이 아니라 a[0],a[1],a[2]까지만 뽑힌다. 즉 마지막의 3은 호출되지 않는다. "
   ]
  },
  {
   "cell_type": "code",
   "execution_count": null,
   "id": "191124ff-bf39-4faf-a5e2-664b458a90de",
   "metadata": {},
   "outputs": [
    {
     "data": {
      "text/plain": [
       "'ld'"
      ]
     },
     "execution_count": 37,
     "metadata": {},
     "output_type": "execute_result"
    }
   ],
   "source": [
    "a[1:3] # a[1], a[2] 만 호출 // start=1,  stop=3 "
   ]
  },
  {
   "cell_type": "markdown",
   "id": "44d20a14-f062-481d-b038-1ad8802981d6",
   "metadata": {},
   "source": [
    "index=1부터 시작해서 마지막원소까지 호출하려면? "
   ]
  },
  {
   "cell_type": "code",
   "execution_count": null,
   "id": "67fea21b-c25a-46e4-af3c-194a97f686ea",
   "metadata": {},
   "outputs": [
    {
     "data": {
      "text/plain": [
       "'r'"
      ]
     },
     "execution_count": 38,
     "metadata": {},
     "output_type": "execute_result"
    }
   ],
   "source": [
    "a[5] # guebin의 마지막원소 'n'이 출려 "
   ]
  },
  {
   "cell_type": "code",
   "execution_count": null,
   "id": "a15a7456-47b3-44fe-819f-612e3775cd08",
   "metadata": {},
   "outputs": [
    {
     "data": {
      "text/plain": [
       "'ldca'"
      ]
     },
     "execution_count": 39,
     "metadata": {},
     "output_type": "execute_result"
    }
   ],
   "source": [
    "a[1:5] # 5는 포함되지 않으므로 틀림"
   ]
  },
  {
   "cell_type": "code",
   "execution_count": null,
   "id": "eef837d2-31b6-4157-adb8-63205d0edacd",
   "metadata": {},
   "outputs": [
    {
     "data": {
      "text/plain": [
       "'ldcar'"
      ]
     },
     "execution_count": 44,
     "metadata": {},
     "output_type": "execute_result"
    }
   ],
   "source": [
    "a[1:6] # 정답"
   ]
  },
  {
   "cell_type": "markdown",
   "id": "85da7b82-7c03-45d1-8fb0-c9758f55300a",
   "metadata": {},
   "source": [
    "안 헷갈리는 방법은 없을까? "
   ]
  },
  {
   "cell_type": "code",
   "execution_count": null,
   "id": "08a1556e-1662-46d9-9049-6ccfe1d7fbe9",
   "metadata": {},
   "outputs": [
    {
     "data": {
      "text/plain": [
       "'r'"
      ]
     },
     "execution_count": 45,
     "metadata": {},
     "output_type": "execute_result"
    }
   ],
   "source": [
    "a[-1]"
   ]
  },
  {
   "cell_type": "code",
   "execution_count": null,
   "id": "7958787f-62bd-4974-bbc5-8996e7cd2e7e",
   "metadata": {},
   "outputs": [
    {
     "data": {
      "text/plain": [
       "'ldca'"
      ]
     },
     "execution_count": 46,
     "metadata": {},
     "output_type": "execute_result"
    }
   ],
   "source": [
    "a[1:-1] # 이것은 결국 (a[1:5]와 같은 것임) "
   ]
  },
  {
   "cell_type": "markdown",
   "id": "b3fded19-c38b-482b-88c6-ad4c2e3c48c5",
   "metadata": {},
   "source": [
    "해결책? 생략한다!!"
   ]
  },
  {
   "cell_type": "code",
   "execution_count": null,
   "id": "6f72dc58-70d1-4222-8365-fbebb46b6fba",
   "metadata": {},
   "outputs": [
    {
     "data": {
      "text/plain": [
       "'ldcar'"
      ]
     },
     "execution_count": 47,
     "metadata": {},
     "output_type": "execute_result"
    }
   ],
   "source": [
    "a[1:]"
   ]
  },
  {
   "cell_type": "markdown",
   "id": "269d3f7c-c701-4006-8b7d-fdac981f23af",
   "metadata": {},
   "source": [
    "`-` 생략의 응용1"
   ]
  },
  {
   "cell_type": "code",
   "execution_count": null,
   "id": "ebb668bc-7a29-4fb5-a52f-8017fae1d427",
   "metadata": {},
   "outputs": [
    {
     "data": {
      "text/plain": [
       "'k-pop'"
      ]
     },
     "execution_count": 48,
     "metadata": {},
     "output_type": "execute_result"
    }
   ],
   "source": [
    "a='k-pop' \n",
    "a"
   ]
  },
  {
   "cell_type": "code",
   "execution_count": null,
   "id": "c93de96b-47d3-416e-ba34-f63af816d5b5",
   "metadata": {},
   "outputs": [
    {
     "data": {
      "text/plain": [
       "'pop'"
      ]
     },
     "execution_count": 49,
     "metadata": {},
     "output_type": "execute_result"
    }
   ],
   "source": [
    "a[2:5]"
   ]
  },
  {
   "cell_type": "code",
   "execution_count": null,
   "id": "e3b5be1f-81d7-4c7e-bea7-8a10a9a96de9",
   "metadata": {},
   "outputs": [
    {
     "data": {
      "text/plain": [
       "'pop'"
      ]
     },
     "execution_count": 50,
     "metadata": {},
     "output_type": "execute_result"
    }
   ],
   "source": [
    "a[2:]"
   ]
  },
  {
   "cell_type": "markdown",
   "id": "eb165b0c-0cd3-4ba0-afbd-061a1862e96e",
   "metadata": {},
   "source": [
    "`-` 생략의 응용2"
   ]
  },
  {
   "cell_type": "code",
   "execution_count": null,
   "id": "39573e0e-f126-4ac6-9e25-81808de43abc",
   "metadata": {},
   "outputs": [
    {
     "data": {
      "text/plain": [
       "'k-pop'"
      ]
     },
     "execution_count": 51,
     "metadata": {},
     "output_type": "execute_result"
    }
   ],
   "source": [
    "a='k-pop'\n",
    "a"
   ]
  },
  {
   "cell_type": "code",
   "execution_count": null,
   "id": "3ca5f1b9-edf2-4167-9454-31ba678d7885",
   "metadata": {},
   "outputs": [
    {
     "data": {
      "text/plain": [
       "'k-'"
      ]
     },
     "execution_count": 52,
     "metadata": {},
     "output_type": "execute_result"
    }
   ],
   "source": [
    "a[0:2] # a[0],a[1]"
   ]
  },
  {
   "cell_type": "code",
   "execution_count": null,
   "id": "c2e5b324-3ffc-4255-a451-42ec35348972",
   "metadata": {},
   "outputs": [
    {
     "data": {
      "text/plain": [
       "'k-'"
      ]
     },
     "execution_count": 53,
     "metadata": {},
     "output_type": "execute_result"
    }
   ],
   "source": [
    "a[:2] # a[0],a[1] "
   ]
  },
  {
   "cell_type": "markdown",
   "id": "bc3b1162-45cf-43c7-8144-8c62f833fed4",
   "metadata": {},
   "source": [
    "`-` 생략의 응용3"
   ]
  },
  {
   "cell_type": "code",
   "execution_count": null,
   "id": "bf2ab102-c77e-4919-9a01-da6620c08bfa",
   "metadata": {},
   "outputs": [
    {
     "data": {
      "text/plain": [
       "'k-pop'"
      ]
     },
     "execution_count": 54,
     "metadata": {},
     "output_type": "execute_result"
    }
   ],
   "source": [
    "a='k-pop'\n",
    "a"
   ]
  },
  {
   "cell_type": "code",
   "execution_count": null,
   "id": "7249f42e-d2a0-453f-841d-eb1d98624eac",
   "metadata": {},
   "outputs": [
    {
     "data": {
      "text/plain": [
       "'k-pop'"
      ]
     },
     "execution_count": 55,
     "metadata": {},
     "output_type": "execute_result"
    }
   ],
   "source": [
    "a[0:5] # a[0],...,a[4]"
   ]
  },
  {
   "cell_type": "code",
   "execution_count": null,
   "id": "416ea3ce-3f87-4fe2-b97f-f957cf707336",
   "metadata": {},
   "outputs": [
    {
     "data": {
      "text/plain": [
       "'k-pop'"
      ]
     },
     "execution_count": 56,
     "metadata": {},
     "output_type": "execute_result"
    }
   ],
   "source": [
    "a[:]"
   ]
  },
  {
   "cell_type": "markdown",
   "id": "88aed471-88ae-445e-b7ff-eff6e8fbab1f",
   "metadata": {},
   "source": [
    "`-` 위의 방법대로 문자를 인덱싱하거나 슬라이싱해서 변수로 삽입하면 필요한 문자를 추출할 수 있다. "
   ]
  },
  {
   "cell_type": "markdown",
   "id": "919391e3-5d14-4ff5-9bfa-275adf28490e",
   "metadata": {},
   "source": [
    "`>` 그렇다면, 문자열 요소 일부를 바꾸고 싶다면??"
   ]
  },
  {
   "cell_type": "markdown",
   "id": "85f1d5f7-4397-4979-986a-7da92a3bb5a3",
   "metadata": {},
   "source": [
    "\"Pithon\"이라는 문자열을 \"Python\"으로 바꾸고 싶다. "
   ]
  },
  {
   "cell_type": "code",
   "execution_count": 13,
   "id": "74e38856-1afe-444d-83d2-d0379b1693d2",
   "metadata": {},
   "outputs": [
    {
     "ename": "TypeError",
     "evalue": "'str' object does not support item assignment",
     "output_type": "error",
     "traceback": [
      "\u001b[0;31m---------------------------------------------------------------------------\u001b[0m",
      "\u001b[0;31mTypeError\u001b[0m                                 Traceback (most recent call last)",
      "Input \u001b[0;32mIn [13]\u001b[0m, in \u001b[0;36m<cell line: 2>\u001b[0;34m()\u001b[0m\n\u001b[1;32m      1\u001b[0m a\u001b[38;5;241m=\u001b[39m \u001b[38;5;124m\"\u001b[39m\u001b[38;5;124mPithon\u001b[39m\u001b[38;5;124m\"\u001b[39m\n\u001b[0;32m----> 2\u001b[0m a[\u001b[38;5;241m1\u001b[39m] \u001b[38;5;241m=\u001b[39m \u001b[38;5;124m'\u001b[39m\u001b[38;5;124my\u001b[39m\u001b[38;5;124m'\u001b[39m\n",
      "\u001b[0;31mTypeError\u001b[0m: 'str' object does not support item assignment"
     ]
    }
   ],
   "source": [
    "a= \"Pithon\"\n",
    "a[1] = 'y' # a[1] = 'i'니까 y로 바꿔 준다는 생각."
   ]
  },
  {
   "cell_type": "markdown",
   "id": "11ecb903-51cf-4cc6-baa4-03a2b7668e63",
   "metadata": {},
   "source": [
    "오류 발생! 왜냐면 문자열의 요솟값은 바꿀 수 없다. 문자열 자료형은 immutable (변화불가) 자료형이다.  \n",
    "때문에 만일 문자열 요솟값을 바꾸고 싶다면 슬라이싱 기법을 사용하자. "
   ]
  },
  {
   "cell_type": "code",
   "execution_count": 16,
   "id": "bcaf919c-8bbe-44b0-a641-403e403786a6",
   "metadata": {},
   "outputs": [
    {
     "data": {
      "text/plain": [
       "'Python'"
      ]
     },
     "execution_count": 16,
     "metadata": {},
     "output_type": "execute_result"
    }
   ],
   "source": [
    "a = 'Pithon'\n",
    "a = a[:1] + 'y' + a[2:]\n",
    "a"
   ]
  },
  {
   "cell_type": "markdown",
   "id": "f31e246c-a092-4ea2-84fb-08494ca19659",
   "metadata": {
    "jp-MarkdownHeadingCollapsed": true,
    "tags": []
   },
   "source": [
    "#### 문자열 포맷팅"
   ]
  },
  {
   "cell_type": "markdown",
   "id": "d0439219-1fe6-435b-b0aa-7a7fd9d2c966",
   "metadata": {},
   "source": [
    "문자열은 요솟값을 바꾸기가 귀찮다. 때때로 우린 문자열 안의 특정한 값을 바꿔야 할 경우가 있을다. \n",
    "\n",
    "\"현재 온도는 18도입니다.\"  \n",
    "\"현재 온도는 20도입니다.\"\n",
    "\n",
    "이렇게 온도의 숫자만 자동 혹은 계산으로 바꿔야할 때, 이것을 가능하게 해주는 것이 바로 문자열 포매팅 기법이다. 쉽게 말해 문자열 포매팅이란 문자열 안에 어떤 값을 삽입하는 방법이다"
   ]
  },
  {
   "cell_type": "markdown",
   "id": "a2cb39c1-96dd-4bf8-a1c2-7266dd3da68e",
   "metadata": {},
   "source": [
    "`-` %s 와 %d 포맷팅"
   ]
  },
  {
   "cell_type": "code",
   "execution_count": 56,
   "id": "bda91fb8-051f-4af7-bab0-90aae74889e2",
   "metadata": {},
   "outputs": [
    {
     "name": "stdout",
     "output_type": "stream",
     "text": [
      "I eat 3 apples.\n",
      "I eat 3 apples.I eat 3 apples.I eat 3 apples.\n"
     ]
    }
   ],
   "source": [
    "# 숫자 바로 대입\n",
    "\n",
    "print('I eat %d apples.' % 3)\n",
    "\n",
    "# 숫자 값이 있는 변수로 대입\n",
    "\n",
    "Num = 3\n",
    "print('I eat %d apples.' % Num* ) "
   ]
  },
  {
   "cell_type": "code",
   "execution_count": 29,
   "id": "7ad8569e-f60a-4d8b-806e-5062cc749778",
   "metadata": {},
   "outputs": [
    {
     "name": "stdout",
     "output_type": "stream",
     "text": [
      "I eat five apples.\n",
      "I eat 5 apples.\n"
     ]
    }
   ],
   "source": [
    "# 문자열 바로 대입 \n",
    "\n",
    "print('I eat %s apples.' % 'five') # 문자열을 넣는거니 따옴표 필수\n",
    "\n",
    "# %s는 사실 어떤걸 넣어도 상관이 없다. 정수, 실수를 넣어도 무방\n",
    "print('I eat %s apples.' % 5)"
   ]
  },
  {
   "cell_type": "code",
   "execution_count": 26,
   "id": "5df2a543-b6ea-40f0-9066-af346aec55ef",
   "metadata": {},
   "outputs": [
    {
     "data": {
      "text/plain": [
       "'I ate 5 apples. so I was sick for three days'"
      ]
     },
     "execution_count": 26,
     "metadata": {},
     "output_type": "execute_result"
    }
   ],
   "source": [
    "# 2개 이상의 값 넣기 \n",
    "\n",
    "'I ate %d apples. so I was sick for %s days' % (5, 'three') # 콤마로 구분하여 각각의 값 넣기"
   ]
  },
  {
   "cell_type": "markdown",
   "id": "7edb4873-8f6a-4384-8058-78481028fa1a",
   "metadata": {},
   "source": [
    "`-` 포맷 코드와 숫자 사용"
   ]
  },
  {
   "cell_type": "code",
   "execution_count": 36,
   "id": "b66d4bbc-fe0c-4eee-b832-d7d095104330",
   "metadata": {},
   "outputs": [
    {
     "name": "stdout",
     "output_type": "stream",
     "text": [
      "        hi\n",
      "hi        oldcar\n",
      "3.4213\n",
      "    3.4213\n"
     ]
    }
   ],
   "source": [
    "# 정렬과 공백\n",
    "\n",
    "print('%10s' % 'hi') # 전체길이 10개, 오른쪽 정렬\n",
    "print('%-10soldcar' % 'hi') # 전체길이 10개, 왼쪽정렬 추가\n",
    "\n",
    "# 소수점 표현 \n",
    "print('%0.4f' % 3.42134234) # 소수점 4번째 자리까지만 나타내고 싶음. \n",
    "\n",
    "# 둘이 합쳐서 \n",
    "\n",
    "print('%10.4f' % 3.42134234) # 길이 10, 소수점 4번째, 오른쪽 정렬"
   ]
  },
  {
   "cell_type": "markdown",
   "id": "b0d44c10-bab5-4882-aa87-42e3f7340b21",
   "metadata": {},
   "source": [
    "`-` format 포맷팅"
   ]
  },
  {
   "cell_type": "markdown",
   "id": "708f83b4-4d48-46ff-a928-a723914fc68d",
   "metadata": {},
   "source": [
    "format 함수를 이용한 보다 발전된 포맷팅 방법이다. "
   ]
  },
  {
   "cell_type": "code",
   "execution_count": 37,
   "id": "e9cd949d-100e-4921-a1a4-d2d18f5d281e",
   "metadata": {},
   "outputs": [
    {
     "data": {
      "text/plain": [
       "'I eat 3 apples'"
      ]
     },
     "execution_count": 37,
     "metadata": {},
     "output_type": "execute_result"
    }
   ],
   "source": [
    "'I eat {0} apples'.format(3) # 숫자대입"
   ]
  },
  {
   "cell_type": "code",
   "execution_count": 42,
   "id": "c1af1e26-1921-4649-b503-5d2502d67c44",
   "metadata": {},
   "outputs": [
    {
     "data": {
      "text/plain": [
       "'I eat three apples'"
      ]
     },
     "execution_count": 42,
     "metadata": {},
     "output_type": "execute_result"
    }
   ],
   "source": [
    "'I eat {0} apples'.format('three') # 문자대입"
   ]
  },
  {
   "cell_type": "code",
   "execution_count": 57,
   "id": "1cd7fbdc-97af-4139-a5df-54b66f542f09",
   "metadata": {},
   "outputs": [
    {
     "data": {
      "text/plain": [
       "'I eat three apples, so i was sick for 9 days.'"
      ]
     },
     "execution_count": 57,
     "metadata": {},
     "output_type": "execute_result"
    }
   ],
   "source": [
    "# 변수 및 2개 이상 포맷팅 사용하기 \n",
    "\n",
    "num = 'three'\n",
    "day = 3\n",
    "\n",
    "'I eat {0} apples, so i was sick for {1} days.'.format(num,day*3) # {0},{1}은 인덱싱, 즉 순서이다. / day*3처럼 변수에 연산을 해서 넣을 수 있다. \n"
   ]
  },
  {
   "cell_type": "code",
   "execution_count": 43,
   "id": "e40609ba-a2ab-44c5-ad98-a53a8fa71fae",
   "metadata": {},
   "outputs": [
    {
     "data": {
      "text/plain": [
       "'I eat 10 apples, so i was sick for 3 days.'"
      ]
     },
     "execution_count": 43,
     "metadata": {},
     "output_type": "execute_result"
    }
   ],
   "source": [
    "# 변수명으로 넣기 \n",
    "\n",
    "'I eat {num} apples, so i was sick for {day} days.'.format(num = 10 ,day = 3)"
   ]
  },
  {
   "cell_type": "markdown",
   "id": "dd69a4b3-c7f6-4233-9ece-e694dd3822be",
   "metadata": {},
   "source": [
    "> 알아두면 좋은 잡기술"
   ]
  },
  {
   "cell_type": "code",
   "execution_count": 45,
   "id": "54f1409b-070a-40f4-a531-1c07b09532c7",
   "metadata": {},
   "outputs": [
    {
     "name": "stdout",
     "output_type": "stream",
     "text": [
      "        hi\n",
      "hi        \n",
      "    hi    \n",
      "====hi====\n"
     ]
    }
   ],
   "source": [
    "print('{0:>10}'.format('hi')) # 자릿수 10개, 왼쪽 정렬로 포맷팅\n",
    "print('{0:<10}'.format('hi')) # 위와 동일, 오른쪽 정렬\n",
    "print('{0:^10}'.format('hi')) # 위와 동일, 중앙 정렬\n",
    "\n",
    "print('{0:=^10}'.format('hi')) # 공백을 =으로 채우기."
   ]
  },
  {
   "cell_type": "markdown",
   "id": "4752c4ca-24ff-4606-a128-2eb53519c023",
   "metadata": {},
   "source": [
    "**`-` f 문자열 포매팅**"
   ]
  },
  {
   "cell_type": "markdown",
   "id": "dc2c117b-f814-4266-9766-85ed795c068a",
   "metadata": {},
   "source": [
    "- 포매팅은 다양한 문자열 속에 변수를 대입하여 출력하기 위해 고안된 방법이다. \n",
    "- 특정 부분을 간단하게 수정할 수 있다. \n",
    "- 문자열 앞에 f 접두사를 붙이면, f 문자열 포매팅 기능 사용 가능.\n",
    "- 포매팅 방법 중 가장 편리하다고 알고 있음. "
   ]
  },
  {
   "cell_type": "code",
   "execution_count": 53,
   "id": "b5caa385-7ee2-4f65-90fd-a150a2caf89d",
   "metadata": {
    "tags": []
   },
   "outputs": [
    {
     "name": "stdout",
     "output_type": "stream",
     "text": [
      "안녕하세요, 27살 oldcar입니다. 내년엔 28 이겠네요.\n"
     ]
    }
   ],
   "source": [
    "# 문자열 맨 앞에 f를 붙이고, 출력할 변수, 값을 중괄호 안에 넣습니다.\n",
    "\n",
    "name = 'oldcar'\n",
    "age = 27\n",
    "\n",
    "result = f'안녕하세요, {age}살 {name}입니다. 내년엔 {age+1} 이겠네요.'\n",
    "\n",
    "print(result)"
   ]
  },
  {
   "cell_type": "markdown",
   "id": "90eaaff7-5f0c-45e1-8668-19210cc67ba5",
   "metadata": {},
   "source": [
    "format함수를 이용하지 않고 f문자열 포매팅을 사용하니까 더 짧고 명료하게 코드를 짤 수 있고 위와 같이 변수에 연산을 더 자유롭게 넣을 수 있다. "
   ]
  },
  {
   "cell_type": "code",
   "execution_count": 55,
   "id": "9167b2ef-adfa-4d1f-813b-ffd7aae2e623",
   "metadata": {},
   "outputs": [
    {
     "name": "stdout",
     "output_type": "stream",
     "text": [
      "my name Oldcar, gender man, age 27\n"
     ]
    }
   ],
   "source": [
    "# f-string과 딕셔너리\n",
    "\n",
    "d = {'name': 'Oldcar', 'gender': 'man', 'age': 27}\n",
    "result = f'my name {d[\"name\"]}, gender {d[\"gender\"]}, age {d[\"age\"]}' #딕셔너리 key를 넣으면 value가 나옴. \n",
    "\n",
    "print(result)"
   ]
  },
  {
   "cell_type": "markdown",
   "id": "4f47d8f4-0874-441e-a69f-4bd5c8c77e9a",
   "metadata": {
    "jp-MarkdownHeadingCollapsed": true,
    "tags": []
   },
   "source": [
    "#### 문자열 자료형 함수"
   ]
  },
  {
   "cell_type": "code",
   "execution_count": 65,
   "id": "f15120dd-3397-455d-adfd-c4f64ec6e977",
   "metadata": {},
   "outputs": [
    {
     "name": "stdout",
     "output_type": "stream",
     "text": [
      "2\n",
      "14\n",
      "Korean is the best choice\n",
      "['Python', 'is', 'the', 'best', 'choice']\n",
      "Python is the best choice\n"
     ]
    }
   ],
   "source": [
    "a = \"Python is the best choice\"\n",
    "\n",
    "print(a.count('s')) # 문자가 몇개 있는지\n",
    "print(a.find('b')) # 원하는 문자열이 어디에 있는지\n",
    "print(a.replace('Python','Korean')) # 문자열 대체 / 바로 저장은 안됨\n",
    "print(a.split()) # 구분자로 문자열 분리 / 리스트로 반환됨\n",
    "a = a.split()\n",
    "print(' '.join(a)) # 리스트 원소를 구분자로 합쳐서 문자열 변환 "
   ]
  },
  {
   "cell_type": "markdown",
   "id": "4ec6a550-d646-4039-9780-2b43080a51dc",
   "metadata": {
    "jp-MarkdownHeadingCollapsed": true,
    "tags": []
   },
   "source": [
    "#### str 특수기능 "
   ]
  },
  {
   "cell_type": "markdown",
   "id": "870075a6-910f-4615-b05d-ce9288b0308a",
   "metadata": {},
   "source": [
    "`-` 파이썬의 변수는 단순히 정보를 담는 그릇이 아니다. 유용한 기능을 제공하는 경우가 있다. "
   ]
  },
  {
   "cell_type": "code",
   "execution_count": 57,
   "id": "c4cbac24-f328-4c1b-8e79-fc7559c86f21",
   "metadata": {},
   "outputs": [
    {
     "data": {
      "text/plain": [
       "'ABCD'"
      ]
     },
     "execution_count": 57,
     "metadata": {},
     "output_type": "execute_result"
    }
   ],
   "source": [
    "a='ABCD' # a라는 변수는 'ABCD'라는 정보를 담는 그릇의 역할만 하지 않고, 특화된 어떠한 기능도 제공한다. \n",
    "a"
   ]
  },
  {
   "cell_type": "code",
   "execution_count": 58,
   "id": "70ae95ba-1242-4074-887e-85d28d6f7b91",
   "metadata": {},
   "outputs": [
    {
     "data": {
      "text/plain": [
       "'abcd'"
      ]
     },
     "execution_count": 58,
     "metadata": {},
     "output_type": "execute_result"
    }
   ],
   "source": [
    "a.lower() # a.lower()를 쓰면 a의 모든 문자를 소문자로 바꾸는 기능을 제공, lower(a)라고 읽자!"
   ]
  },
  {
   "cell_type": "markdown",
   "id": "6bc121c9-25d6-40a1-a634-a9cb22fa9486",
   "metadata": {},
   "source": [
    "여기에서 lower()는 문자열에 특화된 기능임. 따라서 당연히 아래는 불가능 "
   ]
  },
  {
   "cell_type": "code",
   "execution_count": 59,
   "id": "158398ca-9572-4db8-b1a5-065703aa6d77",
   "metadata": {},
   "outputs": [
    {
     "ename": "AttributeError",
     "evalue": "'float' object has no attribute 'lower'",
     "output_type": "error",
     "traceback": [
      "\u001b[0;31m---------------------------------------------------------------------------\u001b[0m",
      "\u001b[0;31mAttributeError\u001b[0m                            Traceback (most recent call last)",
      "Input \u001b[0;32mIn [59]\u001b[0m, in \u001b[0;36m<cell line: 2>\u001b[0;34m()\u001b[0m\n\u001b[1;32m      1\u001b[0m a\u001b[38;5;241m=\u001b[39m\u001b[38;5;241m3.14\u001b[39m\n\u001b[0;32m----> 2\u001b[0m \u001b[43ma\u001b[49m\u001b[38;5;241;43m.\u001b[39;49m\u001b[43mlower\u001b[49m()\n",
      "\u001b[0;31mAttributeError\u001b[0m: 'float' object has no attribute 'lower'"
     ]
    }
   ],
   "source": [
    "a=3.14\n",
    "a.lower() # lower(a)"
   ]
  },
  {
   "cell_type": "markdown",
   "id": "dc4ce095-356b-4578-89da-03730269ff81",
   "metadata": {},
   "source": [
    "`-` 자료형에 특화된 기능(=함수)을 확인하는 방법? `a.`+ `tab` 으로 목록 확인 가능 "
   ]
  },
  {
   "cell_type": "code",
   "execution_count": 61,
   "id": "42713f48-2adc-4c4e-bf50-53545ab5d051",
   "metadata": {},
   "outputs": [],
   "source": [
    "a='oldcar'"
   ]
  },
  {
   "cell_type": "code",
   "execution_count": 62,
   "id": "39ce145d-ce12-4dc8-8bd9-c87649e552a0",
   "metadata": {},
   "outputs": [
    {
     "data": {
      "text/plain": [
       "\u001b[0;31mSignature:\u001b[0m \u001b[0ma\u001b[0m\u001b[0;34m.\u001b[0m\u001b[0mupper\u001b[0m\u001b[0;34m(\u001b[0m\u001b[0;34m)\u001b[0m\u001b[0;34m\u001b[0m\u001b[0;34m\u001b[0m\u001b[0m\n",
       "\u001b[0;31mDocstring:\u001b[0m Return a copy of the string converted to uppercase.\n",
       "\u001b[0;31mType:\u001b[0m      builtin_function_or_method\n"
      ]
     },
     "metadata": {},
     "output_type": "display_data"
    }
   ],
   "source": [
    "a.upper?"
   ]
  },
  {
   "cell_type": "code",
   "execution_count": 63,
   "id": "bd304329-77e7-483a-9993-01c0f75b345f",
   "metadata": {},
   "outputs": [
    {
     "data": {
      "text/plain": [
       "'OLDCAR'"
      ]
     },
     "execution_count": 63,
     "metadata": {},
     "output_type": "execute_result"
    }
   ],
   "source": [
    "a.upper() # upper(a) "
   ]
  },
  {
   "cell_type": "code",
   "execution_count": 64,
   "id": "a9457d01-ed55-40fb-a737-c49fa62fea31",
   "metadata": {},
   "outputs": [
    {
     "data": {
      "text/plain": [
       "'Oldcar'"
      ]
     },
     "execution_count": 64,
     "metadata": {},
     "output_type": "execute_result"
    }
   ],
   "source": [
    "a.capitalize() # capitalize(a) "
   ]
  },
  {
   "cell_type": "markdown",
   "id": "5d25058e-942f-4eca-864a-1b60553aa4cf",
   "metadata": {},
   "source": [
    "`-` 문자열에 대한 다른 내용들은 추후에 다루겠음. "
   ]
  },
  {
   "cell_type": "markdown",
   "id": "e65fd443-b66f-45a0-8729-eb18e1a3d1d8",
   "metadata": {},
   "source": [
    "`-` 마음의눈: `a.f()` 형태를 읽는 팁 \n",
    "- f()는 함수라고 생각하면 됨. \n",
    "- `a.f()`는 `f(a)`로 생각하면 편리함. \n",
    "- `a.f(2)`는 `f(a,2)`로 생각하면 편리함. \n",
    "- 이런점에서 R `%>%` 연산자와 비슷하다고 생각할 수 있다. (약간 다르긴함) "
   ]
  },
  {
   "cell_type": "markdown",
   "id": "37035ad0-18f2-4e98-b9b4-67e0f9c97a1d",
   "metadata": {},
   "source": [
    "`-` 사실 `.`은 좀 더 다양한 상황에서 쓰일 수 있다. `변수이름.함수이름()` 의 형태가 아니라 \n",
    "- `패지키이름.함수이름()`\n",
    "- `패키지이름.변수이름` \n",
    "- `패키지이름.패키지이름.함수이름()` \n",
    "- ... \n",
    "\n",
    "와 같이 다양한 형태가 가능하다. 근본적인 공통점은 `.`을 기준으로 `상위개념.하위개념` 으로 이해하는 것이 좋다. "
   ]
  },
  {
   "cell_type": "markdown",
   "id": "67bbe98c-e914-4a0c-9b1d-5aab26db660c",
   "metadata": {
    "jp-MarkdownHeadingCollapsed": true,
    "tags": []
   },
   "source": [
    "#### 0차원 vs 1차원 "
   ]
  },
  {
   "cell_type": "markdown",
   "id": "795733c5-c5da-4640-a998-2cab792ff8c6",
   "metadata": {},
   "source": [
    "`-` `len`함수 소개: 원소의 갯수를 알려주는 함수.   \n",
    "`-` 0차원은 하나의 백터 값으로 길이를 따로 잴 수 없음. 언제나 1개.  \n",
    "`-` 1차원은 백터들이 모인 일종의 집합이기 때문에 길이를 잴 수 있음.  "
   ]
  },
  {
   "cell_type": "markdown",
   "id": "07bddab1-d019-4ccb-acb1-849a3a655c92",
   "metadata": {},
   "source": [
    "(0차원) `len` 함수가 동작하지 않음."
   ]
  },
  {
   "cell_type": "code",
   "execution_count": 3,
   "id": "260ec167-5b4f-4d24-9f9c-60f25c50a94b",
   "metadata": {},
   "outputs": [],
   "source": [
    "a=3.14"
   ]
  },
  {
   "cell_type": "code",
   "execution_count": 4,
   "id": "798690d6-e6fe-49cc-a88d-d9b77745fb4a",
   "metadata": {},
   "outputs": [
    {
     "ename": "TypeError",
     "evalue": "object of type 'float' has no len()",
     "output_type": "error",
     "traceback": [
      "\u001b[0;31m---------------------------------------------------------------------------\u001b[0m",
      "\u001b[0;31mTypeError\u001b[0m                                 Traceback (most recent call last)",
      "Input \u001b[0;32mIn [4]\u001b[0m, in \u001b[0;36m<cell line: 1>\u001b[0;34m()\u001b[0m\n\u001b[0;32m----> 1\u001b[0m \u001b[38;5;28;43mlen\u001b[39;49m\u001b[43m(\u001b[49m\u001b[43ma\u001b[49m\u001b[43m)\u001b[49m\n",
      "\u001b[0;31mTypeError\u001b[0m: object of type 'float' has no len()"
     ]
    }
   ],
   "source": [
    "len(a)"
   ]
  },
  {
   "cell_type": "code",
   "execution_count": null,
   "id": "49d303fd-1067-44f5-86db-9c4c3be8c2b3",
   "metadata": {},
   "outputs": [],
   "source": [
    "b=True"
   ]
  },
  {
   "cell_type": "code",
   "execution_count": null,
   "id": "1babfb01-31dd-45a0-bc0e-f16f9f285c22",
   "metadata": {},
   "outputs": [],
   "source": [
    "len(b)"
   ]
  },
  {
   "cell_type": "markdown",
   "id": "f49b60f4-36f3-4cab-9464-d46554398e81",
   "metadata": {},
   "source": [
    "(1차원) `len` 함수가 잘 동작함. "
   ]
  },
  {
   "cell_type": "code",
   "execution_count": 5,
   "id": "74d729bb-b01b-47fb-b9c6-50c8809f1b55",
   "metadata": {},
   "outputs": [
    {
     "data": {
      "text/plain": [
       "4"
      ]
     },
     "execution_count": 5,
     "metadata": {},
     "output_type": "execute_result"
    }
   ],
   "source": [
    "a='3.14'\n",
    "len(a)"
   ]
  },
  {
   "cell_type": "code",
   "execution_count": 6,
   "id": "6509882f-0ce6-4d13-9b88-25fb49288baf",
   "metadata": {},
   "outputs": [],
   "source": [
    "b=[1,2,3] # 리스트 "
   ]
  },
  {
   "cell_type": "code",
   "execution_count": 7,
   "id": "9b514190-12c6-4177-9d8d-f56b14d28a38",
   "metadata": {},
   "outputs": [
    {
     "data": {
      "text/plain": [
       "3"
      ]
     },
     "execution_count": 7,
     "metadata": {},
     "output_type": "execute_result"
    }
   ],
   "source": [
    "len(b)"
   ]
  }
 ],
 "metadata": {
  "kernelspec": {
   "display_name": "Python 3 (ipykernel)",
   "language": "python",
   "name": "python3"
  },
  "language_info": {
   "codemirror_mode": {
    "name": "ipython",
    "version": 3
   },
   "file_extension": ".py",
   "mimetype": "text/x-python",
   "name": "python",
   "nbconvert_exporter": "python",
   "pygments_lexer": "ipython3",
   "version": "3.9.0"
  }
 },
 "nbformat": 4,
 "nbformat_minor": 5
}
