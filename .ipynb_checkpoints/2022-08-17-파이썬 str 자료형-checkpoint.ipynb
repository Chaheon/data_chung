{
 "cells": [
  {
   "cell_type": "markdown",
   "id": "d51b132c-3545-49df-b37c-c52ffae0f5c1",
   "metadata": {},
   "source": [
    "## 파이썬 기초, str 자료형 (1차원)"
   ]
  },
  {
   "cell_type": "markdown",
   "id": "6dc7e472-5af7-413e-8155-2c1e59f3596f",
   "metadata": {},
   "source": [
    "`-` 파이썬의 기본자료형은 int, float, bool, str, list, tuple, dict, set 등이 있다.\n",
    "- 0차원 자료형: int, float, bool \n",
    "- 1차원 자료형: str, list, tuple, dict, set"
   ]
  },
  {
   "cell_type": "markdown",
   "id": "df04e408-e53a-4eca-8329-570b7e165bbe",
   "metadata": {
    "tags": []
   },
   "source": [
    "### str, list, tuple, dict, set"
   ]
  },
  {
   "cell_type": "markdown",
   "id": "1378087e-885e-4833-8204-c1ec403ae70a",
   "metadata": {
    "tags": []
   },
   "source": [
    "#### str(문자열)"
   ]
  },
  {
   "cell_type": "markdown",
   "id": "a25241d6-6aa1-4d9a-a9b8-eb91f5c69287",
   "metadata": {},
   "source": [
    "문자열은 문자, 단어 등으로 구성된 문자들의 집합이다.   \n",
    "문자열은 큰따옴표, 작은 따옴표 혹은 따옴표를 3개 연속으로 사용하여 양쪽을 둘러싸서 만들 수 있다.   \n",
    "4가지나 되는 방법이 있는 이유는 문자열 속에 큰, 작은 따옴표를 넣고 싶을때를 대비해서이다.   \n",
    "백슬래시(\\)를 사용하는 방법도 있다. \\' & \\\" 등을 사용하면 따옴표를 쉽게 넣을 수 있다.   \n",
    "\n"
   ]
  },
  {
   "cell_type": "code",
   "execution_count": null,
   "id": "848ba484-59a1-4a60-83f9-3d2e1ef60099",
   "metadata": {},
   "outputs": [
    {
     "data": {
      "text/plain": [
       "\"Hello oldcar's world\""
      ]
     },
     "execution_count": 23,
     "metadata": {},
     "output_type": "execute_result"
    }
   ],
   "source": [
    "\"Hello oldcar's world\"\n",
    "'Hello oldcar\\'s world'"
   ]
  },
  {
   "cell_type": "markdown",
   "id": "796b396e-311b-43dd-908a-8075cda03748",
   "metadata": {},
   "source": [
    "줄을 바꾸고 싶을 때는 `\\n`을 삽입하거나 따옴표 3개를 연속으로 사용한다. "
   ]
  },
  {
   "cell_type": "code",
   "execution_count": null,
   "id": "59ca278f-618a-4cf3-80a7-5bcaee6ae83b",
   "metadata": {},
   "outputs": [
    {
     "name": "stdout",
     "output_type": "stream",
     "text": [
      "Hello world! \n",
      "nice to meet!\n",
      "\n",
      "hello world\n",
      "nice to meet\n",
      "\n"
     ]
    }
   ],
   "source": [
    "a = \"Hello world! \\nnice to meet!\"\n",
    "b = '''\n",
    "hello world\n",
    "nice to meet\n",
    "''' \n",
    "print(a)\n",
    "print(b)"
   ]
  },
  {
   "cell_type": "markdown",
   "id": "1e0360b2-b609-45b5-8042-6cf6a4c6526a",
   "metadata": {},
   "source": [
    "> 이스케이프 코드란 \n",
    "\n",
    "프로그래밍할 때 사용할 수 있도록 미리 정의해 둔 \"문자 조합\"이다. \n",
    "주로 출력물을 보기 좋게 정렬하는 용도로 사용한다. \n",
    "\n",
    "\n",
    "| 코드 |\t설명 | \n",
    "| ----- | ----------------------- |\n",
    "| \\n | 문자열 안에서 줄을 바꿀 때 사용 |\n",
    "| \\t | 문자열 사이에 탭 간격을 줄 때 사용 |\n",
    "| \\\\ | 문자 \\를 그대로 표현할 때 사용 |\n",
    "| \\' | 작은따옴표(')를 그대로 표현할 때 사용 |\n",
    "| \\\" | 큰따옴표(\")를 그대로 표현할 때 사용 |\n",
    "\n",
    "등이 있다. "
   ]
  },
  {
   "cell_type": "markdown",
   "id": "57dcd201-3a4f-48f4-99e3-5119cfcae26d",
   "metadata": {
    "jp-MarkdownHeadingCollapsed": true,
    "tags": []
   },
   "source": [
    "#### ***문자열 연산*** "
   ]
  },
  {
   "cell_type": "markdown",
   "id": "6ed9276c-e1d7-40e0-90b5-b8bb2524be05",
   "metadata": {},
   "source": [
    "`-` 더하기(+)연산 (연결하기)"
   ]
  },
  {
   "cell_type": "code",
   "execution_count": null,
   "id": "06578181-2400-4a3b-9719-4cb7dbb39f04",
   "metadata": {},
   "outputs": [],
   "source": [
    "a='X'\n",
    "b='2'"
   ]
  },
  {
   "cell_type": "code",
   "execution_count": null,
   "id": "8d1f6a27-242b-497f-94be-cc09b01ee9fd",
   "metadata": {},
   "outputs": [
    {
     "data": {
      "text/plain": [
       "'X2'"
      ]
     },
     "execution_count": 17,
     "metadata": {},
     "output_type": "execute_result"
    }
   ],
   "source": [
    "c=a+b\n",
    "c"
   ]
  },
  {
   "cell_type": "markdown",
   "id": "f5e7d084-64fc-41b2-86ff-70913c506382",
   "metadata": {},
   "source": [
    "`-` 빼기(-)연산 "
   ]
  },
  {
   "cell_type": "code",
   "execution_count": null,
   "id": "eaaea4e5-47be-4450-9ebf-5a0eed94169f",
   "metadata": {},
   "outputs": [
    {
     "ename": "TypeError",
     "evalue": "unsupported operand type(s) for -: 'str' and 'str'",
     "output_type": "error",
     "traceback": [
      "\u001b[0;31m---------------------------------------------------------------------------\u001b[0m",
      "\u001b[0;31mTypeError\u001b[0m                                 Traceback (most recent call last)",
      "Input \u001b[0;32mIn [18]\u001b[0m, in \u001b[0;36m<cell line: 3>\u001b[0;34m()\u001b[0m\n\u001b[1;32m      1\u001b[0m a\u001b[38;5;241m=\u001b[39m\u001b[38;5;124m'\u001b[39m\u001b[38;5;124mX2\u001b[39m\u001b[38;5;124m'\u001b[39m\n\u001b[1;32m      2\u001b[0m b\u001b[38;5;241m=\u001b[39m\u001b[38;5;124m'\u001b[39m\u001b[38;5;124m2\u001b[39m\u001b[38;5;124m'\u001b[39m\n\u001b[0;32m----> 3\u001b[0m \u001b[43ma\u001b[49m\u001b[38;5;241;43m-\u001b[39;49m\u001b[43mb\u001b[49m\n",
      "\u001b[0;31mTypeError\u001b[0m: unsupported operand type(s) for -: 'str' and 'str'"
     ]
    }
   ],
   "source": [
    "a='X2'\n",
    "b='2'\n",
    "a-b"
   ]
  },
  {
   "cell_type": "markdown",
   "id": "4e4f452d-5a62-40f7-9723-14210c10fb75",
   "metadata": {},
   "source": [
    "- 이런건 없다. "
   ]
  },
  {
   "cell_type": "markdown",
   "id": "2811d0a3-8907-4f5e-834f-89c64ae917c7",
   "metadata": {},
   "source": [
    "`-` 곱하기(*)연산 (반복)"
   ]
  },
  {
   "cell_type": "code",
   "execution_count": null,
   "id": "9da92ae1-b396-4f54-b88f-6200bbdee604",
   "metadata": {},
   "outputs": [],
   "source": [
    "a='X'"
   ]
  },
  {
   "cell_type": "code",
   "execution_count": null,
   "id": "6044e695-a829-407d-a52d-22050e46cd45",
   "metadata": {},
   "outputs": [
    {
     "data": {
      "text/plain": [
       "'XXX'"
      ]
     },
     "execution_count": 20,
     "metadata": {},
     "output_type": "execute_result"
    }
   ],
   "source": [
    "a+a+a"
   ]
  },
  {
   "cell_type": "code",
   "execution_count": null,
   "id": "3c8ff61a-7b36-4235-b020-a42396f895fc",
   "metadata": {},
   "outputs": [
    {
     "data": {
      "text/plain": [
       "'XXX'"
      ]
     },
     "execution_count": 21,
     "metadata": {},
     "output_type": "execute_result"
    }
   ],
   "source": [
    "a*3 # a*3 = a+a+a = 'X'+'X+'X'"
   ]
  },
  {
   "cell_type": "markdown",
   "id": "672107b7-1958-46c8-9e63-962c9bb99e0b",
   "metadata": {},
   "source": [
    "아래도 가능하다. "
   ]
  },
  {
   "cell_type": "code",
   "execution_count": null,
   "id": "2047d3c8-14a3-4ecb-9196-0404e0a8b347",
   "metadata": {},
   "outputs": [
    {
     "data": {
      "text/plain": [
       "'XXX'"
      ]
     },
     "execution_count": 22,
     "metadata": {},
     "output_type": "execute_result"
    }
   ],
   "source": [
    "3*a"
   ]
  },
  {
   "cell_type": "markdown",
   "id": "b7f2fb7b-7f07-4fbf-8b04-349b7b6b47ba",
   "metadata": {},
   "source": [
    "그리고 아래도 가능하다. "
   ]
  },
  {
   "cell_type": "code",
   "execution_count": null,
   "id": "c1a724a0-d9ae-421f-ae81-15adfb21ae63",
   "metadata": {},
   "outputs": [
    {
     "data": {
      "text/plain": [
       "'XXX'"
      ]
     },
     "execution_count": 23,
     "metadata": {},
     "output_type": "execute_result"
    }
   ],
   "source": [
    "a='X'\n",
    "b=3 \n",
    "a*b"
   ]
  },
  {
   "cell_type": "markdown",
   "id": "6ff19a40-5382-4742-8401-b75cf9e1ef15",
   "metadata": {},
   "source": [
    "대신에 의미상 맞지 않는 것은 수행되지 않고 에러가 난다.  \n",
    "문자열에 숫자를 연산하는건 반복으로 의미가 상통하기 때문에 가능하다고 봄"
   ]
  },
  {
   "cell_type": "code",
   "execution_count": null,
   "id": "4bb0c178-e00a-409d-9d1e-acf1f89355c7",
   "metadata": {},
   "outputs": [
    {
     "data": {
      "text/plain": [
       "'XY'"
      ]
     },
     "execution_count": 24,
     "metadata": {},
     "output_type": "execute_result"
    }
   ],
   "source": [
    "a='X'\n",
    "b='Y'\n",
    "a+b"
   ]
  },
  {
   "cell_type": "code",
   "execution_count": null,
   "id": "ab3829b2-9b00-4eef-96e1-dbaedd4b69e9",
   "metadata": {},
   "outputs": [
    {
     "ename": "TypeError",
     "evalue": "can't multiply sequence by non-int of type 'str'",
     "output_type": "error",
     "traceback": [
      "\u001b[0;31m---------------------------------------------------------------------------\u001b[0m",
      "\u001b[0;31mTypeError\u001b[0m                                 Traceback (most recent call last)",
      "Input \u001b[0;32mIn [25]\u001b[0m, in \u001b[0;36m<cell line: 1>\u001b[0;34m()\u001b[0m\n\u001b[0;32m----> 1\u001b[0m \u001b[43ma\u001b[49m\u001b[38;5;241;43m*\u001b[39;49m\u001b[43mb\u001b[49m\n",
      "\u001b[0;31mTypeError\u001b[0m: can't multiply sequence by non-int of type 'str'"
     ]
    }
   ],
   "source": [
    "a*b"
   ]
  },
  {
   "cell_type": "markdown",
   "id": "d4c3c2d5-680f-41c0-8b19-da5802cff1b0",
   "metadata": {},
   "source": [
    "`-` 나눗셈(/)연산 "
   ]
  },
  {
   "cell_type": "code",
   "execution_count": null,
   "id": "37b34146-16eb-4526-b3ba-02ec4bc64b18",
   "metadata": {},
   "outputs": [],
   "source": [
    "a='XX'"
   ]
  },
  {
   "cell_type": "code",
   "execution_count": null,
   "id": "7d57de88-9ada-4686-bf23-ae62935ef9a4",
   "metadata": {},
   "outputs": [
    {
     "ename": "TypeError",
     "evalue": "unsupported operand type(s) for /: 'str' and 'int'",
     "output_type": "error",
     "traceback": [
      "\u001b[0;31m---------------------------------------------------------------------------\u001b[0m",
      "\u001b[0;31mTypeError\u001b[0m                                 Traceback (most recent call last)",
      "Input \u001b[0;32mIn [101]\u001b[0m, in \u001b[0;36m<module>\u001b[0;34m\u001b[0m\n\u001b[0;32m----> 1\u001b[0m \u001b[43ma\u001b[49m\u001b[38;5;241;43m/\u001b[39;49m\u001b[38;5;241;43m2\u001b[39;49m\n",
      "\u001b[0;31mTypeError\u001b[0m: unsupported operand type(s) for /: 'str' and 'int'"
     ]
    }
   ],
   "source": [
    "a/2"
   ]
  },
  {
   "cell_type": "markdown",
   "id": "59e1f452-527b-4dc5-87d3-6d80e7f99f4e",
   "metadata": {},
   "source": [
    "- 이런건 없다.. "
   ]
  },
  {
   "cell_type": "markdown",
   "id": "29bd56c3-3054-4c7a-b3db-c807b367e698",
   "metadata": {
    "jp-MarkdownHeadingCollapsed": true,
    "tags": []
   },
   "source": [
    "#### ***문자열 인덱싱*** "
   ]
  },
  {
   "cell_type": "markdown",
   "id": "20045a62-7e74-4abb-9bd8-cd60e8e6b3e7",
   "metadata": {},
   "source": [
    "`-` 인덱싱이란, 무엇인가를 '가르키다'라는 뜻이다. 여기서는 특정 위치의 문자를 뽑아낸다, 추출한다고 생각하면 된다.  \n",
    "`-` str은 하나의 벡터 문자가 여러개 있는 형태라고 생각하면 된다. "
   ]
  },
  {
   "cell_type": "code",
   "execution_count": null,
   "id": "da3e5bfa-7d86-4186-bdb7-0feb97ef25f0",
   "metadata": {},
   "outputs": [],
   "source": [
    "a='oldcar'"
   ]
  },
  {
   "cell_type": "code",
   "execution_count": null,
   "id": "6c83b47c-47a1-4470-8191-edf9fe0027a6",
   "metadata": {},
   "outputs": [
    {
     "data": {
      "text/plain": [
       "'oldcar'"
      ]
     },
     "execution_count": 27,
     "metadata": {},
     "output_type": "execute_result"
    }
   ],
   "source": [
    "a"
   ]
  },
  {
   "cell_type": "markdown",
   "id": "8e498531-a0b0-440a-b70f-f462cc488525",
   "metadata": {},
   "source": [
    "- 6개의 칸에 글씨가 하나씩 들어가 있음. "
   ]
  },
  {
   "cell_type": "markdown",
   "id": "5f4c8a84-2239-4c73-bf2c-a7c260d24218",
   "metadata": {},
   "source": [
    "`-` 대괄호 `[]`안에 숫자를 넣는 방식으로 벡터의 원소를 호출할 수 있다. (주의: **인덱스가 0부터 시작함**) "
   ]
  },
  {
   "cell_type": "code",
   "execution_count": null,
   "id": "a8c25ae4-a5bb-49b6-87d3-a8f9621129f7",
   "metadata": {},
   "outputs": [
    {
     "data": {
      "text/plain": [
       "'o'"
      ]
     },
     "execution_count": 28,
     "metadata": {},
     "output_type": "execute_result"
    }
   ],
   "source": [
    "a[0] #첫번째원소"
   ]
  },
  {
   "cell_type": "code",
   "execution_count": null,
   "id": "9d0163c9-74d4-46bf-a3ad-89380d9409a7",
   "metadata": {},
   "outputs": [
    {
     "data": {
      "text/plain": [
       "'l'"
      ]
     },
     "execution_count": 29,
     "metadata": {},
     "output_type": "execute_result"
    }
   ],
   "source": [
    "a[1] #두번째원소 "
   ]
  },
  {
   "cell_type": "markdown",
   "id": "7e91dc3f-e92a-4064-8e55-ff19b985bf02",
   "metadata": {},
   "source": [
    "마지막원소는 -1로 호출할 수도 있다. "
   ]
  },
  {
   "cell_type": "code",
   "execution_count": null,
   "id": "ab8cd082-9610-47e0-8edc-63ba70b02fba",
   "metadata": {},
   "outputs": [
    {
     "data": {
      "text/plain": [
       "'r'"
      ]
     },
     "execution_count": 30,
     "metadata": {},
     "output_type": "execute_result"
    }
   ],
   "source": [
    "a[-1]"
   ]
  },
  {
   "cell_type": "markdown",
   "id": "39346e8f-65c7-4ddc-b1b2-1dd5836b1fb8",
   "metadata": {},
   "source": [
    "마지막에서 2번째 원소는 -2로 호출가능하다. "
   ]
  },
  {
   "cell_type": "code",
   "execution_count": null,
   "id": "1a08918a-dd52-4cf9-9af3-40fa85286010",
   "metadata": {},
   "outputs": [
    {
     "data": {
      "text/plain": [
       "'a'"
      ]
     },
     "execution_count": 31,
     "metadata": {},
     "output_type": "execute_result"
    }
   ],
   "source": [
    "a[-2]"
   ]
  },
  {
   "cell_type": "markdown",
   "id": "5ba6a576-6aac-42cc-b353-0dea039386c8",
   "metadata": {},
   "source": [
    "`-` 요약하면 아래와 같은 방식으로 호출가능함. "
   ]
  },
  {
   "cell_type": "markdown",
   "id": "a7e4c001-1ab3-4e7d-b3db-8b5180b39109",
   "metadata": {},
   "source": [
    "|o|l|d|c|a|r|\n",
    "|:-:|:-:|:-:|:-:|:-:|:-:|\n",
    "|0|1|2|3|4|5|\n",
    "|0|-5|-4|-3|-2|-1|"
   ]
  },
  {
   "cell_type": "code",
   "execution_count": null,
   "id": "d222d0bc-437d-4299-8cfc-b0260d180785",
   "metadata": {},
   "outputs": [
    {
     "data": {
      "text/plain": [
       "'a'"
      ]
     },
     "execution_count": 32,
     "metadata": {},
     "output_type": "execute_result"
    }
   ],
   "source": [
    "a[4]"
   ]
  },
  {
   "cell_type": "code",
   "execution_count": null,
   "id": "56057a90-ba4c-4168-81a2-9c42affd7d0f",
   "metadata": {},
   "outputs": [
    {
     "data": {
      "text/plain": [
       "'a'"
      ]
     },
     "execution_count": 33,
     "metadata": {},
     "output_type": "execute_result"
    }
   ],
   "source": [
    "a[-2]"
   ]
  },
  {
   "cell_type": "code",
   "execution_count": null,
   "id": "b82ad618-bcab-49c5-ba4a-c92b36b3b57d",
   "metadata": {},
   "outputs": [
    {
     "data": {
      "text/plain": [
       "'d'"
      ]
     },
     "execution_count": 34,
     "metadata": {},
     "output_type": "execute_result"
    }
   ],
   "source": [
    "a[-4]"
   ]
  },
  {
   "cell_type": "markdown",
   "id": "7f531e43-9d6f-43e0-9a7b-3b08cc8c9e3a",
   "metadata": {},
   "source": [
    "`-` `:`을 이용하여 여러개의 원소를 호출할 수 있음. "
   ]
  },
  {
   "cell_type": "code",
   "execution_count": null,
   "id": "85eeea0d-ea58-42c7-ad9a-9e5937151342",
   "metadata": {},
   "outputs": [],
   "source": [
    "a='oldcar'"
   ]
  },
  {
   "cell_type": "code",
   "execution_count": null,
   "id": "8bd6804a-5252-4669-996d-214b7feb25c2",
   "metadata": {},
   "outputs": [
    {
     "data": {
      "text/plain": [
       "'old'"
      ]
     },
     "execution_count": 36,
     "metadata": {},
     "output_type": "execute_result"
    }
   ],
   "source": [
    "a[0:3] # a[0],a[1],a[2],a[3]이 아니라 a[0],a[1],a[2]까지만 뽑힌다. 즉 마지막의 3은 호출되지 않는다. "
   ]
  },
  {
   "cell_type": "code",
   "execution_count": null,
   "id": "191124ff-bf39-4faf-a5e2-664b458a90de",
   "metadata": {},
   "outputs": [
    {
     "data": {
      "text/plain": [
       "'ld'"
      ]
     },
     "execution_count": 37,
     "metadata": {},
     "output_type": "execute_result"
    }
   ],
   "source": [
    "a[1:3] # a[1], a[2] 만 호출 // start=1,  stop=3 "
   ]
  },
  {
   "cell_type": "markdown",
   "id": "44d20a14-f062-481d-b038-1ad8802981d6",
   "metadata": {},
   "source": [
    "index=1부터 시작해서 마지막원소까지 호출하려면? "
   ]
  },
  {
   "cell_type": "code",
   "execution_count": null,
   "id": "67fea21b-c25a-46e4-af3c-194a97f686ea",
   "metadata": {},
   "outputs": [
    {
     "data": {
      "text/plain": [
       "'r'"
      ]
     },
     "execution_count": 38,
     "metadata": {},
     "output_type": "execute_result"
    }
   ],
   "source": [
    "a[5] # guebin의 마지막원소 'n'이 출려 "
   ]
  },
  {
   "cell_type": "code",
   "execution_count": null,
   "id": "a15a7456-47b3-44fe-819f-612e3775cd08",
   "metadata": {},
   "outputs": [
    {
     "data": {
      "text/plain": [
       "'ldca'"
      ]
     },
     "execution_count": 39,
     "metadata": {},
     "output_type": "execute_result"
    }
   ],
   "source": [
    "a[1:5] # 5는 포함되지 않으므로 틀림"
   ]
  },
  {
   "cell_type": "code",
   "execution_count": null,
   "id": "eef837d2-31b6-4157-adb8-63205d0edacd",
   "metadata": {},
   "outputs": [
    {
     "data": {
      "text/plain": [
       "'ldcar'"
      ]
     },
     "execution_count": 44,
     "metadata": {},
     "output_type": "execute_result"
    }
   ],
   "source": [
    "a[1:6] # 정답"
   ]
  },
  {
   "cell_type": "markdown",
   "id": "85da7b82-7c03-45d1-8fb0-c9758f55300a",
   "metadata": {},
   "source": [
    "안 헷갈리는 방법은 없을까? "
   ]
  },
  {
   "cell_type": "code",
   "execution_count": null,
   "id": "08a1556e-1662-46d9-9049-6ccfe1d7fbe9",
   "metadata": {},
   "outputs": [
    {
     "data": {
      "text/plain": [
       "'r'"
      ]
     },
     "execution_count": 45,
     "metadata": {},
     "output_type": "execute_result"
    }
   ],
   "source": [
    "a[-1]"
   ]
  },
  {
   "cell_type": "code",
   "execution_count": null,
   "id": "7958787f-62bd-4974-bbc5-8996e7cd2e7e",
   "metadata": {},
   "outputs": [
    {
     "data": {
      "text/plain": [
       "'ldca'"
      ]
     },
     "execution_count": 46,
     "metadata": {},
     "output_type": "execute_result"
    }
   ],
   "source": [
    "a[1:-1] # 이것은 결국 (a[1:5]와 같은 것임) "
   ]
  },
  {
   "cell_type": "markdown",
   "id": "b3fded19-c38b-482b-88c6-ad4c2e3c48c5",
   "metadata": {},
   "source": [
    "해결책? 생략한다!!"
   ]
  },
  {
   "cell_type": "code",
   "execution_count": null,
   "id": "6f72dc58-70d1-4222-8365-fbebb46b6fba",
   "metadata": {},
   "outputs": [
    {
     "data": {
      "text/plain": [
       "'ldcar'"
      ]
     },
     "execution_count": 47,
     "metadata": {},
     "output_type": "execute_result"
    }
   ],
   "source": [
    "a[1:]"
   ]
  },
  {
   "cell_type": "markdown",
   "id": "269d3f7c-c701-4006-8b7d-fdac981f23af",
   "metadata": {},
   "source": [
    "`-` 생략의 응용1"
   ]
  },
  {
   "cell_type": "code",
   "execution_count": null,
   "id": "ebb668bc-7a29-4fb5-a52f-8017fae1d427",
   "metadata": {},
   "outputs": [
    {
     "data": {
      "text/plain": [
       "'k-pop'"
      ]
     },
     "execution_count": 48,
     "metadata": {},
     "output_type": "execute_result"
    }
   ],
   "source": [
    "a='k-pop' \n",
    "a"
   ]
  },
  {
   "cell_type": "code",
   "execution_count": null,
   "id": "c93de96b-47d3-416e-ba34-f63af816d5b5",
   "metadata": {},
   "outputs": [
    {
     "data": {
      "text/plain": [
       "'pop'"
      ]
     },
     "execution_count": 49,
     "metadata": {},
     "output_type": "execute_result"
    }
   ],
   "source": [
    "a[2:5]"
   ]
  },
  {
   "cell_type": "code",
   "execution_count": null,
   "id": "e3b5be1f-81d7-4c7e-bea7-8a10a9a96de9",
   "metadata": {},
   "outputs": [
    {
     "data": {
      "text/plain": [
       "'pop'"
      ]
     },
     "execution_count": 50,
     "metadata": {},
     "output_type": "execute_result"
    }
   ],
   "source": [
    "a[2:]"
   ]
  },
  {
   "cell_type": "markdown",
   "id": "eb165b0c-0cd3-4ba0-afbd-061a1862e96e",
   "metadata": {},
   "source": [
    "`-` 생략의 응용2"
   ]
  },
  {
   "cell_type": "code",
   "execution_count": null,
   "id": "39573e0e-f126-4ac6-9e25-81808de43abc",
   "metadata": {},
   "outputs": [
    {
     "data": {
      "text/plain": [
       "'k-pop'"
      ]
     },
     "execution_count": 51,
     "metadata": {},
     "output_type": "execute_result"
    }
   ],
   "source": [
    "a='k-pop'\n",
    "a"
   ]
  },
  {
   "cell_type": "code",
   "execution_count": null,
   "id": "3ca5f1b9-edf2-4167-9454-31ba678d7885",
   "metadata": {},
   "outputs": [
    {
     "data": {
      "text/plain": [
       "'k-'"
      ]
     },
     "execution_count": 52,
     "metadata": {},
     "output_type": "execute_result"
    }
   ],
   "source": [
    "a[0:2] # a[0],a[1]"
   ]
  },
  {
   "cell_type": "code",
   "execution_count": null,
   "id": "c2e5b324-3ffc-4255-a451-42ec35348972",
   "metadata": {},
   "outputs": [
    {
     "data": {
      "text/plain": [
       "'k-'"
      ]
     },
     "execution_count": 53,
     "metadata": {},
     "output_type": "execute_result"
    }
   ],
   "source": [
    "a[:2] # a[0],a[1] "
   ]
  },
  {
   "cell_type": "markdown",
   "id": "bc3b1162-45cf-43c7-8144-8c62f833fed4",
   "metadata": {},
   "source": [
    "`-` 생략의 응용3"
   ]
  },
  {
   "cell_type": "code",
   "execution_count": null,
   "id": "bf2ab102-c77e-4919-9a01-da6620c08bfa",
   "metadata": {},
   "outputs": [
    {
     "data": {
      "text/plain": [
       "'k-pop'"
      ]
     },
     "execution_count": 54,
     "metadata": {},
     "output_type": "execute_result"
    }
   ],
   "source": [
    "a='k-pop'\n",
    "a"
   ]
  },
  {
   "cell_type": "code",
   "execution_count": null,
   "id": "7249f42e-d2a0-453f-841d-eb1d98624eac",
   "metadata": {},
   "outputs": [
    {
     "data": {
      "text/plain": [
       "'k-pop'"
      ]
     },
     "execution_count": 55,
     "metadata": {},
     "output_type": "execute_result"
    }
   ],
   "source": [
    "a[0:5] # a[0],...,a[4]"
   ]
  },
  {
   "cell_type": "code",
   "execution_count": null,
   "id": "416ea3ce-3f87-4fe2-b97f-f957cf707336",
   "metadata": {},
   "outputs": [
    {
     "data": {
      "text/plain": [
       "'k-pop'"
      ]
     },
     "execution_count": 56,
     "metadata": {},
     "output_type": "execute_result"
    }
   ],
   "source": [
    "a[:]"
   ]
  },
  {
   "cell_type": "markdown",
   "id": "4ec6a550-d646-4039-9780-2b43080a51dc",
   "metadata": {
    "tags": []
   },
   "source": [
    "#### str 특수기능 "
   ]
  },
  {
   "cell_type": "markdown",
   "id": "870075a6-910f-4615-b05d-ce9288b0308a",
   "metadata": {},
   "source": [
    "`-` 파이썬의 변수는 단순히 정보를 담는 그릇이 아니다. 유용한 기능을 제공하는 경우가 있다. "
   ]
  },
  {
   "cell_type": "code",
   "execution_count": 57,
   "id": "c4cbac24-f328-4c1b-8e79-fc7559c86f21",
   "metadata": {},
   "outputs": [
    {
     "data": {
      "text/plain": [
       "'ABCD'"
      ]
     },
     "execution_count": 57,
     "metadata": {},
     "output_type": "execute_result"
    }
   ],
   "source": [
    "a='ABCD' # a라는 변수는 'ABCD'라는 정보를 담는 그릇의 역할만 하지 않고, 특화된 어떠한 기능도 제공한다. \n",
    "a"
   ]
  },
  {
   "cell_type": "code",
   "execution_count": 58,
   "id": "70ae95ba-1242-4074-887e-85d28d6f7b91",
   "metadata": {},
   "outputs": [
    {
     "data": {
      "text/plain": [
       "'abcd'"
      ]
     },
     "execution_count": 58,
     "metadata": {},
     "output_type": "execute_result"
    }
   ],
   "source": [
    "a.lower() # a.lower()를 쓰면 a의 모든 문자를 소문자로 바꾸는 기능을 제공, lower(a)라고 읽자!"
   ]
  },
  {
   "cell_type": "markdown",
   "id": "6bc121c9-25d6-40a1-a634-a9cb22fa9486",
   "metadata": {},
   "source": [
    "여기에서 lower()는 문자열에 특화된 기능임. 따라서 당연히 아래는 불가능 "
   ]
  },
  {
   "cell_type": "code",
   "execution_count": 59,
   "id": "158398ca-9572-4db8-b1a5-065703aa6d77",
   "metadata": {},
   "outputs": [
    {
     "ename": "AttributeError",
     "evalue": "'float' object has no attribute 'lower'",
     "output_type": "error",
     "traceback": [
      "\u001b[0;31m---------------------------------------------------------------------------\u001b[0m",
      "\u001b[0;31mAttributeError\u001b[0m                            Traceback (most recent call last)",
      "Input \u001b[0;32mIn [59]\u001b[0m, in \u001b[0;36m<cell line: 2>\u001b[0;34m()\u001b[0m\n\u001b[1;32m      1\u001b[0m a\u001b[38;5;241m=\u001b[39m\u001b[38;5;241m3.14\u001b[39m\n\u001b[0;32m----> 2\u001b[0m \u001b[43ma\u001b[49m\u001b[38;5;241;43m.\u001b[39;49m\u001b[43mlower\u001b[49m()\n",
      "\u001b[0;31mAttributeError\u001b[0m: 'float' object has no attribute 'lower'"
     ]
    }
   ],
   "source": [
    "a=3.14\n",
    "a.lower() # lower(a)"
   ]
  },
  {
   "cell_type": "markdown",
   "id": "dc4ce095-356b-4578-89da-03730269ff81",
   "metadata": {},
   "source": [
    "`-` 자료형에 특화된 기능(=함수)을 확인하는 방법? `a.`+ `tab` 으로 목록 확인 가능 "
   ]
  },
  {
   "cell_type": "code",
   "execution_count": 61,
   "id": "42713f48-2adc-4c4e-bf50-53545ab5d051",
   "metadata": {},
   "outputs": [],
   "source": [
    "a='oldcar'"
   ]
  },
  {
   "cell_type": "code",
   "execution_count": 62,
   "id": "39ce145d-ce12-4dc8-8bd9-c87649e552a0",
   "metadata": {},
   "outputs": [
    {
     "data": {
      "text/plain": [
       "\u001b[0;31mSignature:\u001b[0m \u001b[0ma\u001b[0m\u001b[0;34m.\u001b[0m\u001b[0mupper\u001b[0m\u001b[0;34m(\u001b[0m\u001b[0;34m)\u001b[0m\u001b[0;34m\u001b[0m\u001b[0;34m\u001b[0m\u001b[0m\n",
       "\u001b[0;31mDocstring:\u001b[0m Return a copy of the string converted to uppercase.\n",
       "\u001b[0;31mType:\u001b[0m      builtin_function_or_method\n"
      ]
     },
     "metadata": {},
     "output_type": "display_data"
    }
   ],
   "source": [
    "a.upper?"
   ]
  },
  {
   "cell_type": "code",
   "execution_count": 63,
   "id": "bd304329-77e7-483a-9993-01c0f75b345f",
   "metadata": {},
   "outputs": [
    {
     "data": {
      "text/plain": [
       "'OLDCAR'"
      ]
     },
     "execution_count": 63,
     "metadata": {},
     "output_type": "execute_result"
    }
   ],
   "source": [
    "a.upper() # upper(a) "
   ]
  },
  {
   "cell_type": "code",
   "execution_count": 64,
   "id": "a9457d01-ed55-40fb-a737-c49fa62fea31",
   "metadata": {},
   "outputs": [
    {
     "data": {
      "text/plain": [
       "'Oldcar'"
      ]
     },
     "execution_count": 64,
     "metadata": {},
     "output_type": "execute_result"
    }
   ],
   "source": [
    "a.capitalize() # capitalize(a) "
   ]
  },
  {
   "cell_type": "markdown",
   "id": "5d25058e-942f-4eca-864a-1b60553aa4cf",
   "metadata": {},
   "source": [
    "`-` 문자열에 대한 다른 내용들은 추후에 다루겠음. "
   ]
  },
  {
   "cell_type": "markdown",
   "id": "e65fd443-b66f-45a0-8729-eb18e1a3d1d8",
   "metadata": {},
   "source": [
    "`-` 마음의눈: `a.f()` 형태를 읽는 팁 \n",
    "- f()는 함수라고 생각하면 됨. \n",
    "- `a.f()`는 `f(a)`로 생각하면 편리함. \n",
    "- `a.f(2)`는 `f(a,2)`로 생각하면 편리함. \n",
    "- 이런점에서 R `%>%` 연산자와 비슷하다고 생각할 수 있다. (약간 다르긴함) "
   ]
  },
  {
   "cell_type": "markdown",
   "id": "37035ad0-18f2-4e98-b9b4-67e0f9c97a1d",
   "metadata": {},
   "source": [
    "`-` 사실 `.`은 좀 더 다양한 상황에서 쓰일 수 있다. `변수이름.함수이름()` 의 형태가 아니라 \n",
    "- `패지키이름.함수이름()`\n",
    "- `패키지이름.변수이름` \n",
    "- `패키지이름.패키지이름.함수이름()` \n",
    "- ... \n",
    "\n",
    "와 같이 다양한 형태가 가능하다. 근본적인 공통점은 `.`을 기준으로 `상위개념.하위개념` 으로 이해하는 것이 좋다. "
   ]
  },
  {
   "cell_type": "markdown",
   "id": "67bbe98c-e914-4a0c-9b1d-5aab26db660c",
   "metadata": {
    "tags": []
   },
   "source": [
    "#### 0차원 vs 1차원 "
   ]
  },
  {
   "cell_type": "markdown",
   "id": "795733c5-c5da-4640-a998-2cab792ff8c6",
   "metadata": {},
   "source": [
    "`-` `len`함수 소개: 원소의 갯수를 알려주는 함수.   \n",
    "`-` 0차원은 하나의 백터 값으로 길이를 따로 잴 수 없음. 언제나 1개.  \n",
    "`-` 1차원은 백터들이 모인 일종의 집합이기 때문에 길이를 잴 수 있음.  "
   ]
  },
  {
   "cell_type": "markdown",
   "id": "07bddab1-d019-4ccb-acb1-849a3a655c92",
   "metadata": {},
   "source": [
    "(0차원) `len` 함수가 동작하지 않음."
   ]
  },
  {
   "cell_type": "code",
   "execution_count": 3,
   "id": "260ec167-5b4f-4d24-9f9c-60f25c50a94b",
   "metadata": {},
   "outputs": [],
   "source": [
    "a=3.14"
   ]
  },
  {
   "cell_type": "code",
   "execution_count": 4,
   "id": "798690d6-e6fe-49cc-a88d-d9b77745fb4a",
   "metadata": {},
   "outputs": [
    {
     "ename": "TypeError",
     "evalue": "object of type 'float' has no len()",
     "output_type": "error",
     "traceback": [
      "\u001b[0;31m---------------------------------------------------------------------------\u001b[0m",
      "\u001b[0;31mTypeError\u001b[0m                                 Traceback (most recent call last)",
      "Input \u001b[0;32mIn [4]\u001b[0m, in \u001b[0;36m<cell line: 1>\u001b[0;34m()\u001b[0m\n\u001b[0;32m----> 1\u001b[0m \u001b[38;5;28;43mlen\u001b[39;49m\u001b[43m(\u001b[49m\u001b[43ma\u001b[49m\u001b[43m)\u001b[49m\n",
      "\u001b[0;31mTypeError\u001b[0m: object of type 'float' has no len()"
     ]
    }
   ],
   "source": [
    "len(a)"
   ]
  },
  {
   "cell_type": "code",
   "execution_count": null,
   "id": "49d303fd-1067-44f5-86db-9c4c3be8c2b3",
   "metadata": {},
   "outputs": [],
   "source": [
    "b=True"
   ]
  },
  {
   "cell_type": "code",
   "execution_count": null,
   "id": "1babfb01-31dd-45a0-bc0e-f16f9f285c22",
   "metadata": {},
   "outputs": [],
   "source": [
    "len(b)"
   ]
  },
  {
   "cell_type": "markdown",
   "id": "f49b60f4-36f3-4cab-9464-d46554398e81",
   "metadata": {},
   "source": [
    "(1차원) `len` 함수가 잘 동작함. "
   ]
  },
  {
   "cell_type": "code",
   "execution_count": 5,
   "id": "74d729bb-b01b-47fb-b9c6-50c8809f1b55",
   "metadata": {},
   "outputs": [
    {
     "data": {
      "text/plain": [
       "4"
      ]
     },
     "execution_count": 5,
     "metadata": {},
     "output_type": "execute_result"
    }
   ],
   "source": [
    "a='3.14'\n",
    "len(a)"
   ]
  },
  {
   "cell_type": "code",
   "execution_count": 6,
   "id": "6509882f-0ce6-4d13-9b88-25fb49288baf",
   "metadata": {},
   "outputs": [],
   "source": [
    "b=[1,2,3] # 리스트 "
   ]
  },
  {
   "cell_type": "code",
   "execution_count": 7,
   "id": "9b514190-12c6-4177-9d8d-f56b14d28a38",
   "metadata": {},
   "outputs": [
    {
     "data": {
      "text/plain": [
       "3"
      ]
     },
     "execution_count": 7,
     "metadata": {},
     "output_type": "execute_result"
    }
   ],
   "source": [
    "len(b)"
   ]
  }
 ],
 "metadata": {
  "kernelspec": {
   "display_name": "Python 3 (ipykernel)",
   "language": "python",
   "name": "python3"
  },
  "language_info": {
   "codemirror_mode": {
    "name": "ipython",
    "version": 3
   },
   "file_extension": ".py",
   "mimetype": "text/x-python",
   "name": "python",
   "nbconvert_exporter": "python",
   "pygments_lexer": "ipython3",
   "version": "3.9.0"
  }
 },
 "nbformat": 4,
 "nbformat_minor": 5
}
