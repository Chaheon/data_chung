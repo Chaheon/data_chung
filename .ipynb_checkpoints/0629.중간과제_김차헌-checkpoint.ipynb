{
 "cells": [
  {
   "cell_type": "markdown",
   "id": "passing-reasoning",
   "metadata": {},
   "source": [
    "### 중간과제 알고리즘 ###"
   ]
  },
  {
   "cell_type": "markdown",
   "id": "insured-graph",
   "metadata": {},
   "source": [
    "# 무인 pos를 개발!\n",
    "\n",
    "관리자 모드, 메뉴 주문 모드 , 결제모드 \n",
    "\n",
    "관리자 모드는 비밀번호가 설정되어 있다. \n",
    "\n",
    "메뉴 및 가격을 추가 및 삭제 수정가능하다. \n",
    "\n",
    "기본 메뉴 =  자장면  5000, 짬뽕 6000, 볶음밥 6000, 탕수육 10000\n",
    "\n",
    "주문시에 메뉴 종류와 개수를 입력한다. \n",
    "\n",
    "결제시에는 테이블 번호를 입력하면 주문한 메뉴 내역 출력!\n",
    "-> 카드 또는 현금으로 처리할 지 선택 후 금액을 입력하면 결제 완료 \n",
    "\n",
    "카드면 처리가 바로 완료, 현금이면 입금 금액에 따라서 잔액을 알려줘야한다. \n",
    "\n",
    "결제 내역은 정산을 위해 파일로 저장되어야한다. (list_pay.txt)\n",
    "\n",
    "함수로 만들어라! "
   ]
  },
  {
   "cell_type": "code",
   "execution_count": null,
   "id": "african-newsletter",
   "metadata": {},
   "outputs": [],
   "source": [
    "def manager():\n",
    "    \n",
    "    "
   ]
  },
  {
   "cell_type": "code",
   "execution_count": null,
   "id": "funky-aggregate",
   "metadata": {},
   "outputs": [],
   "source": [
    "def menu():"
   ]
  },
  {
   "cell_type": "code",
   "execution_count": null,
   "id": "acquired-dating",
   "metadata": {},
   "outputs": [],
   "source": [
    "def"
   ]
  }
 ],
 "metadata": {
  "kernelspec": {
   "display_name": "Python 3",
   "language": "python",
   "name": "python3"
  },
  "language_info": {
   "codemirror_mode": {
    "name": "ipython",
    "version": 3
   },
   "file_extension": ".py",
   "mimetype": "text/x-python",
   "name": "python",
   "nbconvert_exporter": "python",
   "pygments_lexer": "ipython3",
   "version": "3.8.8"
  }
 },
 "nbformat": 4,
 "nbformat_minor": 5
}
