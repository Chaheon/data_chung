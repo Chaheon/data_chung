{
 "cells": [
  {
   "cell_type": "markdown",
   "id": "wrong-packing",
   "metadata": {},
   "source": [
    "## 파이썬 기초다루기 \n",
    "### 자료형부터 함수까지 \n",
    "#### 0628 memo\n"
   ]
  },
  {
   "cell_type": "markdown",
   "id": "assured-chase",
   "metadata": {},
   "source": [
    "------"
   ]
  },
  {
   "cell_type": "markdown",
   "id": "circular-sailing",
   "metadata": {},
   "source": [
    "### 문자열 포매팅"
   ]
  },
  {
   "cell_type": "markdown",
   "id": "electric-timothy",
   "metadata": {},
   "source": [
    "* f 문자열 포매팅 \n",
    "\n",
    "- 포매팅은 다양한 문자열 속에 변수를 대입하여 출력하기 위해 고안된 방법이다. \n",
    "- 특정 부분을 간단하게 수정할 수 있다. \n",
    "- 문자열 앞에 f 접두사를 붙이면, f 문자열 포매팅 기능 사용 가능."
   ]
  },
  {
   "cell_type": "markdown",
   "id": "nonprofit-knife",
   "metadata": {},
   "source": [
    "`-` f-string"
   ]
  },
  {
   "cell_type": "code",
   "execution_count": 9,
   "id": "adaptive-arctic",
   "metadata": {},
   "outputs": [
    {
     "name": "stdout",
     "output_type": "stream",
     "text": [
      "안녕하세요, 26살 김차헌입니다. 내년엔 27 이겠네요.\n"
     ]
    }
   ],
   "source": [
    "# 문자열 맨 앞에 f를 붙이고, 출력할 변수, 값을 중괄호 안에 넣습니다.\n",
    "\n",
    "name = '김차헌'\n",
    "age = 26\n",
    "\n",
    "result1 = f'안녕하세요, {age}살 {name}입니다. 내년엔 {age+1} 이겠네요.'\n",
    "\n",
    "print(result1)"
   ]
  },
  {
   "cell_type": "code",
   "execution_count": 12,
   "id": "saved-czech",
   "metadata": {},
   "outputs": [
    {
     "name": "stdout",
     "output_type": "stream",
     "text": [
      "my name BlockDMask, gender man, age 100\n"
     ]
    }
   ],
   "source": [
    "# f-string과 딕셔너리\n",
    "\n",
    "d = {'name': 'BlockDMask', 'gender': 'man', 'age': 100}\n",
    "result = f'my name {d[\"name\"]}, gender {d[\"gender\"]}, age {d[\"age\"]}'\n",
    "\n",
    "print(result)"
   ]
  },
  {
   "cell_type": "markdown",
   "id": "other-occupation",
   "metadata": {},
   "source": [
    "`-` format 함수 "
   ]
  },
  {
   "cell_type": "code",
   "execution_count": 3,
   "id": "oriented-fisher",
   "metadata": {},
   "outputs": [
    {
     "name": "stdout",
     "output_type": "stream",
     "text": [
      "구구단 2 x 3 = 6\n"
     ]
    }
   ],
   "source": [
    "a = 2\n",
    "b = 3\n",
    " \n",
    "s = '구구단 {0} x {1} = {2}'.format(a, b, a * b)\n",
    "print(s)"
   ]
  },
  {
   "cell_type": "code",
   "execution_count": 4,
   "id": "appointed-strengthening",
   "metadata": {},
   "outputs": [
    {
     "name": "stdout",
     "output_type": "stream",
     "text": [
      "name : BlockDMask\n",
      "age : 55\n",
      "number : 1234, gender : 남\n"
     ]
    }
   ],
   "source": [
    "# 직접 대입하기\n",
    "s1 = 'name : {0}'.format('BlockDMask')\n",
    "print(s1)\n",
    " \n",
    "\n",
    "# 변수 대입하기 \n",
    "age = 55\n",
    "s2 = 'age : {0}'.format(age)\n",
    "print(s2)\n",
    " \n",
    "# 이름으로 대입하기\n",
    "s3 = 'number : {num}, gender : {gen}'.format(num=1234, gen='남')\n",
    "print(s3)"
   ]
  },
  {
   "cell_type": "markdown",
   "id": "expensive-progressive",
   "metadata": {},
   "source": [
    "------"
   ]
  },
  {
   "cell_type": "markdown",
   "id": "objective-business",
   "metadata": {},
   "source": [
    "### 문자열 자료형 함수"
   ]
  },
  {
   "cell_type": "code",
   "execution_count": 1,
   "id": "divided-vitamin",
   "metadata": {},
   "outputs": [
    {
     "name": "stdout",
     "output_type": "stream",
     "text": [
      "1\n",
      "14\n",
      "Korean is the best choice\n",
      "['Python', 'is', 'the', 'best', 'choice']\n",
      "Python is the best choice\n"
     ]
    }
   ],
   "source": [
    "a = \"Python is the best choice\"\n",
    "\n",
    "print(a.count('b')) # 문자가 몇개 있는지\n",
    "print(a.find('b')) # 원하는 문자열이 어디에 있는지\n",
    "print(a.replace('Python','Korean')) # 문자열 대체 / 바로 저장은 안됨\n",
    "print(a.split()) # 구분자로 문자열 분리 / 리스트로 반환됨\n",
    "a = a.split()\n",
    "print(' '.join(a)) # 리스트 원소를 구분자로 합쳐서 문자열 변환 "
   ]
  },
  {
   "cell_type": "markdown",
   "id": "herbal-occasion",
   "metadata": {},
   "source": [
    "------"
   ]
  },
  {
   "cell_type": "markdown",
   "id": "utility-statistics",
   "metadata": {
    "tags": []
   },
   "source": [
    "### 리스트"
   ]
  },
  {
   "cell_type": "markdown",
   "id": "covered-madness",
   "metadata": {},
   "source": [
    "`-` 리스트 인덱싱"
   ]
  },
  {
   "cell_type": "code",
   "execution_count": 2,
   "id": "organic-parameter",
   "metadata": {},
   "outputs": [
    {
     "name": "stdout",
     "output_type": "stream",
     "text": [
      "---\n",
      "['Python', 'is']\n",
      "Pythonis\n",
      "---\n",
      "4\n",
      "---\n",
      "['Python', 'is', 'the', 'best', 'choice', 1, 2, 3, [4, 5]]\n",
      "['Python', 'is', 'the', 'best', 'choice', 'Python', 'is', 'the', 'best', 'choice']\n",
      "---\n",
      "[1, 3, 4, 4]\n",
      "[1, 3, 4]\n"
     ]
    }
   ],
   "source": [
    "#리스트 인덱싱 및 슬라이싱 (문자열과 같음)\n",
    "\n",
    "print(\"---\")\n",
    "print(a[:2]) \n",
    "print(a[0]+a[1])\n",
    "\n",
    "# 리스트 안 리스트 인덱싱 \n",
    "\n",
    "print(\"---\")\n",
    "b = [1,2,3,[4,5]]\n",
    "print(b[3][0]) \n",
    "\n",
    "# 리스트 연산하기 \n",
    "\n",
    "print(\"---\") \n",
    "print(a + b)\n",
    "print(a*2)\n",
    "\n",
    "# 리스트 요소 삭제하기 \n",
    "\n",
    "print(\"---\")\n",
    "c = [1,6,7,4]\n",
    "c[1:3] = [3,4] #빈 리스트를 넣으면 삭제, 다른 원소를 넣으면 대체 \n",
    "print(c)\n",
    "del c[2] #삭제! 데이터프레임에서도 행 혹은 열을 삭제 할 수 있음\n",
    "print(c)"
   ]
  },
  {
   "cell_type": "markdown",
   "id": "peripheral-blink",
   "metadata": {},
   "source": [
    "`-` 리스트 관련 함수 "
   ]
  },
  {
   "cell_type": "code",
   "execution_count": 4,
   "id": "charged-princeton",
   "metadata": {},
   "outputs": [
    {
     "name": "stdout",
     "output_type": "stream",
     "text": [
      "[3, 4, 5, 6, 6]\n",
      "[3, 4, 5, 5, 6, 6]\n",
      "[4, 5, 5, 6, 6]\n"
     ]
    }
   ],
   "source": [
    "c.append(6) #리스트 맨 마지막에 요소 추가 / 어떤 요소든 넣을 수 있음\n",
    "c.sort()\n",
    "print(c)\n",
    "c.insert(2,5) # c[2] dfd\n",
    "print(c)\n",
    "c.pop(0) # 리스트의 x번째 요소를 돌려주고 해당 요소 삭제 \n",
    "print(c)\n",
    "print(count(6)) #리스트 안에 x가 몇개 있는지!"
   ]
  },
  {
   "cell_type": "markdown",
   "id": "photographic-filing",
   "metadata": {},
   "source": [
    "`-` 리스트 컴프리핸션\n",
    "\n",
    "- x=[조건문 for i in 반복 인자]"
   ]
  },
  {
   "cell_type": "code",
   "execution_count": 9,
   "id": "later-daisy",
   "metadata": {
    "id": "TpX9kkOnQb3w"
   },
   "outputs": [
    {
     "name": "stdout",
     "output_type": "stream",
     "text": [
      "[1, 2, 4, 8, 16, 32]\n"
     ]
    }
   ],
   "source": [
    "x=[]\n",
    "\n",
    "for i in range(6):\n",
    "    x += [2**i] # 암기법: x=x+[2**i] 에서 중복되는것을 제거하고 순서를 바꾼다  \n",
    "\n",
    "x=[2**i for i in range(6)] # 위랑 똑같이 출력됨 \n",
    "\n",
    "print(x)"
   ]
  },
  {
   "cell_type": "markdown",
   "id": "suited-baghdad",
   "metadata": {
    "id": "1Sb10gMtaOBD"
   },
   "source": [
    "문법을 암기하는 방법 \n",
    "- 조건제시법을 연상하라. \n",
    "- $\\big\\{2^0,2^1,2^2,2^3,2^4,2^5\\big\\}=\\big\\{2^i: i=0,1,\\dots, 5 \\big\\}$"
   ]
  },
  {
   "cell_type": "markdown",
   "id": "accessory-happiness",
   "metadata": {
    "id": "EjbyIvnebBS3"
   },
   "source": [
    "리스트 컴프리헨션\n",
    "- 리스트를 매우 효율적으로 만드는 테크닉 \n",
    "- `for`문에 비하여 가지고 있는 장점: (1) 코드가 간단하다. (2) 빠르다. "
   ]
  },
  {
   "cell_type": "markdown",
   "id": "dietary-danish",
   "metadata": {},
   "source": [
    "------"
   ]
  },
  {
   "cell_type": "markdown",
   "id": "heated-money",
   "metadata": {},
   "source": [
    "### 튜플 자료형\n",
    "\n",
    " - 튜플은 리스트와 다르게 ()로 둘러싸였으며 변경 불가능하다. \n",
    " - 리스트 처럼 모든 자료형이 들어갈 수 있다. \n",
    " - 괄호를 생략해도 되나, 분명히 튜플형일 때 사용해야한다. \n",
    " - 튜플은 프로그램 실행 동안 값이 유지되어야 할 때 사용한다. "
   ]
  },
  {
   "cell_type": "markdown",
   "id": "conservative-piece",
   "metadata": {},
   "source": [
    "- 중첩 튜플\n",
    "  - 튜플의 항목은 임의의 파이썬 객체가 사용될 수 있다. 즉, 튜플의 항목으로 튜플이 사용될 수 있다."
   ]
  },
  {
   "cell_type": "code",
   "execution_count": 10,
   "id": "double-duplicate",
   "metadata": {},
   "outputs": [
    {
     "name": "stdout",
     "output_type": "stream",
     "text": [
      "((4, 5, 6), (7, 8))\n",
      "(3, (4, 5, 6), [1, 2], '파이썬')\n"
     ]
    }
   ],
   "source": [
    "nested_tup = (4, 5, 6), (7, 8) # 지금 분명한 튜플 형태임으로 자동으로 튜플로 표시된다. \n",
    "print(nested_tup)\n",
    "\n",
    "nested_tup2 = (3, (4, 5, 6), [1, 2], \"파이썬\") # 모든 자료형태 가능\n",
    "print(nested_tup2)"
   ]
  },
  {
   "cell_type": "markdown",
   "id": "premium-facility",
   "metadata": {},
   "source": [
    "- 연산자는 리스트랑 똑같음 그냥 요소가 추가되는거지 진짜로 연산이 되는건 아님"
   ]
  },
  {
   "cell_type": "markdown",
   "id": "administrative-filing",
   "metadata": {},
   "source": [
    "#### [$\\ast$] 튜플은 단순히 불변리스트가 아니다. ($\\star\\star\\star$)"
   ]
  },
  {
   "cell_type": "markdown",
   "id": "adequate-typing",
   "metadata": {},
   "source": [
    "**[예제1]**: 튜플언패킹"
   ]
  },
  {
   "cell_type": "markdown",
   "id": "limited-infrastructure",
   "metadata": {},
   "source": [
    "튜플언패킹 -> 단순히 불변 리스트가 아닌 의미가 명확했을때 괄호를 생략할 수 있는 매우 큰 장점을 갖고 있다. "
   ]
  },
  {
   "cell_type": "code",
   "execution_count": 12,
   "id": "tropical-breeding",
   "metadata": {},
   "outputs": [
    {
     "name": "stdout",
     "output_type": "stream",
     "text": [
      "Tom\n",
      "70\n"
     ]
    }
   ],
   "source": [
    "name,age,sex,height,weight = 'Tom',20,'M',180,70 #모든 자료형들이 자유롭고 편하게 다중 할당(변수선언) 된다. \n",
    "\n",
    "print(name)\n",
    "print(weight)"
   ]
  },
  {
   "cell_type": "markdown",
   "id": "comic-pencil",
   "metadata": {},
   "source": [
    "**[예제2]**: "
   ]
  },
  {
   "cell_type": "code",
   "execution_count": 13,
   "id": "balanced-router",
   "metadata": {},
   "outputs": [
    {
     "name": "stdout",
     "output_type": "stream",
     "text": [
      "(33.9425, -118.408056)\n",
      "33.9425\n"
     ]
    }
   ],
   "source": [
    "coor=(33.9425,-118.408056)\n",
    "print(coor)\n",
    "lat, long = coor\n",
    "print(lat)\n",
    "\n"
   ]
  },
  {
   "cell_type": "markdown",
   "id": "normal-fancy",
   "metadata": {},
   "source": [
    "------"
   ]
  },
  {
   "cell_type": "markdown",
   "id": "ultimate-romantic",
   "metadata": {},
   "source": [
    "### 딕셔너리"
   ]
  },
  {
   "cell_type": "code",
   "execution_count": 27,
   "id": "exact-finder",
   "metadata": {},
   "outputs": [
    {
     "name": "stdout",
     "output_type": "stream",
     "text": [
      "{1: 'a', '이름': '김차헌'}\n",
      "dict_keys([1, '이름'])\n",
      "None\n",
      "False\n"
     ]
    }
   ],
   "source": [
    "# 쌍 추가 \n",
    "\n",
    "d = {1: 'a'}\n",
    "d['이름'] = '김차헌'\n",
    "print(d)\n",
    "\n",
    "# key에 리스트 금지!\n",
    "\n",
    "print(d.keys()) # 딕셔너리 내 모든 key 반환 / values()는 모든 값들 반환\n",
    "print(d.clear()) # 딕셔너리 모든 요소 삭제 \n",
    "print('이름 ' in d) # in 함수는 '안에' 있어? '안에꺼!' 이런 의미이다. \n"
   ]
  },
  {
   "cell_type": "markdown",
   "id": "existing-animal",
   "metadata": {},
   "source": [
    "------"
   ]
  },
  {
   "cell_type": "code",
   "execution_count": 39,
   "id": "challenging-mitchell",
   "metadata": {},
   "outputs": [
    {
     "name": "stdin",
     "output_type": "stream",
     "text": [
      "이름을 입력하시오: 김차헌\n"
     ]
    },
    {
     "name": "stdout",
     "output_type": "stream",
     "text": [
      "이름:김차헌\n"
     ]
    }
   ],
   "source": [
    "x = input('이름을 입력하시오:')\n",
    "\n",
    "print('이름', x, sep = ':')"
   ]
  },
  {
   "cell_type": "markdown",
   "id": "straight-person",
   "metadata": {},
   "source": [
    "------"
   ]
  },
  {
   "cell_type": "markdown",
   "id": "sought-creativity",
   "metadata": {},
   "source": [
    "### 함수"
   ]
  },
  {
   "cell_type": "markdown",
   "id": "protecting-arthur",
   "metadata": {},
   "source": [
    "`-` return"
   ]
  },
  {
   "cell_type": "code",
   "execution_count": 56,
   "id": "fifteen-hamburg",
   "metadata": {},
   "outputs": [
    {
     "data": {
      "text/plain": [
       "3"
      ]
     },
     "execution_count": 56,
     "metadata": {},
     "output_type": "execute_result"
    }
   ],
   "source": [
    "def add(a,b):\n",
    "    return a+b\n",
    "\n",
    "add(1,2)"
   ]
  },
  {
   "cell_type": "markdown",
   "id": "broadband-pulse",
   "metadata": {},
   "source": [
    "return은 입력 - 함수 - 출력에서 이 출력을 해주는 부분이다. \n",
    " \n",
    "매개변수들이 함수 안에서 연산이 되고 출력이 되야하는데 return이 없다면 \n",
    "그저 안에서 코드만 실행되고 저장되지 않는다. \n",
    "\n",
    "print()를 통해서 결과가 나왔다고 생각할 수 있지만 그건 실행된게 표현된 것일뿐 어떤것도 함수 밖으로 튀어 나오지 않았다. \n",
    "따라서 변수 저장이든 뭐든 될 수 없다. None이니까 "
   ]
  },
  {
   "cell_type": "code",
   "execution_count": 3,
   "id": "pressed-conjunction",
   "metadata": {},
   "outputs": [
    {
     "name": "stdout",
     "output_type": "stream",
     "text": [
      "3\n",
      "None\n"
     ]
    }
   ],
   "source": [
    "def test(a,b):\n",
    "    c= a+b\n",
    "    print(c)\n",
    "\n",
    "a = test(1,2)\n",
    "print(a)"
   ]
  },
  {
   "cell_type": "markdown",
   "id": "removed-client",
   "metadata": {},
   "source": [
    "------"
   ]
  },
  {
   "cell_type": "markdown",
   "id": "alive-contrary",
   "metadata": {},
   "source": [
    "### if, elif, else <조건문> \n",
    "\n",
    "not x  <= x가 거짓이면 참이다. \n",
    "in 리스트, 튜플, 문자열, 딕셔너리 <= 있느냐 없느냐?!\n",
    "\n",
    "elif는 위에 조건이 모두 거짓인 경우 실행되는것!"
   ]
  },
  {
   "cell_type": "code",
   "execution_count": 26,
   "id": "further-badge",
   "metadata": {},
   "outputs": [
    {
     "name": "stdin",
     "output_type": "stream",
     "text": [
      "찾는 물건은:  paper\n"
     ]
    },
    {
     "name": "stdout",
     "output_type": "stream",
     "text": [
      "찾는 물건 있어요\n"
     ]
    }
   ],
   "source": [
    "ob = input('찾는 물건은: ')\n",
    "a = ['paper', 'coin', 'phone']\n",
    "\n",
    "if ob in a :\n",
    "    print('찾는 물건 있어요')\n",
    "else:\n",
    "    print('찾는 물건 없어요')\n"
   ]
  },
  {
   "cell_type": "markdown",
   "id": "reasonable-progress",
   "metadata": {},
   "source": [
    "실습문제 점수를 입력 받아서 90점 이상이면 a , 80점 이상이면 B "
   ]
  },
  {
   "cell_type": "code",
   "execution_count": 31,
   "id": "centered-certification",
   "metadata": {},
   "outputs": [
    {
     "name": "stdin",
     "output_type": "stream",
     "text": [
      " 45\n"
     ]
    },
    {
     "name": "stdout",
     "output_type": "stream",
     "text": [
      "F\n"
     ]
    }
   ],
   "source": [
    "score = int(input())\n",
    "\n",
    "if score >= 90:\n",
    "    print('A')\n",
    "elif score >= 80:\n",
    "    print('B')\n",
    "elif score >= 70:\n",
    "    print('C')\n",
    "else:\n",
    "    print('F')"
   ]
  },
  {
   "cell_type": "code",
   "execution_count": 2,
   "id": "existing-blanket",
   "metadata": {},
   "outputs": [
    {
     "name": "stdout",
     "output_type": "stream",
     "text": [
      "1 번 출력되었습니다.\n",
      "2 번 출력되었습니다.\n",
      "3 번 출력되었습니다.\n",
      "4 번 출력되었습니다.\n",
      "5 번 출력되었습니다.\n",
      "6 번 출력되었습니다.\n",
      "7 번 출력되었습니다.\n",
      "8 번 출력되었습니다.\n",
      "9 번 출력되었습니다.\n",
      "10 번 출력되었습니다.\n"
     ]
    }
   ],
   "source": [
    "i = 1\n",
    "while i <= 10:\n",
    "    print(i, '번 출력되었습니다.')\n",
    "    i = i + 1"
   ]
  },
  {
   "cell_type": "markdown",
   "id": "integral-income",
   "metadata": {},
   "source": [
    "range(처음, 끝, 건너뛰기)"
   ]
  },
  {
   "cell_type": "code",
   "execution_count": 8,
   "id": "impressed-review",
   "metadata": {},
   "outputs": [
    {
     "name": "stdout",
     "output_type": "stream",
     "text": [
      "0 1 2 3 4 5 6 7 8 9 "
     ]
    }
   ],
   "source": [
    "for i in range(10):\n",
    "    print(i, end = \" \") # 이런식으로 end= \" \" 줄바꿈을 안하게 출력됨"
   ]
  },
  {
   "cell_type": "code",
   "execution_count": 10,
   "id": "becoming-medium",
   "metadata": {},
   "outputs": [
    {
     "data": {
      "text/plain": [
       "79.0"
      ]
     },
     "execution_count": 10,
     "metadata": {},
     "output_type": "execute_result"
    }
   ],
   "source": [
    "a = [70,60,55,75,95,90,80,80,85,100]\n",
    "\n",
    "sum = 0\n",
    "\n",
    "for i in a:\n",
    "       sum = sum + i\n",
    "\n",
    "sum / len(a)"
   ]
  },
  {
   "cell_type": "markdown",
   "id": "several-profile",
   "metadata": {},
   "source": [
    "### 입력값의 갯수를 모를때 *매개변수를 사용한다. "
   ]
  },
  {
   "cell_type": "code",
   "execution_count": 4,
   "id": "protective-baseline",
   "metadata": {},
   "outputs": [],
   "source": [
    "def add_many(*args): # *모든, args = arguments 꼭 args일 필요는 없음\n",
    "    result = 0 \n",
    "    for i in args:\n",
    "        result += i \n",
    "    return result"
   ]
  },
  {
   "cell_type": "code",
   "execution_count": 5,
   "id": "advanced-leeds",
   "metadata": {},
   "outputs": [
    {
     "name": "stdout",
     "output_type": "stream",
     "text": [
      "15\n"
     ]
    }
   ],
   "source": [
    "sum = add_many(1,2,3,4,5)\n",
    "print(sum)"
   ]
  },
  {
   "cell_type": "markdown",
   "id": "another-sugar",
   "metadata": {},
   "source": [
    "args는 무엇일까?\n",
    "\n",
    "튜플!"
   ]
  },
  {
   "cell_type": "markdown",
   "id": "surprising-texture",
   "metadata": {},
   "source": [
    "함수에서 return 을 받을 때 값은 튜플로 나온다. "
   ]
  },
  {
   "cell_type": "markdown",
   "id": "english-volleyball",
   "metadata": {},
   "source": [
    "* 함수에서 매개변수를 선언할때 고정값을 넣어야 한다면 무조건 맨 끝에 입력해야한다. "
   ]
  },
  {
   "cell_type": "markdown",
   "id": "cross-contemporary",
   "metadata": {},
   "source": [
    "------"
   ]
  }
 ],
 "metadata": {
  "kernelspec": {
   "display_name": "Python 3",
   "language": "python",
   "name": "python3"
  },
  "language_info": {
   "codemirror_mode": {
    "name": "ipython",
    "version": 3
   },
   "file_extension": ".py",
   "mimetype": "text/x-python",
   "name": "python",
   "nbconvert_exporter": "python",
   "pygments_lexer": "ipython3",
   "version": "3.8.8"
  }
 },
 "nbformat": 4,
 "nbformat_minor": 5
}
