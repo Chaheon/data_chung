{
 "cells": [
  {
   "cell_type": "markdown",
   "id": "induced-spell",
   "metadata": {},
   "source": [
    "## 0701_빅리더_수업필기_김차헌 "
   ]
  },
  {
   "cell_type": "markdown",
   "id": "expensive-graduate",
   "metadata": {},
   "source": [
    "### 데이터 크롤링 "
   ]
  },
  {
   "cell_type": "markdown",
   "id": "civic-clearing",
   "metadata": {},
   "source": [
    "`-` 라이브러리 차이 (BeautifulSoup / Selenium) "
   ]
  },
  {
   "cell_type": "markdown",
   "id": "chief-great",
   "metadata": {},
   "source": [
    "* 기본적으로 웹사이트는 문서다. HTML이라는 형식으로 쓰여진 문서.\n",
    "* 크롤링은 HTML 문서에 담긴 내용을 가져 오도록 request(요청) 하는것. \n",
    "* 결국 크롤링은 웹 문서 중 필요한 부분을 '요청'하여 긁어오는것. \n",
    "\n",
    "- 여러가지의 라이브러리가 있지만 주로 사용하는건 BeautifulSoup & Selenium"
   ]
  },
  {
   "cell_type": "markdown",
   "id": "prerequisite-polymer",
   "metadata": {},
   "source": [
    "### BeutifulSoup의 장점 (사용이유) 간략히 (정확하지 않음)\n",
    "\n",
    "- 텍스트 파일을 이용해 html을 가지고 오는 것\n",
    "- 궁금한 점 ,, 두 라이브러리의 차이는 무엇인지? "
   ]
  },
  {
   "cell_type": "markdown",
   "id": "serial-milwaukee",
   "metadata": {},
   "source": [
    "## Selenium "
   ]
  },
  {
   "cell_type": "markdown",
   "id": "preliminary-extreme",
   "metadata": {},
   "source": [
    "- 크롤링을 하기 위한 라이브러리이다. \n",
    "- 일종의 자동화 프로그램 구축 함수들이라 생각하면 된다. "
   ]
  },
  {
   "cell_type": "code",
   "execution_count": 1,
   "id": "dirty-election",
   "metadata": {
    "tags": []
   },
   "outputs": [],
   "source": [
    "from selenium import webdriver"
   ]
  },
  {
   "cell_type": "code",
   "execution_count": 2,
   "id": "beginning-latex",
   "metadata": {},
   "outputs": [],
   "source": [
    "#chromedriver 저장 경로 지정\n",
    "\n",
    "driver = webdriver.Chrome('C:\\data\\chromedriver') #크롬드라이버 탑재 \n",
    "driver.get('http://naver.com') #원하는 홈페이지 열기 "
   ]
  },
  {
   "cell_type": "code",
   "execution_count": 3,
   "id": "based-germany",
   "metadata": {},
   "outputs": [],
   "source": [
    "xpath = '//*[@id=\"account\"]/a' #원하는 버튼의 경로를 변수에 저장 \n",
    "driver.find_element_by_xpath(xpath).click() #경로를 지정하여 클릭"
   ]
  },
  {
   "cell_type": "code",
   "execution_count": 4,
   "id": "radical-charm",
   "metadata": {},
   "outputs": [],
   "source": [
    "elem_login = driver.find_element_by_id('id') #xpath 써도 되는데 해당 id= 를 그대로 넣어도 됨\n",
    "elem_login.clear() #해당하는 곳 내용 비우기 "
   ]
  },
  {
   "cell_type": "code",
   "execution_count": 5,
   "id": "patent-bride",
   "metadata": {},
   "outputs": [],
   "source": [
    "elem_login.send_keys('id') #값을 입력하는 send_keys() 여기에 내 아이디 넣기 \n",
    "elem_login = driver.find_element_by_id('pw')"
   ]
  },
  {
   "cell_type": "code",
   "execution_count": 6,
   "id": "reported-damages",
   "metadata": {},
   "outputs": [],
   "source": [
    "elem_login.clear()\n",
    "elem_login.send_keys('pw')"
   ]
  },
  {
   "cell_type": "code",
   "execution_count": 7,
   "id": "simplified-sword",
   "metadata": {},
   "outputs": [],
   "source": [
    "# 태그 오른쪽 클릭->Copy->xpath 밑에 붙여넣기\n",
    "# find_element_by_xpath(xpath) : xpath 위치 찾기\n",
    "\n",
    "xpath='//*[@id=\"log.login\"]'\n",
    "driver.find_element_by_xpath(xpath).click()"
   ]
  },
  {
   "cell_type": "markdown",
   "id": "prerequisite-zimbabwe",
   "metadata": {},
   "source": [
    "### 주유소 데이터 크롤링 및 분석하기 "
   ]
  },
  {
   "cell_type": "code",
   "execution_count": 8,
   "id": "ready-facing",
   "metadata": {},
   "outputs": [],
   "source": [
    "from selenium import webdriver"
   ]
  },
  {
   "cell_type": "code",
   "execution_count": 9,
   "id": "located-quick",
   "metadata": {},
   "outputs": [],
   "source": [
    "driver = webdriver.Chrome('C:\\data\\chromedriver')\n",
    "driver.get(\"http://www.opinet.co.kr\")"
   ]
  },
  {
   "cell_type": "code",
   "execution_count": 10,
   "id": "dynamic-share",
   "metadata": {},
   "outputs": [],
   "source": [
    "driver.get(\"https://www.opinet.co.kr/searRgSelect.do\") "
   ]
  },
  {
   "cell_type": "code",
   "execution_count": 11,
   "id": "formal-mongolia",
   "metadata": {},
   "outputs": [],
   "source": [
    "driver.find_element_by_id('SIDO_NM0').send_keys('전북')"
   ]
  },
  {
   "cell_type": "code",
   "execution_count": 12,
   "id": "beautiful-trade",
   "metadata": {},
   "outputs": [],
   "source": [
    "driver.find_element_by_id('SIGUNGU_NM0').send_keys('전주시')"
   ]
  },
  {
   "cell_type": "markdown",
   "id": "selective-induction",
   "metadata": {},
   "source": [
    "### 크롤링 태그 설명 \n",
    "\n",
    "<.option value=\"\">읍/면/동<./option>' 이게 html 코드이다. \n",
    "\n",
    "<.option> <- 이게 태그이다. .빼고 \n",
    "\n",
    "위에 말한 find_element_by_**은 해당부분 코드를 불러오는 것이다. \n",
    "\n",
    "따라서 원하는 부분이 있다면 원하는 부분의 경로 혹은 아이디 혹은 태그를 쓰고 가지고 오는것   "
   ]
  },
  {
   "cell_type": "code",
   "execution_count": 13,
   "id": "positive-capacity",
   "metadata": {},
   "outputs": [],
   "source": [
    "dong_list_raw = driver.find_element_by_xpath('//*[@id=\"DONG_NM\"]')"
   ]
  },
  {
   "cell_type": "code",
   "execution_count": 14,
   "id": "removable-tradition",
   "metadata": {},
   "outputs": [],
   "source": [
    "dong_list = dong_list_raw.find_elements_by_tag_name('option')\n",
    "\n",
    "# 지정했던 경로의 하위 태그들을 가지고 와야함. \n",
    "# 따라서 한번더 find 함수를 사용해서 밑에 원하는 태그들을 가지고 와야함 "
   ]
  },
  {
   "cell_type": "code",
   "execution_count": 15,
   "id": "demanding-joint",
   "metadata": {},
   "outputs": [
    {
     "data": {
      "text/plain": [
       "['괴란동',\n",
       " '구미동',\n",
       " '구호동',\n",
       " '귀운동',\n",
       " '나안동',\n",
       " '내동',\n",
       " '단봉동',\n",
       " '달방동',\n",
       " '대구동',\n",
       " '대진동',\n",
       " '동호동',\n",
       " '동회동',\n",
       " '만우동',\n",
       " '망상동',\n",
       " '묵호동',\n",
       " '묵호진동',\n",
       " '발한동',\n",
       " '부곡동',\n",
       " '북삼동',\n",
       " '북평동',\n",
       " '비천동',\n",
       " '삼화동',\n",
       " '송정동',\n",
       " '쇄운동',\n",
       " '신흥동',\n",
       " '심곡동',\n",
       " '어달동',\n",
       " '용정동',\n",
       " '이기동',\n",
       " '이도동',\n",
       " '이로동',\n",
       " '지가동',\n",
       " '지흥동',\n",
       " '천곡동',\n",
       " '초구동',\n",
       " '추암동',\n",
       " '평릉동',\n",
       " '호현동',\n",
       " '효가동']"
      ]
     },
     "execution_count": 15,
     "metadata": {},
     "output_type": "execute_result"
    }
   ],
   "source": [
    "dong_names = [option.get_attribute('value') for option in dong_list] #리스트 안의  value를 뽑기\n",
    "dong_names.remove('') #remove 함수는 ()안에 있는 객체를 삭제한다. \n",
    "dong_names"
   ]
  },
  {
   "cell_type": "code",
   "execution_count": 16,
   "id": "opening-isolation",
   "metadata": {},
   "outputs": [
    {
     "name": "stderr",
     "output_type": "stream",
     "text": [
      "<ipython-input-16-796eff53d2e6>:6: TqdmDeprecationWarning: This function will be removed in tqdm==5.0.0\n",
      "Please use `tqdm.notebook.tqdm` instead of `tqdm.tqdm_notebook`\n",
      "  for dong in tqdm_notebook(dong_names):\n"
     ]
    },
    {
     "data": {
      "application/vnd.jupyter.widget-view+json": {
       "model_id": "45a34700ade341d1b622c7d711a95c1d",
       "version_major": 2,
       "version_minor": 0
      },
      "text/plain": [
       "  0%|          | 0/39 [00:00<?, ?it/s]"
      ]
     },
     "metadata": {},
     "output_type": "display_data"
    },
    {
     "ename": "UnexpectedAlertPresentException",
     "evalue": "Alert Text: 시군구를 선택하여주세요\nMessage: unexpected alert open: {Alert text : 시군구를 선택하여주세요}\n  (Session info: chrome=92.0.4515.131)\n",
     "output_type": "error",
     "traceback": [
      "\u001b[1;31m---------------------------------------------------------------------------\u001b[0m",
      "\u001b[1;31mUnexpectedAlertPresentException\u001b[0m           Traceback (most recent call last)",
      "\u001b[1;32m<ipython-input-16-796eff53d2e6>\u001b[0m in \u001b[0;36m<module>\u001b[1;34m\u001b[0m\n\u001b[0;32m     10\u001b[0m     \u001b[0mdriver\u001b[0m\u001b[1;33m.\u001b[0m\u001b[0mfind_element_by_xpath\u001b[0m\u001b[1;33m(\u001b[0m\u001b[1;34m'//*[@id=\"searRgSelect\"]/span'\u001b[0m\u001b[1;33m)\u001b[0m\u001b[1;33m.\u001b[0m\u001b[0mclick\u001b[0m\u001b[1;33m(\u001b[0m\u001b[1;33m)\u001b[0m\u001b[1;33m\u001b[0m\u001b[1;33m\u001b[0m\u001b[0m\n\u001b[0;32m     11\u001b[0m     \u001b[0mtime\u001b[0m\u001b[1;33m.\u001b[0m\u001b[0msleep\u001b[0m\u001b[1;33m(\u001b[0m\u001b[1;36m1\u001b[0m\u001b[1;33m)\u001b[0m\u001b[1;33m\u001b[0m\u001b[1;33m\u001b[0m\u001b[0m\n\u001b[1;32m---> 12\u001b[1;33m     \u001b[0mdriver\u001b[0m\u001b[1;33m.\u001b[0m\u001b[0mfind_element_by_xpath\u001b[0m\u001b[1;33m(\u001b[0m\u001b[1;34m'//*[@id=\"glopopd_excel\"]/span'\u001b[0m\u001b[1;33m)\u001b[0m\u001b[1;33m.\u001b[0m\u001b[0mclick\u001b[0m\u001b[1;33m(\u001b[0m\u001b[1;33m)\u001b[0m\u001b[1;33m\u001b[0m\u001b[1;33m\u001b[0m\u001b[0m\n\u001b[0m\u001b[0;32m     13\u001b[0m     \u001b[0mtime\u001b[0m\u001b[1;33m.\u001b[0m\u001b[0msleep\u001b[0m\u001b[1;33m(\u001b[0m\u001b[1;36m1\u001b[0m\u001b[1;33m)\u001b[0m\u001b[1;33m\u001b[0m\u001b[1;33m\u001b[0m\u001b[0m\n",
      "\u001b[1;32m~\\anaconda3\\envs\\py38r40\\lib\\site-packages\\selenium\\webdriver\\remote\\webdriver.py\u001b[0m in \u001b[0;36mfind_element_by_xpath\u001b[1;34m(self, xpath)\u001b[0m\n\u001b[0;32m    392\u001b[0m             \u001b[0melement\u001b[0m \u001b[1;33m=\u001b[0m \u001b[0mdriver\u001b[0m\u001b[1;33m.\u001b[0m\u001b[0mfind_element_by_xpath\u001b[0m\u001b[1;33m(\u001b[0m\u001b[1;34m'//div/td[1]'\u001b[0m\u001b[1;33m)\u001b[0m\u001b[1;33m\u001b[0m\u001b[1;33m\u001b[0m\u001b[0m\n\u001b[0;32m    393\u001b[0m         \"\"\"\n\u001b[1;32m--> 394\u001b[1;33m         \u001b[1;32mreturn\u001b[0m \u001b[0mself\u001b[0m\u001b[1;33m.\u001b[0m\u001b[0mfind_element\u001b[0m\u001b[1;33m(\u001b[0m\u001b[0mby\u001b[0m\u001b[1;33m=\u001b[0m\u001b[0mBy\u001b[0m\u001b[1;33m.\u001b[0m\u001b[0mXPATH\u001b[0m\u001b[1;33m,\u001b[0m \u001b[0mvalue\u001b[0m\u001b[1;33m=\u001b[0m\u001b[0mxpath\u001b[0m\u001b[1;33m)\u001b[0m\u001b[1;33m\u001b[0m\u001b[1;33m\u001b[0m\u001b[0m\n\u001b[0m\u001b[0;32m    395\u001b[0m \u001b[1;33m\u001b[0m\u001b[0m\n\u001b[0;32m    396\u001b[0m     \u001b[1;32mdef\u001b[0m \u001b[0mfind_elements_by_xpath\u001b[0m\u001b[1;33m(\u001b[0m\u001b[0mself\u001b[0m\u001b[1;33m,\u001b[0m \u001b[0mxpath\u001b[0m\u001b[1;33m)\u001b[0m\u001b[1;33m:\u001b[0m\u001b[1;33m\u001b[0m\u001b[1;33m\u001b[0m\u001b[0m\n",
      "\u001b[1;32m~\\anaconda3\\envs\\py38r40\\lib\\site-packages\\selenium\\webdriver\\remote\\webdriver.py\u001b[0m in \u001b[0;36mfind_element\u001b[1;34m(self, by, value)\u001b[0m\n\u001b[0;32m    974\u001b[0m                 \u001b[0mby\u001b[0m \u001b[1;33m=\u001b[0m \u001b[0mBy\u001b[0m\u001b[1;33m.\u001b[0m\u001b[0mCSS_SELECTOR\u001b[0m\u001b[1;33m\u001b[0m\u001b[1;33m\u001b[0m\u001b[0m\n\u001b[0;32m    975\u001b[0m                 \u001b[0mvalue\u001b[0m \u001b[1;33m=\u001b[0m \u001b[1;34m'[name=\"%s\"]'\u001b[0m \u001b[1;33m%\u001b[0m \u001b[0mvalue\u001b[0m\u001b[1;33m\u001b[0m\u001b[1;33m\u001b[0m\u001b[0m\n\u001b[1;32m--> 976\u001b[1;33m         return self.execute(Command.FIND_ELEMENT, {\n\u001b[0m\u001b[0;32m    977\u001b[0m             \u001b[1;34m'using'\u001b[0m\u001b[1;33m:\u001b[0m \u001b[0mby\u001b[0m\u001b[1;33m,\u001b[0m\u001b[1;33m\u001b[0m\u001b[1;33m\u001b[0m\u001b[0m\n\u001b[0;32m    978\u001b[0m             'value': value})['value']\n",
      "\u001b[1;32m~\\anaconda3\\envs\\py38r40\\lib\\site-packages\\selenium\\webdriver\\remote\\webdriver.py\u001b[0m in \u001b[0;36mexecute\u001b[1;34m(self, driver_command, params)\u001b[0m\n\u001b[0;32m    319\u001b[0m         \u001b[0mresponse\u001b[0m \u001b[1;33m=\u001b[0m \u001b[0mself\u001b[0m\u001b[1;33m.\u001b[0m\u001b[0mcommand_executor\u001b[0m\u001b[1;33m.\u001b[0m\u001b[0mexecute\u001b[0m\u001b[1;33m(\u001b[0m\u001b[0mdriver_command\u001b[0m\u001b[1;33m,\u001b[0m \u001b[0mparams\u001b[0m\u001b[1;33m)\u001b[0m\u001b[1;33m\u001b[0m\u001b[1;33m\u001b[0m\u001b[0m\n\u001b[0;32m    320\u001b[0m         \u001b[1;32mif\u001b[0m \u001b[0mresponse\u001b[0m\u001b[1;33m:\u001b[0m\u001b[1;33m\u001b[0m\u001b[1;33m\u001b[0m\u001b[0m\n\u001b[1;32m--> 321\u001b[1;33m             \u001b[0mself\u001b[0m\u001b[1;33m.\u001b[0m\u001b[0merror_handler\u001b[0m\u001b[1;33m.\u001b[0m\u001b[0mcheck_response\u001b[0m\u001b[1;33m(\u001b[0m\u001b[0mresponse\u001b[0m\u001b[1;33m)\u001b[0m\u001b[1;33m\u001b[0m\u001b[1;33m\u001b[0m\u001b[0m\n\u001b[0m\u001b[0;32m    322\u001b[0m             response['value'] = self._unwrap_value(\n\u001b[0;32m    323\u001b[0m                 response.get('value', None))\n",
      "\u001b[1;32m~\\anaconda3\\envs\\py38r40\\lib\\site-packages\\selenium\\webdriver\\remote\\errorhandler.py\u001b[0m in \u001b[0;36mcheck_response\u001b[1;34m(self, response)\u001b[0m\n\u001b[0;32m    239\u001b[0m             \u001b[1;32melif\u001b[0m \u001b[1;34m'alert'\u001b[0m \u001b[1;32min\u001b[0m \u001b[0mvalue\u001b[0m\u001b[1;33m:\u001b[0m\u001b[1;33m\u001b[0m\u001b[1;33m\u001b[0m\u001b[0m\n\u001b[0;32m    240\u001b[0m                 \u001b[0malert_text\u001b[0m \u001b[1;33m=\u001b[0m \u001b[0mvalue\u001b[0m\u001b[1;33m[\u001b[0m\u001b[1;34m'alert'\u001b[0m\u001b[1;33m]\u001b[0m\u001b[1;33m.\u001b[0m\u001b[0mget\u001b[0m\u001b[1;33m(\u001b[0m\u001b[1;34m'text'\u001b[0m\u001b[1;33m)\u001b[0m\u001b[1;33m\u001b[0m\u001b[1;33m\u001b[0m\u001b[0m\n\u001b[1;32m--> 241\u001b[1;33m             \u001b[1;32mraise\u001b[0m \u001b[0mexception_class\u001b[0m\u001b[1;33m(\u001b[0m\u001b[0mmessage\u001b[0m\u001b[1;33m,\u001b[0m \u001b[0mscreen\u001b[0m\u001b[1;33m,\u001b[0m \u001b[0mstacktrace\u001b[0m\u001b[1;33m,\u001b[0m \u001b[0malert_text\u001b[0m\u001b[1;33m)\u001b[0m\u001b[1;33m\u001b[0m\u001b[1;33m\u001b[0m\u001b[0m\n\u001b[0m\u001b[0;32m    242\u001b[0m         \u001b[1;32mraise\u001b[0m \u001b[0mexception_class\u001b[0m\u001b[1;33m(\u001b[0m\u001b[0mmessage\u001b[0m\u001b[1;33m,\u001b[0m \u001b[0mscreen\u001b[0m\u001b[1;33m,\u001b[0m \u001b[0mstacktrace\u001b[0m\u001b[1;33m)\u001b[0m\u001b[1;33m\u001b[0m\u001b[1;33m\u001b[0m\u001b[0m\n\u001b[0;32m    243\u001b[0m \u001b[1;33m\u001b[0m\u001b[0m\n",
      "\u001b[1;31mUnexpectedAlertPresentException\u001b[0m: Alert Text: 시군구를 선택하여주세요\nMessage: unexpected alert open: {Alert text : 시군구를 선택하여주세요}\n  (Session info: chrome=92.0.4515.131)\n"
     ]
    }
   ],
   "source": [
    "import time \n",
    "from tqdm import tqdm_notebook #tqdm 패키지는 즉석에서 진행 상황 바를 확인할 수 있다. \n",
    "\n",
    "# 반복문을 사용하여 동 리스트 넣고 각각 엑셀 파일 받기 \n",
    "\n",
    "for dong in tqdm_notebook(dong_names):\n",
    "    element = driver.find_element_by_id('DONG_NM')\n",
    "    element.send_keys(dong)\n",
    "    time.sleep(2) # 2초 쉬기 \n",
    "    driver.find_element_by_xpath('//*[@id=\"searRgSelect\"]/span').click()\n",
    "    time.sleep(1)\n",
    "    driver.find_element_by_xpath('//*[@id=\"glopopd_excel\"]/span').click()\n",
    "    time.sleep(1)"
   ]
  },
  {
   "cell_type": "code",
   "execution_count": null,
   "id": "indirect-tours",
   "metadata": {},
   "outputs": [],
   "source": [
    "import pandas as pd\n",
    "from glob import glob #파일들을 리스트로 뽑기 "
   ]
  },
  {
   "cell_type": "code",
   "execution_count": null,
   "id": "brown-bones",
   "metadata": {},
   "outputs": [],
   "source": [
    "stations_files = glob('data/지역*.xls')\n",
    "stations_files"
   ]
  },
  {
   "cell_type": "code",
   "execution_count": null,
   "id": "static-diploma",
   "metadata": {},
   "outputs": [],
   "source": [
    "tmp_raw = []\n",
    "\n",
    "for file_name in stations_files:\n",
    "    tmp = pd.read_excel(file_name, header=2) #해드를 확인하고 설정해야함\n",
    "    tmp_raw.append(tmp)\n",
    "    station_raw = pd.concat(tmp_raw) #각각 인수들을 텍스트로 합치는것 "
   ]
  },
  {
   "cell_type": "code",
   "execution_count": null,
   "id": "quick-buddy",
   "metadata": {},
   "outputs": [],
   "source": [
    "station_raw.info()\n",
    "station_raw.head()"
   ]
  },
  {
   "cell_type": "code",
   "execution_count": null,
   "id": "sized-business",
   "metadata": {},
   "outputs": [],
   "source": [
    "stations = pd.DataFrame({'Oil_store': station_raw['상호'],\n",
    "                        '주소' : station_raw['주소'],\n",
    "                        '가격' : station_raw['휘발유'],\n",
    "                        '셀프' : station_raw['셀프여부'],\n",
    "                        '상표' : station_raw['상표']})\n",
    "\n",
    "stations.head()"
   ]
  },
  {
   "cell_type": "code",
   "execution_count": null,
   "id": "announced-wilderness",
   "metadata": {},
   "outputs": [],
   "source": [
    "stations.reset_index(inplace=True) # 기존의 엑셀파일들을 합친거라 인덱싱들이 중복되거나 순서대로 되어 있지 않다. \n",
    "del stations['index'] # 띠리사 기존 인덱스를 새로운 열로 만들고 'index' 열로 만들고 삭제해주는것"
   ]
  },
  {
   "cell_type": "code",
   "execution_count": null,
   "id": "pressed-hamilton",
   "metadata": {},
   "outputs": [],
   "source": [
    "# 도로명 이름만 추출\n",
    "\n",
    "stations['도로명'] = [eachAddress.split()[3] for eachAddress in stations['주소']] #for문 레프리핸션\n",
    "stations.head()"
   ]
  },
  {
   "cell_type": "code",
   "execution_count": null,
   "id": "norwegian-belief",
   "metadata": {},
   "outputs": [],
   "source": [
    "stations.isnull().sum() #결측치 확인"
   ]
  },
  {
   "cell_type": "code",
   "execution_count": null,
   "id": "vulnerable-charge",
   "metadata": {},
   "outputs": [],
   "source": [
    "# unique() 이용해서 데이터 검사 수행 \n",
    "\n",
    "stations['도로명'].unique()\n",
    "stations['가격'].unique() #가격에 '-'가 있음."
   ]
  },
  {
   "cell_type": "code",
   "execution_count": null,
   "id": "pleasant-brush",
   "metadata": {},
   "outputs": [],
   "source": [
    "stations = stations[stations['가격'] != '-']"
   ]
  },
  {
   "cell_type": "code",
   "execution_count": null,
   "id": "standard-glossary",
   "metadata": {},
   "outputs": [],
   "source": [
    "# 가격 float 형 변환\n",
    "stations['가격'] = [float(value) for value in stations['가격']]"
   ]
  },
  {
   "cell_type": "code",
   "execution_count": null,
   "id": "unsigned-conclusion",
   "metadata": {},
   "outputs": [],
   "source": [
    "# 한글문제 해결\n",
    "import matplotlib.pyplot as plt\n",
    "import seaborn as sns \n",
    "%matplotlib inline\n",
    "import platform\n",
    "\n",
    "path = 'c:/Windows/Fonts/malgun.ttf'\n",
    "\n",
    "from matplotlib import font_manager, rc\n",
    "\n",
    "if platform.system() == 'Darwin':\n",
    "    rc('font', family = 'AppleGothic')\n",
    "elif platform.system() == 'Windows':\n",
    "    font_name = font_manager.FontProperties(fname=path).get_name()\n",
    "    rc('font', family=font_name)\n",
    "else:\n",
    "    print('Unknown system... sorry~~~')"
   ]
  },
  {
   "cell_type": "code",
   "execution_count": null,
   "id": "curious-block",
   "metadata": {},
   "outputs": [],
   "source": [
    "stations"
   ]
  },
  {
   "cell_type": "code",
   "execution_count": null,
   "id": "compatible-israeli",
   "metadata": {},
   "outputs": [],
   "source": [
    "# 가격면에서 셀프가 더 싸다!\n",
    "\n",
    "stations.boxplot(column='가격', by='셀프', figsize=(12,8)) # column은 나오게 할 열, by는 그 열에서 그룹지어 표현할 것 "
   ]
  },
  {
   "cell_type": "code",
   "execution_count": null,
   "id": "infinite-intellectual",
   "metadata": {},
   "outputs": [],
   "source": [
    "plt.figure(figsize=(12,8)) #겹겹이 쌓아가는것 \n",
    "sns.boxplot(x='상표', y='가격', hue='셀프', data=stations, palette='Set3') #hue도 일종의 ,, groupby\n",
    "plt.show()"
   ]
  },
  {
   "cell_type": "code",
   "execution_count": null,
   "id": "structural-court",
   "metadata": {},
   "outputs": [],
   "source": [
    "plt.figure(figsize=(12,8))\n",
    "sns.boxplot(x='상표', y='가격', data=stations, palette='Set3') #seaborn 패키지 \n",
    "sns.swarmplot(x='상표', y='가격', data=stations, color='.6')\n",
    "plt.show()"
   ]
  },
  {
   "cell_type": "code",
   "execution_count": null,
   "id": "portable-landscape",
   "metadata": {},
   "outputs": [],
   "source": [
    "import json\n",
    "import folium\n",
    "import googlemaps\n",
    "\n",
    "# 이제 전주시에서 가장 주유 가격이 비싼 주유소\n",
    "stations.sort_values(by='가격', ascending=False).head(10)"
   ]
  },
  {
   "cell_type": "code",
   "execution_count": null,
   "id": "wooden-corruption",
   "metadata": {},
   "outputs": [],
   "source": [
    "# 서울시에서 가장 주유 가격이 싼 주유소\n",
    "stations.sort_values(by='가격', ascending=True).head(10)"
   ]
  },
  {
   "cell_type": "code",
   "execution_count": null,
   "id": "weird-cardiff",
   "metadata": {},
   "outputs": [],
   "source": [
    "# pivot_table을 이용해서 구별 가격 정보로 변경하고 가격 평균값 정리.\n",
    "import numpy as np\n",
    "gu_data = pd.pivot_table(stations, index=['도로명'], values=['가격'], aggfunc=np.mean)\n",
    "gu_data.head()"
   ]
  }
 ],
 "metadata": {
  "kernelspec": {
   "display_name": "Python 3",
   "language": "python",
   "name": "python3"
  },
  "language_info": {
   "codemirror_mode": {
    "name": "ipython",
    "version": 3
   },
   "file_extension": ".py",
   "mimetype": "text/x-python",
   "name": "python",
   "nbconvert_exporter": "python",
   "pygments_lexer": "ipython3",
   "version": "3.8.8"
  }
 },
 "nbformat": 4,
 "nbformat_minor": 5
}
