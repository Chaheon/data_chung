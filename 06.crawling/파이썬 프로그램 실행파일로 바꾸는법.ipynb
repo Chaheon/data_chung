{
 "cells": [
  {
   "cell_type": "code",
   "execution_count": null,
   "id": "accepted-cinema",
   "metadata": {},
   "outputs": [],
   "source": [
    "headless() 창이 따로 뜨지 않는다.  실행되는 과정이 보이지 않겠지???\n"
   ]
  },
  {
   "cell_type": "code",
   "execution_count": null,
   "id": "balanced-vermont",
   "metadata": {},
   "outputs": [],
   "source": [
    "파이썬 파일을 실행파일로 바꾸는 방법 \n",
    "\n",
    "pyinstaller 모듈을 사용하면 된다. dose mode라서 모든걸 키보드로 해결해야한다. \n",
    "\n",
    "\n",
    "실제 파는 용도로 마우스로 사용가능하려면 \n",
    "\n",
    "PyQT5 모듈을 사용해야한다. "
   ]
  }
 ],
 "metadata": {
  "kernelspec": {
   "display_name": "Python 3",
   "language": "python",
   "name": "python3"
  },
  "language_info": {
   "codemirror_mode": {
    "name": "ipython",
    "version": 3
   },
   "file_extension": ".py",
   "mimetype": "text/x-python",
   "name": "python",
   "nbconvert_exporter": "python",
   "pygments_lexer": "ipython3",
   "version": "3.8.8"
  }
 },
 "nbformat": 4,
 "nbformat_minor": 5
}
