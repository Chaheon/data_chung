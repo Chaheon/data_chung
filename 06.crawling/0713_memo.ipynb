{
 "cells": [
  {
   "cell_type": "code",
   "execution_count": null,
   "id": "combined-lounge",
   "metadata": {},
   "outputs": [],
   "source": [
    "# Riss 카테고리를 보여준다.\n",
    "# \"국내학술논문\" 카테고리를 선택한다\n",
    "# \"수잡할 장르를 2번으로 입력한다\"\n",
    "# 저장할 파일의 이름을 입력 받은 후 \n",
    "# 국내 학술 논문 카테고리의 다얗안 정보들을 수집\n",
    "# csv, xls 형식으로 저장~"
   ]
  },
  {
   "cell_type": "code",
   "execution_count": 1,
   "id": "enabling-calvin",
   "metadata": {},
   "outputs": [
    {
     "name": "stdout",
     "output_type": "stream",
     "text": [
      "====================================================================================================\n",
      " 이 크롤러는 RISS 사이트의 논문 및 학술자료 수집용 웹크롤러입니다.\n",
      "====================================================================================================\n"
     ]
    },
    {
     "name": "stdin",
     "output_type": "stream",
     "text": [
      "1.수집할 자료의 키워드는 무엇입니까?(여러개일 경우 , 로 구분하여 입력):  해양자원\n"
     ]
    }
   ],
   "source": [
    "# 시작!!\n",
    "\n",
    "#Step 1. 필요한 모듈을 로딩합니다\n",
    "from selenium import webdriver\n",
    "import time \n",
    "\n",
    "#Step 2. 사용자에게 검색 관련 정보들을 입력 받습니다.\n",
    "print(\"=\" *100)\n",
    "print(\" 이 크롤러는 RISS 사이트의 논문 및 학술자료 수집용 웹크롤러입니다.\")\n",
    "print(\"=\" *100)\n",
    "\n",
    "query_txt = input('1.수집할 자료의 키워드는 무엇입니까?(여러개일 경우 , 로 구분하여 입력): ')\n",
    "\n",
    "choice = input('''2. 위 키워드로 아래의 장르 중 어떤 장르의 정보를 수집할까요?\n",
    "\n",
    "1.학위논문       2.국내학술논문     3.해외학술논문     4.학술지      \n",
    "5.단행본         6.공개강의         7.연구보고서     \n",
    "\n",
    "위 장르 중 수집할 장르의 번호를 입력하세요:  ''')\n",
    "\n",
    "print(\"\\n\")\n",
    "\n",
    "# 수동으로 넣긴 하지만 자동으로 경로 설정하는 방법을 알아야함\n",
    "fc_name = input('3.결과를 저장할 csv형식의 파일명을 쓰세요(예: c:\\\\temp\\\\riss.csv): ')\n",
    "fx_name = input('4.결과를 저장할 xls형식의 파일명을 쓰세요(예: c:\\\\temp\\\\riss.xls): ')\n",
    "\n",
    "print(\"\\n\")    \n"
   ]
  },
  {
   "cell_type": "code",
   "execution_count": 2,
   "id": "upper-airfare",
   "metadata": {},
   "outputs": [],
   "source": [
    "\n",
    "# 크롬 드라이버 설정 및 웹 페이지 열기\n",
    "chrome_path = \"c:/data/chromedriver.exe\"\n",
    "driver = webdriver.Chrome(chrome_path)\n",
    "\n",
    "url = 'http://www.riss.kr/'\n",
    "driver.get(url)\n",
    "time.sleep(2)\n",
    "\n",
    "# 자동으로 검색어 입력 후 조회하기\n",
    "element = driver.find_element_by_id(\"query\")\n",
    "driver.find_element_by_id(\"query\").click( )\n",
    "element.send_keys(query_txt)\n",
    "element.send_keys(\"\\n\")\n",
    "time.sleep(2)\n"
   ]
  },
  {
   "cell_type": "code",
   "execution_count": null,
   "id": "delayed-correlation",
   "metadata": {},
   "outputs": [],
   "source": [
    "print('\\n')\n",
    "print('2. 위 키워드로 아래의 장르 중 어떤 장르의 정보를 수집할까요?')\n",
    "\n",
    "genre = input( : ')"
   ]
  },
  {
   "cell_type": "code",
   "execution_count": null,
   "id": "hydraulic-turner",
   "metadata": {},
   "outputs": [],
   "source": [
    "들여쓰기 : ctrl + ]\n",
    "내어쓰기 : ctrl + [\n",
    "    \n",
    "    "
   ]
  },
  {
   "cell_type": "markdown",
   "id": "important-hampton",
   "metadata": {},
   "source": [
    "도대체 뭘 해야할까요 ,, ㅎㅎ"
   ]
  },
  {
   "cell_type": "markdown",
   "id": "binary-cigarette",
   "metadata": {
    "tags": []
   },
   "source": [
    "변수는 ,,, 변수이고 데이터는 데이터이지 ,, ㅎㅎ,,  "
   ]
  }
 ],
 "metadata": {
  "kernelspec": {
   "display_name": "Python 3",
   "language": "python",
   "name": "python3"
  },
  "language_info": {
   "codemirror_mode": {
    "name": "ipython",
    "version": 3
   },
   "file_extension": ".py",
   "mimetype": "text/x-python",
   "name": "python",
   "nbconvert_exporter": "python",
   "pygments_lexer": "ipython3",
   "version": "3.8.8"
  }
 },
 "nbformat": 4,
 "nbformat_minor": 5
}
