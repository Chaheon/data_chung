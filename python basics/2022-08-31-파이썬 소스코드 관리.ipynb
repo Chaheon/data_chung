{
 "cells": [
  {
   "cell_type": "markdown",
   "id": "c6b00b08-98c0-4b76-a155-be457ca1ce81",
   "metadata": {
    "tags": []
   },
   "source": [
    "## 파이썬 기초, 소스코드 관리\n",
    "\n",
    "> 모듈, 패키지, 라이브러리 "
   ]
  },
  {
   "cell_type": "markdown",
   "id": "d28412aa-7f86-4dfc-b57e-05fe35cb9e12",
   "metadata": {},
   "source": [
    "### intro "
   ]
  },
  {
   "cell_type": "markdown",
   "id": "7552783c-ae63-4bfd-bd32-ab75e84a8bec",
   "metadata": {},
   "source": [
    "`-` 현재 파이썬은 길이가 2인 벡터의 덧셈을 지원하지 않음 "
   ]
  },
  {
   "cell_type": "code",
   "execution_count": 8,
   "id": "0799c19d-d701-4a77-b609-3c79415b0cfb",
   "metadata": {},
   "outputs": [
    {
     "data": {
      "text/plain": [
       "[1, 2, 3, 4]"
      ]
     },
     "execution_count": 8,
     "metadata": {},
     "output_type": "execute_result"
    }
   ],
   "source": [
    "a=[1,2]\n",
    "b=[3,4]\n",
    "a+b"
   ]
  },
  {
   "cell_type": "markdown",
   "id": "e0690db4-d550-4e49-8953-715e98750cfa",
   "metadata": {},
   "source": [
    "`-` 아래와 같은 기능을 구현하는 함수를 만들고 싶음 "
   ]
  },
  {
   "cell_type": "markdown",
   "id": "11c6efae-72bf-4893-b27c-064a3a87b5a3",
   "metadata": {},
   "source": [
    "[1,2], [3,4] -> [4,6] "
   ]
  },
  {
   "cell_type": "markdown",
   "id": "9a366841-e633-4392-8bf9-57b34d15b8ed",
   "metadata": {},
   "source": [
    "`-` 구현 "
   ]
  },
  {
   "cell_type": "code",
   "execution_count": 9,
   "id": "994851d7-dd6a-4c5a-9ae3-e688f5589f47",
   "metadata": {},
   "outputs": [],
   "source": [
    "def vec2_add(a,b): \n",
    "    return [a[0]+b[0], a[1]+b[1]]"
   ]
  },
  {
   "cell_type": "markdown",
   "id": "c4d0406f-9247-4cd8-ad2b-bc4cbf057339",
   "metadata": {},
   "source": [
    "`-` test"
   ]
  },
  {
   "cell_type": "code",
   "execution_count": 10,
   "id": "2679033f-b041-4fd3-a78a-3ca537fe8318",
   "metadata": {},
   "outputs": [],
   "source": [
    "a=[1,2]\n",
    "b=[3,4]"
   ]
  },
  {
   "cell_type": "code",
   "execution_count": 11,
   "id": "3b675219-f6db-44b9-a0b3-1410b3a543c9",
   "metadata": {},
   "outputs": [
    {
     "data": {
      "text/plain": [
       "[4, 6]"
      ]
     },
     "execution_count": 11,
     "metadata": {},
     "output_type": "execute_result"
    }
   ],
   "source": [
    "vec2_add(a,b)"
   ]
  },
  {
   "cell_type": "markdown",
   "id": "c109998e-f0ff-4925-aaab-7cdb31e918a1",
   "metadata": {},
   "source": [
    "### make `myfuns.py`"
   ]
  },
  {
   "cell_type": "markdown",
   "id": "0a3ea9b7-dcc0-4f7e-a742-7739fc783d00",
   "metadata": {},
   "source": [
    "`-` 생각해보니까 vec2_add는 내가 앞으로 자주 쓸 기능임 "
   ]
  },
  {
   "cell_type": "markdown",
   "id": "62bfc9f2-e8c0-4075-99ad-635dc1d4b041",
   "metadata": {},
   "source": [
    "`-` 그런데 현재 사용방법으로는 내가 노트북파일을 새로 만들떄마다 `def vec2_add(a,b):` 와 같은 형태로 vec2_add를 매번 정의해줘야 하는 불편한이 있다.  "
   ]
  },
  {
   "cell_type": "markdown",
   "id": "61dc9c37-5f35-4bfe-bdb9-276df231b072",
   "metadata": {
    "tags": []
   },
   "source": [
    "#### 해결1"
   ]
  },
  {
   "cell_type": "markdown",
   "id": "b3fc238b-d981-4f82-a511-3f3731fbc48b",
   "metadata": {},
   "source": [
    "`-` 자주 사용하는 함수를 `myfuns.py`에 저장한다. \n",
    "```python\n",
    "# myfuns.py\n",
    "def vec2_add(a,b): \n",
    "    return [a[0]+b[0], a[1]+b[1]]\n",
    "```"
   ]
  },
  {
   "cell_type": "markdown",
   "id": "4a432d44-a26b-4341-944c-9c121a5db5cf",
   "metadata": {},
   "source": [
    "`-` %run myfuns를 실행 "
   ]
  },
  {
   "cell_type": "markdown",
   "id": "23509544-1bde-40d0-a7a8-409325caa603",
   "metadata": {},
   "source": [
    "준비: 셀 밖에서 \"00\" -> 커널재시작 # 위의 코드 때문에 실행되는 것과 myfuns 파이썬 파일이 실행되서 되는 것과는 다르니까. "
   ]
  },
  {
   "cell_type": "code",
   "execution_count": 5,
   "id": "405e72ad-daf0-4c84-adb0-2cc8a4c5af86",
   "metadata": {},
   "outputs": [],
   "source": [
    "%run myfuns "
   ]
  },
  {
   "cell_type": "code",
   "execution_count": 6,
   "id": "c310dad6-aeea-4c03-b564-a7e720129cbd",
   "metadata": {},
   "outputs": [
    {
     "data": {
      "text/plain": [
       "[4, 6]"
      ]
     },
     "execution_count": 6,
     "metadata": {},
     "output_type": "execute_result"
    }
   ],
   "source": [
    "vec2_add([1,2],[3,4])"
   ]
  },
  {
   "cell_type": "markdown",
   "id": "31cfef30-013e-4c50-8edf-6eb49f8b4d70",
   "metadata": {
    "tags": []
   },
   "source": [
    "#### 해결2"
   ]
  },
  {
   "cell_type": "markdown",
   "id": "6ee0deec-074e-4679-a38c-7c0a42a685d4",
   "metadata": {},
   "source": [
    "`-` 자주 사용하는 함수를 `myfuns.py`에 저장한다. (파이썬 파일명은 달라도 됨)\n",
    "```python\n",
    "# myfuns.py\n",
    "def vec2_add(a,b): \n",
    "    return [a[0]+b[0], a[1]+b[1]]\n",
    "```"
   ]
  },
  {
   "cell_type": "markdown",
   "id": "ce56b0b8-e40c-46a7-8c6e-b5b7db28dfa0",
   "metadata": {},
   "source": [
    "`-` import myfuns를 이용 "
   ]
  },
  {
   "cell_type": "markdown",
   "id": "52076bd3-c801-45d1-a0ce-f12f29a8bf6f",
   "metadata": {},
   "source": [
    "(준비) \"00\" -> 커널재시작 "
   ]
  },
  {
   "cell_type": "code",
   "execution_count": 3,
   "id": "86cdca66-0e5d-4307-b457-12af0e735750",
   "metadata": {},
   "outputs": [],
   "source": [
    "import myfuns "
   ]
  },
  {
   "cell_type": "code",
   "execution_count": 4,
   "id": "94f85d5e-5ef5-47f8-b7d7-ca8a49edcb71",
   "metadata": {},
   "outputs": [
    {
     "data": {
      "text/plain": [
       "[4, 6]"
      ]
     },
     "execution_count": 4,
     "metadata": {},
     "output_type": "execute_result"
    }
   ],
   "source": [
    "a=[1,2]\n",
    "b=[3,4]\n",
    "myfuns.vec2_add(a,b)"
   ]
  },
  {
   "cell_type": "markdown",
   "id": "4329db04-58e5-4bbc-80ac-aa6c2e6db926",
   "metadata": {},
   "source": [
    "### import 기본 "
   ]
  },
  {
   "cell_type": "markdown",
   "id": "508f399b-2857-4ef4-8588-af3815b88d85",
   "metadata": {},
   "source": [
    "#### 사용방법 "
   ]
  },
  {
   "cell_type": "markdown",
   "id": "ee0cd5c8-bdd7-499f-b8ac-2d41f2406157",
   "metadata": {},
   "source": [
    "`-` 사용방법1"
   ]
  },
  {
   "cell_type": "markdown",
   "id": "31696492-0a41-4b43-a2db-9b8d377774ee",
   "metadata": {},
   "source": [
    "준비: \"00\" -> 커널재시작 "
   ]
  },
  {
   "cell_type": "code",
   "execution_count": 1,
   "id": "3d66818b-e860-4160-aec1-ae7d997d0646",
   "metadata": {},
   "outputs": [],
   "source": [
    "import myfuns "
   ]
  },
  {
   "cell_type": "code",
   "execution_count": 2,
   "id": "11cd3f6e-cbc4-4d45-bb20-c6df9f1df6d8",
   "metadata": {},
   "outputs": [
    {
     "data": {
      "text/plain": [
       "[4, 6]"
      ]
     },
     "execution_count": 2,
     "metadata": {},
     "output_type": "execute_result"
    }
   ],
   "source": [
    "myfuns.vec2_add([1,2],[3,4]) "
   ]
  },
  {
   "cell_type": "markdown",
   "id": "cbd35e8e-b786-4bf1-a348-98b0bc4f70c0",
   "metadata": {},
   "source": [
    "- myfuns.vec2_add 의 의미: myfuns.py 라는 파일안에 vec2_add라는 함수가 있음. 그것을 실행하라. \n",
    "- `.`의 의미: `상위.하위`의 개념!"
   ]
  },
  {
   "cell_type": "markdown",
   "id": "22c91cae-e511-4088-8822-cc32da7fc368",
   "metadata": {},
   "source": [
    "(주의) 아래와 같이 사용불가능 하다. "
   ]
  },
  {
   "cell_type": "code",
   "execution_count": 3,
   "id": "45eddf1c-eaea-45af-a0ef-203e1f108a94",
   "metadata": {
    "tags": []
   },
   "outputs": [
    {
     "ename": "NameError",
     "evalue": "name 'vec2_add' is not defined",
     "output_type": "error",
     "traceback": [
      "\u001b[0;31m---------------------------------------------------------------------------\u001b[0m",
      "\u001b[0;31mNameError\u001b[0m                                 Traceback (most recent call last)",
      "Input \u001b[0;32mIn [3]\u001b[0m, in \u001b[0;36m<cell line: 1>\u001b[0;34m()\u001b[0m\n\u001b[0;32m----> 1\u001b[0m \u001b[43mvec2_add\u001b[49m([\u001b[38;5;241m1\u001b[39m,\u001b[38;5;241m2\u001b[39m],[\u001b[38;5;241m3\u001b[39m,\u001b[38;5;241m4\u001b[39m])\n",
      "\u001b[0;31mNameError\u001b[0m: name 'vec2_add' is not defined"
     ]
    }
   ],
   "source": [
    "vec2_add([1,2],[3,4])"
   ]
  },
  {
   "cell_type": "markdown",
   "id": "ae4929c2-8977-48cd-8160-9f16e269085a",
   "metadata": {},
   "source": [
    "`-` 사용방법2"
   ]
  },
  {
   "cell_type": "markdown",
   "id": "8438a468-91a0-43d4-aeae-4640c8637517",
   "metadata": {},
   "source": [
    "준비: \"00\" -> 커널재시작 "
   ]
  },
  {
   "cell_type": "code",
   "execution_count": 3,
   "id": "7d2a3154-97c8-47f6-84fe-e5c98e2af46c",
   "metadata": {},
   "outputs": [],
   "source": [
    "from myfuns import vec2_add "
   ]
  },
  {
   "cell_type": "code",
   "execution_count": 4,
   "id": "696d4522-0e96-4d14-8d4c-6fb767a0c8db",
   "metadata": {},
   "outputs": [
    {
     "data": {
      "text/plain": [
       "[4, 6]"
      ]
     },
     "execution_count": 4,
     "metadata": {},
     "output_type": "execute_result"
    }
   ],
   "source": [
    "vec2_add([1,2],[3,4])"
   ]
  },
  {
   "cell_type": "markdown",
   "id": "7819abc6-68bd-44b7-a74b-a537fddfbe6a",
   "metadata": {},
   "source": [
    "(주의) 이 경우는 오히려 아래가 불가능함 "
   ]
  },
  {
   "cell_type": "code",
   "execution_count": 6,
   "id": "d77e7b8a-0336-4899-9cf6-8eb4f033e2b0",
   "metadata": {},
   "outputs": [
    {
     "ename": "NameError",
     "evalue": "name 'myfuns' is not defined",
     "output_type": "error",
     "traceback": [
      "\u001b[0;31m---------------------------------------------------------------------------\u001b[0m",
      "\u001b[0;31mNameError\u001b[0m                                 Traceback (most recent call last)",
      "Input \u001b[0;32mIn [6]\u001b[0m, in \u001b[0;36m<cell line: 1>\u001b[0;34m()\u001b[0m\n\u001b[0;32m----> 1\u001b[0m \u001b[43mmyfuns\u001b[49m\u001b[38;5;241m.\u001b[39mvec2_add([\u001b[38;5;241m1\u001b[39m,\u001b[38;5;241m2\u001b[39m],[\u001b[38;5;241m3\u001b[39m,\u001b[38;5;241m4\u001b[39m])\n",
      "\u001b[0;31mNameError\u001b[0m: name 'myfuns' is not defined"
     ]
    }
   ],
   "source": [
    "myfuns.vec2_add([1,2],[3,4]) # myfuns안의 vec2_add만 임포트했지 myfuns자체를 임포트 한것은 아님 "
   ]
  },
  {
   "cell_type": "markdown",
   "id": "eea26fbf-f871-4b36-9f9d-87f52ebcc181",
   "metadata": {},
   "source": [
    "`-` 사용방법3"
   ]
  },
  {
   "cell_type": "markdown",
   "id": "be4046fd-76cc-4fdc-b54a-dbca0382e266",
   "metadata": {},
   "source": [
    "준비: \"00\" -> 커널재시작 "
   ]
  },
  {
   "cell_type": "code",
   "execution_count": 1,
   "id": "11a27ad9-4850-4ed7-95c6-d0a25575b95e",
   "metadata": {},
   "outputs": [],
   "source": [
    "import myfuns\n",
    "from myfuns import vec2_add"
   ]
  },
  {
   "cell_type": "code",
   "execution_count": 2,
   "id": "a5cef457-d2f7-4275-89f2-5cb3c6c7c65b",
   "metadata": {},
   "outputs": [
    {
     "data": {
      "text/plain": [
       "[4, 6]"
      ]
     },
     "execution_count": 2,
     "metadata": {},
     "output_type": "execute_result"
    }
   ],
   "source": [
    "myfuns.vec2_add([1,2],[3,4])"
   ]
  },
  {
   "cell_type": "code",
   "execution_count": 3,
   "id": "51c049c8-59ad-4733-9722-88b9546a4a40",
   "metadata": {},
   "outputs": [
    {
     "data": {
      "text/plain": [
       "[4, 6]"
      ]
     },
     "execution_count": 3,
     "metadata": {},
     "output_type": "execute_result"
    }
   ],
   "source": [
    "vec2_add([1,2],[3,4])"
   ]
  },
  {
   "cell_type": "markdown",
   "id": "16eb7d12-936f-4e53-857a-5d9c10426d74",
   "metadata": {},
   "source": [
    "`-` 사용방법4"
   ]
  },
  {
   "cell_type": "markdown",
   "id": "f07e88fe-03d5-45aa-88d9-7c11a85c91ad",
   "metadata": {},
   "source": [
    "준비: \"00\" -> 커널재시작 "
   ]
  },
  {
   "cell_type": "code",
   "execution_count": 1,
   "id": "6a2061f1-3bf5-42a4-8019-fdc06d49c46f",
   "metadata": {},
   "outputs": [],
   "source": [
    "from myfuns import vec2_add, vec2_sub "
   ]
  },
  {
   "cell_type": "code",
   "execution_count": 2,
   "id": "9f007549-b96f-4be8-82de-b282a7bd084a",
   "metadata": {},
   "outputs": [
    {
     "data": {
      "text/plain": [
       "[4, 6]"
      ]
     },
     "execution_count": 2,
     "metadata": {},
     "output_type": "execute_result"
    }
   ],
   "source": [
    "vec2_add([1,2],[3,4])"
   ]
  },
  {
   "cell_type": "code",
   "execution_count": 3,
   "id": "3febc295-e088-41a6-be64-632bffd26c63",
   "metadata": {},
   "outputs": [
    {
     "data": {
      "text/plain": [
       "[-2, -2]"
      ]
     },
     "execution_count": 3,
     "metadata": {},
     "output_type": "execute_result"
    }
   ],
   "source": [
    "vec2_sub([1,2],[3,4])"
   ]
  },
  {
   "cell_type": "markdown",
   "id": "86d23b0e-0253-4b4a-9a65-88e536b3271b",
   "metadata": {},
   "source": [
    "`-` 사용방법5"
   ]
  },
  {
   "cell_type": "markdown",
   "id": "903746a7-c189-4892-ad46-c6c21acfa889",
   "metadata": {},
   "source": [
    "준비: \"00\" -> 커널재시작 "
   ]
  },
  {
   "cell_type": "code",
   "execution_count": 2,
   "id": "5b0b973a-4fe6-4e2d-bffe-bd6fd06f0fb1",
   "metadata": {},
   "outputs": [],
   "source": [
    "from myfuns import * #*는 all의 의미 "
   ]
  },
  {
   "cell_type": "code",
   "execution_count": 3,
   "id": "c7be40f8-7c3d-4591-8667-e9c4e76ff886",
   "metadata": {},
   "outputs": [
    {
     "data": {
      "text/plain": [
       "[4, 6]"
      ]
     },
     "execution_count": 3,
     "metadata": {},
     "output_type": "execute_result"
    }
   ],
   "source": [
    "vec2_add([1,2],[3,4])"
   ]
  },
  {
   "cell_type": "code",
   "execution_count": 4,
   "id": "982eb8bb-a17f-47bf-8162-3793841faf95",
   "metadata": {},
   "outputs": [
    {
     "data": {
      "text/plain": [
       "[-2, -2]"
      ]
     },
     "execution_count": 4,
     "metadata": {},
     "output_type": "execute_result"
    }
   ],
   "source": [
    "vec2_sub([1,2],[3,4])"
   ]
  },
  {
   "cell_type": "markdown",
   "id": "b4f48558-769e-4f94-8e06-1fb4bae4bab3",
   "metadata": {},
   "source": [
    "`-` 사용방법6"
   ]
  },
  {
   "cell_type": "markdown",
   "id": "2430775b-4a00-4c42-9283-0b1429c99a03",
   "metadata": {},
   "source": [
    "준비: \"00\" -> 커널재시작 "
   ]
  },
  {
   "cell_type": "code",
   "execution_count": 1,
   "id": "6bdf5488-44fe-4d7c-8062-926612f1db00",
   "metadata": {},
   "outputs": [],
   "source": [
    "import myfuns as mf "
   ]
  },
  {
   "cell_type": "code",
   "execution_count": 2,
   "id": "b4e30274-a191-4925-962b-90c8dd68304d",
   "metadata": {},
   "outputs": [
    {
     "data": {
      "text/plain": [
       "[4, 6]"
      ]
     },
     "execution_count": 2,
     "metadata": {},
     "output_type": "execute_result"
    }
   ],
   "source": [
    "mf.vec2_add([1,2],[3,4])"
   ]
  },
  {
   "cell_type": "code",
   "execution_count": 3,
   "id": "0e042579-9f94-4293-9c80-dca61d3ed8be",
   "metadata": {},
   "outputs": [
    {
     "data": {
      "text/plain": [
       "[-2, -2]"
      ]
     },
     "execution_count": 3,
     "metadata": {},
     "output_type": "execute_result"
    }
   ],
   "source": [
    "mf.vec2_sub([1,2],[3,4])"
   ]
  },
  {
   "cell_type": "markdown",
   "id": "41ed6501-fb17-4773-b982-f3aa205afd6f",
   "metadata": {},
   "source": [
    "(오히려 아래는 실행불가능)"
   ]
  },
  {
   "cell_type": "code",
   "execution_count": 4,
   "id": "b59bd7d7-57b4-4c15-bde2-8504cdf2404f",
   "metadata": {},
   "outputs": [
    {
     "ename": "NameError",
     "evalue": "name 'myfuns' is not defined",
     "output_type": "error",
     "traceback": [
      "\u001b[0;31m---------------------------------------------------------------------------\u001b[0m",
      "\u001b[0;31mNameError\u001b[0m                                 Traceback (most recent call last)",
      "Input \u001b[0;32mIn [4]\u001b[0m, in \u001b[0;36m<cell line: 1>\u001b[0;34m()\u001b[0m\n\u001b[0;32m----> 1\u001b[0m \u001b[43mmyfuns\u001b[49m\u001b[38;5;241m.\u001b[39mvec2_add([\u001b[38;5;241m1\u001b[39m,\u001b[38;5;241m2\u001b[39m],[\u001b[38;5;241m3\u001b[39m,\u001b[38;5;241m4\u001b[39m])\n",
      "\u001b[0;31mNameError\u001b[0m: name 'myfuns' is not defined"
     ]
    }
   ],
   "source": [
    "myfuns.vec2_add([1,2],[3,4])"
   ]
  },
  {
   "cell_type": "code",
   "execution_count": 5,
   "id": "dd262d7a-b461-4aeb-9d9e-882c03d1ce0b",
   "metadata": {},
   "outputs": [
    {
     "ename": "NameError",
     "evalue": "name 'myfuns' is not defined",
     "output_type": "error",
     "traceback": [
      "\u001b[0;31m---------------------------------------------------------------------------\u001b[0m",
      "\u001b[0;31mNameError\u001b[0m                                 Traceback (most recent call last)",
      "Input \u001b[0;32mIn [5]\u001b[0m, in \u001b[0;36m<cell line: 1>\u001b[0;34m()\u001b[0m\n\u001b[0;32m----> 1\u001b[0m \u001b[43mmyfuns\u001b[49m\u001b[38;5;241m.\u001b[39mvec2_sub([\u001b[38;5;241m1\u001b[39m,\u001b[38;5;241m2\u001b[39m],[\u001b[38;5;241m3\u001b[39m,\u001b[38;5;241m4\u001b[39m])\n",
      "\u001b[0;31mNameError\u001b[0m: name 'myfuns' is not defined"
     ]
    }
   ],
   "source": [
    "myfuns.vec2_sub([1,2],[3,4])"
   ]
  },
  {
   "cell_type": "markdown",
   "id": "87427a71-6a35-4e39-87c5-84bdd3e12ad2",
   "metadata": {},
   "source": [
    "`-` 잘못된 사용방법1"
   ]
  },
  {
   "cell_type": "markdown",
   "id": "3bafa451-eb38-4163-bced-0f18fde49875",
   "metadata": {},
   "source": [
    "준비: \"00\" -> 커널재시작 "
   ]
  },
  {
   "cell_type": "code",
   "execution_count": 1,
   "id": "7a55e3d3-09ac-4eba-a988-2a380d99cf3b",
   "metadata": {},
   "outputs": [
    {
     "ename": "ModuleNotFoundError",
     "evalue": "No module named 'mf'",
     "output_type": "error",
     "traceback": [
      "\u001b[0;31m---------------------------------------------------------------------------\u001b[0m",
      "\u001b[0;31mModuleNotFoundError\u001b[0m                       Traceback (most recent call last)",
      "Input \u001b[0;32mIn [1]\u001b[0m, in \u001b[0;36m<cell line: 2>\u001b[0;34m()\u001b[0m\n\u001b[1;32m      1\u001b[0m \u001b[38;5;28;01mimport\u001b[39;00m \u001b[38;5;21;01mmyfuns\u001b[39;00m \u001b[38;5;28;01mas\u001b[39;00m \u001b[38;5;21;01mmf\u001b[39;00m \n\u001b[0;32m----> 2\u001b[0m \u001b[38;5;28;01mfrom\u001b[39;00m \u001b[38;5;21;01mmf\u001b[39;00m \u001b[38;5;28;01mimport\u001b[39;00m vec2_add\n",
      "\u001b[0;31mModuleNotFoundError\u001b[0m: No module named 'mf'"
     ]
    }
   ],
   "source": [
    "import myfuns as mf \n",
    "from mf import vec2_add "
   ]
  },
  {
   "cell_type": "markdown",
   "id": "e390767a-670d-42d0-928f-fde9c8defaee",
   "metadata": {},
   "source": [
    "`-` 사용방법7"
   ]
  },
  {
   "cell_type": "markdown",
   "id": "2acaec42-f520-4c58-9fa1-9379193a4617",
   "metadata": {},
   "source": [
    "준비: \"00\" -> 커널재시작 "
   ]
  },
  {
   "cell_type": "code",
   "execution_count": 1,
   "id": "0334a545-b133-446e-9862-64718c47effd",
   "metadata": {},
   "outputs": [],
   "source": [
    "import myfuns as mf \n",
    "from myfuns import vec2_add "
   ]
  },
  {
   "cell_type": "code",
   "execution_count": 4,
   "id": "9defa699-86b5-4be6-aae8-3e47c2b1200b",
   "metadata": {},
   "outputs": [
    {
     "data": {
      "text/plain": [
       "[4, 6]"
      ]
     },
     "execution_count": 4,
     "metadata": {},
     "output_type": "execute_result"
    }
   ],
   "source": [
    "mf.vec2_add([1,2],[3,4])"
   ]
  },
  {
   "cell_type": "code",
   "execution_count": 5,
   "id": "a97831ed-2b6d-4be0-a8d3-aa691a58536c",
   "metadata": {},
   "outputs": [
    {
     "data": {
      "text/plain": [
       "[4, 6]"
      ]
     },
     "execution_count": 5,
     "metadata": {},
     "output_type": "execute_result"
    }
   ],
   "source": [
    "vec2_add([1,2],[3,4])"
   ]
  },
  {
   "cell_type": "markdown",
   "id": "2405a6ff-a418-493c-a367-7692b8a67f92",
   "metadata": {},
   "source": [
    "`-` 사용방법8"
   ]
  },
  {
   "cell_type": "markdown",
   "id": "2b90ba2e-f11c-4baa-88f6-b5f78a715d63",
   "metadata": {},
   "source": [
    "준비: \"00\" -> 커널재시작 "
   ]
  },
  {
   "cell_type": "code",
   "execution_count": 1,
   "id": "9bcf3dcd-f5ae-4f9a-8660-abebc42ea205",
   "metadata": {},
   "outputs": [],
   "source": [
    "import myfuns as mf \n",
    "from myfuns import vec2_add as add "
   ]
  },
  {
   "cell_type": "code",
   "execution_count": 2,
   "id": "ceec1e8d-c7f3-4db6-b862-3ebc6e529a35",
   "metadata": {},
   "outputs": [
    {
     "data": {
      "text/plain": [
       "[4, 6]"
      ]
     },
     "execution_count": 2,
     "metadata": {},
     "output_type": "execute_result"
    }
   ],
   "source": [
    "mf.vec2_add([1,2],[3,4])"
   ]
  },
  {
   "cell_type": "code",
   "execution_count": 3,
   "id": "23aac271-84fb-441b-a1db-5167ff701d0a",
   "metadata": {},
   "outputs": [
    {
     "ename": "NameError",
     "evalue": "name 'vec2_add' is not defined",
     "output_type": "error",
     "traceback": [
      "\u001b[0;31m---------------------------------------------------------------------------\u001b[0m",
      "\u001b[0;31mNameError\u001b[0m                                 Traceback (most recent call last)",
      "Input \u001b[0;32mIn [3]\u001b[0m, in \u001b[0;36m<cell line: 1>\u001b[0;34m()\u001b[0m\n\u001b[0;32m----> 1\u001b[0m \u001b[43mvec2_add\u001b[49m([\u001b[38;5;241m1\u001b[39m,\u001b[38;5;241m2\u001b[39m],[\u001b[38;5;241m3\u001b[39m,\u001b[38;5;241m4\u001b[39m])\n",
      "\u001b[0;31mNameError\u001b[0m: name 'vec2_add' is not defined"
     ]
    }
   ],
   "source": [
    "vec2_add([1,2],[3,4])"
   ]
  },
  {
   "cell_type": "code",
   "execution_count": 4,
   "id": "b718a3d9-d5b0-4f90-9cb7-cac107dd5d54",
   "metadata": {},
   "outputs": [
    {
     "data": {
      "text/plain": [
       "[4, 6]"
      ]
     },
     "execution_count": 4,
     "metadata": {},
     "output_type": "execute_result"
    }
   ],
   "source": [
    "add([1,2],[3,4])"
   ]
  },
  {
   "cell_type": "markdown",
   "id": "446e69ff-d46d-4f06-8de2-ae97f0bf04b0",
   "metadata": {},
   "source": [
    "#### 도움말 작성기능 "
   ]
  },
  {
   "cell_type": "markdown",
   "id": "3970e785-db9f-461f-b2b1-4e9b4de7f58c",
   "metadata": {},
   "source": [
    "`-` mf란 무엇인가? "
   ]
  },
  {
   "cell_type": "markdown",
   "id": "ef53cd38-b9fb-4eab-82dc-0f87762555d6",
   "metadata": {},
   "source": [
    "준비: \"00\" -> 커널재시작 "
   ]
  },
  {
   "cell_type": "code",
   "execution_count": 1,
   "id": "4ae1ecda-8a03-4b79-bcbb-c40ba9fc2050",
   "metadata": {},
   "outputs": [],
   "source": [
    "import myfuns as mf "
   ]
  },
  {
   "cell_type": "code",
   "execution_count": 2,
   "id": "fef3cfd8-d3d4-4bab-ae77-907a49f4acc8",
   "metadata": {},
   "outputs": [
    {
     "data": {
      "text/plain": [
       "<module 'myfuns' from '/home/cgb3/Dropbox/07_lectures/IP2022/_notebooks/myfuns.py'>"
      ]
     },
     "execution_count": 2,
     "metadata": {},
     "output_type": "execute_result"
    }
   ],
   "source": [
    "mf"
   ]
  },
  {
   "cell_type": "code",
   "execution_count": 3,
   "id": "3d256292-fba1-4ac2-a9c2-9ad2ea74495d",
   "metadata": {},
   "outputs": [
    {
     "data": {
      "text/plain": [
       "\u001b[0;31mType:\u001b[0m        module\n",
       "\u001b[0;31mString form:\u001b[0m <module 'myfuns' from '/home/cgb3/Dropbox/07_lectures/IP2022/_notebooks/myfuns.py'>\n",
       "\u001b[0;31mFile:\u001b[0m        ~/Dropbox/07_lectures/IP2022/_notebooks/myfuns.py\n",
       "\u001b[0;31mDocstring:\u001b[0m   <no docstring>\n"
      ]
     },
     "metadata": {},
     "output_type": "display_data"
    }
   ],
   "source": [
    "mf?"
   ]
  },
  {
   "cell_type": "code",
   "execution_count": 4,
   "id": "60c76fc5-dc0f-482b-8c51-82e0c9fbaf35",
   "metadata": {},
   "outputs": [
    {
     "data": {
      "text/plain": [
       "module"
      ]
     },
     "execution_count": 4,
     "metadata": {},
     "output_type": "execute_result"
    }
   ],
   "source": [
    "type(mf)"
   ]
  },
  {
   "cell_type": "markdown",
   "id": "5edb95ed-3d9b-4dbe-ad63-1334088be7ae",
   "metadata": {},
   "source": [
    "- mf의 타입은 모듈이라고 나옴, 현재 단계에서는 무엇인지 알기 어려움 "
   ]
  },
  {
   "cell_type": "markdown",
   "id": "878b7612-fa9f-4df8-8e47-980ba72dcbda",
   "metadata": {},
   "source": [
    "`-` Docstring의 내용을 채울 수 있을까? "
   ]
  },
  {
   "cell_type": "markdown",
   "id": "30ba4c1f-42e8-41ee-a1a8-be8d720040f1",
   "metadata": {},
   "source": [
    "준비1: myfuns.py 파일을 아래와 같이 수정한다. "
   ]
  },
  {
   "cell_type": "markdown",
   "id": "67581282-4e88-428e-ae33-626fd7b99250",
   "metadata": {},
   "source": [
    "준비2: \"00\" -> 커널재시작 "
   ]
  },
  {
   "cell_type": "code",
   "execution_count": 1,
   "id": "c12bae9e-e844-42b1-97a4-c41555d4345a",
   "metadata": {},
   "outputs": [],
   "source": [
    "import myfuns as mf "
   ]
  },
  {
   "cell_type": "code",
   "execution_count": 2,
   "id": "54d19d61-8018-46bb-81bf-7c2c993d18ce",
   "metadata": {},
   "outputs": [
    {
     "data": {
      "text/plain": [
       "\u001b[0;31mType:\u001b[0m        module\n",
       "\u001b[0;31mString form:\u001b[0m <module 'myfuns' from '/home/cgb3/Dropbox/07_lectures/IP2022/_notebooks/myfuns.py'>\n",
       "\u001b[0;31mFile:\u001b[0m        ~/Dropbox/07_lectures/IP2022/_notebooks/myfuns.py\n",
       "\u001b[0;31mDocstring:\u001b[0m   이것은 길이가 2인 벡터의 합 혹은 차를 구하는 모듈입니다.\n"
      ]
     },
     "metadata": {},
     "output_type": "display_data"
    }
   ],
   "source": [
    "mf?"
   ]
  },
  {
   "cell_type": "markdown",
   "id": "2bdb700c-48a1-428b-afe6-33a3c10cbd7b",
   "metadata": {},
   "source": [
    "#### 주의점 "
   ]
  },
  {
   "cell_type": "markdown",
   "id": "5c44ee41-0371-4e14-ae97-bb881d7e3864",
   "metadata": {},
   "source": [
    "`-` `myfuns.py`는 최초 한번만 import 된다.  "
   ]
  },
  {
   "cell_type": "markdown",
   "id": "13b3b783-d5bc-4126-8952-2e7243e9b852",
   "metadata": {},
   "source": [
    "준비: \"00\" -> 커널재시작 "
   ]
  },
  {
   "cell_type": "code",
   "execution_count": 1,
   "id": "2d2487c2-3349-4c38-b3ba-e1cadf1fdfa8",
   "metadata": {},
   "outputs": [],
   "source": [
    "import myfuns"
   ]
  },
  {
   "cell_type": "code",
   "execution_count": 2,
   "id": "03049ec0-e856-4bcd-8773-f8fb07d9f4db",
   "metadata": {},
   "outputs": [
    {
     "data": {
      "text/plain": [
       "[4, 6]"
      ]
     },
     "execution_count": 2,
     "metadata": {},
     "output_type": "execute_result"
    }
   ],
   "source": [
    "myfuns.vec2_add([1,2],[3,4])"
   ]
  },
  {
   "cell_type": "markdown",
   "id": "54ed655f-ff85-4fb9-97b6-bb52d47fe427",
   "metadata": {},
   "source": [
    "`myfuns.py`파일을 열고 함수를 아래와 같이 바꾸자. \n",
    "```python\n",
    "\"\"\"이것은 길이가 2인 벡터의 합 혹은 차를 구하는 모듈입니다.\"\"\" \n",
    "def vec2_add(a,b): \n",
    "    print(\"이것은 myfuns.py에 정의된 함수입니다\") \n",
    "    return [a[0]+b[0], a[1]+b[1]]\n",
    "def vec2_sub(a,b): \n",
    "    return [a[0]-b[0], a[1]-b[1]]\n",
    "```"
   ]
  },
  {
   "cell_type": "markdown",
   "id": "2e4848c9-a125-411c-a904-91c07cb8e01f",
   "metadata": {},
   "source": [
    "다시 myfuns를 로드하고 myfuns.vec2_add 를 실행하여 보자. "
   ]
  },
  {
   "cell_type": "code",
   "execution_count": 4,
   "id": "2a74b01b-4700-419f-919b-786bbc4ceee8",
   "metadata": {},
   "outputs": [],
   "source": [
    "import myfuns"
   ]
  },
  {
   "cell_type": "code",
   "execution_count": 5,
   "id": "3495e8ba-8612-4d76-9703-8a41cc7abbc2",
   "metadata": {},
   "outputs": [
    {
     "data": {
      "text/plain": [
       "[4, 6]"
      ]
     },
     "execution_count": 5,
     "metadata": {},
     "output_type": "execute_result"
    }
   ],
   "source": [
    "myfuns.vec2_add([1,2],[3,4])"
   ]
  },
  {
   "cell_type": "markdown",
   "id": "32f40861-da97-44c0-98bc-3062c0e0cb3d",
   "metadata": {},
   "source": [
    "바뀐내용이 적용되지 않는다. "
   ]
  },
  {
   "cell_type": "markdown",
   "id": "63163f71-0ff3-4943-b88d-01368f6fb617",
   "metadata": {},
   "source": [
    "커널을 다시 시작하고 임포트해보자. "
   ]
  },
  {
   "cell_type": "markdown",
   "id": "7e227ed9-b2fa-46b0-9412-94ab43b0ce8a",
   "metadata": {},
   "source": [
    "\"00\" -> 커널재시작 "
   ]
  },
  {
   "cell_type": "code",
   "execution_count": 1,
   "id": "11694229-1215-400e-8d8a-c2f491658d6a",
   "metadata": {},
   "outputs": [],
   "source": [
    "import myfuns"
   ]
  },
  {
   "cell_type": "code",
   "execution_count": 2,
   "id": "b5ead11d-fd81-4c50-81fe-db09a7f7bdef",
   "metadata": {},
   "outputs": [
    {
     "name": "stdout",
     "output_type": "stream",
     "text": [
      "이것은 myfuns.py에 정의된 함수입니다\n"
     ]
    },
    {
     "data": {
      "text/plain": [
       "[4, 6]"
      ]
     },
     "execution_count": 2,
     "metadata": {},
     "output_type": "execute_result"
    }
   ],
   "source": [
    "myfuns.vec2_add([1,2],[3,4])"
   ]
  },
  {
   "cell_type": "markdown",
   "id": "5e007bf8-66ed-48d6-9165-c7f66ff4a85f",
   "metadata": {},
   "source": [
    "`-` `myfuns.py`는 주피터노트북파일과 같은 폴더에 존재해야 한다. "
   ]
  },
  {
   "cell_type": "markdown",
   "id": "016be91a-b8f1-4d55-807e-396a79e5d04b",
   "metadata": {},
   "source": [
    "준비1: \"00\" -> 커널재시작 "
   ]
  },
  {
   "cell_type": "markdown",
   "id": "9d19e081-516d-466c-8a99-c7deccfb983b",
   "metadata": {},
   "source": [
    "준비2: `myfuns.py`을 복사하여 다른 폴더로 이동. 예를들면 IP0403 폴더를 만들고 그 폴더안에 myfuns.py파일을 복사해서 붙여넣은뒤에 파일이름을 myfuns2.py 로 변경. "
   ]
  },
  {
   "cell_type": "code",
   "execution_count": 3,
   "id": "37ae4eee-b758-408e-a45d-89c5945a04f6",
   "metadata": {},
   "outputs": [],
   "source": [
    "import myfuns # 주피터노트북파일과 같은 폴더에 있는 myfuns는 잘 로드되지만 "
   ]
  },
  {
   "cell_type": "code",
   "execution_count": 4,
   "id": "4732bf2d-6d22-444a-8c15-d2bd0ead6fab",
   "metadata": {},
   "outputs": [
    {
     "ename": "ModuleNotFoundError",
     "evalue": "No module named 'myfuns2'",
     "output_type": "error",
     "traceback": [
      "\u001b[0;31m---------------------------------------------------------------------------\u001b[0m",
      "\u001b[0;31mModuleNotFoundError\u001b[0m                       Traceback (most recent call last)",
      "Input \u001b[0;32mIn [4]\u001b[0m, in \u001b[0;36m<cell line: 1>\u001b[0;34m()\u001b[0m\n\u001b[0;32m----> 1\u001b[0m \u001b[38;5;28;01mimport\u001b[39;00m \u001b[38;5;21;01mmyfuns2\u001b[39;00m\n",
      "\u001b[0;31mModuleNotFoundError\u001b[0m: No module named 'myfuns2'"
     ]
    }
   ],
   "source": [
    "import myfuns2 # 주피터노트북파일과 다른 폴더에 있는 myfuns2는 그렇지 않다. "
   ]
  },
  {
   "cell_type": "markdown",
   "id": "9023d2da-2f06-4d67-93fb-930a031cad4a",
   "metadata": {},
   "source": [
    "`-` IP0403 폴더에 있는 myfuns2.py를 실행하기 위해서는 아래와 같이 할 수 있다. "
   ]
  },
  {
   "cell_type": "markdown",
   "id": "de93ba53-184b-4b81-9b69-58d0f1c54daa",
   "metadata": {},
   "source": [
    "준비: \"00\" -> 커널재시작 "
   ]
  },
  {
   "cell_type": "code",
   "execution_count": 1,
   "id": "487bdc71-a438-45f2-a31e-0cea230b6066",
   "metadata": {},
   "outputs": [],
   "source": [
    "from IP0403 import myfuns2"
   ]
  },
  {
   "cell_type": "code",
   "execution_count": 2,
   "id": "49d92ce6-f167-46d7-b8a6-9128044c722f",
   "metadata": {},
   "outputs": [
    {
     "name": "stdout",
     "output_type": "stream",
     "text": [
      "이것은 myfuns2.py에 정의된 함수입니다\n"
     ]
    },
    {
     "data": {
      "text/plain": [
       "[4, 6]"
      ]
     },
     "execution_count": 2,
     "metadata": {},
     "output_type": "execute_result"
    }
   ],
   "source": [
    "myfuns2.vec2_add([1,2],[3,4]) "
   ]
  },
  {
   "cell_type": "markdown",
   "id": "d6f6ac31-1894-495f-a3a2-0cf22a51fe82",
   "metadata": {},
   "source": [
    "`-` 아래도 가능하다. "
   ]
  },
  {
   "cell_type": "markdown",
   "id": "960e31a8-a14d-4237-8e25-63607986a3fe",
   "metadata": {},
   "source": [
    "준비: \"00\" -> 커널재시작 "
   ]
  },
  {
   "cell_type": "code",
   "execution_count": 1,
   "id": "76860b64-8393-45b1-92f3-776147107281",
   "metadata": {},
   "outputs": [],
   "source": [
    "from IP0403.myfuns2 import vec2_add as add "
   ]
  },
  {
   "cell_type": "code",
   "execution_count": 2,
   "id": "64bc8cf8-c1f1-4906-8173-5cc7acf0b657",
   "metadata": {},
   "outputs": [
    {
     "name": "stdout",
     "output_type": "stream",
     "text": [
      "이것은 myfuns2.py에 정의된 함수입니다\n"
     ]
    },
    {
     "data": {
      "text/plain": [
       "[4, 6]"
      ]
     },
     "execution_count": 2,
     "metadata": {},
     "output_type": "execute_result"
    }
   ],
   "source": [
    "add([1,2],[3,4])"
   ]
  },
  {
   "cell_type": "markdown",
   "id": "5429e466-00e8-4fde-9b79-63aa0d6bc762",
   "metadata": {},
   "source": [
    "참고로 아래는 모두 정의되지 않음 "
   ]
  },
  {
   "cell_type": "code",
   "execution_count": 3,
   "id": "3e545387-8719-42f2-98cf-a5bf9f2a58b0",
   "metadata": {},
   "outputs": [
    {
     "ename": "NameError",
     "evalue": "name 'IP0403' is not defined",
     "output_type": "error",
     "traceback": [
      "\u001b[0;31m---------------------------------------------------------------------------\u001b[0m",
      "\u001b[0;31mNameError\u001b[0m                                 Traceback (most recent call last)",
      "Input \u001b[0;32mIn [3]\u001b[0m, in \u001b[0;36m<cell line: 1>\u001b[0;34m()\u001b[0m\n\u001b[0;32m----> 1\u001b[0m \u001b[43mIP0403\u001b[49m\u001b[38;5;241m.\u001b[39mmyfuns2\u001b[38;5;241m.\u001b[39mvec2_add([\u001b[38;5;241m1\u001b[39m,\u001b[38;5;241m2\u001b[39m],[\u001b[38;5;241m3\u001b[39m,\u001b[38;5;241m4\u001b[39m])\n",
      "\u001b[0;31mNameError\u001b[0m: name 'IP0403' is not defined"
     ]
    }
   ],
   "source": [
    "IP0403.myfuns2.vec2_add([1,2],[3,4]) "
   ]
  },
  {
   "cell_type": "code",
   "execution_count": 4,
   "id": "231ae550-81dc-4fdd-b322-2c36774ce8cd",
   "metadata": {},
   "outputs": [
    {
     "ename": "NameError",
     "evalue": "name 'myfuns2' is not defined",
     "output_type": "error",
     "traceback": [
      "\u001b[0;31m---------------------------------------------------------------------------\u001b[0m",
      "\u001b[0;31mNameError\u001b[0m                                 Traceback (most recent call last)",
      "Input \u001b[0;32mIn [4]\u001b[0m, in \u001b[0;36m<cell line: 1>\u001b[0;34m()\u001b[0m\n\u001b[0;32m----> 1\u001b[0m \u001b[43mmyfuns2\u001b[49m\u001b[38;5;241m.\u001b[39mvec2_add([\u001b[38;5;241m1\u001b[39m,\u001b[38;5;241m2\u001b[39m],[\u001b[38;5;241m3\u001b[39m,\u001b[38;5;241m4\u001b[39m])\n",
      "\u001b[0;31mNameError\u001b[0m: name 'myfuns2' is not defined"
     ]
    }
   ],
   "source": [
    "myfuns2.vec2_add([1,2],[3,4]) "
   ]
  },
  {
   "cell_type": "code",
   "execution_count": 5,
   "id": "165f2192-3ce9-467d-ac52-d070a210cb1c",
   "metadata": {},
   "outputs": [
    {
     "ename": "NameError",
     "evalue": "name 'vec2_add' is not defined",
     "output_type": "error",
     "traceback": [
      "\u001b[0;31m---------------------------------------------------------------------------\u001b[0m",
      "\u001b[0;31mNameError\u001b[0m                                 Traceback (most recent call last)",
      "Input \u001b[0;32mIn [5]\u001b[0m, in \u001b[0;36m<cell line: 1>\u001b[0;34m()\u001b[0m\n\u001b[0;32m----> 1\u001b[0m \u001b[43mvec2_add\u001b[49m([\u001b[38;5;241m1\u001b[39m,\u001b[38;5;241m2\u001b[39m],[\u001b[38;5;241m3\u001b[39m,\u001b[38;5;241m4\u001b[39m])\n",
      "\u001b[0;31mNameError\u001b[0m: name 'vec2_add' is not defined"
     ]
    }
   ],
   "source": [
    "vec2_add([1,2],[3,4]) "
   ]
  },
  {
   "cell_type": "markdown",
   "id": "41615902-3000-41d5-834d-1c157f55ec58",
   "metadata": {},
   "source": [
    "### import 고급 "
   ]
  },
  {
   "cell_type": "markdown",
   "id": "d941300a-1528-4082-9f04-6e733aa415bd",
   "metadata": {},
   "source": [
    "#### 폴더와 함께 사용할시 "
   ]
  },
  {
   "cell_type": "markdown",
   "id": "f59ec3de-68e8-40a4-9a8c-c8a0f2323c5d",
   "metadata": {},
   "source": [
    "`-` 언뜻 생각하면 아래가 가능할 것 같다. \n",
    "```python\n",
    "import IP0403 \n",
    "IP0403.myfuns2.vec2_add([1,2],[3,4]) \n",
    "```"
   ]
  },
  {
   "cell_type": "markdown",
   "id": "e20e0a8e-f770-4305-b31c-9a28f873279a",
   "metadata": {},
   "source": [
    "`-` 하지만 불가능하다. "
   ]
  },
  {
   "cell_type": "markdown",
   "id": "ab89f9ba-f7d5-4737-ad4a-1d1e433a8696",
   "metadata": {},
   "source": [
    "준비: \"00\" -> 커널재시작 "
   ]
  },
  {
   "cell_type": "code",
   "execution_count": 1,
   "id": "3633845a-606f-4d6f-93dc-db241f76853e",
   "metadata": {},
   "outputs": [],
   "source": [
    "import IP0403 "
   ]
  },
  {
   "cell_type": "markdown",
   "id": "8da6e3c6-4ef1-4791-b112-8287d152e06c",
   "metadata": {},
   "source": [
    "- 되는거아냐? "
   ]
  },
  {
   "cell_type": "code",
   "execution_count": 2,
   "id": "d1d9a4c0-c50c-461b-b219-0c42ee52fc3d",
   "metadata": {},
   "outputs": [
    {
     "ename": "AttributeError",
     "evalue": "module 'IP0403' has no attribute 'myfuns2'",
     "output_type": "error",
     "traceback": [
      "\u001b[0;31m---------------------------------------------------------------------------\u001b[0m",
      "\u001b[0;31mAttributeError\u001b[0m                            Traceback (most recent call last)",
      "Input \u001b[0;32mIn [2]\u001b[0m, in \u001b[0;36m<cell line: 1>\u001b[0;34m()\u001b[0m\n\u001b[0;32m----> 1\u001b[0m \u001b[43mIP0403\u001b[49m\u001b[38;5;241;43m.\u001b[39;49m\u001b[43mmyfuns2\u001b[49m\u001b[38;5;241m.\u001b[39mvec2_add([\u001b[38;5;241m1\u001b[39m,\u001b[38;5;241m2\u001b[39m],[\u001b[38;5;241m3\u001b[39m,\u001b[38;5;241m4\u001b[39m])\n",
      "\u001b[0;31mAttributeError\u001b[0m: module 'IP0403' has no attribute 'myfuns2'"
     ]
    }
   ],
   "source": [
    "IP0403.myfuns2.vec2_add([1,2],[3,4])"
   ]
  },
  {
   "cell_type": "markdown",
   "id": "5fd666f3-6ebe-487e-8ed1-4a487d293086",
   "metadata": {},
   "source": [
    "- 여기서 불가능하다. "
   ]
  },
  {
   "cell_type": "markdown",
   "id": "bcb84d71-e3be-4388-9ce2-237543ab054f",
   "metadata": {},
   "source": [
    "`-` **(암기)** IP0403 폴더안에 `__init__.py`라는 파일을 만들고 내용에 아래와 같이 쓰면 가능하다. \n",
    "```python\n",
    "# ./IP0403/__init__.py \n",
    "from . import myfuns2\n",
    "```"
   ]
  },
  {
   "cell_type": "markdown",
   "id": "66ee53d4-5911-4c35-9593-ebbf0e104366",
   "metadata": {},
   "source": [
    "준비1: 위의 지침을 따른다. "
   ]
  },
  {
   "cell_type": "markdown",
   "id": "383085e8-e7e3-4077-9429-711f88d8f821",
   "metadata": {},
   "source": [
    "준비2: \"00\" -> 커널재시작 "
   ]
  },
  {
   "cell_type": "code",
   "execution_count": 1,
   "id": "b410ad69-d751-4c3b-8099-c06dda2d3998",
   "metadata": {},
   "outputs": [],
   "source": [
    "import IP0403 "
   ]
  },
  {
   "cell_type": "code",
   "execution_count": 2,
   "id": "2f5deaa3-d5a3-4b94-bae3-213e9da67f29",
   "metadata": {},
   "outputs": [
    {
     "name": "stdout",
     "output_type": "stream",
     "text": [
      "이것은 myfuns2.py에 정의된 함수입니다\n"
     ]
    },
    {
     "data": {
      "text/plain": [
       "[4, 6]"
      ]
     },
     "execution_count": 2,
     "metadata": {},
     "output_type": "execute_result"
    }
   ],
   "source": [
    "IP0403.myfuns2.vec2_add([1,2],[3,4])"
   ]
  },
  {
   "cell_type": "markdown",
   "id": "92f04dd0-9ad4-4b5d-9cf4-d228ce63efe2",
   "metadata": {},
   "source": [
    "**컴퓨터 상식**\n",
    "- `.`: 현재폴더를 의미 \n",
    "- `..`: 상위폴더를 의미 \n",
    "- `./myfuns.py`: 현재폴더안에 있는 myfuns.py를 의미 \n",
    "- `./IP0403/myfuns2.py`: 현재폴더만에 IP0403폴더안의 myfuns2.py 파일을 의미\n",
    "- `../myfuns.py`: 현재폴더보다 한단계상위폴더에 있는 myfuns.py를 의미 \n",
    "- `cd ./IP0403`: 현재폴더안에 있는 IP0403폴더로 이동해라. (`cd IP0403`으로 줄여쓸 수 있음) \n",
    "- `cd ..` 현재폴더보다 한단계 상위폴더로 이동하라. "
   ]
  },
  {
   "cell_type": "markdown",
   "id": "a7c51140-0143-4a96-a522-737e5a617dcb",
   "metadata": {},
   "source": [
    "**따라서 `from . import myfuns2`는 현재폴더에서 myfuns2를 찾아서 임포트 하라는 의미로 해석가능**"
   ]
  },
  {
   "cell_type": "markdown",
   "id": "2ae77b43-cdfe-4bd0-87b8-c41bb814259f",
   "metadata": {},
   "source": [
    "`-` 의미상으로 보면 아래가 실행가능할듯 한데 불가능하다. "
   ]
  },
  {
   "cell_type": "code",
   "execution_count": 3,
   "id": "16f728eb-733e-46d8-8ba6-6e5cfe2af460",
   "metadata": {},
   "outputs": [
    {
     "ename": "ImportError",
     "evalue": "attempted relative import with no known parent package",
     "output_type": "error",
     "traceback": [
      "\u001b[0;31m---------------------------------------------------------------------------\u001b[0m",
      "\u001b[0;31mImportError\u001b[0m                               Traceback (most recent call last)",
      "Input \u001b[0;32mIn [3]\u001b[0m, in \u001b[0;36m<cell line: 2>\u001b[0;34m()\u001b[0m\n\u001b[1;32m      1\u001b[0m \u001b[38;5;66;03m#import myfuns\u001b[39;00m\n\u001b[0;32m----> 2\u001b[0m \u001b[38;5;28;01mfrom\u001b[39;00m \u001b[38;5;21;01m.\u001b[39;00m \u001b[38;5;28;01mimport\u001b[39;00m myfuns\n",
      "\u001b[0;31mImportError\u001b[0m: attempted relative import with no known parent package"
     ]
    }
   ],
   "source": [
    "#import myfuns\n",
    "from . import myfuns"
   ]
  },
  {
   "cell_type": "markdown",
   "id": "0a2215cb-a0ba-4ff8-8ff1-1d5dc7bd57d2",
   "metadata": {},
   "source": [
    "### site-packages (실습금지)"
   ]
  },
  {
   "cell_type": "markdown",
   "id": "75e1a287-32ff-4d22-b993-2f10a83b73e7",
   "metadata": {},
   "source": [
    "`-` 의문: 왜 현재폴더에 numpy.py라든가 numpy라는 이름의 폴더가 없는데도 import 가능한지? "
   ]
  },
  {
   "cell_type": "markdown",
   "id": "7ef53d1b-51dd-4e5a-bb86-9c1cb7d42085",
   "metadata": {},
   "source": [
    "준비: \"00\" -> 커널재시작 "
   ]
  },
  {
   "cell_type": "code",
   "execution_count": 1,
   "id": "fd47d957-ec6b-4ea7-91d5-36807fbaa6db",
   "metadata": {},
   "outputs": [],
   "source": [
    "import numpy as np"
   ]
  },
  {
   "cell_type": "code",
   "execution_count": 2,
   "id": "2c4a26ff-e4d5-4e34-9c95-f14502d19c3d",
   "metadata": {},
   "outputs": [],
   "source": [
    "import IP0403 as ip "
   ]
  },
  {
   "cell_type": "code",
   "execution_count": 7,
   "id": "3c3604c0-b2bb-4d74-9d2e-2260a4e359e1",
   "metadata": {},
   "outputs": [
    {
     "data": {
      "text/plain": [
       "\u001b[0;31mType:\u001b[0m        module\n",
       "\u001b[0;31mString form:\u001b[0m <module 'IP0403' from '/home/cgb3/Dropbox/07_lectures/IP2022/_notebooks/IP0403/__init__.py'>\n",
       "\u001b[0;31mFile:\u001b[0m        ~/Dropbox/07_lectures/IP2022/_notebooks/IP0403/__init__.py\n",
       "\u001b[0;31mDocstring:\u001b[0m   <no docstring>\n"
      ]
     },
     "metadata": {},
     "output_type": "display_data"
    }
   ],
   "source": [
    "ip?"
   ]
  },
  {
   "cell_type": "code",
   "execution_count": 6,
   "id": "ab42ef17-e450-42d1-a4ce-ac60d4380b88",
   "metadata": {},
   "outputs": [
    {
     "data": {
      "text/plain": [
       "\u001b[0;31mType:\u001b[0m        module\n",
       "\u001b[0;31mString form:\u001b[0m <module 'numpy' from '/home/cgb3/anaconda3/envs/py310/lib/python3.10/site-packages/numpy/__init__.py'>\n",
       "\u001b[0;31mFile:\u001b[0m        ~/anaconda3/envs/py310/lib/python3.10/site-packages/numpy/__init__.py\n",
       "\u001b[0;31mDocstring:\u001b[0m  \n",
       "NumPy\n",
       "=====\n",
       "\n",
       "Provides\n",
       "  1. An array object of arbitrary homogeneous items\n",
       "  2. Fast mathematical operations over arrays\n",
       "  3. Linear Algebra, Fourier Transforms, Random Number Generation\n",
       "\n",
       "How to use the documentation\n",
       "----------------------------\n",
       "Documentation is available in two forms: docstrings provided\n",
       "with the code, and a loose standing reference guide, available from\n",
       "`the NumPy homepage <https://www.scipy.org>`_.\n",
       "\n",
       "We recommend exploring the docstrings using\n",
       "`IPython <https://ipython.org>`_, an advanced Python shell with\n",
       "TAB-completion and introspection capabilities.  See below for further\n",
       "instructions.\n",
       "\n",
       "The docstring examples assume that `numpy` has been imported as `np`::\n",
       "\n",
       "  >>> import numpy as np\n",
       "\n",
       "Code snippets are indicated by three greater-than signs::\n",
       "\n",
       "  >>> x = 42\n",
       "  >>> x = x + 1\n",
       "\n",
       "Use the built-in ``help`` function to view a function's docstring::\n",
       "\n",
       "  >>> help(np.sort)\n",
       "  ... # doctest: +SKIP\n",
       "\n",
       "For some objects, ``np.info(obj)`` may provide additional help.  This is\n",
       "particularly true if you see the line \"Help on ufunc object:\" at the top\n",
       "of the help() page.  Ufuncs are implemented in C, not Python, for speed.\n",
       "The native Python help() does not know how to view their help, but our\n",
       "np.info() function does.\n",
       "\n",
       "To search for documents containing a keyword, do::\n",
       "\n",
       "  >>> np.lookfor('keyword')\n",
       "  ... # doctest: +SKIP\n",
       "\n",
       "General-purpose documents like a glossary and help on the basic concepts\n",
       "of numpy are available under the ``doc`` sub-module::\n",
       "\n",
       "  >>> from numpy import doc\n",
       "  >>> help(doc)\n",
       "  ... # doctest: +SKIP\n",
       "\n",
       "Available subpackages\n",
       "---------------------\n",
       "doc\n",
       "    Topical documentation on broadcasting, indexing, etc.\n",
       "lib\n",
       "    Basic functions used by several sub-packages.\n",
       "random\n",
       "    Core Random Tools\n",
       "linalg\n",
       "    Core Linear Algebra Tools\n",
       "fft\n",
       "    Core FFT routines\n",
       "polynomial\n",
       "    Polynomial tools\n",
       "testing\n",
       "    NumPy testing tools\n",
       "f2py\n",
       "    Fortran to Python Interface Generator.\n",
       "distutils\n",
       "    Enhancements to distutils with support for\n",
       "    Fortran compilers support and more.\n",
       "\n",
       "Utilities\n",
       "---------\n",
       "test\n",
       "    Run numpy unittests\n",
       "show_config\n",
       "    Show numpy build configuration\n",
       "dual\n",
       "    Overwrite certain functions with high-performance SciPy tools.\n",
       "    Note: `numpy.dual` is deprecated.  Use the functions from NumPy or Scipy\n",
       "    directly instead of importing them from `numpy.dual`.\n",
       "matlib\n",
       "    Make everything matrices.\n",
       "__version__\n",
       "    NumPy version string\n",
       "\n",
       "Viewing documentation using IPython\n",
       "-----------------------------------\n",
       "Start IPython with the NumPy profile (``ipython -p numpy``), which will\n",
       "import `numpy` under the alias `np`.  Then, use the ``cpaste`` command to\n",
       "paste examples into the shell.  To see which functions are available in\n",
       "`numpy`, type ``np.<TAB>`` (where ``<TAB>`` refers to the TAB key), or use\n",
       "``np.*cos*?<ENTER>`` (where ``<ENTER>`` refers to the ENTER key) to narrow\n",
       "down the list.  To view the docstring for a function, use\n",
       "``np.cos?<ENTER>`` (to view the docstring) and ``np.cos??<ENTER>`` (to view\n",
       "the source code).\n",
       "\n",
       "Copies vs. in-place operation\n",
       "-----------------------------\n",
       "Most of the functions in `numpy` return a copy of the array argument\n",
       "(e.g., `np.sort`).  In-place versions of these functions are often\n",
       "available as array methods, i.e. ``x = np.array([1,2,3]); x.sort()``.\n",
       "Exceptions to this rule are documented.\n"
      ]
     },
     "metadata": {},
     "output_type": "display_data"
    }
   ],
   "source": [
    "np?"
   ]
  },
  {
   "cell_type": "markdown",
   "id": "59e45d59-4a2c-466e-9c18-694220d69eb5",
   "metadata": {},
   "source": [
    "`-` 추측: `~/anaconda3/envs/py310/lib/python3.10/site-packages/`를 찾아가보자. 그곳에 numpy폴더가 있을 것이다. "
   ]
  },
  {
   "cell_type": "code",
   "execution_count": 13,
   "id": "646ae2fb-a656-4b94-ad3e-f7b13ebddb4f",
   "metadata": {},
   "outputs": [
    {
     "name": "stdout",
     "output_type": "stream",
     "text": [
      "numpy\n",
      "numpy-1.22.2.dist-info\n"
     ]
    }
   ],
   "source": [
    "!ls ~/anaconda3/envs/py310/lib/python3.10/site-packages | grep numpy"
   ]
  },
  {
   "cell_type": "markdown",
   "id": "cf1f0680-45dc-4c6c-aa39-a0b1a1cf29be",
   "metadata": {},
   "source": [
    "`-` 추측2: `~/anaconda3/envs/py310/lib/python3.10/site-packages/`에 내가 자주 쓰는 기능을 폴더로 만들어서 모아두면 어디서든지 import 할 수 있다. "
   ]
  },
  {
   "cell_type": "code",
   "execution_count": 14,
   "id": "1e7610fe-4387-4009-81f7-bd3b158f82ed",
   "metadata": {},
   "outputs": [],
   "source": [
    "!mkdir ~/anaconda3/envs/py310/lib/python3.10/site-packages/guebin # guebin 폴더 생성 "
   ]
  },
  {
   "cell_type": "code",
   "execution_count": 15,
   "id": "3727eada-94cb-4f23-ae78-47083de69804",
   "metadata": {},
   "outputs": [],
   "source": [
    "!cp ./myfuns.py ~/anaconda3/envs/py310/lib/python3.10/site-packages/guebin \n",
    "# 현폴더에 있는 myfuns.py를 아까만든 guebin 폴더로 복사 "
   ]
  },
  {
   "cell_type": "code",
   "execution_count": 16,
   "id": "ad64c4b6-0049-42f2-a786-dae5d204ccf8",
   "metadata": {},
   "outputs": [],
   "source": [
    "from guebin import myfuns"
   ]
  },
  {
   "cell_type": "code",
   "execution_count": 17,
   "id": "466ce77b-8ca4-4b00-8686-e2c45bcecae2",
   "metadata": {},
   "outputs": [
    {
     "data": {
      "text/plain": [
       "\u001b[0;31mType:\u001b[0m        module\n",
       "\u001b[0;31mString form:\u001b[0m <module 'guebin.myfuns' from '/home/cgb3/anaconda3/envs/py310/lib/python3.10/site-packages/guebin/myfuns.py'>\n",
       "\u001b[0;31mFile:\u001b[0m        ~/anaconda3/envs/py310/lib/python3.10/site-packages/guebin/myfuns.py\n",
       "\u001b[0;31mDocstring:\u001b[0m   이것은 길이가 2인 벡터의 합 혹은 차를 구하는 모듈입니다.\n"
      ]
     },
     "metadata": {},
     "output_type": "display_data"
    }
   ],
   "source": [
    "myfuns?"
   ]
  },
  {
   "cell_type": "code",
   "execution_count": 19,
   "id": "574fac92-b210-4474-9c63-7ac68f283478",
   "metadata": {},
   "outputs": [],
   "source": [
    "!rm  ~/anaconda3/envs/py310/lib/python3.10/site-packages/guebin -rf # guebin 폴더삭제 "
   ]
  },
  {
   "cell_type": "markdown",
   "id": "68ce0f1e-55a0-4d71-80e7-2277937777ae",
   "metadata": {},
   "source": [
    "`-` 추측3: guebin이 사라진 상태에서는 `from guebin import myfuns` 이 동작하지 않을 것이다. "
   ]
  },
  {
   "cell_type": "markdown",
   "id": "5a6e2e02-f434-4508-9ab5-fa747a138157",
   "metadata": {},
   "source": [
    "준비: \"00\" -> 커널재시작 "
   ]
  },
  {
   "cell_type": "code",
   "execution_count": 1,
   "id": "e0e0bf8c-0e46-4a89-8de9-0da1a9247c97",
   "metadata": {},
   "outputs": [
    {
     "ename": "ModuleNotFoundError",
     "evalue": "No module named 'guebin'",
     "output_type": "error",
     "traceback": [
      "\u001b[0;31m---------------------------------------------------------------------------\u001b[0m",
      "\u001b[0;31mModuleNotFoundError\u001b[0m                       Traceback (most recent call last)",
      "Input \u001b[0;32mIn [1]\u001b[0m, in \u001b[0;36m<cell line: 1>\u001b[0;34m()\u001b[0m\n\u001b[0;32m----> 1\u001b[0m \u001b[38;5;28;01mfrom\u001b[39;00m \u001b[38;5;21;01mguebin\u001b[39;00m \u001b[38;5;28;01mimport\u001b[39;00m myfuns\n",
      "\u001b[0;31mModuleNotFoundError\u001b[0m: No module named 'guebin'"
     ]
    }
   ],
   "source": [
    "from guebin import myfuns"
   ]
  },
  {
   "cell_type": "markdown",
   "id": "90ac9b08-4d4a-411b-a039-68873a994e39",
   "metadata": {},
   "source": [
    "`-` 추측4: `~/anaconda3/envs/py310/lib/python3.10/site-packages/`에서 numpy를 지운다면 numpy를 import할 수 없다. "
   ]
  },
  {
   "cell_type": "markdown",
   "id": "14a952ae-696d-4424-ad56-de34dcd2ff76",
   "metadata": {},
   "source": [
    "준비: \"00\" -> 커널재시작 "
   ]
  },
  {
   "cell_type": "code",
   "execution_count": 1,
   "id": "27f70cbf-3f4f-4824-b0b2-da82f00b8228",
   "metadata": {},
   "outputs": [
    {
     "ename": "ModuleNotFoundError",
     "evalue": "No module named 'numpy'",
     "output_type": "error",
     "traceback": [
      "\u001b[0;31m---------------------------------------------------------------------------\u001b[0m",
      "\u001b[0;31mModuleNotFoundError\u001b[0m                       Traceback (most recent call last)",
      "Input \u001b[0;32mIn [1]\u001b[0m, in \u001b[0;36m<cell line: 1>\u001b[0;34m()\u001b[0m\n\u001b[0;32m----> 1\u001b[0m \u001b[38;5;28;01mimport\u001b[39;00m \u001b[38;5;21;01mnumpy\u001b[39;00m \u001b[38;5;28;01mas\u001b[39;00m \u001b[38;5;21;01mnp\u001b[39;00m\n",
      "\u001b[0;31mModuleNotFoundError\u001b[0m: No module named 'numpy'"
     ]
    }
   ],
   "source": [
    "import numpy as np"
   ]
  },
  {
   "cell_type": "markdown",
   "id": "8d9347a5-c8a6-41dc-b500-7b8967141cb5",
   "metadata": {},
   "source": [
    "`-` 추측5: `!pip install numpy`를 하면 다시 폴더가 생길 것이다. "
   ]
  },
  {
   "cell_type": "code",
   "execution_count": 3,
   "id": "e1886ebe-63ea-4f04-90e6-5a3a04a585be",
   "metadata": {},
   "outputs": [
    {
     "name": "stdout",
     "output_type": "stream",
     "text": [
      "Found existing installation: numpy 1.22.2\n",
      "Uninstalling numpy-1.22.2:\n",
      "  Successfully uninstalled numpy-1.22.2\n"
     ]
    }
   ],
   "source": [
    "!pip uninstall numpy -y "
   ]
  },
  {
   "cell_type": "code",
   "execution_count": 4,
   "id": "f43d22c7-26e8-407b-9731-f1cee49ecbc6",
   "metadata": {},
   "outputs": [
    {
     "name": "stdout",
     "output_type": "stream",
     "text": [
      "Collecting numpy\n",
      "  Downloading numpy-1.22.3-cp310-cp310-manylinux_2_17_x86_64.manylinux2014_x86_64.whl (16.8 MB)\n",
      "\u001b[K     |████████████████████████████████| 16.8 MB 11.4 MB/s eta 0:00:01\n",
      "\u001b[?25hInstalling collected packages: numpy\n",
      "Successfully installed numpy-1.22.3\n"
     ]
    }
   ],
   "source": [
    "!pip install numpy "
   ]
  },
  {
   "cell_type": "markdown",
   "id": "52aea3df-ae34-441a-98ee-d6c16e576c1a",
   "metadata": {},
   "source": [
    "### 모듈, 패키지, 라이브러리? "
   ]
  },
  {
   "cell_type": "markdown",
   "id": "c24fd881-6cf6-4031-a652-51686f5b8e71",
   "metadata": {},
   "source": [
    "`-` 모듈의 개념은 아까 살펴본것과 같다. (import를 하여 생기게 되는 오브젝트) "
   ]
  },
  {
   "cell_type": "markdown",
   "id": "0f9772e7-82b4-4929-a47a-50c9092a59d7",
   "metadata": {},
   "source": [
    "`-` 교수님들: 모듈이 모이면 패키지라고 부른다. 그리고 라이브러리는 패키지보다 큰 개념이다. "
   ]
  },
  {
   "cell_type": "markdown",
   "id": "9b9ca7c7-47b8-4b04-a811-2e71508313c5",
   "metadata": {},
   "source": [
    "`-` 그런데 구분이 모호하다. "
   ]
  },
  {
   "cell_type": "code",
   "execution_count": 1,
   "id": "d856a2a9-0b80-43b5-b12a-dff266a2608d",
   "metadata": {},
   "outputs": [],
   "source": [
    "import numpy as np"
   ]
  },
  {
   "cell_type": "code",
   "execution_count": 3,
   "id": "841507f5-7231-4b66-927f-dfb5202bb969",
   "metadata": {},
   "outputs": [
    {
     "data": {
      "text/plain": [
       "module"
      ]
     },
     "execution_count": 3,
     "metadata": {},
     "output_type": "execute_result"
    }
   ],
   "source": [
    "type(np)"
   ]
  },
  {
   "cell_type": "markdown",
   "id": "a40032bf-60c1-4c84-89ec-f44001944145",
   "metadata": {},
   "source": [
    "`-` python에서의 numpy의 type은 모듈 "
   ]
  },
  {
   "cell_type": "markdown",
   "id": "c554b6d4-dd62-406a-ba1d-8a75898e8815",
   "metadata": {},
   "source": [
    "`-` 그런데 numpy package 라고 검색하면 검색이 된다. "
   ]
  },
  {
   "cell_type": "markdown",
   "id": "e3901c2c-78ac-4512-ba37-41e4d901516a",
   "metadata": {},
   "source": [
    "`-` 심지어 numpy library 라고 해도 검색가능 "
   ]
  },
  {
   "cell_type": "markdown",
   "id": "95702ede-1bbf-4293-8a57-98cfaf83cff3",
   "metadata": {},
   "source": [
    "`-` 내생각: 넘파이모듈, 넘파이패키지, 넘파이라이브러리 다 맞는 말임 "
   ]
  }
 ],
 "metadata": {
  "kernelspec": {
   "display_name": "Python 3 (ipykernel)",
   "language": "python",
   "name": "python3"
  },
  "language_info": {
   "codemirror_mode": {
    "name": "ipython",
    "version": 3
   },
   "file_extension": ".py",
   "mimetype": "text/x-python",
   "name": "python",
   "nbconvert_exporter": "python",
   "pygments_lexer": "ipython3",
   "version": "3.9.0"
  }
 },
 "nbformat": 4,
 "nbformat_minor": 5
}
