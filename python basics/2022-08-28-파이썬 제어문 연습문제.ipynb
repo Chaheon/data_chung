{
 "cells": [
  {
   "cell_type": "markdown",
   "id": "ee975ac9-5540-4280-9ffd-c054bbafad14",
   "metadata": {},
   "source": [
    "### 제어문 연습문제 "
   ]
  },
  {
   "cell_type": "code",
   "execution_count": 1,
   "id": "ed9747ca-fa9d-4dad-8cc2-14f4a5c6a312",
   "metadata": {},
   "outputs": [
    {
     "name": "stdout",
     "output_type": "stream",
     "text": [
      "shirt\n"
     ]
    }
   ],
   "source": [
    "# 1번\n",
    "\n",
    "a = \"Life is too short, you need python\"\n",
    "\n",
    "if \"wife\" in a: print(\"wife\")\n",
    "elif \"python\" in a and \"you\" not in a: print(\"python\")\n",
    "elif \"shirt\" not in a: print(\"shirt\")\n",
    "elif \"need\" in a: print(\"need\")\n",
    "else: print(\"none\")\n",
    "\n",
    "# 답은 shirt"
   ]
  },
  {
   "cell_type": "code",
   "execution_count": 3,
   "id": "db48d702-2f70-459c-be24-c99ba27400ba",
   "metadata": {},
   "outputs": [
    {
     "data": {
      "text/plain": [
       "166833"
      ]
     },
     "execution_count": 3,
     "metadata": {},
     "output_type": "execute_result"
    }
   ],
   "source": [
    "# 2번\n",
    "\n",
    "num = 0\n",
    "result = 0 \n",
    "\n",
    "while True :\n",
    "    num += 1 \n",
    "    if num % 3 == 0 :\n",
    "        result += num\n",
    "    elif num > 1000 :\n",
    "        break    \n",
    "        \n",
    "result"
   ]
  },
  {
   "cell_type": "code",
   "execution_count": 6,
   "id": "3880b665-53df-4fe7-8a42-87c8e8e14b29",
   "metadata": {},
   "outputs": [
    {
     "name": "stdout",
     "output_type": "stream",
     "text": [
      "*\n",
      "**\n",
      "***\n",
      "****\n",
      "*****\n"
     ]
    }
   ],
   "source": [
    "# 3번\n",
    "\n",
    "num = 0 \n",
    "\n",
    "while num <= 4 :\n",
    "    num += 1 \n",
    "    print('*'*num)"
   ]
  },
  {
   "cell_type": "code",
   "execution_count": 7,
   "id": "d1930fd7-ca9c-4ac3-8937-b65a02e3eb0f",
   "metadata": {},
   "outputs": [
    {
     "name": "stdout",
     "output_type": "stream",
     "text": [
      "1 2 3 4 5 6 7 8 9 10 11 12 13 14 15 16 17 18 19 20 21 22 23 24 25 26 27 28 29 30 31 32 33 34 35 36 37 38 39 40 41 42 43 44 45 46 47 48 49 50 51 52 53 54 55 56 57 58 59 60 61 62 63 64 65 66 67 68 69 70 71 72 73 74 75 76 77 78 79 80 81 82 83 84 85 86 87 88 89 90 91 92 93 94 95 96 97 98 99 100 "
     ]
    }
   ],
   "source": [
    "# 4번\n",
    "\n",
    "for i in range(1, 101):\n",
    "    print(i, end = ' ')"
   ]
  },
  {
   "cell_type": "code",
   "execution_count": 9,
   "id": "4e9d3723-a34d-45fe-89da-ac83f0ed2ec8",
   "metadata": {},
   "outputs": [
    {
     "data": {
      "text/plain": [
       "79.0"
      ]
     },
     "execution_count": 9,
     "metadata": {},
     "output_type": "execute_result"
    }
   ],
   "source": [
    "# 5번 \n",
    "\n",
    "sum = 0 \n",
    "lst = [70, 60, 55, 75, 95, 90, 80, 80, 85, 100]\n",
    "\n",
    "for i in lst :\n",
    "    sum += i \n",
    "\n",
    "sum / len(lst) "
   ]
  },
  {
   "cell_type": "code",
   "execution_count": 14,
   "id": "81b7ff9c-e751-49b0-a9b0-ef180ddb11cb",
   "metadata": {},
   "outputs": [
    {
     "data": {
      "text/plain": [
       "[2, 6, 10]"
      ]
     },
     "execution_count": 14,
     "metadata": {},
     "output_type": "execute_result"
    }
   ],
   "source": [
    "# 6번 \n",
    "\n",
    "[i*2 for i in [1,2,3,4,5] if i % 2 == 1]"
   ]
  }
 ],
 "metadata": {
  "kernelspec": {
   "display_name": "Python 3 (ipykernel)",
   "language": "python",
   "name": "python3"
  },
  "language_info": {
   "codemirror_mode": {
    "name": "ipython",
    "version": 3
   },
   "file_extension": ".py",
   "mimetype": "text/x-python",
   "name": "python",
   "nbconvert_exporter": "python",
   "pygments_lexer": "ipython3",
   "version": "3.9.0"
  }
 },
 "nbformat": 4,
 "nbformat_minor": 5
}
