{
 "cells": [
  {
   "cell_type": "markdown",
   "id": "62797076-1c0b-43c0-ba58-3e3bce9c7124",
   "metadata": {
    "tags": []
   },
   "source": [
    "## 파이썬 기초, 입*출력 프로세스"
   ]
  },
  {
   "cell_type": "markdown",
   "id": "fcfcf899-8815-4d35-8a36-35e2aa4aaa1d",
   "metadata": {},
   "source": [
    "`-` 함수, 사용자 입력과 출력, 파일 읽고 쓰기 "
   ]
  },
  {
   "cell_type": "markdown",
   "id": "73ce9bb7-c535-456c-8f51-280a39c2b4ce",
   "metadata": {},
   "source": [
    "### 사용자 입력과 출력"
   ]
  },
  {
   "cell_type": "markdown",
   "id": "6c2eaab0-456e-4ca8-bcb9-a5f5833f1ca3",
   "metadata": {},
   "source": [
    "우리들이 사용하는 완성된 프로그램은 사용자의 입력에 따라 그에 맞는 출력을 내보낸다.  \n",
    "물론 데이터 분야에 있어서 사용자를 염두한 프로그램을 만드는건 큰 의미가 없을진 모르지만 개념은 익혀두고자 한다. "
   ]
  },
  {
   "cell_type": "markdown",
   "id": "30b6855e-b7f5-41f2-8fc0-8d3e78e1694f",
   "metadata": {},
   "source": [
    "#### 사용자 입력"
   ]
  },
  {
   "cell_type": "markdown",
   "id": "21db17b7-31ca-42d5-bd3c-5de9935dbae4",
   "metadata": {},
   "source": [
    "input은 대표적인 입력 명령어이다. \n",
    "\n",
    "input은 입력되는 모든 것을 문자열로 취급한다. "
   ]
  },
  {
   "cell_type": "code",
   "execution_count": 3,
   "id": "46f7420d-695a-41e3-9413-d3aad020d66c",
   "metadata": {},
   "outputs": [
    {
     "name": "stdin",
     "output_type": "stream",
     "text": [
      " oldcar is happy\n"
     ]
    },
    {
     "data": {
      "text/plain": [
       "'oldcar is happy'"
      ]
     },
     "execution_count": 3,
     "metadata": {},
     "output_type": "execute_result"
    }
   ],
   "source": [
    "a = input()\n",
    "a"
   ]
  },
  {
   "cell_type": "markdown",
   "id": "3b0d484f-26c1-49dc-b040-12e54b7b697e",
   "metadata": {},
   "source": [
    "입력 시 안내 문구 또는 질문 등이 나오도록 할 수 있다. "
   ]
  },
  {
   "cell_type": "code",
   "execution_count": 4,
   "id": "c9344b99-0a8e-4029-8d6d-81d0a5671b08",
   "metadata": {},
   "outputs": [
    {
     "name": "stdin",
     "output_type": "stream",
     "text": [
      "문구를 입력하세요 :  입력\n"
     ]
    },
    {
     "data": {
      "text/plain": [
       "'입력'"
      ]
     },
     "execution_count": 4,
     "metadata": {},
     "output_type": "execute_result"
    }
   ],
   "source": [
    "input('문구를 입력하세요 : ')"
   ]
  },
  {
   "cell_type": "code",
   "execution_count": 6,
   "id": "891ffa31-76a0-481e-89d2-4174e8be8630",
   "metadata": {},
   "outputs": [
    {
     "name": "stdin",
     "output_type": "stream",
     "text": [
      "숫자를 입력하세요 :  3\n"
     ]
    },
    {
     "name": "stdout",
     "output_type": "stream",
     "text": [
      "<class 'str'>\n"
     ]
    },
    {
     "data": {
      "text/plain": [
       "int"
      ]
     },
     "execution_count": 6,
     "metadata": {},
     "output_type": "execute_result"
    }
   ],
   "source": [
    "a = input('숫자를 입력하세요 : ')\n",
    "print(type(a))\n",
    "a = int(a)\n",
    "type(a)"
   ]
  },
  {
   "cell_type": "markdown",
   "id": "2b68643a-1b4d-4d72-809c-09194476c2bd",
   "metadata": {},
   "source": [
    "input으로 입력된 모든것은 문자열이니 필요하다면 자료형을 변형하라!"
   ]
  },
  {
   "cell_type": "markdown",
   "id": "a56e9c1b-59ec-4897-9765-3312dd74c016",
   "metadata": {},
   "source": [
    "#### print 자세히 알기 "
   ]
  },
  {
   "cell_type": "markdown",
   "id": "198d711c-2df4-49c8-95fe-1d7ed0e225ac",
   "metadata": {},
   "source": [
    "print는 우리가 입력한 자료형을 출력하는 역할을 한다. "
   ]
  },
  {
   "cell_type": "code",
   "execution_count": 7,
   "id": "5a01f535-051b-44fc-8db3-0d817b92a603",
   "metadata": {},
   "outputs": [
    {
     "name": "stdout",
     "output_type": "stream",
     "text": [
      "123\n",
      "python\n",
      "[1, 2, 3]\n"
     ]
    }
   ],
   "source": [
    "print(123)\n",
    "print('python')\n",
    "print([1,2,3])"
   ]
  },
  {
   "cell_type": "code",
   "execution_count": 14,
   "id": "95b03c27-a772-4592-b139-ba56111b450a",
   "metadata": {},
   "outputs": [
    {
     "name": "stdout",
     "output_type": "stream",
     "text": [
      "oldcar is happy\n",
      "oldcar is happy\n"
     ]
    }
   ],
   "source": [
    "# 따옴표로 뚤러싸인 문자열은 연산과 동일 \n",
    "\n",
    "print('oldcar ' 'is ' 'happy')\n",
    "print('oldcar ' + 'is' + ' happy')"
   ]
  },
  {
   "cell_type": "code",
   "execution_count": 15,
   "id": "31e3099e-075f-4551-9f62-09146816b4ad",
   "metadata": {},
   "outputs": [
    {
     "name": "stdout",
     "output_type": "stream",
     "text": [
      "oldacr is haapy\n"
     ]
    }
   ],
   "source": [
    "# 콤마(,)를 통해 띄어쓰기 가능\n",
    "\n",
    "print('oldacr', 'is', 'haapy')"
   ]
  },
  {
   "cell_type": "code",
   "execution_count": 17,
   "id": "af5c8c2b-64f9-4d4c-a777-ad0ce860a417",
   "metadata": {},
   "outputs": [
    {
     "name": "stdout",
     "output_type": "stream",
     "text": [
      "0 1 2 3 4 5 6 7 8 9 10 "
     ]
    }
   ],
   "source": [
    "# 한 줄에 결과값 출력하기\n",
    "\n",
    "for i in range(11):\n",
    "    print(i, end = \" \")"
   ]
  },
  {
   "cell_type": "markdown",
   "id": "3654f276-a90c-47bc-8222-00f811d4c292",
   "metadata": {},
   "source": [
    "사실 ,, 별거 없었다고 한다 ^^"
   ]
  }
 ],
 "metadata": {
  "kernelspec": {
   "display_name": "Python 3 (ipykernel)",
   "language": "python",
   "name": "python3"
  },
  "language_info": {
   "codemirror_mode": {
    "name": "ipython",
    "version": 3
   },
   "file_extension": ".py",
   "mimetype": "text/x-python",
   "name": "python",
   "nbconvert_exporter": "python",
   "pygments_lexer": "ipython3",
   "version": "3.9.0"
  }
 },
 "nbformat": 4,
 "nbformat_minor": 5
}
