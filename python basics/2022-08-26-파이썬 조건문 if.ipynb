{
 "cells": [
  {
   "cell_type": "markdown",
   "id": "9506ef22-4df5-412e-89c9-a18e4720bf97",
   "metadata": {},
   "source": [
    "## 파이썬 기초, 조건 제어문 if문 "
   ]
  },
  {
   "cell_type": "markdown",
   "id": "21128f4d-0785-402d-80e0-4ed90edd981a",
   "metadata": {},
   "source": [
    "`-` if, while, for문 "
   ]
  },
  {
   "cell_type": "markdown",
   "id": "06442be8-6865-42ee-a21d-d84abcddd41e",
   "metadata": {},
   "source": [
    "### if문"
   ]
  },
  {
   "cell_type": "markdown",
   "id": "4731b402-17f7-41c3-9b8d-b474b49925c1",
   "metadata": {},
   "source": [
    "프로그래밍을 하면 조건에 따라 각기 다르게 처리해야 할 경우가 생긴다. \n",
    "\n",
    "> ex) 돈이 있으면 택시를 타고, 돈이 없으면 걸어간다. \n",
    "\n",
    "위와 같이 돈의 유무에 따라 택시를 타거나 걷는 것을 판단해야할 때 if 제어문을 사용한다. "
   ]
  },
  {
   "cell_type": "markdown",
   "id": "a769cd49-7300-49fb-b27a-5025b6561e11",
   "metadata": {},
   "source": [
    "#### 기본구조"
   ]
  },
  {
   "cell_type": "markdown",
   "id": "49c06e7e-0ba3-4cee-8fcc-92e5aeebefa9",
   "metadata": {},
   "source": [
    "```python\n",
    "if 조건문 : \n",
    "    수행할 문장 1\n",
    "    수행할 문장 2\n",
    "    ***\n",
    "    \n",
    "else\n",
    "    수행할 문장 b\n",
    "    ***\n",
    "```"
   ]
  },
  {
   "cell_type": "markdown",
   "id": "9cab12e2-107e-41f2-af1a-ff924796779f",
   "metadata": {},
   "source": [
    "조건문이 참이면 if문 바로 다음 문장 (if블록)을 수행하고, 거짓이면 else문 다음 문장을 수행한다.  \n",
    "만일 else문이 없다면 아무것도 수행 안한다는 것이다. "
   ]
  },
  {
   "cell_type": "markdown",
   "id": "67f37a63-c5d4-49fc-b433-f9a4a1c8c86f",
   "metadata": {},
   "source": [
    "#### 들여쓰기"
   ]
  },
  {
   "cell_type": "markdown",
   "id": "263fe182-9cf8-43be-aaca-bfc8024befd6",
   "metadata": {},
   "source": [
    "파이썬에서 가장 신경써야 할 부분은 들여쓰기라고 생각한다. \n",
    "\n",
    "기본적으로 if 조건문 : 뒤에 오는 문장은 들여쓰기가 모두 되어야 한다. 또한, 같은 너비로 해야한다. \n",
    "`Tap` 혹은 `공백 4개`를 권장한다. \n",
    "\n",
    "*조건문 다음 콜론 `:` 을 잊지말자!*"
   ]
  },
  {
   "cell_type": "markdown",
   "id": "b847230e-c215-43ef-8b34-34b5b101884a",
   "metadata": {},
   "source": [
    "#### 조건문이란?"
   ]
  },
  {
   "cell_type": "markdown",
   "id": "45e69539-ccae-46e1-a2ab-a401820288ee",
   "metadata": {},
   "source": [
    "조건문은 참과 거짓을 판단하는 문장이다. "
   ]
  },
  {
   "cell_type": "markdown",
   "id": "89485872-d3d7-4e9c-b628-c7c45747aad8",
   "metadata": {},
   "source": [
    "```python\n",
    "money = True\n",
    "if money : \n",
    "```\n",
    "\n",
    "money가 참이기 때문에 조건문 다음 문장을 수행하게 된다. "
   ]
  },
  {
   "cell_type": "markdown",
   "id": "5b4be3a8-d674-4510-95e0-d50628863a13",
   "metadata": {},
   "source": [
    "`-` 조건문 수행시 익힐 것들 \n",
    "\n",
    "- 비교연산자 \n",
    "- and, or, not\n",
    "- x in s, x not in s   \n",
    "    x 백터가 s(리스트, 문자열, 튜플 등)에 있는가 $\\to$ 있다면 True!"
   ]
  },
  {
   "cell_type": "markdown",
   "id": "08b42762-6dc6-4a8a-82c3-3352ed9af4ee",
   "metadata": {},
   "source": [
    "`-` 조건문에서 참일 때 아무것도 수행을 안시키고 싶다면 **pass**를  사용하라\n",
    "\n",
    "```python\n",
    "if money :\n",
    "    pass\n",
    "else : \n",
    "    print(\"걸어가!\")\n",
    "```\n",
    "\n",
    "pass가 있다면 아무것도 수행하지 않고 지나간다!"
   ]
  },
  {
   "cell_type": "markdown",
   "id": "ea9789e4-5a81-4491-ad0e-3c1f4b502abd",
   "metadata": {},
   "source": [
    "#### elif "
   ]
  },
  {
   "cell_type": "markdown",
   "id": "bd653541-4acc-40fa-813a-37390a1f5f7d",
   "metadata": {},
   "source": [
    "if와 else 이렇게 예, 아니오로만 모든 상황의 조건을 판단하기 어렵다.  \n",
    "조건을 파악하는 것이 2개 이상이라면 elif를 사용하자. "
   ]
  },
  {
   "cell_type": "markdown",
   "id": "b13cbe43-bf69-4c87-8356-97a32ae02f82",
   "metadata": {},
   "source": [
    "> 돈이 만원 이상 있다면 택시를 타고, 천원 이상 있아면 버스, 없으면 걸어가!"
   ]
  },
  {
   "cell_type": "code",
   "execution_count": 3,
   "id": "d328a1fa-b566-4f5f-9447-c983a4a7f8f5",
   "metadata": {},
   "outputs": [
    {
     "name": "stdout",
     "output_type": "stream",
     "text": [
      "Bus\n"
     ]
    }
   ],
   "source": [
    "money = 7000\n",
    "\n",
    "if money >= 10000 : \n",
    "    print(\"택시!\")\n",
    "elif money >= 1000 :\n",
    "    print(\"Bus\")\n",
    "else :\n",
    "    print(\"Walk\")"
   ]
  },
  {
   "cell_type": "markdown",
   "id": "4c4bc61b-5467-46b5-959f-9953c9ccba73",
   "metadata": {},
   "source": [
    "elif는 위의 조건들은 아니지만 본인의 조건문은 참일 경우 본인의 수행문을 작업한다.  \n",
    "elif는 여러번 사용 가능하다!"
   ]
  },
  {
   "cell_type": "markdown",
   "id": "6f86a090-9d65-4bb4-832a-f7d1127f27c3",
   "metadata": {},
   "source": [
    "#### 조건부 표현식"
   ]
  },
  {
   "cell_type": "markdown",
   "id": "7fd2a09e-f43b-48ea-a152-c7bf697b4a73",
   "metadata": {},
   "source": [
    "리스트 컴프리헨션처럼 조건문도 간단히 표현할 수 있다. "
   ]
  },
  {
   "cell_type": "markdown",
   "id": "4104d801-fea4-48b5-967a-816e2cc4df46",
   "metadata": {},
   "source": [
    "```python\n",
    "if score >= 60:\n",
    "    message = 'success'\n",
    "else :\n",
    "    message = 'failure'\n",
    "   \n",
    "    \n",
    "message = 'success' if score >= 60 else 'failure'\n",
    "```\n"
   ]
  },
  {
   "cell_type": "markdown",
   "id": "6fd5f335-41d4-4196-92af-f8f46e2156a7",
   "metadata": {},
   "source": [
    "`조건문이 참인 경우` if `조건문` else `조건문이 거짓인 경우`"
   ]
  },
  {
   "cell_type": "code",
   "execution_count": 10,
   "id": "7f50a590-d4c7-4c3f-8ab3-c947e7fbb320",
   "metadata": {},
   "outputs": [
    {
     "data": {
      "text/plain": [
       "[4, 16, 36, 64, 100]"
      ]
     },
     "execution_count": 10,
     "metadata": {},
     "output_type": "execute_result"
    }
   ],
   "source": [
    "[i**2 for i in range(1,11) if i % 2 == 0]"
   ]
  }
 ],
 "metadata": {
  "kernelspec": {
   "display_name": "Python 3 (ipykernel)",
   "language": "python",
   "name": "python3"
  },
  "language_info": {
   "codemirror_mode": {
    "name": "ipython",
    "version": 3
   },
   "file_extension": ".py",
   "mimetype": "text/x-python",
   "name": "python",
   "nbconvert_exporter": "python",
   "pygments_lexer": "ipython3",
   "version": "3.9.0"
  }
 },
 "nbformat": 4,
 "nbformat_minor": 5
}
