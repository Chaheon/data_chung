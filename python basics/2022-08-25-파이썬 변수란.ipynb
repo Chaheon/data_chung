{
 "cells": [
  {
   "cell_type": "markdown",
   "id": "5c28c150-75a3-44c5-b878-59dbeccbacba",
   "metadata": {},
   "source": [
    "## 파이썬 기초, 변수"
   ]
  },
  {
   "cell_type": "markdown",
   "id": "c1e9cb45-0d9b-4de8-a5d4-2cd7c0abeaf8",
   "metadata": {},
   "source": [
    "`-` 변수란? \n",
    "\n",
    "파이썬에서 변수는 객체를 가리키는 것이라 말할 수 있다. 객체란 일종의 자료형과 같은 것을 의미한다. "
   ]
  },
  {
   "cell_type": "markdown",
   "id": "a807a195-2fd0-49d5-8f0a-b5c39078e55e",
   "metadata": {},
   "source": [
    "#### 선언"
   ]
  },
  {
   "cell_type": "code",
   "execution_count": 1,
   "id": "c8b17687-1b0b-40fb-87f9-7ef046c07678",
   "metadata": {},
   "outputs": [],
   "source": [
    "a = 1 \n",
    "b = 'python'\n",
    "c = [1,2,3]"
   ]
  },
  {
   "cell_type": "markdown",
   "id": "5194ccbe-f050-4d3d-b992-b0e7072acece",
   "metadata": {},
   "source": [
    "새삼스럽지만 파이썬에서는 `=`을 통해 변수를 선언한다. \n",
    "\n",
    "> 변수명 = 저장될 값  \n",
    "값이 계산되어 변수명으로 선언되는 것이라 보면 된다. \n",
    "\n",
    "파이썬은 다른 언어와 달리 저장된 값을 스스로 판단하여 자료형을 지정하기에 편하다. "
   ]
  },
  {
   "cell_type": "markdown",
   "id": "689f7d81-9953-45d2-9106-cf0dca74bb87",
   "metadata": {},
   "source": [
    "#### 변수의 주소"
   ]
  },
  {
   "cell_type": "code",
   "execution_count": 4,
   "id": "79e228bf-0151-43b1-b590-2a33debb898b",
   "metadata": {},
   "outputs": [
    {
     "data": {
      "text/plain": [
       "([1, 2, 3], 140425969159808)"
      ]
     },
     "execution_count": 4,
     "metadata": {},
     "output_type": "execute_result"
    }
   ],
   "source": [
    "a = [1,2,3]\n",
    "a, id(a)"
   ]
  },
  {
   "cell_type": "markdown",
   "id": "29da4d78-7bb4-4799-9000-b520932ed867",
   "metadata": {},
   "source": [
    "위 코드를 보면 [1,2,3] 값을 가지는 리스트 자료형(객체)이 자동으로 메모리에 생성이되고 변수 a는 리스트가 저장된 메모리의 주소를 가리키게 된다. \n",
    "\n",
    "*메모리란 컴퓨터가 프로그램에서 사용하는 데이터를 기억하는 공간이다.*"
   ]
  },
  {
   "cell_type": "markdown",
   "id": "6f3109a2-d04d-422d-9d58-4c1c95f0b379",
   "metadata": {},
   "source": [
    "#### 변수 복사"
   ]
  },
  {
   "cell_type": "markdown",
   "id": "8c290509-12fa-4f8c-a423-37337def1138",
   "metadata": {},
   "source": [
    "일전에 튜플 자료형을 공부하면서 변수 복사에 대한 개념을 익혔다. 이번 기회를 통해 명확히 알아보자.  \n",
    "\n",
    "[얉은 복사, 깊은 복사 개념](https://junior-datalist.tistory.com/94)"
   ]
  },
  {
   "cell_type": "markdown",
   "id": "c91d4d09-c597-43cf-949a-bf48c028450d",
   "metadata": {},
   "source": [
    "##### 일반복사 "
   ]
  },
  {
   "cell_type": "code",
   "execution_count": 9,
   "id": "50934628-a72c-4e73-bc0a-2af126ea15ac",
   "metadata": {},
   "outputs": [
    {
     "data": {
      "text/plain": [
       "(140426802083648, 140426802083648)"
      ]
     },
     "execution_count": 9,
     "metadata": {},
     "output_type": "execute_result"
    }
   ],
   "source": [
    "a = [1,2,3]\n",
    "b = a\n",
    "\n",
    "id(a), id(b)"
   ]
  },
  {
   "cell_type": "markdown",
   "id": "1948f7b6-1c6d-4b31-8980-09b01ff0d528",
   "metadata": {},
   "source": [
    "위 코드는 b 변수에 a 변수를 대입한 경우다.  \n",
    "\n",
    "두 변수의 id를 확인했을 때 동일한 것을 알 수 있다. 다만 [1,2,3] 리스트를 참조하는 변수가 a변수 1개에서 b변수가 추가되어 2개로 늘어났다는 차이만 있다. "
   ]
  },
  {
   "cell_type": "code",
   "execution_count": 10,
   "id": "3c7913a1-240c-4750-9dba-0a035d887bf6",
   "metadata": {},
   "outputs": [
    {
     "data": {
      "text/plain": [
       "[1, 2, 3, 4]"
      ]
     },
     "execution_count": 10,
     "metadata": {},
     "output_type": "execute_result"
    }
   ],
   "source": [
    "a.append(4)\n",
    "b"
   ]
  },
  {
   "cell_type": "markdown",
   "id": "595bdb82-7fd1-4ecf-b3a6-79795ab39865",
   "metadata": {},
   "source": [
    "a를 변화 시키면 b도 동일하게 변화한다. 그 이유는 a, b 모두 동일한 id를 가지며 같은 리스트를 가르키고 있기 때문이다. "
   ]
  },
  {
   "cell_type": "markdown",
   "id": "6b80a170-f685-470a-ab1f-298129ffaeae",
   "metadata": {},
   "source": [
    "---"
   ]
  },
  {
   "cell_type": "markdown",
   "id": "f3b7d0ec-57ff-4835-b21b-cb2343bb641c",
   "metadata": {},
   "source": [
    "`-` a 변수 값을 가져오되 b 변수는 다른 주소를 가질 수 있는 방법"
   ]
  },
  {
   "cell_type": "markdown",
   "id": "79ae3b2c-febc-46aa-91ff-52c55c6db6cc",
   "metadata": {},
   "source": [
    "인덱싱 사용하기. "
   ]
  },
  {
   "cell_type": "code",
   "execution_count": 9,
   "id": "061c23e7-de5b-4bcd-be29-fe947f11ceec",
   "metadata": {},
   "outputs": [
    {
     "data": {
      "text/plain": [
       "([0, 2, 3], [1, 2, 3], 140379814513216, 140379814471296)"
      ]
     },
     "execution_count": 9,
     "metadata": {},
     "output_type": "execute_result"
    }
   ],
   "source": [
    "a = [1,2,3] \n",
    "b = a[:]\n",
    "\n",
    "a[0] = 0\n",
    "\n",
    "a,b, id(a), id(b) # id가 다름. "
   ]
  },
  {
   "cell_type": "markdown",
   "id": "e1c713d0-fc17-40c4-8759-f3068e9d3324",
   "metadata": {},
   "source": [
    "##### 얉은복사 (shallow copy)"
   ]
  },
  {
   "cell_type": "code",
   "execution_count": 18,
   "id": "ee89ec1a-64a1-46bb-8170-ff95c9f6b9cb",
   "metadata": {},
   "outputs": [
    {
     "data": {
      "text/plain": [
       "(140379817134208, 140379817134592)"
      ]
     },
     "execution_count": 18,
     "metadata": {},
     "output_type": "execute_result"
    }
   ],
   "source": [
    "import copy\n",
    "\n",
    "a = [1,2,3, [4,5,6], [7,8,9]]\n",
    "b = copy.copy(a)\n",
    "\n",
    "id(a), id(b)"
   ]
  },
  {
   "cell_type": "markdown",
   "id": "8868d1a3-d799-4dde-a934-f89790af8a06",
   "metadata": {},
   "source": [
    "일반 복사와 달리 참조형의 주소값을 공유하지 않는다.   \n",
    "본 객체(a)를 건드리지 않고 사본(b)을 만들 수 있다. "
   ]
  },
  {
   "cell_type": "code",
   "execution_count": 19,
   "id": "58baf7fb-7781-4e23-8805-72d0fdd5d673",
   "metadata": {},
   "outputs": [
    {
     "name": "stdout",
     "output_type": "stream",
     "text": [
      "[1, 100, 3, [4, 5, 6], [7, 8, 9]]\n",
      "[1, 2, 3, [4, 5, 6], [7, 8, 9]]\n",
      "--------------------------------------------------\n",
      "[1, 100, 3, [4, 5, 6, 1000], [7, 10000, 9]]\n",
      "[1, 2, 3, [4, 5, 6, 1000], [7, 10000, 9]]\n"
     ]
    }
   ],
   "source": [
    "a[1] = 100 \n",
    "print(a) \n",
    "print(b)\n",
    "\n",
    "print(\"-\"*50)\n",
    "\n",
    "a[3].append(1000)\n",
    "a[4][1] = 10000\n",
    "print(a)\n",
    "print(b)"
   ]
  },
  {
   "cell_type": "markdown",
   "id": "06fad6c8-7361-4f9d-b9a5-43da4a2a75ee",
   "metadata": {},
   "source": [
    "얉은 복사는 이처럼 1차열 배열(리스트)에서는 원본 객체를 변경하지 않은 사본을 생성할 수 있다.   \n",
    "하지만, 2차 이상의 배열, 중첩된 객체 (매트릭스 구조)는 원본 객체를 지키지 못한다. "
   ]
  },
  {
   "cell_type": "code",
   "execution_count": 20,
   "id": "a128be67-0ba9-4348-91f1-3479be885b6c",
   "metadata": {},
   "outputs": [
    {
     "data": {
      "text/plain": [
       "(140379817134208, 140379817134592)"
      ]
     },
     "execution_count": 20,
     "metadata": {},
     "output_type": "execute_result"
    }
   ],
   "source": [
    "id(a), id(b)"
   ]
  },
  {
   "cell_type": "markdown",
   "id": "b50a4913-5084-49b4-a464-159bf3346369",
   "metadata": {},
   "source": [
    "비록 ,, id는 다르지만 ,,,"
   ]
  },
  {
   "cell_type": "markdown",
   "id": "9b5b5664-c200-4e56-a862-0db72a6caf4d",
   "metadata": {},
   "source": [
    "##### 깊은복사 (deepcopy)"
   ]
  },
  {
   "cell_type": "code",
   "execution_count": 24,
   "id": "bbf47e9a-8e3b-418f-80ec-c5bea928dcb8",
   "metadata": {},
   "outputs": [],
   "source": [
    "a = [1,2,3, [4,5,6], [7,8,9]]\n",
    "b = copy.deepcopy(a) # 깊은 복사 "
   ]
  },
  {
   "cell_type": "code",
   "execution_count": 25,
   "id": "b08900d7-e1df-4fbc-928f-3493ec9670b4",
   "metadata": {},
   "outputs": [
    {
     "name": "stdout",
     "output_type": "stream",
     "text": [
      "[1, 100, 3, [4, 5, 6], [7, 8, 9]]\n",
      "[1, 2, 3, [4, 5, 6], [7, 8, 9]]\n",
      "--------------------------------------------------\n",
      "[1, 100, 3, [4, 5, 6, 1000], [7, 10000, 9]]\n",
      "[1, 2, 3, [4, 5, 6], [7, 8, 9]]\n"
     ]
    }
   ],
   "source": [
    "a[1] = 100 \n",
    "print(a) \n",
    "print(b)\n",
    "\n",
    "print(\"-\"*50)\n",
    "\n",
    "a[3].append(1000)\n",
    "a[4][1] = 10000\n",
    "print(a)\n",
    "print(b)"
   ]
  },
  {
   "cell_type": "markdown",
   "id": "41276d7b-f728-474e-a646-be5c81857cd7",
   "metadata": {},
   "source": [
    "깊은 복사는 이러한 한계점을 넘어 중첩 객체(매트릭스 구조)까지 복사할 수 있다.  \n",
    "그렇기 때문에 변경되지 않은 b는 그대로 최초의 복사를 유지할 수 있었던 것. "
   ]
  },
  {
   "cell_type": "markdown",
   "id": "5e0b62d8-f0c9-48e6-b6cf-8d48f42544c5",
   "metadata": {},
   "source": [
    "⭐️ 두 종류의 복사 개념을 만든 이유\n",
    "\n",
    "얉은 복사에 비해 깊은 복사는 더 많은 메모리를 소요한다.   \n",
    "따라서 상황을 고려하여 두 개념을 사용한다면 메모리와 효율을 더 아낄 수 있다. "
   ]
  }
 ],
 "metadata": {
  "kernelspec": {
   "display_name": "Python 3 (ipykernel)",
   "language": "python",
   "name": "python3"
  },
  "language_info": {
   "codemirror_mode": {
    "name": "ipython",
    "version": 3
   },
   "file_extension": ".py",
   "mimetype": "text/x-python",
   "name": "python",
   "nbconvert_exporter": "python",
   "pygments_lexer": "ipython3",
   "version": "3.9.0"
  }
 },
 "nbformat": 4,
 "nbformat_minor": 5
}
