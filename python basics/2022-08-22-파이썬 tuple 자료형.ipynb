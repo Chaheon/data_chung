{
 "cells": [
  {
   "cell_type": "markdown",
   "id": "a673e7fa-2c25-4042-b593-691cd1607b4d",
   "metadata": {},
   "source": [
    "## 파이썬 기초, Tuple 자료형 (1차원)"
   ]
  },
  {
   "cell_type": "markdown",
   "id": "fa5e5de9-0c47-4bba-a4c5-7e954b89c1eb",
   "metadata": {},
   "source": [
    "`-` 파이썬의 기본자료형은 int, float, bool, str, list, tuple, dict, set 등이 있다.\n",
    "- 0차원 자료형: int, float, bool \n",
    "- 1차원 자료형: str, list, tuple, dict, set"
   ]
  },
  {
   "cell_type": "markdown",
   "id": "ca60e7ed-f445-4aba-a5b8-a2e4df49b774",
   "metadata": {},
   "source": [
    "### Tuple"
   ]
  },
  {
   "cell_type": "markdown",
   "id": "321034c6-6802-43cf-baa2-934972e7f5a2",
   "metadata": {
    "jp-MarkdownHeadingCollapsed": true,
    "tags": []
   },
   "source": [
    "#### 리스트 vs 튜플 "
   ]
  },
  {
   "cell_type": "markdown",
   "id": "87c3f5b6-bf25-4783-bfde-8d10aad86cf4",
   "metadata": {},
   "source": [
    "`-` 컨테이너형타입이라는 점, 그리고 연산 및 인덱싱을 하는 방법은 리스트와 같음 \n",
    "- 차이점1: [] 대신에 ()를 사용한다. \n",
    "- 차이점2: 불변형이다. (원소의 값을 바꿀 수 없음) / 실행시 값이 변하지 않아야 할 때 사용\n",
    "- 차이점3: 하나의 원소를 선언할 때는 (1,)와 같이 해야 한다.\n",
    "- 차이점4: 의미가 명확할때는 튜플의 ()를 생략가능하다. "
   ]
  },
  {
   "cell_type": "markdown",
   "id": "72a615a2-3152-496d-adea-f263247e0001",
   "metadata": {},
   "source": [
    "`-` 컨테이너형이라는 것이 무슨의미? "
   ]
  },
  {
   "cell_type": "code",
   "execution_count": 3,
   "id": "224afc62-eff6-4bdc-950a-47e100ee7547",
   "metadata": {},
   "outputs": [],
   "source": [
    "a=(4,6,'pencil', 3.2+4.6j, [3,4]) "
   ]
  },
  {
   "cell_type": "code",
   "execution_count": 4,
   "id": "c59cedac-8ffc-4bd5-a8cc-5df547dddc2c",
   "metadata": {},
   "outputs": [
    {
     "data": {
      "text/plain": [
       "str"
      ]
     },
     "execution_count": 4,
     "metadata": {},
     "output_type": "execute_result"
    }
   ],
   "source": [
    "type(a[2])"
   ]
  },
  {
   "cell_type": "code",
   "execution_count": 6,
   "id": "5c426e9a-44c1-4f67-9c44-c5441758eb06",
   "metadata": {},
   "outputs": [
    {
     "data": {
      "text/plain": [
       "complex"
      ]
     },
     "execution_count": 6,
     "metadata": {},
     "output_type": "execute_result"
    }
   ],
   "source": [
    "type(a[3])"
   ]
  },
  {
   "cell_type": "markdown",
   "id": "fc6a2736-dcaf-407a-9e21-fdf54fb56b49",
   "metadata": {},
   "source": [
    "`-` 불변형이라는 것은 무슨의미? "
   ]
  },
  {
   "cell_type": "code",
   "execution_count": 1,
   "id": "9777d582-7cec-4820-bed6-a7d37dd78f7c",
   "metadata": {},
   "outputs": [
    {
     "ename": "NameError",
     "evalue": "name 'a' is not defined",
     "output_type": "error",
     "traceback": [
      "\u001b[0;31m---------------------------------------------------------------------------\u001b[0m",
      "\u001b[0;31mNameError\u001b[0m                                 Traceback (most recent call last)",
      "Input \u001b[0;32mIn [1]\u001b[0m, in \u001b[0;36m<cell line: 1>\u001b[0;34m()\u001b[0m\n\u001b[0;32m----> 1\u001b[0m \u001b[43ma\u001b[49m[\u001b[38;5;241m2\u001b[39m] \u001b[38;5;241m=\u001b[39m \u001b[38;5;124m'\u001b[39m\u001b[38;5;124mPencil\u001b[39m\u001b[38;5;124m'\u001b[39m\n",
      "\u001b[0;31mNameError\u001b[0m: name 'a' is not defined"
     ]
    }
   ],
   "source": [
    "a[2] = 'Pencil' # 리스트였다면 요소값이 바로 변함. "
   ]
  },
  {
   "cell_type": "markdown",
   "id": "3a98b6d4-1e39-4306-986e-062dce6c8171",
   "metadata": {},
   "source": [
    "참고로 a를 튜플이 아니라 리스트로 선언하면 값이 잘 바뀐다. "
   ]
  },
  {
   "cell_type": "code",
   "execution_count": null,
   "id": "0f9d39b7-04b1-4d55-a8fa-6be27a8caa9c",
   "metadata": {},
   "outputs": [],
   "source": [
    "a=[4,6,'pencil', 3.2+4.6j, [3,4]]"
   ]
  },
  {
   "cell_type": "code",
   "execution_count": null,
   "id": "a254bae2-6578-47b8-b6c3-cd679019544d",
   "metadata": {},
   "outputs": [
    {
     "data": {
      "text/plain": [
       "'pencil'"
      ]
     },
     "execution_count": 15,
     "metadata": {},
     "output_type": "execute_result"
    }
   ],
   "source": [
    "a[2]"
   ]
  },
  {
   "cell_type": "code",
   "execution_count": null,
   "id": "a308c6fa-65a6-4d71-bc6a-d3a0d78fa0ea",
   "metadata": {},
   "outputs": [],
   "source": [
    "a[2]='Pencil'"
   ]
  },
  {
   "cell_type": "code",
   "execution_count": null,
   "id": "1d0ff3fe-f164-41e0-88c5-875ee0c0056b",
   "metadata": {},
   "outputs": [
    {
     "data": {
      "text/plain": [
       "[4, 6, 'Pencil', (3.2+4.6j), [3, 4]]"
      ]
     },
     "execution_count": 17,
     "metadata": {},
     "output_type": "execute_result"
    }
   ],
   "source": [
    "a"
   ]
  },
  {
   "cell_type": "markdown",
   "id": "ef487e55-a025-4598-b217-6caeba123e36",
   "metadata": {},
   "source": [
    "`-` 하나의 원소로 이루어진 튜플을 만들때는 쉼표를 붙여야 함. "
   ]
  },
  {
   "cell_type": "code",
   "execution_count": 7,
   "id": "fdc0bced-f070-45ad-a65b-6c440e7460f3",
   "metadata": {},
   "outputs": [
    {
     "data": {
      "text/plain": [
       "[1, 2, 3, 4]"
      ]
     },
     "execution_count": 7,
     "metadata": {},
     "output_type": "execute_result"
    }
   ],
   "source": [
    "[1]+[2,3,4]"
   ]
  },
  {
   "cell_type": "code",
   "execution_count": 8,
   "id": "cf06b67f-51af-4ab1-b935-0dd561d2c671",
   "metadata": {},
   "outputs": [
    {
     "data": {
      "text/plain": [
       "(1, 2, 3, 4)"
      ]
     },
     "execution_count": 8,
     "metadata": {},
     "output_type": "execute_result"
    }
   ],
   "source": [
    "(1,)+(2,3,4)"
   ]
  },
  {
   "cell_type": "markdown",
   "id": "f97a9166-147e-446b-a5a5-2bef6656ede0",
   "metadata": {},
   "source": [
    "`-` **튜플 언패킹** 의미가 명확할때 튜플의 괄호는 생략가능하다. (이게 중요합니다) "
   ]
  },
  {
   "cell_type": "code",
   "execution_count": 9,
   "id": "8d669c32-3138-4ceb-8d25-0e2b8d37984d",
   "metadata": {},
   "outputs": [
    {
     "data": {
      "text/plain": [
       "(1, 2)"
      ]
     },
     "execution_count": 9,
     "metadata": {},
     "output_type": "execute_result"
    }
   ],
   "source": [
    "a=1,2\n",
    "a"
   ]
  },
  {
   "cell_type": "markdown",
   "id": "09a840d1-3abe-4e3c-86dd-f4c3cb77af03",
   "metadata": {},
   "source": [
    "의미가 명확할때 생략해야함 (코딩적으로 하나의 명령이 확실할 때)"
   ]
  },
  {
   "cell_type": "code",
   "execution_count": null,
   "id": "e246bab6-ac2b-43aa-9dbd-c1fe8033c9b0",
   "metadata": {},
   "outputs": [
    {
     "data": {
      "text/plain": [
       "(1, 5, 4, 5)"
      ]
     },
     "execution_count": 33,
     "metadata": {},
     "output_type": "execute_result"
    }
   ],
   "source": [
    "1,2 + 3,4,5 "
   ]
  },
  {
   "cell_type": "code",
   "execution_count": null,
   "id": "8a2dbef8-43fd-4049-8b7f-60ca2eb9e13a",
   "metadata": {},
   "outputs": [
    {
     "data": {
      "text/plain": [
       "(1, 2, 3, 4, 5)"
      ]
     },
     "execution_count": 34,
     "metadata": {},
     "output_type": "execute_result"
    }
   ],
   "source": [
    "(1,2) + (3,4,5) "
   ]
  },
  {
   "cell_type": "markdown",
   "id": "bbbb6df1-5b2b-418c-bccd-0f2f466b72c5",
   "metadata": {
    "jp-MarkdownHeadingCollapsed": true,
    "tags": []
   },
   "source": [
    "#### 선언 "
   ]
  },
  {
   "cell_type": "markdown",
   "id": "2542eb8b-cff6-4fe5-8cb6-3e83543d4563",
   "metadata": {},
   "source": [
    "`-` 소괄호를 이용 "
   ]
  },
  {
   "cell_type": "code",
   "execution_count": null,
   "id": "fb5dbb63-5828-4888-b42a-40ce81424ec5",
   "metadata": {},
   "outputs": [
    {
     "data": {
      "text/plain": [
       "(1, 2, 3)"
      ]
     },
     "execution_count": 35,
     "metadata": {},
     "output_type": "execute_result"
    }
   ],
   "source": [
    "a=(1,2,3)\n",
    "a"
   ]
  },
  {
   "cell_type": "code",
   "execution_count": null,
   "id": "d4937479-1b55-477e-9e7a-52979f1a01bd",
   "metadata": {},
   "outputs": [
    {
     "data": {
      "text/plain": [
       "tuple"
      ]
     },
     "execution_count": 36,
     "metadata": {},
     "output_type": "execute_result"
    }
   ],
   "source": [
    "type(a)"
   ]
  },
  {
   "cell_type": "markdown",
   "id": "4bf48e18-0903-4602-8365-322d669c2569",
   "metadata": {},
   "source": [
    "`-` 생략가능하다는 점이 포인트 "
   ]
  },
  {
   "cell_type": "code",
   "execution_count": null,
   "id": "42804549-790f-45eb-b9f1-2a6143f31c0e",
   "metadata": {},
   "outputs": [
    {
     "data": {
      "text/plain": [
       "(1, 2, 3)"
      ]
     },
     "execution_count": 37,
     "metadata": {},
     "output_type": "execute_result"
    }
   ],
   "source": [
    "a=1,2,3\n",
    "a"
   ]
  },
  {
   "cell_type": "code",
   "execution_count": null,
   "id": "6cfd4da5-d592-4485-974c-5aa67bb7cc00",
   "metadata": {},
   "outputs": [
    {
     "data": {
      "text/plain": [
       "tuple"
      ]
     },
     "execution_count": 38,
     "metadata": {},
     "output_type": "execute_result"
    }
   ],
   "source": [
    "type(a)"
   ]
  },
  {
   "cell_type": "markdown",
   "id": "053b6821-d80c-4aeb-bb0c-a00a2139569a",
   "metadata": {},
   "source": [
    "`-` 원소가 하나인 튜플을 만들고 싶다면? "
   ]
  },
  {
   "cell_type": "code",
   "execution_count": null,
   "id": "90bcee41-4740-491b-8075-148e484fdf00",
   "metadata": {},
   "outputs": [
    {
     "data": {
      "text/plain": [
       "(1,)"
      ]
     },
     "execution_count": 39,
     "metadata": {},
     "output_type": "execute_result"
    }
   ],
   "source": [
    "a=(1,)\n",
    "a"
   ]
  },
  {
   "cell_type": "markdown",
   "id": "e02e3abb-a718-40e5-bb9c-8f8b02b9274d",
   "metadata": {
    "jp-MarkdownHeadingCollapsed": true,
    "tags": []
   },
   "source": [
    "#### 연산 "
   ]
  },
  {
   "cell_type": "markdown",
   "id": "c76fcd12-7b0a-436f-9ec6-866fe3636d95",
   "metadata": {},
   "source": [
    "`-` 리스트와 동일 "
   ]
  },
  {
   "cell_type": "code",
   "execution_count": null,
   "id": "0b20b3d5-3b72-492e-aa87-63b20a4efef6",
   "metadata": {},
   "outputs": [
    {
     "data": {
      "text/plain": [
       "(1, 2, 3, 4, 5)"
      ]
     },
     "execution_count": 40,
     "metadata": {},
     "output_type": "execute_result"
    }
   ],
   "source": [
    "(1,2)+(3,4,5)"
   ]
  },
  {
   "cell_type": "code",
   "execution_count": null,
   "id": "0bb6666a-1624-4779-916d-4eb58f255a09",
   "metadata": {},
   "outputs": [
    {
     "data": {
      "text/plain": [
       "(1, 2, 1, 2)"
      ]
     },
     "execution_count": 41,
     "metadata": {},
     "output_type": "execute_result"
    }
   ],
   "source": [
    "(1,2)*2"
   ]
  },
  {
   "cell_type": "markdown",
   "id": "f6a76872-cb79-4e94-8298-804cd4273f35",
   "metadata": {
    "jp-MarkdownHeadingCollapsed": true,
    "tags": []
   },
   "source": [
    "#### 인덱싱 "
   ]
  },
  {
   "cell_type": "markdown",
   "id": "826a9a4e-da0c-4a43-8ee5-a536ef8f8b1c",
   "metadata": {},
   "source": [
    "`-` 리스트와 동일 "
   ]
  },
  {
   "cell_type": "code",
   "execution_count": null,
   "id": "eb162130-540d-454f-84e2-b949d9b64ea4",
   "metadata": {},
   "outputs": [
    {
     "data": {
      "text/plain": [
       "(1, 2, 3, -4, -5)"
      ]
     },
     "execution_count": 42,
     "metadata": {},
     "output_type": "execute_result"
    }
   ],
   "source": [
    "a=(1,2,3,-4,-5)\n",
    "a"
   ]
  },
  {
   "cell_type": "code",
   "execution_count": null,
   "id": "34a5627d-79de-4789-9f2c-e80c07c3f6c5",
   "metadata": {},
   "outputs": [
    {
     "data": {
      "text/plain": [
       "-5"
      ]
     },
     "execution_count": 43,
     "metadata": {},
     "output_type": "execute_result"
    }
   ],
   "source": [
    "a[-1]"
   ]
  },
  {
   "cell_type": "code",
   "execution_count": null,
   "id": "859cbfaa-2969-48f5-a9ba-da3b896b648d",
   "metadata": {},
   "outputs": [
    {
     "data": {
      "text/plain": [
       "(3, -4, -5)"
      ]
     },
     "execution_count": 44,
     "metadata": {},
     "output_type": "execute_result"
    }
   ],
   "source": [
    "a[-3:]"
   ]
  },
  {
   "cell_type": "markdown",
   "id": "17eb098d-3650-4485-ab53-d524b13180ea",
   "metadata": {},
   "source": [
    "### 튜플고급 "
   ]
  },
  {
   "cell_type": "markdown",
   "id": "0ff95d85-9986-4739-a45f-ce56931a7f11",
   "metadata": {},
   "source": [
    "#### 튜플을 왜 불변형으로 만들었을까? \n",
    "- 책의설명: 실수로 값을 변경할 수 있도록 방지할 수 있다. \n",
    "- shallow copy / deep copy 를 막을 수 있는 무기 \n",
    "\n",
    "[얉은 복사, 깊은 복사 개념](https://junior-datalist.tistory.com/94)"
   ]
  },
  {
   "cell_type": "markdown",
   "id": "9c8bc8b4-af0f-4d00-a667-4db744f26919",
   "metadata": {},
   "source": [
    "#### 튜플을 슬기롭게 사용하는 방법 ($\\star\\star\\star\\star\\star$)"
   ]
  },
  {
   "cell_type": "markdown",
   "id": "ef5df994-5307-42df-b3d2-befce05a4e44",
   "metadata": {},
   "source": [
    "`-` 예제: 여러변수를 동시에 출력하고 싶을 경우 (다중출력?)"
   ]
  },
  {
   "cell_type": "markdown",
   "id": "f2a424ec-7067-41b7-963a-79ca34f2c7a5",
   "metadata": {},
   "source": [
    "변수를 아래와 같이 선언하였다고 하자. "
   ]
  },
  {
   "cell_type": "code",
   "execution_count": 16,
   "id": "53371e2f-736d-4fbe-897a-890f75de8828",
   "metadata": {},
   "outputs": [],
   "source": [
    "a=1\n",
    "b=2\n",
    "c=3 "
   ]
  },
  {
   "cell_type": "markdown",
   "id": "524a6cb4-7674-4f49-957e-68ac01b751a1",
   "metadata": {},
   "source": [
    "선언된 값을 확인하려면? "
   ]
  },
  {
   "cell_type": "code",
   "execution_count": 17,
   "id": "ad3d74a7-81cb-4fca-8e98-d36ecae0d5e0",
   "metadata": {},
   "outputs": [
    {
     "data": {
      "text/plain": [
       "1"
      ]
     },
     "execution_count": 17,
     "metadata": {},
     "output_type": "execute_result"
    }
   ],
   "source": [
    "a"
   ]
  },
  {
   "cell_type": "code",
   "execution_count": 18,
   "id": "e47a1e5e-4827-402a-a1bd-39b4a2b707d4",
   "metadata": {},
   "outputs": [
    {
     "data": {
      "text/plain": [
       "2"
      ]
     },
     "execution_count": 18,
     "metadata": {},
     "output_type": "execute_result"
    }
   ],
   "source": [
    "b"
   ]
  },
  {
   "cell_type": "code",
   "execution_count": 19,
   "id": "e36613dc-0e54-4eed-92bd-46bd7a2c557e",
   "metadata": {},
   "outputs": [
    {
     "data": {
      "text/plain": [
       "3"
      ]
     },
     "execution_count": 19,
     "metadata": {},
     "output_type": "execute_result"
    }
   ],
   "source": [
    "c"
   ]
  },
  {
   "cell_type": "markdown",
   "id": "176943da-1771-4203-aeae-d12ce29f93ab",
   "metadata": {},
   "source": [
    "튜플을 이용하면? "
   ]
  },
  {
   "cell_type": "code",
   "execution_count": 20,
   "id": "4e414dcd-84d7-4116-9d72-a7514781b8cf",
   "metadata": {},
   "outputs": [
    {
     "data": {
      "text/plain": [
       "(1, 2, 3)"
      ]
     },
     "execution_count": 20,
     "metadata": {},
     "output_type": "execute_result"
    }
   ],
   "source": [
    "a,b,c # 괄호하나 생략하는것이 이렇게 편하다.."
   ]
  },
  {
   "cell_type": "markdown",
   "id": "13de7755-3bfc-4f7e-9ffa-08a4a348fd60",
   "metadata": {},
   "source": [
    "`-` 예제: 다중할당1 (여러개의 변수를 동시에 선언하고 싶을 경우) "
   ]
  },
  {
   "cell_type": "code",
   "execution_count": 21,
   "id": "361ad3ef-75bc-4d5a-8567-cf9a10ae5bff",
   "metadata": {},
   "outputs": [],
   "source": [
    "name, age, sex, height, weight = 'Tom', 20, 'M', 180, 70 "
   ]
  },
  {
   "cell_type": "code",
   "execution_count": 22,
   "id": "5ebd928c-c6a6-480b-8686-a206a0747a59",
   "metadata": {},
   "outputs": [
    {
     "data": {
      "text/plain": [
       "('Tom', 20, 'M', 180, 70)"
      ]
     },
     "execution_count": 22,
     "metadata": {},
     "output_type": "execute_result"
    }
   ],
   "source": [
    "name, age, sex, height, weight"
   ]
  },
  {
   "cell_type": "code",
   "execution_count": 23,
   "id": "154516ad-31f8-49d9-90dd-f44833ab8799",
   "metadata": {},
   "outputs": [
    {
     "data": {
      "text/plain": [
       "180"
      ]
     },
     "execution_count": 23,
     "metadata": {},
     "output_type": "execute_result"
    }
   ],
   "source": [
    "height"
   ]
  },
  {
   "cell_type": "markdown",
   "id": "3456330d-2769-43e8-84b1-85c649ef3194",
   "metadata": {},
   "source": [
    "`-` 예제: 다중할당2, 위도와 경도"
   ]
  },
  {
   "cell_type": "code",
   "execution_count": 24,
   "id": "f042636f-d7c4-4e9d-a193-56b80870088c",
   "metadata": {},
   "outputs": [
    {
     "data": {
      "text/plain": [
       "(37, 127)"
      ]
     },
     "execution_count": 24,
     "metadata": {},
     "output_type": "execute_result"
    }
   ],
   "source": [
    "coor = (37,127) # 서울 \n",
    "coor"
   ]
  },
  {
   "cell_type": "code",
   "execution_count": 25,
   "id": "414ab5f5-8501-43b7-b02d-d9de997b8743",
   "metadata": {},
   "outputs": [],
   "source": [
    "lat, long = coor"
   ]
  },
  {
   "cell_type": "code",
   "execution_count": 26,
   "id": "1b2ea4ea-6230-4f52-aa5a-61043de4baa7",
   "metadata": {
    "tags": []
   },
   "outputs": [
    {
     "data": {
      "text/plain": [
       "37"
      ]
     },
     "execution_count": 26,
     "metadata": {},
     "output_type": "execute_result"
    }
   ],
   "source": [
    "lat "
   ]
  },
  {
   "cell_type": "code",
   "execution_count": 28,
   "id": "0db2e453-0836-41bf-9054-d9bc55ac7654",
   "metadata": {},
   "outputs": [
    {
     "data": {
      "text/plain": [
       "127"
      ]
     },
     "execution_count": 28,
     "metadata": {},
     "output_type": "execute_result"
    }
   ],
   "source": [
    "long "
   ]
  },
  {
   "cell_type": "markdown",
   "id": "7f5093a8-7528-4a2a-97c9-f5d952cf77e5",
   "metadata": {},
   "source": [
    "`-` 잠깐만: 다중할당은 꼭 튜플에서만 가능한가? "
   ]
  },
  {
   "cell_type": "markdown",
   "id": "a7974d7d-e9ee-465b-ac99-80ec40b8fac8",
   "metadata": {},
   "source": [
    "그건 아니다... "
   ]
  },
  {
   "cell_type": "code",
   "execution_count": 30,
   "id": "5dca42f6-1e88-42f3-b298-1a6e20d5ef31",
   "metadata": {},
   "outputs": [
    {
     "data": {
      "text/plain": [
       "(1, 2, 3)"
      ]
     },
     "execution_count": 30,
     "metadata": {},
     "output_type": "execute_result"
    }
   ],
   "source": [
    "[x,y,z] = [1,2,3] \n",
    "x,y,z # 다중출력 "
   ]
  },
  {
   "cell_type": "code",
   "execution_count": null,
   "id": "12ad4e86-6b74-43fe-b131-fbfe2cc607da",
   "metadata": {},
   "outputs": [
    {
     "data": {
      "text/plain": [
       "('h', 'i')"
      ]
     },
     "execution_count": 71,
     "metadata": {},
     "output_type": "execute_result"
    }
   ],
   "source": [
    "[x,y] = 'hi'\n",
    "x,y "
   ]
  },
  {
   "cell_type": "markdown",
   "id": "b530c071-a792-48c4-a0d1-9c85ce900bcf",
   "metadata": {},
   "source": [
    "튜플과 같이 사용하면 가독성이 극대화 (그래서 다중할당은 거의 튜플과 세트로 사용함) "
   ]
  },
  {
   "cell_type": "code",
   "execution_count": 31,
   "id": "15b125b0-9ce6-48ee-8729-f48261920936",
   "metadata": {},
   "outputs": [
    {
     "data": {
      "text/plain": [
       "(1, 2, 3)"
      ]
     },
     "execution_count": 31,
     "metadata": {},
     "output_type": "execute_result"
    }
   ],
   "source": [
    "x,y,z = 1,2,3\n",
    "x,y,z # 다중출력 "
   ]
  },
  {
   "cell_type": "code",
   "execution_count": 32,
   "id": "ddb9d514-a7a8-4c1e-bc57-159ddc685c6d",
   "metadata": {},
   "outputs": [
    {
     "data": {
      "text/plain": [
       "('h', 'i')"
      ]
     },
     "execution_count": 32,
     "metadata": {},
     "output_type": "execute_result"
    }
   ],
   "source": [
    "x,y = 'hi'\n",
    "x,y "
   ]
  },
  {
   "cell_type": "markdown",
   "id": "7b4abf8a-8b6e-4df6-ba76-8f87df6914e2",
   "metadata": {},
   "source": [
    "`-` 예제: 임시변수 사용없이 두 변수의 값을 교환 "
   ]
  },
  {
   "cell_type": "code",
   "execution_count": 33,
   "id": "1ff93d4b-0aec-491a-b04b-9494ee7a5d79",
   "metadata": {},
   "outputs": [],
   "source": [
    "a=10\n",
    "b=20"
   ]
  },
  {
   "cell_type": "code",
   "execution_count": 34,
   "id": "c2be2500-3bc4-4676-9509-75414db53c9f",
   "metadata": {},
   "outputs": [],
   "source": [
    "a,b = b,a "
   ]
  },
  {
   "cell_type": "code",
   "execution_count": 35,
   "id": "2476220d-9959-4b9a-b31e-5afe19bb6429",
   "metadata": {},
   "outputs": [
    {
     "data": {
      "text/plain": [
       "20"
      ]
     },
     "execution_count": 35,
     "metadata": {},
     "output_type": "execute_result"
    }
   ],
   "source": [
    "a"
   ]
  },
  {
   "cell_type": "code",
   "execution_count": 36,
   "id": "c7b154de-414e-4952-ae54-593cbbfc31b1",
   "metadata": {},
   "outputs": [
    {
     "data": {
      "text/plain": [
       "10"
      ]
     },
     "execution_count": 36,
     "metadata": {},
     "output_type": "execute_result"
    }
   ],
   "source": [
    "b"
   ]
  },
  {
   "cell_type": "markdown",
   "id": "9342be66-57f1-4222-8ae5-e9a48cbf92a0",
   "metadata": {},
   "source": [
    "`-` 예제: for문과 튜플"
   ]
  },
  {
   "cell_type": "code",
   "execution_count": 41,
   "id": "d8b09071-c30d-4e5e-aaa2-1b5ed49abce9",
   "metadata": {},
   "outputs": [
    {
     "data": {
      "text/plain": [
       "[['guebin', 202112345, 'M'],\n",
       " ['iu', 202254321, 'F'],\n",
       " ['hodong', 202011223, 'M']]"
      ]
     },
     "execution_count": 41,
     "metadata": {},
     "output_type": "execute_result"
    }
   ],
   "source": [
    "lst = [['guebin', 202112345, 'M'],\n",
    "       ['iu',202254321, 'F'],\n",
    "       ['hodong', 202011223, 'M']]\n",
    "lst"
   ]
  },
  {
   "cell_type": "code",
   "execution_count": 42,
   "id": "b2f3188c-b519-4a6e-9292-1f20671022c6",
   "metadata": {},
   "outputs": [
    {
     "name": "stdout",
     "output_type": "stream",
     "text": [
      "['guebin', 202112345, 'M']\n",
      "['iu', 202254321, 'F']\n",
      "['hodong', 202011223, 'M']\n"
     ]
    }
   ],
   "source": [
    "for i in lst: \n",
    "    print(i)"
   ]
  },
  {
   "cell_type": "code",
   "execution_count": 43,
   "id": "4cbdd401-4690-4189-8aaa-9b48a6cf3a6a",
   "metadata": {},
   "outputs": [
    {
     "name": "stdout",
     "output_type": "stream",
     "text": [
      "guebin\n",
      "iu\n",
      "hodong\n"
     ]
    }
   ],
   "source": [
    "for name,studentid,sex in lst: \n",
    "    print(name)"
   ]
  },
  {
   "cell_type": "code",
   "execution_count": 44,
   "id": "6572f298-6dd8-41c1-889f-1199d6ce650d",
   "metadata": {},
   "outputs": [
    {
     "name": "stdout",
     "output_type": "stream",
     "text": [
      "guebin M\n",
      "iu F\n",
      "hodong M\n"
     ]
    }
   ],
   "source": [
    "for name,studentid,sex in lst: \n",
    "    print(name,sex)"
   ]
  },
  {
   "cell_type": "markdown",
   "id": "8de88d64-b699-4f00-a26c-09653908595c",
   "metadata": {},
   "source": [
    "`-` 예제: for문과 튜플, dummy variable `_`\n",
    "\n",
    "더미변수란, 실제로 측정한 변수가 아니고 명목척도로 측정된 변수값들을 서로 구분할 수 있도록 하기 위하여 가상적으로 만든 변수 쯤으로 우선 이해하면 좋을 것 같다. "
   ]
  },
  {
   "cell_type": "code",
   "execution_count": 45,
   "id": "d2e83e33-ba14-4d6f-b5d2-3578c462615b",
   "metadata": {},
   "outputs": [
    {
     "name": "stdout",
     "output_type": "stream",
     "text": [
      "202112345\n",
      "202254321\n",
      "202011223\n"
     ]
    }
   ],
   "source": [
    "for name,studentid,sex in lst: \n",
    "    print(studentid)"
   ]
  },
  {
   "cell_type": "code",
   "execution_count": 46,
   "id": "19dc4346-b562-435b-b302-6c31fada1c54",
   "metadata": {},
   "outputs": [
    {
     "name": "stdout",
     "output_type": "stream",
     "text": [
      "202112345\n",
      "202254321\n",
      "202011223\n"
     ]
    }
   ],
   "source": [
    "for _,studentid,_ in lst: \n",
    "    print(studentid)"
   ]
  },
  {
   "cell_type": "code",
   "execution_count": 47,
   "id": "880e4f59-31f3-41ad-a4e2-56aeae053397",
   "metadata": {},
   "outputs": [
    {
     "name": "stdout",
     "output_type": "stream",
     "text": [
      "M\n",
      "F\n",
      "M\n"
     ]
    }
   ],
   "source": [
    "for _,_,sex in lst: \n",
    "    print(sex)"
   ]
  },
  {
   "cell_type": "code",
   "execution_count": 48,
   "id": "42649caf-93d0-46c1-8377-f5aaf6ee2f25",
   "metadata": {},
   "outputs": [
    {
     "name": "stdout",
     "output_type": "stream",
     "text": [
      "guebin M\n",
      "iu F\n",
      "hodong M\n"
     ]
    }
   ],
   "source": [
    "for name,_,sex in lst: \n",
    "    print(name,sex)"
   ]
  },
  {
   "cell_type": "code",
   "execution_count": 49,
   "id": "aa867efb-b5e6-46a9-95c1-4d58212b6b01",
   "metadata": {},
   "outputs": [
    {
     "ename": "ValueError",
     "evalue": "too many values to unpack (expected 2)",
     "output_type": "error",
     "traceback": [
      "\u001b[0;31m---------------------------------------------------------------------------\u001b[0m",
      "\u001b[0;31mValueError\u001b[0m                                Traceback (most recent call last)",
      "Input \u001b[0;32mIn [49]\u001b[0m, in \u001b[0;36m<cell line: 1>\u001b[0;34m()\u001b[0m\n\u001b[0;32m----> 1\u001b[0m \u001b[38;5;28;01mfor\u001b[39;00m name,_  \u001b[38;5;129;01min\u001b[39;00m lst: \u001b[38;5;66;03m# 이처럼 튜플 다중선언에 필요한 변수가 다 있지 않으면 오류가 나기 때문에 더미가 필요함. \u001b[39;00m\n\u001b[1;32m      2\u001b[0m     \u001b[38;5;28mprint\u001b[39m(name)\n",
      "\u001b[0;31mValueError\u001b[0m: too many values to unpack (expected 2)"
     ]
    }
   ],
   "source": [
    "for name,_  in lst: # 이처럼 튜플 다중선언에 필요한 변수가 다 있지 않으면 오류가 나기 때문에 더미가 필요함. \n",
    "    print(name) "
   ]
  },
  {
   "cell_type": "code",
   "execution_count": 50,
   "id": "adb1b1fb-dc38-4b98-abd5-be735ea00b6c",
   "metadata": {},
   "outputs": [
    {
     "name": "stdout",
     "output_type": "stream",
     "text": [
      "guebin\n",
      "iu\n",
      "hodong\n"
     ]
    }
   ],
   "source": [
    "for name,*args  in lst: \n",
    "    print(name)"
   ]
  },
  {
   "cell_type": "markdown",
   "id": "532f3529-77b0-46b4-87e2-f447d8ce8f11",
   "metadata": {},
   "source": [
    "*args는 복수개의 인자를 함수로 받고자 할 때 사용한다.   \n",
    "출력시 튜플 형태로 나오는 것을 알 수 있다.  \n",
    "*Name, *arg 등 *변수명 이렇게 어떤 이름으로든 사용할 수 있다.  "
   ]
  },
  {
   "cell_type": "markdown",
   "id": "ba508f45-ec30-4834-8057-488bd1444337",
   "metadata": {},
   "source": [
    "`-` 예제: 튜플과 언패킹연산자 `*` "
   ]
  },
  {
   "cell_type": "code",
   "execution_count": 1,
   "id": "158e9ae8-8ca2-4806-95ed-38fabc9fc647",
   "metadata": {},
   "outputs": [
    {
     "data": {
      "text/plain": [
       "(1, 2, [3, 4, 5, 6, 7, 8, 9, 10])"
      ]
     },
     "execution_count": 1,
     "metadata": {},
     "output_type": "execute_result"
    }
   ],
   "source": [
    "head, body, *tail = range(1,11) \n",
    "head, body, tail"
   ]
  },
  {
   "cell_type": "code",
   "execution_count": 2,
   "id": "4857e2ca-ef7c-4dde-87b4-a12ae743f689",
   "metadata": {},
   "outputs": [
    {
     "data": {
      "text/plain": [
       "(1, 2, [3, 4, 5, 6, 7], 8, 9, 10)"
      ]
     },
     "execution_count": 2,
     "metadata": {},
     "output_type": "execute_result"
    }
   ],
   "source": [
    "head1,head2, *body, tail1,tail2,tail3 = range(1,11) \n",
    "head1,head2, body, tail1,tail2,tail3 "
   ]
  },
  {
   "cell_type": "code",
   "execution_count": 3,
   "id": "567700ca-7712-473c-b0a9-8fb79f10a80e",
   "metadata": {},
   "outputs": [
    {
     "data": {
      "text/plain": [
       "([1, 2, 3, 4, 5, 6, 7, 8], 9, 10)"
      ]
     },
     "execution_count": 3,
     "metadata": {},
     "output_type": "execute_result"
    }
   ],
   "source": [
    "*head, body, tail = range(1,11) \n",
    "head, body, tail"
   ]
  },
  {
   "cell_type": "markdown",
   "id": "89ef0515-fbae-4b0b-87e3-16250a3937ab",
   "metadata": {},
   "source": [
    "(관찰) "
   ]
  },
  {
   "cell_type": "markdown",
   "id": "7ab49112-26d7-4f28-a3ac-51ee5682281e",
   "metadata": {},
   "source": [
    "그러고 보니까.. \n",
    "```python\n",
    "head1,head2, *body, tail1,tail2,tail3   = (1, 2, 3,4,5,6,7, 8, 9, 10) # 위의 식과 비교했을 때 range(1,11)\n",
    "head1,head2, body, tail1,tail2,tail3  = (1, 2, [3,4,5,6,7], 8, 9, 10) # 그에 대한 출력값\n",
    "```\n",
    "이렇다는 거잖아? "
   ]
  },
  {
   "cell_type": "markdown",
   "id": "30a5b189-6ee5-4000-9e34-34656e50b7cf",
   "metadata": {},
   "source": [
    "`*`를 붙이면 1차원 자료구조가 풀린다..? "
   ]
  },
  {
   "cell_type": "code",
   "execution_count": 12,
   "id": "b4336ef4-7211-41f0-a674-e2cc5476edd7",
   "metadata": {},
   "outputs": [
    {
     "ename": "SyntaxError",
     "evalue": "can't use starred expression here (3351895190.py, line 1)",
     "output_type": "error",
     "traceback": [
      "\u001b[0;36m  Input \u001b[0;32mIn [12]\u001b[0;36m\u001b[0m\n\u001b[0;31m    *[1,2,3] # 여기서는 표현이 어렵다는 것은 1차원을 풀었을 때 함께 표현할 자료형이 없기 때문!\u001b[0m\n\u001b[0m    ^\u001b[0m\n\u001b[0;31mSyntaxError\u001b[0m\u001b[0;31m:\u001b[0m can't use starred expression here\n"
     ]
    }
   ],
   "source": [
    "*[1,2,3] # 여기서는 표현이 어렵다는 것은 1차원을 풀었을 때 함께 표현할 자료형이 없기 때문! "
   ]
  },
  {
   "cell_type": "code",
   "execution_count": 13,
   "id": "f667071b-81b3-4d51-a447-9f2dd8da8ea3",
   "metadata": {},
   "outputs": [
    {
     "name": "stdout",
     "output_type": "stream",
     "text": [
      "[1, 2, 3]\n"
     ]
    }
   ],
   "source": [
    "print([1,2,3])"
   ]
  },
  {
   "cell_type": "code",
   "execution_count": 14,
   "id": "01cd07f6-2cc7-4505-875d-a32c84f77efc",
   "metadata": {},
   "outputs": [
    {
     "name": "stdout",
     "output_type": "stream",
     "text": [
      "1 2 3\n"
     ]
    }
   ],
   "source": [
    "print(*[1,2,3]) ## 이런 느낌이란 말이지.."
   ]
  },
  {
   "cell_type": "markdown",
   "id": "bdf22e1b-c05e-4410-8886-5efa95f7f63c",
   "metadata": {},
   "source": [
    "`-` 예제: 함수의 입력으로 `*args`를 넣을때 "
   ]
  },
  {
   "cell_type": "markdown",
   "id": "3bf49c05-33a0-4f0f-a3fd-e7387438742e",
   "metadata": {},
   "source": [
    "[예비학습] 함수 벼락치기 "
   ]
  },
  {
   "cell_type": "code",
   "execution_count": 15,
   "id": "d1710757-2e88-4942-81d6-1b2ef148d178",
   "metadata": {},
   "outputs": [],
   "source": [
    "def myadd(a,b): \n",
    "    return a+b "
   ]
  },
  {
   "cell_type": "code",
   "execution_count": 16,
   "id": "806c4c70-4967-4a86-9b61-799d72f8c3bc",
   "metadata": {},
   "outputs": [
    {
     "data": {
      "text/plain": [
       "0"
      ]
     },
     "execution_count": 16,
     "metadata": {},
     "output_type": "execute_result"
    }
   ],
   "source": [
    "myadd(3,-3)"
   ]
  },
  {
   "cell_type": "markdown",
   "id": "1ea63de8-540b-4cc4-898d-18913bf5de8b",
   "metadata": {},
   "source": [
    "벼락치기 끝 "
   ]
  },
  {
   "cell_type": "markdown",
   "id": "1b9cfb01-ed48-43be-8976-11beb720c14b",
   "metadata": {},
   "source": [
    "예제시작: 두점 사이의 거리를 구하는 함수를 만들어 보자. "
   ]
  },
  {
   "cell_type": "markdown",
   "id": "b294bcb3-b852-434a-bd8d-99de8b145a0f",
   "metadata": {},
   "source": [
    "점 $p=(p_x,p_y)$와 $q=(q_x,q_y)$의 거리는 $\\sqrt{(p_x-q_x)^2+(p_y-q_y)^2}$이다. 이것을 계산하는 프로그램을 만들자. "
   ]
  },
  {
   "cell_type": "code",
   "execution_count": 17,
   "id": "ad65f9a2-8bde-4624-b016-52cf2065010c",
   "metadata": {},
   "outputs": [],
   "source": [
    "import numpy as np \n",
    "def dist(px,py,qx,qy): \n",
    "    return np.sqrt((px-qx)**2 + (py-qy)**2)"
   ]
  },
  {
   "cell_type": "code",
   "execution_count": 18,
   "id": "e0cd1b24-85f1-4ce5-a5ae-caf9a9eb9743",
   "metadata": {},
   "outputs": [
    {
     "ename": "TypeError",
     "evalue": "dist() missing 2 required positional arguments: 'qx' and 'qy'",
     "output_type": "error",
     "traceback": [
      "\u001b[0;31m---------------------------------------------------------------------------\u001b[0m",
      "\u001b[0;31mTypeError\u001b[0m                                 Traceback (most recent call last)",
      "Input \u001b[0;32mIn [18]\u001b[0m, in \u001b[0;36m<cell line: 3>\u001b[0;34m()\u001b[0m\n\u001b[1;32m      1\u001b[0m p\u001b[38;5;241m=\u001b[39m(\u001b[38;5;241m0\u001b[39m,\u001b[38;5;241m3\u001b[39m)\n\u001b[1;32m      2\u001b[0m q\u001b[38;5;241m=\u001b[39m(\u001b[38;5;241m4\u001b[39m,\u001b[38;5;241m0\u001b[39m)\n\u001b[0;32m----> 3\u001b[0m \u001b[43mdist\u001b[49m\u001b[43m(\u001b[49m\u001b[43mp\u001b[49m\u001b[43m,\u001b[49m\u001b[43mq\u001b[49m\u001b[43m)\u001b[49m\n",
      "\u001b[0;31mTypeError\u001b[0m: dist() missing 2 required positional arguments: 'qx' and 'qy'"
     ]
    }
   ],
   "source": [
    "p=(0,3)\n",
    "q=(4,0)\n",
    "dist(p,q)"
   ]
  },
  {
   "cell_type": "markdown",
   "id": "7a9ced23-a630-4a9c-97a0-669c084be44f",
   "metadata": {},
   "source": [
    "(방법1)"
   ]
  },
  {
   "cell_type": "code",
   "execution_count": null,
   "id": "914c0a79-e6f7-429d-bd21-bf5e29668253",
   "metadata": {},
   "outputs": [],
   "source": [
    "px,py = (0,3)\n",
    "qx,qy = (4,0) \n",
    "dist(px,py,qx,qy)"
   ]
  },
  {
   "cell_type": "markdown",
   "id": "0f49a8c7-cc31-427d-b0f8-794b4e0a7c89",
   "metadata": {},
   "source": [
    "(방법2)"
   ]
  },
  {
   "cell_type": "code",
   "execution_count": null,
   "id": "9f4e47e7-1f32-4ec5-b55f-fc963f5b257e",
   "metadata": {},
   "outputs": [],
   "source": [
    "def dist2(p,q):\n",
    "    px,py = p \n",
    "    qx,qy = q \n",
    "    return np.sqrt((px-qx)**2 + (py-qy)**2)\n",
    "\n",
    "### 이건 나쁜 생각이에요.. \n",
    "# def dist2(p,q):\n",
    "#     px=p[0]\n",
    "#     py=p[1]\n",
    "#     qx=q[0]\n",
    "#     qy=q[1]\n",
    "#     return np.sqrt((px-qx)**2 + (py-qy)**2)"
   ]
  },
  {
   "cell_type": "code",
   "execution_count": null,
   "id": "a39b4dac-e880-4345-bc71-a05f60c14b6b",
   "metadata": {},
   "outputs": [],
   "source": [
    "p=(0,3)\n",
    "q=(4,0)\n",
    "dist2(p,q)"
   ]
  },
  {
   "cell_type": "markdown",
   "id": "4ad53529-4ef1-4087-9982-cad2a3548e8e",
   "metadata": {},
   "source": [
    "(방법3)"
   ]
  },
  {
   "cell_type": "code",
   "execution_count": null,
   "id": "66ce60fe-eea1-4d5e-bc98-3ff73262b5f3",
   "metadata": {},
   "outputs": [],
   "source": [
    "dist(*p,*q) # 입력을 *(px,py), *(qx,qy) 형태로 넣기도하고.. "
   ]
  },
  {
   "cell_type": "code",
   "execution_count": null,
   "id": "185bcdd4-5e8e-4d9f-808a-0752f762320a",
   "metadata": {},
   "outputs": [],
   "source": [
    "dist(px,py,qx,qy) # 입력을 px,py,qx,qy 형태로 넣기도하고.. "
   ]
  }
 ],
 "metadata": {
  "kernelspec": {
   "display_name": "Python 3 (ipykernel)",
   "language": "python",
   "name": "python3"
  },
  "language_info": {
   "codemirror_mode": {
    "name": "ipython",
    "version": 3
   },
   "file_extension": ".py",
   "mimetype": "text/x-python",
   "name": "python",
   "nbconvert_exporter": "python",
   "pygments_lexer": "ipython3",
   "version": "3.9.0"
  }
 },
 "nbformat": 4,
 "nbformat_minor": 5
}
