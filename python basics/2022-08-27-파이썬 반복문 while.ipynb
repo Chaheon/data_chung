{
 "cells": [
  {
   "cell_type": "markdown",
   "id": "bfea69d9-2d43-491e-a6e1-7bd1607c682c",
   "metadata": {},
   "source": [
    "## 파이썬 기초, 반복문 while"
   ]
  },
  {
   "cell_type": "markdown",
   "id": "3ace13b0-06fd-4278-ba22-65f881a3321e",
   "metadata": {},
   "source": [
    "`-` if, while, for문 "
   ]
  },
  {
   "cell_type": "markdown",
   "id": "6a28b68f-13fe-4250-b772-14831a4791f3",
   "metadata": {},
   "source": [
    "### While문"
   ]
  },
  {
   "cell_type": "markdown",
   "id": "07a2ec4e-8955-4025-bd48-e6eb7df89753",
   "metadata": {},
   "source": [
    "반복해서 문장을 수행해야 할 경우 while문을 사용한다. "
   ]
  },
  {
   "cell_type": "markdown",
   "id": "709d0b05-9822-4f73-a531-d8fb0436c6d8",
   "metadata": {},
   "source": [
    "#### 기본 구조"
   ]
  },
  {
   "cell_type": "markdown",
   "id": "ef961ec8-42b7-49c2-824b-671cc02adab8",
   "metadata": {},
   "source": [
    "```python\n",
    "while 조건문 :\n",
    "    수행할 문장 1\n",
    "    수행할 문장 2\n",
    "    수행할 문장 3\n",
    "    ***\n",
    "```\n",
    "\n",
    "while문은 조건문이 참인 동안에 while문 아래의 문장이 반복적으로 수행된다. "
   ]
  },
  {
   "cell_type": "markdown",
   "id": "7fbfa18d-23aa-4244-adcd-2595ae909ad8",
   "metadata": {},
   "source": [
    "#### while문 만들기"
   ]
  },
  {
   "cell_type": "code",
   "execution_count": 2,
   "id": "d0a26aa9-36e7-4514-b6db-d1e5ad870e8c",
   "metadata": {},
   "outputs": [
    {
     "name": "stdout",
     "output_type": "stream",
     "text": [
      "나무를 1번 찍었습니다.\n",
      "나무를 2번 찍었습니다.\n",
      "나무를 3번 찍었습니다.\n",
      "나무를 4번 찍었습니다.\n",
      "나무를 5번 찍었습니다.\n",
      "나무를 6번 찍었습니다.\n",
      "나무를 7번 찍었습니다.\n",
      "나무를 8번 찍었습니다.\n",
      "나무를 9번 찍었습니다.\n",
      "나무를 10번 찍었습니다.\n",
      "나무 넘어갑니다.\n"
     ]
    }
   ],
   "source": [
    "treeHit = 0\n",
    "\n",
    "while treeHit < 10 :\n",
    "    treeHit = treeHit + 1\n",
    "    print(f\"나무를 {treeHit}번 찍었습니다.\")\n",
    "    if treeHit == 10 :\n",
    "        print(\"나무 넘어갑니다.\")"
   ]
  },
  {
   "cell_type": "markdown",
   "id": "afff1a46-1ffe-4849-9ed8-3d9e0cc8c00d",
   "metadata": {},
   "source": [
    "`treeHit < 10`은 조건문이다. treeHit가 10미만일 동안 while문은 계속 반복된다.   \n",
    "작업문에서 `treeHit = treeHit + 1`로 값이 계속 증가하기 때문에 언젠가 10이 넘어 반복이 중단된다. "
   ]
  },
  {
   "cell_type": "code",
   "execution_count": 3,
   "id": "68a070d2-ae63-41ab-9c43-1412d630696f",
   "metadata": {},
   "outputs": [],
   "source": [
    "prompt = \"\"\"\n",
    "1. Add\n",
    "2. Del\n",
    "3. List\n",
    "4. Quit\n",
    "\n",
    "Enter number: \"\"\""
   ]
  },
  {
   "cell_type": "code",
   "execution_count": 5,
   "id": "91d7f043-a755-464d-a9a6-b073a59c6f23",
   "metadata": {},
   "outputs": [
    {
     "name": "stdout",
     "output_type": "stream",
     "text": [
      "\n",
      "1. Add\n",
      "2. Del\n",
      "3. List\n",
      "4. Quit\n",
      "\n",
      "Enter number: \n"
     ]
    },
    {
     "name": "stdin",
     "output_type": "stream",
     "text": [
      " 3\n"
     ]
    },
    {
     "name": "stdout",
     "output_type": "stream",
     "text": [
      "\n",
      "1. Add\n",
      "2. Del\n",
      "3. List\n",
      "4. Quit\n",
      "\n",
      "Enter number: \n"
     ]
    },
    {
     "name": "stdin",
     "output_type": "stream",
     "text": [
      " 4\n"
     ]
    }
   ],
   "source": [
    "number = 0\n",
    "while number != 4:\n",
    "    print(prompt)\n",
    "    number = int(input())"
   ]
  },
  {
   "cell_type": "markdown",
   "id": "99ed727a-4760-4b92-a5ce-28a675798a2b",
   "metadata": {},
   "source": [
    "#### 강제종료 (break)"
   ]
  },
  {
   "cell_type": "markdown",
   "id": "48d1d4f8-a752-499b-91d8-49380623ae9b",
   "metadata": {},
   "source": [
    "while문은 조건이 참인 경우 계속해서 반복하기 때문에 어느 순간 강제로 빠져나가고 싶을 때가 있다.  \n",
    "그때 **break**를 사용하면 된다. "
   ]
  },
  {
   "cell_type": "code",
   "execution_count": 9,
   "id": "c499adab-c820-4b07-8100-327e1b73cdb1",
   "metadata": {},
   "outputs": [
    {
     "name": "stdout",
     "output_type": "stream",
     "text": [
      "맛있게 드십시오!\n",
      "남은 커피의 양은 9잔 입니다.\n",
      "맛있게 드십시오!\n",
      "남은 커피의 양은 8잔 입니다.\n",
      "맛있게 드십시오!\n",
      "남은 커피의 양은 7잔 입니다.\n",
      "맛있게 드십시오!\n",
      "남은 커피의 양은 6잔 입니다.\n",
      "맛있게 드십시오!\n",
      "남은 커피의 양은 5잔 입니다.\n",
      "맛있게 드십시오!\n",
      "남은 커피의 양은 4잔 입니다.\n",
      "맛있게 드십시오!\n",
      "남은 커피의 양은 3잔 입니다.\n",
      "맛있게 드십시오!\n",
      "남은 커피의 양은 2잔 입니다.\n",
      "맛있게 드십시오!\n",
      "남은 커피의 양은 1잔 입니다.\n",
      "맛있게 드십시오!\n",
      "남은 커피의 양은 0잔 입니다.\n",
      "커피가 다 떨어졌습니다. 판매를 중지합니다.\n"
     ]
    }
   ],
   "source": [
    "# 커피 자판기 반복문\n",
    "\n",
    "coffee = 10 \n",
    "money = 300 \n",
    "\n",
    "while money : # money는 300으로 고정이기 때문에 계속 참!\n",
    "    if coffee > 0 :\n",
    "        print('맛있게 드십시오!')\n",
    "        coffee -= 1 \n",
    "        print(f'남은 커피의 양은 {coffee}잔 입니다.') \n",
    "    else :\n",
    "        print('커피가 다 떨어졌습니다. 판매를 중지합니다.')\n",
    "        break"
   ]
  },
  {
   "cell_type": "markdown",
   "id": "d303f04b-3010-44f4-a90d-eb745114b8f3",
   "metadata": {},
   "source": [
    "#### While문 맨 처음으로 가기 (continue)"
   ]
  },
  {
   "cell_type": "markdown",
   "id": "51c597b2-ba7b-4074-b559-0a11775e0d6d",
   "metadata": {},
   "source": [
    "while문을 수행할 때 조건에 맞지 않으면 반복문을 빠져나온다.  \n",
    "하지만 간혹 while문의 맨 처음(조건문)으로 돌아가게 만들고 싶은 경우가 있다.   \n",
    "이럴 때 continue를 사용한다. "
   ]
  },
  {
   "cell_type": "code",
   "execution_count": 1,
   "id": "b56a37a0-3760-4f84-96f2-94db61bf46fb",
   "metadata": {},
   "outputs": [
    {
     "name": "stdout",
     "output_type": "stream",
     "text": [
      "1\n",
      "3\n",
      "5\n",
      "7\n",
      "9\n"
     ]
    }
   ],
   "source": [
    "a = 0\n",
    "\n",
    "while a < 10 :\n",
    "    a += 1 \n",
    "    if a % 2 == 0: continue\n",
    "    print(a)"
   ]
  },
  {
   "cell_type": "markdown",
   "id": "6daa887b-ac9b-42f6-be73-c39380830146",
   "metadata": {},
   "source": [
    "a가 10보다 작은 동안 a는 1만큰 증가한다. 단, 2로 나누어 나머지가 0인 경우(짝수)라면 continue문장을 수행하는데 이는 처음으로 돌아가는 명령어이다.   \n",
    "따라서 짝수인 경우는 다시 위로 올라가서 a에 1을 더하고 홀수인 경우는 그대로 출려하게 된다.  "
   ]
  },
  {
   "cell_type": "markdown",
   "id": "e8bdbc0d-3919-4630-9cff-5a2703ec23c4",
   "metadata": {},
   "source": [
    "#### 무한루프"
   ]
  },
  {
   "cell_type": "markdown",
   "id": "13852b46-5f75-4091-a108-b2190d4aed76",
   "metadata": {},
   "source": [
    "무한루프란 무한히 반복한다라는 의미다. 생각보다 많이 쓰인단다. "
   ]
  },
  {
   "cell_type": "markdown",
   "id": "f6871022-92d7-4d39-852a-90f0af463dab",
   "metadata": {},
   "source": [
    "```python\n",
    "while True:\n",
    "    수행할 문장 1\n",
    "    수행할 문장 2\n",
    "    ***\n",
    "```\n",
    "\n",
    "이런 경우는 조건문이 항상 참이기 때문에 무한히 수행한다.   \n",
    "책에서는 왜, 어떤 경우에 이를 사용하는지에 대해서는 말해주지 않았지만 알아두자.  \n",
    "\n",
    "> 무한루프에 갇히면 `ctrl + c`를 눌러 빠져나가자!"
   ]
  }
 ],
 "metadata": {
  "kernelspec": {
   "display_name": "Python 3 (ipykernel)",
   "language": "python",
   "name": "python3"
  },
  "language_info": {
   "codemirror_mode": {
    "name": "ipython",
    "version": 3
   },
   "file_extension": ".py",
   "mimetype": "text/x-python",
   "name": "python",
   "nbconvert_exporter": "python",
   "pygments_lexer": "ipython3",
   "version": "3.9.0"
  }
 },
 "nbformat": 4,
 "nbformat_minor": 5
}
