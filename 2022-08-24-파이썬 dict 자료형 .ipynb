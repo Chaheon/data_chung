{
 "cells": [
  {
   "cell_type": "markdown",
   "id": "8ee28055-ac84-47b6-94e5-6b07c158385e",
   "metadata": {},
   "source": [
    "## 파이썬 기초, Dict 자료형 (1차원)"
   ]
  },
  {
   "cell_type": "markdown",
   "id": "2d33b2d1-e4b8-4092-899c-e7f60bde4fa4",
   "metadata": {},
   "source": [
    "`-` 파이썬의 기본자료형은 int, float, bool, str, list, tuple, dict, set 등이 있다.\n",
    "- 0차원 자료형: int, float, bool \n",
    "- 1차원 자료형: str, list, tuple, dict, set"
   ]
  },
  {
   "cell_type": "markdown",
   "id": "7ed1c596-2358-4978-ad62-76d4a945d201",
   "metadata": {
    "tags": []
   },
   "source": [
    "### 딕셔너리 "
   ]
  },
  {
   "cell_type": "markdown",
   "id": "f5ff75f2-9b1a-4f47-8b92-45b9aadfe81e",
   "metadata": {},
   "source": [
    "#### 선언 "
   ]
  },
  {
   "cell_type": "markdown",
   "id": "04a4cc9a-f8ba-44f4-95b5-eb618413b27c",
   "metadata": {},
   "source": [
    "`-` 방법1"
   ]
  },
  {
   "cell_type": "code",
   "execution_count": 82,
   "id": "2ec86793-e7a1-4a71-b5d0-54f1257f7762",
   "metadata": {},
   "outputs": [
    {
     "data": {
      "text/plain": [
       "{'oldcar': 80, 'newcar': 10}"
      ]
     },
     "execution_count": 82,
     "metadata": {},
     "output_type": "execute_result"
    }
   ],
   "source": [
    "score={'oldcar':80, 'newcar':10}\n",
    "score"
   ]
  },
  {
   "cell_type": "code",
   "execution_count": 3,
   "id": "cf603b62-b9a5-430e-a4c9-b432679bf1bc",
   "metadata": {},
   "outputs": [
    {
     "data": {
      "text/plain": [
       "dict"
      ]
     },
     "execution_count": 3,
     "metadata": {},
     "output_type": "execute_result"
    }
   ],
   "source": [
    "type(score)"
   ]
  },
  {
   "cell_type": "markdown",
   "id": "51fb1f0c-c9ea-411f-a913-2b4d10b3a210",
   "metadata": {},
   "source": [
    "`-` 방법2"
   ]
  },
  {
   "cell_type": "code",
   "execution_count": 20,
   "id": "54247151-6373-45a5-abd6-fd6961cec2f6",
   "metadata": {},
   "outputs": [
    {
     "data": {
      "text/plain": [
       "{'oldcar': 80, 'newcar': 10}"
      ]
     },
     "execution_count": 20,
     "metadata": {},
     "output_type": "execute_result"
    }
   ],
   "source": [
    "score=dict(oldcar=80, newcar=10)\n",
    "score"
   ]
  },
  {
   "cell_type": "code",
   "execution_count": 21,
   "id": "aacdab99-b56e-4d51-8f4d-69a36a60fdd8",
   "metadata": {},
   "outputs": [
    {
     "data": {
      "text/plain": [
       "dict"
      ]
     },
     "execution_count": 21,
     "metadata": {},
     "output_type": "execute_result"
    }
   ],
   "source": [
    "type(score)"
   ]
  },
  {
   "cell_type": "markdown",
   "id": "dcacfe60-d920-46e7-92af-03b40ce9dc12",
   "metadata": {},
   "source": [
    "`-` 방법3 "
   ]
  },
  {
   "cell_type": "code",
   "execution_count": 22,
   "id": "a4f032d4-a003-41e8-8428-e548fa7999e8",
   "metadata": {},
   "outputs": [
    {
     "data": {
      "text/plain": [
       "[['oldcar', 80], ['newcar', 10]]"
      ]
     },
     "execution_count": 22,
     "metadata": {},
     "output_type": "execute_result"
    }
   ],
   "source": [
    "_lst = [['oldcar',80],['newcar',10]] # 2차원 리스트\n",
    "_lst "
   ]
  },
  {
   "cell_type": "code",
   "execution_count": 23,
   "id": "3ddbfa4e-77a1-43f1-8aab-ca085bc0fb50",
   "metadata": {},
   "outputs": [
    {
     "data": {
      "text/plain": [
       "{'oldcar': 80, 'newcar': 10}"
      ]
     },
     "execution_count": 23,
     "metadata": {},
     "output_type": "execute_result"
    }
   ],
   "source": [
    "dict(_lst)"
   ]
  },
  {
   "cell_type": "markdown",
   "id": "a92d99ed-b2b3-4a0b-80b6-ef93a1d2daa8",
   "metadata": {},
   "source": [
    "`-` 방법4"
   ]
  },
  {
   "cell_type": "code",
   "execution_count": 24,
   "id": "eb68b1ec-5e06-4f8d-9dca-e8fcf12ca571",
   "metadata": {},
   "outputs": [
    {
     "data": {
      "text/plain": [
       "(('oldcar', 80), ('newcar', 10))"
      ]
     },
     "execution_count": 24,
     "metadata": {},
     "output_type": "execute_result"
    }
   ],
   "source": [
    "_tpl = ('oldcar',80), ('newcar',10) # 2차원 튜플 / 언패킹\n",
    "_tpl"
   ]
  },
  {
   "cell_type": "code",
   "execution_count": 25,
   "id": "34166dda-ac89-4cc2-8715-a86411376757",
   "metadata": {},
   "outputs": [
    {
     "data": {
      "text/plain": [
       "{'oldcar': 80, 'newcar': 10}"
      ]
     },
     "execution_count": 25,
     "metadata": {},
     "output_type": "execute_result"
    }
   ],
   "source": [
    "dict(_tpl)"
   ]
  },
  {
   "cell_type": "markdown",
   "id": "0be35451-58bc-4a59-806d-3bf8e334a79b",
   "metadata": {},
   "source": [
    "`-` 빈 딕셔너리"
   ]
  },
  {
   "cell_type": "code",
   "execution_count": 84,
   "id": "91149d07-2edf-4fc9-b7ad-40466ee900ea",
   "metadata": {},
   "outputs": [
    {
     "data": {
      "text/plain": [
       "dict"
      ]
     },
     "execution_count": 84,
     "metadata": {},
     "output_type": "execute_result"
    }
   ],
   "source": [
    "dic = {}\n",
    "type(dic)"
   ]
  },
  {
   "cell_type": "markdown",
   "id": "fad832ae-44c2-48d1-8379-63624f80ea68",
   "metadata": {},
   "source": [
    "#### 원소추출 "
   ]
  },
  {
   "cell_type": "code",
   "execution_count": 26,
   "id": "90d6d73b-faa4-4d48-aff9-23b93f597b20",
   "metadata": {},
   "outputs": [
    {
     "data": {
      "text/plain": [
       "{'oldcar': 80, 'newcar': 10}"
      ]
     },
     "execution_count": 26,
     "metadata": {},
     "output_type": "execute_result"
    }
   ],
   "source": [
    "score = {'oldcar':80, 'newcar':10}\n",
    "score"
   ]
  },
  {
   "cell_type": "markdown",
   "id": "cc5ea582-30d7-4621-a520-7e3334862caf",
   "metadata": {},
   "source": [
    "oldcar의 점수를 추출하고 싶다면? "
   ]
  },
  {
   "cell_type": "code",
   "execution_count": 27,
   "id": "435580b4-2714-419c-8492-f1b9fd8be9f8",
   "metadata": {},
   "outputs": [
    {
     "ename": "KeyError",
     "evalue": "0",
     "output_type": "error",
     "traceback": [
      "\u001b[0;31m---------------------------------------------------------------------------\u001b[0m",
      "\u001b[0;31mKeyError\u001b[0m                                  Traceback (most recent call last)",
      "Input \u001b[0;32mIn [27]\u001b[0m, in \u001b[0;36m<cell line: 1>\u001b[0;34m()\u001b[0m\n\u001b[0;32m----> 1\u001b[0m \u001b[43mscore\u001b[49m\u001b[43m[\u001b[49m\u001b[38;5;241;43m0\u001b[39;49m\u001b[43m]\u001b[49m\n",
      "\u001b[0;31mKeyError\u001b[0m: 0"
     ]
    }
   ],
   "source": [
    "score[0] # 이렇게 뽑는것이 아니고! "
   ]
  },
  {
   "cell_type": "code",
   "execution_count": 28,
   "id": "9d4dc16f-0c0d-42ee-a089-9a689564c29d",
   "metadata": {},
   "outputs": [
    {
     "data": {
      "text/plain": [
       "80"
      ]
     },
     "execution_count": 28,
     "metadata": {},
     "output_type": "execute_result"
    }
   ],
   "source": [
    "score['oldcar'] # 키워드로! 딕셔너리는 시퀸스가 아니다!"
   ]
  },
  {
   "cell_type": "markdown",
   "id": "4241076b-2e2e-4ea1-80d9-5a45d10c9bbb",
   "metadata": {},
   "source": [
    "`-` 리스트로 저장했다면? "
   ]
  },
  {
   "cell_type": "code",
   "execution_count": 29,
   "id": "84d63346-160c-4526-9c50-5df45f8b8fd9",
   "metadata": {},
   "outputs": [
    {
     "data": {
      "text/plain": [
       "[['oldcar', 80], ['newcar', 10]]"
      ]
     },
     "execution_count": 29,
     "metadata": {},
     "output_type": "execute_result"
    }
   ],
   "source": [
    "score = [['oldcar',80],['newcar',10]]\n",
    "score"
   ]
  },
  {
   "cell_type": "markdown",
   "id": "0bf0f0ae-0f54-4efb-9138-e5dbbeb244e2",
   "metadata": {},
   "source": [
    "oldcar의 점수를 추출하고 싶다면? "
   ]
  },
  {
   "cell_type": "markdown",
   "id": "770c93e2-58cc-441c-865b-297b5bf9c828",
   "metadata": {},
   "source": [
    "(방법1)"
   ]
  },
  {
   "cell_type": "code",
   "execution_count": 30,
   "id": "8c4097a7-858a-4ecf-9a15-2eb7c5c0196b",
   "metadata": {},
   "outputs": [
    {
     "data": {
      "text/plain": [
       "80"
      ]
     },
     "execution_count": 30,
     "metadata": {},
     "output_type": "execute_result"
    }
   ],
   "source": [
    "score[0][1] # guebin의 점수를 출력하란 의미"
   ]
  },
  {
   "cell_type": "markdown",
   "id": "383e867a-a306-41fa-b47a-44c0cf2cbb0e",
   "metadata": {},
   "source": [
    "(방법2)"
   ]
  },
  {
   "cell_type": "code",
   "execution_count": 32,
   "id": "55468e23-4274-4c53-8d29-45ade9129ecc",
   "metadata": {},
   "outputs": [
    {
     "data": {
      "text/plain": [
       "['oldcar', 'newcar']"
      ]
     },
     "execution_count": 32,
     "metadata": {},
     "output_type": "execute_result"
    }
   ],
   "source": [
    "# 이름 추출\n",
    "\n",
    "_keys = [score[i][0] for i in range(len(score))] # 리스트컴프리헨션\n",
    "_keys"
   ]
  },
  {
   "cell_type": "code",
   "execution_count": 33,
   "id": "fb85b7de-de67-4c98-b6b5-82098a9263e6",
   "metadata": {},
   "outputs": [
    {
     "data": {
      "text/plain": [
       "[80]"
      ]
     },
     "execution_count": 33,
     "metadata": {},
     "output_type": "execute_result"
    }
   ],
   "source": [
    "[score[i][1] for i in range(len(score)) if score[i][0] =='oldcar' ] "
   ]
  },
  {
   "cell_type": "markdown",
   "id": "f971128b-de7f-43d4-a7f7-1a4640cdac0f",
   "metadata": {},
   "source": [
    "- 이럴바엔 그냥 하지 ^^ ㅋㅋㅋ"
   ]
  },
  {
   "cell_type": "markdown",
   "id": "721c837e-98ed-417d-8c7d-1d7a6d6cea0f",
   "metadata": {},
   "source": [
    "#### 원소추가, 변경, 삭제"
   ]
  },
  {
   "cell_type": "code",
   "execution_count": 53,
   "id": "3d4119cc-3c89-431b-ba9b-8fcafda08a81",
   "metadata": {},
   "outputs": [
    {
     "data": {
      "text/plain": [
       "{'oldcar': 80, 'newcar': 10}"
      ]
     },
     "execution_count": 53,
     "metadata": {},
     "output_type": "execute_result"
    }
   ],
   "source": [
    "score = {'oldcar':80, 'newcar':10}\n",
    "score"
   ]
  },
  {
   "cell_type": "markdown",
   "id": "2e176cff-3c2f-4581-85fd-ea1a07260d71",
   "metadata": {},
   "source": [
    "`-` 원소에 접근 "
   ]
  },
  {
   "cell_type": "code",
   "execution_count": 54,
   "id": "da000218-621e-41bf-9d85-bc8d0f4a8ed4",
   "metadata": {},
   "outputs": [
    {
     "data": {
      "text/plain": [
       "80"
      ]
     },
     "execution_count": 54,
     "metadata": {},
     "output_type": "execute_result"
    }
   ],
   "source": [
    "score['oldcar']"
   ]
  },
  {
   "cell_type": "markdown",
   "id": "b693cd9a-edac-4a69-b610-886c0af61d1c",
   "metadata": {},
   "source": [
    "`-` 추가"
   ]
  },
  {
   "cell_type": "code",
   "execution_count": 56,
   "id": "eb92df34-2932-4824-9dac-4b8612b056cc",
   "metadata": {},
   "outputs": [
    {
     "data": {
      "text/plain": [
       "{'oldcar': 80, 'newcar': 10, 'hynn': 99, 'coolcar': 100}"
      ]
     },
     "execution_count": 56,
     "metadata": {},
     "output_type": "execute_result"
    }
   ],
   "source": [
    "score['hynn'] = 99 # 추가 \n",
    "score['coolcar'] = 100\n",
    "score"
   ]
  },
  {
   "cell_type": "markdown",
   "id": "4903040f-126d-4f30-8c65-bf222aa06128",
   "metadata": {},
   "source": [
    "`-` 변경 "
   ]
  },
  {
   "cell_type": "code",
   "execution_count": 38,
   "id": "5a88eed2-2a62-45a4-bcac-101d74f31247",
   "metadata": {},
   "outputs": [
    {
     "data": {
      "text/plain": [
       "{'oldcar': 99, 'newcar': 10, 'hynn': 99}"
      ]
     },
     "execution_count": 38,
     "metadata": {},
     "output_type": "execute_result"
    }
   ],
   "source": [
    "score['oldcar'] = 99  # 변경 -> 가변성이구나\n",
    "score "
   ]
  },
  {
   "cell_type": "markdown",
   "id": "d52ff3d0-d2e7-4df7-a031-124ea4cd00c7",
   "metadata": {},
   "source": [
    "`-` 삭제 "
   ]
  },
  {
   "cell_type": "markdown",
   "id": "b91615d4-1ab4-4b1d-8e74-e7586fa661c9",
   "metadata": {},
   "source": [
    "(방법1)"
   ]
  },
  {
   "cell_type": "code",
   "execution_count": 39,
   "id": "fec769c4-a7d8-464a-9068-ae25c343a5b9",
   "metadata": {},
   "outputs": [
    {
     "data": {
      "text/plain": [
       "{'newcar': 10, 'hynn': 99}"
      ]
     },
     "execution_count": 39,
     "metadata": {},
     "output_type": "execute_result"
    }
   ],
   "source": [
    "score={'oldcar':80, 'newcar':10, 'hynn':99}\n",
    "del score['oldcar']  \n",
    "score"
   ]
  },
  {
   "cell_type": "markdown",
   "id": "9b8d96dc-0868-44fd-bed2-a6a096e3c700",
   "metadata": {},
   "source": [
    "(방법2)"
   ]
  },
  {
   "cell_type": "code",
   "execution_count": 43,
   "id": "b2b87160-8192-4008-8e81-664d18e99793",
   "metadata": {},
   "outputs": [
    {
     "data": {
      "text/plain": [
       "80"
      ]
     },
     "execution_count": 43,
     "metadata": {},
     "output_type": "execute_result"
    }
   ],
   "source": [
    "score={'oldcar':80, 'newcar':10, 'hynn':99}\n",
    "score.pop('oldcar') # oldcar 요소 끄집어내고 삭제하기. "
   ]
  },
  {
   "cell_type": "code",
   "execution_count": 44,
   "id": "60645895-e5cf-409d-a6bc-08a158a48d14",
   "metadata": {},
   "outputs": [
    {
     "data": {
      "text/plain": [
       "{'newcar': 10, 'hynn': 99}"
      ]
     },
     "execution_count": 44,
     "metadata": {},
     "output_type": "execute_result"
    }
   ],
   "source": [
    "score"
   ]
  },
  {
   "cell_type": "markdown",
   "id": "be963568-7189-4753-b443-0ff8137aa059",
   "metadata": {},
   "source": [
    "`-` 참고로 리스트였다면 이러한 삭제작업역시 비효율적이었을 것임 "
   ]
  },
  {
   "cell_type": "code",
   "execution_count": 46,
   "id": "705b08f5-6e34-44e6-bd40-5f76ffa6286b",
   "metadata": {},
   "outputs": [
    {
     "data": {
      "text/plain": [
       "[['oldcar', 80], ['newcar', 10], ['hynn', 99]]"
      ]
     },
     "execution_count": 46,
     "metadata": {},
     "output_type": "execute_result"
    }
   ],
   "source": [
    "score = [['oldcar',80], ['newcar',10], ['hynn',99]] \n",
    "score"
   ]
  },
  {
   "cell_type": "code",
   "execution_count": 47,
   "id": "616587c8-a19a-461c-b0a0-faeed43c8ccc",
   "metadata": {},
   "outputs": [
    {
     "data": {
      "text/plain": [
       "[['newcar', 10], ['hynn', 99]]"
      ]
     },
     "execution_count": 47,
     "metadata": {},
     "output_type": "execute_result"
    }
   ],
   "source": [
    "score = [[key,val] for key,val in score if key != 'oldcar'] \n",
    "# oldcar가 키가 아닌 것들만 2차원 리스트를 만드는 것! \n",
    "score"
   ]
  },
  {
   "cell_type": "markdown",
   "id": "bc333239-dcca-4623-ba76-8541476a428a",
   "metadata": {},
   "source": [
    "#### 연산 "
   ]
  },
  {
   "cell_type": "markdown",
   "id": "58acd17f-f4ea-462b-90f8-6f2dac7b2f25",
   "metadata": {},
   "source": [
    "`-` 하나있어요.. "
   ]
  },
  {
   "cell_type": "code",
   "execution_count": 57,
   "id": "eec5d4eb-3707-40a0-aa90-b239bdb1c545",
   "metadata": {},
   "outputs": [
    {
     "data": {
      "text/plain": [
       "{'oldcar': 80, 'newcar': 10}"
      ]
     },
     "execution_count": 57,
     "metadata": {},
     "output_type": "execute_result"
    }
   ],
   "source": [
    "score = {'oldcar':80, 'newcar':10} \n",
    "score "
   ]
  },
  {
   "cell_type": "code",
   "execution_count": 59,
   "id": "97618028-d6e8-49a6-b2b9-5adbaf5b4791",
   "metadata": {},
   "outputs": [
    {
     "data": {
      "text/plain": [
       "True"
      ]
     },
     "execution_count": 59,
     "metadata": {},
     "output_type": "execute_result"
    }
   ],
   "source": [
    "'oldcar' in score"
   ]
  },
  {
   "cell_type": "code",
   "execution_count": 60,
   "id": "fdd33b94-b51d-4856-b9c9-6f381c893c0f",
   "metadata": {},
   "outputs": [
    {
     "data": {
      "text/plain": [
       "True"
      ]
     },
     "execution_count": 60,
     "metadata": {},
     "output_type": "execute_result"
    }
   ],
   "source": [
    "'newcar' in score"
   ]
  },
  {
   "cell_type": "code",
   "execution_count": 62,
   "id": "ab8d4de2-a347-4d8a-b3a6-44f245a9fb65",
   "metadata": {},
   "outputs": [
    {
     "data": {
      "text/plain": [
       "False"
      ]
     },
     "execution_count": 62,
     "metadata": {},
     "output_type": "execute_result"
    }
   ],
   "source": [
    "'goldcar' in score # 이런식으로 연산은 key의 유무를 확인하는 정도!"
   ]
  },
  {
   "cell_type": "markdown",
   "id": "9fe44973-0b75-43f6-88a0-9911fb3fa79a",
   "metadata": {},
   "source": [
    "`-` in은 사실 다른자료형도 가능했음 "
   ]
  },
  {
   "cell_type": "markdown",
   "id": "c9a10ea4-4d5e-48ed-9d0c-93119b2118ba",
   "metadata": {},
   "source": [
    "(관찰1)"
   ]
  },
  {
   "cell_type": "code",
   "execution_count": 66,
   "id": "4564c749-31ae-4d48-a07c-300434f4e53f",
   "metadata": {},
   "outputs": [
    {
     "data": {
      "text/plain": [
       "True"
      ]
     },
     "execution_count": 66,
     "metadata": {},
     "output_type": "execute_result"
    }
   ],
   "source": [
    "'a' in 'oldcar' "
   ]
  },
  {
   "cell_type": "code",
   "execution_count": 67,
   "id": "049c9a5a-6ab5-4e85-ad57-68ef8c4a222b",
   "metadata": {},
   "outputs": [
    {
     "data": {
      "text/plain": [
       "False"
      ]
     },
     "execution_count": 67,
     "metadata": {},
     "output_type": "execute_result"
    }
   ],
   "source": [
    "'b' in 'oldcar'"
   ]
  },
  {
   "cell_type": "code",
   "execution_count": 68,
   "id": "53ec40d1-791b-4e21-9360-f0616fdbff32",
   "metadata": {},
   "outputs": [
    {
     "data": {
      "text/plain": [
       "True"
      ]
     },
     "execution_count": 68,
     "metadata": {},
     "output_type": "execute_result"
    }
   ],
   "source": [
    "'c' in 'oldcar'"
   ]
  },
  {
   "cell_type": "markdown",
   "id": "20781ffe-4d87-4e0a-a392-f0fcc003d0fb",
   "metadata": {},
   "source": [
    "(관찰2)"
   ]
  },
  {
   "cell_type": "code",
   "execution_count": 69,
   "id": "f555c7e7-01c3-4629-98c6-df4484aeb52b",
   "metadata": {},
   "outputs": [
    {
     "data": {
      "text/plain": [
       "(1, 2, 3)"
      ]
     },
     "execution_count": 69,
     "metadata": {},
     "output_type": "execute_result"
    }
   ],
   "source": [
    "tpl = 1,2,3 \n",
    "tpl"
   ]
  },
  {
   "cell_type": "code",
   "execution_count": 70,
   "id": "3392d880-4d1f-4433-b090-8cd4b7f20628",
   "metadata": {},
   "outputs": [
    {
     "data": {
      "text/plain": [
       "True"
      ]
     },
     "execution_count": 70,
     "metadata": {},
     "output_type": "execute_result"
    }
   ],
   "source": [
    "1 in tpl"
   ]
  },
  {
   "cell_type": "code",
   "execution_count": 71,
   "id": "ab6a9d30-5e94-4e03-9b80-433ee956a58a",
   "metadata": {},
   "outputs": [
    {
     "data": {
      "text/plain": [
       "False"
      ]
     },
     "execution_count": 71,
     "metadata": {},
     "output_type": "execute_result"
    }
   ],
   "source": [
    "4 in tpl"
   ]
  },
  {
   "cell_type": "markdown",
   "id": "fafedd4c-d959-4557-af83-22899e02d763",
   "metadata": {},
   "source": [
    "(관찰3)"
   ]
  },
  {
   "cell_type": "code",
   "execution_count": 73,
   "id": "53ddadc1-4699-45fe-83fc-b97910d11de9",
   "metadata": {},
   "outputs": [
    {
     "data": {
      "text/plain": [
       "[['oldcar', 80], ['newcar', 10], ['hynn', 99]]"
      ]
     },
     "execution_count": 73,
     "metadata": {},
     "output_type": "execute_result"
    }
   ],
   "source": [
    "score = [['oldcar',80], ['newcar',10], ['hynn',99]] \n",
    "score"
   ]
  },
  {
   "cell_type": "code",
   "execution_count": 75,
   "id": "e2fb9c71-78cb-4121-b27f-bba0086f034d",
   "metadata": {},
   "outputs": [
    {
     "data": {
      "text/plain": [
       "True"
      ]
     },
     "execution_count": 75,
     "metadata": {},
     "output_type": "execute_result"
    }
   ],
   "source": [
    "['oldcar',80] in score "
   ]
  },
  {
   "cell_type": "markdown",
   "id": "b3c0e7ed-ae12-4555-9ef0-8f40e715f679",
   "metadata": {},
   "source": [
    "`-` in연산자가 dict형에 사용되면 key를 기준으로 True, False를 판단한다. "
   ]
  },
  {
   "cell_type": "markdown",
   "id": "8f1e8995-4ae0-4479-8427-a170bc182caf",
   "metadata": {},
   "source": [
    "#### 메소드 "
   ]
  },
  {
   "cell_type": "markdown",
   "id": "ac579bbd-aa54-438d-a427-a739365b1c59",
   "metadata": {},
   "source": [
    "**(get)**"
   ]
  },
  {
   "cell_type": "code",
   "execution_count": 86,
   "id": "f7c4c1a0-8b14-4cc8-a584-ce7f6412f72c",
   "metadata": {},
   "outputs": [
    {
     "data": {
      "text/plain": [
       "{'oldcar': 80, 'newcar': 10}"
      ]
     },
     "execution_count": 86,
     "metadata": {},
     "output_type": "execute_result"
    }
   ],
   "source": [
    "score = {'oldcar':80, 'newcar':10} \n",
    "score "
   ]
  },
  {
   "cell_type": "code",
   "execution_count": 78,
   "id": "a8d6b549-e8c2-4ae0-9d9f-9e5d08abbfba",
   "metadata": {},
   "outputs": [
    {
     "data": {
      "text/plain": [
       "80"
      ]
     },
     "execution_count": 78,
     "metadata": {},
     "output_type": "execute_result"
    }
   ],
   "source": [
    "score.get('oldcar') "
   ]
  },
  {
   "cell_type": "markdown",
   "id": "a7c992d9-7354-4bba-aeca-3bce52cef2b9",
   "metadata": {},
   "source": [
    "아래와 같은 기능 "
   ]
  },
  {
   "cell_type": "code",
   "execution_count": 79,
   "id": "6c612ff3-67af-49eb-bcc5-5b33b0a33689",
   "metadata": {},
   "outputs": [
    {
     "data": {
      "text/plain": [
       "80"
      ]
     },
     "execution_count": 79,
     "metadata": {},
     "output_type": "execute_result"
    }
   ],
   "source": [
    "score['oldcar']"
   ]
  },
  {
   "cell_type": "markdown",
   "id": "b5ddf520-78e8-4b82-912c-30b307e4b977",
   "metadata": {},
   "source": [
    "미묘한 차이점이 존재함 "
   ]
  },
  {
   "cell_type": "code",
   "execution_count": 80,
   "id": "85de9aef-7b8d-4170-9d9c-305752878dfd",
   "metadata": {},
   "outputs": [
    {
     "ename": "KeyError",
     "evalue": "'hynn'",
     "output_type": "error",
     "traceback": [
      "\u001b[0;31m---------------------------------------------------------------------------\u001b[0m",
      "\u001b[0;31mKeyError\u001b[0m                                  Traceback (most recent call last)",
      "Input \u001b[0;32mIn [80]\u001b[0m, in \u001b[0;36m<cell line: 1>\u001b[0;34m()\u001b[0m\n\u001b[0;32m----> 1\u001b[0m \u001b[43mscore\u001b[49m\u001b[43m[\u001b[49m\u001b[38;5;124;43m'\u001b[39;49m\u001b[38;5;124;43mhynn\u001b[39;49m\u001b[38;5;124;43m'\u001b[39;49m\u001b[43m]\u001b[49m\n",
      "\u001b[0;31mKeyError\u001b[0m: 'hynn'"
     ]
    }
   ],
   "source": [
    "score['hynn'] # hynn이 없어서 키에러 출력, 그런 key는 없다.. "
   ]
  },
  {
   "cell_type": "code",
   "execution_count": 81,
   "id": "d4d5eed0-9006-4cf2-953f-8b7ae4cb4554",
   "metadata": {},
   "outputs": [],
   "source": [
    "score.get('hynn') # hynn이 없으면 아무것도 출력안함 "
   ]
  },
  {
   "cell_type": "markdown",
   "id": "296ca19a-a209-4108-bb1e-d23ce681faae",
   "metadata": {},
   "source": [
    "**(keys,values,items)**"
   ]
  },
  {
   "cell_type": "markdown",
   "id": "36d4da81-417f-4f95-b46e-fa66f312e1f5",
   "metadata": {},
   "source": [
    "`-` .keys()는 딕셔너리의 키를 리턴한다.  "
   ]
  },
  {
   "cell_type": "code",
   "execution_count": 87,
   "id": "3bd69f8a-5bed-472b-a585-5801accc8c78",
   "metadata": {},
   "outputs": [
    {
     "data": {
      "text/plain": [
       "{'oldcar': 80, 'newcar': 10}"
      ]
     },
     "execution_count": 87,
     "metadata": {},
     "output_type": "execute_result"
    }
   ],
   "source": [
    "score = {'oldcar':80, 'newcar':10} \n",
    "score "
   ]
  },
  {
   "cell_type": "code",
   "execution_count": 88,
   "id": "ff7b18fd-78d5-4615-b5c5-f495f7501153",
   "metadata": {},
   "outputs": [
    {
     "data": {
      "text/plain": [
       "dict_keys(['oldcar', 'newcar'])"
      ]
     },
     "execution_count": 88,
     "metadata": {},
     "output_type": "execute_result"
    }
   ],
   "source": [
    "_keys=score.keys()\n",
    "_keys"
   ]
  },
  {
   "cell_type": "code",
   "execution_count": 89,
   "id": "01961e45-00cc-479d-8e4e-dd1fadce7ee7",
   "metadata": {},
   "outputs": [
    {
     "data": {
      "text/plain": [
       "dict_keys"
      ]
     },
     "execution_count": 89,
     "metadata": {},
     "output_type": "execute_result"
    }
   ],
   "source": [
    "type(_keys) # 리턴된 자료형은 이상한것임"
   ]
  },
  {
   "cell_type": "code",
   "execution_count": 90,
   "id": "2768c591-e539-4632-82ba-c361c9fb0d01",
   "metadata": {},
   "outputs": [
    {
     "data": {
      "text/plain": [
       "['oldcar', 'newcar']"
      ]
     },
     "execution_count": 90,
     "metadata": {},
     "output_type": "execute_result"
    }
   ],
   "source": [
    "list(_keys) # 아무튼 그 이상한 자료형도 리스트화 가능 "
   ]
  },
  {
   "cell_type": "markdown",
   "id": "2c7870d9-a4c6-42ed-819a-80e9e39e4b37",
   "metadata": {},
   "source": [
    "`-` .values()는 딕셔너리의 값들을 리턴한다. "
   ]
  },
  {
   "cell_type": "code",
   "execution_count": 91,
   "id": "de3f9399-891f-4964-bf08-383075a33983",
   "metadata": {},
   "outputs": [
    {
     "data": {
      "text/plain": [
       "dict_values([80, 10])"
      ]
     },
     "execution_count": 91,
     "metadata": {},
     "output_type": "execute_result"
    }
   ],
   "source": [
    "_values =score.values()\n",
    "_values "
   ]
  },
  {
   "cell_type": "code",
   "execution_count": 92,
   "id": "b1fdf097-0c9b-44dc-b0c1-a70deb0bb2bb",
   "metadata": {},
   "outputs": [
    {
     "data": {
      "text/plain": [
       "dict_values"
      ]
     },
     "execution_count": 92,
     "metadata": {},
     "output_type": "execute_result"
    }
   ],
   "source": [
    "type(_values)"
   ]
  },
  {
   "cell_type": "code",
   "execution_count": 93,
   "id": "9e6ec056-9e29-4c6f-b4e9-4e323f35456b",
   "metadata": {},
   "outputs": [
    {
     "data": {
      "text/plain": [
       "[80, 10]"
      ]
     },
     "execution_count": 93,
     "metadata": {},
     "output_type": "execute_result"
    }
   ],
   "source": [
    "list(_values)"
   ]
  },
  {
   "cell_type": "markdown",
   "id": "16162b4c-fdb2-4e00-b1f3-3bd52cdb0763",
   "metadata": {},
   "source": [
    "`-` .items()는 딕셔너리의 (키,값)을 리턴한다. "
   ]
  },
  {
   "cell_type": "code",
   "execution_count": 94,
   "id": "d53a92bb-9d36-4cd5-b5f7-4f4731951993",
   "metadata": {},
   "outputs": [
    {
     "data": {
      "text/plain": [
       "dict_items([('oldcar', 80), ('newcar', 10)])"
      ]
     },
     "execution_count": 94,
     "metadata": {},
     "output_type": "execute_result"
    }
   ],
   "source": [
    "_items = score.items()\n",
    "_items "
   ]
  },
  {
   "cell_type": "code",
   "execution_count": 95,
   "id": "bec695fb-c546-42c6-868e-3b52350d440f",
   "metadata": {},
   "outputs": [
    {
     "data": {
      "text/plain": [
       "dict_items"
      ]
     },
     "execution_count": 95,
     "metadata": {},
     "output_type": "execute_result"
    }
   ],
   "source": [
    "type(_items)"
   ]
  },
  {
   "cell_type": "code",
   "execution_count": 96,
   "id": "4170102b-5eb2-4c95-8eea-77aec35528e4",
   "metadata": {},
   "outputs": [
    {
     "data": {
      "text/plain": [
       "[('oldcar', 80), ('newcar', 10)]"
      ]
     },
     "execution_count": 96,
     "metadata": {},
     "output_type": "execute_result"
    }
   ],
   "source": [
    "list(_items)"
   ]
  },
  {
   "cell_type": "markdown",
   "id": "2619d01a-a0fc-43fc-80dc-50b116e7c5b3",
   "metadata": {},
   "source": [
    "`-` for문에서의 dict "
   ]
  },
  {
   "cell_type": "markdown",
   "id": "2f91c784-c0a1-4a12-86cc-cf038c140f2b",
   "metadata": {},
   "source": [
    "(예시1) "
   ]
  },
  {
   "cell_type": "code",
   "execution_count": 97,
   "id": "fc4cd8f1-737a-4190-a2bd-556bce74deb4",
   "metadata": {},
   "outputs": [
    {
     "name": "stdout",
     "output_type": "stream",
     "text": [
      "oldcar\n",
      "newcar\n"
     ]
    }
   ],
   "source": [
    "for i in score.keys():\n",
    "    print(i)"
   ]
  },
  {
   "cell_type": "code",
   "execution_count": 98,
   "id": "bd3c3db9-f037-48aa-8164-9854d75cac42",
   "metadata": {},
   "outputs": [
    {
     "name": "stdout",
     "output_type": "stream",
     "text": [
      "oldcar\n",
      "newcar\n"
     ]
    }
   ],
   "source": [
    "for i in score:\n",
    "    print(i)"
   ]
  },
  {
   "cell_type": "markdown",
   "id": "128a4143-5aad-46b2-8262-e9bcd61cd972",
   "metadata": {},
   "source": [
    "- 딕셔너리 그자체도 for문에 넣을 수 있다. \n",
    "- i에는 value가 삭제되어 들어간다. (즉 key만)\n",
    "- 결과를 보면 score대신에 score.keys()와 list(score)를 넣었을때와 결과가 같다. "
   ]
  },
  {
   "cell_type": "markdown",
   "id": "2764a9e9-59b5-4110-a591-1924bf184cbf",
   "metadata": {},
   "source": [
    "> Note: list(score) 하면 key만 리턴된다. "
   ]
  },
  {
   "cell_type": "markdown",
   "id": "46901a23-34a5-4fd9-8bb0-2efce8b98120",
   "metadata": {},
   "source": [
    "(예시2)"
   ]
  },
  {
   "cell_type": "code",
   "execution_count": 99,
   "id": "78996029-81b9-463f-9e9e-f3775cc01dac",
   "metadata": {},
   "outputs": [
    {
     "name": "stdout",
     "output_type": "stream",
     "text": [
      "80\n",
      "10\n"
     ]
    }
   ],
   "source": [
    "for i in score.values():\n",
    "    print(i)"
   ]
  },
  {
   "cell_type": "markdown",
   "id": "8d09b01a-83dd-4518-aa56-c756cc2974a1",
   "metadata": {},
   "source": [
    "(예시3)"
   ]
  },
  {
   "cell_type": "code",
   "execution_count": 100,
   "id": "9da26950-c602-463b-a703-5f9241ccbc11",
   "metadata": {},
   "outputs": [
    {
     "name": "stdout",
     "output_type": "stream",
     "text": [
      "('oldcar', 80)\n",
      "('newcar', 10)\n"
     ]
    }
   ],
   "source": [
    "for k in score.items():\n",
    "    print(k)"
   ]
  },
  {
   "cell_type": "markdown",
   "id": "25f54e36-4c9e-4bc5-8844-a40985bcf454",
   "metadata": {},
   "source": [
    "(예시4)"
   ]
  },
  {
   "cell_type": "code",
   "execution_count": 101,
   "id": "0e35fa5c-d10c-404a-b6c9-0a6132391842",
   "metadata": {},
   "outputs": [
    {
     "name": "stdout",
     "output_type": "stream",
     "text": [
      "oldcar 80\n",
      "newcar 10\n"
     ]
    }
   ],
   "source": [
    "for i,j in score.items():\n",
    "    print(i,j)"
   ]
  },
  {
   "cell_type": "markdown",
   "id": "bc0ce923-104c-42a7-83c5-eeb79f0d1d9a",
   "metadata": {},
   "source": [
    "(예시5)"
   ]
  },
  {
   "cell_type": "code",
   "execution_count": 102,
   "id": "891bbdbf-a5bc-4593-8327-477bbde07578",
   "metadata": {},
   "outputs": [
    {
     "name": "stdout",
     "output_type": "stream",
     "text": [
      "oldcar의 중간고사 점수는 80점 입니다.\n",
      "newcar의 중간고사 점수는 10점 입니다.\n"
     ]
    }
   ],
   "source": [
    "for i,j in score.items():\n",
    "    print(i + '의 중간고사 점수는 %s점 입니다.' % j)"
   ]
  },
  {
   "cell_type": "markdown",
   "id": "056798e6-2915-4c35-a08d-ccde892817da",
   "metadata": {},
   "source": [
    "[보충학습] 문자열 새치기 "
   ]
  },
  {
   "cell_type": "code",
   "execution_count": 103,
   "id": "92acabee-cb66-4f45-96da-dbe641940acd",
   "metadata": {},
   "outputs": [
    {
     "data": {
      "text/plain": [
       "'제 이름은 올드카입니다'"
      ]
     },
     "execution_count": 103,
     "metadata": {},
     "output_type": "execute_result"
    }
   ],
   "source": [
    "'제 이름은 %s입니다' % '올드카'"
   ]
  },
  {
   "cell_type": "markdown",
   "id": "043b3272-1a74-422f-a4cd-72127c186627",
   "metadata": {},
   "source": [
    "- %는 새치기연산자임. %s는 새치기하는 자리라고 생각 "
   ]
  },
  {
   "cell_type": "markdown",
   "id": "43a62faf-034c-4a4b-9653-37e8f0ad99fc",
   "metadata": {},
   "source": [
    "보충학습끝"
   ]
  },
  {
   "cell_type": "markdown",
   "id": "40346f01-0e28-4aac-afbb-2781c2e53ee5",
   "metadata": {},
   "source": [
    "### 딕셔너리 고급 "
   ]
  },
  {
   "cell_type": "markdown",
   "id": "a2abac74-08f6-4bb9-8ec8-8880c3aee19b",
   "metadata": {},
   "source": [
    "#### 키는 문자열만 가능한 것이 아니다. "
   ]
  },
  {
   "cell_type": "markdown",
   "id": "0f188acf-ac11-4c64-be2a-11d023fe15f0",
   "metadata": {},
   "source": [
    "`-` 정수키 "
   ]
  },
  {
   "cell_type": "code",
   "execution_count": 104,
   "id": "1b614806-ac27-428b-b9e9-0904c0740f55",
   "metadata": {},
   "outputs": [
    {
     "data": {
      "text/plain": [
       "{0: 49, 1: 80, 2: 99}"
      ]
     },
     "execution_count": 104,
     "metadata": {},
     "output_type": "execute_result"
    }
   ],
   "source": [
    "score = {0:49, 1:80, 2:99} # key를 0,1,2로 \n",
    "score"
   ]
  },
  {
   "cell_type": "markdown",
   "id": "20ef3aaa-836f-4c58-afc6-57bf7c3e5ee1",
   "metadata": {},
   "source": [
    "`-` 인덱싱은? "
   ]
  },
  {
   "cell_type": "code",
   "execution_count": 105,
   "id": "8f404743-627d-4fc7-81ad-a3503102517a",
   "metadata": {},
   "outputs": [
    {
     "data": {
      "text/plain": [
       "49"
      ]
     },
     "execution_count": 105,
     "metadata": {},
     "output_type": "execute_result"
    }
   ],
   "source": [
    "score[0] # 키로 인덱싱을 하고 있는데 마치 원소의 위치로 인덱싱을 하는 기분 "
   ]
  },
  {
   "cell_type": "markdown",
   "id": "ceee5c57-41d7-4244-b9c6-1a80c4a8db6e",
   "metadata": {},
   "source": [
    "`-` 그럼 혹시 이것도?"
   ]
  },
  {
   "cell_type": "code",
   "execution_count": 106,
   "id": "98fa2737-8f69-4cf4-8177-077f72c320f1",
   "metadata": {},
   "outputs": [
    {
     "ename": "TypeError",
     "evalue": "unhashable type: 'slice'",
     "output_type": "error",
     "traceback": [
      "\u001b[0;31m---------------------------------------------------------------------------\u001b[0m",
      "\u001b[0;31mTypeError\u001b[0m                                 Traceback (most recent call last)",
      "Input \u001b[0;32mIn [106]\u001b[0m, in \u001b[0;36m<cell line: 1>\u001b[0;34m()\u001b[0m\n\u001b[0;32m----> 1\u001b[0m \u001b[43mscore\u001b[49m\u001b[43m[\u001b[49m\u001b[43m:\u001b[49m\u001b[38;5;241;43m2\u001b[39;49m\u001b[43m]\u001b[49m\n",
      "\u001b[0;31mTypeError\u001b[0m: unhashable type: 'slice'"
     ]
    }
   ],
   "source": [
    "score[:2]"
   ]
  },
  {
   "cell_type": "code",
   "execution_count": 107,
   "id": "e155cb72-6f78-48f3-8e3f-b767ac595ae3",
   "metadata": {},
   "outputs": [
    {
     "ename": "KeyError",
     "evalue": "-1",
     "output_type": "error",
     "traceback": [
      "\u001b[0;31m---------------------------------------------------------------------------\u001b[0m",
      "\u001b[0;31mKeyError\u001b[0m                                  Traceback (most recent call last)",
      "Input \u001b[0;32mIn [107]\u001b[0m, in \u001b[0;36m<cell line: 1>\u001b[0;34m()\u001b[0m\n\u001b[0;32m----> 1\u001b[0m \u001b[43mscore\u001b[49m\u001b[43m[\u001b[49m\u001b[38;5;241;43m-\u001b[39;49m\u001b[38;5;241;43m1\u001b[39;49m\u001b[43m]\u001b[49m\n",
      "\u001b[0;31mKeyError\u001b[0m: -1"
     ]
    }
   ],
   "source": [
    "score[-1] # 이것도 될리가 없죠.. "
   ]
  },
  {
   "cell_type": "markdown",
   "id": "365a0826-233b-4459-be64-36d59d3e4f1c",
   "metadata": {},
   "source": [
    "#### 키로가능한것? 문자열, 숫자값, 튜플 "
   ]
  },
  {
   "cell_type": "code",
   "execution_count": 114,
   "id": "15c68bb6-1564-47cb-96ca-29f0a81c2bf1",
   "metadata": {},
   "outputs": [
    {
     "data": {
      "text/plain": [
       "{('oldcar', 0): 10, ('oldcar', 1): 20, ('oldcar', 2): 49}"
      ]
     },
     "execution_count": 114,
     "metadata": {},
     "output_type": "execute_result"
    }
   ],
   "source": [
    "score = {('oldcar',0): 10, ('oldcar',1): 20, ('oldcar',2):49}  # 0은 출석점수, 1은 레포트 점수, 2는 중간고사 점수 \n",
    "score"
   ]
  },
  {
   "cell_type": "code",
   "execution_count": 116,
   "id": "c3319898-f69a-4338-abff-0ff8a4107530",
   "metadata": {},
   "outputs": [
    {
     "data": {
      "text/plain": [
       "10"
      ]
     },
     "execution_count": 116,
     "metadata": {},
     "output_type": "execute_result"
    }
   ],
   "source": [
    "score[('oldcar',0)]"
   ]
  },
  {
   "cell_type": "code",
   "execution_count": 117,
   "id": "89c148bc-177c-4ad1-bd84-22b2b41a6234",
   "metadata": {},
   "outputs": [
    {
     "data": {
      "text/plain": [
       "49"
      ]
     },
     "execution_count": 117,
     "metadata": {},
     "output_type": "execute_result"
    }
   ],
   "source": [
    "score['oldcar',2]"
   ]
  },
  {
   "cell_type": "code",
   "execution_count": 118,
   "id": "05844fda-b0f2-47b9-b681-9db5e5f5caa4",
   "metadata": {},
   "outputs": [],
   "source": [
    "score[('oldcar',3)] = 99 # 규빈의 기말고사 점수를 추가 "
   ]
  },
  {
   "cell_type": "code",
   "execution_count": 119,
   "id": "6ba6510c-c3cb-4b6a-8193-d91c886389df",
   "metadata": {},
   "outputs": [
    {
     "data": {
      "text/plain": [
       "{('oldcar', 0): 10, ('oldcar', 1): 20, ('oldcar', 2): 49, ('oldcar', 3): 99}"
      ]
     },
     "execution_count": 119,
     "metadata": {},
     "output_type": "execute_result"
    }
   ],
   "source": [
    "score"
   ]
  },
  {
   "cell_type": "markdown",
   "id": "7529671c-4f22-48af-b092-5cfceadbb01f",
   "metadata": {},
   "source": [
    "- 문자열, 숫자값, 튜플의 공통점? 불변객체"
   ]
  },
  {
   "cell_type": "markdown",
   "id": "d4ea568f-8371-4fb5-ad44-b7da015504b7",
   "metadata": {},
   "source": [
    "#### 참고 (불변형과 가변형)"
   ]
  },
  {
   "cell_type": "markdown",
   "id": "800f2449-204e-4a51-ac21-4cd567a7e8b5",
   "metadata": {},
   "source": [
    "(인트형은 불변) "
   ]
  },
  {
   "cell_type": "code",
   "execution_count": 120,
   "id": "a9de1370-3d6e-401a-bee1-d01a3e134fe4",
   "metadata": {},
   "outputs": [
    {
     "data": {
      "text/plain": [
       "(1, 140274034731312)"
      ]
     },
     "execution_count": 120,
     "metadata": {},
     "output_type": "execute_result"
    }
   ],
   "source": [
    "a=1\n",
    "a,id(a)"
   ]
  },
  {
   "cell_type": "code",
   "execution_count": 124,
   "id": "e42fac10-7d39-4ee0-9cfe-82557cb6bc09",
   "metadata": {},
   "outputs": [
    {
     "data": {
      "text/plain": [
       "(2, 140274034731344)"
      ]
     },
     "execution_count": 124,
     "metadata": {},
     "output_type": "execute_result"
    }
   ],
   "source": [
    "a=2\n",
    "a,id(a) # id (주소)가 바뀜. 즉 이전의 a라는 변수가 변한게 아니라 새로운 id로 다시 만들어짐. "
   ]
  },
  {
   "cell_type": "markdown",
   "id": "4229dcff-beb2-4aff-b260-41cc34ef9e83",
   "metadata": {},
   "source": [
    "(문자열도 불변)"
   ]
  },
  {
   "cell_type": "code",
   "execution_count": 125,
   "id": "c454fe33-4b74-404c-aea8-7dba9c21f09f",
   "metadata": {},
   "outputs": [
    {
     "data": {
      "text/plain": [
       "('oldcar', 140273783027056)"
      ]
     },
     "execution_count": 125,
     "metadata": {},
     "output_type": "execute_result"
    }
   ],
   "source": [
    "a='oldcar'\n",
    "a,id(a)"
   ]
  },
  {
   "cell_type": "code",
   "execution_count": 126,
   "id": "bada0bab-0371-4890-8fc2-80e1bc8fe254",
   "metadata": {},
   "outputs": [
    {
     "data": {
      "text/plain": [
       "('Oldcar', 140273813542448)"
      ]
     },
     "execution_count": 126,
     "metadata": {},
     "output_type": "execute_result"
    }
   ],
   "source": [
    "a='Oldcar'\n",
    "a,id(a)"
   ]
  },
  {
   "cell_type": "markdown",
   "id": "dca3e940-dedf-4414-9650-5ed2b4707be1",
   "metadata": {},
   "source": [
    "(리스트는 가변)"
   ]
  },
  {
   "cell_type": "code",
   "execution_count": 127,
   "id": "79545759-5f57-4abb-8101-d295b0519da2",
   "metadata": {},
   "outputs": [
    {
     "data": {
      "text/plain": [
       "(['g', 'u', 'e', 'b', 'i', 'n'], 140273813619456)"
      ]
     },
     "execution_count": 127,
     "metadata": {},
     "output_type": "execute_result"
    }
   ],
   "source": [
    "a=list('guebin')\n",
    "a,id(a)"
   ]
  },
  {
   "cell_type": "code",
   "execution_count": 128,
   "id": "7c117472-33d6-4281-a7db-3754be19a437",
   "metadata": {},
   "outputs": [],
   "source": [
    "a[0]='G'"
   ]
  },
  {
   "cell_type": "code",
   "execution_count": 129,
   "id": "2f564519-49e7-4072-a74b-693e72ed4fb5",
   "metadata": {},
   "outputs": [
    {
     "data": {
      "text/plain": [
       "(['G', 'u', 'e', 'b', 'i', 'n'], 140273813619456)"
      ]
     },
     "execution_count": 129,
     "metadata": {},
     "output_type": "execute_result"
    }
   ],
   "source": [
    "a,id(a)"
   ]
  }
 ],
 "metadata": {
  "kernelspec": {
   "display_name": "Python 3 (ipykernel)",
   "language": "python",
   "name": "python3"
  },
  "language_info": {
   "codemirror_mode": {
    "name": "ipython",
    "version": 3
   },
   "file_extension": ".py",
   "mimetype": "text/x-python",
   "name": "python",
   "nbconvert_exporter": "python",
   "pygments_lexer": "ipython3",
   "version": "3.9.0"
  }
 },
 "nbformat": 4,
 "nbformat_minor": 5
}
