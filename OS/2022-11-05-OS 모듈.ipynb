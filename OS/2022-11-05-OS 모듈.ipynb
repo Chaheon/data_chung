{
 "cells": [
  {
   "cell_type": "markdown",
   "id": "ce91c040-90b4-4423-9e6c-29dfaf2a0c33",
   "metadata": {},
   "source": [
    "## OS 모듈"
   ]
  },
  {
   "cell_type": "markdown",
   "id": "f6988d34-120c-4465-92bd-927eee9c43f8",
   "metadata": {
    "tags": []
   },
   "source": [
    "### intro \n",
    "\n",
    "python에서 자주 쓰이는 `OS 모듈`은 Operating System의 약자로 운영체제에서 제공되는 여러 기능을 파이썬에서 수행할 수 있게 해준다. \n",
    "\n",
    "예로, 파이썬을 이용해 파일을 복사하거나 디렉터리를 생성하고 특정 디렉터리 내의 파일 목록을 구할때 사용하면 된다."
   ]
  },
  {
   "cell_type": "markdown",
   "id": "6d10ec7b-b793-417f-9be2-f9faa8c7ed97",
   "metadata": {
    "jp-MarkdownHeadingCollapsed": true,
    "tags": []
   },
   "source": [
    "#### getcwd (현재 경로 구하기)"
   ]
  },
  {
   "cell_type": "code",
   "execution_count": 1,
   "id": "8a4ef860-7c9c-4ad6-84ef-d5fd5f59aa12",
   "metadata": {},
   "outputs": [
    {
     "data": {
      "text/plain": [
       "'C:\\\\Users\\\\oldcar\\\\Documents\\\\GitHub\\\\Study-Python'"
      ]
     },
     "execution_count": 1,
     "metadata": {},
     "output_type": "execute_result"
    }
   ],
   "source": [
    "import os\n",
    "os.getcwd()"
   ]
  },
  {
   "cell_type": "markdown",
   "id": "3ca8f901-4a5f-4f97-a7e0-c49fe6b3e4c1",
   "metadata": {
    "jp-MarkdownHeadingCollapsed": true,
    "tags": []
   },
   "source": [
    "#### listdir (경로 내 존재 파일 및 디렉터리 목록 구하기) "
   ]
  },
  {
   "cell_type": "code",
   "execution_count": 4,
   "id": "58ff8bac-b7d3-4a9d-a724-b5ce8665d633",
   "metadata": {},
   "outputs": [
    {
     "data": {
      "text/plain": [
       "['.git',\n",
       " '.gitattributes',\n",
       " '.ipynb_checkpoints',\n",
       " '2022-11-05-OS 모듈.ipynb',\n",
       " 'class',\n",
       " 'numpy',\n",
       " 'pandas',\n",
       " 'python basics',\n",
       " 'README.md',\n",
       " '수업']"
      ]
     },
     "execution_count": 4,
     "metadata": {},
     "output_type": "execute_result"
    }
   ],
   "source": [
    "os.listdir()"
   ]
  },
  {
   "cell_type": "markdown",
   "id": "7a3162cc-19d8-4ec0-977a-185e66531339",
   "metadata": {},
   "source": [
    "`-` 특정 경로 파일 및 디렉 구하기\n",
    "\n",
    "listdir 함수의 인자로 경로를 전달하는 경우 해당 경로에 존재하는 파일과 디렉토리 목록을 구할 수 있음. "
   ]
  },
  {
   "cell_type": "code",
   "execution_count": 9,
   "id": "8f53cb1c-9631-4c58-a098-501a33c116c7",
   "metadata": {},
   "outputs": [
    {
     "data": {
      "text/plain": [
       "['2021-Project-UPA',\n",
       " '2021-Study-BigLeader_AI',\n",
       " '2022-AnalysisCompetition-Subway',\n",
       " 'heoni00',\n",
       " 'heoni00.github.io',\n",
       " 'Study-Python',\n",
       " 'Study-R',\n",
       " 'Study-SQL']"
      ]
     },
     "execution_count": 9,
     "metadata": {},
     "output_type": "execute_result"
    }
   ],
   "source": [
    "os.listdir('C:/Users/oldcar/Documents/GitHub')"
   ]
  },
  {
   "cell_type": "code",
   "execution_count": 10,
   "id": "55c7bed7-c459-4f7d-9458-feca09682e51",
   "metadata": {},
   "outputs": [
    {
     "data": {
      "text/plain": [
       "8"
      ]
     },
     "execution_count": 11,
     "metadata": {},
     "output_type": "execute_result"
    }
   ],
   "source": [
    "files = os.listdir('C:/Users/oldcar/Documents/GitHub')\n",
    "len(files) # 해당 경로 디렉 및 파일 개수 구하기. \n",
    "type(files)"
   ]
  },
  {
   "cell_type": "code",
   "execution_count": 13,
   "id": "423fbf96-70b9-4660-aa1a-cea18444d202",
   "metadata": {},
   "outputs": [
    {
     "data": {
      "text/plain": [
       "list"
      ]
     },
     "execution_count": 13,
     "metadata": {},
     "output_type": "execute_result"
    }
   ],
   "source": [
    "type(files)"
   ]
  },
  {
   "cell_type": "markdown",
   "id": "9dde77af-0c9c-4654-a088-f9c1e1d4251c",
   "metadata": {
    "jp-MarkdownHeadingCollapsed": true,
    "tags": []
   },
   "source": [
    "#### endswith (특정 파일 확장자 파일만 구하기)"
   ]
  },
  {
   "cell_type": "code",
   "execution_count": 17,
   "id": "079878a4-577a-4a13-af39-d5653fdde85e",
   "metadata": {},
   "outputs": [
    {
     "name": "stdout",
     "output_type": "stream",
     "text": [
      "2022-11-05-OS 모듈.ipynb\n"
     ]
    }
   ],
   "source": [
    "for x in os.listdir():\n",
    "    if x.endswith('ipynb'):\n",
    "        print(x)"
   ]
  },
  {
   "cell_type": "markdown",
   "id": "6bb65f70-d333-4414-b343-99c067416f56",
   "metadata": {
    "tags": []
   },
   "source": [
    "#### 하위 디렉터리 구하기"
   ]
  },
  {
   "cell_type": "markdown",
   "id": "be73ef7c-a21b-4478-9972-39db2d7da9fe",
   "metadata": {},
   "source": [
    "`-` os.path.join()\n",
    "- os.path.join은 디렉터리와 파일 이름을 이어준다."
   ]
  },
  {
   "cell_type": "code",
   "execution_count": 25,
   "id": "b2b13e8c-5269-4e37-bc36-a16481c5cbed",
   "metadata": {},
   "outputs": [],
   "source": [
    "def search(dirname):\n",
    "    filenames = os.listdir(dirname) # dirname의 모든 디렉과 파일 목록 리스트 추출\n",
    "    for filename in filenames:\n",
    "        full_filename = os.path.join(dirname, filename)\n",
    "        print(full_filename)"
   ]
  },
  {
   "cell_type": "markdown",
   "id": "e02e5c60-9e41-40c8-82c8-5da7312f1671",
   "metadata": {},
   "source": [
    "os.listdir 함수를 이용하여 해당 경로의 디렉과 파일의 **이름**을 구했다. 원래 구하려던건 하위 디렉토리 즉 모든 경로를 구하는 것이다. 이를 위해서 입력값 **dirname**과 **full_filename**을 붙여줘야한다. "
   ]
  },
  {
   "cell_type": "code",
   "execution_count": 24,
   "id": "20ecb758-f388-401f-aa0d-bb1659a658f9",
   "metadata": {
    "collapsed": true,
    "jupyter": {
     "outputs_hidden": true
    },
    "tags": []
   },
   "outputs": [
    {
     "name": "stdout",
     "output_type": "stream",
     "text": [
      "c:/$Recycle.Bin\n",
      "c:/$SysReset\n",
      "c:/$WinREAgent\n",
      "c:/Config.Msi\n",
      "c:/Documents and Settings\n",
      "c:/DumpStack.log.tmp\n",
      "c:/hiberfil.sys\n",
      "c:/OneDriveTemp\n",
      "c:/pagefile.sys\n",
      "c:/PerfLogs\n",
      "c:/Program Files\n",
      "c:/Program Files (x86)\n",
      "c:/ProgramData\n",
      "c:/Recovery\n",
      "c:/swapfile.sys\n",
      "c:/System Volume Information\n",
      "c:/Temp\n",
      "c:/Users\n",
      "c:/Windows\n"
     ]
    }
   ],
   "source": [
    "# 결과\n",
    "search('c:/')"
   ]
  },
  {
   "cell_type": "markdown",
   "id": "34cc553b-9ce0-46ef-9fd7-ca4c3032b10b",
   "metadata": {},
   "source": [
    "`-` os.path.splitext\n",
    "- splitext는 파일명을 확장자 기준으로 두 부분으로 나누어준다.\n",
    "\n",
    "> 특정 확장자의 하위 경로 구하기"
   ]
  },
  {
   "cell_type": "code",
   "execution_count": 26,
   "id": "7f533cdc-8235-480b-b2e0-6248a890849e",
   "metadata": {},
   "outputs": [],
   "source": [
    "import os\n",
    "\n",
    "def search(dirname):\n",
    "    filenames = os.listdir(dirname)\n",
    "    for filename in filenames:\n",
    "        full_filename = os.path.join(dirname, filename)\n",
    "        ext = os.path.splitext(full_filename)[-1] #파일명을 이름, 확장자로 나누고 확장자만 추출\n",
    "        if ext == '.ipynb':\n",
    "            print(full_filename)"
   ]
  },
  {
   "cell_type": "code",
   "execution_count": 28,
   "id": "02edccdb-142f-4df4-94f0-8dba195c1c48",
   "metadata": {},
   "outputs": [
    {
     "name": "stdout",
     "output_type": "stream",
     "text": [
      "C:\\Users\\oldcar\\Documents\\GitHub\\Study-Python\\2022-11-05-OS 모듈.ipynb\n"
     ]
    }
   ],
   "source": [
    "path = os.getcwd()\n",
    "search(path)"
   ]
  },
  {
   "cell_type": "markdown",
   "id": "1c70a19e-0619-4f4e-9b6e-6450b77b71a3",
   "metadata": {},
   "source": [
    "`-` 하위 디렉터리 내 모든 경로 구하기"
   ]
  },
  {
   "cell_type": "code",
   "execution_count": 38,
   "id": "439c7dbf-1357-4b23-b331-9bd5b436f7c0",
   "metadata": {
    "collapsed": true,
    "jupyter": {
     "outputs_hidden": true
    },
    "tags": []
   },
   "outputs": [
    {
     "name": "stdout",
     "output_type": "stream",
     "text": [
      "C:/Users/oldcar/Documents/GitHub/Study-Python\\.ipynb_checkpoints\\2022-11-05-OS 모듈-checkpoint.ipynb\n",
      "C:/Users/oldcar/Documents/GitHub/Study-Python\\2022-11-05-OS 모듈.ipynb\n",
      "C:/Users/oldcar/Documents/GitHub/Study-Python\\class\\2022-09-08-class01.ipynb\n",
      "C:/Users/oldcar/Documents/GitHub/Study-Python\\numpy\\2022-09-01-넘파이01.ipynb\n",
      "C:/Users/oldcar/Documents/GitHub/Study-Python\\numpy\\2022-09-02-넘파이02.ipynb\n",
      "C:/Users/oldcar/Documents/GitHub/Study-Python\\numpy\\2022-09-05-넘파이03.ipynb\n",
      "C:/Users/oldcar/Documents/GitHub/Study-Python\\numpy\\2022-09-06-넘파이04.ipynb\n",
      "C:/Users/oldcar/Documents/GitHub/Study-Python\\pandas\\2022-09-07-pandas 01.ipynb\n",
      "C:/Users/oldcar/Documents/GitHub/Study-Python\\python basics\\.ipynb_checkpoints\\2022-08-28-파이썬 함수-checkpoint.ipynb\n",
      "C:/Users/oldcar/Documents/GitHub/Study-Python\\python basics\\.ipynb_checkpoints\\2022-08-31-파이썬 소스코드 관리-checkpoint.ipynb\n",
      "C:/Users/oldcar/Documents/GitHub/Study-Python\\python basics\\2022-08-16-파이썬 0차원 자료형.ipynb\n",
      "C:/Users/oldcar/Documents/GitHub/Study-Python\\python basics\\2022-08-17-파이썬 str 자료형.ipynb\n",
      "C:/Users/oldcar/Documents/GitHub/Study-Python\\python basics\\2022-08-18-파이썬 list 자료형.ipynb\n",
      "C:/Users/oldcar/Documents/GitHub/Study-Python\\python basics\\2022-08-22-파이썬 tuple 자료형.ipynb\n",
      "C:/Users/oldcar/Documents/GitHub/Study-Python\\python basics\\2022-08-24-파이썬 dict 자료형 .ipynb\n",
      "C:/Users/oldcar/Documents/GitHub/Study-Python\\python basics\\2022-08-24-파이썬 시퀀스형 요약.ipynb\n",
      "C:/Users/oldcar/Documents/GitHub/Study-Python\\python basics\\2022-08-25- 파이썬 set 자료형 .ipynb\n",
      "C:/Users/oldcar/Documents/GitHub/Study-Python\\python basics\\2022-08-25-파이썬 변수란.ipynb\n",
      "C:/Users/oldcar/Documents/GitHub/Study-Python\\python basics\\2022-08-26-파이썬 자료형 연습문제.ipynb\n",
      "C:/Users/oldcar/Documents/GitHub/Study-Python\\python basics\\2022-08-26-파이썬 조건문 if.ipynb\n",
      "C:/Users/oldcar/Documents/GitHub/Study-Python\\python basics\\2022-08-27-파이썬 반복문 for.ipynb\n",
      "C:/Users/oldcar/Documents/GitHub/Study-Python\\python basics\\2022-08-27-파이썬 반복문 while.ipynb\n",
      "C:/Users/oldcar/Documents/GitHub/Study-Python\\python basics\\2022-08-28-파이썬 제어문 연습문제.ipynb\n",
      "C:/Users/oldcar/Documents/GitHub/Study-Python\\python basics\\2022-08-28-파이썬 함수.ipynb\n",
      "C:/Users/oldcar/Documents/GitHub/Study-Python\\python basics\\2022-08-29-파이썬 입출력.ipynb\n",
      "C:/Users/oldcar/Documents/GitHub/Study-Python\\python basics\\2022-08-29-파이썬 파일 읽고 쓰기.ipynb\n",
      "C:/Users/oldcar/Documents/GitHub/Study-Python\\python basics\\2022-08-31-파이썬 소스코드 관리.ipynb\n",
      "C:/Users/oldcar/Documents/GitHub/Study-Python\\수업\\PYTHON\\Python입문_기말지연답안_201616659 김차헌.ipynb\n",
      "C:/Users/oldcar/Documents/GitHub/Study-Python\\수업\\PYTHON\\강의노트\\.ipynb_checkpoints\\note4_0407-checkpoint.ipynb\n",
      "C:/Users/oldcar/Documents/GitHub/Study-Python\\수업\\PYTHON\\강의노트\\.ipynb_checkpoints\\note5_0412-checkpoint.ipynb\n",
      "C:/Users/oldcar/Documents/GitHub/Study-Python\\수업\\PYTHON\\강의노트\\note10_0602.ipynb\n",
      "C:/Users/oldcar/Documents/GitHub/Study-Python\\수업\\PYTHON\\강의노트\\note11_0602.ipynb\n",
      "C:/Users/oldcar/Documents/GitHub/Study-Python\\수업\\PYTHON\\강의노트\\note12_0607.ipynb\n",
      "C:/Users/oldcar/Documents/GitHub/Study-Python\\수업\\PYTHON\\강의노트\\note13_0607.ipynb\n",
      "C:/Users/oldcar/Documents/GitHub/Study-Python\\수업\\PYTHON\\강의노트\\note14_0607.ipynb\n",
      "C:/Users/oldcar/Documents/GitHub/Study-Python\\수업\\PYTHON\\강의노트\\note1_0322.ipynb\n",
      "C:/Users/oldcar/Documents/GitHub/Study-Python\\수업\\PYTHON\\강의노트\\note2_0331.ipynb\n",
      "C:/Users/oldcar/Documents/GitHub/Study-Python\\수업\\PYTHON\\강의노트\\note3_0405.ipynb\n",
      "C:/Users/oldcar/Documents/GitHub/Study-Python\\수업\\PYTHON\\강의노트\\note4_0407.ipynb\n",
      "C:/Users/oldcar/Documents/GitHub/Study-Python\\수업\\PYTHON\\강의노트\\note5_0412.ipynb\n",
      "C:/Users/oldcar/Documents/GitHub/Study-Python\\수업\\PYTHON\\강의노트\\note6_0508.ipynb\n",
      "C:/Users/oldcar/Documents/GitHub/Study-Python\\수업\\PYTHON\\강의노트\\note7_0524.ipynb\n",
      "C:/Users/oldcar/Documents/GitHub/Study-Python\\수업\\PYTHON\\강의노트\\note8_0526.ipynb\n",
      "C:/Users/oldcar/Documents/GitHub/Study-Python\\수업\\PYTHON\\강의노트\\note9_0531.ipynb\n",
      "C:/Users/oldcar/Documents/GitHub/Study-Python\\수업\\PYTHON\\중간고사\\.ipynb_checkpoints\\mid_draft-checkpoint.ipynb\n",
      "C:/Users/oldcar/Documents/GitHub/Study-Python\\수업\\PYTHON\\중간고사\\.ipynb_checkpoints\\mid_draft2-checkpoint.ipynb\n",
      "C:/Users/oldcar/Documents/GitHub/Study-Python\\수업\\PYTHON\\중간고사\\mid_draft.ipynb\n",
      "C:/Users/oldcar/Documents/GitHub/Study-Python\\수업\\PYTHON\\중간고사\\mid_draft2.ipynb\n"
     ]
    }
   ],
   "source": [
    "import os\n",
    "\n",
    "def search(dirname):\n",
    "    try:\n",
    "        filenames = os.listdir(dirname)\n",
    "        for filename in filenames:\n",
    "            full_filename = os.path.join(dirname, filename)\n",
    "            if os.path.isdir(full_filename):\n",
    "                search(full_filename)\n",
    "            else:\n",
    "                ext = os.path.splitext(full_filename)[-1]\n",
    "                if ext == '.ipynb': \n",
    "                    print(full_filename)\n",
    "    except PermissionError:\n",
    "        pass\n",
    "\n",
    "search('C:/Users/oldcar/Documents/GitHub/Study-Python')"
   ]
  },
  {
   "cell_type": "markdown",
   "id": "7842b460-6100-439f-abfa-df4a69991b7c",
   "metadata": {},
   "source": [
    "- try except PermissionError는 권한 없는 디렉에 접근하더라도 종료되지 않기 위함. \n",
    "- os.path.isdir는 인수가 디렉터리인지 아닌지 확인하는 것 \n",
    "- if 조건문 안에 search(만들고 있는 함수)를 사용해서 계속 반복하는 것"
   ]
  },
  {
   "cell_type": "markdown",
   "id": "87ffd4b1-9cc1-4513-8b9f-d78a6d190a71",
   "metadata": {},
   "source": [
    "#### os.walk (하위 디렉 검색 함수)\n",
    "\n",
    "- 하위 모든 디렉을 구하기 위한 코드를 간편화 했다. \n",
    "- os.walk는 시작 디렉터리부터 시작하여 그 하위 모든 디렉터리를 차례대로 방문하는 함수다. "
   ]
  },
  {
   "cell_type": "code",
   "execution_count": 9,
   "id": "ff521ffa-6fb4-4b65-b03e-3e98a50522c5",
   "metadata": {
    "tags": []
   },
   "outputs": [
    {
     "name": "stdout",
     "output_type": "stream",
     "text": [
      "C:/Users/oldcar/Documents/GitHub/Study-Python // ['.git', '.ipynb_checkpoints', 'class', 'numpy', 'pandas', 'python basics', '수업'] // ['.gitattributes', '2022-11-05-OS 모듈.ipynb', 'README.md', 'sub_dir_search.py']\n",
      "C:/Users/oldcar/Documents/GitHub/Study-Python\\.git // ['hooks', 'info', 'logs', 'objects', 'refs'] // ['config', 'description', 'HEAD', 'index', 'packed-refs']\n",
      "C:/Users/oldcar/Documents/GitHub/Study-Python\\.git\\hooks // [] // ['applypatch-msg.sample', 'commit-msg.sample', 'fsmonitor-watchman.sample', 'post-update.sample', 'pre-applypatch.sample', 'pre-commit.sample', 'pre-merge-commit.sample', 'pre-push.sample', 'pre-rebase.sample', 'pre-receive.sample', 'prepare-commit-msg.sample', 'push-to-checkout.sample', 'update.sample']\n",
      "C:/Users/oldcar/Documents/GitHub/Study-Python\\.git\\info // [] // ['exclude']\n",
      "C:/Users/oldcar/Documents/GitHub/Study-Python\\.git\\logs // ['refs'] // ['HEAD']\n"
     ]
    }
   ],
   "source": [
    "# os.walk 이해해보기! 1단계 walk는 어떤게 나올라나. \n",
    "import os\n",
    "\n",
    "num = 0\n",
    "for (path, dir, files) in os.walk('C:/Users/oldcar/Documents/GitHub/Study-Python'):\n",
    "    num += 1\n",
    "    print(path, '//' , dir , '//' , files)\n",
    "    if num == 5 : break"
   ]
  },
  {
   "cell_type": "markdown",
   "id": "b1dd9093-5e29-4ab5-b1d0-6d38a36e592d",
   "metadata": {},
   "source": [
    "위의 코드를 통해서 알아냈다!!\n",
    "os.walk는 인수로 입력한 시작 디렉토리부터 하위 디렉토리를 차근차근 훑고 지나가고 있다.  \n",
    "총 3개의 결과값을 반환하는데 첫번째는 해당 경로, 두번째는 그 경로안에 있는 디렉토리, 세번째는 경로안 파일의 이름이다. 디렉토리와 파일명은 하나의 리스트로 묶어서 출력된다. "
   ]
  },
  {
   "cell_type": "markdown",
   "id": "16a9ef06-8f9c-4292-bd1c-40ef94ecc2aa",
   "metadata": {},
   "source": [
    "`-` 실제로 응용하기!"
   ]
  },
  {
   "cell_type": "code",
   "execution_count": 12,
   "id": "2d50b93c-f884-4f2b-8f69-493db3252e0e",
   "metadata": {
    "collapsed": true,
    "jupyter": {
     "outputs_hidden": true
    },
    "tags": []
   },
   "outputs": [
    {
     "name": "stdout",
     "output_type": "stream",
     "text": [
      "C:\\Users\\oldcar\\Documents\\GitHub\\Study-Python\\2022-11-05-OS 모듈.ipynb\n",
      "C:\\Users\\oldcar\\Documents\\GitHub\\Study-Python\\.ipynb_checkpoints\\2022-11-05-OS 모듈-checkpoint.ipynb\n",
      "C:\\Users\\oldcar\\Documents\\GitHub\\Study-Python\\class\\2022-09-08-class01.ipynb\n",
      "C:\\Users\\oldcar\\Documents\\GitHub\\Study-Python\\numpy\\2022-09-01-넘파이01.ipynb\n",
      "C:\\Users\\oldcar\\Documents\\GitHub\\Study-Python\\numpy\\2022-09-02-넘파이02.ipynb\n",
      "C:\\Users\\oldcar\\Documents\\GitHub\\Study-Python\\numpy\\2022-09-05-넘파이03.ipynb\n",
      "C:\\Users\\oldcar\\Documents\\GitHub\\Study-Python\\numpy\\2022-09-06-넘파이04.ipynb\n",
      "C:\\Users\\oldcar\\Documents\\GitHub\\Study-Python\\pandas\\2022-09-07-pandas 01.ipynb\n",
      "C:\\Users\\oldcar\\Documents\\GitHub\\Study-Python\\python basics\\2022-08-16-파이썬 0차원 자료형.ipynb\n",
      "C:\\Users\\oldcar\\Documents\\GitHub\\Study-Python\\python basics\\2022-08-17-파이썬 str 자료형.ipynb\n",
      "C:\\Users\\oldcar\\Documents\\GitHub\\Study-Python\\python basics\\2022-08-18-파이썬 list 자료형.ipynb\n",
      "C:\\Users\\oldcar\\Documents\\GitHub\\Study-Python\\python basics\\2022-08-22-파이썬 tuple 자료형.ipynb\n",
      "C:\\Users\\oldcar\\Documents\\GitHub\\Study-Python\\python basics\\2022-08-24-파이썬 dict 자료형 .ipynb\n",
      "C:\\Users\\oldcar\\Documents\\GitHub\\Study-Python\\python basics\\2022-08-24-파이썬 시퀀스형 요약.ipynb\n",
      "C:\\Users\\oldcar\\Documents\\GitHub\\Study-Python\\python basics\\2022-08-25- 파이썬 set 자료형 .ipynb\n",
      "C:\\Users\\oldcar\\Documents\\GitHub\\Study-Python\\python basics\\2022-08-25-파이썬 변수란.ipynb\n",
      "C:\\Users\\oldcar\\Documents\\GitHub\\Study-Python\\python basics\\2022-08-26-파이썬 자료형 연습문제.ipynb\n",
      "C:\\Users\\oldcar\\Documents\\GitHub\\Study-Python\\python basics\\2022-08-26-파이썬 조건문 if.ipynb\n",
      "C:\\Users\\oldcar\\Documents\\GitHub\\Study-Python\\python basics\\2022-08-27-파이썬 반복문 for.ipynb\n",
      "C:\\Users\\oldcar\\Documents\\GitHub\\Study-Python\\python basics\\2022-08-27-파이썬 반복문 while.ipynb\n",
      "C:\\Users\\oldcar\\Documents\\GitHub\\Study-Python\\python basics\\2022-08-28-파이썬 제어문 연습문제.ipynb\n",
      "C:\\Users\\oldcar\\Documents\\GitHub\\Study-Python\\python basics\\2022-08-28-파이썬 함수.ipynb\n",
      "C:\\Users\\oldcar\\Documents\\GitHub\\Study-Python\\python basics\\2022-08-29-파이썬 입출력.ipynb\n",
      "C:\\Users\\oldcar\\Documents\\GitHub\\Study-Python\\python basics\\2022-08-29-파이썬 파일 읽고 쓰기.ipynb\n",
      "C:\\Users\\oldcar\\Documents\\GitHub\\Study-Python\\python basics\\2022-08-31-파이썬 소스코드 관리.ipynb\n",
      "C:\\Users\\oldcar\\Documents\\GitHub\\Study-Python\\python basics\\.ipynb_checkpoints\\2022-08-27-파이썬 반복문 for-checkpoint.ipynb\n",
      "C:\\Users\\oldcar\\Documents\\GitHub\\Study-Python\\python basics\\.ipynb_checkpoints\\2022-08-27-파이썬 반복문 while-checkpoint.ipynb\n",
      "C:\\Users\\oldcar\\Documents\\GitHub\\Study-Python\\python basics\\.ipynb_checkpoints\\2022-08-28-파이썬 함수-checkpoint.ipynb\n",
      "C:\\Users\\oldcar\\Documents\\GitHub\\Study-Python\\python basics\\.ipynb_checkpoints\\2022-08-31-파이썬 소스코드 관리-checkpoint.ipynb\n",
      "C:\\Users\\oldcar\\Documents\\GitHub\\Study-Python\\수업\\PYTHON\\Python입문_기말지연답안_201616659 김차헌.ipynb\n",
      "C:\\Users\\oldcar\\Documents\\GitHub\\Study-Python\\수업\\PYTHON\\강의노트\\note10_0602.ipynb\n",
      "C:\\Users\\oldcar\\Documents\\GitHub\\Study-Python\\수업\\PYTHON\\강의노트\\note11_0602.ipynb\n",
      "C:\\Users\\oldcar\\Documents\\GitHub\\Study-Python\\수업\\PYTHON\\강의노트\\note12_0607.ipynb\n",
      "C:\\Users\\oldcar\\Documents\\GitHub\\Study-Python\\수업\\PYTHON\\강의노트\\note13_0607.ipynb\n",
      "C:\\Users\\oldcar\\Documents\\GitHub\\Study-Python\\수업\\PYTHON\\강의노트\\note14_0607.ipynb\n",
      "C:\\Users\\oldcar\\Documents\\GitHub\\Study-Python\\수업\\PYTHON\\강의노트\\note1_0322.ipynb\n",
      "C:\\Users\\oldcar\\Documents\\GitHub\\Study-Python\\수업\\PYTHON\\강의노트\\note2_0331.ipynb\n",
      "C:\\Users\\oldcar\\Documents\\GitHub\\Study-Python\\수업\\PYTHON\\강의노트\\note3_0405.ipynb\n",
      "C:\\Users\\oldcar\\Documents\\GitHub\\Study-Python\\수업\\PYTHON\\강의노트\\note4_0407.ipynb\n",
      "C:\\Users\\oldcar\\Documents\\GitHub\\Study-Python\\수업\\PYTHON\\강의노트\\note5_0412.ipynb\n",
      "C:\\Users\\oldcar\\Documents\\GitHub\\Study-Python\\수업\\PYTHON\\강의노트\\note6_0508.ipynb\n",
      "C:\\Users\\oldcar\\Documents\\GitHub\\Study-Python\\수업\\PYTHON\\강의노트\\note7_0524.ipynb\n",
      "C:\\Users\\oldcar\\Documents\\GitHub\\Study-Python\\수업\\PYTHON\\강의노트\\note8_0526.ipynb\n",
      "C:\\Users\\oldcar\\Documents\\GitHub\\Study-Python\\수업\\PYTHON\\강의노트\\note9_0531.ipynb\n",
      "C:\\Users\\oldcar\\Documents\\GitHub\\Study-Python\\수업\\PYTHON\\강의노트\\.ipynb_checkpoints\\note4_0407-checkpoint.ipynb\n",
      "C:\\Users\\oldcar\\Documents\\GitHub\\Study-Python\\수업\\PYTHON\\강의노트\\.ipynb_checkpoints\\note5_0412-checkpoint.ipynb\n",
      "C:\\Users\\oldcar\\Documents\\GitHub\\Study-Python\\수업\\PYTHON\\중간고사\\mid_draft.ipynb\n",
      "C:\\Users\\oldcar\\Documents\\GitHub\\Study-Python\\수업\\PYTHON\\중간고사\\mid_draft2.ipynb\n",
      "C:\\Users\\oldcar\\Documents\\GitHub\\Study-Python\\수업\\PYTHON\\중간고사\\.ipynb_checkpoints\\mid_draft-checkpoint.ipynb\n",
      "C:\\Users\\oldcar\\Documents\\GitHub\\Study-Python\\수업\\PYTHON\\중간고사\\.ipynb_checkpoints\\mid_draft2-checkpoint.ipynb\n"
     ]
    }
   ],
   "source": [
    "import os \n",
    "\n",
    "for (path, dir, files) in os.walk(os.getcwd()):\n",
    "    for filename in files:\n",
    "        ext = os.path.splitext(filename)[-1]\n",
    "        if ext == '.ipynb':\n",
    "            print(os.path.join(path,filename))"
   ]
  }
 ],
 "metadata": {
  "kernelspec": {
   "display_name": "Python 3 (ipykernel)",
   "language": "python",
   "name": "python3"
  },
  "language_info": {
   "codemirror_mode": {
    "name": "ipython",
    "version": 3
   },
   "file_extension": ".py",
   "mimetype": "text/x-python",
   "name": "python",
   "nbconvert_exporter": "python",
   "pygments_lexer": "ipython3",
   "version": "3.9.12"
  }
 },
 "nbformat": 4,
 "nbformat_minor": 5
}
