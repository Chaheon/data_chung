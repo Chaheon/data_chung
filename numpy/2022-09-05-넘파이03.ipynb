{
 "cells": [
  {
   "cell_type": "markdown",
   "id": "a0bd0f46-56b3-42da-bcdc-dccede3f82ad",
   "metadata": {},
   "source": [
    "### 강의영상 \n"
   ]
  },
  {
   "cell_type": "markdown",
   "id": "1b2bc7ab-1d05-48b2-89d9-c67ae705542c",
   "metadata": {},
   "source": [
    "> youtube: https://youtube.com/playlist?list=PLQqh36zP38-yPErl_8ayWONJ_f-XH6MuR"
   ]
  },
  {
   "cell_type": "markdown",
   "id": "50da1598-193e-4aa6-b390-e78eaaeb7f25",
   "metadata": {},
   "source": [
    "`-` (1/3) rand, randn\n",
    "\n",
    "`-` (2/3) randint \n",
    "\n",
    "`-` (3/3) choice, 통계분포, np.where/np.argwhere, 인덱싱고급, np.ix_ "
   ]
  },
  {
   "cell_type": "markdown",
   "id": "5fb61a6a-8192-46d0-bbf5-f508b4894636",
   "metadata": {},
   "source": [
    "### import "
   ]
  },
  {
   "cell_type": "code",
   "execution_count": 3,
   "id": "5df6aa0a-7a9f-4225-bd4f-ea511d657325",
   "metadata": {},
   "outputs": [],
   "source": [
    "import numpy as np"
   ]
  },
  {
   "cell_type": "markdown",
   "id": "69a73b2a-9f12-4f72-bb83-ff96d91f8c7b",
   "metadata": {},
   "source": [
    "### numpy공부 5단계: 랜덤모듈 "
   ]
  },
  {
   "cell_type": "markdown",
   "id": "5a5276ca-6313-48d8-ab38-c9f954227c87",
   "metadata": {},
   "source": [
    "#### np.random.rand()"
   ]
  },
  {
   "cell_type": "markdown",
   "id": "664fa710-0b83-4190-9583-865d976531e9",
   "metadata": {},
   "source": [
    "`-` 0~1사이에서 10개의 난수 생성 "
   ]
  },
  {
   "cell_type": "code",
   "execution_count": 5,
   "id": "aceaea55-1c97-453e-90b5-c07e6cf1b84a",
   "metadata": {},
   "outputs": [
    {
     "data": {
      "text/plain": [
       "array([0.9762396 , 0.62290682, 0.65602078, 0.22890413, 0.01139937,\n",
       "       0.71156552, 0.22585515, 0.98642156, 0.20169783, 0.52544263])"
      ]
     },
     "execution_count": 5,
     "metadata": {},
     "output_type": "execute_result"
    }
   ],
   "source": [
    "np.random.rand(10)"
   ]
  },
  {
   "cell_type": "markdown",
   "id": "e8f1a5a4-605a-4a74-8205-c1d02d6854d2",
   "metadata": {},
   "source": [
    "`-` 0~2사이에서 10개의 난수 생성 "
   ]
  },
  {
   "cell_type": "code",
   "execution_count": 6,
   "id": "cba32391-a840-4ce7-8aac-e8c21ada292e",
   "metadata": {},
   "outputs": [
    {
     "data": {
      "text/plain": [
       "array([0.19486166, 1.31320638, 1.75920753, 0.03976132, 0.65443053,\n",
       "       0.98238346, 0.81586536, 1.26374209, 0.05189084, 1.53713552])"
      ]
     },
     "execution_count": 6,
     "metadata": {},
     "output_type": "execute_result"
    }
   ],
   "source": [
    "np.random.rand(10)*2 "
   ]
  },
  {
   "cell_type": "markdown",
   "id": "bb24be6c-423a-49f3-94cd-eb3fe7c5d4e0",
   "metadata": {},
   "source": [
    "`-` 1~2사이에서 10개의 난수 생성 "
   ]
  },
  {
   "cell_type": "code",
   "execution_count": 7,
   "id": "8cb40ac3-3021-426b-8dc9-c15ee7880d40",
   "metadata": {},
   "outputs": [
    {
     "data": {
      "text/plain": [
       "array([1.14697821, 1.52687013, 1.10827739, 1.87820387, 1.81630002,\n",
       "       1.93842216, 1.30725718, 1.21386634, 1.9331912 , 1.29694134])"
      ]
     },
     "execution_count": 7,
     "metadata": {},
     "output_type": "execute_result"
    }
   ],
   "source": [
    "np.random.rand(10)+1"
   ]
  },
  {
   "cell_type": "markdown",
   "id": "1de003df-3c3b-4230-b8ca-7ef6c4f84d23",
   "metadata": {},
   "source": [
    "`-` 1~3사이에서 10개의 난수 생성 "
   ]
  },
  {
   "cell_type": "code",
   "execution_count": 8,
   "id": "fba1a496-acd5-45f8-8574-c18b7e382a95",
   "metadata": {},
   "outputs": [
    {
     "data": {
      "text/plain": [
       "array([2.10122574, 2.67412063, 2.70573365, 1.49312813, 2.72674064,\n",
       "       2.20040351, 2.26697979, 1.07834112, 2.6602285 , 1.60157633])"
      ]
     },
     "execution_count": 8,
     "metadata": {},
     "output_type": "execute_result"
    }
   ],
   "source": [
    "np.random.rand(10)*2+1 # 1~3"
   ]
  },
  {
   "cell_type": "markdown",
   "id": "3331db4a-f246-4b53-9bf9-2a718d67c075",
   "metadata": {},
   "source": [
    "#### np.random.randn()"
   ]
  },
  {
   "cell_type": "markdown",
   "id": "98e16a04-f6d6-455c-bbc8-18e02a0120cb",
   "metadata": {},
   "source": [
    "`-` N(0,1)에서 10개 추출 "
   ]
  },
  {
   "cell_type": "code",
   "execution_count": 10,
   "id": "e9a35550-074e-4f4f-99a4-cb1bd3178c28",
   "metadata": {},
   "outputs": [
    {
     "data": {
      "text/plain": [
       "array([-0.40371384,  0.56295305, -1.03454983, -0.67628805, -0.89951532,\n",
       "       -0.1925445 ,  1.43684725,  0.34022492,  0.96763699, -2.0699127 ])"
      ]
     },
     "execution_count": 10,
     "metadata": {},
     "output_type": "execute_result"
    }
   ],
   "source": [
    "np.random.randn(10) # 표준정규분포에서 10개의 샘플 추출 "
   ]
  },
  {
   "cell_type": "markdown",
   "id": "aa97955a-1fca-4c60-b030-bc55bd4e3ce4",
   "metadata": {},
   "source": [
    "`-` N(1,1)에서 10개 추출 "
   ]
  },
  {
   "cell_type": "code",
   "execution_count": 11,
   "id": "6fc209ff-6bf0-4c71-8526-e3c3598dd512",
   "metadata": {},
   "outputs": [
    {
     "data": {
      "text/plain": [
       "array([ 0.69440765, -0.58892798,  1.86823224,  1.50473088,  1.56127732,\n",
       "        1.53295801, -0.44982257,  0.41660235,  0.50013233,  3.07135415])"
      ]
     },
     "execution_count": 11,
     "metadata": {},
     "output_type": "execute_result"
    }
   ],
   "source": [
    "np.random.randn(10)+1 "
   ]
  },
  {
   "cell_type": "markdown",
   "id": "287a2d2e-9cec-47f9-a1f7-0ffab9417db2",
   "metadata": {},
   "source": [
    "`-` N(0,4)에서 10개 추출 (평균이 0이고 분산이 4인 분포)"
   ]
  },
  {
   "cell_type": "code",
   "execution_count": 12,
   "id": "deee128a-763b-4db6-9b8e-ea0c29e9dba0",
   "metadata": {},
   "outputs": [
    {
     "data": {
      "text/plain": [
       "array([ 0.48765347, -2.686622  ,  6.03529241,  0.52181081,  5.31070099,\n",
       "       -1.02246697, -0.3058778 ,  0.16147941, -2.11923353, -2.55772141])"
      ]
     },
     "execution_count": 12,
     "metadata": {},
     "output_type": "execute_result"
    }
   ],
   "source": [
    "np.random.randn(10)*2"
   ]
  },
  {
   "cell_type": "markdown",
   "id": "191a90af-0d27-4424-b35d-1dc4ee3d3976",
   "metadata": {},
   "source": [
    "`-` N(3,4)에서 10개 추출 "
   ]
  },
  {
   "cell_type": "code",
   "execution_count": 14,
   "id": "a10e1a51-6517-46de-a887-80704e3d2527",
   "metadata": {},
   "outputs": [
    {
     "data": {
      "text/plain": [
       "array([6.20706555, 3.95308508, 7.02954382, 2.57838168, 3.40580485,\n",
       "       4.37254926, 3.94572032, 2.32058837, 3.74756129, 4.81608642])"
      ]
     },
     "execution_count": 14,
     "metadata": {},
     "output_type": "execute_result"
    }
   ],
   "source": [
    "np.random.randn(10)*2+3 "
   ]
  },
  {
   "cell_type": "markdown",
   "id": "8421fc90-575d-4691-908c-127f48cf8002",
   "metadata": {},
   "source": [
    "#### np.random.randint() "
   ]
  },
  {
   "cell_type": "markdown",
   "id": "caf530bc-97a1-45e2-afff-8c416b7329a0",
   "metadata": {},
   "source": [
    "`-` [0,7)의 범위에서 하나의 정수를 랜덤으로 생성 "
   ]
  },
  {
   "cell_type": "code",
   "execution_count": 32,
   "id": "fc740391-9440-4af0-9fb1-a7ab10a4326f",
   "metadata": {},
   "outputs": [
    {
     "data": {
      "text/plain": [
       "2"
      ]
     },
     "execution_count": 32,
     "metadata": {},
     "output_type": "execute_result"
    }
   ],
   "source": [
    "np.random.randint(7) # [0,7)의 범위에서 하나의 정수 생성 "
   ]
  },
  {
   "cell_type": "markdown",
   "id": "c952e0a4-9c8c-4c64-aca3-8ba87d128978",
   "metadata": {},
   "source": [
    "`-` [0,7)의 범위에서 20개의 정수를 랜덤으로 생성 "
   ]
  },
  {
   "cell_type": "code",
   "execution_count": 34,
   "id": "781d50ab-d5d7-40fd-b1e2-21cf15920dd2",
   "metadata": {},
   "outputs": [
    {
     "data": {
      "text/plain": [
       "array([5, 6, 6, 0, 6, 6, 2, 0, 3, 6, 2, 3, 2, 2, 6, 6, 5, 2, 3, 2])"
      ]
     },
     "execution_count": 34,
     "metadata": {},
     "output_type": "execute_result"
    }
   ],
   "source": [
    "np.random.randint(7,size=(20,)) # [0,7)의 범위에서 20개의 정수 생성 "
   ]
  },
  {
   "cell_type": "markdown",
   "id": "b37831ab-ba0e-4d6b-b521-ca13ebe5d48c",
   "metadata": {},
   "source": [
    "`-` [0,7)의 범위에서 (2,2) shape 으로 정수를 랜덤으로 생성"
   ]
  },
  {
   "cell_type": "code",
   "execution_count": 53,
   "id": "40efb458-f5b7-4b72-bd82-98ff031aa661",
   "metadata": {},
   "outputs": [
    {
     "data": {
      "text/plain": [
       "array([[6, 4],\n",
       "       [3, 1]])"
      ]
     },
     "execution_count": 53,
     "metadata": {},
     "output_type": "execute_result"
    }
   ],
   "source": [
    "np.random.randint(7,size=(2,2)) # [0,7)의 범위에서 (2,2) shape의 정수 생성 "
   ]
  },
  {
   "cell_type": "markdown",
   "id": "fdcfeb46-c991-4cbc-b0fb-cfae804f4bd8",
   "metadata": {},
   "source": [
    "`-` 위와 같은 코드를 아래와 같이 구현가능 "
   ]
  },
  {
   "cell_type": "code",
   "execution_count": 58,
   "id": "1fac5b60-69a0-46a6-a6e6-ca52eb0fea85",
   "metadata": {},
   "outputs": [
    {
     "data": {
      "text/plain": [
       "array([[4, 1, 2, 0, 4],\n",
       "       [5, 0, 1, 1, 3],\n",
       "       [2, 1, 4, 6, 6],\n",
       "       [4, 1, 6, 1, 5],\n",
       "       [4, 2, 1, 3, 4]])"
      ]
     },
     "execution_count": 58,
     "metadata": {},
     "output_type": "execute_result"
    }
   ],
   "source": [
    "np.random.randint(low=7,size=(5,5)) # [0,7)의 범위에서 (5,5) shape의 정수 생성 "
   ]
  },
  {
   "cell_type": "markdown",
   "id": "245bff44-994d-435c-b135-0af0e943ab86",
   "metadata": {},
   "source": [
    "`-` [10,20) 의 범위에서 (5,5) shape 정수를 랜덤으로 생성 "
   ]
  },
  {
   "cell_type": "code",
   "execution_count": 49,
   "id": "b91571bf-5094-4645-8a3e-c21b043eb48e",
   "metadata": {},
   "outputs": [
    {
     "data": {
      "text/plain": [
       "array([[10, 13, 11, 15, 17],\n",
       "       [10, 16, 15, 15, 11],\n",
       "       [15, 14, 11, 19, 11],\n",
       "       [10, 13, 13, 13, 14],\n",
       "       [14, 19, 17, 13, 19]])"
      ]
     },
     "execution_count": 49,
     "metadata": {},
     "output_type": "execute_result"
    }
   ],
   "source": [
    "np.random.randint(low=10,high=20,size=(5,5)) # [10,20)의 범위에서 (5,5)shape의 정수생성 "
   ]
  },
  {
   "cell_type": "markdown",
   "id": "6356049e-5775-49a2-bbe4-7b81211bc9dc",
   "metadata": {},
   "source": [
    "`-` 의문: `np.random.randint(low=7,size=(5,5))` 가 좀 이상하다. 사실 `np.random.randint(high=7,size=(5,5))`가 되어야 맞지 않는가? \n",
    "\n",
    "-> 저도 그렇게 생각하긴 하는데요, 구현이 이렇게 되어있습니다. 도움말 확인!\n",
    "```\n",
    "Return random integers from the \"discrete uniform\" distribution of the specified dtype in the \"half-open\" interval [`low`, `high`). If `high` is None (the default), then results are from [0, `low`).\n",
    "```"
   ]
  },
  {
   "cell_type": "markdown",
   "id": "f166ee5c-1a8d-4f55-872b-de3a907721f1",
   "metadata": {},
   "source": [
    "#### np.random.choice()"
   ]
  },
  {
   "cell_type": "markdown",
   "id": "808fade2-58ea-41b9-a951-6955862dcec3",
   "metadata": {},
   "source": [
    "`-` ver1 "
   ]
  },
  {
   "cell_type": "code",
   "execution_count": 72,
   "id": "88e151ea-2605-44ca-bc71-1a1b4b70f81d",
   "metadata": {},
   "outputs": [
    {
     "data": {
      "text/plain": [
       "array([1, 1, 4, 3, 0, 2, 4, 4, 4, 4, 0, 4, 2, 2, 2, 2, 2, 1, 4, 1])"
      ]
     },
     "execution_count": 72,
     "metadata": {},
     "output_type": "execute_result"
    }
   ],
   "source": [
    "np.random.choice(5,20) # [0,5)에서 20개를 뽑음, 중복허용 "
   ]
  },
  {
   "cell_type": "markdown",
   "id": "ee48278f-b23f-44b5-b853-ae213e10f947",
   "metadata": {},
   "source": [
    "- 이것은 np.random.randint(5,size=(20,)) 와 같은 코드임 "
   ]
  },
  {
   "cell_type": "markdown",
   "id": "d9fc86a6-7632-45dd-94da-4685f44fcb25",
   "metadata": {},
   "source": [
    "`-` ver2 "
   ]
  },
  {
   "cell_type": "code",
   "execution_count": 73,
   "id": "3535221f-2de4-41b1-b58b-79b2b80380fc",
   "metadata": {},
   "outputs": [
    {
     "data": {
      "text/plain": [
       "array([1, 0, 0, 1, 3, 3, 0, 1, 0, 0, 3, 3, 0, 1, 2, 3, 2, 1, 2, 3])"
      ]
     },
     "execution_count": 73,
     "metadata": {},
     "output_type": "execute_result"
    }
   ],
   "source": [
    "np.random.choice([0,1,2,3],20) # [0,1,2,3]에서 20개를 뽑음, 중복허용"
   ]
  },
  {
   "cell_type": "code",
   "execution_count": 74,
   "id": "aab0edf2-1195-4703-9ba0-0a5bb97205e4",
   "metadata": {},
   "outputs": [
    {
     "data": {
      "text/plain": [
       "array(['orange', 'orange', 'orange', 'apple', 'orange', 'apple', 'apple',\n",
       "       'apple', 'orange', 'orange', 'orange', 'apple', 'apple', 'banana',\n",
       "       'banana', 'orange', 'orange', 'orange', 'orange', 'banana'],\n",
       "      dtype='<U6')"
      ]
     },
     "execution_count": 74,
     "metadata": {},
     "output_type": "execute_result"
    }
   ],
   "source": [
    "np.random.choice([\"apple\",\"orange\",\"banana\"],20)"
   ]
  },
  {
   "cell_type": "code",
   "execution_count": 94,
   "id": "dd7bc964-8955-4bb9-88de-46945bda93ae",
   "metadata": {},
   "outputs": [
    {
     "data": {
      "text/plain": [
       "array(['banana', 'orange'], dtype='<U6')"
      ]
     },
     "execution_count": 94,
     "metadata": {},
     "output_type": "execute_result"
    }
   ],
   "source": [
    "np.random.choice([\"apple\",\"orange\",\"banana\"],2,replace=False) # 중복허용 X "
   ]
  },
  {
   "cell_type": "markdown",
   "id": "df3d2bd3-9189-4616-9ed0-5f813483ca34",
   "metadata": {},
   "source": [
    "#### 통계분포 "
   ]
  },
  {
   "cell_type": "code",
   "execution_count": 98,
   "id": "537e20d2-dc81-4596-82e8-92e5c1293c90",
   "metadata": {},
   "outputs": [
    {
     "data": {
      "text/plain": [
       "array([0, 1, 4, 1, 3])"
      ]
     },
     "execution_count": 98,
     "metadata": {},
     "output_type": "execute_result"
    }
   ],
   "source": [
    "np.random.binomial(n=10,p=0.2,size=(5,)) # X1, ..., X5 ~ B(10,0.2) "
   ]
  },
  {
   "cell_type": "code",
   "execution_count": 99,
   "id": "cd31950e-2be3-4f1b-ad16-d7b5b08c650b",
   "metadata": {},
   "outputs": [
    {
     "data": {
      "text/plain": [
       "array([ 8.33296606,  7.28476525, 10.53464049,  8.70471009,  8.54969039])"
      ]
     },
     "execution_count": 99,
     "metadata": {},
     "output_type": "execute_result"
    }
   ],
   "source": [
    "np.random.normal(loc=10,scale=2,size=(5,)) # X1, ..., X5 ~ N(10,4) "
   ]
  },
  {
   "cell_type": "markdown",
   "id": "26651526-57f5-4c54-a426-242176cf834b",
   "metadata": {},
   "source": [
    "- `np.radom.randn(5)*2 + 10 `와 같은코드"
   ]
  },
  {
   "cell_type": "code",
   "execution_count": 100,
   "id": "f61a681b-3fdd-4201-9092-193f75b093d5",
   "metadata": {},
   "outputs": [
    {
     "data": {
      "text/plain": [
       "array([3.77048793, 2.5993732 , 2.93630494, 2.43154214, 3.63709163])"
      ]
     },
     "execution_count": 100,
     "metadata": {},
     "output_type": "execute_result"
    }
   ],
   "source": [
    "np.random.uniform(low=2,high=4,size=(5,)) # X1, ..., X5 ~ U(2,4) "
   ]
  },
  {
   "cell_type": "markdown",
   "id": "b3225e36-a503-4021-97df-375f1f50fd40",
   "metadata": {},
   "source": [
    "- `np.random.rand(5)*2+2 `와 같은 코드 "
   ]
  },
  {
   "cell_type": "code",
   "execution_count": 107,
   "id": "05a3756f-02a1-4885-863e-61715dc1b4a2",
   "metadata": {},
   "outputs": [
    {
     "data": {
      "text/plain": [
       "array([4, 9, 4, 5, 0])"
      ]
     },
     "execution_count": 107,
     "metadata": {},
     "output_type": "execute_result"
    }
   ],
   "source": [
    "np.random.poisson(lam=5,size=(5,)) # X1,...,X5 ~ Poi(5) "
   ]
  },
  {
   "cell_type": "markdown",
   "id": "e84a52d0-7174-47ba-9951-ae01f0458766",
   "metadata": {},
   "source": [
    "### numpy공부 6단계: 기타 유용한 기본기능들 "
   ]
  },
  {
   "cell_type": "markdown",
   "id": "5d465209-1148-403d-bcf4-4ed9bb1493c6",
   "metadata": {},
   "source": [
    "#### np.where, np.argwhere "
   ]
  },
  {
   "cell_type": "markdown",
   "id": "7eda2d53-b1a3-422c-8a61-779ee072792e",
   "metadata": {},
   "source": [
    "`-` 1차원 "
   ]
  },
  {
   "cell_type": "code",
   "execution_count": 109,
   "id": "750c44e4-dfad-49f5-99e7-ae21d8c8e1f4",
   "metadata": {},
   "outputs": [
    {
     "data": {
      "text/plain": [
       "array([0, 0, 0, 1, 0])"
      ]
     },
     "execution_count": 109,
     "metadata": {},
     "output_type": "execute_result"
    }
   ],
   "source": [
    "a=np.array([0,0,0,1,0])\n",
    "a"
   ]
  },
  {
   "cell_type": "code",
   "execution_count": 115,
   "id": "fa259bce-741b-446e-83ab-af5b94e29568",
   "metadata": {},
   "outputs": [
    {
     "data": {
      "text/plain": [
       "(array([3]),)"
      ]
     },
     "execution_count": 115,
     "metadata": {},
     "output_type": "execute_result"
    }
   ],
   "source": [
    "np.where(a==1) # 조건 a==1을 만족하는 인덱스를 출력하라!"
   ]
  },
  {
   "cell_type": "code",
   "execution_count": 116,
   "id": "1b2a1915-0336-478f-94b2-b248fad04eb5",
   "metadata": {},
   "outputs": [
    {
     "data": {
      "text/plain": [
       "array([[3]])"
      ]
     },
     "execution_count": 116,
     "metadata": {},
     "output_type": "execute_result"
    }
   ],
   "source": [
    "np.argwhere(a==1)"
   ]
  },
  {
   "cell_type": "markdown",
   "id": "525fa8ba-6b42-47cb-8e2e-cd5f2c79cab7",
   "metadata": {},
   "source": [
    "`-` 2차원 "
   ]
  },
  {
   "cell_type": "code",
   "execution_count": 123,
   "id": "72ee7997-838e-4ed4-854e-b4a33a590e41",
   "metadata": {},
   "outputs": [
    {
     "data": {
      "text/plain": [
       "array([[ 0.38342049,  1.0841745 ,  1.14277825,  0.30789368],\n",
       "       [ 0.23778744,  0.35595116, -1.66307542, -1.38277318],\n",
       "       [-1.92684484, -1.4862163 ,  0.00692519, -0.03488725]])"
      ]
     },
     "execution_count": 123,
     "metadata": {},
     "output_type": "execute_result"
    }
   ],
   "source": [
    "np.random.seed(43052)\n",
    "a=np.random.randn(12).reshape(3,4)\n",
    "a"
   ]
  },
  {
   "cell_type": "code",
   "execution_count": 125,
   "id": "005eeec1-b436-4126-9f6a-7778ff4e2982",
   "metadata": {},
   "outputs": [
    {
     "data": {
      "text/plain": [
       "(array([1, 1, 2, 2, 2]), array([2, 3, 0, 1, 3]))"
      ]
     },
     "execution_count": 125,
     "metadata": {},
     "output_type": "execute_result"
    }
   ],
   "source": [
    "np.where(a<0) # 조건을 만족하는 인덱스가 (1,2), (1,3), (2,0), (2,1), (2,3) 이라는 의미"
   ]
  },
  {
   "cell_type": "code",
   "execution_count": 128,
   "id": "000eab9e-72fd-4d41-a4ba-11595780f630",
   "metadata": {},
   "outputs": [
    {
     "data": {
      "text/plain": [
       "array([[1, 2],\n",
       "       [1, 3],\n",
       "       [2, 0],\n",
       "       [2, 1],\n",
       "       [2, 3]])"
      ]
     },
     "execution_count": 128,
     "metadata": {},
     "output_type": "execute_result"
    }
   ],
   "source": [
    "np.argwhere(a<0) # 조건을 만족하는 인덱스가 (1,2), (1,3), (2,0), (2,1), (2,3) 이라는 의미"
   ]
  },
  {
   "cell_type": "code",
   "execution_count": 132,
   "id": "78b3aceb-8610-4ae2-89d2-6279e1c9aab4",
   "metadata": {},
   "outputs": [
    {
     "data": {
      "text/plain": [
       "array([-1.66307542, -1.38277318, -1.92684484, -1.4862163 , -0.03488725])"
      ]
     },
     "execution_count": 132,
     "metadata": {},
     "output_type": "execute_result"
    }
   ],
   "source": [
    "a[np.where(a<0)] # 조건을 만족하는 인덱스가 모두 출력 => 1차원 array로 출력 "
   ]
  },
  {
   "cell_type": "code",
   "execution_count": 133,
   "id": "b0984106-b89c-406c-8d88-c2f004df54b3",
   "metadata": {},
   "outputs": [
    {
     "ename": "IndexError",
     "evalue": "index 3 is out of bounds for axis 0 with size 3",
     "output_type": "error",
     "traceback": [
      "\u001b[0;31m---------------------------------------------------------------------------\u001b[0m",
      "\u001b[0;31mIndexError\u001b[0m                                Traceback (most recent call last)",
      "Input \u001b[0;32mIn [133]\u001b[0m, in \u001b[0;36m<cell line: 1>\u001b[0;34m()\u001b[0m\n\u001b[0;32m----> 1\u001b[0m \u001b[43ma\u001b[49m\u001b[43m[\u001b[49m\u001b[43mnp\u001b[49m\u001b[38;5;241;43m.\u001b[39;49m\u001b[43margwhere\u001b[49m\u001b[43m(\u001b[49m\u001b[43ma\u001b[49m\u001b[38;5;241;43m<\u001b[39;49m\u001b[38;5;241;43m0\u001b[39;49m\u001b[43m)\u001b[49m\u001b[43m]\u001b[49m\n",
      "\u001b[0;31mIndexError\u001b[0m: index 3 is out of bounds for axis 0 with size 3"
     ]
    }
   ],
   "source": [
    "a[np.argwhere(a<0)] # 출력불가능"
   ]
  },
  {
   "cell_type": "code",
   "execution_count": 139,
   "id": "06cedff2-57fa-4d83-b9ed-0b7b02e1c6e0",
   "metadata": {},
   "outputs": [
    {
     "data": {
      "text/plain": [
       "-1.6630754187023522"
      ]
     },
     "execution_count": 139,
     "metadata": {},
     "output_type": "execute_result"
    }
   ],
   "source": [
    "a[np.argwhere(a<0)[0][0],np.argwhere(a<0)[0][1]] # 어거지로 출력할수는 있음 "
   ]
  },
  {
   "cell_type": "markdown",
   "id": "365c119f-fcbd-432b-b9ba-186fbda6b733",
   "metadata": {},
   "source": [
    "`-` np.where의 특수기능 "
   ]
  },
  {
   "cell_type": "code",
   "execution_count": 142,
   "id": "924ac23e-feaf-4498-a704-aabc68d2ef73",
   "metadata": {},
   "outputs": [
    {
     "data": {
      "text/plain": [
       "array([[ 0.38342049,  1.0841745 ,  1.14277825,  0.30789368],\n",
       "       [ 0.23778744,  0.35595116, -1.66307542, -1.38277318],\n",
       "       [-1.92684484, -1.4862163 ,  0.00692519, -0.03488725]])"
      ]
     },
     "execution_count": 142,
     "metadata": {},
     "output_type": "execute_result"
    }
   ],
   "source": [
    "np.random.seed(43052) \n",
    "a=np.random.randn(12).reshape(3,4) \n",
    "a"
   ]
  },
  {
   "cell_type": "code",
   "execution_count": 145,
   "id": "a8e04be8-6535-49c1-a07c-9a091a54f36c",
   "metadata": {},
   "outputs": [
    {
     "data": {
      "text/plain": [
       "array([[0.38342049, 1.0841745 , 1.14277825, 0.30789368],\n",
       "       [0.23778744, 0.35595116, 0.        , 0.        ],\n",
       "       [0.        , 0.        , 0.00692519, 0.        ]])"
      ]
     },
     "execution_count": 145,
     "metadata": {},
     "output_type": "execute_result"
    }
   ],
   "source": [
    "np.where(a<0,0,a) # a<0을 체크 => 조건에 맞으면 0 => 조건에 안맞으면 a "
   ]
  },
  {
   "cell_type": "code",
   "execution_count": 147,
   "id": "0d2d1a47-b3c9-4239-8c90-a0a56a0064b5",
   "metadata": {},
   "outputs": [
    {
     "data": {
      "text/plain": [
       "array([[1, 1, 1, 1],\n",
       "       [1, 1, 0, 0],\n",
       "       [0, 0, 1, 0]])"
      ]
     },
     "execution_count": 147,
     "metadata": {},
     "output_type": "execute_result"
    }
   ],
   "source": [
    "np.where(a<0,0,1) # a<0을 체크 => 조건에 맞으면 0 => 조건에 안맞으면 1"
   ]
  },
  {
   "cell_type": "markdown",
   "id": "01bc0c10-1288-45d6-814d-0518d51cba2b",
   "metadata": {},
   "source": [
    "`-` 요약 \n",
    "- np.where: 인덱스의 좌표를 읽는 가독성은 떨어짐. 그런데 조건에 맞는 원소를 출력하거나 처리하는 (특수기능) 목적으로는 좋은 함수  \n",
    "- np.argwhere: 인덱스의 좌표를 읽는 가독성은 좋은 편임. 그런데 조건에 맞는 원소를 출력하거나 처리하는 기능은 떨어짐"
   ]
  },
  {
   "cell_type": "markdown",
   "id": "adc91d18-8e7c-4ab1-b40f-9c10e3abc8d4",
   "metadata": {},
   "source": [
    "#### 인덱싱고급 "
   ]
  },
  {
   "cell_type": "markdown",
   "id": "32704017-db45-4ebb-af9c-5484ad46dbf7",
   "metadata": {},
   "source": [
    "`-` 원래 a는 2d array"
   ]
  },
  {
   "cell_type": "code",
   "execution_count": 150,
   "id": "b777490d-8c21-42e9-9e1c-3352c5cc124f",
   "metadata": {},
   "outputs": [
    {
     "data": {
      "text/plain": [
       "array([[ 0,  1,  2,  3],\n",
       "       [ 4,  5,  6,  7],\n",
       "       [ 8,  9, 10, 11]])"
      ]
     },
     "execution_count": 150,
     "metadata": {},
     "output_type": "execute_result"
    }
   ],
   "source": [
    "a=np.arange(12).reshape(3,4)\n",
    "a"
   ]
  },
  {
   "cell_type": "markdown",
   "id": "105c7631-5d64-4130-9db4-441c236f8ac2",
   "metadata": {},
   "source": [
    "`-` 경우1: 인덱싱 결과가 1d array로 나올수 있음 "
   ]
  },
  {
   "cell_type": "code",
   "execution_count": 158,
   "id": "769bf937-9613-4a62-96d5-30526bddac3b",
   "metadata": {},
   "outputs": [
    {
     "data": {
      "text/plain": [
       "array([0, 1, 2, 3])"
      ]
     },
     "execution_count": 158,
     "metadata": {},
     "output_type": "execute_result"
    }
   ],
   "source": [
    "a[0,:] # 인덱싱의 결과 축의 갯수가 바뀐다! 2d array -> 1d array"
   ]
  },
  {
   "cell_type": "markdown",
   "id": "471de9d0-acd0-41d2-a5b6-c58c168d3da9",
   "metadata": {},
   "source": [
    "`-` 경우2: 물론 인덱싱 결과가 2d array로 나올 수도 있음 "
   ]
  },
  {
   "cell_type": "code",
   "execution_count": 159,
   "id": "5cbe8387-2e87-417a-8c71-911ecfa5fb48",
   "metadata": {},
   "outputs": [
    {
     "data": {
      "text/plain": [
       "array([[0, 1, 2, 3],\n",
       "       [4, 5, 6, 7]])"
      ]
     },
     "execution_count": 159,
     "metadata": {},
     "output_type": "execute_result"
    }
   ],
   "source": [
    "a[[0,1],:] # 이것은 축의 숫자가 유지된다. 2d array -> 2d array "
   ]
  },
  {
   "cell_type": "markdown",
   "id": "6afd8b4e-40cf-4a54-a1ca-75f1f9fdb8d6",
   "metadata": {},
   "source": [
    "`-` 경우1의 상황에서도 축의 갯수를 유지하면서 인덱싱하려면? "
   ]
  },
  {
   "cell_type": "code",
   "execution_count": 161,
   "id": "622bbb0a-4e62-4403-b3e7-98ff8ade906f",
   "metadata": {},
   "outputs": [
    {
     "data": {
      "text/plain": [
       "array([[0, 1, 2, 3]])"
      ]
     },
     "execution_count": 161,
     "metadata": {},
     "output_type": "execute_result"
    }
   ],
   "source": [
    "a[[0],:] # 이번에는 인덱싱의 결과 축의 갯수가 유지된다! 2d array -> 2d array"
   ]
  },
  {
   "cell_type": "code",
   "execution_count": 163,
   "id": "ecd84a31-7bdd-40e8-b99d-d093b9452735",
   "metadata": {},
   "outputs": [
    {
     "data": {
      "text/plain": [
       "array([[0],\n",
       "       [4],\n",
       "       [8]])"
      ]
     },
     "execution_count": 163,
     "metadata": {},
     "output_type": "execute_result"
    }
   ],
   "source": [
    "a[:,[0]] #"
   ]
  },
  {
   "cell_type": "markdown",
   "id": "17f6838b-d791-481d-ae31-b2d94882c65c",
   "metadata": {},
   "source": [
    "`-` 미묘한 차이를 이해할것 "
   ]
  },
  {
   "cell_type": "code",
   "execution_count": 164,
   "id": "6edb4500-290e-4180-9b97-5f2f53bcccb7",
   "metadata": {},
   "outputs": [
    {
     "data": {
      "text/plain": [
       "(array([0, 1, 2, 3]), array([[0, 1, 2, 3]]))"
      ]
     },
     "execution_count": 164,
     "metadata": {},
     "output_type": "execute_result"
    }
   ],
   "source": [
    "a[0,:], a[[0],:]"
   ]
  },
  {
   "cell_type": "code",
   "execution_count": 165,
   "id": "59f0151e-4b5b-4f59-8eb0-e7bb62a75454",
   "metadata": {},
   "outputs": [
    {
     "data": {
      "text/plain": [
       "(array([0, 4, 8]),\n",
       " array([[0],\n",
       "        [4],\n",
       "        [8]]))"
      ]
     },
     "execution_count": 165,
     "metadata": {},
     "output_type": "execute_result"
    }
   ],
   "source": [
    "a[:,0], a[:,[0]]"
   ]
  },
  {
   "cell_type": "markdown",
   "id": "47c9b335-c172-4c41-9d46-e446a422c63a",
   "metadata": {},
   "source": [
    "#### np.ix_ "
   ]
  },
  {
   "cell_type": "markdown",
   "id": "b3e575a1-6c52-46f9-a7a1-70db646b205b",
   "metadata": {},
   "source": [
    "`-` 아래의 인덱싱을 비교하자. "
   ]
  },
  {
   "cell_type": "code",
   "execution_count": 166,
   "id": "58db27ff-ec41-43e0-ac75-f2fb2f38f4cb",
   "metadata": {},
   "outputs": [
    {
     "data": {
      "text/plain": [
       "array([[ 0,  1,  2,  3],\n",
       "       [ 4,  5,  6,  7],\n",
       "       [ 8,  9, 10, 11]])"
      ]
     },
     "execution_count": 166,
     "metadata": {},
     "output_type": "execute_result"
    }
   ],
   "source": [
    "a=np.arange(12).reshape(3,4)\n",
    "a"
   ]
  },
  {
   "cell_type": "code",
   "execution_count": 167,
   "id": "bfc46c5e-b951-4ed4-ae75-91ddd676b0ae",
   "metadata": {},
   "outputs": [
    {
     "data": {
      "text/plain": [
       "array([[0, 1],\n",
       "       [4, 5]])"
      ]
     },
     "execution_count": 167,
     "metadata": {},
     "output_type": "execute_result"
    }
   ],
   "source": [
    "a[0:2,0:2]"
   ]
  },
  {
   "cell_type": "code",
   "execution_count": 168,
   "id": "e6b379e3-eb16-4283-b245-c0eb9bedcd54",
   "metadata": {},
   "outputs": [
    {
     "data": {
      "text/plain": [
       "array([[0, 1],\n",
       "       [4, 5]])"
      ]
     },
     "execution_count": 168,
     "metadata": {},
     "output_type": "execute_result"
    }
   ],
   "source": [
    "a[[0,1],0:2]"
   ]
  },
  {
   "cell_type": "code",
   "execution_count": 169,
   "id": "d057d0b1-8a56-46e4-b934-c7bafc010e50",
   "metadata": {},
   "outputs": [
    {
     "data": {
      "text/plain": [
       "array([[0, 1],\n",
       "       [4, 5]])"
      ]
     },
     "execution_count": 169,
     "metadata": {},
     "output_type": "execute_result"
    }
   ],
   "source": [
    "a[0:2,[0,1]]"
   ]
  },
  {
   "cell_type": "markdown",
   "id": "3e845090-0749-4800-ad9b-82754b120ecb",
   "metadata": {},
   "source": [
    "`-` 언뜻 생각하면 위의 결과와 `a[[0,1],[0,1]]`는 결과가 동일할 것 같다.  "
   ]
  },
  {
   "cell_type": "code",
   "execution_count": 170,
   "id": "75f08ed6-94db-4b38-8d79-c03099098b58",
   "metadata": {},
   "outputs": [
    {
     "data": {
      "text/plain": [
       "array([0, 5])"
      ]
     },
     "execution_count": 170,
     "metadata": {},
     "output_type": "execute_result"
    }
   ],
   "source": [
    "a[[0,1],[0,1]]"
   ]
  },
  {
   "cell_type": "markdown",
   "id": "99b66237-9dce-4e5f-8704-5f62694c4dba",
   "metadata": {},
   "source": [
    "- 실제로는 [a[0,0],a[1,1]]이 array로 나옴 "
   ]
  },
  {
   "cell_type": "markdown",
   "id": "9df7bf89-be54-49e7-84e3-966d81412e78",
   "metadata": {},
   "source": [
    "`-` 사실 np.where에서 이미 관찰하였음 "
   ]
  },
  {
   "cell_type": "code",
   "execution_count": 172,
   "id": "487a1144-6c40-46a7-8c0d-0fa565d52060",
   "metadata": {},
   "outputs": [
    {
     "data": {
      "text/plain": [
       "array([[ 0,  1,  2,  3],\n",
       "       [ 4,  5,  6,  7],\n",
       "       [ 8,  9, 10, 11]])"
      ]
     },
     "execution_count": 172,
     "metadata": {},
     "output_type": "execute_result"
    }
   ],
   "source": [
    "a"
   ]
  },
  {
   "cell_type": "code",
   "execution_count": 171,
   "id": "9295ee00-2c46-4dc9-b5ba-a269cfeea0c5",
   "metadata": {},
   "outputs": [
    {
     "data": {
      "text/plain": [
       "(array([0, 1, 2]), array([0, 1, 2]))"
      ]
     },
     "execution_count": 171,
     "metadata": {},
     "output_type": "execute_result"
    }
   ],
   "source": [
    "np.where(a % 5 ==0)"
   ]
  },
  {
   "cell_type": "code",
   "execution_count": 173,
   "id": "87652d93-b5d6-4800-85a5-dd4c441f5854",
   "metadata": {},
   "outputs": [
    {
     "data": {
      "text/plain": [
       "array([ 0,  5, 10])"
      ]
     },
     "execution_count": 173,
     "metadata": {},
     "output_type": "execute_result"
    }
   ],
   "source": [
    "a[np.where(a % 5 ==0)]"
   ]
  },
  {
   "cell_type": "code",
   "execution_count": 175,
   "id": "8a25e2a8-84fd-4a06-87a5-55b51ae01620",
   "metadata": {},
   "outputs": [
    {
     "data": {
      "text/plain": [
       "array([ 0,  5, 10])"
      ]
     },
     "execution_count": 175,
     "metadata": {},
     "output_type": "execute_result"
    }
   ],
   "source": [
    "a[[0, 1, 2],[0, 1, 2]]"
   ]
  },
  {
   "cell_type": "markdown",
   "id": "0f9ecd55-a7dc-4698-a35c-7d142c58b1c1",
   "metadata": {},
   "source": [
    "`-` a[[0,1],[0,1]]이 a[0:2,0:2]를 의미하게 하려면 아래와 같이 하면 된다. "
   ]
  },
  {
   "cell_type": "code",
   "execution_count": 178,
   "id": "2f6ffe88-f473-4ffc-a8ce-e8c8fdbb55d6",
   "metadata": {},
   "outputs": [
    {
     "data": {
      "text/plain": [
       "array([[0, 1],\n",
       "       [4, 5]])"
      ]
     },
     "execution_count": 178,
     "metadata": {},
     "output_type": "execute_result"
    }
   ],
   "source": [
    "a[np.ix_([0,1],[0,1])] # 유용해보이지만 생각보다 잘 쓰이는건 아님 "
   ]
  },
  {
   "cell_type": "markdown",
   "id": "b8ab3527-c021-49f5-9b10-ba41e25303f1",
   "metadata": {},
   "source": [
    "### 숙제"
   ]
  },
  {
   "cell_type": "code",
   "execution_count": 180,
   "id": "5774632b-0a8b-4d85-8bd2-41a6384043fd",
   "metadata": {},
   "outputs": [
    {
     "data": {
      "text/plain": [
       "array([1.42531485, 1.54567744, 1.44735207, 1.33217747, 1.48856969,\n",
       "       1.47329978, 1.38976795, 1.30469965, 1.66634909, 1.65330027])"
      ]
     },
     "execution_count": 180,
     "metadata": {},
     "output_type": "execute_result"
    }
   ],
   "source": [
    "np.random.uniform(low=1.3,high=1.7,size=(10,))"
   ]
  },
  {
   "cell_type": "markdown",
   "id": "cff09119-4c09-4c30-a2db-1905b70ba79c",
   "metadata": {},
   "source": [
    "위와 같은코드를 np.random.rand()를 이용하여 구현하라. "
   ]
  }
 ],
 "metadata": {
  "kernelspec": {
   "display_name": "Python 3 (ipykernel)",
   "language": "python",
   "name": "python3"
  },
  "language_info": {
   "codemirror_mode": {
    "name": "ipython",
    "version": 3
   },
   "file_extension": ".py",
   "mimetype": "text/x-python",
   "name": "python",
   "nbconvert_exporter": "python",
   "pygments_lexer": "ipython3",
   "version": "3.9.0"
  }
 },
 "nbformat": 4,
 "nbformat_minor": 5
}
