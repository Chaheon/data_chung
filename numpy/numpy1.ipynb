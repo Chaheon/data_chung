{
 "cells": [
  {
   "cell_type": "markdown",
   "id": "fd08302d-3de1-4c2e-8a30-c386e8f3b5d6",
   "metadata": {},
   "source": [
    "### 강의영상 "
   ]
  },
  {
   "cell_type": "markdown",
   "id": "0e9c8f34-f7af-4621-a516-e206525caa97",
   "metadata": {},
   "source": [
    "> youtube: https://youtube.com/playlist?list=PLQqh36zP38-zaw-dCrB3YG7QJUInlJ0P7"
   ]
  },
  {
   "cell_type": "markdown",
   "id": "9c85f39a-5594-4a37-8a90-d80393816701",
   "metadata": {},
   "source": [
    "`-` (1/5) 넘파이공부 1단계: 선언, 기본연산 브로드캐스팅, 기타수학연산지원 \n",
    "\n",
    "`-` (2/5) 넘파이공부 2단계: 인덱싱1차원, 인덱싱2차원\n",
    "\n",
    "`-` (3/5) 넘파이공부 2단계: 1차원 배열의 선언 \n",
    "\n",
    "`-` (4/5) 넘파이공부 2단계: reshape \n",
    "\n",
    "`-` (5/5) 넘파이공부 2단계: 2차원 배열의 선언, 랜덤으로 배열 생성, 행렬관련기능 "
   ]
  },
  {
   "cell_type": "markdown",
   "id": "1d88c710-3c9e-4d48-9318-3440b4fb0c61",
   "metadata": {
    "tags": []
   },
   "source": [
    "### import "
   ]
  },
  {
   "cell_type": "code",
   "execution_count": 1,
   "id": "d5ee9edb-3e6b-4fd5-9af3-eeca342ba34f",
   "metadata": {},
   "outputs": [],
   "source": [
    "import numpy as np"
   ]
  },
  {
   "cell_type": "markdown",
   "id": "860a5fd5-6870-4b40-960b-6645681d362b",
   "metadata": {},
   "source": [
    "### 넘파이 공부 1단계 "
   ]
  },
  {
   "cell_type": "markdown",
   "id": "6abe0b3c-d8e8-4308-95aa-8f9d28eceb99",
   "metadata": {},
   "source": [
    "#### 선언 "
   ]
  },
  {
   "cell_type": "code",
   "execution_count": 12,
   "id": "b467755e-f0b0-4b82-88d8-03a4d7b1a922",
   "metadata": {},
   "outputs": [],
   "source": [
    "a=np.array([1,2,3]) # list를 만들고 ndarray화 시킴 \n",
    "l=[1,2,3]"
   ]
  },
  {
   "cell_type": "markdown",
   "id": "1ba6e87f-34a3-4732-a155-a8ac9334aaff",
   "metadata": {},
   "source": [
    "#### 기본연산 브로드캐스팅 "
   ]
  },
  {
   "cell_type": "code",
   "execution_count": 15,
   "id": "88af4b4c-b45e-495b-9bdc-be42a08ec474",
   "metadata": {},
   "outputs": [
    {
     "data": {
      "text/plain": [
       "array([2, 3, 4])"
      ]
     },
     "execution_count": 15,
     "metadata": {},
     "output_type": "execute_result"
    }
   ],
   "source": [
    "a+1 ## [1,2,3] + 1 = [2,3,4]"
   ]
  },
  {
   "cell_type": "code",
   "execution_count": 16,
   "id": "6ae8c255-8347-4591-9951-efc551314184",
   "metadata": {},
   "outputs": [
    {
     "ename": "TypeError",
     "evalue": "can only concatenate list (not \"int\") to list",
     "output_type": "error",
     "traceback": [
      "\u001b[0;31m---------------------------------------------------------------------------\u001b[0m",
      "\u001b[0;31mTypeError\u001b[0m                                 Traceback (most recent call last)",
      "Input \u001b[0;32mIn [16]\u001b[0m, in \u001b[0;36m<cell line: 1>\u001b[0;34m()\u001b[0m\n\u001b[0;32m----> 1\u001b[0m \u001b[43ml\u001b[49m\u001b[38;5;241;43m+\u001b[39;49m\u001b[38;5;241;43m1\u001b[39;49m\n",
      "\u001b[0;31mTypeError\u001b[0m: can only concatenate list (not \"int\") to list"
     ]
    }
   ],
   "source": [
    "l+1"
   ]
  },
  {
   "cell_type": "code",
   "execution_count": 21,
   "id": "9b29990a-f04a-4144-a25d-b2060ef7708f",
   "metadata": {},
   "outputs": [
    {
     "data": {
      "text/plain": [
       "array([2, 4, 6])"
      ]
     },
     "execution_count": 21,
     "metadata": {},
     "output_type": "execute_result"
    }
   ],
   "source": [
    "a*2"
   ]
  },
  {
   "cell_type": "code",
   "execution_count": 22,
   "id": "0650ab1b-f9bc-48e5-8768-51395d060035",
   "metadata": {},
   "outputs": [
    {
     "data": {
      "text/plain": [
       "[1, 2, 3, 1, 2, 3]"
      ]
     },
     "execution_count": 22,
     "metadata": {},
     "output_type": "execute_result"
    }
   ],
   "source": [
    "l*2"
   ]
  },
  {
   "cell_type": "code",
   "execution_count": 23,
   "id": "c1f8d021-c1d5-404f-8823-a7b03bd67841",
   "metadata": {},
   "outputs": [
    {
     "data": {
      "text/plain": [
       "array([0.5, 1. , 1.5])"
      ]
     },
     "execution_count": 23,
     "metadata": {},
     "output_type": "execute_result"
    }
   ],
   "source": [
    "a/2"
   ]
  },
  {
   "cell_type": "code",
   "execution_count": 24,
   "id": "f30b58f0-97f2-4ff4-8c62-e961b5b12aea",
   "metadata": {},
   "outputs": [
    {
     "ename": "TypeError",
     "evalue": "unsupported operand type(s) for /: 'list' and 'int'",
     "output_type": "error",
     "traceback": [
      "\u001b[0;31m---------------------------------------------------------------------------\u001b[0m",
      "\u001b[0;31mTypeError\u001b[0m                                 Traceback (most recent call last)",
      "Input \u001b[0;32mIn [24]\u001b[0m, in \u001b[0;36m<cell line: 1>\u001b[0;34m()\u001b[0m\n\u001b[0;32m----> 1\u001b[0m \u001b[43ml\u001b[49m\u001b[38;5;241;43m/\u001b[39;49m\u001b[38;5;241;43m2\u001b[39;49m\n",
      "\u001b[0;31mTypeError\u001b[0m: unsupported operand type(s) for /: 'list' and 'int'"
     ]
    }
   ],
   "source": [
    "l/2"
   ]
  },
  {
   "cell_type": "code",
   "execution_count": 25,
   "id": "ff6d4260-4e98-4b94-9afd-8bbcf7b5fca2",
   "metadata": {},
   "outputs": [
    {
     "data": {
      "text/plain": [
       "array([1, 4, 9])"
      ]
     },
     "execution_count": 25,
     "metadata": {},
     "output_type": "execute_result"
    }
   ],
   "source": [
    "a**2"
   ]
  },
  {
   "cell_type": "code",
   "execution_count": 26,
   "id": "f0da938f-7e69-4cdb-8a37-4d950c302baf",
   "metadata": {},
   "outputs": [
    {
     "ename": "TypeError",
     "evalue": "unsupported operand type(s) for ** or pow(): 'list' and 'int'",
     "output_type": "error",
     "traceback": [
      "\u001b[0;31m---------------------------------------------------------------------------\u001b[0m",
      "\u001b[0;31mTypeError\u001b[0m                                 Traceback (most recent call last)",
      "Input \u001b[0;32mIn [26]\u001b[0m, in \u001b[0;36m<cell line: 1>\u001b[0;34m()\u001b[0m\n\u001b[0;32m----> 1\u001b[0m \u001b[43ml\u001b[49m\u001b[38;5;241;43m*\u001b[39;49m\u001b[38;5;241;43m*\u001b[39;49m\u001b[38;5;241;43m2\u001b[39;49m\n",
      "\u001b[0;31mTypeError\u001b[0m: unsupported operand type(s) for ** or pow(): 'list' and 'int'"
     ]
    }
   ],
   "source": [
    "l**2"
   ]
  },
  {
   "cell_type": "code",
   "execution_count": 34,
   "id": "826c09db-8c0b-4656-8519-f87a94ab1489",
   "metadata": {},
   "outputs": [
    {
     "data": {
      "text/plain": [
       "array([1, 0, 1])"
      ]
     },
     "execution_count": 34,
     "metadata": {},
     "output_type": "execute_result"
    }
   ],
   "source": [
    "a%2 # %2 = 2로 나눈 나머지를 리턴 a=[1,2,3] "
   ]
  },
  {
   "cell_type": "code",
   "execution_count": 35,
   "id": "9427f05f-702a-40aa-9e76-be2f52a4b7bb",
   "metadata": {},
   "outputs": [
    {
     "ename": "TypeError",
     "evalue": "unsupported operand type(s) for %: 'list' and 'int'",
     "output_type": "error",
     "traceback": [
      "\u001b[0;31m---------------------------------------------------------------------------\u001b[0m",
      "\u001b[0;31mTypeError\u001b[0m                                 Traceback (most recent call last)",
      "Input \u001b[0;32mIn [35]\u001b[0m, in \u001b[0;36m<cell line: 1>\u001b[0;34m()\u001b[0m\n\u001b[0;32m----> 1\u001b[0m \u001b[43ml\u001b[49m\u001b[38;5;241;43m%\u001b[39;49m\u001b[38;5;241;43m2\u001b[39;49m\n",
      "\u001b[0;31mTypeError\u001b[0m: unsupported operand type(s) for %: 'list' and 'int'"
     ]
    }
   ],
   "source": [
    "l%2"
   ]
  },
  {
   "cell_type": "markdown",
   "id": "66eb5ef2-5478-4733-9268-699d1ee48714",
   "metadata": {},
   "source": [
    "#### 기타수학연산지원 "
   ]
  },
  {
   "cell_type": "code",
   "execution_count": 38,
   "id": "87cf63b2-2c2f-4e32-b618-1dd3bd5c6726",
   "metadata": {},
   "outputs": [
    {
     "data": {
      "text/plain": [
       "(array([1.        , 1.41421356, 1.73205081]),\n",
       " array([1.        , 1.41421356, 1.73205081]))"
      ]
     },
     "execution_count": 38,
     "metadata": {},
     "output_type": "execute_result"
    }
   ],
   "source": [
    "np.sqrt(a), np.sqrt(l)"
   ]
  },
  {
   "cell_type": "code",
   "execution_count": 39,
   "id": "8be7d93e-3ea2-4b00-af5b-fa3aeabc75fa",
   "metadata": {},
   "outputs": [
    {
     "data": {
      "text/plain": [
       "(array([0.        , 0.69314718, 1.09861229]),\n",
       " array([0.        , 0.69314718, 1.09861229]))"
      ]
     },
     "execution_count": 39,
     "metadata": {},
     "output_type": "execute_result"
    }
   ],
   "source": [
    "np.log(a), np.log(l)"
   ]
  },
  {
   "cell_type": "code",
   "execution_count": 41,
   "id": "ca07c702-4451-41b4-89c3-18df9d9af6e4",
   "metadata": {},
   "outputs": [
    {
     "data": {
      "text/plain": [
       "(array([ 2.71828183,  7.3890561 , 20.08553692]),\n",
       " array([ 2.71828183,  7.3890561 , 20.08553692]))"
      ]
     },
     "execution_count": 41,
     "metadata": {},
     "output_type": "execute_result"
    }
   ],
   "source": [
    "np.exp(a), np.exp(l)"
   ]
  },
  {
   "cell_type": "code",
   "execution_count": 42,
   "id": "b10af6ac-0e26-4ebc-96d7-4dceb937c29d",
   "metadata": {},
   "outputs": [
    {
     "data": {
      "text/plain": [
       "(array([0.84147098, 0.90929743, 0.14112001]),\n",
       " array([0.84147098, 0.90929743, 0.14112001]))"
      ]
     },
     "execution_count": 42,
     "metadata": {},
     "output_type": "execute_result"
    }
   ],
   "source": [
    "np.sin(a), np.sin(l)"
   ]
  },
  {
   "cell_type": "markdown",
   "id": "6e135b5e-1457-4d8d-8895-9389fc42cda7",
   "metadata": {},
   "source": [
    "### 넘파이 공부 2단계 "
   ]
  },
  {
   "cell_type": "markdown",
   "id": "701a3eb7-2402-45e3-bf40-d6427d6ba736",
   "metadata": {},
   "source": [
    "#### 인덱싱 1차원 "
   ]
  },
  {
   "cell_type": "markdown",
   "id": "3b84111b-84a5-4f9b-b375-419a572fd278",
   "metadata": {},
   "source": [
    "`-` 선언 "
   ]
  },
  {
   "cell_type": "code",
   "execution_count": 43,
   "id": "f07d98e7-5971-49e4-baca-330226922248",
   "metadata": {},
   "outputs": [],
   "source": [
    "l=[11,22,33,44,55,66] \n",
    "a=np.array(l) "
   ]
  },
  {
   "cell_type": "markdown",
   "id": "72103f11-4706-494b-a30b-fd0e64f37ea2",
   "metadata": {},
   "source": [
    "`-` 인덱스로 접근 "
   ]
  },
  {
   "cell_type": "code",
   "execution_count": 50,
   "id": "addfcd58-a408-4410-ad18-ec56a6dc4b80",
   "metadata": {},
   "outputs": [
    {
     "data": {
      "text/plain": [
       "(11, 22, 33, 44, 55, 66)"
      ]
     },
     "execution_count": 50,
     "metadata": {},
     "output_type": "execute_result"
    }
   ],
   "source": [
    "l[0],l[1],l[2],l[3],l[-2],l[-1]"
   ]
  },
  {
   "cell_type": "code",
   "execution_count": 51,
   "id": "8d7e8f7b-decf-4ed9-ac67-34f3c40e2333",
   "metadata": {},
   "outputs": [
    {
     "data": {
      "text/plain": [
       "(11, 22, 33, 44, 55, 66)"
      ]
     },
     "execution_count": 51,
     "metadata": {},
     "output_type": "execute_result"
    }
   ],
   "source": [
    "a[0],a[1],a[2],a[3],a[-2],a[-1]"
   ]
  },
  {
   "cell_type": "markdown",
   "id": "98fbde4c-5869-48d7-9614-42dee89b0d82",
   "metadata": {},
   "source": [
    "`-` `:` 이용 (슬라이싱)"
   ]
  },
  {
   "cell_type": "code",
   "execution_count": 53,
   "id": "edcfd24e-d5fa-4e5a-867b-7f63d1cca483",
   "metadata": {},
   "outputs": [
    {
     "data": {
      "text/plain": [
       "[33, 44]"
      ]
     },
     "execution_count": 53,
     "metadata": {},
     "output_type": "execute_result"
    }
   ],
   "source": [
    "l[2:4] # index 2에서 시작, index 4는 포함하지 않음 "
   ]
  },
  {
   "cell_type": "code",
   "execution_count": 54,
   "id": "40f0b7d4-75a7-41e0-a4ca-96ba61d3b13a",
   "metadata": {},
   "outputs": [
    {
     "data": {
      "text/plain": [
       "array([33, 44])"
      ]
     },
     "execution_count": 54,
     "metadata": {},
     "output_type": "execute_result"
    }
   ],
   "source": [
    "a[2:4] "
   ]
  },
  {
   "cell_type": "markdown",
   "id": "c088a2c7-1ae8-4848-aa52-494351a4780d",
   "metadata": {},
   "source": [
    "`-` 정수배열에 의한 인덱싱 "
   ]
  },
  {
   "cell_type": "code",
   "execution_count": 65,
   "id": "de666763-b80d-4a23-aaa5-7909a0cbc66b",
   "metadata": {},
   "outputs": [
    {
     "data": {
      "text/plain": [
       "array([11, 22, 33, 44, 55, 66])"
      ]
     },
     "execution_count": 65,
     "metadata": {},
     "output_type": "execute_result"
    }
   ],
   "source": [
    "a"
   ]
  },
  {
   "cell_type": "code",
   "execution_count": 66,
   "id": "176e4170-7e76-4082-b64a-32c72547bd32",
   "metadata": {},
   "outputs": [
    {
     "data": {
      "text/plain": [
       "array([11, 33, 55])"
      ]
     },
     "execution_count": 66,
     "metadata": {},
     "output_type": "execute_result"
    }
   ],
   "source": [
    "a[[0,2,4]] # index=0, index=2, index=4 에 해당하는 원소를 뽑고 싶다 "
   ]
  },
  {
   "cell_type": "code",
   "execution_count": 67,
   "id": "32857589-8f6b-451f-aaa0-195cb87a5586",
   "metadata": {},
   "outputs": [
    {
     "ename": "TypeError",
     "evalue": "list indices must be integers or slices, not list",
     "output_type": "error",
     "traceback": [
      "\u001b[0;31m---------------------------------------------------------------------------\u001b[0m",
      "\u001b[0;31mTypeError\u001b[0m                                 Traceback (most recent call last)",
      "Input \u001b[0;32mIn [67]\u001b[0m, in \u001b[0;36m<cell line: 1>\u001b[0;34m()\u001b[0m\n\u001b[0;32m----> 1\u001b[0m \u001b[43ml\u001b[49m\u001b[43m[\u001b[49m\u001b[43m[\u001b[49m\u001b[38;5;241;43m0\u001b[39;49m\u001b[43m,\u001b[49m\u001b[38;5;241;43m2\u001b[39;49m\u001b[43m,\u001b[49m\u001b[38;5;241;43m4\u001b[39;49m\u001b[43m]\u001b[49m\u001b[43m]\u001b[49m\n",
      "\u001b[0;31mTypeError\u001b[0m: list indices must be integers or slices, not list"
     ]
    }
   ],
   "source": [
    "l[[0,2,4]] # 리스트는 불가능 "
   ]
  },
  {
   "cell_type": "markdown",
   "id": "48497b3d-a821-4cac-8502-a588ee961bc6",
   "metadata": {},
   "source": [
    "`-` 부울값에 의한 인덱싱 "
   ]
  },
  {
   "cell_type": "code",
   "execution_count": 69,
   "id": "6669a10e-3d16-4691-9c2a-46bd8c18cc61",
   "metadata": {},
   "outputs": [
    {
     "data": {
      "text/plain": [
       "array([11, 22, 33, 44, 55, 66])"
      ]
     },
     "execution_count": 69,
     "metadata": {},
     "output_type": "execute_result"
    }
   ],
   "source": [
    "a"
   ]
  },
  {
   "cell_type": "code",
   "execution_count": 70,
   "id": "779969ab-9462-4fc4-bb44-4a8bc2a734d1",
   "metadata": {},
   "outputs": [
    {
     "data": {
      "text/plain": [
       "array([11, 33, 55])"
      ]
     },
     "execution_count": 70,
     "metadata": {},
     "output_type": "execute_result"
    }
   ],
   "source": [
    "a[[True,False,True,False,True,False]] "
   ]
  },
  {
   "cell_type": "markdown",
   "id": "e53696fe-57f3-4d19-804a-7e8ec144c849",
   "metadata": {},
   "source": [
    "응용하면? "
   ]
  },
  {
   "cell_type": "code",
   "execution_count": 72,
   "id": "4ac5b952-39f5-4c3d-ba37-50a07b8784df",
   "metadata": {},
   "outputs": [
    {
     "data": {
      "text/plain": [
       "array([ True,  True, False, False, False, False])"
      ]
     },
     "execution_count": 72,
     "metadata": {},
     "output_type": "execute_result"
    }
   ],
   "source": [
    "a < 33 "
   ]
  },
  {
   "cell_type": "code",
   "execution_count": 75,
   "id": "2cf5ca43-55fc-479a-b365-dd54eda0aa9d",
   "metadata": {},
   "outputs": [
    {
     "data": {
      "text/plain": [
       "array([11, 22])"
      ]
     },
     "execution_count": 75,
     "metadata": {},
     "output_type": "execute_result"
    }
   ],
   "source": [
    "a[a<33]"
   ]
  },
  {
   "cell_type": "markdown",
   "id": "ec5af240-801d-46b8-a07e-4f0de901325b",
   "metadata": {},
   "source": [
    "리스트는 불가능 "
   ]
  },
  {
   "cell_type": "code",
   "execution_count": 79,
   "id": "a075c47a-32b3-4f0a-8219-da337310ea49",
   "metadata": {},
   "outputs": [
    {
     "ename": "TypeError",
     "evalue": "'<' not supported between instances of 'list' and 'int'",
     "output_type": "error",
     "traceback": [
      "\u001b[0;31m---------------------------------------------------------------------------\u001b[0m",
      "\u001b[0;31mTypeError\u001b[0m                                 Traceback (most recent call last)",
      "Input \u001b[0;32mIn [79]\u001b[0m, in \u001b[0;36m<cell line: 1>\u001b[0;34m()\u001b[0m\n\u001b[0;32m----> 1\u001b[0m \u001b[43ml\u001b[49m\u001b[38;5;241;43m<\u001b[39;49m\u001b[38;5;241;43m33\u001b[39;49m\n",
      "\u001b[0;31mTypeError\u001b[0m: '<' not supported between instances of 'list' and 'int'"
     ]
    }
   ],
   "source": [
    "l<33 # 여기에서부터 불가능 "
   ]
  },
  {
   "cell_type": "code",
   "execution_count": 78,
   "id": "7f2b4684-8176-4d3d-b4c3-f989549d8f96",
   "metadata": {},
   "outputs": [
    {
     "ename": "TypeError",
     "evalue": "list indices must be integers or slices, not list",
     "output_type": "error",
     "traceback": [
      "\u001b[0;31m---------------------------------------------------------------------------\u001b[0m",
      "\u001b[0;31mTypeError\u001b[0m                                 Traceback (most recent call last)",
      "Input \u001b[0;32mIn [78]\u001b[0m, in \u001b[0;36m<cell line: 1>\u001b[0;34m()\u001b[0m\n\u001b[0;32m----> 1\u001b[0m \u001b[43ml\u001b[49m\u001b[43m[\u001b[49m\u001b[43m[\u001b[49m\u001b[38;5;28;43;01mTrue\u001b[39;49;00m\u001b[43m,\u001b[49m\u001b[38;5;28;43;01mFalse\u001b[39;49;00m\u001b[43m,\u001b[49m\u001b[38;5;28;43;01mTrue\u001b[39;49;00m\u001b[43m,\u001b[49m\u001b[38;5;28;43;01mFalse\u001b[39;49;00m\u001b[43m,\u001b[49m\u001b[38;5;28;43;01mTrue\u001b[39;49;00m\u001b[43m,\u001b[49m\u001b[38;5;28;43;01mFalse\u001b[39;49;00m\u001b[43m]\u001b[49m\u001b[43m]\u001b[49m\n",
      "\u001b[0;31mTypeError\u001b[0m: list indices must be integers or slices, not list"
     ]
    }
   ],
   "source": [
    "l[[True,False,True,False,True,False]] # 이것도 불가능 "
   ]
  },
  {
   "cell_type": "markdown",
   "id": "610ca594-7c62-45e2-a4ce-00aaa12ca52e",
   "metadata": {},
   "source": [
    "#### 인덱싱 2차원 "
   ]
  },
  {
   "cell_type": "markdown",
   "id": "fb145ce9-1cbe-4de8-a513-33365a3093bf",
   "metadata": {},
   "source": [
    "`-` 중첩리스트와 2차원 np.array 선언 "
   ]
  },
  {
   "cell_type": "code",
   "execution_count": 81,
   "id": "b194b44e-5ba6-4daa-b324-7055269adbf5",
   "metadata": {},
   "outputs": [],
   "source": [
    "A = [[1,2,3,4],[-1,-2,-3,-4],[5,6,7,8],[-5,-6,-7,-8]]\n",
    "A2 = np.array(A)"
   ]
  },
  {
   "cell_type": "code",
   "execution_count": 82,
   "id": "38f42c2b-1817-4097-ba0e-7e47dd7ce2e5",
   "metadata": {},
   "outputs": [
    {
     "data": {
      "text/plain": [
       "array([[ 1,  2,  3,  4],\n",
       "       [-1, -2, -3, -4],\n",
       "       [ 5,  6,  7,  8],\n",
       "       [-5, -6, -7, -8]])"
      ]
     },
     "execution_count": 82,
     "metadata": {},
     "output_type": "execute_result"
    }
   ],
   "source": [
    "A2"
   ]
  },
  {
   "cell_type": "code",
   "execution_count": 83,
   "id": "f5bf97b5-429f-4231-a1df-ae0e44205b31",
   "metadata": {},
   "outputs": [
    {
     "data": {
      "text/plain": [
       "[[1, 2, 3, 4], [-1, -2, -3, -4], [5, 6, 7, 8], [-5, -6, -7, -8]]"
      ]
     },
     "execution_count": 83,
     "metadata": {},
     "output_type": "execute_result"
    }
   ],
   "source": [
    "A"
   ]
  },
  {
   "cell_type": "markdown",
   "id": "906867c5-c85c-4eb8-b8fb-98204bfb7abd",
   "metadata": {},
   "source": [
    "`-` A의 원소 인덱싱 "
   ]
  },
  {
   "cell_type": "code",
   "execution_count": 88,
   "id": "171326f0-86ea-42c5-9d85-7ab52c0a2bab",
   "metadata": {},
   "outputs": [
    {
     "data": {
      "text/plain": [
       "1"
      ]
     },
     "execution_count": 88,
     "metadata": {},
     "output_type": "execute_result"
    }
   ],
   "source": [
    "A[0][0] # (1,1)의 원소 "
   ]
  },
  {
   "cell_type": "code",
   "execution_count": 90,
   "id": "db4ebd5f-6dac-4baa-b328-78888f7a89ae",
   "metadata": {},
   "outputs": [
    {
     "data": {
      "text/plain": [
       "-3"
      ]
     },
     "execution_count": 90,
     "metadata": {},
     "output_type": "execute_result"
    }
   ],
   "source": [
    "A[1][2] # (2,3)의 원소 "
   ]
  },
  {
   "cell_type": "code",
   "execution_count": 93,
   "id": "b8e4738e-680f-4fa4-ad46-dd6e79f7fa8b",
   "metadata": {},
   "outputs": [
    {
     "data": {
      "text/plain": [
       "-5"
      ]
     },
     "execution_count": 93,
     "metadata": {},
     "output_type": "execute_result"
    }
   ],
   "source": [
    "A[-1][0] # (4,1)의 원소 "
   ]
  },
  {
   "cell_type": "markdown",
   "id": "88c55888-de59-469c-8ec9-19daf452c35e",
   "metadata": {},
   "source": [
    "`-` A2의 원소 인덱싱 "
   ]
  },
  {
   "cell_type": "code",
   "execution_count": 94,
   "id": "42a4dd99-3ebb-4f99-9de6-b1aedede0f48",
   "metadata": {
    "tags": []
   },
   "outputs": [
    {
     "data": {
      "text/plain": [
       "1"
      ]
     },
     "execution_count": 94,
     "metadata": {},
     "output_type": "execute_result"
    }
   ],
   "source": [
    "A2[0][0] # (1,1)의 원소 "
   ]
  },
  {
   "cell_type": "code",
   "execution_count": 95,
   "id": "50a79594-836d-4836-81bf-de6c3d585194",
   "metadata": {},
   "outputs": [
    {
     "data": {
      "text/plain": [
       "-3"
      ]
     },
     "execution_count": 95,
     "metadata": {},
     "output_type": "execute_result"
    }
   ],
   "source": [
    "A2[1][2] # (2,3)의 원소 "
   ]
  },
  {
   "cell_type": "code",
   "execution_count": 96,
   "id": "54298726-6b5a-41e6-9078-0e974f0315a7",
   "metadata": {},
   "outputs": [
    {
     "data": {
      "text/plain": [
       "-5"
      ]
     },
     "execution_count": 96,
     "metadata": {},
     "output_type": "execute_result"
    }
   ],
   "source": [
    "A2[-1][0] # (4,1)의 원소 "
   ]
  },
  {
   "cell_type": "markdown",
   "id": "2fe8fbed-65e1-4400-a4b3-1da4d8ff2b18",
   "metadata": {},
   "source": [
    "`-` A2에서만 되는 기술 (넘파이에서 제시하는 신기술, R에서는 기본적으로 쓰던것, 이중list는 불가능) "
   ]
  },
  {
   "cell_type": "code",
   "execution_count": 97,
   "id": "3964bb7c-3241-4636-ad38-649e4ab2c86e",
   "metadata": {
    "tags": []
   },
   "outputs": [
    {
     "data": {
      "text/plain": [
       "1"
      ]
     },
     "execution_count": 97,
     "metadata": {},
     "output_type": "execute_result"
    }
   ],
   "source": [
    "A2[0,0] # (1,1)의 원소 "
   ]
  },
  {
   "cell_type": "code",
   "execution_count": 98,
   "id": "55a1bce9-e87b-434b-b214-45d0f609f8f4",
   "metadata": {},
   "outputs": [
    {
     "data": {
      "text/plain": [
       "-3"
      ]
     },
     "execution_count": 98,
     "metadata": {},
     "output_type": "execute_result"
    }
   ],
   "source": [
    "A2[1,2] # (2,3)의 원소 "
   ]
  },
  {
   "cell_type": "code",
   "execution_count": 99,
   "id": "ce50f1df-2982-4dca-970b-459ae0c279c3",
   "metadata": {},
   "outputs": [
    {
     "data": {
      "text/plain": [
       "-5"
      ]
     },
     "execution_count": 99,
     "metadata": {},
     "output_type": "execute_result"
    }
   ],
   "source": [
    "A2[-1,0] # (4,1)의 원소 "
   ]
  },
  {
   "cell_type": "markdown",
   "id": "a8d97249-1743-4d44-90ed-14ad5bb4f46b",
   "metadata": {},
   "source": [
    "`-` 정수배열에 의한 인덱싱 & 슬라이싱!"
   ]
  },
  {
   "cell_type": "code",
   "execution_count": 103,
   "id": "8fb03059-f071-4764-a3f5-85db28bab377",
   "metadata": {},
   "outputs": [
    {
     "data": {
      "text/plain": [
       "array([[ 1,  2,  3,  4],\n",
       "       [-1, -2, -3, -4],\n",
       "       [ 5,  6,  7,  8],\n",
       "       [-5, -6, -7, -8]])"
      ]
     },
     "execution_count": 103,
     "metadata": {},
     "output_type": "execute_result"
    }
   ],
   "source": [
    "A2"
   ]
  },
  {
   "cell_type": "code",
   "execution_count": 105,
   "id": "a219cbbb-8485-48de-acb7-e3ce414bbe15",
   "metadata": {},
   "outputs": [
    {
     "data": {
      "text/plain": [
       "array([1, 2])"
      ]
     },
     "execution_count": 105,
     "metadata": {},
     "output_type": "execute_result"
    }
   ],
   "source": [
    "A2[0,0:2] # 1행1열, 1행2열 "
   ]
  },
  {
   "cell_type": "code",
   "execution_count": 107,
   "id": "bcd23947-d188-4f99-8d3f-712e0f0b52c3",
   "metadata": {},
   "outputs": [
    {
     "data": {
      "text/plain": [
       "array([1, 2, 3, 4])"
      ]
     },
     "execution_count": 107,
     "metadata": {},
     "output_type": "execute_result"
    }
   ],
   "source": [
    "A2[0,:] # 1행 "
   ]
  },
  {
   "cell_type": "code",
   "execution_count": 115,
   "id": "37daf096-d29c-434b-b326-651e938c7806",
   "metadata": {},
   "outputs": [
    {
     "data": {
      "text/plain": [
       "array([1, 2, 3, 4])"
      ]
     },
     "execution_count": 115,
     "metadata": {},
     "output_type": "execute_result"
    }
   ],
   "source": [
    "A2[0] # 1행"
   ]
  },
  {
   "cell_type": "code",
   "execution_count": 109,
   "id": "3e57a260-eaac-4733-a7cb-273cda026590",
   "metadata": {},
   "outputs": [
    {
     "data": {
      "text/plain": [
       "array([[1, 2, 3, 4],\n",
       "       [5, 6, 7, 8]])"
      ]
     },
     "execution_count": 109,
     "metadata": {},
     "output_type": "execute_result"
    }
   ],
   "source": [
    "A2[[0,2],:] # 1행, 3행 "
   ]
  },
  {
   "cell_type": "code",
   "execution_count": 118,
   "id": "4e7fae05-6d9f-4f44-b1f9-d79be7a6b168",
   "metadata": {},
   "outputs": [
    {
     "data": {
      "text/plain": [
       "array([[1, 2, 3, 4],\n",
       "       [5, 6, 7, 8]])"
      ]
     },
     "execution_count": 118,
     "metadata": {},
     "output_type": "execute_result"
    }
   ],
   "source": [
    "A2[[0,2]] # 1행, 3행 "
   ]
  },
  {
   "cell_type": "code",
   "execution_count": 120,
   "id": "7d72e88a-d969-4492-ac7b-ca7c1f054455",
   "metadata": {},
   "outputs": [
    {
     "data": {
      "text/plain": [
       "array([ 1, -1,  5, -5])"
      ]
     },
     "execution_count": 120,
     "metadata": {},
     "output_type": "execute_result"
    }
   ],
   "source": [
    "A2[:,0] # 1열 "
   ]
  },
  {
   "cell_type": "code",
   "execution_count": 121,
   "id": "4026db38-eccb-4ef9-a207-c45f2cafd4ed",
   "metadata": {},
   "outputs": [
    {
     "data": {
      "text/plain": [
       "array([[ 1],\n",
       "       [-1],\n",
       "       [ 5],\n",
       "       [-5]])"
      ]
     },
     "execution_count": 121,
     "metadata": {},
     "output_type": "execute_result"
    }
   ],
   "source": [
    "A2[:,[0]] # 1열 "
   ]
  },
  {
   "cell_type": "code",
   "execution_count": 122,
   "id": "c276b95b-5575-47ee-9683-362d898b1d5a",
   "metadata": {},
   "outputs": [
    {
     "data": {
      "text/plain": [
       "array([[ 1,  3],\n",
       "       [-1, -3],\n",
       "       [ 5,  7],\n",
       "       [-5, -7]])"
      ]
     },
     "execution_count": 122,
     "metadata": {},
     "output_type": "execute_result"
    }
   ],
   "source": [
    "A2[:,[0,2]] # 1열, 3열"
   ]
  },
  {
   "cell_type": "code",
   "execution_count": 124,
   "id": "a1a05cb3-d976-4e95-9a9d-b4d1105c4fcc",
   "metadata": {},
   "outputs": [
    {
     "data": {
      "text/plain": [
       "array([[ 1,  3],\n",
       "       [-1, -3]])"
      ]
     },
     "execution_count": 124,
     "metadata": {},
     "output_type": "execute_result"
    }
   ],
   "source": [
    "A2[0:2,[0,2]] # 1행~2행 //  1열,3열 "
   ]
  },
  {
   "cell_type": "markdown",
   "id": "3add1968-fe15-4484-bab6-f0bf04f4db20",
   "metadata": {},
   "source": [
    "#### 1차원 배열의 선언 "
   ]
  },
  {
   "cell_type": "markdown",
   "id": "af5eb31e-1774-477e-ae24-0b9e172f51bb",
   "metadata": {},
   "source": [
    "`-` 리스트나 튜플을 선언하고 형변환 "
   ]
  },
  {
   "cell_type": "code",
   "execution_count": 128,
   "id": "8d724683-1d22-4919-80d0-4ca522990004",
   "metadata": {},
   "outputs": [
    {
     "data": {
      "text/plain": [
       "array([1, 2, 3])"
      ]
     },
     "execution_count": 128,
     "metadata": {},
     "output_type": "execute_result"
    }
   ],
   "source": [
    "np.array((1,2,3)) # 튜플->넘파이어레이 "
   ]
  },
  {
   "cell_type": "code",
   "execution_count": 129,
   "id": "6affc2b7-49f5-4509-8337-f0d79f872923",
   "metadata": {},
   "outputs": [
    {
     "data": {
      "text/plain": [
       "array([1, 2, 3])"
      ]
     },
     "execution_count": 129,
     "metadata": {},
     "output_type": "execute_result"
    }
   ],
   "source": [
    "np.array([1,2,3]) # 리스트 ->넘파이어레이 "
   ]
  },
  {
   "cell_type": "markdown",
   "id": "76592148-5e77-419c-8371-a4a29a47e974",
   "metadata": {},
   "source": [
    "`-` range()를 이용해서 선언하고 형변환 "
   ]
  },
  {
   "cell_type": "code",
   "execution_count": 133,
   "id": "86ed032a-c989-4427-905d-889105d8c858",
   "metadata": {},
   "outputs": [
    {
     "data": {
      "text/plain": [
       "array([0, 1, 2, 3, 4, 5, 6, 7, 8, 9])"
      ]
     },
     "execution_count": 133,
     "metadata": {},
     "output_type": "execute_result"
    }
   ],
   "source": [
    "np.array(range(10)) # range(10) -> 넘파이어레이 "
   ]
  },
  {
   "cell_type": "markdown",
   "id": "f16c770d-5e91-4c1d-a380-5534e7368a97",
   "metadata": {},
   "source": [
    "`-` np.zeros, np.ones"
   ]
  },
  {
   "cell_type": "code",
   "execution_count": 135,
   "id": "3dbf87e7-612a-40b8-9c7a-f30c9ea8a9f0",
   "metadata": {},
   "outputs": [
    {
     "data": {
      "text/plain": [
       "array([0., 0., 0.])"
      ]
     },
     "execution_count": 135,
     "metadata": {},
     "output_type": "execute_result"
    }
   ],
   "source": [
    "np.zeros(3) "
   ]
  },
  {
   "cell_type": "code",
   "execution_count": 137,
   "id": "8301e1ad-fe84-4e1d-8c8a-8bb471b60e6a",
   "metadata": {},
   "outputs": [
    {
     "data": {
      "text/plain": [
       "array([1., 1., 1., 1.])"
      ]
     },
     "execution_count": 137,
     "metadata": {},
     "output_type": "execute_result"
    }
   ],
   "source": [
    "np.ones(4)"
   ]
  },
  {
   "cell_type": "markdown",
   "id": "7e18ecc8-4c64-4b35-b607-c01a08e2bcbe",
   "metadata": {},
   "source": [
    "`-` np.linspace "
   ]
  },
  {
   "cell_type": "code",
   "execution_count": 141,
   "id": "d390050a-6da2-47ec-8843-5286c35a5d4f",
   "metadata": {},
   "outputs": [
    {
     "data": {
      "text/plain": [
       "array([0.        , 0.09090909, 0.18181818, 0.27272727, 0.36363636,\n",
       "       0.45454545, 0.54545455, 0.63636364, 0.72727273, 0.81818182,\n",
       "       0.90909091, 1.        ])"
      ]
     },
     "execution_count": 141,
     "metadata": {},
     "output_type": "execute_result"
    }
   ],
   "source": [
    "np.linspace(0,1,12) # 0에서 시작하고 1에서 끝남 (양끝점 모두 포함)"
   ]
  },
  {
   "cell_type": "code",
   "execution_count": 142,
   "id": "348a3399-3e3a-4d8c-9ba2-1380fa8f6064",
   "metadata": {},
   "outputs": [
    {
     "data": {
      "text/plain": [
       "12"
      ]
     },
     "execution_count": 142,
     "metadata": {},
     "output_type": "execute_result"
    }
   ],
   "source": [
    "len(np.linspace(0,1,12)) # 길이는 12"
   ]
  },
  {
   "cell_type": "markdown",
   "id": "35b7e45d-4235-44c0-98d2-c5e1ec4ad502",
   "metadata": {},
   "source": [
    "`-` np.arange"
   ]
  },
  {
   "cell_type": "code",
   "execution_count": 144,
   "id": "17cb2f19-83ff-4b74-978b-71deed34514f",
   "metadata": {},
   "outputs": [
    {
     "data": {
      "text/plain": [
       "array([0, 1, 2, 3, 4])"
      ]
     },
     "execution_count": 144,
     "metadata": {},
     "output_type": "execute_result"
    }
   ],
   "source": [
    "np.arange(5) # np.array(range(5))"
   ]
  },
  {
   "cell_type": "code",
   "execution_count": 148,
   "id": "49ad7591-14d3-4ff4-aa6e-dc22c4699598",
   "metadata": {},
   "outputs": [
    {
     "data": {
      "text/plain": [
       "array([1, 2, 3, 4, 5])"
      ]
     },
     "execution_count": 148,
     "metadata": {},
     "output_type": "execute_result"
    }
   ],
   "source": [
    "np.arange(1,6) # np.array(range(1,6))"
   ]
  },
  {
   "cell_type": "markdown",
   "id": "a2605e47-f874-47bd-abbd-c196830412ad",
   "metadata": {},
   "source": [
    "#### reshape "
   ]
  },
  {
   "cell_type": "markdown",
   "id": "ec088ef3-f8c6-4428-b3ec-d4c99dcdc6bd",
   "metadata": {},
   "source": [
    "`-` reshape: ndarray의 특수한 기능 "
   ]
  },
  {
   "cell_type": "code",
   "execution_count": 166,
   "id": "c25af635-6d23-414b-9c93-a43bab9b65cf",
   "metadata": {},
   "outputs": [
    {
     "data": {
      "text/plain": [
       "array([11, 22, 33, 44, 55, 66])"
      ]
     },
     "execution_count": 166,
     "metadata": {},
     "output_type": "execute_result"
    }
   ],
   "source": [
    "a=np.array([11,22,33,44,55,66])\n",
    "a ## 길이가 6인 벡터 "
   ]
  },
  {
   "cell_type": "code",
   "execution_count": 167,
   "id": "a3e3a992-c62f-417e-a509-a52034ea2db0",
   "metadata": {},
   "outputs": [
    {
     "data": {
      "text/plain": [
       "array([[11, 22, 33],\n",
       "       [44, 55, 66]])"
      ]
     },
     "execution_count": 167,
     "metadata": {},
     "output_type": "execute_result"
    }
   ],
   "source": [
    "a.reshape(2,3) ## (2,3) matrix 라고 생각해도 무방 "
   ]
  },
  {
   "cell_type": "markdown",
   "id": "0c3e9a3a-1505-4b80-b89f-ea47a2e31a37",
   "metadata": {},
   "source": [
    "note: reshape은 a자체를 변화시키는것은 아님 "
   ]
  },
  {
   "cell_type": "code",
   "execution_count": 165,
   "id": "c270aafd-bcda-47e0-a8fd-e480c35d5ac4",
   "metadata": {},
   "outputs": [
    {
     "data": {
      "text/plain": [
       "array([11, 22, 33, 44, 55, 66])"
      ]
     },
     "execution_count": 165,
     "metadata": {},
     "output_type": "execute_result"
    }
   ],
   "source": [
    "a # a는 그대로 있음 "
   ]
  },
  {
   "cell_type": "code",
   "execution_count": 169,
   "id": "3234a383-79e8-4997-abd7-163c447ccb51",
   "metadata": {},
   "outputs": [
    {
     "data": {
      "text/plain": [
       "array([[11, 22, 33],\n",
       "       [44, 55, 66]])"
      ]
     },
     "execution_count": 169,
     "metadata": {},
     "output_type": "execute_result"
    }
   ],
   "source": [
    "b= a.reshape(2,3) # a를 reshape한 결과를 b에 저장 \n",
    "b"
   ]
  },
  {
   "cell_type": "code",
   "execution_count": 170,
   "id": "97ebb507-9578-48cc-918d-540f1cf8ee92",
   "metadata": {},
   "outputs": [
    {
     "data": {
      "text/plain": [
       "array([11, 22, 33, 44, 55, 66])"
      ]
     },
     "execution_count": 170,
     "metadata": {},
     "output_type": "execute_result"
    }
   ],
   "source": [
    "a # a는 여전히 그대로 있음"
   ]
  },
  {
   "cell_type": "markdown",
   "id": "c6106abf-45aa-4ec4-9fbe-a77da7b7c4fc",
   "metadata": {},
   "source": [
    "`-` 다시 b를 a처럼 바꾸고 싶다 "
   ]
  },
  {
   "cell_type": "code",
   "execution_count": 171,
   "id": "4cb9a4df-8730-4d12-ba62-3e021a8cf579",
   "metadata": {},
   "outputs": [
    {
     "data": {
      "text/plain": [
       "array([[11, 22, 33],\n",
       "       [44, 55, 66]])"
      ]
     },
     "execution_count": 171,
     "metadata": {},
     "output_type": "execute_result"
    }
   ],
   "source": [
    "b"
   ]
  },
  {
   "cell_type": "code",
   "execution_count": 174,
   "id": "c165aa61-530c-4ac0-a9d5-e3d44b1c33e8",
   "metadata": {},
   "outputs": [
    {
     "data": {
      "text/plain": [
       "array([11, 22, 33, 44, 55, 66])"
      ]
     },
     "execution_count": 174,
     "metadata": {},
     "output_type": "execute_result"
    }
   ],
   "source": [
    "b.reshape(6) # b는 (2,3) matrix , 그런데 이것을 길이가 6인 벡터로 만들고 싶다. "
   ]
  },
  {
   "cell_type": "markdown",
   "id": "300063e9-07cb-490c-b494-181213c47cf2",
   "metadata": {},
   "source": [
    "`-` reshape with -1 "
   ]
  },
  {
   "cell_type": "code",
   "execution_count": 180,
   "id": "ca50ea47-3d65-4727-83d6-17478229ee5a",
   "metadata": {},
   "outputs": [
    {
     "data": {
      "text/plain": [
       "array([ 0,  1,  2,  3,  4,  5,  6,  7,  8,  9, 10, 11, 12, 13, 14, 15, 16,\n",
       "       17, 18, 19, 20, 21, 22, 23])"
      ]
     },
     "execution_count": 180,
     "metadata": {},
     "output_type": "execute_result"
    }
   ],
   "source": [
    "a=np.arange(24) # np.array(range(24))\n",
    "a"
   ]
  },
  {
   "cell_type": "code",
   "execution_count": 185,
   "id": "2903a5dc-d1f7-4cdf-ae9f-9af3785087d3",
   "metadata": {},
   "outputs": [
    {
     "data": {
      "text/plain": [
       "array([[ 0,  1,  2,  3,  4,  5,  6,  7,  8,  9, 10, 11],\n",
       "       [12, 13, 14, 15, 16, 17, 18, 19, 20, 21, 22, 23]])"
      ]
     },
     "execution_count": 185,
     "metadata": {},
     "output_type": "execute_result"
    }
   ],
   "source": [
    "a.reshape(2,-1)"
   ]
  },
  {
   "cell_type": "code",
   "execution_count": 186,
   "id": "9de2313c-5d8d-44aa-833d-503948eff204",
   "metadata": {},
   "outputs": [
    {
     "data": {
      "text/plain": [
       "array([[ 0,  1,  2,  3,  4,  5,  6,  7],\n",
       "       [ 8,  9, 10, 11, 12, 13, 14, 15],\n",
       "       [16, 17, 18, 19, 20, 21, 22, 23]])"
      ]
     },
     "execution_count": 186,
     "metadata": {},
     "output_type": "execute_result"
    }
   ],
   "source": [
    "a.reshape(3,-1)"
   ]
  },
  {
   "cell_type": "code",
   "execution_count": 187,
   "id": "ac676101-d1da-4056-97cd-3a9e2affcd77",
   "metadata": {},
   "outputs": [
    {
     "data": {
      "text/plain": [
       "array([[ 0,  1,  2,  3,  4,  5],\n",
       "       [ 6,  7,  8,  9, 10, 11],\n",
       "       [12, 13, 14, 15, 16, 17],\n",
       "       [18, 19, 20, 21, 22, 23]])"
      ]
     },
     "execution_count": 187,
     "metadata": {},
     "output_type": "execute_result"
    }
   ],
   "source": [
    "a.reshape(4,-1)"
   ]
  },
  {
   "cell_type": "code",
   "execution_count": 188,
   "id": "ac35022e-d6bb-4fa1-a234-65a4998f69f2",
   "metadata": {},
   "outputs": [
    {
     "ename": "ValueError",
     "evalue": "cannot reshape array of size 24 into shape (5,newaxis)",
     "output_type": "error",
     "traceback": [
      "\u001b[0;31m---------------------------------------------------------------------------\u001b[0m",
      "\u001b[0;31mValueError\u001b[0m                                Traceback (most recent call last)",
      "Input \u001b[0;32mIn [188]\u001b[0m, in \u001b[0;36m<cell line: 1>\u001b[0;34m()\u001b[0m\n\u001b[0;32m----> 1\u001b[0m \u001b[43ma\u001b[49m\u001b[38;5;241;43m.\u001b[39;49m\u001b[43mreshape\u001b[49m\u001b[43m(\u001b[49m\u001b[38;5;241;43m5\u001b[39;49m\u001b[43m,\u001b[49m\u001b[38;5;241;43m-\u001b[39;49m\u001b[38;5;241;43m1\u001b[39;49m\u001b[43m)\u001b[49m\n",
      "\u001b[0;31mValueError\u001b[0m: cannot reshape array of size 24 into shape (5,newaxis)"
     ]
    }
   ],
   "source": [
    "a.reshape(5,-1)"
   ]
  },
  {
   "cell_type": "code",
   "execution_count": 189,
   "id": "914e3363-20e7-4f98-9d62-a9a247e10c1a",
   "metadata": {},
   "outputs": [
    {
     "data": {
      "text/plain": [
       "array([[ 0,  1,  2,  3],\n",
       "       [ 4,  5,  6,  7],\n",
       "       [ 8,  9, 10, 11],\n",
       "       [12, 13, 14, 15],\n",
       "       [16, 17, 18, 19],\n",
       "       [20, 21, 22, 23]])"
      ]
     },
     "execution_count": 189,
     "metadata": {},
     "output_type": "execute_result"
    }
   ],
   "source": [
    "a.reshape(6,-1)"
   ]
  },
  {
   "cell_type": "code",
   "execution_count": 190,
   "id": "cbe638b5-24f4-4802-ab12-caa67f1358e3",
   "metadata": {},
   "outputs": [
    {
     "ename": "ValueError",
     "evalue": "cannot reshape array of size 24 into shape (7,newaxis)",
     "output_type": "error",
     "traceback": [
      "\u001b[0;31m---------------------------------------------------------------------------\u001b[0m",
      "\u001b[0;31mValueError\u001b[0m                                Traceback (most recent call last)",
      "Input \u001b[0;32mIn [190]\u001b[0m, in \u001b[0;36m<cell line: 1>\u001b[0;34m()\u001b[0m\n\u001b[0;32m----> 1\u001b[0m \u001b[43ma\u001b[49m\u001b[38;5;241;43m.\u001b[39;49m\u001b[43mreshape\u001b[49m\u001b[43m(\u001b[49m\u001b[38;5;241;43m7\u001b[39;49m\u001b[43m,\u001b[49m\u001b[38;5;241;43m-\u001b[39;49m\u001b[38;5;241;43m1\u001b[39;49m\u001b[43m)\u001b[49m\n",
      "\u001b[0;31mValueError\u001b[0m: cannot reshape array of size 24 into shape (7,newaxis)"
     ]
    }
   ],
   "source": [
    "a.reshape(7,-1)"
   ]
  },
  {
   "cell_type": "code",
   "execution_count": 191,
   "id": "6737dc18-fd57-4b48-a7f5-f6a91662b0d8",
   "metadata": {},
   "outputs": [
    {
     "data": {
      "text/plain": [
       "array([[ 0,  1,  2],\n",
       "       [ 3,  4,  5],\n",
       "       [ 6,  7,  8],\n",
       "       [ 9, 10, 11],\n",
       "       [12, 13, 14],\n",
       "       [15, 16, 17],\n",
       "       [18, 19, 20],\n",
       "       [21, 22, 23]])"
      ]
     },
     "execution_count": 191,
     "metadata": {},
     "output_type": "execute_result"
    }
   ],
   "source": [
    "a.reshape(8,-1)"
   ]
  },
  {
   "cell_type": "code",
   "execution_count": 192,
   "id": "5bafbecb-1276-49f9-bf72-9508a80a02d8",
   "metadata": {},
   "outputs": [
    {
     "data": {
      "text/plain": [
       "array([[ 0,  1],\n",
       "       [ 2,  3],\n",
       "       [ 4,  5],\n",
       "       [ 6,  7],\n",
       "       [ 8,  9],\n",
       "       [10, 11],\n",
       "       [12, 13],\n",
       "       [14, 15],\n",
       "       [16, 17],\n",
       "       [18, 19],\n",
       "       [20, 21],\n",
       "       [22, 23]])"
      ]
     },
     "execution_count": 192,
     "metadata": {},
     "output_type": "execute_result"
    }
   ],
   "source": [
    "a.reshape(12,-1)"
   ]
  },
  {
   "cell_type": "code",
   "execution_count": 193,
   "id": "4bfab872-cd0a-4e87-bd24-625d963d537a",
   "metadata": {},
   "outputs": [
    {
     "data": {
      "text/plain": [
       "array([[ 0,  1],\n",
       "       [ 2,  3],\n",
       "       [ 4,  5],\n",
       "       [ 6,  7],\n",
       "       [ 8,  9],\n",
       "       [10, 11],\n",
       "       [12, 13],\n",
       "       [14, 15],\n",
       "       [16, 17],\n",
       "       [18, 19],\n",
       "       [20, 21],\n",
       "       [22, 23]])"
      ]
     },
     "execution_count": 193,
     "metadata": {},
     "output_type": "execute_result"
    }
   ],
   "source": [
    "b= a.reshape(12,-1)\n",
    "b"
   ]
  },
  {
   "cell_type": "code",
   "execution_count": 197,
   "id": "572c9509-a6ba-42ae-a7b7-c2fafccef535",
   "metadata": {},
   "outputs": [
    {
     "data": {
      "text/plain": [
       "array([ 0,  1,  2,  3,  4,  5,  6,  7,  8,  9, 10, 11, 12, 13, 14, 15, 16,\n",
       "       17, 18, 19, 20, 21, 22, 23])"
      ]
     },
     "execution_count": 197,
     "metadata": {},
     "output_type": "execute_result"
    }
   ],
   "source": [
    "b.reshape(-1) # b를 다시 길이가 24인 벡터로!"
   ]
  },
  {
   "cell_type": "markdown",
   "id": "a75e55be-8e86-40f7-8afd-8fbff6548296",
   "metadata": {},
   "source": [
    "#### 2차원 배열의 선언 "
   ]
  },
  {
   "cell_type": "code",
   "execution_count": 198,
   "id": "f0f57e0b-3890-4473-b2fb-575303a24b11",
   "metadata": {},
   "outputs": [
    {
     "data": {
      "text/plain": [
       "array([[0., 0., 0.],\n",
       "       [0., 0., 0.],\n",
       "       [0., 0., 0.]])"
      ]
     },
     "execution_count": 198,
     "metadata": {},
     "output_type": "execute_result"
    }
   ],
   "source": [
    "np.zeros((3,3))"
   ]
  },
  {
   "cell_type": "code",
   "execution_count": 199,
   "id": "8cbe12d9-aad9-4236-91cb-48411fe87430",
   "metadata": {},
   "outputs": [
    {
     "data": {
      "text/plain": [
       "array([[1., 1., 1.],\n",
       "       [1., 1., 1.],\n",
       "       [1., 1., 1.]])"
      ]
     },
     "execution_count": 199,
     "metadata": {},
     "output_type": "execute_result"
    }
   ],
   "source": [
    "np.ones((3,3))"
   ]
  },
  {
   "cell_type": "code",
   "execution_count": 200,
   "id": "81a3656a-53ef-44e0-9641-90fc58b6a931",
   "metadata": {},
   "outputs": [
    {
     "data": {
      "text/plain": [
       "array([[1., 0., 0.],\n",
       "       [0., 1., 0.],\n",
       "       [0., 0., 1.]])"
      ]
     },
     "execution_count": 200,
     "metadata": {},
     "output_type": "execute_result"
    }
   ],
   "source": [
    "np.eye(3)"
   ]
  },
  {
   "cell_type": "code",
   "execution_count": 202,
   "id": "6d4a968c-a4d2-443a-9b30-c5017335251a",
   "metadata": {},
   "outputs": [
    {
     "data": {
      "text/plain": [
       "array([[ 1,  0,  0,  0],\n",
       "       [ 0,  2,  0,  0],\n",
       "       [ 0,  0,  3,  0],\n",
       "       [ 0,  0,  0, -1]])"
      ]
     },
     "execution_count": 202,
     "metadata": {},
     "output_type": "execute_result"
    }
   ],
   "source": [
    "np.diag([1,2,3,-1])"
   ]
  },
  {
   "cell_type": "markdown",
   "id": "373be042-d123-45ae-86fa-86958daff556",
   "metadata": {},
   "source": [
    "#### 랜덤으로 배열 생성 "
   ]
  },
  {
   "cell_type": "code",
   "execution_count": 204,
   "id": "cf5e76de-f6f9-48a8-a2ed-95630afcb386",
   "metadata": {},
   "outputs": [
    {
     "data": {
      "text/plain": [
       "array([ 0.27184979, -0.4540305 ,  0.24538219, -3.11389327,  1.06478234,\n",
       "        0.12051154,  0.01503231, -0.06744028,  2.30710253,  0.78840453])"
      ]
     },
     "execution_count": 204,
     "metadata": {},
     "output_type": "execute_result"
    }
   ],
   "source": [
    "np.random.randn(10) # 표쥰정규분포에서 10개를 뽑음 "
   ]
  },
  {
   "cell_type": "code",
   "execution_count": 205,
   "id": "868e5929-21e8-4069-b31f-c31c75d32255",
   "metadata": {},
   "outputs": [
    {
     "data": {
      "text/plain": [
       "array([0.67729671, 0.19584606, 0.4564896 , 0.9308976 , 0.49080792,\n",
       "       0.03410752, 0.47480477, 0.44519947, 0.20608611, 0.85576604])"
      ]
     },
     "execution_count": 205,
     "metadata": {},
     "output_type": "execute_result"
    }
   ],
   "source": [
    "np.random.rand(10) # 0~1사이에서 10개를 뽑음"
   ]
  },
  {
   "cell_type": "code",
   "execution_count": 209,
   "id": "e3161fee-c053-44fb-8d06-4d62cb6fbc0c",
   "metadata": {},
   "outputs": [
    {
     "data": {
      "text/plain": [
       "array([[-0.97378852,  0.5250826 ],\n",
       "       [-0.97400213, -0.59600022]])"
      ]
     },
     "execution_count": 209,
     "metadata": {},
     "output_type": "execute_result"
    }
   ],
   "source": [
    "np.random.randn(4).reshape(2,2) # 표준정규분포에서 4개를 뽑고 (2,2) ndarray로 형태변환 "
   ]
  },
  {
   "cell_type": "code",
   "execution_count": 208,
   "id": "9e101c19-9eab-427f-9e8f-ddf10b9063c8",
   "metadata": {},
   "outputs": [
    {
     "data": {
      "text/plain": [
       "array([[0.03708309, 0.56122376],\n",
       "       [0.80934488, 0.65723348]])"
      ]
     },
     "execution_count": 208,
     "metadata": {},
     "output_type": "execute_result"
    }
   ],
   "source": [
    "np.random.rand(4).reshape(2,2) # 0~1 4개를 뽑고 (2,2) ndarray로 형태변환 "
   ]
  },
  {
   "cell_type": "markdown",
   "id": "3e7991bf-618d-46cd-9ed1-6023390cb5f3",
   "metadata": {},
   "source": [
    "#### 행렬관련기능"
   ]
  },
  {
   "cell_type": "code",
   "execution_count": 219,
   "id": "2e1e77f4-8b2c-4f51-a01f-e65b59ce57e0",
   "metadata": {},
   "outputs": [
    {
     "data": {
      "text/plain": [
       "array([[0, 1],\n",
       "       [2, 3]])"
      ]
     },
     "execution_count": 219,
     "metadata": {},
     "output_type": "execute_result"
    }
   ],
   "source": [
    "A=np.arange(4).reshape(2,2) \n",
    "A"
   ]
  },
  {
   "cell_type": "code",
   "execution_count": 220,
   "id": "b9db6a3e-57d8-4b81-a38d-2d5fb270d265",
   "metadata": {},
   "outputs": [
    {
     "data": {
      "text/plain": [
       "array([[0, 2],\n",
       "       [1, 3]])"
      ]
     },
     "execution_count": 220,
     "metadata": {},
     "output_type": "execute_result"
    }
   ],
   "source": [
    "A.T # .T는 전치행렬을 구해줌 "
   ]
  },
  {
   "cell_type": "code",
   "execution_count": 221,
   "id": "fff5be05-e024-4686-99a2-c29bbedfbb81",
   "metadata": {},
   "outputs": [
    {
     "data": {
      "text/plain": [
       "array([[-1.5,  0.5],\n",
       "       [ 1. ,  0. ]])"
      ]
     },
     "execution_count": 221,
     "metadata": {},
     "output_type": "execute_result"
    }
   ],
   "source": [
    "np.linalg.inv(A) # np.linalg.inv는 역행렬을 구해주는 함수 "
   ]
  },
  {
   "cell_type": "code",
   "execution_count": 222,
   "id": "82585e76-36e9-4a10-bbc6-62e376ff971d",
   "metadata": {},
   "outputs": [
    {
     "data": {
      "text/plain": [
       "array([[1., 0.],\n",
       "       [0., 1.]])"
      ]
     },
     "execution_count": 222,
     "metadata": {},
     "output_type": "execute_result"
    }
   ],
   "source": [
    "A @ np.linalg.inv(A) # @는 행렬곱을 수행 "
   ]
  },
  {
   "cell_type": "markdown",
   "id": "c2909855-3d4e-4a59-bf2e-8dc99bc9ec87",
   "metadata": {},
   "source": [
    "### 숙제 "
   ]
  },
  {
   "cell_type": "code",
   "execution_count": 224,
   "id": "5c744717-0e86-4a8f-af62-4fceafdc3ca8",
   "metadata": {},
   "outputs": [
    {
     "data": {
      "text/plain": [
       "array([0, 1, 2, 3, 4, 5])"
      ]
     },
     "execution_count": 224,
     "metadata": {},
     "output_type": "execute_result"
    }
   ],
   "source": [
    "A=np.array(range(6)) \n",
    "A # 길이가 6인 벡터 "
   ]
  },
  {
   "cell_type": "markdown",
   "id": "af9ab544-9219-4c90-93fd-1d82c23ce568",
   "metadata": {},
   "source": [
    "위와 같이 길이가 6인 벡터 A를 (2,3) ndarray로 변경 (reshape를 이용)"
   ]
  },
  {
   "cell_type": "markdown",
   "id": "860ffb13-00af-47e5-a7b2-0351a09bb657",
   "metadata": {},
   "source": [
    "### 참고 \n",
    "\n",
    "`-` 혹시 행렬을 처음 보시는 학생이 있다면 아래주소의 영상에서 1-4를 학습하시면 됩니다. (1-5까지 있는데 1-4까지만 보시면됩니다) 혹은 스스로 학습하셔도 무방합니다.\n",
    "\n",
    "- https://guebin.github.io/IR2021/2021/10/29/(A2)-%EB%A7%A4%ED%8A%B8%EB%A6%AD%EC%8A%A4.html"
   ]
  },
  {
   "cell_type": "markdown",
   "id": "4bced069-d2a7-4012-a197-621e7e9ca8ec",
   "metadata": {},
   "source": [
    "`-` 행렬을 알고 있다면 위의 주소의 영상은 skip 하셔도 무방합니다. "
   ]
  }
 ],
 "metadata": {
  "kernelspec": {
   "display_name": "Python 3 (ipykernel)",
   "language": "python",
   "name": "python3"
  },
  "language_info": {
   "codemirror_mode": {
    "name": "ipython",
    "version": 3
   },
   "file_extension": ".py",
   "mimetype": "text/x-python",
   "name": "python",
   "nbconvert_exporter": "python",
   "pygments_lexer": "ipython3",
   "version": "3.9.0"
  }
 },
 "nbformat": 4,
 "nbformat_minor": 5
}
