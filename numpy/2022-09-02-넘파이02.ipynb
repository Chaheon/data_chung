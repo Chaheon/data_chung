{
 "cells": [
  {
   "cell_type": "markdown",
   "id": "783ca1e9-f098-47b3-a659-dabeb879aa23",
   "metadata": {
    "tags": []
   },
   "source": [
    "### 강의영상 "
   ]
  },
  {
   "cell_type": "markdown",
   "id": "a92be2f7-d12b-46c7-843b-99e062eb8eee",
   "metadata": {},
   "source": [
    "> youtube: https://youtube.com/playlist?list=PLQqh36zP38-zFoNClnO36HKRv0S9nMx_H"
   ]
  },
  {
   "cell_type": "markdown",
   "id": "50e3a4ca-369d-4a3d-9343-908ab201f519",
   "metadata": {},
   "source": [
    "`-` (1/6) 2차원 배열과 연립1차 방정식, @의 유연성, 차원 \n",
    "\n",
    "`-` (2/6) concat\n",
    "\n",
    "`-` (3/6) stack\n",
    "\n",
    "`-` (4/6) sum, mean, std, max, min, prod\n",
    "\n",
    "`-` (5/6) argmax, argmin, cumsum, cumprod, diff\n",
    "\n",
    "`-` (6/6) 숙제설명 \n"
   ]
  },
  {
   "cell_type": "markdown",
   "id": "3030e9d5-947a-4db7-af8b-f2153ca40d45",
   "metadata": {},
   "source": [
    "### imports "
   ]
  },
  {
   "cell_type": "code",
   "execution_count": 1,
   "id": "e2635b8a-f184-4fbd-b287-d7854df0ef1e",
   "metadata": {},
   "outputs": [],
   "source": [
    "import numpy as np"
   ]
  },
  {
   "cell_type": "markdown",
   "id": "a07b26ce-8441-4d2a-92bc-fa19d601710f",
   "metadata": {},
   "source": [
    "### numpy공부 3단계: 차원 "
   ]
  },
  {
   "cell_type": "markdown",
   "id": "06f382a7-a33f-4c21-babf-cef6cf704ff2",
   "metadata": {},
   "source": [
    "#### 2차원 배열과 연립 1차 방정식 "
   ]
  },
  {
   "cell_type": "markdown",
   "id": "07cb6e3d-636d-4195-a668-9034a3a7c2ef",
   "metadata": {},
   "source": [
    "`-` 아래의 연립방정식 고려 \n",
    "\n",
    "$\\begin{cases}\n",
    "y+z+w = 3 \\\\ \n",
    "x+z+w = 3 \\\\ \n",
    "x+y+w = 3 \\\\\n",
    "x+y+z = 3 \n",
    "\\end{cases}$"
   ]
  },
  {
   "cell_type": "markdown",
   "id": "ce98d450-23ae-450a-902e-c9a0323061c2",
   "metadata": {},
   "source": [
    "`-` 행렬표현? \n",
    "\n",
    "$\\begin{bmatrix} \n",
    "0 & 1 & 1 & 1 \\\\\n",
    "1 & 0 & 1 & 1 \\\\\n",
    "1 & 1 & 0 & 1 \\\\\n",
    "1 & 1 & 1 & 0 \n",
    "\\end{bmatrix}\n",
    "\\begin{bmatrix}\n",
    "x \\\\ \n",
    "y \\\\ \n",
    "z \\\\ \n",
    "w \n",
    "\\end{bmatrix} =\n",
    "\\begin{bmatrix}\n",
    "3 \\\\ \n",
    "3 \\\\ \n",
    "3 \\\\ \n",
    "3 \n",
    "\\end{bmatrix}$\n"
   ]
  },
  {
   "cell_type": "markdown",
   "id": "2435c553-bf4f-4050-bdc1-e4f7b2025486",
   "metadata": {},
   "source": [
    "`-` 풀이"
   ]
  },
  {
   "cell_type": "code",
   "execution_count": 21,
   "id": "08b11a43-786a-4f4c-bae6-86a63a7b3212",
   "metadata": {},
   "outputs": [
    {
     "data": {
      "text/plain": [
       "array([[0, 1, 1, 1],\n",
       "       [1, 0, 1, 1],\n",
       "       [1, 1, 0, 1],\n",
       "       [1, 1, 1, 0]])"
      ]
     },
     "execution_count": 21,
     "metadata": {},
     "output_type": "execute_result"
    }
   ],
   "source": [
    "A = np.array([[0,1,1,1],[1,0,1,1],[1,1,0,1],[1,1,1,0]])\n",
    "A"
   ]
  },
  {
   "cell_type": "code",
   "execution_count": 22,
   "id": "8ae6414e-de65-4002-b291-4d558ee944f1",
   "metadata": {},
   "outputs": [
    {
     "data": {
      "text/plain": [
       "array([[3],\n",
       "       [3],\n",
       "       [3],\n",
       "       [3]])"
      ]
     },
     "execution_count": 22,
     "metadata": {},
     "output_type": "execute_result"
    }
   ],
   "source": [
    "b= np.array([3,3,3,3]).reshape(4,1)\n",
    "b"
   ]
  },
  {
   "cell_type": "code",
   "execution_count": 23,
   "id": "43d86237-17cb-4c1a-9640-f405a4b3b9b9",
   "metadata": {},
   "outputs": [
    {
     "data": {
      "text/plain": [
       "array([[1.],\n",
       "       [1.],\n",
       "       [1.],\n",
       "       [1.]])"
      ]
     },
     "execution_count": 23,
     "metadata": {},
     "output_type": "execute_result"
    }
   ],
   "source": [
    "np.linalg.inv(A) @ b # 행렬은 좌우 순서가 바뀌면 안된다. "
   ]
  },
  {
   "cell_type": "markdown",
   "id": "b1ef483f-8bec-4320-bed2-4b10a35314f2",
   "metadata": {},
   "source": [
    "`-` 다른풀이 "
   ]
  },
  {
   "cell_type": "markdown",
   "id": "3490f834-d3a5-4919-a699-6eafe19084bf",
   "metadata": {},
   "source": [
    "b를 아래와 같이 만들어도 된다. "
   ]
  },
  {
   "cell_type": "code",
   "execution_count": 24,
   "id": "2712e8ef-9818-42a8-a638-59e113197d8e",
   "metadata": {},
   "outputs": [
    {
     "data": {
      "text/plain": [
       "array([3, 3, 3, 3])"
      ]
     },
     "execution_count": 24,
     "metadata": {},
     "output_type": "execute_result"
    }
   ],
   "source": [
    "b=np.array([3,3,3,3])\n",
    "b"
   ]
  },
  {
   "cell_type": "code",
   "execution_count": 25,
   "id": "aee791e1-b6ae-4619-9fe2-9c08288df0b9",
   "metadata": {},
   "outputs": [
    {
     "data": {
      "text/plain": [
       "(4,)"
      ]
     },
     "execution_count": 25,
     "metadata": {},
     "output_type": "execute_result"
    }
   ],
   "source": [
    "b.shape # b.shape(1차원)은 길이가 1인 튜플로 나온다. / shape은 배열의 형태를 보여주는 함수 "
   ]
  },
  {
   "cell_type": "code",
   "execution_count": 26,
   "id": "dbad004b-8a2a-4fc4-9c23-76cbef0f8e43",
   "metadata": {},
   "outputs": [
    {
     "data": {
      "text/plain": [
       "array([1., 1., 1., 1.])"
      ]
     },
     "execution_count": 26,
     "metadata": {},
     "output_type": "execute_result"
    }
   ],
   "source": [
    "np.linalg.inv(A) @ b "
   ]
  },
  {
   "cell_type": "markdown",
   "id": "e1996e7b-ab4b-43b7-bf34-57c3a7c9d389",
   "metadata": {},
   "source": [
    "#### `@`의 유연성 "
   ]
  },
  {
   "cell_type": "markdown",
   "id": "b4164d7b-1382-45e8-b13d-ae6b78e215ca",
   "metadata": {},
   "source": [
    "`-` 엄밀하게는 아래의 행렬곱이 가능하다. \n",
    "- (2,2) @ (2,1) => (2,1) \n",
    "- (1,2) @ (2,2) => (1,2) "
   ]
  },
  {
   "cell_type": "code",
   "execution_count": 31,
   "id": "3f385386-084f-4012-9eee-ae27213cd2ca",
   "metadata": {},
   "outputs": [
    {
     "data": {
      "text/plain": [
       "array([[ 5],\n",
       "       [11]])"
      ]
     },
     "execution_count": 31,
     "metadata": {},
     "output_type": "execute_result"
    }
   ],
   "source": [
    "A = np.array([1,2,3,4]).reshape(2,2) \n",
    "b = np.array([1,2]).reshape(2,1) \n",
    "A@b"
   ]
  },
  {
   "cell_type": "code",
   "execution_count": 32,
   "id": "0c40ad35-bb20-47db-8068-3ef43f254567",
   "metadata": {},
   "outputs": [
    {
     "data": {
      "text/plain": [
       "((2, 2), (2, 1), (2, 1))"
      ]
     },
     "execution_count": 32,
     "metadata": {},
     "output_type": "execute_result"
    }
   ],
   "source": [
    "A.shape, b.shape, (A@b).shape"
   ]
  },
  {
   "cell_type": "code",
   "execution_count": 35,
   "id": "444f1805-a716-46f3-b86c-30b8a6fe4b67",
   "metadata": {},
   "outputs": [
    {
     "data": {
      "text/plain": [
       "array([[ 7, 10]])"
      ]
     },
     "execution_count": 35,
     "metadata": {},
     "output_type": "execute_result"
    }
   ],
   "source": [
    "A = np.array([1,2,3,4]).reshape(2,2) \n",
    "b = np.array([1,2]).reshape(1,2) \n",
    "b@A # 행이 1이긴 하지만 어쨋든 2차원이다. "
   ]
  },
  {
   "cell_type": "code",
   "execution_count": 36,
   "id": "6324b91b-f623-411a-b336-db2347e08fe8",
   "metadata": {},
   "outputs": [
    {
     "data": {
      "text/plain": [
       "((2, 2), (1, 2), (1, 2))"
      ]
     },
     "execution_count": 36,
     "metadata": {},
     "output_type": "execute_result"
    }
   ],
   "source": [
    "A.shape, b.shape, (b@A).shape"
   ]
  },
  {
   "cell_type": "markdown",
   "id": "d8c0c54e-14e6-4d57-9be8-33ffb92dfd07",
   "metadata": {},
   "source": [
    "`-` 당연히 아래는 성립안한다. "
   ]
  },
  {
   "cell_type": "code",
   "execution_count": 37,
   "id": "65f8b6df-2125-4b3e-989f-3a007548a283",
   "metadata": {},
   "outputs": [
    {
     "ename": "ValueError",
     "evalue": "matmul: Input operand 1 has a mismatch in its core dimension 0, with gufunc signature (n?,k),(k,m?)->(n?,m?) (size 2 is different from 1)",
     "output_type": "error",
     "traceback": [
      "\u001b[0;31m---------------------------------------------------------------------------\u001b[0m",
      "\u001b[0;31mValueError\u001b[0m                                Traceback (most recent call last)",
      "Input \u001b[0;32mIn [37]\u001b[0m, in \u001b[0;36m<cell line: 3>\u001b[0;34m()\u001b[0m\n\u001b[1;32m      1\u001b[0m A \u001b[38;5;241m=\u001b[39m np\u001b[38;5;241m.\u001b[39marray([\u001b[38;5;241m1\u001b[39m,\u001b[38;5;241m2\u001b[39m,\u001b[38;5;241m3\u001b[39m,\u001b[38;5;241m4\u001b[39m])\u001b[38;5;241m.\u001b[39mreshape(\u001b[38;5;241m2\u001b[39m,\u001b[38;5;241m2\u001b[39m) \n\u001b[1;32m      2\u001b[0m b \u001b[38;5;241m=\u001b[39m np\u001b[38;5;241m.\u001b[39marray([\u001b[38;5;241m1\u001b[39m,\u001b[38;5;241m2\u001b[39m])\u001b[38;5;241m.\u001b[39mreshape(\u001b[38;5;241m2\u001b[39m,\u001b[38;5;241m1\u001b[39m) \n\u001b[0;32m----> 3\u001b[0m \u001b[43mb\u001b[49m\u001b[38;5;129;43m@A\u001b[39;49m\n",
      "\u001b[0;31mValueError\u001b[0m: matmul: Input operand 1 has a mismatch in its core dimension 0, with gufunc signature (n?,k),(k,m?)->(n?,m?) (size 2 is different from 1)"
     ]
    }
   ],
   "source": [
    "A = np.array([1,2,3,4]).reshape(2,2) \n",
    "b = np.array([1,2]).reshape(2,1) \n",
    "b@A # 그냥 행렬적으로 성립이 안됨. "
   ]
  },
  {
   "cell_type": "code",
   "execution_count": 38,
   "id": "4529299e-ebe4-42b1-9dc9-abc7a1539f29",
   "metadata": {},
   "outputs": [
    {
     "ename": "ValueError",
     "evalue": "matmul: Input operand 1 has a mismatch in its core dimension 0, with gufunc signature (n?,k),(k,m?)->(n?,m?) (size 1 is different from 2)",
     "output_type": "error",
     "traceback": [
      "\u001b[0;31m---------------------------------------------------------------------------\u001b[0m",
      "\u001b[0;31mValueError\u001b[0m                                Traceback (most recent call last)",
      "Input \u001b[0;32mIn [38]\u001b[0m, in \u001b[0;36m<cell line: 3>\u001b[0;34m()\u001b[0m\n\u001b[1;32m      1\u001b[0m A \u001b[38;5;241m=\u001b[39m np\u001b[38;5;241m.\u001b[39marray([\u001b[38;5;241m1\u001b[39m,\u001b[38;5;241m2\u001b[39m,\u001b[38;5;241m3\u001b[39m,\u001b[38;5;241m4\u001b[39m])\u001b[38;5;241m.\u001b[39mreshape(\u001b[38;5;241m2\u001b[39m,\u001b[38;5;241m2\u001b[39m) \n\u001b[1;32m      2\u001b[0m b \u001b[38;5;241m=\u001b[39m np\u001b[38;5;241m.\u001b[39marray([\u001b[38;5;241m1\u001b[39m,\u001b[38;5;241m2\u001b[39m])\u001b[38;5;241m.\u001b[39mreshape(\u001b[38;5;241m1\u001b[39m,\u001b[38;5;241m2\u001b[39m) \n\u001b[0;32m----> 3\u001b[0m \u001b[43mA\u001b[49m\u001b[38;5;129;43m@b\u001b[39;49m\n",
      "\u001b[0;31mValueError\u001b[0m: matmul: Input operand 1 has a mismatch in its core dimension 0, with gufunc signature (n?,k),(k,m?)->(n?,m?) (size 1 is different from 2)"
     ]
    }
   ],
   "source": [
    "A = np.array([1,2,3,4]).reshape(2,2) \n",
    "b = np.array([1,2]).reshape(1,2) \n",
    "A@b"
   ]
  },
  {
   "cell_type": "markdown",
   "id": "73381fae-806d-455b-983c-f0e8c56b0085",
   "metadata": {},
   "source": [
    "`-` 아래는 어떨까? 계산가능할까? $\\to$ 모두 계산가능!\n",
    "- (2,) @ (2,2) = (2,) / 1차원 백터 * 2차원 행렬 = 백터 (계산가능)\n",
    "- (2,2) @ (2,) = (2,) "
   ]
  },
  {
   "cell_type": "code",
   "execution_count": 39,
   "id": "ffcd07c1-0dc4-47f1-a189-44e4c6fdecfb",
   "metadata": {},
   "outputs": [
    {
     "data": {
      "text/plain": [
       "array([ 5, 11])"
      ]
     },
     "execution_count": 39,
     "metadata": {},
     "output_type": "execute_result"
    }
   ],
   "source": [
    "A = np.array([1,2,3,4]).reshape(2,2)\n",
    "b = np.array([1,2]) \n",
    "A@b"
   ]
  },
  {
   "cell_type": "code",
   "execution_count": 40,
   "id": "d80318a1-59e2-4769-b77a-20187c5c92a9",
   "metadata": {},
   "outputs": [
    {
     "data": {
      "text/plain": [
       "((2, 2), (2,), (2,))"
      ]
     },
     "execution_count": 40,
     "metadata": {},
     "output_type": "execute_result"
    }
   ],
   "source": [
    "A.shape, b.shape, (A@b).shape "
   ]
  },
  {
   "cell_type": "markdown",
   "id": "ae9df863-4ad2-4be8-8964-4b747b5b43ed",
   "metadata": {},
   "source": [
    "- b를 마치 (2,1)처럼 해석하여 행렬곱하고 결과는 다시 (2,) 로 만든것 같다. "
   ]
  },
  {
   "cell_type": "code",
   "execution_count": 41,
   "id": "284c9c9d-8ca0-4bcf-a4e3-01135ace1585",
   "metadata": {},
   "outputs": [
    {
     "data": {
      "text/plain": [
       "array([ 7, 10])"
      ]
     },
     "execution_count": 41,
     "metadata": {},
     "output_type": "execute_result"
    }
   ],
   "source": [
    "b@A"
   ]
  },
  {
   "cell_type": "code",
   "execution_count": 42,
   "id": "f1713d3f-755f-4e81-b76e-680129bc94de",
   "metadata": {},
   "outputs": [
    {
     "data": {
      "text/plain": [
       "((2, 2), (2,), (2,))"
      ]
     },
     "execution_count": 42,
     "metadata": {},
     "output_type": "execute_result"
    }
   ],
   "source": [
    "A.shape, b.shape, (b@A).shape "
   ]
  },
  {
   "cell_type": "markdown",
   "id": "db6231c5-518a-43e5-89ac-ca66c591f5f1",
   "metadata": {},
   "source": [
    "- 이때는 $b$를 마치 (1,2)처럼 해석하여 행렬곱하고 결과는 다시 (2,)로 만든것 같다. "
   ]
  },
  {
   "cell_type": "markdown",
   "id": "a7850b7e-9511-432d-8013-32c5ca11029e",
   "metadata": {},
   "source": [
    "`-` 아래는 어떠할까? "
   ]
  },
  {
   "cell_type": "code",
   "execution_count": 43,
   "id": "f4d49404-4635-462a-b344-ec00330c0f48",
   "metadata": {},
   "outputs": [
    {
     "data": {
      "text/plain": [
       "30"
      ]
     },
     "execution_count": 43,
     "metadata": {},
     "output_type": "execute_result"
    }
   ],
   "source": [
    "b1 = np.array([1,2,3,4]) \n",
    "b2 = np.array([1,2,3,4]) \n",
    "b1@b2 "
   ]
  },
  {
   "cell_type": "code",
   "execution_count": 44,
   "id": "a8a07683-309f-4dd4-a385-0f90ca4f7a50",
   "metadata": {},
   "outputs": [
    {
     "data": {
      "text/plain": [
       "((4,), (4,), ())"
      ]
     },
     "execution_count": 44,
     "metadata": {},
     "output_type": "execute_result"
    }
   ],
   "source": [
    "b1.shape, b2.shape, (b1@b2).shape "
   ]
  },
  {
   "cell_type": "markdown",
   "id": "41cba464-eeab-4a94-8bcb-7e33422c83d4",
   "metadata": {},
   "source": [
    "- (1,4) @ (4,1) = (1,1) 로 생각 "
   ]
  },
  {
   "cell_type": "markdown",
   "id": "3a60a894-e0f8-411f-aba4-30c89f4811be",
   "metadata": {},
   "source": [
    "`-` 즉 위는 아래와 같이 해석하고 행렬곱한것과 결과가 같다. "
   ]
  },
  {
   "cell_type": "code",
   "execution_count": 45,
   "id": "f045181e-37a9-4209-ba04-ca7e6c91c567",
   "metadata": {},
   "outputs": [
    {
     "data": {
      "text/plain": [
       "array([[30]])"
      ]
     },
     "execution_count": 45,
     "metadata": {},
     "output_type": "execute_result"
    }
   ],
   "source": [
    "b1 = np.array([1,2,3,4]).reshape(1,4) \n",
    "b2 = np.array([1,2,3,4]).reshape(4,1) \n",
    "b1@b2 "
   ]
  },
  {
   "cell_type": "code",
   "execution_count": 46,
   "id": "1e0820ee-2fd4-42fc-abfe-27322c6109dc",
   "metadata": {},
   "outputs": [
    {
     "data": {
      "text/plain": [
       "((1, 4), (4, 1), (1, 1))"
      ]
     },
     "execution_count": 46,
     "metadata": {},
     "output_type": "execute_result"
    }
   ],
   "source": [
    "b1.shape, b2.shape, (b1@b2).shape "
   ]
  },
  {
   "cell_type": "markdown",
   "id": "ef5aff6a-ffad-45bb-9d06-f5a71b69bf2a",
   "metadata": {},
   "source": [
    "`-` 때로는 (4,1) @ (1,4)와 같은 계산결과를 얻고 싶을 수 있는데 이때는 차원을 명시해야함 "
   ]
  },
  {
   "cell_type": "code",
   "execution_count": 48,
   "id": "fe08e734-68da-41a4-b875-c8381e1b5062",
   "metadata": {},
   "outputs": [
    {
     "data": {
      "text/plain": [
       "array([[ 1,  2,  3,  4],\n",
       "       [ 2,  4,  6,  8],\n",
       "       [ 3,  6,  9, 12],\n",
       "       [ 4,  8, 12, 16]])"
      ]
     },
     "execution_count": 48,
     "metadata": {},
     "output_type": "execute_result"
    }
   ],
   "source": [
    "b1 = np.array([1,2,3,4]).reshape(4,1) \n",
    "b2 = np.array([1,2,3,4]).reshape(1,4) \n",
    "b1@b2 "
   ]
  },
  {
   "cell_type": "markdown",
   "id": "7a0ac87f-f08c-497c-9395-7837e9720fb2",
   "metadata": {},
   "source": [
    "#### 차원 "
   ]
  },
  {
   "cell_type": "markdown",
   "id": "34e055e9-f096-47d4-bc13-0d0fd002bb2f",
   "metadata": {},
   "source": [
    "`-` 넘파이배열의 차원은 .shape 으로 확인가능 "
   ]
  },
  {
   "cell_type": "markdown",
   "id": "fd4e7ce1-c424-44e7-b645-b2400cb8109f",
   "metadata": {},
   "source": [
    "`-` 아래는 모두 미묘하게 다르다. "
   ]
  },
  {
   "cell_type": "code",
   "execution_count": 52,
   "id": "12b3ac2a-7e57-4676-9fa0-92d44a981f06",
   "metadata": {},
   "outputs": [
    {
     "data": {
      "text/plain": [
       "(array(3.14), ())"
      ]
     },
     "execution_count": 52,
     "metadata": {},
     "output_type": "execute_result"
    }
   ],
   "source": [
    "a=np.array(3.14) # 스칼라, 0d array / 0차원 .하나 방향이 없는 숫자 하나 \n",
    "a, a.shape       # 비어있는 튜플 출력"
   ]
  },
  {
   "cell_type": "code",
   "execution_count": 53,
   "id": "54ac53da-532b-4154-8365-d35b4b11ee69",
   "metadata": {},
   "outputs": [
    {
     "data": {
      "text/plain": [
       "(array([3.14]), (1,))"
      ]
     },
     "execution_count": 53,
     "metadata": {},
     "output_type": "execute_result"
    }
   ],
   "source": [
    "a=np.array([3.14]) # 벡터, 1d array / 숫자, 방향이 있는 값으로 일종의 선이라고 생각하며 된다. \n",
    "a, a.shape"
   ]
  },
  {
   "cell_type": "code",
   "execution_count": 54,
   "id": "67f77a5d-4cb9-47ba-b53e-aa4814385c87",
   "metadata": {},
   "outputs": [
    {
     "data": {
      "text/plain": [
       "(array([[3.14]]), (1, 1))"
      ]
     },
     "execution_count": 54,
     "metadata": {},
     "output_type": "execute_result"
    }
   ],
   "source": [
    "a=np.array([[3.14]]) # 매트릭스, 2d array / 백터들이 켜켜이 모인 것으로 일종의 면이라고 보면 된다. 좌표 \n",
    "a, a.shape"
   ]
  },
  {
   "cell_type": "code",
   "execution_count": 55,
   "id": "073727ee-8aed-44e3-8c57-a030f026bb12",
   "metadata": {},
   "outputs": [
    {
     "data": {
      "text/plain": [
       "(array([[[3.14]]]), (1, 1, 1))"
      ]
     },
     "execution_count": 55,
     "metadata": {},
     "output_type": "execute_result"
    }
   ],
   "source": [
    "a=np.array([[[3.14]]]) # 텐서, 3d array / 매트릭스가 모인 것으로 정육면체를 생각하면 됨. \n",
    "a, a.shape"
   ]
  },
  {
   "cell_type": "markdown",
   "id": "09170a10-0d10-4c4b-82c8-515df1f41384",
   "metadata": {},
   "source": [
    "### numpy공부 4단계: 축 "
   ]
  },
  {
   "cell_type": "markdown",
   "id": "75edc68a-0171-434b-bbf1-6dc70a7cb19a",
   "metadata": {},
   "source": [
    "#### np.concatenate"
   ]
  },
  {
   "cell_type": "markdown",
   "id": "56086a2f-a236-4c5a-ab11-1c4cbc1052d3",
   "metadata": {},
   "source": [
    "numpy array 결합하는 방법."
   ]
  },
  {
   "cell_type": "markdown",
   "id": "59709155-a474-4bd1-88b5-a4461396b9ce",
   "metadata": {},
   "source": [
    "`-` 기본예제 "
   ]
  },
  {
   "cell_type": "code",
   "execution_count": 56,
   "id": "66c0640b-575d-40f6-aa28-6d050481ed1c",
   "metadata": {},
   "outputs": [],
   "source": [
    "a=np.array([1,2]) \n",
    "b=-a"
   ]
  },
  {
   "cell_type": "code",
   "execution_count": 58,
   "id": "9996ad5b-0ecf-4943-9e6a-1e44263766c1",
   "metadata": {},
   "outputs": [
    {
     "data": {
      "text/plain": [
       "array([ 1,  2, -1, -2])"
      ]
     },
     "execution_count": 58,
     "metadata": {},
     "output_type": "execute_result"
    }
   ],
   "source": [
    "np.concatenate([a,b]) # 좌우를 합치는 함수."
   ]
  },
  {
   "cell_type": "markdown",
   "id": "ef3c5706-2a11-4bbb-b38b-b49eff2f03ed",
   "metadata": {},
   "source": [
    "`-` 응용 "
   ]
  },
  {
   "cell_type": "code",
   "execution_count": 59,
   "id": "bd424ad4-a515-41f4-8a61-05f121b57112",
   "metadata": {},
   "outputs": [],
   "source": [
    "a=np.array([1,2])\n",
    "b=-a \n",
    "c=np.array([3,4,5])"
   ]
  },
  {
   "cell_type": "code",
   "execution_count": 61,
   "id": "6d30823b-efe8-4389-8378-6b4a5eeafe36",
   "metadata": {},
   "outputs": [
    {
     "data": {
      "text/plain": [
       "array([ 1,  2, -1, -2,  3,  4,  5])"
      ]
     },
     "execution_count": 61,
     "metadata": {},
     "output_type": "execute_result"
    }
   ],
   "source": [
    "np.concatenate([a,b,c]) # 배열 3개 합치기"
   ]
  },
  {
   "cell_type": "markdown",
   "id": "b7b245c1-e386-422c-9728-798e7049111a",
   "metadata": {},
   "source": [
    "- 여기까진 딱히 칸캐터네이트의 메리트가 없어보임\n",
    "- 리스트였다면 a+b+c 하면 되는 기능이니까? "
   ]
  },
  {
   "cell_type": "markdown",
   "id": "ef59d3a8-13f9-4617-8831-a3294ddb288a",
   "metadata": {},
   "source": [
    "`-` 2d array에 적용해보자. "
   ]
  },
  {
   "cell_type": "code",
   "execution_count": 62,
   "id": "4e9249a9-9ca0-4637-bb07-85f939d903cf",
   "metadata": {},
   "outputs": [],
   "source": [
    "a=np.arange(4).reshape(2,2) \n",
    "b=-a"
   ]
  },
  {
   "cell_type": "code",
   "execution_count": 63,
   "id": "1f5f13b2-f80f-46eb-88d3-f3a0e8fab80e",
   "metadata": {},
   "outputs": [
    {
     "data": {
      "text/plain": [
       "array([[ 0,  1],\n",
       "       [ 2,  3],\n",
       "       [ 0, -1],\n",
       "       [-2, -3]])"
      ]
     },
     "execution_count": 63,
     "metadata": {},
     "output_type": "execute_result"
    }
   ],
   "source": [
    "np.concatenate([a,b]) "
   ]
  },
  {
   "cell_type": "markdown",
   "id": "eee185ca-f588-436a-9fbf-d9fa947a6ba6",
   "metadata": {},
   "source": [
    "`-` 옆으로 붙일려면? "
   ]
  },
  {
   "cell_type": "code",
   "execution_count": 63,
   "id": "247bae92-7e32-4ea4-9d12-5b043b71d73a",
   "metadata": {},
   "outputs": [
    {
     "data": {
      "text/plain": [
       "array([[ 0,  1,  0, -1],\n",
       "       [ 2,  3, -2, -3]])"
      ]
     },
     "execution_count": 63,
     "metadata": {},
     "output_type": "execute_result"
    }
   ],
   "source": [
    "np.concatenate([a,b],axis=1)"
   ]
  },
  {
   "cell_type": "markdown",
   "id": "b6ae904b-d95f-4e61-b25a-9a57f6d67a69",
   "metadata": {},
   "source": [
    "`-` 위의 코드에서 axis=1 이 뭐지? axis=0,2 등을 치면 결과가 어떻게 될까? "
   ]
  },
  {
   "cell_type": "code",
   "execution_count": 64,
   "id": "700eb17e-62f2-4eee-9b82-fcd0ae4fba55",
   "metadata": {},
   "outputs": [
    {
     "data": {
      "text/plain": [
       "array([[ 0,  1],\n",
       "       [ 2,  3],\n",
       "       [ 0, -1],\n",
       "       [-2, -3]])"
      ]
     },
     "execution_count": 64,
     "metadata": {},
     "output_type": "execute_result"
    }
   ],
   "source": [
    "np.concatenate([a,b],axis=0)"
   ]
  },
  {
   "cell_type": "markdown",
   "id": "415d4ecb-f8cb-4261-9662-186cc0b45dfb",
   "metadata": {},
   "source": [
    "- 이건 그냥 np.concatenate([a,b])와 같다. \n",
    "- np.concatenate([a,b])는 np.concatenate([a,b],axis=0)의 생략버전이군? "
   ]
  },
  {
   "cell_type": "code",
   "execution_count": 65,
   "id": "87f9226c-0a10-450c-bf3f-4c33baa68e61",
   "metadata": {},
   "outputs": [
    {
     "ename": "AxisError",
     "evalue": "axis 2 is out of bounds for array of dimension 2",
     "output_type": "error",
     "traceback": [
      "\u001b[0;31m---------------------------------------------------------------------------\u001b[0m",
      "\u001b[0;31mAxisError\u001b[0m                                 Traceback (most recent call last)",
      "Input \u001b[0;32mIn [65]\u001b[0m, in \u001b[0;36m<cell line: 1>\u001b[0;34m()\u001b[0m\n\u001b[0;32m----> 1\u001b[0m \u001b[43mnp\u001b[49m\u001b[38;5;241;43m.\u001b[39;49m\u001b[43mconcatenate\u001b[49m\u001b[43m(\u001b[49m\u001b[43m[\u001b[49m\u001b[43ma\u001b[49m\u001b[43m,\u001b[49m\u001b[43mb\u001b[49m\u001b[43m]\u001b[49m\u001b[43m,\u001b[49m\u001b[43maxis\u001b[49m\u001b[38;5;241;43m=\u001b[39;49m\u001b[38;5;241;43m2\u001b[39;49m\u001b[43m)\u001b[49m\n",
      "File \u001b[0;32m<__array_function__ internals>:5\u001b[0m, in \u001b[0;36mconcatenate\u001b[0;34m(*args, **kwargs)\u001b[0m\n",
      "\u001b[0;31mAxisError\u001b[0m: axis 2 is out of bounds for array of dimension 2"
     ]
    }
   ],
   "source": [
    "np.concatenate([a,b],axis=2)"
   ]
  },
  {
   "cell_type": "markdown",
   "id": "a04f1430-d39e-41df-b9c2-877a73153f09",
   "metadata": {},
   "source": [
    "- 이런건 없다. "
   ]
  },
  {
   "cell_type": "markdown",
   "id": "a8fcc2a3-e204-4169-a8d4-cde29b7a366c",
   "metadata": {},
   "source": [
    "`-` axis의 의미가 뭔지 궁금함. 좀 더 예제를 살펴보자. "
   ]
  },
  {
   "cell_type": "code",
   "execution_count": 68,
   "id": "71170009-8f61-47d7-9d73-d1318644d89f",
   "metadata": {},
   "outputs": [
    {
     "data": {
      "text/plain": [
       "array([[[ 0,  1,  2,  3],\n",
       "        [ 4,  5,  6,  7],\n",
       "        [ 8,  9, 10, 11]],\n",
       "\n",
       "       [[12, 13, 14, 15],\n",
       "        [16, 17, 18, 19],\n",
       "        [20, 21, 22, 23]]])"
      ]
     },
     "execution_count": 68,
     "metadata": {},
     "output_type": "execute_result"
    }
   ],
   "source": [
    "a=np.array(range(2*3*4)).reshape(2,3,4)\n",
    "a"
   ]
  },
  {
   "cell_type": "code",
   "execution_count": 69,
   "id": "b34c573d-d78d-4bbf-8d42-0d65b340b693",
   "metadata": {},
   "outputs": [
    {
     "data": {
      "text/plain": [
       "array([[[  0,  -1,  -2,  -3],\n",
       "        [ -4,  -5,  -6,  -7],\n",
       "        [ -8,  -9, -10, -11]],\n",
       "\n",
       "       [[-12, -13, -14, -15],\n",
       "        [-16, -17, -18, -19],\n",
       "        [-20, -21, -22, -23]]])"
      ]
     },
     "execution_count": 69,
     "metadata": {},
     "output_type": "execute_result"
    }
   ],
   "source": [
    "b=-a\n",
    "b"
   ]
  },
  {
   "cell_type": "code",
   "execution_count": 70,
   "id": "b2b61d8f-e34d-4a6f-a456-e95e9c2337ad",
   "metadata": {},
   "outputs": [
    {
     "data": {
      "text/plain": [
       "array([[[  0,   1,   2,   3],\n",
       "        [  4,   5,   6,   7],\n",
       "        [  8,   9,  10,  11]],\n",
       "\n",
       "       [[ 12,  13,  14,  15],\n",
       "        [ 16,  17,  18,  19],\n",
       "        [ 20,  21,  22,  23]],\n",
       "\n",
       "       [[  0,  -1,  -2,  -3],\n",
       "        [ -4,  -5,  -6,  -7],\n",
       "        [ -8,  -9, -10, -11]],\n",
       "\n",
       "       [[-12, -13, -14, -15],\n",
       "        [-16, -17, -18, -19],\n",
       "        [-20, -21, -22, -23]]])"
      ]
     },
     "execution_count": 70,
     "metadata": {},
     "output_type": "execute_result"
    }
   ],
   "source": [
    "np.concatenate([a,b],axis=0) "
   ]
  },
  {
   "cell_type": "code",
   "execution_count": 72,
   "id": "4850d478-33f1-4e98-92df-74a573901ec4",
   "metadata": {},
   "outputs": [
    {
     "data": {
      "text/plain": [
       "array([[[  0,   1,   2,   3],\n",
       "        [  4,   5,   6,   7],\n",
       "        [  8,   9,  10,  11],\n",
       "        [  0,  -1,  -2,  -3],\n",
       "        [ -4,  -5,  -6,  -7],\n",
       "        [ -8,  -9, -10, -11]],\n",
       "\n",
       "       [[ 12,  13,  14,  15],\n",
       "        [ 16,  17,  18,  19],\n",
       "        [ 20,  21,  22,  23],\n",
       "        [-12, -13, -14, -15],\n",
       "        [-16, -17, -18, -19],\n",
       "        [-20, -21, -22, -23]]])"
      ]
     },
     "execution_count": 72,
     "metadata": {},
     "output_type": "execute_result"
    }
   ],
   "source": [
    "np.concatenate([a,b],axis=1) "
   ]
  },
  {
   "cell_type": "code",
   "execution_count": 73,
   "id": "aa9dd9f1-4f0e-4da7-9754-1898d52aaa47",
   "metadata": {},
   "outputs": [
    {
     "data": {
      "text/plain": [
       "array([[[  0,   1,   2,   3,   0,  -1,  -2,  -3],\n",
       "        [  4,   5,   6,   7,  -4,  -5,  -6,  -7],\n",
       "        [  8,   9,  10,  11,  -8,  -9, -10, -11]],\n",
       "\n",
       "       [[ 12,  13,  14,  15, -12, -13, -14, -15],\n",
       "        [ 16,  17,  18,  19, -16, -17, -18, -19],\n",
       "        [ 20,  21,  22,  23, -20, -21, -22, -23]]])"
      ]
     },
     "execution_count": 73,
     "metadata": {},
     "output_type": "execute_result"
    }
   ],
   "source": [
    "np.concatenate([a,b],axis=2) "
   ]
  },
  {
   "cell_type": "markdown",
   "id": "1b7611fa-e1b1-4601-8b58-2e27f9732c54",
   "metadata": {},
   "source": [
    "- 이번에는 axis=2까지 된다? "
   ]
  },
  {
   "cell_type": "code",
   "execution_count": 75,
   "id": "b00b71bc-d005-4dd4-8c20-9885201c5c2e",
   "metadata": {},
   "outputs": [
    {
     "ename": "AxisError",
     "evalue": "axis 3 is out of bounds for array of dimension 3",
     "output_type": "error",
     "traceback": [
      "\u001b[0;31m---------------------------------------------------------------------------\u001b[0m",
      "\u001b[0;31mAxisError\u001b[0m                                 Traceback (most recent call last)",
      "Input \u001b[0;32mIn [75]\u001b[0m, in \u001b[0;36m<cell line: 1>\u001b[0;34m()\u001b[0m\n\u001b[0;32m----> 1\u001b[0m \u001b[43mnp\u001b[49m\u001b[38;5;241;43m.\u001b[39;49m\u001b[43mconcatenate\u001b[49m\u001b[43m(\u001b[49m\u001b[43m[\u001b[49m\u001b[43ma\u001b[49m\u001b[43m,\u001b[49m\u001b[43mb\u001b[49m\u001b[43m]\u001b[49m\u001b[43m,\u001b[49m\u001b[43maxis\u001b[49m\u001b[38;5;241;43m=\u001b[39;49m\u001b[38;5;241;43m3\u001b[39;49m\u001b[43m)\u001b[49m\n",
      "File \u001b[0;32m<__array_function__ internals>:5\u001b[0m, in \u001b[0;36mconcatenate\u001b[0;34m(*args, **kwargs)\u001b[0m\n",
      "\u001b[0;31mAxisError\u001b[0m: axis 3 is out of bounds for array of dimension 3"
     ]
    }
   ],
   "source": [
    "np.concatenate([a,b],axis=3) "
   ]
  },
  {
   "cell_type": "markdown",
   "id": "fcf6f5ae-3df9-47a8-a67a-910168f84ff8",
   "metadata": {},
   "source": [
    "- axis=3까지는 안된다? "
   ]
  },
  {
   "cell_type": "markdown",
   "id": "8ced84e4-9086-48c6-a828-4cef6769782a",
   "metadata": {},
   "source": [
    "`-` 뭔가 나름의 방식으로 합쳐지는데 원리가 뭘까? "
   ]
  },
  {
   "cell_type": "markdown",
   "id": "e44bf1e0-1c0f-47f3-9398-36b1397ccc27",
   "metadata": {},
   "source": [
    "(분석1) np.concatenate([a,b],axis=0) "
   ]
  },
  {
   "cell_type": "code",
   "execution_count": 80,
   "id": "d34e7ddb-c1fc-4d57-bd0e-362e86adc572",
   "metadata": {},
   "outputs": [],
   "source": [
    "a=np.array(range(2*3*4)).reshape(2,3,4) \n",
    "b=-a "
   ]
  },
  {
   "cell_type": "code",
   "execution_count": 86,
   "id": "c0c1bbeb-b713-4e27-8454-7ff0d49e90be",
   "metadata": {},
   "outputs": [
    {
     "data": {
      "text/plain": [
       "((2, 3, 4), (2, 3, 4), (4, 3, 4))"
      ]
     },
     "execution_count": 86,
     "metadata": {},
     "output_type": "execute_result"
    }
   ],
   "source": [
    "a.shape, b.shape, np.concatenate([a,b],axis=0).shape"
   ]
  },
  {
   "cell_type": "markdown",
   "id": "e08b51db-aad6-4af0-9ca3-dcc9381b811c",
   "metadata": {},
   "source": [
    "- 첫번째차원이 바뀌었다 => 첫번째 축이 바뀌었다 => axis=0 (파이썬은 0부터 시작하니까!) "
   ]
  },
  {
   "cell_type": "markdown",
   "id": "fb76de45-b874-4c2f-9489-f0b32694d599",
   "metadata": {},
   "source": [
    "(분석2) np.concatenate([a,b],axis=1) "
   ]
  },
  {
   "cell_type": "code",
   "execution_count": 88,
   "id": "114705d5-cf48-4895-9986-a14ded1e0eb6",
   "metadata": {},
   "outputs": [],
   "source": [
    "a=np.array(range(2*3*4)).reshape(2,3,4) \n",
    "b=-a "
   ]
  },
  {
   "cell_type": "code",
   "execution_count": 89,
   "id": "575a789d-f61b-4293-9604-c9cc85f60970",
   "metadata": {},
   "outputs": [
    {
     "data": {
      "text/plain": [
       "((2, 3, 4), (2, 3, 4), (2, 6, 4))"
      ]
     },
     "execution_count": 89,
     "metadata": {},
     "output_type": "execute_result"
    }
   ],
   "source": [
    "a.shape, b.shape, np.concatenate([a,b],axis=1).shape"
   ]
  },
  {
   "cell_type": "markdown",
   "id": "31a7db50-265e-4638-80b2-4d6b5b746dba",
   "metadata": {},
   "source": [
    "- 두번째차원이 바뀌었다 => 두번째 축이 바뀌었다 => axis=1"
   ]
  },
  {
   "cell_type": "markdown",
   "id": "95439c34-73d6-4974-93cd-8c37c54fb876",
   "metadata": {},
   "source": [
    "(분석3) np.concatenate([a,b],axis=2) "
   ]
  },
  {
   "cell_type": "code",
   "execution_count": 90,
   "id": "86dc0573-2747-4bea-8b0d-373ee5a3a761",
   "metadata": {},
   "outputs": [],
   "source": [
    "a=np.array(range(2*3*4)).reshape(2,3,4) \n",
    "b=-a "
   ]
  },
  {
   "cell_type": "code",
   "execution_count": 92,
   "id": "4a337532-0e0c-4eb1-ab28-166c469fa30d",
   "metadata": {},
   "outputs": [
    {
     "data": {
      "text/plain": [
       "((2, 3, 4), (2, 3, 4), (2, 3, 8))"
      ]
     },
     "execution_count": 92,
     "metadata": {},
     "output_type": "execute_result"
    }
   ],
   "source": [
    "a.shape, b.shape, np.concatenate([a,b],axis=2).shape"
   ]
  },
  {
   "cell_type": "markdown",
   "id": "a5db8770-eaf5-4976-9b9c-b50fa04e5d21",
   "metadata": {},
   "source": [
    "- 세번째차원이 바뀌었다 => 세번째 축이 바뀌었다 => axis=2"
   ]
  },
  {
   "cell_type": "markdown",
   "id": "cb93dfa0-c017-44ec-a135-a6d94a3f4eda",
   "metadata": {},
   "source": [
    "(분석4) np.concatenate([a,b],axis=3) "
   ]
  },
  {
   "cell_type": "code",
   "execution_count": 94,
   "id": "5bf47de6-ea50-4e9a-959b-fe62363ae243",
   "metadata": {},
   "outputs": [],
   "source": [
    "a=np.array(range(2*3*4)).reshape(2,3,4) \n",
    "b=-a "
   ]
  },
  {
   "cell_type": "code",
   "execution_count": 95,
   "id": "9a1f963b-b55e-4710-a3b5-bbc9fd828263",
   "metadata": {},
   "outputs": [
    {
     "ename": "AxisError",
     "evalue": "axis 3 is out of bounds for array of dimension 3",
     "output_type": "error",
     "traceback": [
      "\u001b[0;31m---------------------------------------------------------------------------\u001b[0m",
      "\u001b[0;31mAxisError\u001b[0m                                 Traceback (most recent call last)",
      "Input \u001b[0;32mIn [95]\u001b[0m, in \u001b[0;36m<cell line: 1>\u001b[0;34m()\u001b[0m\n\u001b[0;32m----> 1\u001b[0m a\u001b[38;5;241m.\u001b[39mshape, b\u001b[38;5;241m.\u001b[39mshape, \u001b[43mnp\u001b[49m\u001b[38;5;241;43m.\u001b[39;49m\u001b[43mconcatenate\u001b[49m\u001b[43m(\u001b[49m\u001b[43m[\u001b[49m\u001b[43ma\u001b[49m\u001b[43m,\u001b[49m\u001b[43mb\u001b[49m\u001b[43m]\u001b[49m\u001b[43m,\u001b[49m\u001b[43maxis\u001b[49m\u001b[38;5;241;43m=\u001b[39;49m\u001b[38;5;241;43m3\u001b[39;49m\u001b[43m)\u001b[49m\u001b[38;5;241m.\u001b[39mshape\n",
      "File \u001b[0;32m<__array_function__ internals>:5\u001b[0m, in \u001b[0;36mconcatenate\u001b[0;34m(*args, **kwargs)\u001b[0m\n",
      "\u001b[0;31mAxisError\u001b[0m: axis 3 is out of bounds for array of dimension 3"
     ]
    }
   ],
   "source": [
    "a.shape, b.shape, np.concatenate([a,b],axis=3).shape"
   ]
  },
  {
   "cell_type": "markdown",
   "id": "0fe2e441-fe00-46ec-9175-ddca20e84a75",
   "metadata": {},
   "source": [
    "- 네번째차원이 없다 => 네번째 축이 없다 => axis=3으로 하면 에러가 난다. "
   ]
  },
  {
   "cell_type": "markdown",
   "id": "11318e2f-2d2a-45c8-810c-e22d251bd320",
   "metadata": {},
   "source": [
    "(보너스1) "
   ]
  },
  {
   "cell_type": "code",
   "execution_count": 99,
   "id": "5b52ac14-7712-429d-8371-b1d1f22752fb",
   "metadata": {},
   "outputs": [],
   "source": [
    "a=np.array(range(2*3*4)).reshape(2,3,4) \n",
    "b=-a "
   ]
  },
  {
   "cell_type": "code",
   "execution_count": 101,
   "id": "0bb7ccf2-cb13-4398-88ca-d57d6b2f87c2",
   "metadata": {},
   "outputs": [
    {
     "data": {
      "text/plain": [
       "array([[[  0,   1,   2,   3,   0,  -1,  -2,  -3],\n",
       "        [  4,   5,   6,   7,  -4,  -5,  -6,  -7],\n",
       "        [  8,   9,  10,  11,  -8,  -9, -10, -11]],\n",
       "\n",
       "       [[ 12,  13,  14,  15, -12, -13, -14, -15],\n",
       "        [ 16,  17,  18,  19, -16, -17, -18, -19],\n",
       "        [ 20,  21,  22,  23, -20, -21, -22, -23]]])"
      ]
     },
     "execution_count": 101,
     "metadata": {},
     "output_type": "execute_result"
    }
   ],
   "source": [
    "np.concatenate([a,b],axis=-1)"
   ]
  },
  {
   "cell_type": "code",
   "execution_count": 100,
   "id": "81c69eec-b650-43c3-b744-e42351103043",
   "metadata": {},
   "outputs": [
    {
     "data": {
      "text/plain": [
       "((2, 3, 4), (2, 3, 4), (2, 3, 8))"
      ]
     },
     "execution_count": 100,
     "metadata": {},
     "output_type": "execute_result"
    }
   ],
   "source": [
    "a.shape, b.shape, np.concatenate([a,b],axis=-1).shape"
   ]
  },
  {
   "cell_type": "markdown",
   "id": "f45a4e88-0083-4fcb-86b1-976c6ae29984",
   "metadata": {},
   "source": [
    "- 마지막 차원이 바뀌었다 => 마지막 축이 바뀌었다 => axis = -1 "
   ]
  },
  {
   "cell_type": "markdown",
   "id": "3de84c47-e809-4c24-85d2-37200a15b96a",
   "metadata": {},
   "source": [
    "(보너스2) "
   ]
  },
  {
   "cell_type": "code",
   "execution_count": 107,
   "id": "37c81005-22bc-49cc-a471-104baba97bda",
   "metadata": {},
   "outputs": [],
   "source": [
    "a=np.array(range(2*3*4)).reshape(2,3,4) \n",
    "b=-a "
   ]
  },
  {
   "cell_type": "code",
   "execution_count": 108,
   "id": "1af9f889-dc1d-4f4d-95a6-fb1eb908d629",
   "metadata": {},
   "outputs": [
    {
     "data": {
      "text/plain": [
       "array([[[  0,   1,   2,   3],\n",
       "        [  4,   5,   6,   7],\n",
       "        [  8,   9,  10,  11],\n",
       "        [  0,  -1,  -2,  -3],\n",
       "        [ -4,  -5,  -6,  -7],\n",
       "        [ -8,  -9, -10, -11]],\n",
       "\n",
       "       [[ 12,  13,  14,  15],\n",
       "        [ 16,  17,  18,  19],\n",
       "        [ 20,  21,  22,  23],\n",
       "        [-12, -13, -14, -15],\n",
       "        [-16, -17, -18, -19],\n",
       "        [-20, -21, -22, -23]]])"
      ]
     },
     "execution_count": 108,
     "metadata": {},
     "output_type": "execute_result"
    }
   ],
   "source": [
    "np.concatenate([a,b],axis=-2)"
   ]
  },
  {
   "cell_type": "code",
   "execution_count": 109,
   "id": "ed3a2cc6-9992-49a3-8d80-4ebe09b7f26a",
   "metadata": {},
   "outputs": [
    {
     "data": {
      "text/plain": [
       "((2, 3, 4), (2, 3, 4), (2, 6, 4))"
      ]
     },
     "execution_count": 109,
     "metadata": {},
     "output_type": "execute_result"
    }
   ],
   "source": [
    "a.shape, b.shape, np.concatenate([a,b],axis=-2).shape"
   ]
  },
  {
   "cell_type": "markdown",
   "id": "e4ad2820-f172-426f-a7ae-0454044164a8",
   "metadata": {},
   "source": [
    "- 마지막에서 2번째 차원이 바뀌었다 => 마지막에서 2번째 축이 바뀌었다 => axis = -2 "
   ]
  },
  {
   "cell_type": "markdown",
   "id": "248cb5e5-83c1-4c34-947b-96746d4c2603",
   "metadata": {},
   "source": [
    "(보너스3) "
   ]
  },
  {
   "cell_type": "code",
   "execution_count": 110,
   "id": "50ec9373-6fd7-4197-8745-0318cb80c423",
   "metadata": {},
   "outputs": [],
   "source": [
    "a=np.array(range(2*3*4)).reshape(2,3,4) \n",
    "b=-a "
   ]
  },
  {
   "cell_type": "code",
   "execution_count": 111,
   "id": "57cbbade-1f8e-42ef-be9c-79e9196c9d0b",
   "metadata": {},
   "outputs": [
    {
     "data": {
      "text/plain": [
       "array([[[  0,   1,   2,   3],\n",
       "        [  4,   5,   6,   7],\n",
       "        [  8,   9,  10,  11]],\n",
       "\n",
       "       [[ 12,  13,  14,  15],\n",
       "        [ 16,  17,  18,  19],\n",
       "        [ 20,  21,  22,  23]],\n",
       "\n",
       "       [[  0,  -1,  -2,  -3],\n",
       "        [ -4,  -5,  -6,  -7],\n",
       "        [ -8,  -9, -10, -11]],\n",
       "\n",
       "       [[-12, -13, -14, -15],\n",
       "        [-16, -17, -18, -19],\n",
       "        [-20, -21, -22, -23]]])"
      ]
     },
     "execution_count": 111,
     "metadata": {},
     "output_type": "execute_result"
    }
   ],
   "source": [
    "np.concatenate([a,b],axis=-3)"
   ]
  },
  {
   "cell_type": "code",
   "execution_count": 112,
   "id": "c4c27221-7f1d-4088-8541-08b51226fe1b",
   "metadata": {},
   "outputs": [
    {
     "data": {
      "text/plain": [
       "((2, 3, 4), (2, 3, 4), (4, 3, 4))"
      ]
     },
     "execution_count": 112,
     "metadata": {},
     "output_type": "execute_result"
    }
   ],
   "source": [
    "a.shape, b.shape, np.concatenate([a,b],axis=-3).shape"
   ]
  },
  {
   "cell_type": "markdown",
   "id": "12a9ed08-1b30-427d-9cdb-912837b84b0f",
   "metadata": {},
   "source": [
    "- 마지막에서 3번째 차원이 바뀌었다 => 마지막에서 3번째 축이 바뀌었다 => axis = -3 "
   ]
  },
  {
   "cell_type": "markdown",
   "id": "c415d73b-be40-4be1-b899-e2f3e95e0148",
   "metadata": {},
   "source": [
    "(보너스3) "
   ]
  },
  {
   "cell_type": "code",
   "execution_count": 114,
   "id": "b4daf0a8-2749-40e2-9777-6d92ff7f0ebd",
   "metadata": {},
   "outputs": [],
   "source": [
    "a=np.array(range(2*3*4)).reshape(2,3,4) \n",
    "b=-a "
   ]
  },
  {
   "cell_type": "code",
   "execution_count": 115,
   "id": "3723d310-d2dd-439d-a22f-43e9c57ad17d",
   "metadata": {},
   "outputs": [
    {
     "ename": "AxisError",
     "evalue": "axis -4 is out of bounds for array of dimension 3",
     "output_type": "error",
     "traceback": [
      "\u001b[0;31m---------------------------------------------------------------------------\u001b[0m",
      "\u001b[0;31mAxisError\u001b[0m                                 Traceback (most recent call last)",
      "Input \u001b[0;32mIn [115]\u001b[0m, in \u001b[0;36m<cell line: 1>\u001b[0;34m()\u001b[0m\n\u001b[0;32m----> 1\u001b[0m \u001b[43mnp\u001b[49m\u001b[38;5;241;43m.\u001b[39;49m\u001b[43mconcatenate\u001b[49m\u001b[43m(\u001b[49m\u001b[43m[\u001b[49m\u001b[43ma\u001b[49m\u001b[43m,\u001b[49m\u001b[43mb\u001b[49m\u001b[43m]\u001b[49m\u001b[43m,\u001b[49m\u001b[43maxis\u001b[49m\u001b[38;5;241;43m=\u001b[39;49m\u001b[38;5;241;43m-\u001b[39;49m\u001b[38;5;241;43m4\u001b[39;49m\u001b[43m)\u001b[49m\n",
      "File \u001b[0;32m<__array_function__ internals>:5\u001b[0m, in \u001b[0;36mconcatenate\u001b[0;34m(*args, **kwargs)\u001b[0m\n",
      "\u001b[0;31mAxisError\u001b[0m: axis -4 is out of bounds for array of dimension 3"
     ]
    }
   ],
   "source": [
    "np.concatenate([a,b],axis=-4)"
   ]
  },
  {
   "cell_type": "markdown",
   "id": "8ac9bfe4-84ec-4692-995b-c59a2e88445d",
   "metadata": {},
   "source": [
    "- 마지막에서 4번째 차원은 없다 => 마지막에서 4번째 축이 없다 => axis = -4는 에러가 난다. "
   ]
  },
  {
   "cell_type": "markdown",
   "id": "8dbc07d4-027d-4dd2-88ee-7dc578344b7e",
   "metadata": {},
   "source": [
    "`-` 0차원은 축이 없으므로 concatenate를 쓸 수 없다. "
   ]
  },
  {
   "cell_type": "code",
   "execution_count": 125,
   "id": "35a46f18-a00b-4ba9-b610-5b0f73600d24",
   "metadata": {},
   "outputs": [],
   "source": [
    "a= np.array(1)\n",
    "b= np.array(-1) "
   ]
  },
  {
   "cell_type": "code",
   "execution_count": 126,
   "id": "3cb3fef8-0e17-49af-9cf9-f5319de52d87",
   "metadata": {},
   "outputs": [
    {
     "data": {
      "text/plain": [
       "((), ())"
      ]
     },
     "execution_count": 126,
     "metadata": {},
     "output_type": "execute_result"
    }
   ],
   "source": [
    "a.shape, b.shape"
   ]
  },
  {
   "cell_type": "code",
   "execution_count": 127,
   "id": "4d487a99-6b39-42a8-b2d5-bc36a0e40562",
   "metadata": {},
   "outputs": [
    {
     "ename": "ValueError",
     "evalue": "zero-dimensional arrays cannot be concatenated",
     "output_type": "error",
     "traceback": [
      "\u001b[0;31m---------------------------------------------------------------------------\u001b[0m",
      "\u001b[0;31mValueError\u001b[0m                                Traceback (most recent call last)",
      "Input \u001b[0;32mIn [127]\u001b[0m, in \u001b[0;36m<cell line: 1>\u001b[0;34m()\u001b[0m\n\u001b[0;32m----> 1\u001b[0m \u001b[43mnp\u001b[49m\u001b[38;5;241;43m.\u001b[39;49m\u001b[43mconcatenate\u001b[49m\u001b[43m(\u001b[49m\u001b[43m[\u001b[49m\u001b[43ma\u001b[49m\u001b[43m,\u001b[49m\u001b[43mb\u001b[49m\u001b[43m]\u001b[49m\u001b[43m)\u001b[49m\n",
      "File \u001b[0;32m<__array_function__ internals>:5\u001b[0m, in \u001b[0;36mconcatenate\u001b[0;34m(*args, **kwargs)\u001b[0m\n",
      "\u001b[0;31mValueError\u001b[0m: zero-dimensional arrays cannot be concatenated"
     ]
    }
   ],
   "source": [
    "np.concatenate([a,b])"
   ]
  },
  {
   "cell_type": "markdown",
   "id": "5af20702-795c-4e52-bde9-0cda01a262de",
   "metadata": {},
   "source": [
    "`-` 꼭 a,b가 같은 차원일 필요는 없다. "
   ]
  },
  {
   "cell_type": "code",
   "execution_count": 128,
   "id": "94efc02c-34bc-4c06-a1aa-0b102c531b27",
   "metadata": {},
   "outputs": [],
   "source": [
    "a=np.array(range(4)).reshape(2,2) \n",
    "b=np.array(range(2)).reshape(2,1)  "
   ]
  },
  {
   "cell_type": "code",
   "execution_count": 131,
   "id": "82b24f82-54b0-4053-91f3-6155a2b47cc9",
   "metadata": {},
   "outputs": [
    {
     "data": {
      "text/plain": [
       "array([[0, 1, 0],\n",
       "       [2, 3, 1]])"
      ]
     },
     "execution_count": 131,
     "metadata": {},
     "output_type": "execute_result"
    }
   ],
   "source": [
    "np.concatenate([a,b],axis=1)"
   ]
  },
  {
   "cell_type": "code",
   "execution_count": 133,
   "id": "82a9b9fa-c54a-46f7-9c59-19ff571a8ed7",
   "metadata": {},
   "outputs": [
    {
     "data": {
      "text/plain": [
       "((2, 2), (2, 1), (2, 3))"
      ]
     },
     "execution_count": 133,
     "metadata": {},
     "output_type": "execute_result"
    }
   ],
   "source": [
    "a.shape, b.shape, np.concatenate([a,b],axis=1).shape"
   ]
  },
  {
   "cell_type": "markdown",
   "id": "a2590213-72bb-4c88-9405-80e429b22566",
   "metadata": {},
   "source": [
    "#### np.stack "
   ]
  },
  {
   "cell_type": "markdown",
   "id": "f9f407d5-0319-4047-9124-e84fece7bd17",
   "metadata": {},
   "source": [
    "`-` 혹시 아래가 가능할까? "
   ]
  },
  {
   "cell_type": "markdown",
   "id": "c4275473-0682-4909-ae4e-25372748b6b3",
   "metadata": {},
   "source": [
    "- (3,) 결합 (3,) => (3,2) "
   ]
  },
  {
   "cell_type": "code",
   "execution_count": 149,
   "id": "fdbf2e1c-ea55-4e4a-9de8-b9cfaec1a0b9",
   "metadata": {},
   "outputs": [],
   "source": [
    "a=np.array([1,2,3])\n",
    "b=-a"
   ]
  },
  {
   "cell_type": "code",
   "execution_count": 150,
   "id": "9b0be663-2a0e-4bad-b70a-0d2416612e8a",
   "metadata": {},
   "outputs": [
    {
     "data": {
      "text/plain": [
       "(array([1, 2, 3]), array([-1, -2, -3]))"
      ]
     },
     "execution_count": 150,
     "metadata": {},
     "output_type": "execute_result"
    }
   ],
   "source": [
    "a,b"
   ]
  },
  {
   "cell_type": "code",
   "execution_count": 151,
   "id": "c333170f-67be-471f-aedd-c67384c32075",
   "metadata": {},
   "outputs": [
    {
     "ename": "AxisError",
     "evalue": "axis 1 is out of bounds for array of dimension 1",
     "output_type": "error",
     "traceback": [
      "\u001b[0;31m---------------------------------------------------------------------------\u001b[0m",
      "\u001b[0;31mAxisError\u001b[0m                                 Traceback (most recent call last)",
      "Input \u001b[0;32mIn [151]\u001b[0m, in \u001b[0;36m<cell line: 1>\u001b[0;34m()\u001b[0m\n\u001b[0;32m----> 1\u001b[0m \u001b[43mnp\u001b[49m\u001b[38;5;241;43m.\u001b[39;49m\u001b[43mconcatenate\u001b[49m\u001b[43m(\u001b[49m\u001b[43m[\u001b[49m\u001b[43ma\u001b[49m\u001b[43m,\u001b[49m\u001b[43mb\u001b[49m\u001b[43m]\u001b[49m\u001b[43m,\u001b[49m\u001b[43maxis\u001b[49m\u001b[38;5;241;43m=\u001b[39;49m\u001b[38;5;241;43m1\u001b[39;49m\u001b[43m)\u001b[49m\n",
      "File \u001b[0;32m<__array_function__ internals>:5\u001b[0m, in \u001b[0;36mconcatenate\u001b[0;34m(*args, **kwargs)\u001b[0m\n",
      "\u001b[0;31mAxisError\u001b[0m: axis 1 is out of bounds for array of dimension 1"
     ]
    }
   ],
   "source": [
    "np.concatenate([a,b],axis=1)"
   ]
  },
  {
   "cell_type": "markdown",
   "id": "6a633599-6a5a-4a2b-bbc9-b8e79d35c7c9",
   "metadata": {},
   "source": [
    "- 불가능 "
   ]
  },
  {
   "cell_type": "markdown",
   "id": "66bb1f78-50f5-47b5-b2cb-d9ddecba522c",
   "metadata": {},
   "source": [
    "`-` 아래와 같이 하면 해결가능 "
   ]
  },
  {
   "cell_type": "code",
   "execution_count": 152,
   "id": "483ee2d7-8faf-48c6-aa22-fbe5ee3f4294",
   "metadata": {},
   "outputs": [],
   "source": [
    "a=np.array([1,2,3]).reshape(3,1) \n",
    "b=-a"
   ]
  },
  {
   "cell_type": "code",
   "execution_count": 153,
   "id": "ff4f9755-6553-47bd-bec7-2892e3004df9",
   "metadata": {},
   "outputs": [
    {
     "data": {
      "text/plain": [
       "(array([[1],\n",
       "        [2],\n",
       "        [3]]),\n",
       " array([[-1],\n",
       "        [-2],\n",
       "        [-3]]))"
      ]
     },
     "execution_count": 153,
     "metadata": {},
     "output_type": "execute_result"
    }
   ],
   "source": [
    "a,b"
   ]
  },
  {
   "cell_type": "code",
   "execution_count": 154,
   "id": "1e564b4e-1ca5-40ed-98c1-34ec2540fa00",
   "metadata": {},
   "outputs": [
    {
     "data": {
      "text/plain": [
       "array([[ 1, -1],\n",
       "       [ 2, -2],\n",
       "       [ 3, -3]])"
      ]
     },
     "execution_count": 154,
     "metadata": {},
     "output_type": "execute_result"
    }
   ],
   "source": [
    "np.concatenate([a,b],axis=1)"
   ]
  },
  {
   "cell_type": "markdown",
   "id": "6430bd20-af84-4b59-abba-bf0e83c97b5f",
   "metadata": {},
   "source": [
    "- 분석: (3) (3) => (3,1) (3,1) => (3,1) concat (3,1) "
   ]
  },
  {
   "cell_type": "markdown",
   "id": "967f50c0-d1b1-4af7-b2ed-3b6dda12f69b",
   "metadata": {},
   "source": [
    "`-` 위의 과정을 줄여서 아래와 같이 할 수 있다. "
   ]
  },
  {
   "cell_type": "code",
   "execution_count": 156,
   "id": "ea9c9cb3-cf57-46a7-bed4-3d178f07ff7c",
   "metadata": {},
   "outputs": [],
   "source": [
    "a=np.array([1,2,3])\n",
    "b=-a"
   ]
  },
  {
   "cell_type": "code",
   "execution_count": 157,
   "id": "a3aebf05-e434-4946-9760-d3736548fcaa",
   "metadata": {},
   "outputs": [
    {
     "data": {
      "text/plain": [
       "array([[ 1, -1],\n",
       "       [ 2, -2],\n",
       "       [ 3, -3]])"
      ]
     },
     "execution_count": 157,
     "metadata": {},
     "output_type": "execute_result"
    }
   ],
   "source": [
    "np.stack([a,b],axis=1)"
   ]
  },
  {
   "cell_type": "markdown",
   "id": "9858f362-4e4a-477e-bba3-c5393b61c3fd",
   "metadata": {},
   "source": [
    "`-` 아래도 가능 "
   ]
  },
  {
   "cell_type": "code",
   "execution_count": 158,
   "id": "9798f918-b3dc-4088-bb58-dac8b53f18ae",
   "metadata": {},
   "outputs": [
    {
     "data": {
      "text/plain": [
       "array([[ 1,  2,  3],\n",
       "       [-1, -2, -3]])"
      ]
     },
     "execution_count": 158,
     "metadata": {},
     "output_type": "execute_result"
    }
   ],
   "source": [
    "np.stack([a,b],axis=0)"
   ]
  },
  {
   "cell_type": "markdown",
   "id": "458f865d-6d82-4590-b2f4-2e35334a07f0",
   "metadata": {},
   "source": [
    "`-` 분석해보고 외우자"
   ]
  },
  {
   "cell_type": "markdown",
   "id": "ffa9331c-3322-4494-ad08-5439b23633aa",
   "metadata": {},
   "source": [
    "(분석1)"
   ]
  },
  {
   "cell_type": "code",
   "execution_count": 159,
   "id": "8422c99d-30bf-4940-ad28-7996940fe40d",
   "metadata": {},
   "outputs": [],
   "source": [
    "a=np.array([1,2,3])\n",
    "b=-a"
   ]
  },
  {
   "cell_type": "code",
   "execution_count": 162,
   "id": "a46077b9-cdf3-4ad7-a826-0ca3870c8a94",
   "metadata": {},
   "outputs": [
    {
     "data": {
      "text/plain": [
       "((3,), (3,), (2, 3))"
      ]
     },
     "execution_count": 162,
     "metadata": {},
     "output_type": "execute_result"
    }
   ],
   "source": [
    "a.shape, b.shape, np.stack([a,b],axis=0).shape"
   ]
  },
  {
   "cell_type": "markdown",
   "id": "f45634fb-ea76-44d0-adcd-9bdf5f9ad665",
   "metadata": {},
   "source": [
    "- (3) (3) => 첫 위치에 축을 추가 (axis=0) => (1,3) (1,3) => (2,3) "
   ]
  },
  {
   "cell_type": "markdown",
   "id": "b888098b-7576-4919-a1d7-323208bc660a",
   "metadata": {},
   "source": [
    "(분석2)"
   ]
  },
  {
   "cell_type": "code",
   "execution_count": 163,
   "id": "6bb32f70-0efe-49a2-99ea-53ea47da66e0",
   "metadata": {},
   "outputs": [],
   "source": [
    "a=np.array([1,2,3])\n",
    "b=-a"
   ]
  },
  {
   "cell_type": "code",
   "execution_count": 164,
   "id": "4fda5391-2043-440a-8b7b-3cb6b2b63e61",
   "metadata": {},
   "outputs": [
    {
     "data": {
      "text/plain": [
       "((3,), (3,), (3, 2))"
      ]
     },
     "execution_count": 164,
     "metadata": {},
     "output_type": "execute_result"
    }
   ],
   "source": [
    "a.shape, b.shape, np.stack([a,b],axis=1).shape"
   ]
  },
  {
   "cell_type": "markdown",
   "id": "085efe8c-5ed6-4d70-b013-a3109e3f3976",
   "metadata": {},
   "source": [
    "- (3) (3) => 두 위치에 축을 추가 (axis=1) => (3,1) (3,1) => (3,2) "
   ]
  },
  {
   "cell_type": "markdown",
   "id": "aef1c20f-3892-41da-b506-946963017f88",
   "metadata": {},
   "source": [
    "`-` 고차원예제 "
   ]
  },
  {
   "cell_type": "code",
   "execution_count": 166,
   "id": "ad960f28-4019-4ff6-a6e0-928a8ccb791b",
   "metadata": {},
   "outputs": [],
   "source": [
    "a=np.arange(3*4*5).reshape(3,4,5) \n",
    "b=-a"
   ]
  },
  {
   "cell_type": "code",
   "execution_count": 167,
   "id": "8b8a4499-efc7-492b-81eb-6ff861b66b30",
   "metadata": {},
   "outputs": [
    {
     "data": {
      "text/plain": [
       "((3, 4, 5), (3, 4, 5))"
      ]
     },
     "execution_count": 167,
     "metadata": {},
     "output_type": "execute_result"
    }
   ],
   "source": [
    "a.shape, b.shape"
   ]
  },
  {
   "cell_type": "code",
   "execution_count": 170,
   "id": "966c1ce1-22d8-420f-8d80-cade981cb5c6",
   "metadata": {},
   "outputs": [
    {
     "data": {
      "text/plain": [
       "(2, 3, 4, 5)"
      ]
     },
     "execution_count": 170,
     "metadata": {},
     "output_type": "execute_result"
    }
   ],
   "source": [
    "np.stack([a,b],axis=0).shape # (3,4,5) => (1,3,4,5) // 첫 위치에 축이 추가되고 스택 "
   ]
  },
  {
   "cell_type": "code",
   "execution_count": 174,
   "id": "dc9c6e6b-ccff-4289-95e0-129200ce3a2d",
   "metadata": {},
   "outputs": [
    {
     "data": {
      "text/plain": [
       "(3, 2, 4, 5)"
      ]
     },
     "execution_count": 174,
     "metadata": {},
     "output_type": "execute_result"
    }
   ],
   "source": [
    "np.stack([a,b],axis=1).shape # (3,4,5) => (3,1,4,5) // 두번째 위치에 축이 추가되고 스택 "
   ]
  },
  {
   "cell_type": "code",
   "execution_count": 175,
   "id": "d0e85285-4dbd-4ff5-9b09-3a259d916255",
   "metadata": {},
   "outputs": [
    {
     "data": {
      "text/plain": [
       "(3, 4, 2, 5)"
      ]
     },
     "execution_count": 175,
     "metadata": {},
     "output_type": "execute_result"
    }
   ],
   "source": [
    "np.stack([a,b],axis=2).shape # (3,4,5) => (3,4,1,5) // 세번째 위치에 축이 추가되고 스택 "
   ]
  },
  {
   "cell_type": "code",
   "execution_count": 179,
   "id": "a416355b-db42-4950-96fd-5c883203c430",
   "metadata": {},
   "outputs": [
    {
     "data": {
      "text/plain": [
       "(3, 4, 5, 2)"
      ]
     },
     "execution_count": 179,
     "metadata": {},
     "output_type": "execute_result"
    }
   ],
   "source": [
    "np.stack([a,b],axis=3).shape # (3,4,5) => (3,4,5,1) // 네번째 위치에 축이 추가되고 스택 "
   ]
  },
  {
   "cell_type": "code",
   "execution_count": 181,
   "id": "ad5d7ed2-9b1d-4215-8e67-ff42acc4a411",
   "metadata": {},
   "outputs": [
    {
     "data": {
      "text/plain": [
       "(3, 4, 5, 2)"
      ]
     },
     "execution_count": 181,
     "metadata": {},
     "output_type": "execute_result"
    }
   ],
   "source": [
    "np.stack([a,b],axis=-1).shape # axis=-1 <=> axis=3 "
   ]
  },
  {
   "cell_type": "code",
   "execution_count": 182,
   "id": "bbb903e1-1107-45a6-a69f-af3ec4d52fab",
   "metadata": {},
   "outputs": [
    {
     "data": {
      "text/plain": [
       "(3, 4, 2, 5)"
      ]
     },
     "execution_count": 182,
     "metadata": {},
     "output_type": "execute_result"
    }
   ],
   "source": [
    "np.stack([a,b],axis=-2).shape # axis=-2 <=> axis=2"
   ]
  },
  {
   "cell_type": "markdown",
   "id": "85c22b28-8d11-4e4e-a19c-cb56998b7eb5",
   "metadata": {},
   "source": [
    "***np.concatenate*** 는 축의 총 갯수를 유지하면서 결합, ***np.stack***은 축의 갯수를 하나 증가시키면서 결합"
   ]
  },
  {
   "cell_type": "markdown",
   "id": "652be331-30bc-4ecb-83a2-0641b1964890",
   "metadata": {},
   "source": [
    "#### sum"
   ]
  },
  {
   "cell_type": "markdown",
   "id": "6b6171ee-aff9-40be-aa90-7635cdeec33f",
   "metadata": {},
   "source": [
    "`-` 1차원 "
   ]
  },
  {
   "cell_type": "code",
   "execution_count": 212,
   "id": "c0de620d-2fd4-4b59-967d-018ff90aa6ad",
   "metadata": {},
   "outputs": [
    {
     "data": {
      "text/plain": [
       "array([1, 2, 3])"
      ]
     },
     "execution_count": 212,
     "metadata": {},
     "output_type": "execute_result"
    }
   ],
   "source": [
    "a = np.array([1,2,3]) \n",
    "a"
   ]
  },
  {
   "cell_type": "code",
   "execution_count": 213,
   "id": "d2560de6-b2fb-45b6-8af8-287a65be4ea1",
   "metadata": {},
   "outputs": [
    {
     "data": {
      "text/plain": [
       "6"
      ]
     },
     "execution_count": 213,
     "metadata": {},
     "output_type": "execute_result"
    }
   ],
   "source": [
    "a.sum()"
   ]
  },
  {
   "cell_type": "code",
   "execution_count": 214,
   "id": "ed65208c-86d4-485f-8d33-eabe74d23676",
   "metadata": {},
   "outputs": [
    {
     "data": {
      "text/plain": [
       "6"
      ]
     },
     "execution_count": 214,
     "metadata": {},
     "output_type": "execute_result"
    }
   ],
   "source": [
    "a.sum(axis=0)"
   ]
  },
  {
   "cell_type": "markdown",
   "id": "71046d9d-0cfc-4f82-a258-f40659d35fac",
   "metadata": {},
   "source": [
    "`-` 2차원 "
   ]
  },
  {
   "cell_type": "code",
   "execution_count": 208,
   "id": "b4551eab-4007-4d8c-98cb-739d984dcad7",
   "metadata": {},
   "outputs": [
    {
     "data": {
      "text/plain": [
       "array([[0, 1, 2],\n",
       "       [3, 4, 5]])"
      ]
     },
     "execution_count": 208,
     "metadata": {},
     "output_type": "execute_result"
    }
   ],
   "source": [
    "a=np.array(range(6)).reshape(2,3)\n",
    "a"
   ]
  },
  {
   "cell_type": "code",
   "execution_count": 209,
   "id": "e49c1777-f21f-4a56-b154-e66192b053c9",
   "metadata": {},
   "outputs": [
    {
     "data": {
      "text/plain": [
       "15"
      ]
     },
     "execution_count": 209,
     "metadata": {},
     "output_type": "execute_result"
    }
   ],
   "source": [
    "a.sum() # 전체합"
   ]
  },
  {
   "cell_type": "code",
   "execution_count": 210,
   "id": "19a53a4a-453e-4b57-aecf-f3e2bfe3ffba",
   "metadata": {},
   "outputs": [
    {
     "data": {
      "text/plain": [
       "array([3, 5, 7])"
      ]
     },
     "execution_count": 210,
     "metadata": {},
     "output_type": "execute_result"
    }
   ],
   "source": [
    "a.sum(axis=0) "
   ]
  },
  {
   "cell_type": "code",
   "execution_count": 211,
   "id": "a6ab3331-f0c3-440d-9540-7eb3be74f7cc",
   "metadata": {},
   "outputs": [
    {
     "data": {
      "text/plain": [
       "array([ 3, 12])"
      ]
     },
     "execution_count": 211,
     "metadata": {},
     "output_type": "execute_result"
    }
   ],
   "source": [
    "a.sum(axis=1) "
   ]
  },
  {
   "cell_type": "markdown",
   "id": "279e7528-6020-41a4-8b42-8c240df76289",
   "metadata": {},
   "source": [
    "`-` 2차원 결과 분석 "
   ]
  },
  {
   "cell_type": "code",
   "execution_count": 193,
   "id": "79e957a9-2dd5-4ff8-9ed2-9486758594f1",
   "metadata": {},
   "outputs": [
    {
     "data": {
      "text/plain": [
       "((2, 3), (3,))"
      ]
     },
     "execution_count": 193,
     "metadata": {},
     "output_type": "execute_result"
    }
   ],
   "source": [
    "a.shape, a.sum(axis=0).shape"
   ]
  },
  {
   "cell_type": "markdown",
   "id": "6117dfbe-62aa-401a-81f1-66fcdbc99d38",
   "metadata": {},
   "source": [
    "- 첫번째 축이 삭제됨 => axis=0 "
   ]
  },
  {
   "cell_type": "code",
   "execution_count": 195,
   "id": "322bc1f2-9adf-48d7-8fd9-07356bc33409",
   "metadata": {},
   "outputs": [
    {
     "data": {
      "text/plain": [
       "((2, 3), (2,))"
      ]
     },
     "execution_count": 195,
     "metadata": {},
     "output_type": "execute_result"
    }
   ],
   "source": [
    "a.shape, a.sum(axis=1).shape"
   ]
  },
  {
   "cell_type": "markdown",
   "id": "52392d40-e970-47b8-a3ff-4f1e520c1cab",
   "metadata": {},
   "source": [
    "- 두번째 축이 삭제됨 => axis=1 "
   ]
  },
  {
   "cell_type": "markdown",
   "id": "b90605db-0bfc-426a-9d2f-b5fa89a1133b",
   "metadata": {},
   "source": [
    "`-` 연습"
   ]
  },
  {
   "cell_type": "code",
   "execution_count": 197,
   "id": "fa5df902-94e1-4633-83f3-486094c55fad",
   "metadata": {},
   "outputs": [
    {
     "data": {
      "text/plain": [
       "array([[0, 1],\n",
       "       [2, 3],\n",
       "       [4, 5],\n",
       "       [6, 7],\n",
       "       [8, 9]])"
      ]
     },
     "execution_count": 197,
     "metadata": {},
     "output_type": "execute_result"
    }
   ],
   "source": [
    "a=np.array(range(10)).reshape(5,2) \n",
    "a"
   ]
  },
  {
   "cell_type": "markdown",
   "id": "e07b20be-9cea-46bd-8e62-47d59f6fa510",
   "metadata": {},
   "source": [
    "(문제1) 1열의 합, 2열의 합을 계산하고 싶다면? "
   ]
  },
  {
   "cell_type": "markdown",
   "id": "2db2c9e6-4cec-4722-ad84-1bac392fb13b",
   "metadata": {},
   "source": [
    "(풀이) 차원이 (5,2) => (2,) 로 나와야 한다. (그럼 첫번째 축이 삭제되어야 하네?) "
   ]
  },
  {
   "cell_type": "code",
   "execution_count": 198,
   "id": "da6dcfaf-5ae6-452d-b539-dbc3bd56b2c5",
   "metadata": {},
   "outputs": [
    {
     "data": {
      "text/plain": [
       "array([20, 25])"
      ]
     },
     "execution_count": 198,
     "metadata": {},
     "output_type": "execute_result"
    }
   ],
   "source": [
    "a.sum(axis=0)"
   ]
  },
  {
   "cell_type": "markdown",
   "id": "f1147b7f-8240-491a-b8e9-c8b3ab420dc9",
   "metadata": {},
   "source": [
    "(문제2) 1행의 합, 2행의 합, ... , 5행의 합을 계산하고 싶다면? "
   ]
  },
  {
   "cell_type": "markdown",
   "id": "5f813d9b-3203-4e4f-b8b6-1fd239057627",
   "metadata": {},
   "source": [
    "(풀이) 차원이 (5,2) => (5,)로 나와야 한다. (그럼 두번째 축이 삭제되어야 하네?) "
   ]
  },
  {
   "cell_type": "code",
   "execution_count": 199,
   "id": "68bd2fce-d61d-4139-b2d5-8e65d29d4639",
   "metadata": {},
   "outputs": [
    {
     "data": {
      "text/plain": [
       "array([ 1,  5,  9, 13, 17])"
      ]
     },
     "execution_count": 199,
     "metadata": {},
     "output_type": "execute_result"
    }
   ],
   "source": [
    "a.sum(axis=1)"
   ]
  },
  {
   "cell_type": "markdown",
   "id": "715b28fa-20e2-4d68-8fa1-f60ddd982bcc",
   "metadata": {},
   "source": [
    "(문제3) a의 모든원소의 합을 계산하고 싶다면? "
   ]
  },
  {
   "cell_type": "markdown",
   "id": "c149b81b-c1cb-49b5-90e2-5e0276c1041f",
   "metadata": {},
   "source": [
    "(풀이) 차원이 (5,2) => () 로 나와야 한다. (첫번째축, 두번째축이 모두 삭제되어야 하네?) "
   ]
  },
  {
   "cell_type": "code",
   "execution_count": 201,
   "id": "a99fe11b-5240-4e1a-8a92-252cfda99a36",
   "metadata": {},
   "outputs": [
    {
     "data": {
      "text/plain": [
       "45"
      ]
     },
     "execution_count": 201,
     "metadata": {},
     "output_type": "execute_result"
    }
   ],
   "source": [
    "a.sum(axis=(0,1))"
   ]
  },
  {
   "cell_type": "code",
   "execution_count": 203,
   "id": "e7cc18a3-56f0-4fc2-8eac-878c611f380c",
   "metadata": {},
   "outputs": [
    {
     "data": {
      "text/plain": [
       "45"
      ]
     },
     "execution_count": 203,
     "metadata": {},
     "output_type": "execute_result"
    }
   ],
   "source": [
    "a.sum() # 즉 a.sum(axis=(0,1))이 디폴트값임 "
   ]
  },
  {
   "cell_type": "markdown",
   "id": "02e53a80-ab84-4d0a-9556-20802d5a92e2",
   "metadata": {},
   "source": [
    "#### mean, std, max, min, prod "
   ]
  },
  {
   "cell_type": "markdown",
   "id": "67876226-2986-4137-a0c7-d9c0047a9c1a",
   "metadata": {},
   "source": [
    "`-` 모두 sum이랑 유사한 논리 "
   ]
  },
  {
   "cell_type": "code",
   "execution_count": 218,
   "id": "7c6ee144-9ef8-4a1e-8515-01e6c2e8b818",
   "metadata": {},
   "outputs": [
    {
     "data": {
      "text/plain": [
       "array([[0, 1],\n",
       "       [2, 3],\n",
       "       [4, 5],\n",
       "       [6, 7],\n",
       "       [8, 9]])"
      ]
     },
     "execution_count": 218,
     "metadata": {},
     "output_type": "execute_result"
    }
   ],
   "source": [
    "a=np.array(range(10)).reshape(5,2)\n",
    "a"
   ]
  },
  {
   "cell_type": "code",
   "execution_count": 225,
   "id": "38cb3b20-775f-47e0-b92b-51099c441296",
   "metadata": {},
   "outputs": [
    {
     "data": {
      "text/plain": [
       "(array([4., 5.]),\n",
       " array([2.82842712, 2.82842712]),\n",
       " array([8, 9]),\n",
       " array([0, 1]),\n",
       " array([  0, 945]))"
      ]
     },
     "execution_count": 225,
     "metadata": {},
     "output_type": "execute_result"
    }
   ],
   "source": [
    "a.mean(axis=0), a.std(axis=0), a.max(axis=0), a.min(axis=0), a.prod(axis=0)"
   ]
  },
  {
   "cell_type": "code",
   "execution_count": 227,
   "id": "103990f9-9018-482d-b972-f720426c08cf",
   "metadata": {},
   "outputs": [
    {
     "data": {
      "text/plain": [
       "(array([0.5, 2.5, 4.5, 6.5, 8.5]),\n",
       " array([0.5, 0.5, 0.5, 0.5, 0.5]),\n",
       " array([1, 3, 5, 7, 9]),\n",
       " array([0, 2, 4, 6, 8]),\n",
       " array([ 0,  6, 20, 42, 72]))"
      ]
     },
     "execution_count": 227,
     "metadata": {},
     "output_type": "execute_result"
    }
   ],
   "source": [
    "a.mean(axis=1), a.std(axis=1), a.max(axis=1), a.min(axis=1), a.prod(axis=1)"
   ]
  },
  {
   "cell_type": "markdown",
   "id": "205d6ed2-dbfd-4d35-bf34-139e4f9027a2",
   "metadata": {},
   "source": [
    "`-` 참고로 std는 분포를 n으로 나눈다. "
   ]
  },
  {
   "cell_type": "code",
   "execution_count": 228,
   "id": "0561e287-600a-458e-a931-f9c4fd12fd7a",
   "metadata": {},
   "outputs": [
    {
     "data": {
      "text/plain": [
       "1.118033988749895"
      ]
     },
     "execution_count": 228,
     "metadata": {},
     "output_type": "execute_result"
    }
   ],
   "source": [
    "a=np.array([1,2,3,4])\n",
    "a.std()"
   ]
  },
  {
   "cell_type": "code",
   "execution_count": 233,
   "id": "3fb3d629-4165-4222-9c52-1b4e3281fa58",
   "metadata": {},
   "outputs": [
    {
     "data": {
      "text/plain": [
       "1.118033988749895"
      ]
     },
     "execution_count": 233,
     "metadata": {},
     "output_type": "execute_result"
    }
   ],
   "source": [
    "np.sqrt(sum((a-a.mean())**2)/4)"
   ]
  },
  {
   "cell_type": "markdown",
   "id": "285101e0-139d-4241-b5f4-9f7f4a1bfd14",
   "metadata": {},
   "source": [
    "`-` 분모를 n-1로 나눌려면? "
   ]
  },
  {
   "cell_type": "code",
   "execution_count": 234,
   "id": "195f062a-841c-425d-93d1-60ab0bd4d9e6",
   "metadata": {},
   "outputs": [
    {
     "data": {
      "text/plain": [
       "1.2909944487358056"
      ]
     },
     "execution_count": 234,
     "metadata": {},
     "output_type": "execute_result"
    }
   ],
   "source": [
    "a=np.array([1,2,3,4])\n",
    "a.std(ddof=1)"
   ]
  },
  {
   "cell_type": "code",
   "execution_count": 235,
   "id": "3b3eda53-29ec-449d-8fcf-c3745c89fe81",
   "metadata": {},
   "outputs": [
    {
     "data": {
      "text/plain": [
       "1.2909944487358056"
      ]
     },
     "execution_count": 235,
     "metadata": {},
     "output_type": "execute_result"
    }
   ],
   "source": [
    "np.sqrt(sum((a-a.mean())**2)/3)"
   ]
  },
  {
   "cell_type": "markdown",
   "id": "1642ee25-8aa6-4c4e-ad29-d03628b873ca",
   "metadata": {},
   "source": [
    "#### argmax, argmin "
   ]
  },
  {
   "cell_type": "markdown",
   "id": "be9c7d03-8c70-48bb-8415-8ff878fdcee6",
   "metadata": {},
   "source": [
    "`-` 1차원 "
   ]
  },
  {
   "cell_type": "code",
   "execution_count": 299,
   "id": "c47adbfe-dba1-4395-96b1-ce7dc9de5851",
   "metadata": {},
   "outputs": [
    {
     "data": {
      "text/plain": [
       "array([ 1, -2,  3, 10,  4])"
      ]
     },
     "execution_count": 299,
     "metadata": {},
     "output_type": "execute_result"
    }
   ],
   "source": [
    "a= np.array([1,-2,3,10,4])\n",
    "a"
   ]
  },
  {
   "cell_type": "code",
   "execution_count": 300,
   "id": "245d9281-5ba1-420f-811f-8085bfab7ef4",
   "metadata": {},
   "outputs": [
    {
     "data": {
      "text/plain": [
       "3"
      ]
     },
     "execution_count": 300,
     "metadata": {},
     "output_type": "execute_result"
    }
   ],
   "source": [
    "a.argmax() # 가장 큰 값이 위치한 원소의 인덱스를 리턴 "
   ]
  },
  {
   "cell_type": "code",
   "execution_count": 301,
   "id": "0b943a27-d219-4680-a97f-585e87f179c4",
   "metadata": {},
   "outputs": [
    {
     "data": {
      "text/plain": [
       "1"
      ]
     },
     "execution_count": 301,
     "metadata": {},
     "output_type": "execute_result"
    }
   ],
   "source": [
    "a.argmin() # 가장 작은 값이 위치한 원소의 인덱스를 리턴 "
   ]
  },
  {
   "cell_type": "markdown",
   "id": "d0e5ee8e-544b-4db1-9c2d-48ffa2f017a0",
   "metadata": {},
   "source": [
    "`-` 2차원 "
   ]
  },
  {
   "cell_type": "code",
   "execution_count": 312,
   "id": "edfc4e2a-8465-476e-add6-48c54a6b67de",
   "metadata": {},
   "outputs": [
    {
     "data": {
      "text/plain": [
       "array([[ 0.38342049,  1.0841745 ,  1.14277825,  0.30789368,  0.23778744],\n",
       "       [ 0.35595116, -1.66307542, -1.38277318, -1.92684484, -1.4862163 ],\n",
       "       [ 0.00692519, -0.03488725, -0.34357323,  0.70895648, -1.55100608],\n",
       "       [ 1.34565583, -0.05654272, -0.83017342, -1.46395159, -0.35459593]])"
      ]
     },
     "execution_count": 312,
     "metadata": {},
     "output_type": "execute_result"
    }
   ],
   "source": [
    "np.random.seed(43052)\n",
    "a=np.random.randn(4*5).reshape(4,5)\n",
    "a"
   ]
  },
  {
   "cell_type": "code",
   "execution_count": 314,
   "id": "9f666774-9d98-48cc-85ef-ca3ca05686e4",
   "metadata": {},
   "outputs": [
    {
     "data": {
      "text/plain": [
       "(8, -1.9268448358915802)"
      ]
     },
     "execution_count": 314,
     "metadata": {},
     "output_type": "execute_result"
    }
   ],
   "source": [
    "a.argmin(), a.min()"
   ]
  },
  {
   "cell_type": "code",
   "execution_count": 315,
   "id": "06b16776-b501-4d5d-be49-f6e878f9645a",
   "metadata": {},
   "outputs": [
    {
     "data": {
      "text/plain": [
       "(15, 1.3456558341738827)"
      ]
     },
     "execution_count": 315,
     "metadata": {},
     "output_type": "execute_result"
    }
   ],
   "source": [
    "a.argmax(), a.max()"
   ]
  },
  {
   "cell_type": "code",
   "execution_count": 317,
   "id": "ccd20199-0aed-42e9-8994-e1d165a80e42",
   "metadata": {},
   "outputs": [
    {
     "data": {
      "text/plain": [
       "(array([2, 1, 1, 1, 2]), array([4, 3, 4, 3]))"
      ]
     },
     "execution_count": 317,
     "metadata": {},
     "output_type": "execute_result"
    }
   ],
   "source": [
    "a.argmin(axis=0), a.argmin(axis=1)"
   ]
  },
  {
   "cell_type": "code",
   "execution_count": 318,
   "id": "3c3f1118-a31f-4aca-b945-7821a95e6ef8",
   "metadata": {},
   "outputs": [
    {
     "data": {
      "text/plain": [
       "(array([3, 0, 0, 2, 0]), array([2, 0, 3, 0]))"
      ]
     },
     "execution_count": 318,
     "metadata": {},
     "output_type": "execute_result"
    }
   ],
   "source": [
    "a.argmax(axis=0), a.argmax(axis=1)"
   ]
  },
  {
   "cell_type": "markdown",
   "id": "27edee8a-5a93-4f93-835a-584077cc82a3",
   "metadata": {},
   "source": [
    "#### cumsum, cumprod"
   ]
  },
  {
   "cell_type": "markdown",
   "id": "d16a1bd2-f523-4cb3-89fd-9d4ab77f63ba",
   "metadata": {},
   "source": [
    "`-` 1차원"
   ]
  },
  {
   "cell_type": "code",
   "execution_count": 319,
   "id": "42107a84-5a4e-4c90-8f6d-d05bbb8ab6fa",
   "metadata": {},
   "outputs": [
    {
     "data": {
      "text/plain": [
       "array([1, 2, 3, 4])"
      ]
     },
     "execution_count": 319,
     "metadata": {},
     "output_type": "execute_result"
    }
   ],
   "source": [
    "a=np.array([1,2,3,4])\n",
    "a"
   ]
  },
  {
   "cell_type": "code",
   "execution_count": 320,
   "id": "8d53dab5-a5c2-4472-8c9e-127949cef14b",
   "metadata": {},
   "outputs": [
    {
     "data": {
      "text/plain": [
       "array([ 1,  3,  6, 10])"
      ]
     },
     "execution_count": 320,
     "metadata": {},
     "output_type": "execute_result"
    }
   ],
   "source": [
    "a.cumsum()"
   ]
  },
  {
   "cell_type": "code",
   "execution_count": 321,
   "id": "10937094-bb17-42e8-b424-f2058f00469a",
   "metadata": {},
   "outputs": [
    {
     "data": {
      "text/plain": [
       "array([ 1,  2,  6, 24])"
      ]
     },
     "execution_count": 321,
     "metadata": {},
     "output_type": "execute_result"
    }
   ],
   "source": [
    "a.cumprod()"
   ]
  },
  {
   "cell_type": "markdown",
   "id": "b3e406ea-a7f9-4cb6-bd4a-2333364a745d",
   "metadata": {},
   "source": [
    "`-` 2차원"
   ]
  },
  {
   "cell_type": "code",
   "execution_count": 322,
   "id": "239d93d2-3755-4f95-9e6a-84798ee05824",
   "metadata": {},
   "outputs": [
    {
     "data": {
      "text/plain": [
       "array([[ 0,  1,  2,  3],\n",
       "       [ 4,  5,  6,  7],\n",
       "       [ 8,  9, 10, 11]])"
      ]
     },
     "execution_count": 322,
     "metadata": {},
     "output_type": "execute_result"
    }
   ],
   "source": [
    "a=np.array(range(3*4)).reshape(3,4)\n",
    "a"
   ]
  },
  {
   "cell_type": "code",
   "execution_count": 325,
   "id": "982f180e-f66a-4a1c-8edf-ec113c35f87c",
   "metadata": {},
   "outputs": [
    {
     "data": {
      "text/plain": [
       "(array([[ 0,  1,  2,  3],\n",
       "        [ 4,  6,  8, 10],\n",
       "        [12, 15, 18, 21]]),\n",
       " array([[ 0,  1,  3,  6],\n",
       "        [ 4,  9, 15, 22],\n",
       "        [ 8, 17, 27, 38]]))"
      ]
     },
     "execution_count": 325,
     "metadata": {},
     "output_type": "execute_result"
    }
   ],
   "source": [
    "a.cumsum(axis=0), a.cumsum(axis=1)"
   ]
  },
  {
   "cell_type": "code",
   "execution_count": 326,
   "id": "d616fa6e-8ba2-4246-96f2-511f544e2c5c",
   "metadata": {},
   "outputs": [
    {
     "data": {
      "text/plain": [
       "(array([[  0,   1,   2,   3],\n",
       "        [  0,   5,  12,  21],\n",
       "        [  0,  45, 120, 231]]),\n",
       " array([[   0,    0,    0,    0],\n",
       "        [   4,   20,  120,  840],\n",
       "        [   8,   72,  720, 7920]]))"
      ]
     },
     "execution_count": 326,
     "metadata": {},
     "output_type": "execute_result"
    }
   ],
   "source": [
    "a.cumprod(axis=0), a.cumprod(axis=1)"
   ]
  },
  {
   "cell_type": "markdown",
   "id": "83acf59c-e8c1-41cc-a33b-4bdd052ebbb3",
   "metadata": {},
   "source": [
    "#### diff "
   ]
  },
  {
   "cell_type": "markdown",
   "id": "d2af1447-a0b3-4f4c-acb1-d3a4e48e9e4e",
   "metadata": {},
   "source": [
    "`-` 1차차분 "
   ]
  },
  {
   "cell_type": "code",
   "execution_count": 327,
   "id": "f1cd613d-7075-4089-9d94-9ea7f353c5ba",
   "metadata": {},
   "outputs": [
    {
     "data": {
      "text/plain": [
       "array([1, 2, 4, 6, 7])"
      ]
     },
     "execution_count": 327,
     "metadata": {},
     "output_type": "execute_result"
    }
   ],
   "source": [
    "a=np.array([1,2,4,6,7])\n",
    "a"
   ]
  },
  {
   "cell_type": "code",
   "execution_count": 328,
   "id": "a1fa4df8-9f2a-434c-a246-bd7c4b4be1ed",
   "metadata": {},
   "outputs": [
    {
     "data": {
      "text/plain": [
       "array([1, 2, 2, 1])"
      ]
     },
     "execution_count": 328,
     "metadata": {},
     "output_type": "execute_result"
    }
   ],
   "source": [
    "np.diff(a)"
   ]
  },
  {
   "cell_type": "markdown",
   "id": "302ab89e-afad-43a5-85e2-5577720d5f17",
   "metadata": {},
   "source": [
    "`-` 2차차분 "
   ]
  },
  {
   "cell_type": "code",
   "execution_count": 331,
   "id": "2290e7ed-448d-4ee6-821c-a83f8e20e236",
   "metadata": {},
   "outputs": [
    {
     "data": {
      "text/plain": [
       "array([ 1,  0, -1])"
      ]
     },
     "execution_count": 331,
     "metadata": {},
     "output_type": "execute_result"
    }
   ],
   "source": [
    "np.diff(np.diff(a))"
   ]
  },
  {
   "cell_type": "markdown",
   "id": "06575870-b9f7-4b54-93ad-2663193a4637",
   "metadata": {},
   "source": [
    "`-` prepend, append "
   ]
  },
  {
   "cell_type": "code",
   "execution_count": 332,
   "id": "070cfb38-a824-44cf-adcf-7e83b2411b76",
   "metadata": {},
   "outputs": [
    {
     "data": {
      "text/plain": [
       "array([1, 2, 4, 6, 7])"
      ]
     },
     "execution_count": 332,
     "metadata": {},
     "output_type": "execute_result"
    }
   ],
   "source": [
    "a=np.array([1,2,4,6,7])\n",
    "a"
   ]
  },
  {
   "cell_type": "code",
   "execution_count": 339,
   "id": "ae400195-7fe2-4f2b-ad2b-08a3ccaf31d1",
   "metadata": {},
   "outputs": [
    {
     "data": {
      "text/plain": [
       "array([-99,   1,   2,   2,   1])"
      ]
     },
     "execution_count": 339,
     "metadata": {},
     "output_type": "execute_result"
    }
   ],
   "source": [
    "np.diff(a,prepend=100)\n",
    "#np.diff(np.array([100]+a.tolist()) )"
   ]
  },
  {
   "cell_type": "markdown",
   "id": "21ceb772-4f26-4de0-9cb4-0c357812ec9b",
   "metadata": {},
   "source": [
    "- [1,2,4,6,7] -> [100,1,2,3,4,6] -> np.diff "
   ]
  },
  {
   "cell_type": "code",
   "execution_count": 343,
   "id": "6f9f72eb-9049-4e66-84ba-7a400d1064d4",
   "metadata": {},
   "outputs": [
    {
     "data": {
      "text/plain": [
       "array([ 1,  2,  2,  1, 93])"
      ]
     },
     "execution_count": 343,
     "metadata": {},
     "output_type": "execute_result"
    }
   ],
   "source": [
    "np.diff(a,append=100)\n",
    "#np.diff(np.array(a.tolist()+[100]) )"
   ]
  },
  {
   "cell_type": "markdown",
   "id": "24873745-12ef-4a9d-9410-56cecb296e8c",
   "metadata": {},
   "source": [
    "(예제) a=[1,2,4,6,7]의 앞에 1을 추가하여 차분하라. "
   ]
  },
  {
   "cell_type": "code",
   "execution_count": 347,
   "id": "c69e4a7d-d600-4f3a-ada3-0e66b309877e",
   "metadata": {},
   "outputs": [
    {
     "data": {
      "text/plain": [
       "array([0, 1, 2, 2, 1])"
      ]
     },
     "execution_count": 347,
     "metadata": {},
     "output_type": "execute_result"
    }
   ],
   "source": [
    "np.diff(a,prepend=a[0])\n",
    "#np.diff(a,prepend=1)"
   ]
  },
  {
   "cell_type": "markdown",
   "id": "db37aba8-c4ef-4ecc-9e6c-f5e3f24d974a",
   "metadata": {},
   "source": [
    "(예제) a=[1,2,4,6,7]의 뒤에 7을 추가하여 차분하라. "
   ]
  },
  {
   "cell_type": "code",
   "execution_count": 348,
   "id": "e754bd91-cea9-4787-beb0-2340d8e76a39",
   "metadata": {},
   "outputs": [
    {
     "data": {
      "text/plain": [
       "array([1, 2, 2, 1, 0])"
      ]
     },
     "execution_count": 348,
     "metadata": {},
     "output_type": "execute_result"
    }
   ],
   "source": [
    "np.diff(a,append=a[-1])\n",
    "#np.diff(a,append=7)"
   ]
  },
  {
   "cell_type": "markdown",
   "id": "1954d76f-08e4-4448-8b94-835a4989af2b",
   "metadata": {},
   "source": [
    "`-` 2차원 array의 차분 "
   ]
  },
  {
   "cell_type": "code",
   "execution_count": 367,
   "id": "e752c90e-c766-4dcf-a774-2c7ed9a469a1",
   "metadata": {},
   "outputs": [
    {
     "data": {
      "text/plain": [
       "array([[ 0,  1,  2,  3,  4,  5],\n",
       "       [ 6,  7,  8,  9, 10, 11],\n",
       "       [12, 13, 14, 15, 16, 17],\n",
       "       [18, 19, 20, 21, 22, 23]])"
      ]
     },
     "execution_count": 367,
     "metadata": {},
     "output_type": "execute_result"
    }
   ],
   "source": [
    "a=np.arange(24).reshape(4,6)\n",
    "a"
   ]
  },
  {
   "cell_type": "code",
   "execution_count": 368,
   "id": "b4210257-3da5-4eb6-87b4-6eb4ad700d26",
   "metadata": {},
   "outputs": [
    {
     "data": {
      "text/plain": [
       "array([[6, 6, 6, 6, 6, 6],\n",
       "       [6, 6, 6, 6, 6, 6],\n",
       "       [6, 6, 6, 6, 6, 6]])"
      ]
     },
     "execution_count": 368,
     "metadata": {},
     "output_type": "execute_result"
    }
   ],
   "source": [
    "np.diff(a,axis=0) "
   ]
  },
  {
   "cell_type": "code",
   "execution_count": 369,
   "id": "9326a17d-9eaa-4bdf-998c-e64f1bcd48bc",
   "metadata": {},
   "outputs": [
    {
     "data": {
      "text/plain": [
       "array([[1, 1, 1, 1, 1],\n",
       "       [1, 1, 1, 1, 1],\n",
       "       [1, 1, 1, 1, 1],\n",
       "       [1, 1, 1, 1, 1]])"
      ]
     },
     "execution_count": 369,
     "metadata": {},
     "output_type": "execute_result"
    }
   ],
   "source": [
    "np.diff(a,axis=1) "
   ]
  },
  {
   "cell_type": "markdown",
   "id": "10373cc2-1166-4cfd-b5c1-ded0000baff2",
   "metadata": {},
   "source": [
    "(숙제) "
   ]
  },
  {
   "cell_type": "code",
   "execution_count": 370,
   "id": "b6a00c10-8d89-42e7-817a-f47dc12923d2",
   "metadata": {},
   "outputs": [
    {
     "data": {
      "text/plain": [
       "array([[ 0,  1,  2,  3,  4,  5],\n",
       "       [ 6,  7,  8,  9, 10, 11],\n",
       "       [12, 13, 14, 15, 16, 17],\n",
       "       [18, 19, 20, 21, 22, 23]])"
      ]
     },
     "execution_count": 370,
     "metadata": {},
     "output_type": "execute_result"
    }
   ],
   "source": [
    "a=np.arange(24).reshape(4,6)\n",
    "a"
   ]
  },
  {
   "cell_type": "markdown",
   "id": "9901278b-ad61-4cf9-9fbb-5583597c2255",
   "metadata": {},
   "source": [
    "에서 axis=1 옵션으로 np.diff를 적용하여 (4,5) array를 만들고 왼쪽열에 1이 포함된 column을 추가하여 최종 결과가 아래와 같이 되도록 하라. \n",
    "\n",
    "```\n",
    "array([[1, 1, 1, 1, 1, 1],\n",
    "       [1, 1, 1, 1, 1, 1],\n",
    "       [1, 1, 1, 1, 1, 1],\n",
    "       [1, 1, 1, 1, 1, 1]])\n",
    "```"
   ]
  }
 ],
 "metadata": {
  "kernelspec": {
   "display_name": "Python 3 (ipykernel)",
   "language": "python",
   "name": "python3"
  },
  "language_info": {
   "codemirror_mode": {
    "name": "ipython",
    "version": 3
   },
   "file_extension": ".py",
   "mimetype": "text/x-python",
   "name": "python",
   "nbconvert_exporter": "python",
   "pygments_lexer": "ipython3",
   "version": "3.9.0"
  }
 },
 "nbformat": 4,
 "nbformat_minor": 5
}
