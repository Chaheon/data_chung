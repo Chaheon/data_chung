{
 "cells": [
  {
   "cell_type": "markdown",
   "id": "creative-forty",
   "metadata": {},
   "source": [
    "## 파이썬 기초다루기\n",
    "### 판다스 \n",
    "#### 0629 memo"
   ]
  },
  {
   "cell_type": "markdown",
   "id": "composite-crack",
   "metadata": {},
   "source": [
    "-----"
   ]
  },
  {
   "cell_type": "markdown",
   "id": "saved-cologne",
   "metadata": {},
   "source": [
    "### 판다스의 정의\n",
    " > 엑셀과 상당히 유사한 자료형으로 행렬과 같은 2차원 자료이다. \n",
    " >\n",
    " > 데이터 수정/가공 및 분석이 용이하다. \n",
    " >\n",
    " > 데이터 가공을 위한 수많은 함수를 지원한다. \n",
    " >\n",
    " > Numpy 기반으로 수학적 분석 또한 가능"
   ]
  },
  {
   "cell_type": "markdown",
   "id": "different-spending",
   "metadata": {},
   "source": [
    "`-` 데이터프레임 ($\\star\\star\\star$)\n",
    "\n",
    " > 2차원 배열 (행렬)\n",
    " >\n",
    " > 왼 (행 인덱스) / 오 (열 이름 혹은 라벨)\n",
    " >\n",
    " > 열은 시리즈 객체 (즉, 딕셔너리(리스트) 주제 ex)주소, 가격, 성별 등)\n",
    " \n",
    " > 같은 길이(원소 개수)의 배열 여러 개 필요 (대부분 딕셔너리나 리스트 사용함) / 혹은 딕셔너리 안 리스트\n",
    " >\n",
    " > index는 행 인덱스들의 배열/ columns는 열 인덱스의 배열\n"
   ]
  },
  {
   "cell_type": "code",
   "execution_count": 1,
   "id": "complicated-conservation",
   "metadata": {},
   "outputs": [],
   "source": [
    "import pandas as pd"
   ]
  },
  {
   "cell_type": "code",
   "execution_count": 2,
   "id": "royal-wealth",
   "metadata": {},
   "outputs": [
    {
     "name": "stdout",
     "output_type": "stream",
     "text": [
      "   c0  c1  c2   c  c4\n",
      "0   1   4   7  10  13\n",
      "1   2   5   8  11  14\n",
      "2   3   6   9  12  15\n"
     ]
    }
   ],
   "source": [
    "# 딕셔너리로만 데이터프레임 만들기 \n",
    "dict_data =  {'c0':[1,2,3], 'c1':[4,5,6], 'c2':[7,8,9],'c':[10,11,12], 'c4':[13,14,15]} # key가 열이름(라벨)\n",
    "\n",
    "df = pd.DataFrame(dict_data)\n",
    "print(df)"
   ]
  },
  {
   "cell_type": "code",
   "execution_count": 3,
   "id": "heavy-grain",
   "metadata": {},
   "outputs": [
    {
     "data": {
      "text/html": [
       "<div>\n",
       "<style scoped>\n",
       "    .dataframe tbody tr th:only-of-type {\n",
       "        vertical-align: middle;\n",
       "    }\n",
       "\n",
       "    .dataframe tbody tr th {\n",
       "        vertical-align: top;\n",
       "    }\n",
       "\n",
       "    .dataframe thead th {\n",
       "        text-align: right;\n",
       "    }\n",
       "</style>\n",
       "<table border=\"1\" class=\"dataframe\">\n",
       "  <thead>\n",
       "    <tr style=\"text-align: right;\">\n",
       "      <th></th>\n",
       "      <th>나이</th>\n",
       "      <th>성별</th>\n",
       "      <th>학교</th>\n",
       "    </tr>\n",
       "  </thead>\n",
       "  <tbody>\n",
       "    <tr>\n",
       "      <th>준서</th>\n",
       "      <td>15</td>\n",
       "      <td>남</td>\n",
       "      <td>덕영중</td>\n",
       "    </tr>\n",
       "    <tr>\n",
       "      <th>예은</th>\n",
       "      <td>17</td>\n",
       "      <td>여</td>\n",
       "      <td>수리중</td>\n",
       "    </tr>\n",
       "  </tbody>\n",
       "</table>\n",
       "</div>"
      ],
      "text/plain": [
       "    나이 성별   학교\n",
       "준서  15  남  덕영중\n",
       "예은  17  여  수리중"
      ]
     },
     "execution_count": 3,
     "metadata": {},
     "output_type": "execute_result"
    }
   ],
   "source": [
    "# 리스트로 데이터프레임 만들기 \n",
    "df = pd.DataFrame([[15,'남','덕영중'], [17,'여','수리중']], \n",
    "                 index = ['준서','예은'], #행\n",
    "                 columns=['나이','성별','학교']) #열\n",
    "df"
   ]
  },
  {
   "cell_type": "code",
   "execution_count": 4,
   "id": "stupid-caution",
   "metadata": {},
   "outputs": [
    {
     "data": {
      "text/html": [
       "<div>\n",
       "<style scoped>\n",
       "    .dataframe tbody tr th:only-of-type {\n",
       "        vertical-align: middle;\n",
       "    }\n",
       "\n",
       "    .dataframe tbody tr th {\n",
       "        vertical-align: top;\n",
       "    }\n",
       "\n",
       "    .dataframe thead th {\n",
       "        text-align: right;\n",
       "    }\n",
       "</style>\n",
       "<table border=\"1\" class=\"dataframe\">\n",
       "  <thead>\n",
       "    <tr style=\"text-align: right;\">\n",
       "      <th></th>\n",
       "      <th>나이</th>\n",
       "      <th>성별</th>\n",
       "      <th>학교</th>\n",
       "    </tr>\n",
       "  </thead>\n",
       "  <tbody>\n",
       "    <tr>\n",
       "      <th>차헌</th>\n",
       "      <td>15</td>\n",
       "      <td>남</td>\n",
       "      <td>덕영중</td>\n",
       "    </tr>\n",
       "    <tr>\n",
       "      <th>예은</th>\n",
       "      <td>17</td>\n",
       "      <td>여</td>\n",
       "      <td>수리중</td>\n",
       "    </tr>\n",
       "  </tbody>\n",
       "</table>\n",
       "</div>"
      ],
      "text/plain": [
       "    나이 성별   학교\n",
       "차헌  15  남  덕영중\n",
       "예은  17  여  수리중"
      ]
     },
     "execution_count": 4,
     "metadata": {},
     "output_type": "execute_result"
    }
   ],
   "source": [
    "df.rename(columns={'나이':'연령'}) #열 이름 바꾸기 / inplace = T 는 대체되어 저장\n",
    "df.rename(index={'준서':'차헌'}) # 행 이름 (행을 생각하면 index부터 생각하기)"
   ]
  },
  {
   "cell_type": "markdown",
   "id": "sophisticated-cannon",
   "metadata": {},
   "source": [
    "`*` 모르는 패키지(모듈)은 Help 들어가서 직접 찾아보고 공부하기"
   ]
  },
  {
   "cell_type": "code",
   "execution_count": 5,
   "id": "elegant-maker",
   "metadata": {},
   "outputs": [
    {
     "data": {
      "text/html": [
       "<div>\n",
       "<style scoped>\n",
       "    .dataframe tbody tr th:only-of-type {\n",
       "        vertical-align: middle;\n",
       "    }\n",
       "\n",
       "    .dataframe tbody tr th {\n",
       "        vertical-align: top;\n",
       "    }\n",
       "\n",
       "    .dataframe thead th {\n",
       "        text-align: right;\n",
       "    }\n",
       "</style>\n",
       "<table border=\"1\" class=\"dataframe\">\n",
       "  <thead>\n",
       "    <tr style=\"text-align: right;\">\n",
       "      <th></th>\n",
       "      <th>나이</th>\n",
       "    </tr>\n",
       "  </thead>\n",
       "  <tbody>\n",
       "    <tr>\n",
       "      <th>준서</th>\n",
       "      <td>15</td>\n",
       "    </tr>\n",
       "    <tr>\n",
       "      <th>예은</th>\n",
       "      <td>17</td>\n",
       "    </tr>\n",
       "  </tbody>\n",
       "</table>\n",
       "</div>"
      ],
      "text/plain": [
       "    나이\n",
       "준서  15\n",
       "예은  17"
      ]
     },
     "execution_count": 5,
     "metadata": {},
     "output_type": "execute_result"
    }
   ],
   "source": [
    "df.drop('나이',axis = 1) # axis는 행 = 0 열 = 1\n",
    "df.drop(['성별','학교'], axis = 1) # 2개 이상은 []쳐야함"
   ]
  },
  {
   "cell_type": "markdown",
   "id": "north-patrol",
   "metadata": {},
   "source": [
    "`-` 데이터 프레임 인덱싱 ($\\star\\star\\star$)\n",
    " >2차원 자료니 더 헷갈리 수 밖에 없음!\n",
    " >\n",
    " >`TiP` []는 위치값, ()클래스 안에 함수를 사용할 때 이용. \n",
    "\n",
    " >loc = 인덱스 이름 기준 /\n",
    " iloc = 정수형 위치 인덱스 "
   ]
  },
  {
   "cell_type": "code",
   "execution_count": 6,
   "id": "extended-bermuda",
   "metadata": {},
   "outputs": [
    {
     "data": {
      "text/html": [
       "<div>\n",
       "<style scoped>\n",
       "    .dataframe tbody tr th:only-of-type {\n",
       "        vertical-align: middle;\n",
       "    }\n",
       "\n",
       "    .dataframe tbody tr th {\n",
       "        vertical-align: top;\n",
       "    }\n",
       "\n",
       "    .dataframe thead th {\n",
       "        text-align: right;\n",
       "    }\n",
       "</style>\n",
       "<table border=\"1\" class=\"dataframe\">\n",
       "  <thead>\n",
       "    <tr style=\"text-align: right;\">\n",
       "      <th></th>\n",
       "      <th>나이</th>\n",
       "      <th>성별</th>\n",
       "      <th>학교</th>\n",
       "    </tr>\n",
       "  </thead>\n",
       "  <tbody>\n",
       "    <tr>\n",
       "      <th>준서</th>\n",
       "      <td>15</td>\n",
       "      <td>남</td>\n",
       "      <td>덕영중</td>\n",
       "    </tr>\n",
       "    <tr>\n",
       "      <th>예은</th>\n",
       "      <td>17</td>\n",
       "      <td>여</td>\n",
       "      <td>수리중</td>\n",
       "    </tr>\n",
       "  </tbody>\n",
       "</table>\n",
       "</div>"
      ],
      "text/plain": [
       "    나이 성별   학교\n",
       "준서  15  남  덕영중\n",
       "예은  17  여  수리중"
      ]
     },
     "execution_count": 6,
     "metadata": {},
     "output_type": "execute_result"
    }
   ],
   "source": [
    "df"
   ]
  },
  {
   "cell_type": "code",
   "execution_count": 7,
   "id": "decent-cincinnati",
   "metadata": {},
   "outputs": [
    {
     "name": "stdout",
     "output_type": "stream",
     "text": [
      "나이     15\n",
      "성별      남\n",
      "학교    덕영중\n",
      "Name: 준서, dtype: object \n",
      "\n",
      "    나이 성별   학교\n",
      "준서  15  남  덕영중\n",
      "예은  17  여  수리중 \n",
      "\n",
      "    나이 성별   학교\n",
      "준서  15  남  덕영중\n",
      "예은  17  여  수리중 \n",
      "\n",
      "------ \n",
      "\n",
      "나이     17\n",
      "성별      여\n",
      "학교    수리중\n",
      "Name: 예은, dtype: object \n",
      "\n",
      "    나이 성별   학교\n",
      "준서  15  남  덕영중\n",
      "예은  17  여  수리중 \n",
      "\n",
      "    나이 성별   학교\n",
      "예은  17  여  수리중 \n",
      "\n"
     ]
    }
   ],
   "source": [
    "# 행 선택 \n",
    "\n",
    "print(df.loc['준서'],'\\n') # 행이름으로 추출\n",
    "print(df.loc[['준서','예은']], '\\n') # 2개 이상 r각각 추출은 []로 묶어야함 \n",
    "print(df.loc['준서':'예은'], '\\n') # 범위 지정\n",
    "print('------', '\\n')\n",
    "print(df.iloc[1],'\\n') #행 순서로 추출\n",
    "print(df.iloc[[0,1]], '\\n') # 개별, 각각 2개 이상이니 [[]]\n",
    "print(df.iloc[1:2], '\\n')"
   ]
  },
  {
   "cell_type": "code",
   "execution_count": 8,
   "id": "breathing-decrease",
   "metadata": {},
   "outputs": [
    {
     "data": {
      "text/html": [
       "<div>\n",
       "<style scoped>\n",
       "    .dataframe tbody tr th:only-of-type {\n",
       "        vertical-align: middle;\n",
       "    }\n",
       "\n",
       "    .dataframe tbody tr th {\n",
       "        vertical-align: top;\n",
       "    }\n",
       "\n",
       "    .dataframe thead th {\n",
       "        text-align: right;\n",
       "    }\n",
       "</style>\n",
       "<table border=\"1\" class=\"dataframe\">\n",
       "  <thead>\n",
       "    <tr style=\"text-align: right;\">\n",
       "      <th></th>\n",
       "      <th>나이</th>\n",
       "      <th>성별</th>\n",
       "    </tr>\n",
       "  </thead>\n",
       "  <tbody>\n",
       "    <tr>\n",
       "      <th>준서</th>\n",
       "      <td>15</td>\n",
       "      <td>남</td>\n",
       "    </tr>\n",
       "    <tr>\n",
       "      <th>예은</th>\n",
       "      <td>17</td>\n",
       "      <td>여</td>\n",
       "    </tr>\n",
       "  </tbody>\n",
       "</table>\n",
       "</div>"
      ],
      "text/plain": [
       "    나이 성별\n",
       "준서  15  남\n",
       "예은  17  여"
      ]
     },
     "execution_count": 8,
     "metadata": {},
     "output_type": "execute_result"
    }
   ],
   "source": [
    "# 열 선택 \n",
    "\n",
    "df['나이'] # 데이터 프레임은 열 이름 인덱싱을 해야한다. 문자열처럼 정수 인덱싱 X \n",
    "df.나이\n",
    "\n",
    "df[['나이','성별']] # 2개 이상 개별 인덱싱"
   ]
  },
  {
   "cell_type": "code",
   "execution_count": 11,
   "id": "cordless-wayne",
   "metadata": {},
   "outputs": [
    {
     "data": {
      "text/html": [
       "<div>\n",
       "<style scoped>\n",
       "    .dataframe tbody tr th:only-of-type {\n",
       "        vertical-align: middle;\n",
       "    }\n",
       "\n",
       "    .dataframe tbody tr th {\n",
       "        vertical-align: top;\n",
       "    }\n",
       "\n",
       "    .dataframe thead th {\n",
       "        text-align: right;\n",
       "    }\n",
       "</style>\n",
       "<table border=\"1\" class=\"dataframe\">\n",
       "  <thead>\n",
       "    <tr style=\"text-align: right;\">\n",
       "      <th></th>\n",
       "      <th>나이</th>\n",
       "      <th>성별</th>\n",
       "      <th>학교</th>\n",
       "    </tr>\n",
       "  </thead>\n",
       "  <tbody>\n",
       "    <tr>\n",
       "      <th>준서</th>\n",
       "      <td>15</td>\n",
       "      <td>남</td>\n",
       "      <td>덕영중</td>\n",
       "    </tr>\n",
       "    <tr>\n",
       "      <th>예은</th>\n",
       "      <td>17</td>\n",
       "      <td>여</td>\n",
       "      <td>수리중</td>\n",
       "    </tr>\n",
       "  </tbody>\n",
       "</table>\n",
       "</div>"
      ],
      "text/plain": [
       "    나이 성별   학교\n",
       "준서  15  남  덕영중\n",
       "예은  17  여  수리중"
      ]
     },
     "execution_count": 11,
     "metadata": {},
     "output_type": "execute_result"
    }
   ],
   "source": [
    "df"
   ]
  },
  {
   "cell_type": "code",
   "execution_count": 14,
   "id": "miniature-trademark",
   "metadata": {},
   "outputs": [
    {
     "data": {
      "text/html": [
       "<div>\n",
       "<style scoped>\n",
       "    .dataframe tbody tr th:only-of-type {\n",
       "        vertical-align: middle;\n",
       "    }\n",
       "\n",
       "    .dataframe tbody tr th {\n",
       "        vertical-align: top;\n",
       "    }\n",
       "\n",
       "    .dataframe thead th {\n",
       "        text-align: right;\n",
       "    }\n",
       "</style>\n",
       "<table border=\"1\" class=\"dataframe\">\n",
       "  <thead>\n",
       "    <tr style=\"text-align: right;\">\n",
       "      <th></th>\n",
       "      <th>나이</th>\n",
       "      <th>성별</th>\n",
       "    </tr>\n",
       "  </thead>\n",
       "  <tbody>\n",
       "    <tr>\n",
       "      <th>준서</th>\n",
       "      <td>15</td>\n",
       "      <td>남</td>\n",
       "    </tr>\n",
       "  </tbody>\n",
       "</table>\n",
       "</div>"
      ],
      "text/plain": [
       "    나이 성별\n",
       "준서  15  남"
      ]
     },
     "execution_count": 14,
     "metadata": {},
     "output_type": "execute_result"
    }
   ],
   "source": [
    "# 원소 1개 선택 \n",
    "\n",
    "df.loc['준서','나이'] # x,y  x는 행 y는 열 / 이래서 행 or 열 두개 이상 구하려면 [[]] 사용한거임.\n",
    "df.iloc[0,2] # 똑같은데 숫자좌표\n",
    "\n",
    "# 원소 2개 선택 \n",
    "\n",
    "df.loc['준서',['나이','성별']]\n",
    "df.iloc[0,1:2] #누차 얘기하지만 []한번 더 쓰는건 각각 추출인거고 범위는 :면 됨\n",
    "\n",
    "# 데이터 프레임 선택 \n",
    "\n",
    "df.loc[['준서','예은'],['나이','성별']] \n",
    "df.iloc[0:1,[1,2]] #범위 + 개별선택 모두 가능\n",
    "\n",
    "df.iloc[0:1][['나이','성별']] #만일 행은 인덱스 열은 이름으로 뽑고싶을때 "
   ]
  },
  {
   "cell_type": "markdown",
   "id": "going-pillow",
   "metadata": {},
   "source": [
    "`-` 데이터프레임 조건 추출 (필터링)"
   ]
  },
  {
   "cell_type": "code",
   "execution_count": 37,
   "id": "italic-copyright",
   "metadata": {},
   "outputs": [
    {
     "data": {
      "text/html": [
       "<div>\n",
       "<style scoped>\n",
       "    .dataframe tbody tr th:only-of-type {\n",
       "        vertical-align: middle;\n",
       "    }\n",
       "\n",
       "    .dataframe tbody tr th {\n",
       "        vertical-align: top;\n",
       "    }\n",
       "\n",
       "    .dataframe thead th {\n",
       "        text-align: right;\n",
       "    }\n",
       "</style>\n",
       "<table border=\"1\" class=\"dataframe\">\n",
       "  <thead>\n",
       "    <tr style=\"text-align: right;\">\n",
       "      <th></th>\n",
       "      <th>mpg</th>\n",
       "      <th>cylinders</th>\n",
       "      <th>displacement</th>\n",
       "      <th>horsepewer</th>\n",
       "      <th>weight</th>\n",
       "      <th>acceleration</th>\n",
       "      <th>model year</th>\n",
       "      <th>origin</th>\n",
       "      <th>name</th>\n",
       "    </tr>\n",
       "  </thead>\n",
       "  <tbody>\n",
       "    <tr>\n",
       "      <th>326</th>\n",
       "      <td>43.4</td>\n",
       "      <td>4</td>\n",
       "      <td>90.0</td>\n",
       "      <td>48.00</td>\n",
       "      <td>2335.0</td>\n",
       "      <td>23.7</td>\n",
       "      <td>80</td>\n",
       "      <td>2</td>\n",
       "      <td>vw dasher (diesel)</td>\n",
       "    </tr>\n",
       "  </tbody>\n",
       "</table>\n",
       "</div>"
      ],
      "text/plain": [
       "      mpg  cylinders  displacement horsepewer  weight  acceleration  \\\n",
       "326  43.4          4          90.0      48.00  2335.0          23.7   \n",
       "\n",
       "     model year  origin                name  \n",
       "326          80       2  vw dasher (diesel)  "
      ]
     },
     "execution_count": 37,
     "metadata": {},
     "output_type": "execute_result"
    }
   ],
   "source": [
    "df[df.mpg>40] # 열 필터링 시 열 이름만 쓰는게 아니라 DF.Columns + 조건 이라 써야함 \n",
    "df.query('mpg>40') # query 함수를 쓸 때는 또 ,, 열 이름 + 조건이다. \n",
    "\n",
    "df[(df.mpg>40) & (df.weight>2300)] # 복수 조건은 조건에 () 쓰면 된다. \n",
    "# df.iloc[1:300, (df.mpg>40)] 혹시 300번 까지의 행에서 특정 조건열을 열고 싶다면?"
   ]
  },
  {
   "cell_type": "code",
   "execution_count": 38,
   "id": "expanded-parish",
   "metadata": {},
   "outputs": [
    {
     "data": {
      "text/html": [
       "<div>\n",
       "<style scoped>\n",
       "    .dataframe tbody tr th:only-of-type {\n",
       "        vertical-align: middle;\n",
       "    }\n",
       "\n",
       "    .dataframe tbody tr th {\n",
       "        vertical-align: top;\n",
       "    }\n",
       "\n",
       "    .dataframe thead th {\n",
       "        text-align: right;\n",
       "    }\n",
       "</style>\n",
       "<table border=\"1\" class=\"dataframe\">\n",
       "  <thead>\n",
       "    <tr style=\"text-align: right;\">\n",
       "      <th></th>\n",
       "      <th>mpg</th>\n",
       "      <th>displacement</th>\n",
       "      <th>model year</th>\n",
       "      <th>name</th>\n",
       "    </tr>\n",
       "  </thead>\n",
       "  <tbody>\n",
       "    <tr>\n",
       "      <th>0</th>\n",
       "      <td>18.0</td>\n",
       "      <td>307.0</td>\n",
       "      <td>70</td>\n",
       "      <td>chevrolet chevelle malibu</td>\n",
       "    </tr>\n",
       "    <tr>\n",
       "      <th>1</th>\n",
       "      <td>15.0</td>\n",
       "      <td>350.0</td>\n",
       "      <td>70</td>\n",
       "      <td>buick skylark 320</td>\n",
       "    </tr>\n",
       "    <tr>\n",
       "      <th>2</th>\n",
       "      <td>18.0</td>\n",
       "      <td>318.0</td>\n",
       "      <td>70</td>\n",
       "      <td>plymouth satellite</td>\n",
       "    </tr>\n",
       "    <tr>\n",
       "      <th>3</th>\n",
       "      <td>16.0</td>\n",
       "      <td>304.0</td>\n",
       "      <td>70</td>\n",
       "      <td>amc rebel sst</td>\n",
       "    </tr>\n",
       "    <tr>\n",
       "      <th>4</th>\n",
       "      <td>17.0</td>\n",
       "      <td>302.0</td>\n",
       "      <td>70</td>\n",
       "      <td>ford torino</td>\n",
       "    </tr>\n",
       "    <tr>\n",
       "      <th>...</th>\n",
       "      <td>...</td>\n",
       "      <td>...</td>\n",
       "      <td>...</td>\n",
       "      <td>...</td>\n",
       "    </tr>\n",
       "    <tr>\n",
       "      <th>393</th>\n",
       "      <td>27.0</td>\n",
       "      <td>140.0</td>\n",
       "      <td>82</td>\n",
       "      <td>ford mustang gl</td>\n",
       "    </tr>\n",
       "    <tr>\n",
       "      <th>394</th>\n",
       "      <td>44.0</td>\n",
       "      <td>97.0</td>\n",
       "      <td>82</td>\n",
       "      <td>vw pickup</td>\n",
       "    </tr>\n",
       "    <tr>\n",
       "      <th>395</th>\n",
       "      <td>32.0</td>\n",
       "      <td>135.0</td>\n",
       "      <td>82</td>\n",
       "      <td>dodge rampage</td>\n",
       "    </tr>\n",
       "    <tr>\n",
       "      <th>396</th>\n",
       "      <td>28.0</td>\n",
       "      <td>120.0</td>\n",
       "      <td>82</td>\n",
       "      <td>ford ranger</td>\n",
       "    </tr>\n",
       "    <tr>\n",
       "      <th>397</th>\n",
       "      <td>31.0</td>\n",
       "      <td>119.0</td>\n",
       "      <td>82</td>\n",
       "      <td>chevy s-10</td>\n",
       "    </tr>\n",
       "  </tbody>\n",
       "</table>\n",
       "<p>398 rows × 4 columns</p>\n",
       "</div>"
      ],
      "text/plain": [
       "      mpg  displacement  model year                       name\n",
       "0    18.0         307.0          70  chevrolet chevelle malibu\n",
       "1    15.0         350.0          70          buick skylark 320\n",
       "2    18.0         318.0          70         plymouth satellite\n",
       "3    16.0         304.0          70              amc rebel sst\n",
       "4    17.0         302.0          70                ford torino\n",
       "..    ...           ...         ...                        ...\n",
       "393  27.0         140.0          82            ford mustang gl\n",
       "394  44.0          97.0          82                  vw pickup\n",
       "395  32.0         135.0          82              dodge rampage\n",
       "396  28.0         120.0          82                ford ranger\n",
       "397  31.0         119.0          82                 chevy s-10\n",
       "\n",
       "[398 rows x 4 columns]"
      ]
     },
     "execution_count": 38,
     "metadata": {},
     "output_type": "execute_result"
    }
   ],
   "source": [
    "df.filter(like='m', axis=1) # 열 이름에 m이 있나? 알아만둬"
   ]
  },
  {
   "cell_type": "code",
   "execution_count": 71,
   "id": "maritime-palmer",
   "metadata": {},
   "outputs": [
    {
     "data": {
      "text/html": [
       "<div>\n",
       "<style scoped>\n",
       "    .dataframe tbody tr th:only-of-type {\n",
       "        vertical-align: middle;\n",
       "    }\n",
       "\n",
       "    .dataframe tbody tr th {\n",
       "        vertical-align: top;\n",
       "    }\n",
       "\n",
       "    .dataframe thead th {\n",
       "        text-align: right;\n",
       "    }\n",
       "</style>\n",
       "<table border=\"1\" class=\"dataframe\">\n",
       "  <thead>\n",
       "    <tr style=\"text-align: right;\">\n",
       "      <th></th>\n",
       "      <th>나이</th>\n",
       "      <th>성별</th>\n",
       "      <th>학교</th>\n",
       "      <th>진로</th>\n",
       "      <th>용돈</th>\n",
       "    </tr>\n",
       "  </thead>\n",
       "  <tbody>\n",
       "    <tr>\n",
       "      <th>준서</th>\n",
       "      <td>15</td>\n",
       "      <td>남</td>\n",
       "      <td>덕영중</td>\n",
       "      <td>선생님</td>\n",
       "      <td>50</td>\n",
       "    </tr>\n",
       "    <tr>\n",
       "      <th>예은</th>\n",
       "      <td>17</td>\n",
       "      <td>여</td>\n",
       "      <td>수리중</td>\n",
       "      <td>개발자</td>\n",
       "      <td>50</td>\n",
       "    </tr>\n",
       "    <tr>\n",
       "      <th>차헌</th>\n",
       "      <td>26</td>\n",
       "      <td>남</td>\n",
       "      <td>전북대</td>\n",
       "      <td>분석가</td>\n",
       "      <td>50</td>\n",
       "    </tr>\n",
       "  </tbody>\n",
       "</table>\n",
       "</div>"
      ],
      "text/plain": [
       "    나이 성별   학교   진로  용돈\n",
       "준서  15  남  덕영중  선생님  50\n",
       "예은  17  여  수리중  개발자  50\n",
       "차헌  26  남  전북대  분석가  50"
      ]
     },
     "execution_count": 71,
     "metadata": {},
     "output_type": "execute_result"
    }
   ],
   "source": [
    "# 열추가 \n",
    "\n",
    "# df['진로'] = ['선생님','개발자'] # 이건 열 생성도 가능하지만 덮어쓰기도 가능함 (즉 변경도 가능함)\n",
    "df['용돈'] = 50 # 일괄적으로 넣을 수도 있음 \n",
    "\n",
    "# 행추가 \n",
    "\n",
    "df.loc['차헌'] = [26,'남','전북대','분석가',50] \n",
    "\n"
   ]
  },
  {
   "cell_type": "markdown",
   "id": "passive-filling",
   "metadata": {},
   "source": [
    "`깨달음` 아하! 행,열 추가는 행,열을 선택하는 코드에 = 입력값을 넣으면 되는구나!"
   ]
  },
  {
   "cell_type": "code",
   "execution_count": 73,
   "id": "exceptional-colorado",
   "metadata": {},
   "outputs": [
    {
     "data": {
      "text/html": [
       "<div>\n",
       "<style scoped>\n",
       "    .dataframe tbody tr th:only-of-type {\n",
       "        vertical-align: middle;\n",
       "    }\n",
       "\n",
       "    .dataframe tbody tr th {\n",
       "        vertical-align: top;\n",
       "    }\n",
       "\n",
       "    .dataframe thead th {\n",
       "        text-align: right;\n",
       "    }\n",
       "</style>\n",
       "<table border=\"1\" class=\"dataframe\">\n",
       "  <thead>\n",
       "    <tr style=\"text-align: right;\">\n",
       "      <th></th>\n",
       "      <th>준서</th>\n",
       "      <th>예은</th>\n",
       "      <th>차헌</th>\n",
       "    </tr>\n",
       "  </thead>\n",
       "  <tbody>\n",
       "    <tr>\n",
       "      <th>나이</th>\n",
       "      <td>15</td>\n",
       "      <td>17</td>\n",
       "      <td>26</td>\n",
       "    </tr>\n",
       "    <tr>\n",
       "      <th>성별</th>\n",
       "      <td>남</td>\n",
       "      <td>여</td>\n",
       "      <td>남</td>\n",
       "    </tr>\n",
       "    <tr>\n",
       "      <th>학교</th>\n",
       "      <td>덕영중</td>\n",
       "      <td>수리중</td>\n",
       "      <td>전북대</td>\n",
       "    </tr>\n",
       "    <tr>\n",
       "      <th>진로</th>\n",
       "      <td>선생님</td>\n",
       "      <td>개발자</td>\n",
       "      <td>분석가</td>\n",
       "    </tr>\n",
       "    <tr>\n",
       "      <th>용돈</th>\n",
       "      <td>50</td>\n",
       "      <td>50</td>\n",
       "      <td>70</td>\n",
       "    </tr>\n",
       "  </tbody>\n",
       "</table>\n",
       "</div>"
      ],
      "text/plain": [
       "     준서   예은   차헌\n",
       "나이   15   17   26\n",
       "성별    남    여    남\n",
       "학교  덕영중  수리중  전북대\n",
       "진로  선생님  개발자  분석가\n",
       "용돈   50   50   70"
      ]
     },
     "execution_count": 73,
     "metadata": {},
     "output_type": "execute_result"
    }
   ],
   "source": [
    "#원소값 변경 (도 마찬가지!)\n",
    "\n",
    "df.loc['차헌','용돈'] = 70\n",
    "\n",
    "# 행/열 위치 바꾸기\n",
    "\n",
    "df.T "
   ]
  },
  {
   "cell_type": "code",
   "execution_count": 1,
   "id": "treated-folder",
   "metadata": {},
   "outputs": [
    {
     "ename": "NameError",
     "evalue": "name 'pd' is not defined",
     "output_type": "error",
     "traceback": [
      "\u001b[1;31m---------------------------------------------------------------------------\u001b[0m",
      "\u001b[1;31mNameError\u001b[0m                                 Traceback (most recent call last)",
      "\u001b[1;32m<ipython-input-1-cc4100a7e256>\u001b[0m in \u001b[0;36m<module>\u001b[1;34m\u001b[0m\n\u001b[0;32m      7\u001b[0m '체육' : [ 100, 90, 90]}\n\u001b[0;32m      8\u001b[0m \u001b[1;33m\u001b[0m\u001b[0m\n\u001b[1;32m----> 9\u001b[1;33m \u001b[0mdf\u001b[0m \u001b[1;33m=\u001b[0m \u001b[0mpd\u001b[0m\u001b[1;33m.\u001b[0m\u001b[0mDataFrame\u001b[0m\u001b[1;33m(\u001b[0m\u001b[0mexam_data\u001b[0m\u001b[1;33m)\u001b[0m\u001b[1;33m\u001b[0m\u001b[1;33m\u001b[0m\u001b[0m\n\u001b[0m\u001b[0;32m     10\u001b[0m \u001b[0mprint\u001b[0m\u001b[1;33m(\u001b[0m\u001b[0mdf\u001b[0m\u001b[1;33m,\u001b[0m \u001b[1;34m'\\n'\u001b[0m\u001b[1;33m)\u001b[0m \u001b[1;31m#이렇게 행 이름이 단순히 인덱스 인 경우 이름을 행이름으로 바꾸고 싶다.\u001b[0m\u001b[1;33m\u001b[0m\u001b[1;33m\u001b[0m\u001b[0m\n\u001b[0;32m     11\u001b[0m \u001b[1;33m\u001b[0m\u001b[0m\n",
      "\u001b[1;31mNameError\u001b[0m: name 'pd' is not defined"
     ]
    }
   ],
   "source": [
    "# 특정 열을 행 인덱스로 설정하기 \n",
    "\n",
    "exam_data = {'이름' : [ '서준', '우현', '인아'],\n",
    "'수학' : [ 90, 80, 70],\n",
    "'영어' : [ 98, 89, 95],\n",
    "'음악' : [ 85, 95, 100],\n",
    "'체육' : [ 100, 90, 90]}\n",
    "\n",
    "df = pd.DataFrame(exam_data)\n",
    "print(df, '\\n') #이렇게 행 이름이 단순히 인덱스 인 경우 이름을 행이름으로 바꾸고 싶다. \n",
    "\n",
    "ndf = df.set_index(['이름']) #이렇게 하면 됨!\n",
    "\n",
    "# df.index = 행 이름 리스트 (바로 행 이름들 바뀜) "
   ]
  },
  {
   "cell_type": "code",
   "execution_count": 90,
   "id": "complimentary-niger",
   "metadata": {},
   "outputs": [
    {
     "name": "stdout",
     "output_type": "stream",
     "text": [
      "    수학  영어   음악   체육   총점     평균\n",
      "서준  90  98   85  100  373  93.25\n",
      "우현  80  89   95   90  354  88.50\n",
      "인아  70  95  100   90  355  88.75\n"
     ]
    }
   ],
   "source": [
    "exam_data = {'수학' : [90, 80, 70],\n",
    "            '영어' : [98,89,95],\n",
    "            '음악' : [85, 95,100],\n",
    "            '체육' : [100,90,90]}\n",
    "\n",
    "df = pd.DataFrame(exam_data, index=['서준','우현','인아']) # 데이터프레임 생성 및 행이름 생성\n",
    "\n",
    "df['총점'] = df['수학'] +df['영어'] +df['음악'] +df['체육'] # 열끼리 계산하고 바로 열 생성 할 수 있음\n",
    "df['평균'] = df['총점']/4\n",
    "\n",
    "print(df)"
   ]
  },
  {
   "cell_type": "code",
   "execution_count": 92,
   "id": "improved-interest",
   "metadata": {
    "tags": []
   },
   "outputs": [
    {
     "data": {
      "text/html": [
       "<div>\n",
       "<style scoped>\n",
       "    .dataframe tbody tr th:only-of-type {\n",
       "        vertical-align: middle;\n",
       "    }\n",
       "\n",
       "    .dataframe tbody tr th {\n",
       "        vertical-align: top;\n",
       "    }\n",
       "\n",
       "    .dataframe thead th {\n",
       "        text-align: right;\n",
       "    }\n",
       "</style>\n",
       "<table border=\"1\" class=\"dataframe\">\n",
       "  <thead>\n",
       "    <tr style=\"text-align: right;\">\n",
       "      <th></th>\n",
       "      <th>수학</th>\n",
       "      <th>영어</th>\n",
       "      <th>음악</th>\n",
       "      <th>체육</th>\n",
       "      <th>총점</th>\n",
       "      <th>평균</th>\n",
       "      <th>성적</th>\n",
       "    </tr>\n",
       "  </thead>\n",
       "  <tbody>\n",
       "    <tr>\n",
       "      <th>서준</th>\n",
       "      <td>90</td>\n",
       "      <td>98</td>\n",
       "      <td>85</td>\n",
       "      <td>100</td>\n",
       "      <td>373</td>\n",
       "      <td>93.25</td>\n",
       "      <td>A</td>\n",
       "    </tr>\n",
       "    <tr>\n",
       "      <th>우현</th>\n",
       "      <td>80</td>\n",
       "      <td>89</td>\n",
       "      <td>95</td>\n",
       "      <td>90</td>\n",
       "      <td>354</td>\n",
       "      <td>88.50</td>\n",
       "      <td>B</td>\n",
       "    </tr>\n",
       "    <tr>\n",
       "      <th>인아</th>\n",
       "      <td>70</td>\n",
       "      <td>95</td>\n",
       "      <td>100</td>\n",
       "      <td>90</td>\n",
       "      <td>355</td>\n",
       "      <td>88.75</td>\n",
       "      <td>B</td>\n",
       "    </tr>\n",
       "  </tbody>\n",
       "</table>\n",
       "</div>"
      ],
      "text/plain": [
       "    수학  영어   음악   체육   총점     평균 성적\n",
       "서준  90  98   85  100  373  93.25  A\n",
       "우현  80  89   95   90  354  88.50  B\n",
       "인아  70  95  100   90  355  88.75  B"
      ]
     },
     "execution_count": 92,
     "metadata": {},
     "output_type": "execute_result"
    }
   ],
   "source": [
    "grades = []\n",
    "\n",
    "for i in df['평균']: # 반복문 안에 DF 열을 넣을 수 있음 \n",
    "    if i >= 90:\n",
    "        grades.append('A')\n",
    "    elif i >= 80:\n",
    "        grades.append('B')\n",
    "    else:\n",
    "        grades.append('C')\n",
    "        \n",
    "df['성적'] = grades\n",
    "df"
   ]
  },
  {
   "cell_type": "markdown",
   "id": "documented-brooklyn",
   "metadata": {},
   "source": [
    "* 함수를 데이터프레임 안에 사용해보자. "
   ]
  },
  {
   "cell_type": "code",
   "execution_count": 94,
   "id": "knowing-forest",
   "metadata": {},
   "outputs": [],
   "source": [
    "def scholarship(row):\n",
    "    print(row)\n",
    "    if row == 'A':\n",
    "        return '장학생'\n",
    "    else:\n",
    "        return '비장학생'"
   ]
  },
  {
   "cell_type": "code",
   "execution_count": 95,
   "id": "auburn-amount",
   "metadata": {},
   "outputs": [
    {
     "name": "stdout",
     "output_type": "stream",
     "text": [
      "A\n",
      "B\n",
      "B\n"
     ]
    }
   ],
   "source": [
    "df['장학여부'] = df.성적.apply(scholarship) # apply  각각에 함수 대입"
   ]
  },
  {
   "cell_type": "markdown",
   "id": "generic-salvation",
   "metadata": {},
   "source": [
    "> `함수 설명` \n",
    ">\n",
    ">map() / 1차원 객체를 변환할때 각 요소에 함수를 적용 할 수 있다. \n",
    ">\n",
    ">> \" for i in map(함수, 변수): \"\n",
    ">\n",
    ">apply() / 2차원 객체(자료형)의 행/열에 만들어 놓은 함수를 대입해주는 함수 / axis = 0 or 1 "
   ]
  },
  {
   "cell_type": "markdown",
   "id": "stable-california",
   "metadata": {},
   "source": [
    "+ 데이터프레임은 서로 연산이 가능하며 Nun값이 있다면 출력도 NUn으로 된다."
   ]
  },
  {
   "cell_type": "markdown",
   "id": "polar-person",
   "metadata": {},
   "source": [
    "-----------"
   ]
  },
  {
   "cell_type": "markdown",
   "id": "little-strip",
   "metadata": {},
   "source": [
    "### 파일 불러오기 "
   ]
  },
  {
   "cell_type": "markdown",
   "id": "acute-forestry",
   "metadata": {},
   "source": [
    "`-` 고정 폴더 만들기 "
   ]
  },
  {
   "cell_type": "code",
   "execution_count": 108,
   "id": "egyptian-michael",
   "metadata": {},
   "outputs": [],
   "source": [
    "import os"
   ]
  },
  {
   "cell_type": "code",
   "execution_count": 111,
   "id": "editorial-evidence",
   "metadata": {},
   "outputs": [],
   "source": [
    "os.chdir('C:/Users/Oldcar/Documents/새 폴더') # 이런식으로 경로를 고정 할 수 있다.\n",
    "                                              # 하지만 주피터 랩은 자동으로 노트 경로가 고정되니 알아만두기."
   ]
  },
  {
   "cell_type": "markdown",
   "id": "cathedral-strand",
   "metadata": {},
   "source": [
    "`-`csv, json, xsls 등 파일 불러오기 "
   ]
  },
  {
   "cell_type": "markdown",
   "id": "introductory-wages",
   "metadata": {},
   "source": [
    "- 파일 경로 \n",
    "  - pd.read_csv()\n",
    "  - pd.read_excel()\n",
    "  - pd.read_json()\n",
    "  \n",
    "- 웹 페이지에서 표 가져오기\n",
    "  - pd.read_html('웹주소' or ' HTML 파일 경로') \n",
    "   -dfdf "
   ]
  },
  {
   "cell_type": "markdown",
   "id": "grave-parts",
   "metadata": {},
   "source": [
    "> `제이슨 파일` \n",
    ">\n",
    "> 자바 스크립트에서 유래한 데이터 공유를 목적으로 개발된 특수 파일\n",
    ">\n",
    "> 파이썬 딕셔너리와 비슷한 구조"
   ]
  },
  {
   "cell_type": "code",
   "execution_count": 7,
   "id": "difficult-iraqi",
   "metadata": {},
   "outputs": [
    {
     "data": {
      "text/html": [
       "<div>\n",
       "<style scoped>\n",
       "    .dataframe tbody tr th:only-of-type {\n",
       "        vertical-align: middle;\n",
       "    }\n",
       "\n",
       "    .dataframe tbody tr th {\n",
       "        vertical-align: top;\n",
       "    }\n",
       "\n",
       "    .dataframe thead th {\n",
       "        text-align: right;\n",
       "    }\n",
       "</style>\n",
       "<table border=\"1\" class=\"dataframe\">\n",
       "  <thead>\n",
       "    <tr style=\"text-align: right;\">\n",
       "      <th></th>\n",
       "      <th>mpg</th>\n",
       "      <th>cylinders</th>\n",
       "      <th>displacement</th>\n",
       "      <th>horsepewer</th>\n",
       "      <th>weight</th>\n",
       "      <th>acceleration</th>\n",
       "      <th>model year</th>\n",
       "      <th>origin</th>\n",
       "      <th>name</th>\n",
       "    </tr>\n",
       "  </thead>\n",
       "  <tbody>\n",
       "    <tr>\n",
       "      <th>0</th>\n",
       "      <td>18.0</td>\n",
       "      <td>8</td>\n",
       "      <td>307.0</td>\n",
       "      <td>130.0</td>\n",
       "      <td>3504.0</td>\n",
       "      <td>12.0</td>\n",
       "      <td>70</td>\n",
       "      <td>1</td>\n",
       "      <td>chevrolet chevelle malibu</td>\n",
       "    </tr>\n",
       "    <tr>\n",
       "      <th>1</th>\n",
       "      <td>15.0</td>\n",
       "      <td>8</td>\n",
       "      <td>350.0</td>\n",
       "      <td>165.0</td>\n",
       "      <td>3693.0</td>\n",
       "      <td>11.5</td>\n",
       "      <td>70</td>\n",
       "      <td>1</td>\n",
       "      <td>buick skylark 320</td>\n",
       "    </tr>\n",
       "    <tr>\n",
       "      <th>2</th>\n",
       "      <td>18.0</td>\n",
       "      <td>8</td>\n",
       "      <td>318.0</td>\n",
       "      <td>150.0</td>\n",
       "      <td>3436.0</td>\n",
       "      <td>11.0</td>\n",
       "      <td>70</td>\n",
       "      <td>1</td>\n",
       "      <td>plymouth satellite</td>\n",
       "    </tr>\n",
       "    <tr>\n",
       "      <th>3</th>\n",
       "      <td>16.0</td>\n",
       "      <td>8</td>\n",
       "      <td>304.0</td>\n",
       "      <td>150.0</td>\n",
       "      <td>3433.0</td>\n",
       "      <td>12.0</td>\n",
       "      <td>70</td>\n",
       "      <td>1</td>\n",
       "      <td>amc rebel sst</td>\n",
       "    </tr>\n",
       "    <tr>\n",
       "      <th>4</th>\n",
       "      <td>17.0</td>\n",
       "      <td>8</td>\n",
       "      <td>302.0</td>\n",
       "      <td>140.0</td>\n",
       "      <td>3449.0</td>\n",
       "      <td>10.5</td>\n",
       "      <td>70</td>\n",
       "      <td>1</td>\n",
       "      <td>ford torino</td>\n",
       "    </tr>\n",
       "  </tbody>\n",
       "</table>\n",
       "</div>"
      ],
      "text/plain": [
       "    mpg  cylinders  displacement horsepewer  weight  acceleration  model year  \\\n",
       "0  18.0          8         307.0      130.0  3504.0          12.0          70   \n",
       "1  15.0          8         350.0      165.0  3693.0          11.5          70   \n",
       "2  18.0          8         318.0      150.0  3436.0          11.0          70   \n",
       "3  16.0          8         304.0      150.0  3433.0          12.0          70   \n",
       "4  17.0          8         302.0      140.0  3449.0          10.5          70   \n",
       "\n",
       "   origin                       name  \n",
       "0       1  chevrolet chevelle malibu  \n",
       "1       1          buick skylark 320  \n",
       "2       1         plymouth satellite  \n",
       "3       1              amc rebel sst  \n",
       "4       1                ford torino  "
      ]
     },
     "execution_count": 7,
     "metadata": {},
     "output_type": "execute_result"
    }
   ],
   "source": [
    "df = pd.read_csv('data/auto-mpg.csv', header = None)\n",
    "df.columns = ['mpg', 'cylinders','displacement','horsepewer','weight', 'acceleration','model year','origin','name']\n",
    "\n",
    "df.head()"
   ]
  },
  {
   "cell_type": "markdown",
   "id": "trying-congo",
   "metadata": {},
   "source": [
    "`-` 데이터프레임 구조"
   ]
  },
  {
   "cell_type": "code",
   "execution_count": 9,
   "id": "brief-legislature",
   "metadata": {},
   "outputs": [
    {
     "name": "stdout",
     "output_type": "stream",
     "text": [
      "<class 'pandas.core.frame.DataFrame'>\n",
      "RangeIndex: 398 entries, 0 to 397\n",
      "Data columns (total 9 columns):\n",
      " #   Column        Non-Null Count  Dtype  \n",
      "---  ------        --------------  -----  \n",
      " 0   mpg           398 non-null    float64\n",
      " 1   cylinders     398 non-null    int64  \n",
      " 2   displacement  398 non-null    float64\n",
      " 3   horsepewer    398 non-null    object \n",
      " 4   weight        398 non-null    float64\n",
      " 5   acceleration  398 non-null    float64\n",
      " 6   model year    398 non-null    int64  \n",
      " 7   origin        398 non-null    int64  \n",
      " 8   name          398 non-null    object \n",
      "dtypes: float64(4), int64(3), object(2)\n",
      "memory usage: 28.1+ KB\n"
     ]
    }
   ],
   "source": [
    "df.info() #df의 내용 확인 / 정수형이야 하는데 object이다?  "
   ]
  },
  {
   "cell_type": "code",
   "execution_count": 14,
   "id": "optical-terminal",
   "metadata": {},
   "outputs": [
    {
     "data": {
      "text/html": [
       "<div>\n",
       "<style scoped>\n",
       "    .dataframe tbody tr th:only-of-type {\n",
       "        vertical-align: middle;\n",
       "    }\n",
       "\n",
       "    .dataframe tbody tr th {\n",
       "        vertical-align: top;\n",
       "    }\n",
       "\n",
       "    .dataframe thead th {\n",
       "        text-align: right;\n",
       "    }\n",
       "</style>\n",
       "<table border=\"1\" class=\"dataframe\">\n",
       "  <thead>\n",
       "    <tr style=\"text-align: right;\">\n",
       "      <th></th>\n",
       "      <th>mpg</th>\n",
       "      <th>cylinders</th>\n",
       "      <th>displacement</th>\n",
       "      <th>horsepewer</th>\n",
       "      <th>weight</th>\n",
       "      <th>acceleration</th>\n",
       "      <th>model year</th>\n",
       "      <th>origin</th>\n",
       "      <th>name</th>\n",
       "    </tr>\n",
       "  </thead>\n",
       "  <tbody>\n",
       "    <tr>\n",
       "      <th>count</th>\n",
       "      <td>398.000000</td>\n",
       "      <td>398.000000</td>\n",
       "      <td>398.000000</td>\n",
       "      <td>398</td>\n",
       "      <td>398.000000</td>\n",
       "      <td>398.000000</td>\n",
       "      <td>398.000000</td>\n",
       "      <td>398.000000</td>\n",
       "      <td>398</td>\n",
       "    </tr>\n",
       "    <tr>\n",
       "      <th>unique</th>\n",
       "      <td>NaN</td>\n",
       "      <td>NaN</td>\n",
       "      <td>NaN</td>\n",
       "      <td>94</td>\n",
       "      <td>NaN</td>\n",
       "      <td>NaN</td>\n",
       "      <td>NaN</td>\n",
       "      <td>NaN</td>\n",
       "      <td>305</td>\n",
       "    </tr>\n",
       "    <tr>\n",
       "      <th>top</th>\n",
       "      <td>NaN</td>\n",
       "      <td>NaN</td>\n",
       "      <td>NaN</td>\n",
       "      <td>150.0</td>\n",
       "      <td>NaN</td>\n",
       "      <td>NaN</td>\n",
       "      <td>NaN</td>\n",
       "      <td>NaN</td>\n",
       "      <td>ford pinto</td>\n",
       "    </tr>\n",
       "    <tr>\n",
       "      <th>freq</th>\n",
       "      <td>NaN</td>\n",
       "      <td>NaN</td>\n",
       "      <td>NaN</td>\n",
       "      <td>22</td>\n",
       "      <td>NaN</td>\n",
       "      <td>NaN</td>\n",
       "      <td>NaN</td>\n",
       "      <td>NaN</td>\n",
       "      <td>6</td>\n",
       "    </tr>\n",
       "    <tr>\n",
       "      <th>mean</th>\n",
       "      <td>23.514573</td>\n",
       "      <td>5.454774</td>\n",
       "      <td>193.425879</td>\n",
       "      <td>NaN</td>\n",
       "      <td>2970.424623</td>\n",
       "      <td>15.568090</td>\n",
       "      <td>76.010050</td>\n",
       "      <td>1.572864</td>\n",
       "      <td>NaN</td>\n",
       "    </tr>\n",
       "    <tr>\n",
       "      <th>std</th>\n",
       "      <td>7.815984</td>\n",
       "      <td>1.701004</td>\n",
       "      <td>104.269838</td>\n",
       "      <td>NaN</td>\n",
       "      <td>846.841774</td>\n",
       "      <td>2.757689</td>\n",
       "      <td>3.697627</td>\n",
       "      <td>0.802055</td>\n",
       "      <td>NaN</td>\n",
       "    </tr>\n",
       "    <tr>\n",
       "      <th>min</th>\n",
       "      <td>9.000000</td>\n",
       "      <td>3.000000</td>\n",
       "      <td>68.000000</td>\n",
       "      <td>NaN</td>\n",
       "      <td>1613.000000</td>\n",
       "      <td>8.000000</td>\n",
       "      <td>70.000000</td>\n",
       "      <td>1.000000</td>\n",
       "      <td>NaN</td>\n",
       "    </tr>\n",
       "    <tr>\n",
       "      <th>25%</th>\n",
       "      <td>17.500000</td>\n",
       "      <td>4.000000</td>\n",
       "      <td>104.250000</td>\n",
       "      <td>NaN</td>\n",
       "      <td>2223.750000</td>\n",
       "      <td>13.825000</td>\n",
       "      <td>73.000000</td>\n",
       "      <td>1.000000</td>\n",
       "      <td>NaN</td>\n",
       "    </tr>\n",
       "    <tr>\n",
       "      <th>50%</th>\n",
       "      <td>23.000000</td>\n",
       "      <td>4.000000</td>\n",
       "      <td>148.500000</td>\n",
       "      <td>NaN</td>\n",
       "      <td>2803.500000</td>\n",
       "      <td>15.500000</td>\n",
       "      <td>76.000000</td>\n",
       "      <td>1.000000</td>\n",
       "      <td>NaN</td>\n",
       "    </tr>\n",
       "    <tr>\n",
       "      <th>75%</th>\n",
       "      <td>29.000000</td>\n",
       "      <td>8.000000</td>\n",
       "      <td>262.000000</td>\n",
       "      <td>NaN</td>\n",
       "      <td>3608.000000</td>\n",
       "      <td>17.175000</td>\n",
       "      <td>79.000000</td>\n",
       "      <td>2.000000</td>\n",
       "      <td>NaN</td>\n",
       "    </tr>\n",
       "    <tr>\n",
       "      <th>max</th>\n",
       "      <td>46.600000</td>\n",
       "      <td>8.000000</td>\n",
       "      <td>455.000000</td>\n",
       "      <td>NaN</td>\n",
       "      <td>5140.000000</td>\n",
       "      <td>24.800000</td>\n",
       "      <td>82.000000</td>\n",
       "      <td>3.000000</td>\n",
       "      <td>NaN</td>\n",
       "    </tr>\n",
       "  </tbody>\n",
       "</table>\n",
       "</div>"
      ],
      "text/plain": [
       "               mpg   cylinders  displacement horsepewer       weight  \\\n",
       "count   398.000000  398.000000    398.000000        398   398.000000   \n",
       "unique         NaN         NaN           NaN         94          NaN   \n",
       "top            NaN         NaN           NaN      150.0          NaN   \n",
       "freq           NaN         NaN           NaN         22          NaN   \n",
       "mean     23.514573    5.454774    193.425879        NaN  2970.424623   \n",
       "std       7.815984    1.701004    104.269838        NaN   846.841774   \n",
       "min       9.000000    3.000000     68.000000        NaN  1613.000000   \n",
       "25%      17.500000    4.000000    104.250000        NaN  2223.750000   \n",
       "50%      23.000000    4.000000    148.500000        NaN  2803.500000   \n",
       "75%      29.000000    8.000000    262.000000        NaN  3608.000000   \n",
       "max      46.600000    8.000000    455.000000        NaN  5140.000000   \n",
       "\n",
       "        acceleration  model year      origin        name  \n",
       "count     398.000000  398.000000  398.000000         398  \n",
       "unique           NaN         NaN         NaN         305  \n",
       "top              NaN         NaN         NaN  ford pinto  \n",
       "freq             NaN         NaN         NaN           6  \n",
       "mean       15.568090   76.010050    1.572864         NaN  \n",
       "std         2.757689    3.697627    0.802055         NaN  \n",
       "min         8.000000   70.000000    1.000000         NaN  \n",
       "25%        13.825000   73.000000    1.000000         NaN  \n",
       "50%        15.500000   76.000000    1.000000         NaN  \n",
       "75%        17.175000   79.000000    2.000000         NaN  \n",
       "max        24.800000   82.000000    3.000000         NaN  "
      ]
     },
     "execution_count": 14,
     "metadata": {},
     "output_type": "execute_result"
    }
   ],
   "source": [
    "df.describe() # df의 기술통계 정보 확인 \n",
    "df.describe(include = 'all') # 칼럼이 너무 많으면 생략 될 수도 있음 그럴때 억지로라도 다 나오게 하는것"
   ]
  },
  {
   "cell_type": "code",
   "execution_count": 16,
   "id": "endangered-print",
   "metadata": {},
   "outputs": [
    {
     "name": "stdout",
     "output_type": "stream",
     "text": [
      "mpg             398\n",
      "cylinders       398\n",
      "displacement    398\n",
      "horsepewer      398\n",
      "weight          398\n",
      "acceleration    398\n",
      "model year      398\n",
      "origin          398\n",
      "name            398\n",
      "dtype: int64\n",
      "1    249\n",
      "3     79\n",
      "2     70\n",
      "Name: origin, dtype: int64\n"
     ]
    }
   ],
   "source": [
    "print(df.count()) # df 각 열의 개수 확인\n",
    "print(df.origin.value_counts()) # df의 특정열의 고유값을 확인"
   ]
  },
  {
   "cell_type": "code",
   "execution_count": 18,
   "id": "fuzzy-learning",
   "metadata": {},
   "outputs": [
    {
     "data": {
      "text/plain": [
       "model year      76.010050\n",
       "weight        2970.424623\n",
       "dtype: float64"
      ]
     },
     "execution_count": 18,
     "metadata": {},
     "output_type": "execute_result"
    }
   ],
   "source": [
    "df[['model year', 'weight']].mean()"
   ]
  },
  {
   "cell_type": "markdown",
   "id": "compound-freight",
   "metadata": {},
   "source": [
    "`-` 데이터 그룹화 하기!"
   ]
  },
  {
   "cell_type": "code",
   "execution_count": 48,
   "id": "worthy-semester",
   "metadata": {},
   "outputs": [],
   "source": [
    "df_groupby = df.groupby(by = ['origin']) # by = 열이름 / 해당 열의 고유값들 끼리 묶는 작업"
   ]
  },
  {
   "cell_type": "code",
   "execution_count": 50,
   "id": "domestic-knock",
   "metadata": {
    "tags": []
   },
   "outputs": [
    {
     "name": "stdout",
     "output_type": "stream",
     "text": [
      "1 origin : 249\n",
      "      mpg  cylinders  displacement horsepewer  weight  acceleration  \\\n",
      "0    18.0          8         307.0      130.0  3504.0          12.0   \n",
      "1    15.0          8         350.0      165.0  3693.0          11.5   \n",
      "2    18.0          8         318.0      150.0  3436.0          11.0   \n",
      "3    16.0          8         304.0      150.0  3433.0          12.0   \n",
      "4    17.0          8         302.0      140.0  3449.0          10.5   \n",
      "..    ...        ...           ...        ...     ...           ...   \n",
      "392  27.0          4         151.0      90.00  2950.0          17.3   \n",
      "393  27.0          4         140.0      86.00  2790.0          15.6   \n",
      "395  32.0          4         135.0      84.00  2295.0          11.6   \n",
      "396  28.0          4         120.0      79.00  2625.0          18.6   \n",
      "397  31.0          4         119.0      82.00  2720.0          19.4   \n",
      "\n",
      "     model year  origin                       name  \n",
      "0            70       1  chevrolet chevelle malibu  \n",
      "1            70       1          buick skylark 320  \n",
      "2            70       1         plymouth satellite  \n",
      "3            70       1              amc rebel sst  \n",
      "4            70       1                ford torino  \n",
      "..          ...     ...                        ...  \n",
      "392          82       1           chevrolet camaro  \n",
      "393          82       1            ford mustang gl  \n",
      "395          82       1              dodge rampage  \n",
      "396          82       1                ford ranger  \n",
      "397          82       1                 chevy s-10  \n",
      "\n",
      "[249 rows x 9 columns]\n",
      "\n",
      "\n",
      "2 origin : 70\n",
      "      mpg  cylinders  displacement horsepewer  weight  acceleration  \\\n",
      "19   26.0          4          97.0      46.00  1835.0          20.5   \n",
      "20   25.0          4         110.0      87.00  2672.0          17.5   \n",
      "21   24.0          4         107.0      90.00  2430.0          14.5   \n",
      "22   25.0          4         104.0      95.00  2375.0          17.5   \n",
      "23   26.0          4         121.0      113.0  2234.0          12.5   \n",
      "..    ...        ...           ...        ...     ...           ...   \n",
      "354  34.5          4         100.0          ?  2320.0          15.8   \n",
      "359  28.1          4         141.0      80.00  3230.0          20.4   \n",
      "360  30.7          6         145.0      76.00  3160.0          19.6   \n",
      "375  36.0          4         105.0      74.00  1980.0          15.3   \n",
      "394  44.0          4          97.0      52.00  2130.0          24.6   \n",
      "\n",
      "     model year  origin                          name  \n",
      "19           70       2  volkswagen 1131 deluxe sedan  \n",
      "20           70       2                   peugeot 504  \n",
      "21           70       2                   audi 100 ls  \n",
      "22           70       2                      saab 99e  \n",
      "23           70       2                      bmw 2002  \n",
      "..          ...     ...                           ...  \n",
      "354          81       2                   renault 18i  \n",
      "359          81       2     peugeot 505s turbo diesel  \n",
      "360          81       2                  volvo diesel  \n",
      "375          82       2           volkswagen rabbit l  \n",
      "394          82       2                     vw pickup  \n",
      "\n",
      "[70 rows x 9 columns]\n",
      "\n",
      "\n",
      "3 origin : 79\n",
      "      mpg  cylinders  displacement horsepewer  weight  acceleration  \\\n",
      "14   24.0          4         113.0      95.00  2372.0          15.0   \n",
      "18   27.0          4          97.0      88.00  2130.0          14.5   \n",
      "29   27.0          4          97.0      88.00  2130.0          14.5   \n",
      "31   25.0          4         113.0      95.00  2228.0          14.0   \n",
      "53   31.0          4          71.0      65.00  1773.0          19.0   \n",
      "..    ...        ...           ...        ...     ...           ...   \n",
      "382  34.0          4         108.0      70.00  2245.0          16.9   \n",
      "383  38.0          4          91.0      67.00  1965.0          15.0   \n",
      "384  32.0          4          91.0      67.00  1965.0          15.7   \n",
      "385  38.0          4          91.0      67.00  1995.0          16.2   \n",
      "390  32.0          4         144.0      96.00  2665.0          13.9   \n",
      "\n",
      "     model year  origin                   name  \n",
      "14           70       3  toyota corona mark ii  \n",
      "18           70       3           datsun pl510  \n",
      "29           71       3           datsun pl510  \n",
      "31           71       3          toyota corona  \n",
      "53           71       3    toyota corolla 1200  \n",
      "..          ...     ...                    ...  \n",
      "382          82       3         toyota corolla  \n",
      "383          82       3            honda civic  \n",
      "384          82       3     honda civic (auto)  \n",
      "385          82       3          datsun 310 gx  \n",
      "390          82       3       toyota celica gt  \n",
      "\n",
      "[79 rows x 9 columns]\n",
      "\n",
      "\n"
     ]
    }
   ],
   "source": [
    "df_groupby.groups # 그렇게 모은 것들을 그룹별로 출력하는것 \n",
    "\n",
    "for origin, group in df_groupby: #그룹별로 출력한 것 형태가 흡사 딕셔너리였다. 키와 값(행인덱스)\n",
    "    print(origin, 'origin :' , len(group)) # 이걸 나누어서 출력을 하는데 신기하게도 분리된 값은 따로 출력하면 전체 df가 나온다. \n",
    "    print(group)\n",
    "    print('\\n')"
   ]
  },
  {
   "cell_type": "code",
   "execution_count": 51,
   "id": "selected-prague",
   "metadata": {
    "tags": []
   },
   "outputs": [
    {
     "data": {
      "text/html": [
       "<div>\n",
       "<style scoped>\n",
       "    .dataframe tbody tr th:only-of-type {\n",
       "        vertical-align: middle;\n",
       "    }\n",
       "\n",
       "    .dataframe tbody tr th {\n",
       "        vertical-align: top;\n",
       "    }\n",
       "\n",
       "    .dataframe thead th {\n",
       "        text-align: right;\n",
       "    }\n",
       "</style>\n",
       "<table border=\"1\" class=\"dataframe\">\n",
       "  <thead>\n",
       "    <tr style=\"text-align: right;\">\n",
       "      <th></th>\n",
       "      <th>mpg</th>\n",
       "      <th>cylinders</th>\n",
       "      <th>displacement</th>\n",
       "      <th>horsepewer</th>\n",
       "      <th>weight</th>\n",
       "      <th>acceleration</th>\n",
       "      <th>model year</th>\n",
       "      <th>name</th>\n",
       "    </tr>\n",
       "    <tr>\n",
       "      <th>origin</th>\n",
       "      <th></th>\n",
       "      <th></th>\n",
       "      <th></th>\n",
       "      <th></th>\n",
       "      <th></th>\n",
       "      <th></th>\n",
       "      <th></th>\n",
       "      <th></th>\n",
       "    </tr>\n",
       "  </thead>\n",
       "  <tbody>\n",
       "    <tr>\n",
       "      <th>1</th>\n",
       "      <td>249</td>\n",
       "      <td>249</td>\n",
       "      <td>249</td>\n",
       "      <td>249</td>\n",
       "      <td>249</td>\n",
       "      <td>249</td>\n",
       "      <td>249</td>\n",
       "      <td>249</td>\n",
       "    </tr>\n",
       "    <tr>\n",
       "      <th>2</th>\n",
       "      <td>70</td>\n",
       "      <td>70</td>\n",
       "      <td>70</td>\n",
       "      <td>70</td>\n",
       "      <td>70</td>\n",
       "      <td>70</td>\n",
       "      <td>70</td>\n",
       "      <td>70</td>\n",
       "    </tr>\n",
       "    <tr>\n",
       "      <th>3</th>\n",
       "      <td>79</td>\n",
       "      <td>79</td>\n",
       "      <td>79</td>\n",
       "      <td>79</td>\n",
       "      <td>79</td>\n",
       "      <td>79</td>\n",
       "      <td>79</td>\n",
       "      <td>79</td>\n",
       "    </tr>\n",
       "  </tbody>\n",
       "</table>\n",
       "</div>"
      ],
      "text/plain": [
       "        mpg  cylinders  displacement  horsepewer  weight  acceleration  \\\n",
       "origin                                                                   \n",
       "1       249        249           249         249     249           249   \n",
       "2        70         70            70          70      70            70   \n",
       "3        79         79            79          79      79            79   \n",
       "\n",
       "        model year  name  \n",
       "origin                    \n",
       "1              249   249  \n",
       "2               70    70  \n",
       "3               79    79  "
      ]
     },
     "execution_count": 51,
     "metadata": {},
     "output_type": "execute_result"
    }
   ],
   "source": [
    "df.groupby(by=['origin']).count() #그룹별로 모아서 고유값의 개수 알기"
   ]
  },
  {
   "cell_type": "code",
   "execution_count": 52,
   "id": "final-graham",
   "metadata": {},
   "outputs": [
    {
     "data": {
      "text/html": [
       "<div>\n",
       "<style scoped>\n",
       "    .dataframe tbody tr th:only-of-type {\n",
       "        vertical-align: middle;\n",
       "    }\n",
       "\n",
       "    .dataframe tbody tr th {\n",
       "        vertical-align: top;\n",
       "    }\n",
       "\n",
       "    .dataframe thead th {\n",
       "        text-align: right;\n",
       "    }\n",
       "</style>\n",
       "<table border=\"1\" class=\"dataframe\">\n",
       "  <thead>\n",
       "    <tr style=\"text-align: right;\">\n",
       "      <th></th>\n",
       "      <th>mpg</th>\n",
       "      <th>cylinders</th>\n",
       "      <th>displacement</th>\n",
       "      <th>weight</th>\n",
       "      <th>acceleration</th>\n",
       "      <th>model year</th>\n",
       "    </tr>\n",
       "    <tr>\n",
       "      <th>origin</th>\n",
       "      <th></th>\n",
       "      <th></th>\n",
       "      <th></th>\n",
       "      <th></th>\n",
       "      <th></th>\n",
       "      <th></th>\n",
       "    </tr>\n",
       "  </thead>\n",
       "  <tbody>\n",
       "    <tr>\n",
       "      <th>1</th>\n",
       "      <td>20.083534</td>\n",
       "      <td>6.248996</td>\n",
       "      <td>245.901606</td>\n",
       "      <td>3361.931727</td>\n",
       "      <td>15.033735</td>\n",
       "      <td>75.610442</td>\n",
       "    </tr>\n",
       "    <tr>\n",
       "      <th>2</th>\n",
       "      <td>27.891429</td>\n",
       "      <td>4.157143</td>\n",
       "      <td>109.142857</td>\n",
       "      <td>2423.300000</td>\n",
       "      <td>16.787143</td>\n",
       "      <td>75.814286</td>\n",
       "    </tr>\n",
       "    <tr>\n",
       "      <th>3</th>\n",
       "      <td>30.450633</td>\n",
       "      <td>4.101266</td>\n",
       "      <td>102.708861</td>\n",
       "      <td>2221.227848</td>\n",
       "      <td>16.172152</td>\n",
       "      <td>77.443038</td>\n",
       "    </tr>\n",
       "  </tbody>\n",
       "</table>\n",
       "</div>"
      ],
      "text/plain": [
       "              mpg  cylinders  displacement       weight  acceleration  \\\n",
       "origin                                                                  \n",
       "1       20.083534   6.248996    245.901606  3361.931727     15.033735   \n",
       "2       27.891429   4.157143    109.142857  2423.300000     16.787143   \n",
       "3       30.450633   4.101266    102.708861  2221.227848     16.172152   \n",
       "\n",
       "        model year  \n",
       "origin              \n",
       "1        75.610442  \n",
       "2        75.814286  \n",
       "3        77.443038  "
      ]
     },
     "execution_count": 52,
     "metadata": {},
     "output_type": "execute_result"
    }
   ],
   "source": [
    "df.groupby(by=['origin']).mean() # 그룹으로 모은 뒤 각 열들의 대표값 구하기"
   ]
  },
  {
   "cell_type": "markdown",
   "id": "creative-patent",
   "metadata": {},
   "source": [
    "`-` 데이터프레임 합치기 "
   ]
  },
  {
   "cell_type": "code",
   "execution_count": 6,
   "id": "functional-nigeria",
   "metadata": {},
   "outputs": [
    {
     "name": "stdout",
     "output_type": "stream",
     "text": [
      "   name        job\n",
      "0  John    teacher\n",
      "1  Nate    student\n",
      "2  Fred  developer\n",
      "   name       major\n",
      "0    Ed  mathmatics\n",
      "1  Nate    computer\n",
      "2   Ted     science\n"
     ]
    }
   ],
   "source": [
    "# 데이터프레임 만들기 \n",
    "\n",
    "l1 = [{'name': 'John', 'job': \"teacher\"},\n",
    "    {'name': 'Nate', 'job': \"student\"},\n",
    "    {'name': 'Fred', 'job': \"developer\"}]\n",
    "\n",
    "l2 = [{'name': 'Ed', 'major': \"mathmatics\"},\n",
    "    {'name': 'Nate', 'major': \"computer\"},\n",
    "    {'name': 'Ted', 'major': \"science\"}]\n",
    "\n",
    "df1 = pd.DataFrame(l1, columns = ['name', 'job'])\n",
    "df2 = pd.DataFrame(l2, columns = ['name', 'major'])\n",
    "\n",
    "print(df1)\n",
    "print(df2)"
   ]
  },
  {
   "cell_type": "code",
   "execution_count": 7,
   "id": "happy-withdrawal",
   "metadata": {},
   "outputs": [
    {
     "name": "stdout",
     "output_type": "stream",
     "text": [
      "   name        job       major\n",
      "0  John    teacher         NaN\n",
      "1  Nate    student         NaN\n",
      "2  Fred  developer         NaN\n",
      "3    Ed        NaN  mathmatics\n",
      "4  Nate        NaN    computer\n",
      "5   Ted        NaN     science\n"
     ]
    }
   ],
   "source": [
    "result = df1.append(df2, ignore_index = True) # df1 끝에 df2 붙이기 (리스트 append랑 비슷하다고 보면 돼) / ignort_index = True 쓰면 인덱스 안꼬임\n",
    "print(result) "
   ]
  },
  {
   "cell_type": "code",
   "execution_count": 8,
   "id": "perceived-cycle",
   "metadata": {},
   "outputs": [
    {
     "name": "stdout",
     "output_type": "stream",
     "text": [
      "   name        job  name       major\n",
      "0  John    teacher    Ed  mathmatics\n",
      "1  Nate    student  Nate    computer\n",
      "2  Fred  developer   Ted     science\n"
     ]
    }
   ],
   "source": [
    "result = pd.concat([df1,df2], axis=1) #concat함수는 axis로 행/열 붙이기를 조절 가능 \n",
    "print(result)"
   ]
  },
  {
   "cell_type": "code",
   "execution_count": 11,
   "id": "provincial-discharge",
   "metadata": {},
   "outputs": [
    {
     "name": "stdout",
     "output_type": "stream",
     "text": [
      "   name      job     major\n",
      "0  Nate  student  computer \n",
      "\n",
      "   name        job       major\n",
      "0  John    teacher         NaN\n",
      "1  Nate    student    computer\n",
      "2  Fred  developer         NaN\n",
      "3    Ed        NaN  mathmatics\n",
      "4   Ted        NaN     science\n"
     ]
    }
   ],
   "source": [
    "# merge() 두 데이터프레임을 지정한 열의 각 고유값을 기준으로 병합한다. \n",
    "\n",
    "merge_inner = pd.merge(df1,df2) #NaN 값이 없도록 고유값들이 충족 된것만 추출\n",
    "print(merge_inner, '\\n')\n",
    "\n",
    "merge_outer = pd.merge(df1,df2, how= 'outer', on = 'name') # name 열의 고유값을 기준으로 모으기! \n",
    "print(merge_outer)"
   ]
  }
 ],
 "metadata": {
  "kernelspec": {
   "display_name": "Python 3",
   "language": "python",
   "name": "python3"
  },
  "language_info": {
   "codemirror_mode": {
    "name": "ipython",
    "version": 3
   },
   "file_extension": ".py",
   "mimetype": "text/x-python",
   "name": "python",
   "nbconvert_exporter": "python",
   "pygments_lexer": "ipython3",
   "version": "3.8.8"
  }
 },
 "nbformat": 4,
 "nbformat_minor": 5
}
